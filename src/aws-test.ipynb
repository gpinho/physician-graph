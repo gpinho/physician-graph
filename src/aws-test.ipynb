{
 "cells": [
  {
   "cell_type": "code",
   "execution_count": 1,
   "metadata": {},
   "outputs": [],
   "source": [
    "import boto3"
   ]
  },
  {
   "cell_type": "code",
   "execution_count": 2,
   "metadata": {},
   "outputs": [],
   "source": [
    "s3 = boto3.resource('s3')"
   ]
  },
  {
   "cell_type": "code",
   "execution_count": 9,
   "metadata": {},
   "outputs": [
    {
     "name": "stdout",
     "output_type": "stream",
     "text": [
      "bucket:  s3.Bucket(name='aws-logs-389584840861-us-west-1')\n",
      "bucket:  s3.Bucket(name='g65ds')\n",
      "bucket:  s3.Bucket(name='healthcare-dataset')\n"
     ]
    }
   ],
   "source": [
    "for bucket in s3.buckets.all():\n",
    "    print('bucket: ', bucket)"
   ]
  },
  {
   "cell_type": "code",
   "execution_count": 14,
   "metadata": {},
   "outputs": [
    {
     "name": "stdout",
     "output_type": "stream",
     "text": [
      ">> object:  s3.ObjectSummary(bucket_name='healthcare-dataset', key='provider-npi/')\n",
      ">> object:  s3.ObjectSummary(bucket_name='healthcare-dataset', key='provider-npi/NPPES Data Dissemination_Public File - Code Values.pdf')\n",
      ">> object:  s3.ObjectSummary(bucket_name='healthcare-dataset', key='provider-npi/NPPES Data Dissemination_Public File- Readme.pdf')\n",
      ">> object:  s3.ObjectSummary(bucket_name='healthcare-dataset', key='provider-npi/NPPES_Data_Dissemination_April_2018.zip')\n",
      ">> object:  s3.ObjectSummary(bucket_name='healthcare-dataset', key='provider-npi/npidata_pfile_20050523-20180408.csv')\n",
      ">> object:  s3.ObjectSummary(bucket_name='healthcare-dataset', key='provider-npi/npidata_pfile_20050523-20180408_FileHeader.csv')\n",
      ">> object:  s3.ObjectSummary(bucket_name='healthcare-dataset', key='provider-referral/')\n",
      ">> object:  s3.ObjectSummary(bucket_name='healthcare-dataset', key='provider-referral/physician-shared-patient-patterns-2014-days180-sample.txt')\n",
      ">> object:  s3.ObjectSummary(bucket_name='healthcare-dataset', key='provider-referral/physician-shared-patient-patterns-2014-days180.txt')\n",
      ">> object:  s3.ObjectSummary(bucket_name='healthcare-dataset', key='provider-referral/physician-shared-patient-patterns-2014-days180.zip')\n",
      ">> object:  s3.ObjectSummary(bucket_name='healthcare-dataset', key='provider-referral/physician-shared-patient-patterns-2014-days180_FileHeader.csv')\n",
      ">> object:  s3.ObjectSummary(bucket_name='healthcare-dataset', key='provider-taxonomy/')\n",
      ">> object:  s3.ObjectSummary(bucket_name='healthcare-dataset', key='provider-taxonomy/nucc_taxonomy_180.csv')\n"
     ]
    }
   ],
   "source": [
    "for obj in s3.Bucket('healthcare-dataset').objects.all():\n",
    "    print('>> object: ', obj)"
   ]
  },
  {
   "cell_type": "code",
   "execution_count": null,
   "metadata": {},
   "outputs": [],
   "source": []
  }
 ],
 "metadata": {
  "kernelspec": {
   "display_name": "Python 3",
   "language": "python",
   "name": "python3"
  },
  "language_info": {
   "codemirror_mode": {
    "name": "ipython",
    "version": 3
   },
   "file_extension": ".py",
   "mimetype": "text/x-python",
   "name": "python",
   "nbconvert_exporter": "python",
   "pygments_lexer": "ipython3",
   "version": "3.6.4"
  }
 },
 "nbformat": 4,
 "nbformat_minor": 2
}
