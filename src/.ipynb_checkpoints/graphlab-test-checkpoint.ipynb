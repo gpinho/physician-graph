{
 "cells": [
  {
   "cell_type": "code",
   "execution_count": 1,
   "metadata": {},
   "outputs": [],
   "source": [
    "import pandas as pd\n",
    "import numpy as np\n",
    "import graphlab as gl"
   ]
  },
  {
   "cell_type": "code",
   "execution_count": 2,
   "metadata": {},
   "outputs": [
    {
     "name": "stdout",
     "output_type": "stream",
     "text": [
      "This non-commercial license of GraphLab Create for academic use is assigned to gpinho@gmail.com and will expire on April 26, 2019.\n"
     ]
    },
    {
     "name": "stderr",
     "output_type": "stream",
     "text": [
      "[INFO] graphlab.cython.cy_server: GraphLab Create v2.1 started. Logging: /tmp/graphlab_server_1524863667.log\n"
     ]
    }
   ],
   "source": [
    "edge_df = pd.read_csv('../data/referral/physician-shared-patient-patterns-2014-days180.txt', usecols=[0,1,3], dtype={'0': str, '1': str}, header=None)\n",
    "edge_sf = gl.SFrame(edge_df)"
   ]
  },
  {
   "cell_type": "code",
   "execution_count": 3,
   "metadata": {},
   "outputs": [
    {
     "data": {
      "text/html": [
       "<div>\n",
       "<style scoped>\n",
       "    .dataframe tbody tr th:only-of-type {\n",
       "        vertical-align: middle;\n",
       "    }\n",
       "\n",
       "    .dataframe tbody tr th {\n",
       "        vertical-align: top;\n",
       "    }\n",
       "\n",
       "    .dataframe thead th {\n",
       "        text-align: right;\n",
       "    }\n",
       "</style>\n",
       "<table border=\"1\" class=\"dataframe\">\n",
       "  <thead>\n",
       "    <tr style=\"text-align: right;\">\n",
       "      <th></th>\n",
       "      <th>0</th>\n",
       "      <th>1</th>\n",
       "      <th>3</th>\n",
       "    </tr>\n",
       "  </thead>\n",
       "  <tbody>\n",
       "    <tr>\n",
       "      <th>0</th>\n",
       "      <td>1000000004</td>\n",
       "      <td>1548295421</td>\n",
       "      <td>17</td>\n",
       "    </tr>\n",
       "    <tr>\n",
       "      <th>1</th>\n",
       "      <td>1000000004</td>\n",
       "      <td>1790775229</td>\n",
       "      <td>27</td>\n",
       "    </tr>\n",
       "    <tr>\n",
       "      <th>2</th>\n",
       "      <td>1000000004</td>\n",
       "      <td>1972546315</td>\n",
       "      <td>14</td>\n",
       "    </tr>\n",
       "    <tr>\n",
       "      <th>3</th>\n",
       "      <td>1000026017</td>\n",
       "      <td>1598773715</td>\n",
       "      <td>31</td>\n",
       "    </tr>\n",
       "    <tr>\n",
       "      <th>4</th>\n",
       "      <td>1000310429</td>\n",
       "      <td>1144645573</td>\n",
       "      <td>16</td>\n",
       "    </tr>\n",
       "  </tbody>\n",
       "</table>\n",
       "</div>"
      ],
      "text/plain": [
       "            0           1   3\n",
       "0  1000000004  1548295421  17\n",
       "1  1000000004  1790775229  27\n",
       "2  1000000004  1972546315  14\n",
       "3  1000026017  1598773715  31\n",
       "4  1000310429  1144645573  16"
      ]
     },
     "execution_count": 3,
     "metadata": {},
     "output_type": "execute_result"
    }
   ],
   "source": [
    "edge_df.head()"
   ]
  },
  {
   "cell_type": "code",
   "execution_count": 4,
   "metadata": {},
   "outputs": [
    {
     "data": {
      "text/html": [
       "<pre>Recsys training: model = ranking_factorization_recommender</pre>"
      ],
      "text/plain": [
       "Recsys training: model = ranking_factorization_recommender"
      ]
     },
     "metadata": {},
     "output_type": "display_data"
    },
    {
     "data": {
      "text/html": [
       "<pre>Preparing data set.</pre>"
      ],
      "text/plain": [
       "Preparing data set."
      ]
     },
     "metadata": {},
     "output_type": "display_data"
    },
    {
     "data": {
      "text/html": [
       "<pre>    Data has 138614191 observations with 1118263 users and 1124410 items.</pre>"
      ],
      "text/plain": [
       "    Data has 138614191 observations with 1118263 users and 1124410 items."
      ]
     },
     "metadata": {},
     "output_type": "display_data"
    },
    {
     "data": {
      "text/html": [
       "<pre>    Data prepared in: 116.199s</pre>"
      ],
      "text/plain": [
       "    Data prepared in: 116.199s"
      ]
     },
     "metadata": {},
     "output_type": "display_data"
    },
    {
     "data": {
      "text/html": [
       "<pre>Training ranking_factorization_recommender for recommendations.</pre>"
      ],
      "text/plain": [
       "Training ranking_factorization_recommender for recommendations."
      ]
     },
     "metadata": {},
     "output_type": "display_data"
    },
    {
     "data": {
      "text/html": [
       "<pre>+--------------------------------+--------------------------------------------------+----------+</pre>"
      ],
      "text/plain": [
       "+--------------------------------+--------------------------------------------------+----------+"
      ]
     },
     "metadata": {},
     "output_type": "display_data"
    },
    {
     "data": {
      "text/html": [
       "<pre>| Parameter                      | Description                                      | Value    |</pre>"
      ],
      "text/plain": [
       "| Parameter                      | Description                                      | Value    |"
      ]
     },
     "metadata": {},
     "output_type": "display_data"
    },
    {
     "data": {
      "text/html": [
       "<pre>+--------------------------------+--------------------------------------------------+----------+</pre>"
      ],
      "text/plain": [
       "+--------------------------------+--------------------------------------------------+----------+"
      ]
     },
     "metadata": {},
     "output_type": "display_data"
    },
    {
     "data": {
      "text/html": [
       "<pre>| num_factors                    | Factor Dimension                                 | 32       |</pre>"
      ],
      "text/plain": [
       "| num_factors                    | Factor Dimension                                 | 32       |"
      ]
     },
     "metadata": {},
     "output_type": "display_data"
    },
    {
     "data": {
      "text/html": [
       "<pre>| regularization                 | L2 Regularization on Factors                     | 1e-09    |</pre>"
      ],
      "text/plain": [
       "| regularization                 | L2 Regularization on Factors                     | 1e-09    |"
      ]
     },
     "metadata": {},
     "output_type": "display_data"
    },
    {
     "data": {
      "text/html": [
       "<pre>| solver                         | Solver used for training                         | sgd      |</pre>"
      ],
      "text/plain": [
       "| solver                         | Solver used for training                         | sgd      |"
      ]
     },
     "metadata": {},
     "output_type": "display_data"
    },
    {
     "data": {
      "text/html": [
       "<pre>| linear_regularization          | L2 Regularization on Linear Coefficients         | 1e-09    |</pre>"
      ],
      "text/plain": [
       "| linear_regularization          | L2 Regularization on Linear Coefficients         | 1e-09    |"
      ]
     },
     "metadata": {},
     "output_type": "display_data"
    },
    {
     "data": {
      "text/html": [
       "<pre>| ranking_regularization         | Rank-based Regularization Weight                 | 0.25     |</pre>"
      ],
      "text/plain": [
       "| ranking_regularization         | Rank-based Regularization Weight                 | 0.25     |"
      ]
     },
     "metadata": {},
     "output_type": "display_data"
    },
    {
     "data": {
      "text/html": [
       "<pre>| max_iterations                 | Maximum Number of Iterations                     | 25       |</pre>"
      ],
      "text/plain": [
       "| max_iterations                 | Maximum Number of Iterations                     | 25       |"
      ]
     },
     "metadata": {},
     "output_type": "display_data"
    },
    {
     "data": {
      "text/html": [
       "<pre>+--------------------------------+--------------------------------------------------+----------+</pre>"
      ],
      "text/plain": [
       "+--------------------------------+--------------------------------------------------+----------+"
      ]
     },
     "metadata": {},
     "output_type": "display_data"
    },
    {
     "data": {
      "text/html": [
       "<pre>  Optimizing model using SGD; tuning step size.</pre>"
      ],
      "text/plain": [
       "  Optimizing model using SGD; tuning step size."
      ]
     },
     "metadata": {},
     "output_type": "display_data"
    },
    {
     "data": {
      "text/html": [
       "<pre>  Using 17326773 / 138614191 points for tuning the step size.</pre>"
      ],
      "text/plain": [
       "  Using 17326773 / 138614191 points for tuning the step size."
      ]
     },
     "metadata": {},
     "output_type": "display_data"
    },
    {
     "data": {
      "text/html": [
       "<pre>+---------+-------------------+------------------------------------------+</pre>"
      ],
      "text/plain": [
       "+---------+-------------------+------------------------------------------+"
      ]
     },
     "metadata": {},
     "output_type": "display_data"
    },
    {
     "data": {
      "text/html": [
       "<pre>| Attempt | Initial Step Size | Estimated Objective Value                |</pre>"
      ],
      "text/plain": [
       "| Attempt | Initial Step Size | Estimated Objective Value                |"
      ]
     },
     "metadata": {},
     "output_type": "display_data"
    },
    {
     "data": {
      "text/html": [
       "<pre>+---------+-------------------+------------------------------------------+</pre>"
      ],
      "text/plain": [
       "+---------+-------------------+------------------------------------------+"
      ]
     },
     "metadata": {},
     "output_type": "display_data"
    },
    {
     "data": {
      "text/html": [
       "<pre>| 0       | 25                | No Decrease (52041.4 >= 26254.5)         |</pre>"
      ],
      "text/plain": [
       "| 0       | 25                | No Decrease (52041.4 >= 26254.5)         |"
      ]
     },
     "metadata": {},
     "output_type": "display_data"
    },
    {
     "data": {
      "text/html": [
       "<pre>| 1       | 6.25              | No Decrease (52377.8 >= 26254.5)         |</pre>"
      ],
      "text/plain": [
       "| 1       | 6.25              | No Decrease (52377.8 >= 26254.5)         |"
      ]
     },
     "metadata": {},
     "output_type": "display_data"
    },
    {
     "data": {
      "text/html": [
       "<pre>| 2       | 1.5625            | No Decrease (55212.6 >= 26254.5)         |</pre>"
      ],
      "text/plain": [
       "| 2       | 1.5625            | No Decrease (55212.6 >= 26254.5)         |"
      ]
     },
     "metadata": {},
     "output_type": "display_data"
    },
    {
     "data": {
      "text/html": [
       "<pre>| 3       | 0.390625          | No Decrease (54967 >= 26254.5)           |</pre>"
      ],
      "text/plain": [
       "| 3       | 0.390625          | No Decrease (54967 >= 26254.5)           |"
      ]
     },
     "metadata": {},
     "output_type": "display_data"
    },
    {
     "data": {
      "text/html": [
       "<pre>| 4       | 0.0976562         | No Decrease (50876.3 >= 26254.5)         |</pre>"
      ],
      "text/plain": [
       "| 4       | 0.0976562         | No Decrease (50876.3 >= 26254.5)         |"
      ]
     },
     "metadata": {},
     "output_type": "display_data"
    },
    {
     "data": {
      "text/html": [
       "<pre>| 5       | 0.0244141         | No Decrease (40913.3 >= 26254.5)         |</pre>"
      ],
      "text/plain": [
       "| 5       | 0.0244141         | No Decrease (40913.3 >= 26254.5)         |"
      ]
     },
     "metadata": {},
     "output_type": "display_data"
    },
    {
     "data": {
      "text/html": [
       "<pre>| 6       | 0.00610352        | No Decrease (38934.9 >= 26254.5)         |</pre>"
      ],
      "text/plain": [
       "| 6       | 0.00610352        | No Decrease (38934.9 >= 26254.5)         |"
      ]
     },
     "metadata": {},
     "output_type": "display_data"
    },
    {
     "data": {
      "text/html": [
       "<pre>| 7       | 0.00152588        | 14366                                    |</pre>"
      ],
      "text/plain": [
       "| 7       | 0.00152588        | 14366                                    |"
      ]
     },
     "metadata": {},
     "output_type": "display_data"
    },
    {
     "data": {
      "text/html": [
       "<pre>| 8       | 0.000762939       | 12918.5                                  |</pre>"
      ],
      "text/plain": [
       "| 8       | 0.000762939       | 12918.5                                  |"
      ]
     },
     "metadata": {},
     "output_type": "display_data"
    },
    {
     "data": {
      "text/html": [
       "<pre>| 9       | 0.00038147        | 17992.6                                  |</pre>"
      ],
      "text/plain": [
       "| 9       | 0.00038147        | 17992.6                                  |"
      ]
     },
     "metadata": {},
     "output_type": "display_data"
    },
    {
     "data": {
      "text/html": [
       "<pre>| 10      | 0.000190735       | 21953                                    |</pre>"
      ],
      "text/plain": [
       "| 10      | 0.000190735       | 21953                                    |"
      ]
     },
     "metadata": {},
     "output_type": "display_data"
    },
    {
     "data": {
      "text/html": [
       "<pre>| 11      | 9.53674e-05       | 24094.1                                  |</pre>"
      ],
      "text/plain": [
       "| 11      | 9.53674e-05       | 24094.1                                  |"
      ]
     },
     "metadata": {},
     "output_type": "display_data"
    },
    {
     "data": {
      "text/html": [
       "<pre>+---------+-------------------+------------------------------------------+</pre>"
      ],
      "text/plain": [
       "+---------+-------------------+------------------------------------------+"
      ]
     },
     "metadata": {},
     "output_type": "display_data"
    },
    {
     "data": {
      "text/html": [
       "<pre>| Final   | 0.000762939       | 12918.5                                  |</pre>"
      ],
      "text/plain": [
       "| Final   | 0.000762939       | 12918.5                                  |"
      ]
     },
     "metadata": {},
     "output_type": "display_data"
    },
    {
     "data": {
      "text/html": [
       "<pre>+---------+-------------------+------------------------------------------+</pre>"
      ],
      "text/plain": [
       "+---------+-------------------+------------------------------------------+"
      ]
     },
     "metadata": {},
     "output_type": "display_data"
    },
    {
     "data": {
      "text/html": [
       "<pre>Starting Optimization.</pre>"
      ],
      "text/plain": [
       "Starting Optimization."
      ]
     },
     "metadata": {},
     "output_type": "display_data"
    },
    {
     "data": {
      "text/html": [
       "<pre>+---------+--------------+-------------------+-----------------------+-------------+</pre>"
      ],
      "text/plain": [
       "+---------+--------------+-------------------+-----------------------+-------------+"
      ]
     },
     "metadata": {},
     "output_type": "display_data"
    },
    {
     "data": {
      "text/html": [
       "<pre>| Iter.   | Elapsed Time | Approx. Objective | Approx. Training RMSE | Step Size   |</pre>"
      ],
      "text/plain": [
       "| Iter.   | Elapsed Time | Approx. Objective | Approx. Training RMSE | Step Size   |"
      ]
     },
     "metadata": {},
     "output_type": "display_data"
    },
    {
     "data": {
      "text/html": [
       "<pre>+---------+--------------+-------------------+-----------------------+-------------+</pre>"
      ],
      "text/plain": [
       "+---------+--------------+-------------------+-----------------------+-------------+"
      ]
     },
     "metadata": {},
     "output_type": "display_data"
    },
    {
     "data": {
      "text/html": [
       "<pre>| Initial | 102us        | 25838.3           | 114.805               |             |</pre>"
      ],
      "text/plain": [
       "| Initial | 102us        | 25838.3           | 114.805               |             |"
      ]
     },
     "metadata": {},
     "output_type": "display_data"
    },
    {
     "data": {
      "text/html": [
       "<pre>+---------+--------------+-------------------+-----------------------+-------------+</pre>"
      ],
      "text/plain": [
       "+---------+--------------+-------------------+-----------------------+-------------+"
      ]
     },
     "metadata": {},
     "output_type": "display_data"
    },
    {
     "data": {
      "text/html": [
       "<pre>| 1       | 1m 55s       | 15671.9           | 111.069               | 0.000762939 |</pre>"
      ],
      "text/plain": [
       "| 1       | 1m 55s       | 15671.9           | 111.069               | 0.000762939 |"
      ]
     },
     "metadata": {},
     "output_type": "display_data"
    },
    {
     "data": {
      "text/html": [
       "<pre>| 2       | 3m 41s       | 20370.6           | 137.861               | 0.000453647 |</pre>"
      ],
      "text/plain": [
       "| 2       | 3m 41s       | 20370.6           | 137.861               | 0.000453647 |"
      ]
     },
     "metadata": {},
     "output_type": "display_data"
    },
    {
     "data": {
      "text/html": [
       "<pre>| 3       | 6m 19s       | DIVERGED          | DIVERGED              | 0.000334695 |</pre>"
      ],
      "text/plain": [
       "| 3       | 6m 19s       | DIVERGED          | DIVERGED              | 0.000334695 |"
      ]
     },
     "metadata": {},
     "output_type": "display_data"
    },
    {
     "data": {
      "text/html": [
       "<pre>| RESET   | 7m 18s       | 25838.3           | 114.805               |             |</pre>"
      ],
      "text/plain": [
       "| RESET   | 7m 18s       | 25838.3           | 114.805               |             |"
      ]
     },
     "metadata": {},
     "output_type": "display_data"
    },
    {
     "data": {
      "text/html": [
       "<pre>| 1       | 9m 16s       | 18718.2           | 98.8591               | 0.000167347 |</pre>"
      ],
      "text/plain": [
       "| 1       | 9m 16s       | 18718.2           | 98.8591               | 0.000167347 |"
      ]
     },
     "metadata": {},
     "output_type": "display_data"
    },
    {
     "data": {
      "text/html": [
       "<pre>| 2       | 11m 13s      | 11745.9           | 86.7097               | 9.95054e-05 |</pre>"
      ],
      "text/plain": [
       "| 2       | 11m 13s      | 11745.9           | 86.7097               | 9.95054e-05 |"
      ]
     },
     "metadata": {},
     "output_type": "display_data"
    },
    {
     "data": {
      "text/html": [
       "<pre>| 3       | 13m 13s      | 8995.55           | 80.7848               | 7.34139e-05 |</pre>"
      ],
      "text/plain": [
       "| 3       | 13m 13s      | 8995.55           | 80.7848               | 7.34139e-05 |"
      ]
     },
     "metadata": {},
     "output_type": "display_data"
    },
    {
     "data": {
      "text/html": [
       "<pre>| 4       | 15m 8s       | 7775.79           | 77.1201               | 5.91663e-05 |</pre>"
      ],
      "text/plain": [
       "| 4       | 15m 8s       | 7775.79           | 77.1201               | 5.91663e-05 |"
      ]
     },
     "metadata": {},
     "output_type": "display_data"
    },
    {
     "data": {
      "text/html": [
       "<pre>| 5       | 16m 56s      | 7057.97           | 74.5762               | 5.00486e-05 |</pre>"
      ],
      "text/plain": [
       "| 5       | 16m 56s      | 7057.97           | 74.5762               | 5.00486e-05 |"
      ]
     },
     "metadata": {},
     "output_type": "display_data"
    },
    {
     "data": {
      "text/html": [
       "<pre>| 6       | 18m 40s      | 6556.05           | 72.5214               | 4.36522e-05 |</pre>"
      ],
      "text/plain": [
       "| 6       | 18m 40s      | 6556.05           | 72.5214               | 4.36522e-05 |"
      ]
     },
     "metadata": {},
     "output_type": "display_data"
    },
    {
     "data": {
      "text/html": [
       "<pre>| 7       | 20m 28s      | 6190.03           | 70.9262               | 3.88862e-05 |</pre>"
      ],
      "text/plain": [
       "| 7       | 20m 28s      | 6190.03           | 70.9262               | 3.88862e-05 |"
      ]
     },
     "metadata": {},
     "output_type": "display_data"
    },
    {
     "data": {
      "text/html": [
       "<pre>| 8       | 22m 23s      | 5882.5            | 69.4309               | 3.51805e-05 |</pre>"
      ],
      "text/plain": [
       "| 8       | 22m 23s      | 5882.5            | 69.4309               | 3.51805e-05 |"
      ]
     },
     "metadata": {},
     "output_type": "display_data"
    },
    {
     "data": {
      "text/html": [
       "<pre>| 9       | 24m 0s       | 5667.69           | 68.4061               | 3.2206e-05  |</pre>"
      ],
      "text/plain": [
       "| 9       | 24m 0s       | 5667.69           | 68.4061               | 3.2206e-05  |"
      ]
     },
     "metadata": {},
     "output_type": "display_data"
    },
    {
     "data": {
      "text/html": [
       "<pre>| 10      | 25m 47s      | 5477.43           | 67.4379               | 2.97591e-05 |</pre>"
      ],
      "text/plain": [
       "| 10      | 25m 47s      | 5477.43           | 67.4379               | 2.97591e-05 |"
      ]
     },
     "metadata": {},
     "output_type": "display_data"
    },
    {
     "data": {
      "text/html": [
       "<pre>| 11      | 27m 23s      | 5304.4            | 66.5043               | 2.77061e-05 |</pre>"
      ],
      "text/plain": [
       "| 11      | 27m 23s      | 5304.4            | 66.5043               | 2.77061e-05 |"
      ]
     },
     "metadata": {},
     "output_type": "display_data"
    },
    {
     "data": {
      "text/html": [
       "<pre>| 12      | 29m 11s      | 5170.51           | 65.7902               | 2.59557e-05 |</pre>"
      ],
      "text/plain": [
       "| 12      | 29m 11s      | 5170.51           | 65.7902               | 2.59557e-05 |"
      ]
     },
     "metadata": {},
     "output_type": "display_data"
    },
    {
     "data": {
      "text/html": [
       "<pre>| 13      | 30m 53s      | 5051.45           | 65.138                | 2.44434e-05 |</pre>"
      ],
      "text/plain": [
       "| 13      | 30m 53s      | 5051.45           | 65.138                | 2.44434e-05 |"
      ]
     },
     "metadata": {},
     "output_type": "display_data"
    },
    {
     "data": {
      "text/html": [
       "<pre>| 14      | 32m 30s      | 4943.56           | 64.5081               | 2.31219e-05 |</pre>"
      ],
      "text/plain": [
       "| 14      | 32m 30s      | 4943.56           | 64.5081               | 2.31219e-05 |"
      ]
     },
     "metadata": {},
     "output_type": "display_data"
    },
    {
     "data": {
      "text/html": [
       "<pre>| 15      | 34m 10s      | 4846.58           | 63.9598               | 2.19559e-05 |</pre>"
      ],
      "text/plain": [
       "| 15      | 34m 10s      | 4846.58           | 63.9598               | 2.19559e-05 |"
      ]
     },
     "metadata": {},
     "output_type": "display_data"
    },
    {
     "data": {
      "text/html": [
       "<pre>| 16      | 35m 54s      | 4753.8            | 63.4005               | 2.09184e-05 |</pre>"
      ],
      "text/plain": [
       "| 16      | 35m 54s      | 4753.8            | 63.4005               | 2.09184e-05 |"
      ]
     },
     "metadata": {},
     "output_type": "display_data"
    },
    {
     "data": {
      "text/html": [
       "<pre>| 17      | 37m 36s      | 4692.52           | 63.0646               | 1.99886e-05 |</pre>"
      ],
      "text/plain": [
       "| 17      | 37m 36s      | 4692.52           | 63.0646               | 1.99886e-05 |"
      ]
     },
     "metadata": {},
     "output_type": "display_data"
    },
    {
     "data": {
      "text/html": [
       "<pre>| 18      | 39m 16s      | 4613.77           | 62.5756               | 1.91498e-05 |</pre>"
      ],
      "text/plain": [
       "| 18      | 39m 16s      | 4613.77           | 62.5756               | 1.91498e-05 |"
      ]
     },
     "metadata": {},
     "output_type": "display_data"
    },
    {
     "data": {
      "text/html": [
       "<pre>| 19      | 40m 52s      | 4564.36           | 62.2848               | 1.83888e-05 |</pre>"
      ],
      "text/plain": [
       "| 19      | 40m 52s      | 4564.36           | 62.2848               | 1.83888e-05 |"
      ]
     },
     "metadata": {},
     "output_type": "display_data"
    },
    {
     "data": {
      "text/html": [
       "<pre>| 20      | 42m 23s      | 4496.28           | 61.869                | 1.76948e-05 |</pre>"
      ],
      "text/plain": [
       "| 20      | 42m 23s      | 4496.28           | 61.869                | 1.76948e-05 |"
      ]
     },
     "metadata": {},
     "output_type": "display_data"
    },
    {
     "data": {
      "text/html": [
       "<pre>| 21      | 44m 4s       | 4439.81           | 61.4994               | 1.7059e-05  |</pre>"
      ],
      "text/plain": [
       "| 21      | 44m 4s       | 4439.81           | 61.4994               | 1.7059e-05  |"
      ]
     },
     "metadata": {},
     "output_type": "display_data"
    },
    {
     "data": {
      "text/html": [
       "<pre>| 22      | 45m 34s      | 4388.64           | 61.1792               | 1.64741e-05 |</pre>"
      ],
      "text/plain": [
       "| 22      | 45m 34s      | 4388.64           | 61.1792               | 1.64741e-05 |"
      ]
     },
     "metadata": {},
     "output_type": "display_data"
    },
    {
     "data": {
      "text/html": [
       "<pre>| 23      | 47m 3s       | 4333.74           | 60.8318               | 1.59339e-05 |</pre>"
      ],
      "text/plain": [
       "| 23      | 47m 3s       | 4333.74           | 60.8318               | 1.59339e-05 |"
      ]
     },
     "metadata": {},
     "output_type": "display_data"
    },
    {
     "data": {
      "text/html": [
       "<pre>| 24      | 48m 31s      | 4298.08           | 60.6108               | 1.54334e-05 |</pre>"
      ],
      "text/plain": [
       "| 24      | 48m 31s      | 4298.08           | 60.6108               | 1.54334e-05 |"
      ]
     },
     "metadata": {},
     "output_type": "display_data"
    },
    {
     "data": {
      "text/html": [
       "<pre>| 25      | 49m 59s      | 4251.8            | 60.2908               | 1.4968e-05  |</pre>"
      ],
      "text/plain": [
       "| 25      | 49m 59s      | 4251.8            | 60.2908               | 1.4968e-05  |"
      ]
     },
     "metadata": {},
     "output_type": "display_data"
    },
    {
     "data": {
      "text/html": [
       "<pre>+---------+--------------+-------------------+-----------------------+-------------+</pre>"
      ],
      "text/plain": [
       "+---------+--------------+-------------------+-----------------------+-------------+"
      ]
     },
     "metadata": {},
     "output_type": "display_data"
    },
    {
     "data": {
      "text/html": [
       "<pre>Optimization Complete: Maximum number of passes through the data reached.</pre>"
      ],
      "text/plain": [
       "Optimization Complete: Maximum number of passes through the data reached."
      ]
     },
     "metadata": {},
     "output_type": "display_data"
    },
    {
     "data": {
      "text/html": [
       "<pre>Computing final objective value and training RMSE.</pre>"
      ],
      "text/plain": [
       "Computing final objective value and training RMSE."
      ]
     },
     "metadata": {},
     "output_type": "display_data"
    },
    {
     "data": {
      "text/html": [
       "<pre>       Final objective value: 4224.95</pre>"
      ],
      "text/plain": [
       "       Final objective value: 4224.95"
      ]
     },
     "metadata": {},
     "output_type": "display_data"
    },
    {
     "data": {
      "text/html": [
       "<pre>       Final training RMSE: 60.0725</pre>"
      ],
      "text/plain": [
       "       Final training RMSE: 60.0725"
      ]
     },
     "metadata": {},
     "output_type": "display_data"
    }
   ],
   "source": [
    "model = gl.recommender.create(edge_sf, user_id='0', item_id='1', target='3')"
   ]
  },
  {
   "cell_type": "code",
   "execution_count": 5,
   "metadata": {},
   "outputs": [],
   "source": [
    "results = model.recommend(users=['1063590222'], k=10)"
   ]
  },
  {
   "cell_type": "code",
   "execution_count": 6,
   "metadata": {},
   "outputs": [
    {
     "data": {
      "text/html": [
       "<div style=\"max-height:1000px;max-width:1500px;overflow:auto;\"><table frame=\"box\" rules=\"cols\">\n",
       "    <tr>\n",
       "        <th style=\"padding-left: 1em; padding-right: 1em; text-align: center\">0</th>\n",
       "        <th style=\"padding-left: 1em; padding-right: 1em; text-align: center\">1</th>\n",
       "        <th style=\"padding-left: 1em; padding-right: 1em; text-align: center\">score</th>\n",
       "        <th style=\"padding-left: 1em; padding-right: 1em; text-align: center\">rank</th>\n",
       "    </tr>\n",
       "    <tr>\n",
       "        <td style=\"padding-left: 1em; padding-right: 1em; text-align: center; vertical-align: top\">1063590222</td>\n",
       "        <td style=\"padding-left: 1em; padding-right: 1em; text-align: center; vertical-align: top\">1669466561</td>\n",
       "        <td style=\"padding-left: 1em; padding-right: 1em; text-align: center; vertical-align: top\">223.746589946</td>\n",
       "        <td style=\"padding-left: 1em; padding-right: 1em; text-align: center; vertical-align: top\">1</td>\n",
       "    </tr>\n",
       "    <tr>\n",
       "        <td style=\"padding-left: 1em; padding-right: 1em; text-align: center; vertical-align: top\">1063590222</td>\n",
       "        <td style=\"padding-left: 1em; padding-right: 1em; text-align: center; vertical-align: top\">1013981554</td>\n",
       "        <td style=\"padding-left: 1em; padding-right: 1em; text-align: center; vertical-align: top\">216.506325054</td>\n",
       "        <td style=\"padding-left: 1em; padding-right: 1em; text-align: center; vertical-align: top\">2</td>\n",
       "    </tr>\n",
       "    <tr>\n",
       "        <td style=\"padding-left: 1em; padding-right: 1em; text-align: center; vertical-align: top\">1063590222</td>\n",
       "        <td style=\"padding-left: 1em; padding-right: 1em; text-align: center; vertical-align: top\">1891782470</td>\n",
       "        <td style=\"padding-left: 1em; padding-right: 1em; text-align: center; vertical-align: top\">195.660072612</td>\n",
       "        <td style=\"padding-left: 1em; padding-right: 1em; text-align: center; vertical-align: top\">3</td>\n",
       "    </tr>\n",
       "    <tr>\n",
       "        <td style=\"padding-left: 1em; padding-right: 1em; text-align: center; vertical-align: top\">1063590222</td>\n",
       "        <td style=\"padding-left: 1em; padding-right: 1em; text-align: center; vertical-align: top\">1285621631</td>\n",
       "        <td style=\"padding-left: 1em; padding-right: 1em; text-align: center; vertical-align: top\">190.136055279</td>\n",
       "        <td style=\"padding-left: 1em; padding-right: 1em; text-align: center; vertical-align: top\">4</td>\n",
       "    </tr>\n",
       "    <tr>\n",
       "        <td style=\"padding-left: 1em; padding-right: 1em; text-align: center; vertical-align: top\">1063590222</td>\n",
       "        <td style=\"padding-left: 1em; padding-right: 1em; text-align: center; vertical-align: top\">1508845322</td>\n",
       "        <td style=\"padding-left: 1em; padding-right: 1em; text-align: center; vertical-align: top\">179.076027202</td>\n",
       "        <td style=\"padding-left: 1em; padding-right: 1em; text-align: center; vertical-align: top\">5</td>\n",
       "    </tr>\n",
       "    <tr>\n",
       "        <td style=\"padding-left: 1em; padding-right: 1em; text-align: center; vertical-align: top\">1063590222</td>\n",
       "        <td style=\"padding-left: 1em; padding-right: 1em; text-align: center; vertical-align: top\">1346285657</td>\n",
       "        <td style=\"padding-left: 1em; padding-right: 1em; text-align: center; vertical-align: top\">156.620445537</td>\n",
       "        <td style=\"padding-left: 1em; padding-right: 1em; text-align: center; vertical-align: top\">6</td>\n",
       "    </tr>\n",
       "    <tr>\n",
       "        <td style=\"padding-left: 1em; padding-right: 1em; text-align: center; vertical-align: top\">1063590222</td>\n",
       "        <td style=\"padding-left: 1em; padding-right: 1em; text-align: center; vertical-align: top\">1780602003</td>\n",
       "        <td style=\"padding-left: 1em; padding-right: 1em; text-align: center; vertical-align: top\">151.126632976</td>\n",
       "        <td style=\"padding-left: 1em; padding-right: 1em; text-align: center; vertical-align: top\">7</td>\n",
       "    </tr>\n",
       "    <tr>\n",
       "        <td style=\"padding-left: 1em; padding-right: 1em; text-align: center; vertical-align: top\">1063590222</td>\n",
       "        <td style=\"padding-left: 1em; padding-right: 1em; text-align: center; vertical-align: top\">1841260908</td>\n",
       "        <td style=\"padding-left: 1em; padding-right: 1em; text-align: center; vertical-align: top\">137.452522564</td>\n",
       "        <td style=\"padding-left: 1em; padding-right: 1em; text-align: center; vertical-align: top\">8</td>\n",
       "    </tr>\n",
       "    <tr>\n",
       "        <td style=\"padding-left: 1em; padding-right: 1em; text-align: center; vertical-align: top\">1063590222</td>\n",
       "        <td style=\"padding-left: 1em; padding-right: 1em; text-align: center; vertical-align: top\">1487622114</td>\n",
       "        <td style=\"padding-left: 1em; padding-right: 1em; text-align: center; vertical-align: top\">133.356117534</td>\n",
       "        <td style=\"padding-left: 1em; padding-right: 1em; text-align: center; vertical-align: top\">9</td>\n",
       "    </tr>\n",
       "    <tr>\n",
       "        <td style=\"padding-left: 1em; padding-right: 1em; text-align: center; vertical-align: top\">1063590222</td>\n",
       "        <td style=\"padding-left: 1em; padding-right: 1em; text-align: center; vertical-align: top\">1245294826</td>\n",
       "        <td style=\"padding-left: 1em; padding-right: 1em; text-align: center; vertical-align: top\">125.816826153</td>\n",
       "        <td style=\"padding-left: 1em; padding-right: 1em; text-align: center; vertical-align: top\">10</td>\n",
       "    </tr>\n",
       "</table>\n",
       "[10 rows x 4 columns]<br/>\n",
       "</div>"
      ],
      "text/plain": [
       "Columns:\n",
       "\t0\tint\n",
       "\t1\tint\n",
       "\tscore\tfloat\n",
       "\trank\tint\n",
       "\n",
       "Rows: 10\n",
       "\n",
       "Data:\n",
       "+------------+------------+---------------+------+\n",
       "|     0      |     1      |     score     | rank |\n",
       "+------------+------------+---------------+------+\n",
       "| 1063590222 | 1669466561 | 223.746589946 |  1   |\n",
       "| 1063590222 | 1013981554 | 216.506325054 |  2   |\n",
       "| 1063590222 | 1891782470 | 195.660072612 |  3   |\n",
       "| 1063590222 | 1285621631 | 190.136055279 |  4   |\n",
       "| 1063590222 | 1508845322 | 179.076027202 |  5   |\n",
       "| 1063590222 | 1346285657 | 156.620445537 |  6   |\n",
       "| 1063590222 | 1780602003 | 151.126632976 |  7   |\n",
       "| 1063590222 | 1841260908 | 137.452522564 |  8   |\n",
       "| 1063590222 | 1487622114 | 133.356117534 |  9   |\n",
       "| 1063590222 | 1245294826 | 125.816826153 |  10  |\n",
       "+------------+------------+---------------+------+\n",
       "[10 rows x 4 columns]"
      ]
     },
     "execution_count": 6,
     "metadata": {},
     "output_type": "execute_result"
    }
   ],
   "source": [
    "results"
   ]
  },
  {
   "cell_type": "code",
   "execution_count": 12,
   "metadata": {},
   "outputs": [
    {
     "data": {
      "text/html": [
       "<div>\n",
       "<style scoped>\n",
       "    .dataframe tbody tr th:only-of-type {\n",
       "        vertical-align: middle;\n",
       "    }\n",
       "\n",
       "    .dataframe tbody tr th {\n",
       "        vertical-align: top;\n",
       "    }\n",
       "\n",
       "    .dataframe thead th {\n",
       "        text-align: right;\n",
       "    }\n",
       "</style>\n",
       "<table border=\"1\" class=\"dataframe\">\n",
       "  <thead>\n",
       "    <tr style=\"text-align: right;\">\n",
       "      <th></th>\n",
       "      <th>count</th>\n",
       "      <th>mean</th>\n",
       "      <th>std</th>\n",
       "      <th>min</th>\n",
       "      <th>25%</th>\n",
       "      <th>50%</th>\n",
       "      <th>75%</th>\n",
       "      <th>max</th>\n",
       "    </tr>\n",
       "  </thead>\n",
       "  <tbody>\n",
       "    <tr>\n",
       "      <th>0</th>\n",
       "      <td>138614191.0</td>\n",
       "      <td>1.496470e+09</td>\n",
       "      <td>2.943948e+08</td>\n",
       "      <td>999999999.0</td>\n",
       "      <td>1.245296e+09</td>\n",
       "      <td>1.497782e+09</td>\n",
       "      <td>1.740272e+09</td>\n",
       "      <td>1.000000e+10</td>\n",
       "    </tr>\n",
       "    <tr>\n",
       "      <th>1</th>\n",
       "      <td>138614191.0</td>\n",
       "      <td>1.504177e+09</td>\n",
       "      <td>2.935307e+08</td>\n",
       "      <td>999999999.0</td>\n",
       "      <td>1.255358e+09</td>\n",
       "      <td>1.508886e+09</td>\n",
       "      <td>1.750360e+09</td>\n",
       "      <td>1.000000e+10</td>\n",
       "    </tr>\n",
       "    <tr>\n",
       "      <th>3</th>\n",
       "      <td>138614191.0</td>\n",
       "      <td>4.344344e+01</td>\n",
       "      <td>1.148047e+02</td>\n",
       "      <td>11.0</td>\n",
       "      <td>1.400000e+01</td>\n",
       "      <td>2.100000e+01</td>\n",
       "      <td>3.900000e+01</td>\n",
       "      <td>1.027720e+05</td>\n",
       "    </tr>\n",
       "  </tbody>\n",
       "</table>\n",
       "</div>"
      ],
      "text/plain": [
       "         count          mean           std          min           25%  \\\n",
       "0  138614191.0  1.496470e+09  2.943948e+08  999999999.0  1.245296e+09   \n",
       "1  138614191.0  1.504177e+09  2.935307e+08  999999999.0  1.255358e+09   \n",
       "3  138614191.0  4.344344e+01  1.148047e+02         11.0  1.400000e+01   \n",
       "\n",
       "            50%           75%           max  \n",
       "0  1.497782e+09  1.740272e+09  1.000000e+10  \n",
       "1  1.508886e+09  1.750360e+09  1.000000e+10  \n",
       "3  2.100000e+01  3.900000e+01  1.027720e+05  "
      ]
     },
     "execution_count": 12,
     "metadata": {},
     "output_type": "execute_result"
    }
   ],
   "source": [
    "edge_df.describe().T"
   ]
  },
  {
   "cell_type": "code",
   "execution_count": 14,
   "metadata": {},
   "outputs": [],
   "source": [
    "model.save('ExplicitDataReferral2014')"
   ]
  },
  {
   "cell_type": "code",
   "execution_count": null,
   "metadata": {},
   "outputs": [],
   "source": []
  }
 ],
 "metadata": {
  "kernelspec": {
   "display_name": "Python 2",
   "language": "python",
   "name": "python2"
  },
  "language_info": {
   "codemirror_mode": {
    "name": "ipython",
    "version": 2
   },
   "file_extension": ".py",
   "mimetype": "text/x-python",
   "name": "python",
   "nbconvert_exporter": "python",
   "pygments_lexer": "ipython2",
   "version": "2.7.14"
  }
 },
 "nbformat": 4,
 "nbformat_minor": 2
}
