{
 "cells": [
  {
   "cell_type": "code",
   "execution_count": 5,
   "metadata": {},
   "outputs": [],
   "source": [
    "import pandas as pd"
   ]
  },
  {
   "cell_type": "code",
   "execution_count": 6,
   "metadata": {},
   "outputs": [
    {
     "name": "stdout",
     "output_type": "stream",
     "text": [
      "physician-shared-patient-patterns-2013-days-180-subsample.csv\r\n",
      "physician-shared-patient-patterns-2014-days-180-subsample.csv\r\n"
     ]
    }
   ],
   "source": [
    "ls ../data/samples/"
   ]
  },
  {
   "cell_type": "code",
   "execution_count": null,
   "metadata": {},
   "outputs": [],
   "source": []
  },
  {
   "cell_type": "code",
   "execution_count": 10,
   "metadata": {},
   "outputs": [],
   "source": [
    "ref2014_df = pd.read_csv('../data/samples/physician-shared-patient-patterns-2014-days-180-subsample.csv')"
   ]
  },
  {
   "cell_type": "code",
   "execution_count": 11,
   "metadata": {},
   "outputs": [],
   "source": [
    "ref2013_df = pd.read_csv('../data/samples/physician-shared-patient-patterns-2013-days-180-subsample.csv')"
   ]
  },
  {
   "cell_type": "code",
   "execution_count": 12,
   "metadata": {},
   "outputs": [
    {
     "data": {
      "text/html": [
       "<div>\n",
       "<style scoped>\n",
       "    .dataframe tbody tr th:only-of-type {\n",
       "        vertical-align: middle;\n",
       "    }\n",
       "\n",
       "    .dataframe tbody tr th {\n",
       "        vertical-align: top;\n",
       "    }\n",
       "\n",
       "    .dataframe thead th {\n",
       "        text-align: right;\n",
       "    }\n",
       "</style>\n",
       "<table border=\"1\" class=\"dataframe\">\n",
       "  <thead>\n",
       "    <tr style=\"text-align: right;\">\n",
       "      <th></th>\n",
       "      <th>Initial</th>\n",
       "      <th>Secondary</th>\n",
       "      <th>Total</th>\n",
       "      <th>Unique</th>\n",
       "      <th>Same Day</th>\n",
       "    </tr>\n",
       "  </thead>\n",
       "  <tbody>\n",
       "    <tr>\n",
       "      <th>0</th>\n",
       "      <td>1639124266</td>\n",
       "      <td>1124246954</td>\n",
       "      <td>40</td>\n",
       "      <td>22</td>\n",
       "      <td>0</td>\n",
       "    </tr>\n",
       "    <tr>\n",
       "      <th>1</th>\n",
       "      <td>1891717864</td>\n",
       "      <td>1184792418</td>\n",
       "      <td>143</td>\n",
       "      <td>55</td>\n",
       "      <td>0</td>\n",
       "    </tr>\n",
       "    <tr>\n",
       "      <th>2</th>\n",
       "      <td>1972500379</td>\n",
       "      <td>1720155872</td>\n",
       "      <td>4591</td>\n",
       "      <td>16</td>\n",
       "      <td>0</td>\n",
       "    </tr>\n",
       "    <tr>\n",
       "      <th>3</th>\n",
       "      <td>1245420884</td>\n",
       "      <td>1902899214</td>\n",
       "      <td>596</td>\n",
       "      <td>65</td>\n",
       "      <td>17</td>\n",
       "    </tr>\n",
       "    <tr>\n",
       "      <th>4</th>\n",
       "      <td>1295732238</td>\n",
       "      <td>1972596377</td>\n",
       "      <td>96</td>\n",
       "      <td>56</td>\n",
       "      <td>12</td>\n",
       "    </tr>\n",
       "  </tbody>\n",
       "</table>\n",
       "</div>"
      ],
      "text/plain": [
       "      Initial   Secondary  Total  Unique  Same Day\n",
       "0  1639124266  1124246954     40      22         0\n",
       "1  1891717864  1184792418    143      55         0\n",
       "2  1972500379  1720155872   4591      16         0\n",
       "3  1245420884  1902899214    596      65        17\n",
       "4  1295732238  1972596377     96      56        12"
      ]
     },
     "execution_count": 12,
     "metadata": {},
     "output_type": "execute_result"
    }
   ],
   "source": [
    "ref2014_df.head()"
   ]
  },
  {
   "cell_type": "code",
   "execution_count": 16,
   "metadata": {},
   "outputs": [],
   "source": [
    "ref2014_df.set_index(['Initial', 'Secondary'], inplace=True)"
   ]
  },
  {
   "cell_type": "code",
   "execution_count": 21,
   "metadata": {},
   "outputs": [],
   "source": [
    "ref2013_df.set_index(['Initial', 'Secondary'], inplace=True)"
   ]
  },
  {
   "cell_type": "code",
   "execution_count": 23,
   "metadata": {},
   "outputs": [],
   "source": [
    "combined_df = ref2014_df.merge(ref2013_df, how='outer', left_index= True, right_index=True, sort=True, suffixes=(2014, 2013))"
   ]
  },
  {
   "cell_type": "code",
   "execution_count": 25,
   "metadata": {},
   "outputs": [
    {
     "data": {
      "text/plain": [
       "(200, 6)"
      ]
     },
     "execution_count": 25,
     "metadata": {},
     "output_type": "execute_result"
    }
   ],
   "source": [
    "combined_df.shape"
   ]
  },
  {
   "cell_type": "code",
   "execution_count": 26,
   "metadata": {},
   "outputs": [
    {
     "data": {
      "text/plain": [
       "(100, 3)"
      ]
     },
     "execution_count": 26,
     "metadata": {},
     "output_type": "execute_result"
    }
   ],
   "source": [
    "ref2014_df.shape"
   ]
  },
  {
   "cell_type": "code",
   "execution_count": null,
   "metadata": {},
   "outputs": [],
   "source": []
  },
  {
   "cell_type": "code",
   "execution_count": null,
   "metadata": {},
   "outputs": [],
   "source": []
  },
  {
   "cell_type": "code",
   "execution_count": 40,
   "metadata": {},
   "outputs": [],
   "source": [
    "def combine_datasets(left_filepath, left_suffix, list_right_filepath_suffix):\n",
    "    left_df = pd.read_csv(left_filepath, index_col=['Initial', 'Secondary'])\n",
    "    for right_file in list_right_filepath_suffix:\n",
    "        right_filepath, right_suffix = right_file\n",
    "        right_df = pd.read_csv(right_filepath, index_col=['Initial', 'Secondary'])\n",
    "        left_df = left_df.merge(right_df, how='outer', left_index= True, right_index=True, sort=True, copy=False, suffixes=(left_suffix, right_suffix))\n",
    "    return left_df"
   ]
  },
  {
   "cell_type": "code",
   "execution_count": 41,
   "metadata": {},
   "outputs": [],
   "source": [
    "left_filepath = '../data/samples/physician-shared-patient-patterns-2014-days-180-subsample.csv'\n",
    "left_suffix = '2014'\n",
    "list_right_filepath_suffix = [('../data/samples/physician-shared-patient-patterns-2014-days-180-subsample.csv', '2014again?'), ('../data/samples/physician-shared-patient-patterns-2013-days-180-subsample.csv', '2013')]"
   ]
  },
  {
   "cell_type": "code",
   "execution_count": 42,
   "metadata": {},
   "outputs": [],
   "source": [
    "new_df = combine_datasets(left_filepath, left_suffix, list_right_filepath_suffix)"
   ]
  },
  {
   "cell_type": "code",
   "execution_count": 43,
   "metadata": {},
   "outputs": [
    {
     "data": {
      "text/html": [
       "<div>\n",
       "<style scoped>\n",
       "    .dataframe tbody tr th:only-of-type {\n",
       "        vertical-align: middle;\n",
       "    }\n",
       "\n",
       "    .dataframe tbody tr th {\n",
       "        vertical-align: top;\n",
       "    }\n",
       "\n",
       "    .dataframe thead th {\n",
       "        text-align: right;\n",
       "    }\n",
       "</style>\n",
       "<table border=\"1\" class=\"dataframe\">\n",
       "  <thead>\n",
       "    <tr style=\"text-align: right;\">\n",
       "      <th></th>\n",
       "      <th></th>\n",
       "      <th>Total2014</th>\n",
       "      <th>Unique2014</th>\n",
       "      <th>Same Day2014</th>\n",
       "      <th>Total2014again?</th>\n",
       "      <th>Unique2014again?</th>\n",
       "      <th>Same Day2014again?</th>\n",
       "      <th>Total</th>\n",
       "      <th>Unique</th>\n",
       "      <th>Same Day</th>\n",
       "    </tr>\n",
       "    <tr>\n",
       "      <th>Initial</th>\n",
       "      <th>Secondary</th>\n",
       "      <th></th>\n",
       "      <th></th>\n",
       "      <th></th>\n",
       "      <th></th>\n",
       "      <th></th>\n",
       "      <th></th>\n",
       "      <th></th>\n",
       "      <th></th>\n",
       "      <th></th>\n",
       "    </tr>\n",
       "  </thead>\n",
       "  <tbody>\n",
       "    <tr>\n",
       "      <th>1003033051</th>\n",
       "      <th>1154584084</th>\n",
       "      <td>NaN</td>\n",
       "      <td>NaN</td>\n",
       "      <td>NaN</td>\n",
       "      <td>NaN</td>\n",
       "      <td>NaN</td>\n",
       "      <td>NaN</td>\n",
       "      <td>69.0</td>\n",
       "      <td>11.0</td>\n",
       "      <td>0.0</td>\n",
       "    </tr>\n",
       "    <tr>\n",
       "      <th>1003865999</th>\n",
       "      <th>1851318554</th>\n",
       "      <td>NaN</td>\n",
       "      <td>NaN</td>\n",
       "      <td>NaN</td>\n",
       "      <td>NaN</td>\n",
       "      <td>NaN</td>\n",
       "      <td>NaN</td>\n",
       "      <td>38.0</td>\n",
       "      <td>16.0</td>\n",
       "      <td>0.0</td>\n",
       "    </tr>\n",
       "    <tr>\n",
       "      <th>1003884362</th>\n",
       "      <th>1740271386</th>\n",
       "      <td>18.0</td>\n",
       "      <td>13.0</td>\n",
       "      <td>0.0</td>\n",
       "      <td>18.0</td>\n",
       "      <td>13.0</td>\n",
       "      <td>0.0</td>\n",
       "      <td>NaN</td>\n",
       "      <td>NaN</td>\n",
       "      <td>NaN</td>\n",
       "    </tr>\n",
       "    <tr>\n",
       "      <th>1013173046</th>\n",
       "      <th>1821095084</th>\n",
       "      <td>97.0</td>\n",
       "      <td>28.0</td>\n",
       "      <td>10.0</td>\n",
       "      <td>97.0</td>\n",
       "      <td>28.0</td>\n",
       "      <td>10.0</td>\n",
       "      <td>NaN</td>\n",
       "      <td>NaN</td>\n",
       "      <td>NaN</td>\n",
       "    </tr>\n",
       "    <tr>\n",
       "      <th>1013911957</th>\n",
       "      <th>1053379248</th>\n",
       "      <td>NaN</td>\n",
       "      <td>NaN</td>\n",
       "      <td>NaN</td>\n",
       "      <td>NaN</td>\n",
       "      <td>NaN</td>\n",
       "      <td>NaN</td>\n",
       "      <td>144.0</td>\n",
       "      <td>26.0</td>\n",
       "      <td>0.0</td>\n",
       "    </tr>\n",
       "  </tbody>\n",
       "</table>\n",
       "</div>"
      ],
      "text/plain": [
       "                       Total2014  Unique2014  Same Day2014  Total2014again?  \\\n",
       "Initial    Secondary                                                          \n",
       "1003033051 1154584084        NaN         NaN           NaN              NaN   \n",
       "1003865999 1851318554        NaN         NaN           NaN              NaN   \n",
       "1003884362 1740271386       18.0        13.0           0.0             18.0   \n",
       "1013173046 1821095084       97.0        28.0          10.0             97.0   \n",
       "1013911957 1053379248        NaN         NaN           NaN              NaN   \n",
       "\n",
       "                       Unique2014again?  Same Day2014again?  Total  Unique  \\\n",
       "Initial    Secondary                                                         \n",
       "1003033051 1154584084               NaN                 NaN   69.0    11.0   \n",
       "1003865999 1851318554               NaN                 NaN   38.0    16.0   \n",
       "1003884362 1740271386              13.0                 0.0    NaN     NaN   \n",
       "1013173046 1821095084              28.0                10.0    NaN     NaN   \n",
       "1013911957 1053379248               NaN                 NaN  144.0    26.0   \n",
       "\n",
       "                       Same Day  \n",
       "Initial    Secondary             \n",
       "1003033051 1154584084       0.0  \n",
       "1003865999 1851318554       0.0  \n",
       "1003884362 1740271386       NaN  \n",
       "1013173046 1821095084       NaN  \n",
       "1013911957 1053379248       0.0  "
      ]
     },
     "execution_count": 43,
     "metadata": {},
     "output_type": "execute_result"
    }
   ],
   "source": [
    "new_df.head()"
   ]
  },
  {
   "cell_type": "code",
   "execution_count": 44,
   "metadata": {},
   "outputs": [
    {
     "data": {
      "text/plain": [
       "(200, 9)"
      ]
     },
     "execution_count": 44,
     "metadata": {},
     "output_type": "execute_result"
    }
   ],
   "source": [
    "new_df.shape"
   ]
  },
  {
   "cell_type": "code",
   "execution_count": null,
   "metadata": {},
   "outputs": [],
   "source": []
  }
 ],
 "metadata": {
  "kernelspec": {
   "display_name": "Python 3",
   "language": "python",
   "name": "python3"
  },
  "language_info": {
   "codemirror_mode": {
    "name": "ipython",
    "version": 3
   },
   "file_extension": ".py",
   "mimetype": "text/x-python",
   "name": "python",
   "nbconvert_exporter": "python",
   "pygments_lexer": "ipython3",
   "version": "3.6.4"
  }
 },
 "nbformat": 4,
 "nbformat_minor": 2
}
