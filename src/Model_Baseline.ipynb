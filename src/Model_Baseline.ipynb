{
 "cells": [
  {
   "cell_type": "code",
   "execution_count": 40,
   "metadata": {},
   "outputs": [],
   "source": [
    "import graphlab as gl"
   ]
  },
  {
   "cell_type": "code",
   "execution_count": 54,
   "metadata": {},
   "outputs": [],
   "source": [
    "gl.set_runtime_config('GRAPHLAB_DEFAULT_NUM_PYLAMBDA_WORKERS', 48)"
   ]
  },
  {
   "cell_type": "markdown",
   "metadata": {},
   "source": [
    "# Baseline: Matrix Factorization with Explicit Data 2015Y"
   ]
  },
  {
   "cell_type": "code",
   "execution_count": 42,
   "metadata": {},
   "outputs": [],
   "source": [
    "baseline_mf_url = 'https://s3-us-west-1.amazonaws.com/physician-referral-graph/physician-shared-patient-patterns-2015-days180_withHeader.csv'"
   ]
  },
  {
   "cell_type": "code",
   "execution_count": 46,
   "metadata": {},
   "outputs": [],
   "source": [
    "usecols = ['Initial Physician NPI', 'Secondary Physician NPI', 'Number Unique Beneficiaries']"
   ]
  },
  {
   "cell_type": "code",
   "execution_count": 48,
   "metadata": {
    "collapsed": true
   },
   "outputs": [
    {
     "data": {
      "text/html": [
       "<pre>Read 1108247 lines. Lines per second: 1.33537e+06</pre>"
      ],
      "text/plain": [
       "Read 1108247 lines. Lines per second: 1.33537e+06"
      ]
     },
     "metadata": {},
     "output_type": "display_data"
    },
    {
     "data": {
      "text/html": [
       "<pre>Read 14415737 lines. Lines per second: 2.39493e+06</pre>"
      ],
      "text/plain": [
       "Read 14415737 lines. Lines per second: 2.39493e+06"
      ]
     },
     "metadata": {},
     "output_type": "display_data"
    },
    {
     "data": {
      "text/html": [
       "<pre>Read 27740100 lines. Lines per second: 2.51443e+06</pre>"
      ],
      "text/plain": [
       "Read 27740100 lines. Lines per second: 2.51443e+06"
      ]
     },
     "metadata": {},
     "output_type": "display_data"
    },
    {
     "data": {
      "text/html": [
       "<pre>Read 42194315 lines. Lines per second: 2.58245e+06</pre>"
      ],
      "text/plain": [
       "Read 42194315 lines. Lines per second: 2.58245e+06"
      ]
     },
     "metadata": {},
     "output_type": "display_data"
    },
    {
     "data": {
      "text/html": [
       "<pre>Read 56670414 lines. Lines per second: 2.61681e+06</pre>"
      ],
      "text/plain": [
       "Read 56670414 lines. Lines per second: 2.61681e+06"
      ]
     },
     "metadata": {},
     "output_type": "display_data"
    },
    {
     "data": {
      "text/html": [
       "<pre>Finished parsing file https://s3-us-west-1.amazonaws.com/physician-referral-graph/physician-shared-patient-patterns-2015-days180_withHeader.csv</pre>"
      ],
      "text/plain": [
       "Finished parsing file https://s3-us-west-1.amazonaws.com/physician-referral-graph/physician-shared-patient-patterns-2015-days180_withHeader.csv"
      ]
     },
     "metadata": {},
     "output_type": "display_data"
    },
    {
     "data": {
      "text/html": [
       "<pre>Parsing completed. Parsed 65739582 lines in 24.64 secs.</pre>"
      ],
      "text/plain": [
       "Parsing completed. Parsed 65739582 lines in 24.64 secs."
      ]
     },
     "metadata": {},
     "output_type": "display_data"
    }
   ],
   "source": [
    "baseline_mf_sf = gl.SFrame.read_csv(baseline_mf_url, usecols=usecols, column_type_hints=[int, int, float])"
   ]
  },
  {
   "cell_type": "code",
   "execution_count": 50,
   "metadata": {},
   "outputs": [],
   "source": [
    "baseline_mf_sf_train, baseline_mf_sf_test = baseline_mf_sf.random_split(0.9)"
   ]
  },
  {
   "cell_type": "code",
   "execution_count": 51,
   "metadata": {},
   "outputs": [
    {
     "data": {
      "text/html": [
       "<div style=\"max-height:1000px;max-width:1500px;overflow:auto;\"><table frame=\"box\" rules=\"cols\">\n",
       "    <tr>\n",
       "        <th style=\"padding-left: 1em; padding-right: 1em; text-align: center\">Initial Physician NPI</th>\n",
       "        <th style=\"padding-left: 1em; padding-right: 1em; text-align: center\">Secondary Physician NPI</th>\n",
       "        <th style=\"padding-left: 1em; padding-right: 1em; text-align: center\">Number Unique<br>Beneficiaries ...</th>\n",
       "    </tr>\n",
       "    <tr>\n",
       "        <td style=\"padding-left: 1em; padding-right: 1em; text-align: center; vertical-align: top\">1000000004</td>\n",
       "        <td style=\"padding-left: 1em; padding-right: 1em; text-align: center; vertical-align: top\">1790775229</td>\n",
       "        <td style=\"padding-left: 1em; padding-right: 1em; text-align: center; vertical-align: top\">12.0</td>\n",
       "    </tr>\n",
       "    <tr>\n",
       "        <td style=\"padding-left: 1em; padding-right: 1em; text-align: center; vertical-align: top\">1000026017</td>\n",
       "        <td style=\"padding-left: 1em; padding-right: 1em; text-align: center; vertical-align: top\">1598773715</td>\n",
       "        <td style=\"padding-left: 1em; padding-right: 1em; text-align: center; vertical-align: top\">23.0</td>\n",
       "    </tr>\n",
       "    <tr>\n",
       "        <td style=\"padding-left: 1em; padding-right: 1em; text-align: center; vertical-align: top\">1000310429</td>\n",
       "        <td style=\"padding-left: 1em; padding-right: 1em; text-align: center; vertical-align: top\">1144645573</td>\n",
       "        <td style=\"padding-left: 1em; padding-right: 1em; text-align: center; vertical-align: top\">12.0</td>\n",
       "    </tr>\n",
       "    <tr>\n",
       "        <td style=\"padding-left: 1em; padding-right: 1em; text-align: center; vertical-align: top\">1003000126</td>\n",
       "        <td style=\"padding-left: 1em; padding-right: 1em; text-align: center; vertical-align: top\">1003951625</td>\n",
       "        <td style=\"padding-left: 1em; padding-right: 1em; text-align: center; vertical-align: top\">68.0</td>\n",
       "    </tr>\n",
       "    <tr>\n",
       "        <td style=\"padding-left: 1em; padding-right: 1em; text-align: center; vertical-align: top\">1003000126</td>\n",
       "        <td style=\"padding-left: 1em; padding-right: 1em; text-align: center; vertical-align: top\">1003975400</td>\n",
       "        <td style=\"padding-left: 1em; padding-right: 1em; text-align: center; vertical-align: top\">31.0</td>\n",
       "    </tr>\n",
       "    <tr>\n",
       "        <td style=\"padding-left: 1em; padding-right: 1em; text-align: center; vertical-align: top\">1003000126</td>\n",
       "        <td style=\"padding-left: 1em; padding-right: 1em; text-align: center; vertical-align: top\">1013051119</td>\n",
       "        <td style=\"padding-left: 1em; padding-right: 1em; text-align: center; vertical-align: top\">28.0</td>\n",
       "    </tr>\n",
       "    <tr>\n",
       "        <td style=\"padding-left: 1em; padding-right: 1em; text-align: center; vertical-align: top\">1003000126</td>\n",
       "        <td style=\"padding-left: 1em; padding-right: 1em; text-align: center; vertical-align: top\">1013902600</td>\n",
       "        <td style=\"padding-left: 1em; padding-right: 1em; text-align: center; vertical-align: top\">25.0</td>\n",
       "    </tr>\n",
       "    <tr>\n",
       "        <td style=\"padding-left: 1em; padding-right: 1em; text-align: center; vertical-align: top\">1003000126</td>\n",
       "        <td style=\"padding-left: 1em; padding-right: 1em; text-align: center; vertical-align: top\">1023027109</td>\n",
       "        <td style=\"padding-left: 1em; padding-right: 1em; text-align: center; vertical-align: top\">25.0</td>\n",
       "    </tr>\n",
       "    <tr>\n",
       "        <td style=\"padding-left: 1em; padding-right: 1em; text-align: center; vertical-align: top\">1003000126</td>\n",
       "        <td style=\"padding-left: 1em; padding-right: 1em; text-align: center; vertical-align: top\">1023029964</td>\n",
       "        <td style=\"padding-left: 1em; padding-right: 1em; text-align: center; vertical-align: top\">15.0</td>\n",
       "    </tr>\n",
       "    <tr>\n",
       "        <td style=\"padding-left: 1em; padding-right: 1em; text-align: center; vertical-align: top\">1003000126</td>\n",
       "        <td style=\"padding-left: 1em; padding-right: 1em; text-align: center; vertical-align: top\">1053306746</td>\n",
       "        <td style=\"padding-left: 1em; padding-right: 1em; text-align: center; vertical-align: top\">44.0</td>\n",
       "    </tr>\n",
       "</table>\n",
       "[? rows x 3 columns]<br/>Note: Only the head of the SFrame is printed. This SFrame is lazily evaluated.<br/>You can use sf.materialize() to force materialization.\n",
       "</div>"
      ],
      "text/plain": [
       "Columns:\n",
       "\tInitial Physician NPI\tint\n",
       "\tSecondary Physician NPI\tint\n",
       "\tNumber Unique Beneficiaries\tfloat\n",
       "\n",
       "Rows: Unknown\n",
       "\n",
       "Data:\n",
       "+-----------------------+-------------------------+-----------------------------+\n",
       "| Initial Physician NPI | Secondary Physician NPI | Number Unique Beneficiaries |\n",
       "+-----------------------+-------------------------+-----------------------------+\n",
       "|       1000000004      |        1790775229       |             12.0            |\n",
       "|       1000026017      |        1598773715       |             23.0            |\n",
       "|       1000310429      |        1144645573       |             12.0            |\n",
       "|       1003000126      |        1003951625       |             68.0            |\n",
       "|       1003000126      |        1003975400       |             31.0            |\n",
       "|       1003000126      |        1013051119       |             28.0            |\n",
       "|       1003000126      |        1013902600       |             25.0            |\n",
       "|       1003000126      |        1023027109       |             25.0            |\n",
       "|       1003000126      |        1023029964       |             15.0            |\n",
       "|       1003000126      |        1053306746       |             44.0            |\n",
       "+-----------------------+-------------------------+-----------------------------+\n",
       "[? rows x 3 columns]\n",
       "Note: Only the head of the SFrame is printed. This SFrame is lazily evaluated.\n",
       "You can use sf.materialize() to force materialization."
      ]
     },
     "execution_count": 51,
     "metadata": {},
     "output_type": "execute_result"
    }
   ],
   "source": [
    "baseline_mf_sf_train"
   ]
  },
  {
   "cell_type": "code",
   "execution_count": 52,
   "metadata": {},
   "outputs": [
    {
     "data": {
      "text/html": [
       "<pre>Recsys training: model = factorization_recommender</pre>"
      ],
      "text/plain": [
       "Recsys training: model = factorization_recommender"
      ]
     },
     "metadata": {},
     "output_type": "display_data"
    },
    {
     "data": {
      "text/html": [
       "<pre>Preparing data set.</pre>"
      ],
      "text/plain": [
       "Preparing data set."
      ]
     },
     "metadata": {},
     "output_type": "display_data"
    },
    {
     "data": {
      "text/html": [
       "<pre>    Data has 59162415 observations with 983357 users and 1007070 items.</pre>"
      ],
      "text/plain": [
       "    Data has 59162415 observations with 983357 users and 1007070 items."
      ]
     },
     "metadata": {},
     "output_type": "display_data"
    },
    {
     "data": {
      "text/html": [
       "<pre>    Data prepared in: 24.7625s</pre>"
      ],
      "text/plain": [
       "    Data prepared in: 24.7625s"
      ]
     },
     "metadata": {},
     "output_type": "display_data"
    },
    {
     "data": {
      "text/html": [
       "<pre>Training factorization_recommender for recommendations.</pre>"
      ],
      "text/plain": [
       "Training factorization_recommender for recommendations."
      ]
     },
     "metadata": {},
     "output_type": "display_data"
    },
    {
     "data": {
      "text/html": [
       "<pre>+--------------------------------+--------------------------------------------------+----------+</pre>"
      ],
      "text/plain": [
       "+--------------------------------+--------------------------------------------------+----------+"
      ]
     },
     "metadata": {},
     "output_type": "display_data"
    },
    {
     "data": {
      "text/html": [
       "<pre>| Parameter                      | Description                                      | Value    |</pre>"
      ],
      "text/plain": [
       "| Parameter                      | Description                                      | Value    |"
      ]
     },
     "metadata": {},
     "output_type": "display_data"
    },
    {
     "data": {
      "text/html": [
       "<pre>+--------------------------------+--------------------------------------------------+----------+</pre>"
      ],
      "text/plain": [
       "+--------------------------------+--------------------------------------------------+----------+"
      ]
     },
     "metadata": {},
     "output_type": "display_data"
    },
    {
     "data": {
      "text/html": [
       "<pre>| num_factors                    | Factor Dimension                                 | 8        |</pre>"
      ],
      "text/plain": [
       "| num_factors                    | Factor Dimension                                 | 8        |"
      ]
     },
     "metadata": {},
     "output_type": "display_data"
    },
    {
     "data": {
      "text/html": [
       "<pre>| regularization                 | L2 Regularization on Factors                     | 1e-08    |</pre>"
      ],
      "text/plain": [
       "| regularization                 | L2 Regularization on Factors                     | 1e-08    |"
      ]
     },
     "metadata": {},
     "output_type": "display_data"
    },
    {
     "data": {
      "text/html": [
       "<pre>| solver                         | Solver used for training                         | sgd      |</pre>"
      ],
      "text/plain": [
       "| solver                         | Solver used for training                         | sgd      |"
      ]
     },
     "metadata": {},
     "output_type": "display_data"
    },
    {
     "data": {
      "text/html": [
       "<pre>| linear_regularization          | L2 Regularization on Linear Coefficients         | 1e-10    |</pre>"
      ],
      "text/plain": [
       "| linear_regularization          | L2 Regularization on Linear Coefficients         | 1e-10    |"
      ]
     },
     "metadata": {},
     "output_type": "display_data"
    },
    {
     "data": {
      "text/html": [
       "<pre>| max_iterations                 | Maximum Number of Iterations                     | 50       |</pre>"
      ],
      "text/plain": [
       "| max_iterations                 | Maximum Number of Iterations                     | 50       |"
      ]
     },
     "metadata": {},
     "output_type": "display_data"
    },
    {
     "data": {
      "text/html": [
       "<pre>+--------------------------------+--------------------------------------------------+----------+</pre>"
      ],
      "text/plain": [
       "+--------------------------------+--------------------------------------------------+----------+"
      ]
     },
     "metadata": {},
     "output_type": "display_data"
    },
    {
     "data": {
      "text/html": [
       "<pre>  Optimizing model using SGD; tuning step size.</pre>"
      ],
      "text/plain": [
       "  Optimizing model using SGD; tuning step size."
      ]
     },
     "metadata": {},
     "output_type": "display_data"
    },
    {
     "data": {
      "text/html": [
       "<pre>  Using 7395301 / 59162415 points for tuning the step size.</pre>"
      ],
      "text/plain": [
       "  Using 7395301 / 59162415 points for tuning the step size."
      ]
     },
     "metadata": {},
     "output_type": "display_data"
    },
    {
     "data": {
      "text/html": [
       "<pre>+---------+-------------------+------------------------------------------+</pre>"
      ],
      "text/plain": [
       "+---------+-------------------+------------------------------------------+"
      ]
     },
     "metadata": {},
     "output_type": "display_data"
    },
    {
     "data": {
      "text/html": [
       "<pre>| Attempt | Initial Step Size | Estimated Objective Value                |</pre>"
      ],
      "text/plain": [
       "| Attempt | Initial Step Size | Estimated Objective Value                |"
      ]
     },
     "metadata": {},
     "output_type": "display_data"
    },
    {
     "data": {
      "text/html": [
       "<pre>+---------+-------------------+------------------------------------------+</pre>"
      ],
      "text/plain": [
       "+---------+-------------------+------------------------------------------+"
      ]
     },
     "metadata": {},
     "output_type": "display_data"
    },
    {
     "data": {
      "text/html": [
       "<pre>| 0       | 25                | 7684.55                                  |</pre>"
      ],
      "text/plain": [
       "| 0       | 25                | 7684.55                                  |"
      ]
     },
     "metadata": {},
     "output_type": "display_data"
    },
    {
     "data": {
      "text/html": [
       "<pre>| 1       | 12.5              | 7695.57                                  |</pre>"
      ],
      "text/plain": [
       "| 1       | 12.5              | 7695.57                                  |"
      ]
     },
     "metadata": {},
     "output_type": "display_data"
    },
    {
     "data": {
      "text/html": [
       "<pre>| 2       | 6.25              | 7686.2                                   |</pre>"
      ],
      "text/plain": [
       "| 2       | 6.25              | 7686.2                                   |"
      ]
     },
     "metadata": {},
     "output_type": "display_data"
    },
    {
     "data": {
      "text/html": [
       "<pre>| 3       | 3.125             | 7700.09                                  |</pre>"
      ],
      "text/plain": [
       "| 3       | 3.125             | 7700.09                                  |"
      ]
     },
     "metadata": {},
     "output_type": "display_data"
    },
    {
     "data": {
      "text/html": [
       "<pre>+---------+-------------------+------------------------------------------+</pre>"
      ],
      "text/plain": [
       "+---------+-------------------+------------------------------------------+"
      ]
     },
     "metadata": {},
     "output_type": "display_data"
    },
    {
     "data": {
      "text/html": [
       "<pre>| Final   | 25                | 7684.55                                  |</pre>"
      ],
      "text/plain": [
       "| Final   | 25                | 7684.55                                  |"
      ]
     },
     "metadata": {},
     "output_type": "display_data"
    },
    {
     "data": {
      "text/html": [
       "<pre>+---------+-------------------+------------------------------------------+</pre>"
      ],
      "text/plain": [
       "+---------+-------------------+------------------------------------------+"
      ]
     },
     "metadata": {},
     "output_type": "display_data"
    },
    {
     "data": {
      "text/html": [
       "<pre>Starting Optimization.</pre>"
      ],
      "text/plain": [
       "Starting Optimization."
      ]
     },
     "metadata": {},
     "output_type": "display_data"
    },
    {
     "data": {
      "text/html": [
       "<pre>+---------+--------------+-------------------+-----------------------+-------------+</pre>"
      ],
      "text/plain": [
       "+---------+--------------+-------------------+-----------------------+-------------+"
      ]
     },
     "metadata": {},
     "output_type": "display_data"
    },
    {
     "data": {
      "text/html": [
       "<pre>| Iter.   | Elapsed Time | Approx. Objective | Approx. Training RMSE | Step Size   |</pre>"
      ],
      "text/plain": [
       "| Iter.   | Elapsed Time | Approx. Objective | Approx. Training RMSE | Step Size   |"
      ]
     },
     "metadata": {},
     "output_type": "display_data"
    },
    {
     "data": {
      "text/html": [
       "<pre>+---------+--------------+-------------------+-----------------------+-------------+</pre>"
      ],
      "text/plain": [
       "+---------+--------------+-------------------+-----------------------+-------------+"
      ]
     },
     "metadata": {},
     "output_type": "display_data"
    },
    {
     "data": {
      "text/html": [
       "<pre>| Initial | 97us         | 7344.27           | 85.6987               |             |</pre>"
      ],
      "text/plain": [
       "| Initial | 97us         | 7344.27           | 85.6987               |             |"
      ]
     },
     "metadata": {},
     "output_type": "display_data"
    },
    {
     "data": {
      "text/html": [
       "<pre>+---------+--------------+-------------------+-----------------------+-------------+</pre>"
      ],
      "text/plain": [
       "+---------+--------------+-------------------+-----------------------+-------------+"
      ]
     },
     "metadata": {},
     "output_type": "display_data"
    },
    {
     "data": {
      "text/html": [
       "<pre>| 1       | 4.50s        | 7552.7            | 86.9053               | 25          |</pre>"
      ],
      "text/plain": [
       "| 1       | 4.50s        | 7552.7            | 86.9053               | 25          |"
      ]
     },
     "metadata": {},
     "output_type": "display_data"
    },
    {
     "data": {
      "text/html": [
       "<pre>| 2       | 8.43s        | 7607.4            | 87.2157               | 1.58322     |</pre>"
      ],
      "text/plain": [
       "| 2       | 8.43s        | 7607.4            | 87.2157               | 1.58322     |"
      ]
     },
     "metadata": {},
     "output_type": "display_data"
    },
    {
     "data": {
      "text/html": [
       "<pre>| 3       | 12.35s       | 7545.34           | 86.8593               | 0.817496    |</pre>"
      ],
      "text/plain": [
       "| 3       | 12.35s       | 7545.34           | 86.8593               | 0.817496    |"
      ]
     },
     "metadata": {},
     "output_type": "display_data"
    },
    {
     "data": {
      "text/html": [
       "<pre>| 4       | 16.26s       | 7507.13           | 86.6391               | 0.548715    |</pre>"
      ],
      "text/plain": [
       "| 4       | 16.26s       | 7507.13           | 86.6391               | 0.548715    |"
      ]
     },
     "metadata": {},
     "output_type": "display_data"
    },
    {
     "data": {
      "text/html": [
       "<pre>| 5       | 20.22s       | 7482.23           | 86.4953               | 0.4127      |</pre>"
      ],
      "text/plain": [
       "| 5       | 20.22s       | 7482.23           | 86.4953               | 0.4127      |"
      ]
     },
     "metadata": {},
     "output_type": "display_data"
    },
    {
     "data": {
      "text/html": [
       "<pre>| 6       | 24.14s       | 7463.44           | 86.3864               | 0.331709    |</pre>"
      ],
      "text/plain": [
       "| 6       | 24.14s       | 7463.44           | 86.3864               | 0.331709    |"
      ]
     },
     "metadata": {},
     "output_type": "display_data"
    },
    {
     "data": {
      "text/html": [
       "<pre>| 7       | 28.10s       | 7444.43           | 86.2762               | 0.277291    |</pre>"
      ],
      "text/plain": [
       "| 7       | 28.10s       | 7444.43           | 86.2762               | 0.277291    |"
      ]
     },
     "metadata": {},
     "output_type": "display_data"
    },
    {
     "data": {
      "text/html": [
       "<pre>| 8       | 31.97s       | 7431.48           | 86.201                | 0.238212    |</pre>"
      ],
      "text/plain": [
       "| 8       | 31.97s       | 7431.48           | 86.201                | 0.238212    |"
      ]
     },
     "metadata": {},
     "output_type": "display_data"
    },
    {
     "data": {
      "text/html": [
       "<pre>| 9       | 35.87s       | 7417.3            | 86.1186               | 0.208787    |</pre>"
      ],
      "text/plain": [
       "| 9       | 35.87s       | 7417.3            | 86.1186               | 0.208787    |"
      ]
     },
     "metadata": {},
     "output_type": "display_data"
    },
    {
     "data": {
      "text/html": [
       "<pre>| 10      | 39.81s       | 7406.77           | 86.0574               | 0.185833    |</pre>"
      ],
      "text/plain": [
       "| 10      | 39.81s       | 7406.77           | 86.0574               | 0.185833    |"
      ]
     },
     "metadata": {},
     "output_type": "display_data"
    },
    {
     "data": {
      "text/html": [
       "<pre>| 11      | 43.80s       | 7392.58           | 85.9749               | 0.167425    |</pre>"
      ],
      "text/plain": [
       "| 11      | 43.80s       | 7392.58           | 85.9749               | 0.167425    |"
      ]
     },
     "metadata": {},
     "output_type": "display_data"
    },
    {
     "data": {
      "text/html": [
       "<pre>| 12      | 47.67s       | 7380.85           | 85.9066               | 0.152336    |</pre>"
      ],
      "text/plain": [
       "| 12      | 47.67s       | 7380.85           | 85.9066               | 0.152336    |"
      ]
     },
     "metadata": {},
     "output_type": "display_data"
    },
    {
     "data": {
      "text/html": [
       "<pre>| 13      | 51.58s       | 7369.56           | 85.8408               | 0.139742    |</pre>"
      ],
      "text/plain": [
       "| 13      | 51.58s       | 7369.56           | 85.8408               | 0.139742    |"
      ]
     },
     "metadata": {},
     "output_type": "display_data"
    },
    {
     "data": {
      "text/html": [
       "<pre>| 14      | 55.55s       | 7360.2            | 85.7863               | 0.129071    |</pre>"
      ],
      "text/plain": [
       "| 14      | 55.55s       | 7360.2            | 85.7863               | 0.129071    |"
      ]
     },
     "metadata": {},
     "output_type": "display_data"
    },
    {
     "data": {
      "text/html": [
       "<pre>| 15      | 59.44s       | 7350.9            | 85.732                | 0.119914    |</pre>"
      ],
      "text/plain": [
       "| 15      | 59.44s       | 7350.9            | 85.732                | 0.119914    |"
      ]
     },
     "metadata": {},
     "output_type": "display_data"
    },
    {
     "data": {
      "text/html": [
       "<pre>| 16      | 1m 3s        | 7339.68           | 85.6666               | 0.11197     |</pre>"
      ],
      "text/plain": [
       "| 16      | 1m 3s        | 7339.68           | 85.6666               | 0.11197     |"
      ]
     },
     "metadata": {},
     "output_type": "display_data"
    },
    {
     "data": {
      "text/html": [
       "<pre>| 17      | 1m 7s        | 7330.87           | 85.6151               | 0.105014    |</pre>"
      ],
      "text/plain": [
       "| 17      | 1m 7s        | 7330.87           | 85.6151               | 0.105014    |"
      ]
     },
     "metadata": {},
     "output_type": "display_data"
    },
    {
     "data": {
      "text/html": [
       "<pre>| 18      | 1m 11s       | 7321.14           | 85.5583               | 0.0988711   |</pre>"
      ],
      "text/plain": [
       "| 18      | 1m 11s       | 7321.14           | 85.5583               | 0.0988711   |"
      ]
     },
     "metadata": {},
     "output_type": "display_data"
    },
    {
     "data": {
      "text/html": [
       "<pre>| 19      | 1m 15s       | 7309.93           | 85.4928               | 0.0934073   |</pre>"
      ],
      "text/plain": [
       "| 19      | 1m 15s       | 7309.93           | 85.4928               | 0.0934073   |"
      ]
     },
     "metadata": {},
     "output_type": "display_data"
    },
    {
     "data": {
      "text/html": [
       "<pre>| 20      | 1m 19s       | 7303.13           | 85.453                | 0.0885157   |</pre>"
      ],
      "text/plain": [
       "| 20      | 1m 19s       | 7303.13           | 85.453                | 0.0885157   |"
      ]
     },
     "metadata": {},
     "output_type": "display_data"
    },
    {
     "data": {
      "text/html": [
       "<pre>| 21      | 1m 23s       | 7293.53           | 85.3969               | 0.084111    |</pre>"
      ],
      "text/plain": [
       "| 21      | 1m 23s       | 7293.53           | 85.3969               | 0.084111    |"
      ]
     },
     "metadata": {},
     "output_type": "display_data"
    },
    {
     "data": {
      "text/html": [
       "<pre>| 22      | 1m 26s       | 7281.7            | 85.3275               | 0.0801239   |</pre>"
      ],
      "text/plain": [
       "| 22      | 1m 26s       | 7281.7            | 85.3275               | 0.0801239   |"
      ]
     },
     "metadata": {},
     "output_type": "display_data"
    },
    {
     "data": {
      "text/html": [
       "<pre>| 23      | 1m 30s       | 7274.14           | 85.2832               | 0.0764976   |</pre>"
      ],
      "text/plain": [
       "| 23      | 1m 30s       | 7274.14           | 85.2832               | 0.0764976   |"
      ]
     },
     "metadata": {},
     "output_type": "display_data"
    },
    {
     "data": {
      "text/html": [
       "<pre>| 24      | 1m 34s       | 7267.12           | 85.2421               | 0.0731854   |</pre>"
      ],
      "text/plain": [
       "| 24      | 1m 34s       | 7267.12           | 85.2421               | 0.0731854   |"
      ]
     },
     "metadata": {},
     "output_type": "display_data"
    },
    {
     "data": {
      "text/html": [
       "<pre>| 25      | 1m 38s       | 7258.34           | 85.1906               | 0.0701481   |</pre>"
      ],
      "text/plain": [
       "| 25      | 1m 38s       | 7258.34           | 85.1906               | 0.0701481   |"
      ]
     },
     "metadata": {},
     "output_type": "display_data"
    },
    {
     "data": {
      "text/html": [
       "<pre>| 26      | 1m 42s       | 7245.92           | 85.1177               | 0.0673529   |</pre>"
      ],
      "text/plain": [
       "| 26      | 1m 42s       | 7245.92           | 85.1177               | 0.0673529   |"
      ]
     },
     "metadata": {},
     "output_type": "display_data"
    },
    {
     "data": {
      "text/html": [
       "<pre>| 27      | 1m 46s       | 7239.16           | 85.078                | 0.0647719   |</pre>"
      ],
      "text/plain": [
       "| 27      | 1m 46s       | 7239.16           | 85.078                | 0.0647719   |"
      ]
     },
     "metadata": {},
     "output_type": "display_data"
    },
    {
     "data": {
      "text/html": [
       "<pre>| 28      | 1m 50s       | 7233.9            | 85.0471               | 0.0623814   |</pre>"
      ],
      "text/plain": [
       "| 28      | 1m 50s       | 7233.9            | 85.0471               | 0.0623814   |"
      ]
     },
     "metadata": {},
     "output_type": "display_data"
    },
    {
     "data": {
      "text/html": [
       "<pre>| 29      | 1m 54s       | 7222.82           | 84.9819               | 0.0601611   |</pre>"
      ],
      "text/plain": [
       "| 29      | 1m 54s       | 7222.82           | 84.9819               | 0.0601611   |"
      ]
     },
     "metadata": {},
     "output_type": "display_data"
    },
    {
     "data": {
      "text/html": [
       "<pre>| 30      | 1m 58s       | 7214.41           | 84.9325               | 0.0580934   |</pre>"
      ],
      "text/plain": [
       "| 30      | 1m 58s       | 7214.41           | 84.9325               | 0.0580934   |"
      ]
     },
     "metadata": {},
     "output_type": "display_data"
    },
    {
     "data": {
      "text/html": [
       "<pre>| 31      | 2m 2s        | 7206.96           | 84.8887               | 0.0561631   |</pre>"
      ],
      "text/plain": [
       "| 31      | 2m 2s        | 7206.96           | 84.8887               | 0.0561631   |"
      ]
     },
     "metadata": {},
     "output_type": "display_data"
    },
    {
     "data": {
      "text/html": [
       "<pre>| 32      | 2m 6s        | 7198.29           | 84.8376               | 0.0543569   |</pre>"
      ],
      "text/plain": [
       "| 32      | 2m 6s        | 7198.29           | 84.8376               | 0.0543569   |"
      ]
     },
     "metadata": {},
     "output_type": "display_data"
    },
    {
     "data": {
      "text/html": [
       "<pre>| 33      | 2m 10s       | 7189.83           | 84.7877               | 0.0526633   |</pre>"
      ],
      "text/plain": [
       "| 33      | 2m 10s       | 7189.83           | 84.7877               | 0.0526633   |"
      ]
     },
     "metadata": {},
     "output_type": "display_data"
    },
    {
     "data": {
      "text/html": [
       "<pre>| 34      | 2m 13s       | 7182.04           | 84.7418               | 0.0510721   |</pre>"
      ],
      "text/plain": [
       "| 34      | 2m 13s       | 7182.04           | 84.7418               | 0.0510721   |"
      ]
     },
     "metadata": {},
     "output_type": "display_data"
    },
    {
     "data": {
      "text/html": [
       "<pre>| 35      | 2m 17s       | 7178.46           | 84.7207               | 0.0495742   |</pre>"
      ],
      "text/plain": [
       "| 35      | 2m 17s       | 7178.46           | 84.7207               | 0.0495742   |"
      ]
     },
     "metadata": {},
     "output_type": "display_data"
    },
    {
     "data": {
      "text/html": [
       "<pre>| 36      | 2m 21s       | 7167.1            | 84.6537               | 0.0481616   |</pre>"
      ],
      "text/plain": [
       "| 36      | 2m 21s       | 7167.1            | 84.6537               | 0.0481616   |"
      ]
     },
     "metadata": {},
     "output_type": "display_data"
    },
    {
     "data": {
      "text/html": [
       "<pre>| 37      | 2m 25s       | 7160.48           | 84.6145               | 0.0468274   |</pre>"
      ],
      "text/plain": [
       "| 37      | 2m 25s       | 7160.48           | 84.6145               | 0.0468274   |"
      ]
     },
     "metadata": {},
     "output_type": "display_data"
    },
    {
     "data": {
      "text/html": [
       "<pre>| 38      | 2m 29s       | 7153.4            | 84.5727               | 0.045565    |</pre>"
      ],
      "text/plain": [
       "| 38      | 2m 29s       | 7153.4            | 84.5727               | 0.045565    |"
      ]
     },
     "metadata": {},
     "output_type": "display_data"
    },
    {
     "data": {
      "text/html": [
       "<pre>| 39      | 2m 33s       | 7144.07           | 84.5175               | 0.0443689   |</pre>"
      ],
      "text/plain": [
       "| 39      | 2m 33s       | 7144.07           | 84.5175               | 0.0443689   |"
      ]
     },
     "metadata": {},
     "output_type": "display_data"
    },
    {
     "data": {
      "text/html": [
       "<pre>| 40      | 2m 37s       | 7134.11           | 84.4586               | 0.0432341   |</pre>"
      ],
      "text/plain": [
       "| 40      | 2m 37s       | 7134.11           | 84.4586               | 0.0432341   |"
      ]
     },
     "metadata": {},
     "output_type": "display_data"
    },
    {
     "data": {
      "text/html": [
       "<pre>| 41      | 2m 41s       | 7127.76           | 84.4211               | 0.0421558   |</pre>"
      ],
      "text/plain": [
       "| 41      | 2m 41s       | 7127.76           | 84.4211               | 0.0421558   |"
      ]
     },
     "metadata": {},
     "output_type": "display_data"
    },
    {
     "data": {
      "text/html": [
       "<pre>| 42      | 2m 45s       | 7121.01           | 84.3811               | 0.04113     |</pre>"
      ],
      "text/plain": [
       "| 42      | 2m 45s       | 7121.01           | 84.3811               | 0.04113     |"
      ]
     },
     "metadata": {},
     "output_type": "display_data"
    },
    {
     "data": {
      "text/html": [
       "<pre>| 43      | 2m 49s       | 7114.15           | 84.3404               | 0.0401529   |</pre>"
      ],
      "text/plain": [
       "| 43      | 2m 49s       | 7114.15           | 84.3404               | 0.0401529   |"
      ]
     },
     "metadata": {},
     "output_type": "display_data"
    },
    {
     "data": {
      "text/html": [
       "<pre>| 44      | 2m 53s       | 7107.63           | 84.3018               | 0.0392212   |</pre>"
      ],
      "text/plain": [
       "| 44      | 2m 53s       | 7107.63           | 84.3018               | 0.0392212   |"
      ]
     },
     "metadata": {},
     "output_type": "display_data"
    },
    {
     "data": {
      "text/html": [
       "<pre>| 45      | 2m 57s       | 7098.82           | 84.2495               | 0.0383318   |</pre>"
      ],
      "text/plain": [
       "| 45      | 2m 57s       | 7098.82           | 84.2495               | 0.0383318   |"
      ]
     },
     "metadata": {},
     "output_type": "display_data"
    },
    {
     "data": {
      "text/html": [
       "<pre>| 46      | 3m 1s        | 7092.47           | 84.2119               | 0.0374817   |</pre>"
      ],
      "text/plain": [
       "| 46      | 3m 1s        | 7092.47           | 84.2119               | 0.0374817   |"
      ]
     },
     "metadata": {},
     "output_type": "display_data"
    },
    {
     "data": {
      "text/html": [
       "<pre>| 47      | 3m 5s        | 7084.84           | 84.1666               | 0.0366686   |</pre>"
      ],
      "text/plain": [
       "| 47      | 3m 5s        | 7084.84           | 84.1666               | 0.0366686   |"
      ]
     },
     "metadata": {},
     "output_type": "display_data"
    },
    {
     "data": {
      "text/html": [
       "<pre>| 48      | 3m 9s        | 7078.22           | 84.1273               | 0.03589     |</pre>"
      ],
      "text/plain": [
       "| 48      | 3m 9s        | 7078.22           | 84.1273               | 0.03589     |"
      ]
     },
     "metadata": {},
     "output_type": "display_data"
    },
    {
     "data": {
      "text/html": [
       "<pre>| 49      | 3m 12s       | 7071.06           | 84.0847               | 0.0351438   |</pre>"
      ],
      "text/plain": [
       "| 49      | 3m 12s       | 7071.06           | 84.0847               | 0.0351438   |"
      ]
     },
     "metadata": {},
     "output_type": "display_data"
    },
    {
     "data": {
      "text/html": [
       "<pre>| 50      | 3m 16s       | 7065.18           | 84.0498               | 0.034428    |</pre>"
      ],
      "text/plain": [
       "| 50      | 3m 16s       | 7065.18           | 84.0498               | 0.034428    |"
      ]
     },
     "metadata": {},
     "output_type": "display_data"
    },
    {
     "data": {
      "text/html": [
       "<pre>+---------+--------------+-------------------+-----------------------+-------------+</pre>"
      ],
      "text/plain": [
       "+---------+--------------+-------------------+-----------------------+-------------+"
      ]
     },
     "metadata": {},
     "output_type": "display_data"
    },
    {
     "data": {
      "text/html": [
       "<pre>Optimization Complete: Maximum number of passes through the data reached.</pre>"
      ],
      "text/plain": [
       "Optimization Complete: Maximum number of passes through the data reached."
      ]
     },
     "metadata": {},
     "output_type": "display_data"
    },
    {
     "data": {
      "text/html": [
       "<pre>Computing final objective value and training RMSE.</pre>"
      ],
      "text/plain": [
       "Computing final objective value and training RMSE."
      ]
     },
     "metadata": {},
     "output_type": "display_data"
    },
    {
     "data": {
      "text/html": [
       "<pre>       Final objective value: 7037.05</pre>"
      ],
      "text/plain": [
       "       Final objective value: 7037.05"
      ]
     },
     "metadata": {},
     "output_type": "display_data"
    },
    {
     "data": {
      "text/html": [
       "<pre>       Final training RMSE: 83.8823</pre>"
      ],
      "text/plain": [
       "       Final training RMSE: 83.8823"
      ]
     },
     "metadata": {},
     "output_type": "display_data"
    }
   ],
   "source": [
    "baseline_mf_model = gl.recommender.factorization_recommender.create(baseline_mf_sf_train, user_id='Initial Physician NPI', item_id='Secondary Physician NPI', target='Number Unique Beneficiaries')"
   ]
  },
  {
   "cell_type": "code",
   "execution_count": 57,
   "metadata": {},
   "outputs": [],
   "source": [
    "baseline_mf_model.save('../model/baseline')"
   ]
  },
  {
   "cell_type": "code",
   "execution_count": 53,
   "metadata": {},
   "outputs": [
    {
     "data": {
      "text/html": [
       "<pre>recommendations finished on 1000/700180 queries. users per second: 572.951</pre>"
      ],
      "text/plain": [
       "recommendations finished on 1000/700180 queries. users per second: 572.951"
      ]
     },
     "metadata": {},
     "output_type": "display_data"
    },
    {
     "data": {
      "text/html": [
       "<pre>recommendations finished on 2000/700180 queries. users per second: 583.045</pre>"
      ],
      "text/plain": [
       "recommendations finished on 2000/700180 queries. users per second: 583.045"
      ]
     },
     "metadata": {},
     "output_type": "display_data"
    },
    {
     "data": {
      "text/html": [
       "<pre>recommendations finished on 3000/700180 queries. users per second: 581.13</pre>"
      ],
      "text/plain": [
       "recommendations finished on 3000/700180 queries. users per second: 581.13"
      ]
     },
     "metadata": {},
     "output_type": "display_data"
    },
    {
     "data": {
      "text/html": [
       "<pre>recommendations finished on 4000/700180 queries. users per second: 584.205</pre>"
      ],
      "text/plain": [
       "recommendations finished on 4000/700180 queries. users per second: 584.205"
      ]
     },
     "metadata": {},
     "output_type": "display_data"
    },
    {
     "data": {
      "text/html": [
       "<pre>recommendations finished on 5000/700180 queries. users per second: 584.475</pre>"
      ],
      "text/plain": [
       "recommendations finished on 5000/700180 queries. users per second: 584.475"
      ]
     },
     "metadata": {},
     "output_type": "display_data"
    },
    {
     "data": {
      "text/html": [
       "<pre>recommendations finished on 6000/700180 queries. users per second: 585.422</pre>"
      ],
      "text/plain": [
       "recommendations finished on 6000/700180 queries. users per second: 585.422"
      ]
     },
     "metadata": {},
     "output_type": "display_data"
    },
    {
     "data": {
      "text/html": [
       "<pre>recommendations finished on 7000/700180 queries. users per second: 585.384</pre>"
      ],
      "text/plain": [
       "recommendations finished on 7000/700180 queries. users per second: 585.384"
      ]
     },
     "metadata": {},
     "output_type": "display_data"
    },
    {
     "data": {
      "text/html": [
       "<pre>recommendations finished on 8000/700180 queries. users per second: 585.242</pre>"
      ],
      "text/plain": [
       "recommendations finished on 8000/700180 queries. users per second: 585.242"
      ]
     },
     "metadata": {},
     "output_type": "display_data"
    },
    {
     "data": {
      "text/html": [
       "<pre>recommendations finished on 9000/700180 queries. users per second: 585.33</pre>"
      ],
      "text/plain": [
       "recommendations finished on 9000/700180 queries. users per second: 585.33"
      ]
     },
     "metadata": {},
     "output_type": "display_data"
    },
    {
     "data": {
      "text/html": [
       "<pre>recommendations finished on 10000/700180 queries. users per second: 585.527</pre>"
      ],
      "text/plain": [
       "recommendations finished on 10000/700180 queries. users per second: 585.527"
      ]
     },
     "metadata": {},
     "output_type": "display_data"
    },
    {
     "data": {
      "text/html": [
       "<pre>recommendations finished on 11000/700180 queries. users per second: 585.516</pre>"
      ],
      "text/plain": [
       "recommendations finished on 11000/700180 queries. users per second: 585.516"
      ]
     },
     "metadata": {},
     "output_type": "display_data"
    },
    {
     "data": {
      "text/html": [
       "<pre>recommendations finished on 12000/700180 queries. users per second: 585.291</pre>"
      ],
      "text/plain": [
       "recommendations finished on 12000/700180 queries. users per second: 585.291"
      ]
     },
     "metadata": {},
     "output_type": "display_data"
    },
    {
     "data": {
      "text/html": [
       "<pre>recommendations finished on 13000/700180 queries. users per second: 585.477</pre>"
      ],
      "text/plain": [
       "recommendations finished on 13000/700180 queries. users per second: 585.477"
      ]
     },
     "metadata": {},
     "output_type": "display_data"
    },
    {
     "data": {
      "text/html": [
       "<pre>recommendations finished on 14000/700180 queries. users per second: 585.695</pre>"
      ],
      "text/plain": [
       "recommendations finished on 14000/700180 queries. users per second: 585.695"
      ]
     },
     "metadata": {},
     "output_type": "display_data"
    },
    {
     "data": {
      "text/html": [
       "<pre>recommendations finished on 15000/700180 queries. users per second: 585.371</pre>"
      ],
      "text/plain": [
       "recommendations finished on 15000/700180 queries. users per second: 585.371"
      ]
     },
     "metadata": {},
     "output_type": "display_data"
    },
    {
     "data": {
      "text/html": [
       "<pre>recommendations finished on 16000/700180 queries. users per second: 585.514</pre>"
      ],
      "text/plain": [
       "recommendations finished on 16000/700180 queries. users per second: 585.514"
      ]
     },
     "metadata": {},
     "output_type": "display_data"
    },
    {
     "data": {
      "text/html": [
       "<pre>recommendations finished on 17000/700180 queries. users per second: 586.06</pre>"
      ],
      "text/plain": [
       "recommendations finished on 17000/700180 queries. users per second: 586.06"
      ]
     },
     "metadata": {},
     "output_type": "display_data"
    },
    {
     "data": {
      "text/html": [
       "<pre>recommendations finished on 18000/700180 queries. users per second: 585.766</pre>"
      ],
      "text/plain": [
       "recommendations finished on 18000/700180 queries. users per second: 585.766"
      ]
     },
     "metadata": {},
     "output_type": "display_data"
    },
    {
     "data": {
      "text/html": [
       "<pre>recommendations finished on 19000/700180 queries. users per second: 585.572</pre>"
      ],
      "text/plain": [
       "recommendations finished on 19000/700180 queries. users per second: 585.572"
      ]
     },
     "metadata": {},
     "output_type": "display_data"
    },
    {
     "data": {
      "text/html": [
       "<pre>recommendations finished on 20000/700180 queries. users per second: 585.5</pre>"
      ],
      "text/plain": [
       "recommendations finished on 20000/700180 queries. users per second: 585.5"
      ]
     },
     "metadata": {},
     "output_type": "display_data"
    },
    {
     "data": {
      "text/html": [
       "<pre>recommendations finished on 21000/700180 queries. users per second: 585.538</pre>"
      ],
      "text/plain": [
       "recommendations finished on 21000/700180 queries. users per second: 585.538"
      ]
     },
     "metadata": {},
     "output_type": "display_data"
    },
    {
     "data": {
      "text/html": [
       "<pre>recommendations finished on 22000/700180 queries. users per second: 585.502</pre>"
      ],
      "text/plain": [
       "recommendations finished on 22000/700180 queries. users per second: 585.502"
      ]
     },
     "metadata": {},
     "output_type": "display_data"
    },
    {
     "data": {
      "text/html": [
       "<pre>recommendations finished on 23000/700180 queries. users per second: 585.6</pre>"
      ],
      "text/plain": [
       "recommendations finished on 23000/700180 queries. users per second: 585.6"
      ]
     },
     "metadata": {},
     "output_type": "display_data"
    },
    {
     "data": {
      "text/html": [
       "<pre>recommendations finished on 24000/700180 queries. users per second: 585.649</pre>"
      ],
      "text/plain": [
       "recommendations finished on 24000/700180 queries. users per second: 585.649"
      ]
     },
     "metadata": {},
     "output_type": "display_data"
    },
    {
     "data": {
      "text/html": [
       "<pre>recommendations finished on 25000/700180 queries. users per second: 585.592</pre>"
      ],
      "text/plain": [
       "recommendations finished on 25000/700180 queries. users per second: 585.592"
      ]
     },
     "metadata": {},
     "output_type": "display_data"
    },
    {
     "data": {
      "text/html": [
       "<pre>recommendations finished on 26000/700180 queries. users per second: 585.657</pre>"
      ],
      "text/plain": [
       "recommendations finished on 26000/700180 queries. users per second: 585.657"
      ]
     },
     "metadata": {},
     "output_type": "display_data"
    },
    {
     "data": {
      "text/html": [
       "<pre>recommendations finished on 27000/700180 queries. users per second: 585.728</pre>"
      ],
      "text/plain": [
       "recommendations finished on 27000/700180 queries. users per second: 585.728"
      ]
     },
     "metadata": {},
     "output_type": "display_data"
    },
    {
     "data": {
      "text/html": [
       "<pre>recommendations finished on 28000/700180 queries. users per second: 585.611</pre>"
      ],
      "text/plain": [
       "recommendations finished on 28000/700180 queries. users per second: 585.611"
      ]
     },
     "metadata": {},
     "output_type": "display_data"
    },
    {
     "data": {
      "text/html": [
       "<pre>recommendations finished on 29000/700180 queries. users per second: 585.764</pre>"
      ],
      "text/plain": [
       "recommendations finished on 29000/700180 queries. users per second: 585.764"
      ]
     },
     "metadata": {},
     "output_type": "display_data"
    },
    {
     "data": {
      "text/html": [
       "<pre>recommendations finished on 30000/700180 queries. users per second: 585.642</pre>"
      ],
      "text/plain": [
       "recommendations finished on 30000/700180 queries. users per second: 585.642"
      ]
     },
     "metadata": {},
     "output_type": "display_data"
    },
    {
     "data": {
      "text/html": [
       "<pre>recommendations finished on 31000/700180 queries. users per second: 585.835</pre>"
      ],
      "text/plain": [
       "recommendations finished on 31000/700180 queries. users per second: 585.835"
      ]
     },
     "metadata": {},
     "output_type": "display_data"
    },
    {
     "data": {
      "text/html": [
       "<pre>recommendations finished on 32000/700180 queries. users per second: 585.733</pre>"
      ],
      "text/plain": [
       "recommendations finished on 32000/700180 queries. users per second: 585.733"
      ]
     },
     "metadata": {},
     "output_type": "display_data"
    },
    {
     "data": {
      "text/html": [
       "<pre>recommendations finished on 33000/700180 queries. users per second: 585.783</pre>"
      ],
      "text/plain": [
       "recommendations finished on 33000/700180 queries. users per second: 585.783"
      ]
     },
     "metadata": {},
     "output_type": "display_data"
    },
    {
     "data": {
      "text/html": [
       "<pre>recommendations finished on 34000/700180 queries. users per second: 585.698</pre>"
      ],
      "text/plain": [
       "recommendations finished on 34000/700180 queries. users per second: 585.698"
      ]
     },
     "metadata": {},
     "output_type": "display_data"
    },
    {
     "data": {
      "text/html": [
       "<pre>recommendations finished on 35000/700180 queries. users per second: 585.586</pre>"
      ],
      "text/plain": [
       "recommendations finished on 35000/700180 queries. users per second: 585.586"
      ]
     },
     "metadata": {},
     "output_type": "display_data"
    },
    {
     "data": {
      "text/html": [
       "<pre>recommendations finished on 36000/700180 queries. users per second: 585.779</pre>"
      ],
      "text/plain": [
       "recommendations finished on 36000/700180 queries. users per second: 585.779"
      ]
     },
     "metadata": {},
     "output_type": "display_data"
    },
    {
     "data": {
      "text/html": [
       "<pre>recommendations finished on 37000/700180 queries. users per second: 585.757</pre>"
      ],
      "text/plain": [
       "recommendations finished on 37000/700180 queries. users per second: 585.757"
      ]
     },
     "metadata": {},
     "output_type": "display_data"
    },
    {
     "data": {
      "text/html": [
       "<pre>recommendations finished on 38000/700180 queries. users per second: 585.761</pre>"
      ],
      "text/plain": [
       "recommendations finished on 38000/700180 queries. users per second: 585.761"
      ]
     },
     "metadata": {},
     "output_type": "display_data"
    },
    {
     "data": {
      "text/html": [
       "<pre>recommendations finished on 39000/700180 queries. users per second: 585.808</pre>"
      ],
      "text/plain": [
       "recommendations finished on 39000/700180 queries. users per second: 585.808"
      ]
     },
     "metadata": {},
     "output_type": "display_data"
    },
    {
     "data": {
      "text/html": [
       "<pre>recommendations finished on 40000/700180 queries. users per second: 585.823</pre>"
      ],
      "text/plain": [
       "recommendations finished on 40000/700180 queries. users per second: 585.823"
      ]
     },
     "metadata": {},
     "output_type": "display_data"
    },
    {
     "data": {
      "text/html": [
       "<pre>recommendations finished on 41000/700180 queries. users per second: 585.789</pre>"
      ],
      "text/plain": [
       "recommendations finished on 41000/700180 queries. users per second: 585.789"
      ]
     },
     "metadata": {},
     "output_type": "display_data"
    },
    {
     "data": {
      "text/html": [
       "<pre>recommendations finished on 42000/700180 queries. users per second: 585.859</pre>"
      ],
      "text/plain": [
       "recommendations finished on 42000/700180 queries. users per second: 585.859"
      ]
     },
     "metadata": {},
     "output_type": "display_data"
    },
    {
     "data": {
      "text/html": [
       "<pre>recommendations finished on 43000/700180 queries. users per second: 585.785</pre>"
      ],
      "text/plain": [
       "recommendations finished on 43000/700180 queries. users per second: 585.785"
      ]
     },
     "metadata": {},
     "output_type": "display_data"
    },
    {
     "data": {
      "text/html": [
       "<pre>recommendations finished on 44000/700180 queries. users per second: 585.722</pre>"
      ],
      "text/plain": [
       "recommendations finished on 44000/700180 queries. users per second: 585.722"
      ]
     },
     "metadata": {},
     "output_type": "display_data"
    },
    {
     "data": {
      "text/html": [
       "<pre>recommendations finished on 45000/700180 queries. users per second: 585.809</pre>"
      ],
      "text/plain": [
       "recommendations finished on 45000/700180 queries. users per second: 585.809"
      ]
     },
     "metadata": {},
     "output_type": "display_data"
    },
    {
     "data": {
      "text/html": [
       "<pre>recommendations finished on 46000/700180 queries. users per second: 585.83</pre>"
      ],
      "text/plain": [
       "recommendations finished on 46000/700180 queries. users per second: 585.83"
      ]
     },
     "metadata": {},
     "output_type": "display_data"
    },
    {
     "data": {
      "text/html": [
       "<pre>recommendations finished on 47000/700180 queries. users per second: 585.962</pre>"
      ],
      "text/plain": [
       "recommendations finished on 47000/700180 queries. users per second: 585.962"
      ]
     },
     "metadata": {},
     "output_type": "display_data"
    },
    {
     "data": {
      "text/html": [
       "<pre>recommendations finished on 48000/700180 queries. users per second: 585.83</pre>"
      ],
      "text/plain": [
       "recommendations finished on 48000/700180 queries. users per second: 585.83"
      ]
     },
     "metadata": {},
     "output_type": "display_data"
    },
    {
     "data": {
      "text/html": [
       "<pre>recommendations finished on 49000/700180 queries. users per second: 585.836</pre>"
      ],
      "text/plain": [
       "recommendations finished on 49000/700180 queries. users per second: 585.836"
      ]
     },
     "metadata": {},
     "output_type": "display_data"
    },
    {
     "data": {
      "text/html": [
       "<pre>recommendations finished on 50000/700180 queries. users per second: 585.983</pre>"
      ],
      "text/plain": [
       "recommendations finished on 50000/700180 queries. users per second: 585.983"
      ]
     },
     "metadata": {},
     "output_type": "display_data"
    },
    {
     "data": {
      "text/html": [
       "<pre>recommendations finished on 51000/700180 queries. users per second: 585.92</pre>"
      ],
      "text/plain": [
       "recommendations finished on 51000/700180 queries. users per second: 585.92"
      ]
     },
     "metadata": {},
     "output_type": "display_data"
    },
    {
     "data": {
      "text/html": [
       "<pre>recommendations finished on 52000/700180 queries. users per second: 585.986</pre>"
      ],
      "text/plain": [
       "recommendations finished on 52000/700180 queries. users per second: 585.986"
      ]
     },
     "metadata": {},
     "output_type": "display_data"
    },
    {
     "data": {
      "text/html": [
       "<pre>recommendations finished on 53000/700180 queries. users per second: 585.935</pre>"
      ],
      "text/plain": [
       "recommendations finished on 53000/700180 queries. users per second: 585.935"
      ]
     },
     "metadata": {},
     "output_type": "display_data"
    },
    {
     "data": {
      "text/html": [
       "<pre>recommendations finished on 54000/700180 queries. users per second: 585.942</pre>"
      ],
      "text/plain": [
       "recommendations finished on 54000/700180 queries. users per second: 585.942"
      ]
     },
     "metadata": {},
     "output_type": "display_data"
    },
    {
     "data": {
      "text/html": [
       "<pre>recommendations finished on 55000/700180 queries. users per second: 585.873</pre>"
      ],
      "text/plain": [
       "recommendations finished on 55000/700180 queries. users per second: 585.873"
      ]
     },
     "metadata": {},
     "output_type": "display_data"
    },
    {
     "data": {
      "text/html": [
       "<pre>recommendations finished on 56000/700180 queries. users per second: 585.793</pre>"
      ],
      "text/plain": [
       "recommendations finished on 56000/700180 queries. users per second: 585.793"
      ]
     },
     "metadata": {},
     "output_type": "display_data"
    },
    {
     "data": {
      "text/html": [
       "<pre>recommendations finished on 57000/700180 queries. users per second: 585.816</pre>"
      ],
      "text/plain": [
       "recommendations finished on 57000/700180 queries. users per second: 585.816"
      ]
     },
     "metadata": {},
     "output_type": "display_data"
    },
    {
     "data": {
      "text/html": [
       "<pre>recommendations finished on 58000/700180 queries. users per second: 585.861</pre>"
      ],
      "text/plain": [
       "recommendations finished on 58000/700180 queries. users per second: 585.861"
      ]
     },
     "metadata": {},
     "output_type": "display_data"
    },
    {
     "data": {
      "text/html": [
       "<pre>recommendations finished on 59000/700180 queries. users per second: 585.819</pre>"
      ],
      "text/plain": [
       "recommendations finished on 59000/700180 queries. users per second: 585.819"
      ]
     },
     "metadata": {},
     "output_type": "display_data"
    },
    {
     "data": {
      "text/html": [
       "<pre>recommendations finished on 60000/700180 queries. users per second: 585.747</pre>"
      ],
      "text/plain": [
       "recommendations finished on 60000/700180 queries. users per second: 585.747"
      ]
     },
     "metadata": {},
     "output_type": "display_data"
    },
    {
     "data": {
      "text/html": [
       "<pre>recommendations finished on 61000/700180 queries. users per second: 585.724</pre>"
      ],
      "text/plain": [
       "recommendations finished on 61000/700180 queries. users per second: 585.724"
      ]
     },
     "metadata": {},
     "output_type": "display_data"
    },
    {
     "data": {
      "text/html": [
       "<pre>recommendations finished on 62000/700180 queries. users per second: 585.8</pre>"
      ],
      "text/plain": [
       "recommendations finished on 62000/700180 queries. users per second: 585.8"
      ]
     },
     "metadata": {},
     "output_type": "display_data"
    },
    {
     "data": {
      "text/html": [
       "<pre>recommendations finished on 63000/700180 queries. users per second: 585.861</pre>"
      ],
      "text/plain": [
       "recommendations finished on 63000/700180 queries. users per second: 585.861"
      ]
     },
     "metadata": {},
     "output_type": "display_data"
    },
    {
     "data": {
      "text/html": [
       "<pre>recommendations finished on 64000/700180 queries. users per second: 585.846</pre>"
      ],
      "text/plain": [
       "recommendations finished on 64000/700180 queries. users per second: 585.846"
      ]
     },
     "metadata": {},
     "output_type": "display_data"
    },
    {
     "data": {
      "text/html": [
       "<pre>recommendations finished on 65000/700180 queries. users per second: 585.794</pre>"
      ],
      "text/plain": [
       "recommendations finished on 65000/700180 queries. users per second: 585.794"
      ]
     },
     "metadata": {},
     "output_type": "display_data"
    },
    {
     "data": {
      "text/html": [
       "<pre>recommendations finished on 66000/700180 queries. users per second: 585.821</pre>"
      ],
      "text/plain": [
       "recommendations finished on 66000/700180 queries. users per second: 585.821"
      ]
     },
     "metadata": {},
     "output_type": "display_data"
    },
    {
     "data": {
      "text/html": [
       "<pre>recommendations finished on 67000/700180 queries. users per second: 585.904</pre>"
      ],
      "text/plain": [
       "recommendations finished on 67000/700180 queries. users per second: 585.904"
      ]
     },
     "metadata": {},
     "output_type": "display_data"
    },
    {
     "data": {
      "text/html": [
       "<pre>recommendations finished on 68000/700180 queries. users per second: 585.874</pre>"
      ],
      "text/plain": [
       "recommendations finished on 68000/700180 queries. users per second: 585.874"
      ]
     },
     "metadata": {},
     "output_type": "display_data"
    },
    {
     "data": {
      "text/html": [
       "<pre>recommendations finished on 69000/700180 queries. users per second: 585.881</pre>"
      ],
      "text/plain": [
       "recommendations finished on 69000/700180 queries. users per second: 585.881"
      ]
     },
     "metadata": {},
     "output_type": "display_data"
    },
    {
     "data": {
      "text/html": [
       "<pre>recommendations finished on 70000/700180 queries. users per second: 585.825</pre>"
      ],
      "text/plain": [
       "recommendations finished on 70000/700180 queries. users per second: 585.825"
      ]
     },
     "metadata": {},
     "output_type": "display_data"
    },
    {
     "data": {
      "text/html": [
       "<pre>recommendations finished on 71000/700180 queries. users per second: 585.825</pre>"
      ],
      "text/plain": [
       "recommendations finished on 71000/700180 queries. users per second: 585.825"
      ]
     },
     "metadata": {},
     "output_type": "display_data"
    },
    {
     "data": {
      "text/html": [
       "<pre>recommendations finished on 72000/700180 queries. users per second: 585.815</pre>"
      ],
      "text/plain": [
       "recommendations finished on 72000/700180 queries. users per second: 585.815"
      ]
     },
     "metadata": {},
     "output_type": "display_data"
    },
    {
     "data": {
      "text/html": [
       "<pre>recommendations finished on 73000/700180 queries. users per second: 585.8</pre>"
      ],
      "text/plain": [
       "recommendations finished on 73000/700180 queries. users per second: 585.8"
      ]
     },
     "metadata": {},
     "output_type": "display_data"
    },
    {
     "data": {
      "text/html": [
       "<pre>recommendations finished on 74000/700180 queries. users per second: 585.77</pre>"
      ],
      "text/plain": [
       "recommendations finished on 74000/700180 queries. users per second: 585.77"
      ]
     },
     "metadata": {},
     "output_type": "display_data"
    },
    {
     "data": {
      "text/html": [
       "<pre>recommendations finished on 75000/700180 queries. users per second: 585.788</pre>"
      ],
      "text/plain": [
       "recommendations finished on 75000/700180 queries. users per second: 585.788"
      ]
     },
     "metadata": {},
     "output_type": "display_data"
    },
    {
     "data": {
      "text/html": [
       "<pre>recommendations finished on 76000/700180 queries. users per second: 585.788</pre>"
      ],
      "text/plain": [
       "recommendations finished on 76000/700180 queries. users per second: 585.788"
      ]
     },
     "metadata": {},
     "output_type": "display_data"
    },
    {
     "data": {
      "text/html": [
       "<pre>recommendations finished on 77000/700180 queries. users per second: 585.78</pre>"
      ],
      "text/plain": [
       "recommendations finished on 77000/700180 queries. users per second: 585.78"
      ]
     },
     "metadata": {},
     "output_type": "display_data"
    },
    {
     "data": {
      "text/html": [
       "<pre>recommendations finished on 78000/700180 queries. users per second: 585.747</pre>"
      ],
      "text/plain": [
       "recommendations finished on 78000/700180 queries. users per second: 585.747"
      ]
     },
     "metadata": {},
     "output_type": "display_data"
    },
    {
     "data": {
      "text/html": [
       "<pre>recommendations finished on 79000/700180 queries. users per second: 585.77</pre>"
      ],
      "text/plain": [
       "recommendations finished on 79000/700180 queries. users per second: 585.77"
      ]
     },
     "metadata": {},
     "output_type": "display_data"
    },
    {
     "data": {
      "text/html": [
       "<pre>recommendations finished on 80000/700180 queries. users per second: 585.783</pre>"
      ],
      "text/plain": [
       "recommendations finished on 80000/700180 queries. users per second: 585.783"
      ]
     },
     "metadata": {},
     "output_type": "display_data"
    },
    {
     "data": {
      "text/html": [
       "<pre>recommendations finished on 81000/700180 queries. users per second: 585.752</pre>"
      ],
      "text/plain": [
       "recommendations finished on 81000/700180 queries. users per second: 585.752"
      ]
     },
     "metadata": {},
     "output_type": "display_data"
    },
    {
     "data": {
      "text/html": [
       "<pre>recommendations finished on 82000/700180 queries. users per second: 585.786</pre>"
      ],
      "text/plain": [
       "recommendations finished on 82000/700180 queries. users per second: 585.786"
      ]
     },
     "metadata": {},
     "output_type": "display_data"
    },
    {
     "data": {
      "text/html": [
       "<pre>recommendations finished on 83000/700180 queries. users per second: 585.826</pre>"
      ],
      "text/plain": [
       "recommendations finished on 83000/700180 queries. users per second: 585.826"
      ]
     },
     "metadata": {},
     "output_type": "display_data"
    },
    {
     "data": {
      "text/html": [
       "<pre>recommendations finished on 84000/700180 queries. users per second: 585.791</pre>"
      ],
      "text/plain": [
       "recommendations finished on 84000/700180 queries. users per second: 585.791"
      ]
     },
     "metadata": {},
     "output_type": "display_data"
    },
    {
     "data": {
      "text/html": [
       "<pre>recommendations finished on 85000/700180 queries. users per second: 585.776</pre>"
      ],
      "text/plain": [
       "recommendations finished on 85000/700180 queries. users per second: 585.776"
      ]
     },
     "metadata": {},
     "output_type": "display_data"
    },
    {
     "data": {
      "text/html": [
       "<pre>recommendations finished on 86000/700180 queries. users per second: 585.758</pre>"
      ],
      "text/plain": [
       "recommendations finished on 86000/700180 queries. users per second: 585.758"
      ]
     },
     "metadata": {},
     "output_type": "display_data"
    },
    {
     "data": {
      "text/html": [
       "<pre>recommendations finished on 87000/700180 queries. users per second: 585.724</pre>"
      ],
      "text/plain": [
       "recommendations finished on 87000/700180 queries. users per second: 585.724"
      ]
     },
     "metadata": {},
     "output_type": "display_data"
    },
    {
     "data": {
      "text/html": [
       "<pre>recommendations finished on 88000/700180 queries. users per second: 585.759</pre>"
      ],
      "text/plain": [
       "recommendations finished on 88000/700180 queries. users per second: 585.759"
      ]
     },
     "metadata": {},
     "output_type": "display_data"
    },
    {
     "data": {
      "text/html": [
       "<pre>recommendations finished on 89000/700180 queries. users per second: 585.747</pre>"
      ],
      "text/plain": [
       "recommendations finished on 89000/700180 queries. users per second: 585.747"
      ]
     },
     "metadata": {},
     "output_type": "display_data"
    },
    {
     "data": {
      "text/html": [
       "<pre>recommendations finished on 90000/700180 queries. users per second: 585.771</pre>"
      ],
      "text/plain": [
       "recommendations finished on 90000/700180 queries. users per second: 585.771"
      ]
     },
     "metadata": {},
     "output_type": "display_data"
    },
    {
     "data": {
      "text/html": [
       "<pre>recommendations finished on 91000/700180 queries. users per second: 585.765</pre>"
      ],
      "text/plain": [
       "recommendations finished on 91000/700180 queries. users per second: 585.765"
      ]
     },
     "metadata": {},
     "output_type": "display_data"
    },
    {
     "data": {
      "text/html": [
       "<pre>recommendations finished on 92000/700180 queries. users per second: 585.763</pre>"
      ],
      "text/plain": [
       "recommendations finished on 92000/700180 queries. users per second: 585.763"
      ]
     },
     "metadata": {},
     "output_type": "display_data"
    },
    {
     "data": {
      "text/html": [
       "<pre>recommendations finished on 93000/700180 queries. users per second: 585.759</pre>"
      ],
      "text/plain": [
       "recommendations finished on 93000/700180 queries. users per second: 585.759"
      ]
     },
     "metadata": {},
     "output_type": "display_data"
    },
    {
     "data": {
      "text/html": [
       "<pre>recommendations finished on 94000/700180 queries. users per second: 585.702</pre>"
      ],
      "text/plain": [
       "recommendations finished on 94000/700180 queries. users per second: 585.702"
      ]
     },
     "metadata": {},
     "output_type": "display_data"
    },
    {
     "data": {
      "text/html": [
       "<pre>recommendations finished on 95000/700180 queries. users per second: 585.708</pre>"
      ],
      "text/plain": [
       "recommendations finished on 95000/700180 queries. users per second: 585.708"
      ]
     },
     "metadata": {},
     "output_type": "display_data"
    },
    {
     "data": {
      "text/html": [
       "<pre>recommendations finished on 96000/700180 queries. users per second: 585.66</pre>"
      ],
      "text/plain": [
       "recommendations finished on 96000/700180 queries. users per second: 585.66"
      ]
     },
     "metadata": {},
     "output_type": "display_data"
    },
    {
     "data": {
      "text/html": [
       "<pre>recommendations finished on 97000/700180 queries. users per second: 585.689</pre>"
      ],
      "text/plain": [
       "recommendations finished on 97000/700180 queries. users per second: 585.689"
      ]
     },
     "metadata": {},
     "output_type": "display_data"
    },
    {
     "data": {
      "text/html": [
       "<pre>recommendations finished on 98000/700180 queries. users per second: 585.677</pre>"
      ],
      "text/plain": [
       "recommendations finished on 98000/700180 queries. users per second: 585.677"
      ]
     },
     "metadata": {},
     "output_type": "display_data"
    },
    {
     "data": {
      "text/html": [
       "<pre>recommendations finished on 99000/700180 queries. users per second: 585.698</pre>"
      ],
      "text/plain": [
       "recommendations finished on 99000/700180 queries. users per second: 585.698"
      ]
     },
     "metadata": {},
     "output_type": "display_data"
    },
    {
     "data": {
      "text/html": [
       "<pre>recommendations finished on 100000/700180 queries. users per second: 585.686</pre>"
      ],
      "text/plain": [
       "recommendations finished on 100000/700180 queries. users per second: 585.686"
      ]
     },
     "metadata": {},
     "output_type": "display_data"
    },
    {
     "data": {
      "text/html": [
       "<pre>recommendations finished on 101000/700180 queries. users per second: 585.65</pre>"
      ],
      "text/plain": [
       "recommendations finished on 101000/700180 queries. users per second: 585.65"
      ]
     },
     "metadata": {},
     "output_type": "display_data"
    },
    {
     "data": {
      "text/html": [
       "<pre>recommendations finished on 102000/700180 queries. users per second: 585.641</pre>"
      ],
      "text/plain": [
       "recommendations finished on 102000/700180 queries. users per second: 585.641"
      ]
     },
     "metadata": {},
     "output_type": "display_data"
    },
    {
     "data": {
      "text/html": [
       "<pre>recommendations finished on 103000/700180 queries. users per second: 585.608</pre>"
      ],
      "text/plain": [
       "recommendations finished on 103000/700180 queries. users per second: 585.608"
      ]
     },
     "metadata": {},
     "output_type": "display_data"
    },
    {
     "data": {
      "text/html": [
       "<pre>recommendations finished on 104000/700180 queries. users per second: 585.572</pre>"
      ],
      "text/plain": [
       "recommendations finished on 104000/700180 queries. users per second: 585.572"
      ]
     },
     "metadata": {},
     "output_type": "display_data"
    },
    {
     "data": {
      "text/html": [
       "<pre>recommendations finished on 105000/700180 queries. users per second: 585.608</pre>"
      ],
      "text/plain": [
       "recommendations finished on 105000/700180 queries. users per second: 585.608"
      ]
     },
     "metadata": {},
     "output_type": "display_data"
    },
    {
     "data": {
      "text/html": [
       "<pre>recommendations finished on 106000/700180 queries. users per second: 585.575</pre>"
      ],
      "text/plain": [
       "recommendations finished on 106000/700180 queries. users per second: 585.575"
      ]
     },
     "metadata": {},
     "output_type": "display_data"
    },
    {
     "data": {
      "text/html": [
       "<pre>recommendations finished on 107000/700180 queries. users per second: 585.535</pre>"
      ],
      "text/plain": [
       "recommendations finished on 107000/700180 queries. users per second: 585.535"
      ]
     },
     "metadata": {},
     "output_type": "display_data"
    },
    {
     "data": {
      "text/html": [
       "<pre>recommendations finished on 108000/700180 queries. users per second: 585.525</pre>"
      ],
      "text/plain": [
       "recommendations finished on 108000/700180 queries. users per second: 585.525"
      ]
     },
     "metadata": {},
     "output_type": "display_data"
    },
    {
     "data": {
      "text/html": [
       "<pre>recommendations finished on 109000/700180 queries. users per second: 585.54</pre>"
      ],
      "text/plain": [
       "recommendations finished on 109000/700180 queries. users per second: 585.54"
      ]
     },
     "metadata": {},
     "output_type": "display_data"
    },
    {
     "data": {
      "text/html": [
       "<pre>recommendations finished on 110000/700180 queries. users per second: 585.552</pre>"
      ],
      "text/plain": [
       "recommendations finished on 110000/700180 queries. users per second: 585.552"
      ]
     },
     "metadata": {},
     "output_type": "display_data"
    },
    {
     "data": {
      "text/html": [
       "<pre>recommendations finished on 111000/700180 queries. users per second: 585.521</pre>"
      ],
      "text/plain": [
       "recommendations finished on 111000/700180 queries. users per second: 585.521"
      ]
     },
     "metadata": {},
     "output_type": "display_data"
    },
    {
     "data": {
      "text/html": [
       "<pre>recommendations finished on 112000/700180 queries. users per second: 585.51</pre>"
      ],
      "text/plain": [
       "recommendations finished on 112000/700180 queries. users per second: 585.51"
      ]
     },
     "metadata": {},
     "output_type": "display_data"
    },
    {
     "data": {
      "text/html": [
       "<pre>recommendations finished on 113000/700180 queries. users per second: 585.535</pre>"
      ],
      "text/plain": [
       "recommendations finished on 113000/700180 queries. users per second: 585.535"
      ]
     },
     "metadata": {},
     "output_type": "display_data"
    },
    {
     "data": {
      "text/html": [
       "<pre>recommendations finished on 114000/700180 queries. users per second: 585.532</pre>"
      ],
      "text/plain": [
       "recommendations finished on 114000/700180 queries. users per second: 585.532"
      ]
     },
     "metadata": {},
     "output_type": "display_data"
    },
    {
     "data": {
      "text/html": [
       "<pre>recommendations finished on 115000/700180 queries. users per second: 585.475</pre>"
      ],
      "text/plain": [
       "recommendations finished on 115000/700180 queries. users per second: 585.475"
      ]
     },
     "metadata": {},
     "output_type": "display_data"
    },
    {
     "data": {
      "text/html": [
       "<pre>recommendations finished on 116000/700180 queries. users per second: 585.532</pre>"
      ],
      "text/plain": [
       "recommendations finished on 116000/700180 queries. users per second: 585.532"
      ]
     },
     "metadata": {},
     "output_type": "display_data"
    },
    {
     "data": {
      "text/html": [
       "<pre>recommendations finished on 117000/700180 queries. users per second: 585.534</pre>"
      ],
      "text/plain": [
       "recommendations finished on 117000/700180 queries. users per second: 585.534"
      ]
     },
     "metadata": {},
     "output_type": "display_data"
    },
    {
     "data": {
      "text/html": [
       "<pre>recommendations finished on 118000/700180 queries. users per second: 585.545</pre>"
      ],
      "text/plain": [
       "recommendations finished on 118000/700180 queries. users per second: 585.545"
      ]
     },
     "metadata": {},
     "output_type": "display_data"
    },
    {
     "data": {
      "text/html": [
       "<pre>recommendations finished on 119000/700180 queries. users per second: 585.531</pre>"
      ],
      "text/plain": [
       "recommendations finished on 119000/700180 queries. users per second: 585.531"
      ]
     },
     "metadata": {},
     "output_type": "display_data"
    },
    {
     "data": {
      "text/html": [
       "<pre>recommendations finished on 120000/700180 queries. users per second: 585.506</pre>"
      ],
      "text/plain": [
       "recommendations finished on 120000/700180 queries. users per second: 585.506"
      ]
     },
     "metadata": {},
     "output_type": "display_data"
    },
    {
     "data": {
      "text/html": [
       "<pre>recommendations finished on 121000/700180 queries. users per second: 585.509</pre>"
      ],
      "text/plain": [
       "recommendations finished on 121000/700180 queries. users per second: 585.509"
      ]
     },
     "metadata": {},
     "output_type": "display_data"
    },
    {
     "data": {
      "text/html": [
       "<pre>recommendations finished on 122000/700180 queries. users per second: 585.512</pre>"
      ],
      "text/plain": [
       "recommendations finished on 122000/700180 queries. users per second: 585.512"
      ]
     },
     "metadata": {},
     "output_type": "display_data"
    },
    {
     "data": {
      "text/html": [
       "<pre>recommendations finished on 123000/700180 queries. users per second: 585.518</pre>"
      ],
      "text/plain": [
       "recommendations finished on 123000/700180 queries. users per second: 585.518"
      ]
     },
     "metadata": {},
     "output_type": "display_data"
    },
    {
     "data": {
      "text/html": [
       "<pre>recommendations finished on 124000/700180 queries. users per second: 585.522</pre>"
      ],
      "text/plain": [
       "recommendations finished on 124000/700180 queries. users per second: 585.522"
      ]
     },
     "metadata": {},
     "output_type": "display_data"
    },
    {
     "data": {
      "text/html": [
       "<pre>recommendations finished on 125000/700180 queries. users per second: 585.545</pre>"
      ],
      "text/plain": [
       "recommendations finished on 125000/700180 queries. users per second: 585.545"
      ]
     },
     "metadata": {},
     "output_type": "display_data"
    },
    {
     "data": {
      "text/html": [
       "<pre>recommendations finished on 126000/700180 queries. users per second: 585.546</pre>"
      ],
      "text/plain": [
       "recommendations finished on 126000/700180 queries. users per second: 585.546"
      ]
     },
     "metadata": {},
     "output_type": "display_data"
    },
    {
     "data": {
      "text/html": [
       "<pre>recommendations finished on 127000/700180 queries. users per second: 585.505</pre>"
      ],
      "text/plain": [
       "recommendations finished on 127000/700180 queries. users per second: 585.505"
      ]
     },
     "metadata": {},
     "output_type": "display_data"
    },
    {
     "data": {
      "text/html": [
       "<pre>recommendations finished on 128000/700180 queries. users per second: 585.496</pre>"
      ],
      "text/plain": [
       "recommendations finished on 128000/700180 queries. users per second: 585.496"
      ]
     },
     "metadata": {},
     "output_type": "display_data"
    },
    {
     "data": {
      "text/html": [
       "<pre>recommendations finished on 129000/700180 queries. users per second: 585.509</pre>"
      ],
      "text/plain": [
       "recommendations finished on 129000/700180 queries. users per second: 585.509"
      ]
     },
     "metadata": {},
     "output_type": "display_data"
    },
    {
     "data": {
      "text/html": [
       "<pre>recommendations finished on 130000/700180 queries. users per second: 585.506</pre>"
      ],
      "text/plain": [
       "recommendations finished on 130000/700180 queries. users per second: 585.506"
      ]
     },
     "metadata": {},
     "output_type": "display_data"
    },
    {
     "data": {
      "text/html": [
       "<pre>recommendations finished on 131000/700180 queries. users per second: 585.557</pre>"
      ],
      "text/plain": [
       "recommendations finished on 131000/700180 queries. users per second: 585.557"
      ]
     },
     "metadata": {},
     "output_type": "display_data"
    },
    {
     "data": {
      "text/html": [
       "<pre>recommendations finished on 132000/700180 queries. users per second: 585.517</pre>"
      ],
      "text/plain": [
       "recommendations finished on 132000/700180 queries. users per second: 585.517"
      ]
     },
     "metadata": {},
     "output_type": "display_data"
    },
    {
     "data": {
      "text/html": [
       "<pre>recommendations finished on 133000/700180 queries. users per second: 585.543</pre>"
      ],
      "text/plain": [
       "recommendations finished on 133000/700180 queries. users per second: 585.543"
      ]
     },
     "metadata": {},
     "output_type": "display_data"
    },
    {
     "data": {
      "text/html": [
       "<pre>recommendations finished on 134000/700180 queries. users per second: 585.524</pre>"
      ],
      "text/plain": [
       "recommendations finished on 134000/700180 queries. users per second: 585.524"
      ]
     },
     "metadata": {},
     "output_type": "display_data"
    },
    {
     "data": {
      "text/html": [
       "<pre>recommendations finished on 135000/700180 queries. users per second: 585.507</pre>"
      ],
      "text/plain": [
       "recommendations finished on 135000/700180 queries. users per second: 585.507"
      ]
     },
     "metadata": {},
     "output_type": "display_data"
    },
    {
     "data": {
      "text/html": [
       "<pre>recommendations finished on 136000/700180 queries. users per second: 585.485</pre>"
      ],
      "text/plain": [
       "recommendations finished on 136000/700180 queries. users per second: 585.485"
      ]
     },
     "metadata": {},
     "output_type": "display_data"
    },
    {
     "data": {
      "text/html": [
       "<pre>recommendations finished on 137000/700180 queries. users per second: 585.478</pre>"
      ],
      "text/plain": [
       "recommendations finished on 137000/700180 queries. users per second: 585.478"
      ]
     },
     "metadata": {},
     "output_type": "display_data"
    },
    {
     "data": {
      "text/html": [
       "<pre>recommendations finished on 138000/700180 queries. users per second: 585.415</pre>"
      ],
      "text/plain": [
       "recommendations finished on 138000/700180 queries. users per second: 585.415"
      ]
     },
     "metadata": {},
     "output_type": "display_data"
    },
    {
     "data": {
      "text/html": [
       "<pre>recommendations finished on 139000/700180 queries. users per second: 585.419</pre>"
      ],
      "text/plain": [
       "recommendations finished on 139000/700180 queries. users per second: 585.419"
      ]
     },
     "metadata": {},
     "output_type": "display_data"
    },
    {
     "data": {
      "text/html": [
       "<pre>recommendations finished on 140000/700180 queries. users per second: 585.405</pre>"
      ],
      "text/plain": [
       "recommendations finished on 140000/700180 queries. users per second: 585.405"
      ]
     },
     "metadata": {},
     "output_type": "display_data"
    },
    {
     "data": {
      "text/html": [
       "<pre>recommendations finished on 141000/700180 queries. users per second: 585.393</pre>"
      ],
      "text/plain": [
       "recommendations finished on 141000/700180 queries. users per second: 585.393"
      ]
     },
     "metadata": {},
     "output_type": "display_data"
    },
    {
     "data": {
      "text/html": [
       "<pre>recommendations finished on 142000/700180 queries. users per second: 585.372</pre>"
      ],
      "text/plain": [
       "recommendations finished on 142000/700180 queries. users per second: 585.372"
      ]
     },
     "metadata": {},
     "output_type": "display_data"
    },
    {
     "data": {
      "text/html": [
       "<pre>recommendations finished on 143000/700180 queries. users per second: 585.389</pre>"
      ],
      "text/plain": [
       "recommendations finished on 143000/700180 queries. users per second: 585.389"
      ]
     },
     "metadata": {},
     "output_type": "display_data"
    },
    {
     "data": {
      "text/html": [
       "<pre>recommendations finished on 144000/700180 queries. users per second: 585.364</pre>"
      ],
      "text/plain": [
       "recommendations finished on 144000/700180 queries. users per second: 585.364"
      ]
     },
     "metadata": {},
     "output_type": "display_data"
    },
    {
     "data": {
      "text/html": [
       "<pre>recommendations finished on 145000/700180 queries. users per second: 585.338</pre>"
      ],
      "text/plain": [
       "recommendations finished on 145000/700180 queries. users per second: 585.338"
      ]
     },
     "metadata": {},
     "output_type": "display_data"
    },
    {
     "data": {
      "text/html": [
       "<pre>recommendations finished on 146000/700180 queries. users per second: 585.299</pre>"
      ],
      "text/plain": [
       "recommendations finished on 146000/700180 queries. users per second: 585.299"
      ]
     },
     "metadata": {},
     "output_type": "display_data"
    },
    {
     "data": {
      "text/html": [
       "<pre>recommendations finished on 147000/700180 queries. users per second: 585.318</pre>"
      ],
      "text/plain": [
       "recommendations finished on 147000/700180 queries. users per second: 585.318"
      ]
     },
     "metadata": {},
     "output_type": "display_data"
    },
    {
     "data": {
      "text/html": [
       "<pre>recommendations finished on 148000/700180 queries. users per second: 585.334</pre>"
      ],
      "text/plain": [
       "recommendations finished on 148000/700180 queries. users per second: 585.334"
      ]
     },
     "metadata": {},
     "output_type": "display_data"
    },
    {
     "data": {
      "text/html": [
       "<pre>recommendations finished on 149000/700180 queries. users per second: 585.334</pre>"
      ],
      "text/plain": [
       "recommendations finished on 149000/700180 queries. users per second: 585.334"
      ]
     },
     "metadata": {},
     "output_type": "display_data"
    },
    {
     "data": {
      "text/html": [
       "<pre>recommendations finished on 150000/700180 queries. users per second: 585.274</pre>"
      ],
      "text/plain": [
       "recommendations finished on 150000/700180 queries. users per second: 585.274"
      ]
     },
     "metadata": {},
     "output_type": "display_data"
    },
    {
     "data": {
      "text/html": [
       "<pre>recommendations finished on 151000/700180 queries. users per second: 585.301</pre>"
      ],
      "text/plain": [
       "recommendations finished on 151000/700180 queries. users per second: 585.301"
      ]
     },
     "metadata": {},
     "output_type": "display_data"
    },
    {
     "data": {
      "text/html": [
       "<pre>recommendations finished on 152000/700180 queries. users per second: 585.283</pre>"
      ],
      "text/plain": [
       "recommendations finished on 152000/700180 queries. users per second: 585.283"
      ]
     },
     "metadata": {},
     "output_type": "display_data"
    },
    {
     "data": {
      "text/html": [
       "<pre>recommendations finished on 153000/700180 queries. users per second: 585.275</pre>"
      ],
      "text/plain": [
       "recommendations finished on 153000/700180 queries. users per second: 585.275"
      ]
     },
     "metadata": {},
     "output_type": "display_data"
    },
    {
     "data": {
      "text/html": [
       "<pre>recommendations finished on 154000/700180 queries. users per second: 585.28</pre>"
      ],
      "text/plain": [
       "recommendations finished on 154000/700180 queries. users per second: 585.28"
      ]
     },
     "metadata": {},
     "output_type": "display_data"
    },
    {
     "data": {
      "text/html": [
       "<pre>recommendations finished on 155000/700180 queries. users per second: 585.233</pre>"
      ],
      "text/plain": [
       "recommendations finished on 155000/700180 queries. users per second: 585.233"
      ]
     },
     "metadata": {},
     "output_type": "display_data"
    },
    {
     "data": {
      "text/html": [
       "<pre>recommendations finished on 156000/700180 queries. users per second: 585.203</pre>"
      ],
      "text/plain": [
       "recommendations finished on 156000/700180 queries. users per second: 585.203"
      ]
     },
     "metadata": {},
     "output_type": "display_data"
    },
    {
     "data": {
      "text/html": [
       "<pre>recommendations finished on 157000/700180 queries. users per second: 585.219</pre>"
      ],
      "text/plain": [
       "recommendations finished on 157000/700180 queries. users per second: 585.219"
      ]
     },
     "metadata": {},
     "output_type": "display_data"
    },
    {
     "data": {
      "text/html": [
       "<pre>recommendations finished on 158000/700180 queries. users per second: 585.219</pre>"
      ],
      "text/plain": [
       "recommendations finished on 158000/700180 queries. users per second: 585.219"
      ]
     },
     "metadata": {},
     "output_type": "display_data"
    },
    {
     "data": {
      "text/html": [
       "<pre>recommendations finished on 159000/700180 queries. users per second: 585.183</pre>"
      ],
      "text/plain": [
       "recommendations finished on 159000/700180 queries. users per second: 585.183"
      ]
     },
     "metadata": {},
     "output_type": "display_data"
    },
    {
     "data": {
      "text/html": [
       "<pre>recommendations finished on 160000/700180 queries. users per second: 585.206</pre>"
      ],
      "text/plain": [
       "recommendations finished on 160000/700180 queries. users per second: 585.206"
      ]
     },
     "metadata": {},
     "output_type": "display_data"
    },
    {
     "data": {
      "text/html": [
       "<pre>recommendations finished on 161000/700180 queries. users per second: 585.197</pre>"
      ],
      "text/plain": [
       "recommendations finished on 161000/700180 queries. users per second: 585.197"
      ]
     },
     "metadata": {},
     "output_type": "display_data"
    },
    {
     "data": {
      "text/html": [
       "<pre>recommendations finished on 162000/700180 queries. users per second: 585.17</pre>"
      ],
      "text/plain": [
       "recommendations finished on 162000/700180 queries. users per second: 585.17"
      ]
     },
     "metadata": {},
     "output_type": "display_data"
    },
    {
     "data": {
      "text/html": [
       "<pre>recommendations finished on 163000/700180 queries. users per second: 585.219</pre>"
      ],
      "text/plain": [
       "recommendations finished on 163000/700180 queries. users per second: 585.219"
      ]
     },
     "metadata": {},
     "output_type": "display_data"
    },
    {
     "data": {
      "text/html": [
       "<pre>recommendations finished on 164000/700180 queries. users per second: 585.237</pre>"
      ],
      "text/plain": [
       "recommendations finished on 164000/700180 queries. users per second: 585.237"
      ]
     },
     "metadata": {},
     "output_type": "display_data"
    },
    {
     "data": {
      "text/html": [
       "<pre>recommendations finished on 165000/700180 queries. users per second: 585.252</pre>"
      ],
      "text/plain": [
       "recommendations finished on 165000/700180 queries. users per second: 585.252"
      ]
     },
     "metadata": {},
     "output_type": "display_data"
    },
    {
     "data": {
      "text/html": [
       "<pre>recommendations finished on 166000/700180 queries. users per second: 585.215</pre>"
      ],
      "text/plain": [
       "recommendations finished on 166000/700180 queries. users per second: 585.215"
      ]
     },
     "metadata": {},
     "output_type": "display_data"
    },
    {
     "data": {
      "text/html": [
       "<pre>recommendations finished on 167000/700180 queries. users per second: 585.211</pre>"
      ],
      "text/plain": [
       "recommendations finished on 167000/700180 queries. users per second: 585.211"
      ]
     },
     "metadata": {},
     "output_type": "display_data"
    },
    {
     "data": {
      "text/html": [
       "<pre>recommendations finished on 168000/700180 queries. users per second: 585.247</pre>"
      ],
      "text/plain": [
       "recommendations finished on 168000/700180 queries. users per second: 585.247"
      ]
     },
     "metadata": {},
     "output_type": "display_data"
    },
    {
     "data": {
      "text/html": [
       "<pre>recommendations finished on 169000/700180 queries. users per second: 585.225</pre>"
      ],
      "text/plain": [
       "recommendations finished on 169000/700180 queries. users per second: 585.225"
      ]
     },
     "metadata": {},
     "output_type": "display_data"
    },
    {
     "data": {
      "text/html": [
       "<pre>recommendations finished on 170000/700180 queries. users per second: 585.222</pre>"
      ],
      "text/plain": [
       "recommendations finished on 170000/700180 queries. users per second: 585.222"
      ]
     },
     "metadata": {},
     "output_type": "display_data"
    },
    {
     "data": {
      "text/html": [
       "<pre>recommendations finished on 171000/700180 queries. users per second: 585.231</pre>"
      ],
      "text/plain": [
       "recommendations finished on 171000/700180 queries. users per second: 585.231"
      ]
     },
     "metadata": {},
     "output_type": "display_data"
    },
    {
     "data": {
      "text/html": [
       "<pre>recommendations finished on 172000/700180 queries. users per second: 585.197</pre>"
      ],
      "text/plain": [
       "recommendations finished on 172000/700180 queries. users per second: 585.197"
      ]
     },
     "metadata": {},
     "output_type": "display_data"
    },
    {
     "data": {
      "text/html": [
       "<pre>recommendations finished on 173000/700180 queries. users per second: 585.199</pre>"
      ],
      "text/plain": [
       "recommendations finished on 173000/700180 queries. users per second: 585.199"
      ]
     },
     "metadata": {},
     "output_type": "display_data"
    },
    {
     "data": {
      "text/html": [
       "<pre>recommendations finished on 174000/700180 queries. users per second: 585.196</pre>"
      ],
      "text/plain": [
       "recommendations finished on 174000/700180 queries. users per second: 585.196"
      ]
     },
     "metadata": {},
     "output_type": "display_data"
    },
    {
     "data": {
      "text/html": [
       "<pre>recommendations finished on 175000/700180 queries. users per second: 585.233</pre>"
      ],
      "text/plain": [
       "recommendations finished on 175000/700180 queries. users per second: 585.233"
      ]
     },
     "metadata": {},
     "output_type": "display_data"
    },
    {
     "data": {
      "text/html": [
       "<pre>recommendations finished on 176000/700180 queries. users per second: 585.178</pre>"
      ],
      "text/plain": [
       "recommendations finished on 176000/700180 queries. users per second: 585.178"
      ]
     },
     "metadata": {},
     "output_type": "display_data"
    },
    {
     "data": {
      "text/html": [
       "<pre>recommendations finished on 177000/700180 queries. users per second: 585.187</pre>"
      ],
      "text/plain": [
       "recommendations finished on 177000/700180 queries. users per second: 585.187"
      ]
     },
     "metadata": {},
     "output_type": "display_data"
    },
    {
     "data": {
      "text/html": [
       "<pre>recommendations finished on 178000/700180 queries. users per second: 585.212</pre>"
      ],
      "text/plain": [
       "recommendations finished on 178000/700180 queries. users per second: 585.212"
      ]
     },
     "metadata": {},
     "output_type": "display_data"
    },
    {
     "data": {
      "text/html": [
       "<pre>recommendations finished on 179000/700180 queries. users per second: 585.187</pre>"
      ],
      "text/plain": [
       "recommendations finished on 179000/700180 queries. users per second: 585.187"
      ]
     },
     "metadata": {},
     "output_type": "display_data"
    },
    {
     "data": {
      "text/html": [
       "<pre>recommendations finished on 180000/700180 queries. users per second: 585.181</pre>"
      ],
      "text/plain": [
       "recommendations finished on 180000/700180 queries. users per second: 585.181"
      ]
     },
     "metadata": {},
     "output_type": "display_data"
    },
    {
     "data": {
      "text/html": [
       "<pre>recommendations finished on 181000/700180 queries. users per second: 585.17</pre>"
      ],
      "text/plain": [
       "recommendations finished on 181000/700180 queries. users per second: 585.17"
      ]
     },
     "metadata": {},
     "output_type": "display_data"
    },
    {
     "data": {
      "text/html": [
       "<pre>recommendations finished on 182000/700180 queries. users per second: 585.162</pre>"
      ],
      "text/plain": [
       "recommendations finished on 182000/700180 queries. users per second: 585.162"
      ]
     },
     "metadata": {},
     "output_type": "display_data"
    },
    {
     "data": {
      "text/html": [
       "<pre>recommendations finished on 183000/700180 queries. users per second: 585.119</pre>"
      ],
      "text/plain": [
       "recommendations finished on 183000/700180 queries. users per second: 585.119"
      ]
     },
     "metadata": {},
     "output_type": "display_data"
    },
    {
     "data": {
      "text/html": [
       "<pre>recommendations finished on 184000/700180 queries. users per second: 585.149</pre>"
      ],
      "text/plain": [
       "recommendations finished on 184000/700180 queries. users per second: 585.149"
      ]
     },
     "metadata": {},
     "output_type": "display_data"
    },
    {
     "data": {
      "text/html": [
       "<pre>recommendations finished on 185000/700180 queries. users per second: 585.128</pre>"
      ],
      "text/plain": [
       "recommendations finished on 185000/700180 queries. users per second: 585.128"
      ]
     },
     "metadata": {},
     "output_type": "display_data"
    },
    {
     "data": {
      "text/html": [
       "<pre>recommendations finished on 186000/700180 queries. users per second: 585.091</pre>"
      ],
      "text/plain": [
       "recommendations finished on 186000/700180 queries. users per second: 585.091"
      ]
     },
     "metadata": {},
     "output_type": "display_data"
    },
    {
     "data": {
      "text/html": [
       "<pre>recommendations finished on 187000/700180 queries. users per second: 585.134</pre>"
      ],
      "text/plain": [
       "recommendations finished on 187000/700180 queries. users per second: 585.134"
      ]
     },
     "metadata": {},
     "output_type": "display_data"
    },
    {
     "data": {
      "text/html": [
       "<pre>recommendations finished on 188000/700180 queries. users per second: 585.123</pre>"
      ],
      "text/plain": [
       "recommendations finished on 188000/700180 queries. users per second: 585.123"
      ]
     },
     "metadata": {},
     "output_type": "display_data"
    },
    {
     "data": {
      "text/html": [
       "<pre>recommendations finished on 189000/700180 queries. users per second: 585.095</pre>"
      ],
      "text/plain": [
       "recommendations finished on 189000/700180 queries. users per second: 585.095"
      ]
     },
     "metadata": {},
     "output_type": "display_data"
    },
    {
     "data": {
      "text/html": [
       "<pre>recommendations finished on 190000/700180 queries. users per second: 585.078</pre>"
      ],
      "text/plain": [
       "recommendations finished on 190000/700180 queries. users per second: 585.078"
      ]
     },
     "metadata": {},
     "output_type": "display_data"
    },
    {
     "data": {
      "text/html": [
       "<pre>recommendations finished on 191000/700180 queries. users per second: 585.086</pre>"
      ],
      "text/plain": [
       "recommendations finished on 191000/700180 queries. users per second: 585.086"
      ]
     },
     "metadata": {},
     "output_type": "display_data"
    },
    {
     "data": {
      "text/html": [
       "<pre>recommendations finished on 192000/700180 queries. users per second: 585.055</pre>"
      ],
      "text/plain": [
       "recommendations finished on 192000/700180 queries. users per second: 585.055"
      ]
     },
     "metadata": {},
     "output_type": "display_data"
    },
    {
     "data": {
      "text/html": [
       "<pre>recommendations finished on 193000/700180 queries. users per second: 585.072</pre>"
      ],
      "text/plain": [
       "recommendations finished on 193000/700180 queries. users per second: 585.072"
      ]
     },
     "metadata": {},
     "output_type": "display_data"
    },
    {
     "data": {
      "text/html": [
       "<pre>recommendations finished on 194000/700180 queries. users per second: 585.037</pre>"
      ],
      "text/plain": [
       "recommendations finished on 194000/700180 queries. users per second: 585.037"
      ]
     },
     "metadata": {},
     "output_type": "display_data"
    },
    {
     "data": {
      "text/html": [
       "<pre>recommendations finished on 195000/700180 queries. users per second: 585.022</pre>"
      ],
      "text/plain": [
       "recommendations finished on 195000/700180 queries. users per second: 585.022"
      ]
     },
     "metadata": {},
     "output_type": "display_data"
    },
    {
     "data": {
      "text/html": [
       "<pre>recommendations finished on 196000/700180 queries. users per second: 585.018</pre>"
      ],
      "text/plain": [
       "recommendations finished on 196000/700180 queries. users per second: 585.018"
      ]
     },
     "metadata": {},
     "output_type": "display_data"
    },
    {
     "data": {
      "text/html": [
       "<pre>recommendations finished on 197000/700180 queries. users per second: 585.037</pre>"
      ],
      "text/plain": [
       "recommendations finished on 197000/700180 queries. users per second: 585.037"
      ]
     },
     "metadata": {},
     "output_type": "display_data"
    },
    {
     "data": {
      "text/html": [
       "<pre>recommendations finished on 198000/700180 queries. users per second: 585.008</pre>"
      ],
      "text/plain": [
       "recommendations finished on 198000/700180 queries. users per second: 585.008"
      ]
     },
     "metadata": {},
     "output_type": "display_data"
    },
    {
     "data": {
      "text/html": [
       "<pre>recommendations finished on 199000/700180 queries. users per second: 585.001</pre>"
      ],
      "text/plain": [
       "recommendations finished on 199000/700180 queries. users per second: 585.001"
      ]
     },
     "metadata": {},
     "output_type": "display_data"
    },
    {
     "data": {
      "text/html": [
       "<pre>recommendations finished on 200000/700180 queries. users per second: 585.005</pre>"
      ],
      "text/plain": [
       "recommendations finished on 200000/700180 queries. users per second: 585.005"
      ]
     },
     "metadata": {},
     "output_type": "display_data"
    },
    {
     "data": {
      "text/html": [
       "<pre>recommendations finished on 201000/700180 queries. users per second: 585.003</pre>"
      ],
      "text/plain": [
       "recommendations finished on 201000/700180 queries. users per second: 585.003"
      ]
     },
     "metadata": {},
     "output_type": "display_data"
    },
    {
     "data": {
      "text/html": [
       "<pre>recommendations finished on 202000/700180 queries. users per second: 585.034</pre>"
      ],
      "text/plain": [
       "recommendations finished on 202000/700180 queries. users per second: 585.034"
      ]
     },
     "metadata": {},
     "output_type": "display_data"
    },
    {
     "data": {
      "text/html": [
       "<pre>recommendations finished on 203000/700180 queries. users per second: 584.99</pre>"
      ],
      "text/plain": [
       "recommendations finished on 203000/700180 queries. users per second: 584.99"
      ]
     },
     "metadata": {},
     "output_type": "display_data"
    },
    {
     "data": {
      "text/html": [
       "<pre>recommendations finished on 204000/700180 queries. users per second: 584.99</pre>"
      ],
      "text/plain": [
       "recommendations finished on 204000/700180 queries. users per second: 584.99"
      ]
     },
     "metadata": {},
     "output_type": "display_data"
    },
    {
     "data": {
      "text/html": [
       "<pre>recommendations finished on 205000/700180 queries. users per second: 584.97</pre>"
      ],
      "text/plain": [
       "recommendations finished on 205000/700180 queries. users per second: 584.97"
      ]
     },
     "metadata": {},
     "output_type": "display_data"
    },
    {
     "data": {
      "text/html": [
       "<pre>recommendations finished on 206000/700180 queries. users per second: 584.95</pre>"
      ],
      "text/plain": [
       "recommendations finished on 206000/700180 queries. users per second: 584.95"
      ]
     },
     "metadata": {},
     "output_type": "display_data"
    },
    {
     "data": {
      "text/html": [
       "<pre>recommendations finished on 207000/700180 queries. users per second: 584.939</pre>"
      ],
      "text/plain": [
       "recommendations finished on 207000/700180 queries. users per second: 584.939"
      ]
     },
     "metadata": {},
     "output_type": "display_data"
    },
    {
     "data": {
      "text/html": [
       "<pre>recommendations finished on 208000/700180 queries. users per second: 584.956</pre>"
      ],
      "text/plain": [
       "recommendations finished on 208000/700180 queries. users per second: 584.956"
      ]
     },
     "metadata": {},
     "output_type": "display_data"
    },
    {
     "data": {
      "text/html": [
       "<pre>recommendations finished on 209000/700180 queries. users per second: 584.944</pre>"
      ],
      "text/plain": [
       "recommendations finished on 209000/700180 queries. users per second: 584.944"
      ]
     },
     "metadata": {},
     "output_type": "display_data"
    },
    {
     "data": {
      "text/html": [
       "<pre>recommendations finished on 210000/700180 queries. users per second: 584.951</pre>"
      ],
      "text/plain": [
       "recommendations finished on 210000/700180 queries. users per second: 584.951"
      ]
     },
     "metadata": {},
     "output_type": "display_data"
    },
    {
     "data": {
      "text/html": [
       "<pre>recommendations finished on 211000/700180 queries. users per second: 584.927</pre>"
      ],
      "text/plain": [
       "recommendations finished on 211000/700180 queries. users per second: 584.927"
      ]
     },
     "metadata": {},
     "output_type": "display_data"
    },
    {
     "data": {
      "text/html": [
       "<pre>recommendations finished on 212000/700180 queries. users per second: 584.948</pre>"
      ],
      "text/plain": [
       "recommendations finished on 212000/700180 queries. users per second: 584.948"
      ]
     },
     "metadata": {},
     "output_type": "display_data"
    },
    {
     "data": {
      "text/html": [
       "<pre>recommendations finished on 213000/700180 queries. users per second: 584.944</pre>"
      ],
      "text/plain": [
       "recommendations finished on 213000/700180 queries. users per second: 584.944"
      ]
     },
     "metadata": {},
     "output_type": "display_data"
    },
    {
     "data": {
      "text/html": [
       "<pre>recommendations finished on 214000/700180 queries. users per second: 584.914</pre>"
      ],
      "text/plain": [
       "recommendations finished on 214000/700180 queries. users per second: 584.914"
      ]
     },
     "metadata": {},
     "output_type": "display_data"
    },
    {
     "data": {
      "text/html": [
       "<pre>recommendations finished on 215000/700180 queries. users per second: 584.934</pre>"
      ],
      "text/plain": [
       "recommendations finished on 215000/700180 queries. users per second: 584.934"
      ]
     },
     "metadata": {},
     "output_type": "display_data"
    },
    {
     "data": {
      "text/html": [
       "<pre>recommendations finished on 216000/700180 queries. users per second: 584.959</pre>"
      ],
      "text/plain": [
       "recommendations finished on 216000/700180 queries. users per second: 584.959"
      ]
     },
     "metadata": {},
     "output_type": "display_data"
    },
    {
     "data": {
      "text/html": [
       "<pre>recommendations finished on 217000/700180 queries. users per second: 584.978</pre>"
      ],
      "text/plain": [
       "recommendations finished on 217000/700180 queries. users per second: 584.978"
      ]
     },
     "metadata": {},
     "output_type": "display_data"
    },
    {
     "data": {
      "text/html": [
       "<pre>recommendations finished on 218000/700180 queries. users per second: 584.965</pre>"
      ],
      "text/plain": [
       "recommendations finished on 218000/700180 queries. users per second: 584.965"
      ]
     },
     "metadata": {},
     "output_type": "display_data"
    },
    {
     "data": {
      "text/html": [
       "<pre>recommendations finished on 219000/700180 queries. users per second: 584.966</pre>"
      ],
      "text/plain": [
       "recommendations finished on 219000/700180 queries. users per second: 584.966"
      ]
     },
     "metadata": {},
     "output_type": "display_data"
    },
    {
     "data": {
      "text/html": [
       "<pre>recommendations finished on 220000/700180 queries. users per second: 584.98</pre>"
      ],
      "text/plain": [
       "recommendations finished on 220000/700180 queries. users per second: 584.98"
      ]
     },
     "metadata": {},
     "output_type": "display_data"
    },
    {
     "data": {
      "text/html": [
       "<pre>recommendations finished on 221000/700180 queries. users per second: 584.97</pre>"
      ],
      "text/plain": [
       "recommendations finished on 221000/700180 queries. users per second: 584.97"
      ]
     },
     "metadata": {},
     "output_type": "display_data"
    },
    {
     "data": {
      "text/html": [
       "<pre>recommendations finished on 222000/700180 queries. users per second: 584.955</pre>"
      ],
      "text/plain": [
       "recommendations finished on 222000/700180 queries. users per second: 584.955"
      ]
     },
     "metadata": {},
     "output_type": "display_data"
    },
    {
     "data": {
      "text/html": [
       "<pre>recommendations finished on 223000/700180 queries. users per second: 584.976</pre>"
      ],
      "text/plain": [
       "recommendations finished on 223000/700180 queries. users per second: 584.976"
      ]
     },
     "metadata": {},
     "output_type": "display_data"
    },
    {
     "data": {
      "text/html": [
       "<pre>recommendations finished on 224000/700180 queries. users per second: 584.962</pre>"
      ],
      "text/plain": [
       "recommendations finished on 224000/700180 queries. users per second: 584.962"
      ]
     },
     "metadata": {},
     "output_type": "display_data"
    },
    {
     "data": {
      "text/html": [
       "<pre>recommendations finished on 225000/700180 queries. users per second: 584.952</pre>"
      ],
      "text/plain": [
       "recommendations finished on 225000/700180 queries. users per second: 584.952"
      ]
     },
     "metadata": {},
     "output_type": "display_data"
    },
    {
     "data": {
      "text/html": [
       "<pre>recommendations finished on 226000/700180 queries. users per second: 584.949</pre>"
      ],
      "text/plain": [
       "recommendations finished on 226000/700180 queries. users per second: 584.949"
      ]
     },
     "metadata": {},
     "output_type": "display_data"
    },
    {
     "data": {
      "text/html": [
       "<pre>recommendations finished on 227000/700180 queries. users per second: 584.966</pre>"
      ],
      "text/plain": [
       "recommendations finished on 227000/700180 queries. users per second: 584.966"
      ]
     },
     "metadata": {},
     "output_type": "display_data"
    },
    {
     "data": {
      "text/html": [
       "<pre>recommendations finished on 228000/700180 queries. users per second: 584.983</pre>"
      ],
      "text/plain": [
       "recommendations finished on 228000/700180 queries. users per second: 584.983"
      ]
     },
     "metadata": {},
     "output_type": "display_data"
    },
    {
     "data": {
      "text/html": [
       "<pre>recommendations finished on 229000/700180 queries. users per second: 584.975</pre>"
      ],
      "text/plain": [
       "recommendations finished on 229000/700180 queries. users per second: 584.975"
      ]
     },
     "metadata": {},
     "output_type": "display_data"
    },
    {
     "data": {
      "text/html": [
       "<pre>recommendations finished on 230000/700180 queries. users per second: 585.003</pre>"
      ],
      "text/plain": [
       "recommendations finished on 230000/700180 queries. users per second: 585.003"
      ]
     },
     "metadata": {},
     "output_type": "display_data"
    },
    {
     "data": {
      "text/html": [
       "<pre>recommendations finished on 231000/700180 queries. users per second: 584.996</pre>"
      ],
      "text/plain": [
       "recommendations finished on 231000/700180 queries. users per second: 584.996"
      ]
     },
     "metadata": {},
     "output_type": "display_data"
    },
    {
     "data": {
      "text/html": [
       "<pre>recommendations finished on 232000/700180 queries. users per second: 585.009</pre>"
      ],
      "text/plain": [
       "recommendations finished on 232000/700180 queries. users per second: 585.009"
      ]
     },
     "metadata": {},
     "output_type": "display_data"
    },
    {
     "data": {
      "text/html": [
       "<pre>recommendations finished on 233000/700180 queries. users per second: 584.999</pre>"
      ],
      "text/plain": [
       "recommendations finished on 233000/700180 queries. users per second: 584.999"
      ]
     },
     "metadata": {},
     "output_type": "display_data"
    },
    {
     "data": {
      "text/html": [
       "<pre>recommendations finished on 234000/700180 queries. users per second: 585.032</pre>"
      ],
      "text/plain": [
       "recommendations finished on 234000/700180 queries. users per second: 585.032"
      ]
     },
     "metadata": {},
     "output_type": "display_data"
    },
    {
     "data": {
      "text/html": [
       "<pre>recommendations finished on 235000/700180 queries. users per second: 585.023</pre>"
      ],
      "text/plain": [
       "recommendations finished on 235000/700180 queries. users per second: 585.023"
      ]
     },
     "metadata": {},
     "output_type": "display_data"
    },
    {
     "data": {
      "text/html": [
       "<pre>recommendations finished on 236000/700180 queries. users per second: 585.036</pre>"
      ],
      "text/plain": [
       "recommendations finished on 236000/700180 queries. users per second: 585.036"
      ]
     },
     "metadata": {},
     "output_type": "display_data"
    },
    {
     "data": {
      "text/html": [
       "<pre>recommendations finished on 237000/700180 queries. users per second: 585.034</pre>"
      ],
      "text/plain": [
       "recommendations finished on 237000/700180 queries. users per second: 585.034"
      ]
     },
     "metadata": {},
     "output_type": "display_data"
    },
    {
     "data": {
      "text/html": [
       "<pre>recommendations finished on 238000/700180 queries. users per second: 585.017</pre>"
      ],
      "text/plain": [
       "recommendations finished on 238000/700180 queries. users per second: 585.017"
      ]
     },
     "metadata": {},
     "output_type": "display_data"
    },
    {
     "data": {
      "text/html": [
       "<pre>recommendations finished on 239000/700180 queries. users per second: 584.999</pre>"
      ],
      "text/plain": [
       "recommendations finished on 239000/700180 queries. users per second: 584.999"
      ]
     },
     "metadata": {},
     "output_type": "display_data"
    },
    {
     "data": {
      "text/html": [
       "<pre>recommendations finished on 240000/700180 queries. users per second: 584.989</pre>"
      ],
      "text/plain": [
       "recommendations finished on 240000/700180 queries. users per second: 584.989"
      ]
     },
     "metadata": {},
     "output_type": "display_data"
    },
    {
     "data": {
      "text/html": [
       "<pre>recommendations finished on 241000/700180 queries. users per second: 584.997</pre>"
      ],
      "text/plain": [
       "recommendations finished on 241000/700180 queries. users per second: 584.997"
      ]
     },
     "metadata": {},
     "output_type": "display_data"
    },
    {
     "data": {
      "text/html": [
       "<pre>recommendations finished on 242000/700180 queries. users per second: 584.985</pre>"
      ],
      "text/plain": [
       "recommendations finished on 242000/700180 queries. users per second: 584.985"
      ]
     },
     "metadata": {},
     "output_type": "display_data"
    },
    {
     "data": {
      "text/html": [
       "<pre>recommendations finished on 243000/700180 queries. users per second: 584.98</pre>"
      ],
      "text/plain": [
       "recommendations finished on 243000/700180 queries. users per second: 584.98"
      ]
     },
     "metadata": {},
     "output_type": "display_data"
    },
    {
     "data": {
      "text/html": [
       "<pre>recommendations finished on 244000/700180 queries. users per second: 584.984</pre>"
      ],
      "text/plain": [
       "recommendations finished on 244000/700180 queries. users per second: 584.984"
      ]
     },
     "metadata": {},
     "output_type": "display_data"
    },
    {
     "data": {
      "text/html": [
       "<pre>recommendations finished on 245000/700180 queries. users per second: 584.99</pre>"
      ],
      "text/plain": [
       "recommendations finished on 245000/700180 queries. users per second: 584.99"
      ]
     },
     "metadata": {},
     "output_type": "display_data"
    },
    {
     "data": {
      "text/html": [
       "<pre>recommendations finished on 246000/700180 queries. users per second: 584.982</pre>"
      ],
      "text/plain": [
       "recommendations finished on 246000/700180 queries. users per second: 584.982"
      ]
     },
     "metadata": {},
     "output_type": "display_data"
    },
    {
     "data": {
      "text/html": [
       "<pre>recommendations finished on 247000/700180 queries. users per second: 584.987</pre>"
      ],
      "text/plain": [
       "recommendations finished on 247000/700180 queries. users per second: 584.987"
      ]
     },
     "metadata": {},
     "output_type": "display_data"
    },
    {
     "data": {
      "text/html": [
       "<pre>recommendations finished on 248000/700180 queries. users per second: 584.978</pre>"
      ],
      "text/plain": [
       "recommendations finished on 248000/700180 queries. users per second: 584.978"
      ]
     },
     "metadata": {},
     "output_type": "display_data"
    },
    {
     "data": {
      "text/html": [
       "<pre>recommendations finished on 249000/700180 queries. users per second: 584.98</pre>"
      ],
      "text/plain": [
       "recommendations finished on 249000/700180 queries. users per second: 584.98"
      ]
     },
     "metadata": {},
     "output_type": "display_data"
    },
    {
     "data": {
      "text/html": [
       "<pre>recommendations finished on 250000/700180 queries. users per second: 584.965</pre>"
      ],
      "text/plain": [
       "recommendations finished on 250000/700180 queries. users per second: 584.965"
      ]
     },
     "metadata": {},
     "output_type": "display_data"
    },
    {
     "data": {
      "text/html": [
       "<pre>recommendations finished on 251000/700180 queries. users per second: 584.937</pre>"
      ],
      "text/plain": [
       "recommendations finished on 251000/700180 queries. users per second: 584.937"
      ]
     },
     "metadata": {},
     "output_type": "display_data"
    },
    {
     "data": {
      "text/html": [
       "<pre>recommendations finished on 252000/700180 queries. users per second: 584.946</pre>"
      ],
      "text/plain": [
       "recommendations finished on 252000/700180 queries. users per second: 584.946"
      ]
     },
     "metadata": {},
     "output_type": "display_data"
    },
    {
     "data": {
      "text/html": [
       "<pre>recommendations finished on 253000/700180 queries. users per second: 584.929</pre>"
      ],
      "text/plain": [
       "recommendations finished on 253000/700180 queries. users per second: 584.929"
      ]
     },
     "metadata": {},
     "output_type": "display_data"
    },
    {
     "data": {
      "text/html": [
       "<pre>recommendations finished on 254000/700180 queries. users per second: 584.903</pre>"
      ],
      "text/plain": [
       "recommendations finished on 254000/700180 queries. users per second: 584.903"
      ]
     },
     "metadata": {},
     "output_type": "display_data"
    },
    {
     "data": {
      "text/html": [
       "<pre>recommendations finished on 255000/700180 queries. users per second: 584.909</pre>"
      ],
      "text/plain": [
       "recommendations finished on 255000/700180 queries. users per second: 584.909"
      ]
     },
     "metadata": {},
     "output_type": "display_data"
    },
    {
     "data": {
      "text/html": [
       "<pre>recommendations finished on 256000/700180 queries. users per second: 584.895</pre>"
      ],
      "text/plain": [
       "recommendations finished on 256000/700180 queries. users per second: 584.895"
      ]
     },
     "metadata": {},
     "output_type": "display_data"
    },
    {
     "data": {
      "text/html": [
       "<pre>recommendations finished on 257000/700180 queries. users per second: 584.89</pre>"
      ],
      "text/plain": [
       "recommendations finished on 257000/700180 queries. users per second: 584.89"
      ]
     },
     "metadata": {},
     "output_type": "display_data"
    },
    {
     "data": {
      "text/html": [
       "<pre>recommendations finished on 258000/700180 queries. users per second: 584.885</pre>"
      ],
      "text/plain": [
       "recommendations finished on 258000/700180 queries. users per second: 584.885"
      ]
     },
     "metadata": {},
     "output_type": "display_data"
    },
    {
     "data": {
      "text/html": [
       "<pre>recommendations finished on 259000/700180 queries. users per second: 584.891</pre>"
      ],
      "text/plain": [
       "recommendations finished on 259000/700180 queries. users per second: 584.891"
      ]
     },
     "metadata": {},
     "output_type": "display_data"
    },
    {
     "data": {
      "text/html": [
       "<pre>recommendations finished on 260000/700180 queries. users per second: 584.883</pre>"
      ],
      "text/plain": [
       "recommendations finished on 260000/700180 queries. users per second: 584.883"
      ]
     },
     "metadata": {},
     "output_type": "display_data"
    },
    {
     "data": {
      "text/html": [
       "<pre>recommendations finished on 261000/700180 queries. users per second: 584.864</pre>"
      ],
      "text/plain": [
       "recommendations finished on 261000/700180 queries. users per second: 584.864"
      ]
     },
     "metadata": {},
     "output_type": "display_data"
    },
    {
     "data": {
      "text/html": [
       "<pre>recommendations finished on 262000/700180 queries. users per second: 584.865</pre>"
      ],
      "text/plain": [
       "recommendations finished on 262000/700180 queries. users per second: 584.865"
      ]
     },
     "metadata": {},
     "output_type": "display_data"
    },
    {
     "data": {
      "text/html": [
       "<pre>recommendations finished on 263000/700180 queries. users per second: 584.862</pre>"
      ],
      "text/plain": [
       "recommendations finished on 263000/700180 queries. users per second: 584.862"
      ]
     },
     "metadata": {},
     "output_type": "display_data"
    },
    {
     "data": {
      "text/html": [
       "<pre>recommendations finished on 264000/700180 queries. users per second: 584.889</pre>"
      ],
      "text/plain": [
       "recommendations finished on 264000/700180 queries. users per second: 584.889"
      ]
     },
     "metadata": {},
     "output_type": "display_data"
    },
    {
     "data": {
      "text/html": [
       "<pre>recommendations finished on 265000/700180 queries. users per second: 584.885</pre>"
      ],
      "text/plain": [
       "recommendations finished on 265000/700180 queries. users per second: 584.885"
      ]
     },
     "metadata": {},
     "output_type": "display_data"
    },
    {
     "data": {
      "text/html": [
       "<pre>recommendations finished on 266000/700180 queries. users per second: 584.894</pre>"
      ],
      "text/plain": [
       "recommendations finished on 266000/700180 queries. users per second: 584.894"
      ]
     },
     "metadata": {},
     "output_type": "display_data"
    },
    {
     "data": {
      "text/html": [
       "<pre>recommendations finished on 267000/700180 queries. users per second: 584.876</pre>"
      ],
      "text/plain": [
       "recommendations finished on 267000/700180 queries. users per second: 584.876"
      ]
     },
     "metadata": {},
     "output_type": "display_data"
    },
    {
     "data": {
      "text/html": [
       "<pre>recommendations finished on 268000/700180 queries. users per second: 584.884</pre>"
      ],
      "text/plain": [
       "recommendations finished on 268000/700180 queries. users per second: 584.884"
      ]
     },
     "metadata": {},
     "output_type": "display_data"
    },
    {
     "data": {
      "text/html": [
       "<pre>recommendations finished on 269000/700180 queries. users per second: 584.884</pre>"
      ],
      "text/plain": [
       "recommendations finished on 269000/700180 queries. users per second: 584.884"
      ]
     },
     "metadata": {},
     "output_type": "display_data"
    },
    {
     "data": {
      "text/html": [
       "<pre>recommendations finished on 270000/700180 queries. users per second: 584.869</pre>"
      ],
      "text/plain": [
       "recommendations finished on 270000/700180 queries. users per second: 584.869"
      ]
     },
     "metadata": {},
     "output_type": "display_data"
    },
    {
     "data": {
      "text/html": [
       "<pre>recommendations finished on 271000/700180 queries. users per second: 584.88</pre>"
      ],
      "text/plain": [
       "recommendations finished on 271000/700180 queries. users per second: 584.88"
      ]
     },
     "metadata": {},
     "output_type": "display_data"
    },
    {
     "data": {
      "text/html": [
       "<pre>recommendations finished on 272000/700180 queries. users per second: 584.87</pre>"
      ],
      "text/plain": [
       "recommendations finished on 272000/700180 queries. users per second: 584.87"
      ]
     },
     "metadata": {},
     "output_type": "display_data"
    },
    {
     "data": {
      "text/html": [
       "<pre>recommendations finished on 273000/700180 queries. users per second: 584.897</pre>"
      ],
      "text/plain": [
       "recommendations finished on 273000/700180 queries. users per second: 584.897"
      ]
     },
     "metadata": {},
     "output_type": "display_data"
    },
    {
     "data": {
      "text/html": [
       "<pre>recommendations finished on 274000/700180 queries. users per second: 584.87</pre>"
      ],
      "text/plain": [
       "recommendations finished on 274000/700180 queries. users per second: 584.87"
      ]
     },
     "metadata": {},
     "output_type": "display_data"
    },
    {
     "data": {
      "text/html": [
       "<pre>recommendations finished on 275000/700180 queries. users per second: 584.881</pre>"
      ],
      "text/plain": [
       "recommendations finished on 275000/700180 queries. users per second: 584.881"
      ]
     },
     "metadata": {},
     "output_type": "display_data"
    },
    {
     "data": {
      "text/html": [
       "<pre>recommendations finished on 276000/700180 queries. users per second: 584.866</pre>"
      ],
      "text/plain": [
       "recommendations finished on 276000/700180 queries. users per second: 584.866"
      ]
     },
     "metadata": {},
     "output_type": "display_data"
    },
    {
     "data": {
      "text/html": [
       "<pre>recommendations finished on 277000/700180 queries. users per second: 584.873</pre>"
      ],
      "text/plain": [
       "recommendations finished on 277000/700180 queries. users per second: 584.873"
      ]
     },
     "metadata": {},
     "output_type": "display_data"
    },
    {
     "data": {
      "text/html": [
       "<pre>recommendations finished on 278000/700180 queries. users per second: 584.878</pre>"
      ],
      "text/plain": [
       "recommendations finished on 278000/700180 queries. users per second: 584.878"
      ]
     },
     "metadata": {},
     "output_type": "display_data"
    },
    {
     "data": {
      "text/html": [
       "<pre>recommendations finished on 279000/700180 queries. users per second: 584.866</pre>"
      ],
      "text/plain": [
       "recommendations finished on 279000/700180 queries. users per second: 584.866"
      ]
     },
     "metadata": {},
     "output_type": "display_data"
    },
    {
     "data": {
      "text/html": [
       "<pre>recommendations finished on 280000/700180 queries. users per second: 584.865</pre>"
      ],
      "text/plain": [
       "recommendations finished on 280000/700180 queries. users per second: 584.865"
      ]
     },
     "metadata": {},
     "output_type": "display_data"
    },
    {
     "data": {
      "text/html": [
       "<pre>recommendations finished on 281000/700180 queries. users per second: 584.87</pre>"
      ],
      "text/plain": [
       "recommendations finished on 281000/700180 queries. users per second: 584.87"
      ]
     },
     "metadata": {},
     "output_type": "display_data"
    },
    {
     "data": {
      "text/html": [
       "<pre>recommendations finished on 282000/700180 queries. users per second: 584.872</pre>"
      ],
      "text/plain": [
       "recommendations finished on 282000/700180 queries. users per second: 584.872"
      ]
     },
     "metadata": {},
     "output_type": "display_data"
    },
    {
     "data": {
      "text/html": [
       "<pre>recommendations finished on 283000/700180 queries. users per second: 584.856</pre>"
      ],
      "text/plain": [
       "recommendations finished on 283000/700180 queries. users per second: 584.856"
      ]
     },
     "metadata": {},
     "output_type": "display_data"
    },
    {
     "data": {
      "text/html": [
       "<pre>recommendations finished on 284000/700180 queries. users per second: 584.871</pre>"
      ],
      "text/plain": [
       "recommendations finished on 284000/700180 queries. users per second: 584.871"
      ]
     },
     "metadata": {},
     "output_type": "display_data"
    },
    {
     "data": {
      "text/html": [
       "<pre>recommendations finished on 285000/700180 queries. users per second: 584.865</pre>"
      ],
      "text/plain": [
       "recommendations finished on 285000/700180 queries. users per second: 584.865"
      ]
     },
     "metadata": {},
     "output_type": "display_data"
    },
    {
     "data": {
      "text/html": [
       "<pre>recommendations finished on 286000/700180 queries. users per second: 584.867</pre>"
      ],
      "text/plain": [
       "recommendations finished on 286000/700180 queries. users per second: 584.867"
      ]
     },
     "metadata": {},
     "output_type": "display_data"
    },
    {
     "data": {
      "text/html": [
       "<pre>recommendations finished on 287000/700180 queries. users per second: 584.865</pre>"
      ],
      "text/plain": [
       "recommendations finished on 287000/700180 queries. users per second: 584.865"
      ]
     },
     "metadata": {},
     "output_type": "display_data"
    },
    {
     "data": {
      "text/html": [
       "<pre>recommendations finished on 288000/700180 queries. users per second: 584.829</pre>"
      ],
      "text/plain": [
       "recommendations finished on 288000/700180 queries. users per second: 584.829"
      ]
     },
     "metadata": {},
     "output_type": "display_data"
    },
    {
     "data": {
      "text/html": [
       "<pre>recommendations finished on 289000/700180 queries. users per second: 584.837</pre>"
      ],
      "text/plain": [
       "recommendations finished on 289000/700180 queries. users per second: 584.837"
      ]
     },
     "metadata": {},
     "output_type": "display_data"
    },
    {
     "data": {
      "text/html": [
       "<pre>recommendations finished on 290000/700180 queries. users per second: 584.847</pre>"
      ],
      "text/plain": [
       "recommendations finished on 290000/700180 queries. users per second: 584.847"
      ]
     },
     "metadata": {},
     "output_type": "display_data"
    },
    {
     "data": {
      "text/html": [
       "<pre>recommendations finished on 291000/700180 queries. users per second: 584.827</pre>"
      ],
      "text/plain": [
       "recommendations finished on 291000/700180 queries. users per second: 584.827"
      ]
     },
     "metadata": {},
     "output_type": "display_data"
    },
    {
     "data": {
      "text/html": [
       "<pre>recommendations finished on 292000/700180 queries. users per second: 584.828</pre>"
      ],
      "text/plain": [
       "recommendations finished on 292000/700180 queries. users per second: 584.828"
      ]
     },
     "metadata": {},
     "output_type": "display_data"
    },
    {
     "data": {
      "text/html": [
       "<pre>recommendations finished on 293000/700180 queries. users per second: 584.815</pre>"
      ],
      "text/plain": [
       "recommendations finished on 293000/700180 queries. users per second: 584.815"
      ]
     },
     "metadata": {},
     "output_type": "display_data"
    },
    {
     "data": {
      "text/html": [
       "<pre>recommendations finished on 294000/700180 queries. users per second: 584.831</pre>"
      ],
      "text/plain": [
       "recommendations finished on 294000/700180 queries. users per second: 584.831"
      ]
     },
     "metadata": {},
     "output_type": "display_data"
    },
    {
     "data": {
      "text/html": [
       "<pre>recommendations finished on 295000/700180 queries. users per second: 584.828</pre>"
      ],
      "text/plain": [
       "recommendations finished on 295000/700180 queries. users per second: 584.828"
      ]
     },
     "metadata": {},
     "output_type": "display_data"
    },
    {
     "data": {
      "text/html": [
       "<pre>recommendations finished on 296000/700180 queries. users per second: 584.835</pre>"
      ],
      "text/plain": [
       "recommendations finished on 296000/700180 queries. users per second: 584.835"
      ]
     },
     "metadata": {},
     "output_type": "display_data"
    },
    {
     "data": {
      "text/html": [
       "<pre>recommendations finished on 297000/700180 queries. users per second: 584.825</pre>"
      ],
      "text/plain": [
       "recommendations finished on 297000/700180 queries. users per second: 584.825"
      ]
     },
     "metadata": {},
     "output_type": "display_data"
    },
    {
     "data": {
      "text/html": [
       "<pre>recommendations finished on 298000/700180 queries. users per second: 584.822</pre>"
      ],
      "text/plain": [
       "recommendations finished on 298000/700180 queries. users per second: 584.822"
      ]
     },
     "metadata": {},
     "output_type": "display_data"
    },
    {
     "data": {
      "text/html": [
       "<pre>recommendations finished on 299000/700180 queries. users per second: 584.828</pre>"
      ],
      "text/plain": [
       "recommendations finished on 299000/700180 queries. users per second: 584.828"
      ]
     },
     "metadata": {},
     "output_type": "display_data"
    },
    {
     "data": {
      "text/html": [
       "<pre>recommendations finished on 300000/700180 queries. users per second: 584.833</pre>"
      ],
      "text/plain": [
       "recommendations finished on 300000/700180 queries. users per second: 584.833"
      ]
     },
     "metadata": {},
     "output_type": "display_data"
    },
    {
     "data": {
      "text/html": [
       "<pre>recommendations finished on 301000/700180 queries. users per second: 584.821</pre>"
      ],
      "text/plain": [
       "recommendations finished on 301000/700180 queries. users per second: 584.821"
      ]
     },
     "metadata": {},
     "output_type": "display_data"
    },
    {
     "data": {
      "text/html": [
       "<pre>recommendations finished on 302000/700180 queries. users per second: 584.814</pre>"
      ],
      "text/plain": [
       "recommendations finished on 302000/700180 queries. users per second: 584.814"
      ]
     },
     "metadata": {},
     "output_type": "display_data"
    },
    {
     "data": {
      "text/html": [
       "<pre>recommendations finished on 303000/700180 queries. users per second: 584.822</pre>"
      ],
      "text/plain": [
       "recommendations finished on 303000/700180 queries. users per second: 584.822"
      ]
     },
     "metadata": {},
     "output_type": "display_data"
    },
    {
     "data": {
      "text/html": [
       "<pre>recommendations finished on 304000/700180 queries. users per second: 584.81</pre>"
      ],
      "text/plain": [
       "recommendations finished on 304000/700180 queries. users per second: 584.81"
      ]
     },
     "metadata": {},
     "output_type": "display_data"
    },
    {
     "data": {
      "text/html": [
       "<pre>recommendations finished on 305000/700180 queries. users per second: 584.797</pre>"
      ],
      "text/plain": [
       "recommendations finished on 305000/700180 queries. users per second: 584.797"
      ]
     },
     "metadata": {},
     "output_type": "display_data"
    },
    {
     "data": {
      "text/html": [
       "<pre>recommendations finished on 306000/700180 queries. users per second: 584.8</pre>"
      ],
      "text/plain": [
       "recommendations finished on 306000/700180 queries. users per second: 584.8"
      ]
     },
     "metadata": {},
     "output_type": "display_data"
    },
    {
     "data": {
      "text/html": [
       "<pre>recommendations finished on 307000/700180 queries. users per second: 584.807</pre>"
      ],
      "text/plain": [
       "recommendations finished on 307000/700180 queries. users per second: 584.807"
      ]
     },
     "metadata": {},
     "output_type": "display_data"
    },
    {
     "data": {
      "text/html": [
       "<pre>recommendations finished on 308000/700180 queries. users per second: 584.786</pre>"
      ],
      "text/plain": [
       "recommendations finished on 308000/700180 queries. users per second: 584.786"
      ]
     },
     "metadata": {},
     "output_type": "display_data"
    },
    {
     "data": {
      "text/html": [
       "<pre>recommendations finished on 309000/700180 queries. users per second: 584.795</pre>"
      ],
      "text/plain": [
       "recommendations finished on 309000/700180 queries. users per second: 584.795"
      ]
     },
     "metadata": {},
     "output_type": "display_data"
    },
    {
     "data": {
      "text/html": [
       "<pre>recommendations finished on 310000/700180 queries. users per second: 584.804</pre>"
      ],
      "text/plain": [
       "recommendations finished on 310000/700180 queries. users per second: 584.804"
      ]
     },
     "metadata": {},
     "output_type": "display_data"
    },
    {
     "data": {
      "text/html": [
       "<pre>recommendations finished on 311000/700180 queries. users per second: 584.791</pre>"
      ],
      "text/plain": [
       "recommendations finished on 311000/700180 queries. users per second: 584.791"
      ]
     },
     "metadata": {},
     "output_type": "display_data"
    },
    {
     "data": {
      "text/html": [
       "<pre>recommendations finished on 312000/700180 queries. users per second: 584.777</pre>"
      ],
      "text/plain": [
       "recommendations finished on 312000/700180 queries. users per second: 584.777"
      ]
     },
     "metadata": {},
     "output_type": "display_data"
    },
    {
     "data": {
      "text/html": [
       "<pre>recommendations finished on 313000/700180 queries. users per second: 584.798</pre>"
      ],
      "text/plain": [
       "recommendations finished on 313000/700180 queries. users per second: 584.798"
      ]
     },
     "metadata": {},
     "output_type": "display_data"
    },
    {
     "data": {
      "text/html": [
       "<pre>recommendations finished on 314000/700180 queries. users per second: 584.785</pre>"
      ],
      "text/plain": [
       "recommendations finished on 314000/700180 queries. users per second: 584.785"
      ]
     },
     "metadata": {},
     "output_type": "display_data"
    },
    {
     "data": {
      "text/html": [
       "<pre>recommendations finished on 315000/700180 queries. users per second: 584.792</pre>"
      ],
      "text/plain": [
       "recommendations finished on 315000/700180 queries. users per second: 584.792"
      ]
     },
     "metadata": {},
     "output_type": "display_data"
    },
    {
     "data": {
      "text/html": [
       "<pre>recommendations finished on 316000/700180 queries. users per second: 584.788</pre>"
      ],
      "text/plain": [
       "recommendations finished on 316000/700180 queries. users per second: 584.788"
      ]
     },
     "metadata": {},
     "output_type": "display_data"
    },
    {
     "data": {
      "text/html": [
       "<pre>recommendations finished on 317000/700180 queries. users per second: 584.78</pre>"
      ],
      "text/plain": [
       "recommendations finished on 317000/700180 queries. users per second: 584.78"
      ]
     },
     "metadata": {},
     "output_type": "display_data"
    },
    {
     "data": {
      "text/html": [
       "<pre>recommendations finished on 318000/700180 queries. users per second: 584.784</pre>"
      ],
      "text/plain": [
       "recommendations finished on 318000/700180 queries. users per second: 584.784"
      ]
     },
     "metadata": {},
     "output_type": "display_data"
    },
    {
     "data": {
      "text/html": [
       "<pre>recommendations finished on 319000/700180 queries. users per second: 584.778</pre>"
      ],
      "text/plain": [
       "recommendations finished on 319000/700180 queries. users per second: 584.778"
      ]
     },
     "metadata": {},
     "output_type": "display_data"
    },
    {
     "data": {
      "text/html": [
       "<pre>recommendations finished on 320000/700180 queries. users per second: 584.788</pre>"
      ],
      "text/plain": [
       "recommendations finished on 320000/700180 queries. users per second: 584.788"
      ]
     },
     "metadata": {},
     "output_type": "display_data"
    },
    {
     "data": {
      "text/html": [
       "<pre>recommendations finished on 321000/700180 queries. users per second: 584.782</pre>"
      ],
      "text/plain": [
       "recommendations finished on 321000/700180 queries. users per second: 584.782"
      ]
     },
     "metadata": {},
     "output_type": "display_data"
    },
    {
     "data": {
      "text/html": [
       "<pre>recommendations finished on 322000/700180 queries. users per second: 584.778</pre>"
      ],
      "text/plain": [
       "recommendations finished on 322000/700180 queries. users per second: 584.778"
      ]
     },
     "metadata": {},
     "output_type": "display_data"
    },
    {
     "data": {
      "text/html": [
       "<pre>recommendations finished on 323000/700180 queries. users per second: 584.774</pre>"
      ],
      "text/plain": [
       "recommendations finished on 323000/700180 queries. users per second: 584.774"
      ]
     },
     "metadata": {},
     "output_type": "display_data"
    },
    {
     "data": {
      "text/html": [
       "<pre>recommendations finished on 324000/700180 queries. users per second: 584.771</pre>"
      ],
      "text/plain": [
       "recommendations finished on 324000/700180 queries. users per second: 584.771"
      ]
     },
     "metadata": {},
     "output_type": "display_data"
    },
    {
     "data": {
      "text/html": [
       "<pre>recommendations finished on 325000/700180 queries. users per second: 584.763</pre>"
      ],
      "text/plain": [
       "recommendations finished on 325000/700180 queries. users per second: 584.763"
      ]
     },
     "metadata": {},
     "output_type": "display_data"
    },
    {
     "data": {
      "text/html": [
       "<pre>recommendations finished on 326000/700180 queries. users per second: 584.783</pre>"
      ],
      "text/plain": [
       "recommendations finished on 326000/700180 queries. users per second: 584.783"
      ]
     },
     "metadata": {},
     "output_type": "display_data"
    },
    {
     "data": {
      "text/html": [
       "<pre>recommendations finished on 327000/700180 queries. users per second: 584.786</pre>"
      ],
      "text/plain": [
       "recommendations finished on 327000/700180 queries. users per second: 584.786"
      ]
     },
     "metadata": {},
     "output_type": "display_data"
    },
    {
     "data": {
      "text/html": [
       "<pre>recommendations finished on 328000/700180 queries. users per second: 584.782</pre>"
      ],
      "text/plain": [
       "recommendations finished on 328000/700180 queries. users per second: 584.782"
      ]
     },
     "metadata": {},
     "output_type": "display_data"
    },
    {
     "data": {
      "text/html": [
       "<pre>recommendations finished on 329000/700180 queries. users per second: 584.787</pre>"
      ],
      "text/plain": [
       "recommendations finished on 329000/700180 queries. users per second: 584.787"
      ]
     },
     "metadata": {},
     "output_type": "display_data"
    },
    {
     "data": {
      "text/html": [
       "<pre>recommendations finished on 330000/700180 queries. users per second: 584.782</pre>"
      ],
      "text/plain": [
       "recommendations finished on 330000/700180 queries. users per second: 584.782"
      ]
     },
     "metadata": {},
     "output_type": "display_data"
    },
    {
     "data": {
      "text/html": [
       "<pre>recommendations finished on 331000/700180 queries. users per second: 584.776</pre>"
      ],
      "text/plain": [
       "recommendations finished on 331000/700180 queries. users per second: 584.776"
      ]
     },
     "metadata": {},
     "output_type": "display_data"
    },
    {
     "data": {
      "text/html": [
       "<pre>recommendations finished on 332000/700180 queries. users per second: 584.75</pre>"
      ],
      "text/plain": [
       "recommendations finished on 332000/700180 queries. users per second: 584.75"
      ]
     },
     "metadata": {},
     "output_type": "display_data"
    },
    {
     "data": {
      "text/html": [
       "<pre>recommendations finished on 333000/700180 queries. users per second: 584.77</pre>"
      ],
      "text/plain": [
       "recommendations finished on 333000/700180 queries. users per second: 584.77"
      ]
     },
     "metadata": {},
     "output_type": "display_data"
    },
    {
     "data": {
      "text/html": [
       "<pre>recommendations finished on 334000/700180 queries. users per second: 584.771</pre>"
      ],
      "text/plain": [
       "recommendations finished on 334000/700180 queries. users per second: 584.771"
      ]
     },
     "metadata": {},
     "output_type": "display_data"
    },
    {
     "data": {
      "text/html": [
       "<pre>recommendations finished on 335000/700180 queries. users per second: 584.771</pre>"
      ],
      "text/plain": [
       "recommendations finished on 335000/700180 queries. users per second: 584.771"
      ]
     },
     "metadata": {},
     "output_type": "display_data"
    },
    {
     "data": {
      "text/html": [
       "<pre>recommendations finished on 336000/700180 queries. users per second: 584.771</pre>"
      ],
      "text/plain": [
       "recommendations finished on 336000/700180 queries. users per second: 584.771"
      ]
     },
     "metadata": {},
     "output_type": "display_data"
    },
    {
     "data": {
      "text/html": [
       "<pre>recommendations finished on 337000/700180 queries. users per second: 584.77</pre>"
      ],
      "text/plain": [
       "recommendations finished on 337000/700180 queries. users per second: 584.77"
      ]
     },
     "metadata": {},
     "output_type": "display_data"
    },
    {
     "data": {
      "text/html": [
       "<pre>recommendations finished on 338000/700180 queries. users per second: 584.762</pre>"
      ],
      "text/plain": [
       "recommendations finished on 338000/700180 queries. users per second: 584.762"
      ]
     },
     "metadata": {},
     "output_type": "display_data"
    },
    {
     "data": {
      "text/html": [
       "<pre>recommendations finished on 339000/700180 queries. users per second: 584.756</pre>"
      ],
      "text/plain": [
       "recommendations finished on 339000/700180 queries. users per second: 584.756"
      ]
     },
     "metadata": {},
     "output_type": "display_data"
    },
    {
     "data": {
      "text/html": [
       "<pre>recommendations finished on 340000/700180 queries. users per second: 584.748</pre>"
      ],
      "text/plain": [
       "recommendations finished on 340000/700180 queries. users per second: 584.748"
      ]
     },
     "metadata": {},
     "output_type": "display_data"
    },
    {
     "data": {
      "text/html": [
       "<pre>recommendations finished on 341000/700180 queries. users per second: 584.738</pre>"
      ],
      "text/plain": [
       "recommendations finished on 341000/700180 queries. users per second: 584.738"
      ]
     },
     "metadata": {},
     "output_type": "display_data"
    },
    {
     "data": {
      "text/html": [
       "<pre>recommendations finished on 342000/700180 queries. users per second: 584.74</pre>"
      ],
      "text/plain": [
       "recommendations finished on 342000/700180 queries. users per second: 584.74"
      ]
     },
     "metadata": {},
     "output_type": "display_data"
    },
    {
     "data": {
      "text/html": [
       "<pre>recommendations finished on 343000/700180 queries. users per second: 584.739</pre>"
      ],
      "text/plain": [
       "recommendations finished on 343000/700180 queries. users per second: 584.739"
      ]
     },
     "metadata": {},
     "output_type": "display_data"
    },
    {
     "data": {
      "text/html": [
       "<pre>recommendations finished on 344000/700180 queries. users per second: 584.757</pre>"
      ],
      "text/plain": [
       "recommendations finished on 344000/700180 queries. users per second: 584.757"
      ]
     },
     "metadata": {},
     "output_type": "display_data"
    },
    {
     "data": {
      "text/html": [
       "<pre>recommendations finished on 345000/700180 queries. users per second: 584.754</pre>"
      ],
      "text/plain": [
       "recommendations finished on 345000/700180 queries. users per second: 584.754"
      ]
     },
     "metadata": {},
     "output_type": "display_data"
    },
    {
     "data": {
      "text/html": [
       "<pre>recommendations finished on 346000/700180 queries. users per second: 584.737</pre>"
      ],
      "text/plain": [
       "recommendations finished on 346000/700180 queries. users per second: 584.737"
      ]
     },
     "metadata": {},
     "output_type": "display_data"
    },
    {
     "data": {
      "text/html": [
       "<pre>recommendations finished on 347000/700180 queries. users per second: 584.738</pre>"
      ],
      "text/plain": [
       "recommendations finished on 347000/700180 queries. users per second: 584.738"
      ]
     },
     "metadata": {},
     "output_type": "display_data"
    },
    {
     "data": {
      "text/html": [
       "<pre>recommendations finished on 348000/700180 queries. users per second: 584.746</pre>"
      ],
      "text/plain": [
       "recommendations finished on 348000/700180 queries. users per second: 584.746"
      ]
     },
     "metadata": {},
     "output_type": "display_data"
    },
    {
     "data": {
      "text/html": [
       "<pre>recommendations finished on 349000/700180 queries. users per second: 584.747</pre>"
      ],
      "text/plain": [
       "recommendations finished on 349000/700180 queries. users per second: 584.747"
      ]
     },
     "metadata": {},
     "output_type": "display_data"
    },
    {
     "data": {
      "text/html": [
       "<pre>recommendations finished on 350000/700180 queries. users per second: 584.742</pre>"
      ],
      "text/plain": [
       "recommendations finished on 350000/700180 queries. users per second: 584.742"
      ]
     },
     "metadata": {},
     "output_type": "display_data"
    },
    {
     "data": {
      "text/html": [
       "<pre>recommendations finished on 351000/700180 queries. users per second: 584.746</pre>"
      ],
      "text/plain": [
       "recommendations finished on 351000/700180 queries. users per second: 584.746"
      ]
     },
     "metadata": {},
     "output_type": "display_data"
    },
    {
     "data": {
      "text/html": [
       "<pre>recommendations finished on 352000/700180 queries. users per second: 584.743</pre>"
      ],
      "text/plain": [
       "recommendations finished on 352000/700180 queries. users per second: 584.743"
      ]
     },
     "metadata": {},
     "output_type": "display_data"
    },
    {
     "data": {
      "text/html": [
       "<pre>recommendations finished on 353000/700180 queries. users per second: 584.737</pre>"
      ],
      "text/plain": [
       "recommendations finished on 353000/700180 queries. users per second: 584.737"
      ]
     },
     "metadata": {},
     "output_type": "display_data"
    },
    {
     "data": {
      "text/html": [
       "<pre>recommendations finished on 354000/700180 queries. users per second: 584.74</pre>"
      ],
      "text/plain": [
       "recommendations finished on 354000/700180 queries. users per second: 584.74"
      ]
     },
     "metadata": {},
     "output_type": "display_data"
    },
    {
     "data": {
      "text/html": [
       "<pre>recommendations finished on 355000/700180 queries. users per second: 584.741</pre>"
      ],
      "text/plain": [
       "recommendations finished on 355000/700180 queries. users per second: 584.741"
      ]
     },
     "metadata": {},
     "output_type": "display_data"
    },
    {
     "data": {
      "text/html": [
       "<pre>recommendations finished on 356000/700180 queries. users per second: 584.733</pre>"
      ],
      "text/plain": [
       "recommendations finished on 356000/700180 queries. users per second: 584.733"
      ]
     },
     "metadata": {},
     "output_type": "display_data"
    },
    {
     "data": {
      "text/html": [
       "<pre>recommendations finished on 357000/700180 queries. users per second: 584.747</pre>"
      ],
      "text/plain": [
       "recommendations finished on 357000/700180 queries. users per second: 584.747"
      ]
     },
     "metadata": {},
     "output_type": "display_data"
    },
    {
     "data": {
      "text/html": [
       "<pre>recommendations finished on 358000/700180 queries. users per second: 584.752</pre>"
      ],
      "text/plain": [
       "recommendations finished on 358000/700180 queries. users per second: 584.752"
      ]
     },
     "metadata": {},
     "output_type": "display_data"
    },
    {
     "data": {
      "text/html": [
       "<pre>recommendations finished on 359000/700180 queries. users per second: 584.744</pre>"
      ],
      "text/plain": [
       "recommendations finished on 359000/700180 queries. users per second: 584.744"
      ]
     },
     "metadata": {},
     "output_type": "display_data"
    },
    {
     "data": {
      "text/html": [
       "<pre>recommendations finished on 360000/700180 queries. users per second: 584.751</pre>"
      ],
      "text/plain": [
       "recommendations finished on 360000/700180 queries. users per second: 584.751"
      ]
     },
     "metadata": {},
     "output_type": "display_data"
    },
    {
     "data": {
      "text/html": [
       "<pre>recommendations finished on 361000/700180 queries. users per second: 584.744</pre>"
      ],
      "text/plain": [
       "recommendations finished on 361000/700180 queries. users per second: 584.744"
      ]
     },
     "metadata": {},
     "output_type": "display_data"
    },
    {
     "data": {
      "text/html": [
       "<pre>recommendations finished on 362000/700180 queries. users per second: 584.727</pre>"
      ],
      "text/plain": [
       "recommendations finished on 362000/700180 queries. users per second: 584.727"
      ]
     },
     "metadata": {},
     "output_type": "display_data"
    },
    {
     "data": {
      "text/html": [
       "<pre>recommendations finished on 363000/700180 queries. users per second: 584.742</pre>"
      ],
      "text/plain": [
       "recommendations finished on 363000/700180 queries. users per second: 584.742"
      ]
     },
     "metadata": {},
     "output_type": "display_data"
    },
    {
     "data": {
      "text/html": [
       "<pre>recommendations finished on 364000/700180 queries. users per second: 584.746</pre>"
      ],
      "text/plain": [
       "recommendations finished on 364000/700180 queries. users per second: 584.746"
      ]
     },
     "metadata": {},
     "output_type": "display_data"
    },
    {
     "data": {
      "text/html": [
       "<pre>recommendations finished on 365000/700180 queries. users per second: 584.737</pre>"
      ],
      "text/plain": [
       "recommendations finished on 365000/700180 queries. users per second: 584.737"
      ]
     },
     "metadata": {},
     "output_type": "display_data"
    },
    {
     "data": {
      "text/html": [
       "<pre>recommendations finished on 366000/700180 queries. users per second: 584.741</pre>"
      ],
      "text/plain": [
       "recommendations finished on 366000/700180 queries. users per second: 584.741"
      ]
     },
     "metadata": {},
     "output_type": "display_data"
    },
    {
     "data": {
      "text/html": [
       "<pre>recommendations finished on 367000/700180 queries. users per second: 584.728</pre>"
      ],
      "text/plain": [
       "recommendations finished on 367000/700180 queries. users per second: 584.728"
      ]
     },
     "metadata": {},
     "output_type": "display_data"
    },
    {
     "data": {
      "text/html": [
       "<pre>recommendations finished on 368000/700180 queries. users per second: 584.727</pre>"
      ],
      "text/plain": [
       "recommendations finished on 368000/700180 queries. users per second: 584.727"
      ]
     },
     "metadata": {},
     "output_type": "display_data"
    },
    {
     "data": {
      "text/html": [
       "<pre>recommendations finished on 369000/700180 queries. users per second: 584.73</pre>"
      ],
      "text/plain": [
       "recommendations finished on 369000/700180 queries. users per second: 584.73"
      ]
     },
     "metadata": {},
     "output_type": "display_data"
    },
    {
     "data": {
      "text/html": [
       "<pre>recommendations finished on 370000/700180 queries. users per second: 584.722</pre>"
      ],
      "text/plain": [
       "recommendations finished on 370000/700180 queries. users per second: 584.722"
      ]
     },
     "metadata": {},
     "output_type": "display_data"
    },
    {
     "data": {
      "text/html": [
       "<pre>recommendations finished on 371000/700180 queries. users per second: 584.713</pre>"
      ],
      "text/plain": [
       "recommendations finished on 371000/700180 queries. users per second: 584.713"
      ]
     },
     "metadata": {},
     "output_type": "display_data"
    },
    {
     "data": {
      "text/html": [
       "<pre>recommendations finished on 372000/700180 queries. users per second: 584.733</pre>"
      ],
      "text/plain": [
       "recommendations finished on 372000/700180 queries. users per second: 584.733"
      ]
     },
     "metadata": {},
     "output_type": "display_data"
    },
    {
     "data": {
      "text/html": [
       "<pre>recommendations finished on 373000/700180 queries. users per second: 584.735</pre>"
      ],
      "text/plain": [
       "recommendations finished on 373000/700180 queries. users per second: 584.735"
      ]
     },
     "metadata": {},
     "output_type": "display_data"
    },
    {
     "data": {
      "text/html": [
       "<pre>recommendations finished on 374000/700180 queries. users per second: 584.724</pre>"
      ],
      "text/plain": [
       "recommendations finished on 374000/700180 queries. users per second: 584.724"
      ]
     },
     "metadata": {},
     "output_type": "display_data"
    },
    {
     "data": {
      "text/html": [
       "<pre>recommendations finished on 375000/700180 queries. users per second: 584.73</pre>"
      ],
      "text/plain": [
       "recommendations finished on 375000/700180 queries. users per second: 584.73"
      ]
     },
     "metadata": {},
     "output_type": "display_data"
    },
    {
     "data": {
      "text/html": [
       "<pre>recommendations finished on 376000/700180 queries. users per second: 584.735</pre>"
      ],
      "text/plain": [
       "recommendations finished on 376000/700180 queries. users per second: 584.735"
      ]
     },
     "metadata": {},
     "output_type": "display_data"
    },
    {
     "data": {
      "text/html": [
       "<pre>recommendations finished on 377000/700180 queries. users per second: 584.722</pre>"
      ],
      "text/plain": [
       "recommendations finished on 377000/700180 queries. users per second: 584.722"
      ]
     },
     "metadata": {},
     "output_type": "display_data"
    },
    {
     "data": {
      "text/html": [
       "<pre>recommendations finished on 378000/700180 queries. users per second: 584.724</pre>"
      ],
      "text/plain": [
       "recommendations finished on 378000/700180 queries. users per second: 584.724"
      ]
     },
     "metadata": {},
     "output_type": "display_data"
    },
    {
     "data": {
      "text/html": [
       "<pre>recommendations finished on 379000/700180 queries. users per second: 584.709</pre>"
      ],
      "text/plain": [
       "recommendations finished on 379000/700180 queries. users per second: 584.709"
      ]
     },
     "metadata": {},
     "output_type": "display_data"
    },
    {
     "data": {
      "text/html": [
       "<pre>recommendations finished on 380000/700180 queries. users per second: 584.712</pre>"
      ],
      "text/plain": [
       "recommendations finished on 380000/700180 queries. users per second: 584.712"
      ]
     },
     "metadata": {},
     "output_type": "display_data"
    },
    {
     "data": {
      "text/html": [
       "<pre>recommendations finished on 381000/700180 queries. users per second: 584.7</pre>"
      ],
      "text/plain": [
       "recommendations finished on 381000/700180 queries. users per second: 584.7"
      ]
     },
     "metadata": {},
     "output_type": "display_data"
    },
    {
     "data": {
      "text/html": [
       "<pre>recommendations finished on 382000/700180 queries. users per second: 584.712</pre>"
      ],
      "text/plain": [
       "recommendations finished on 382000/700180 queries. users per second: 584.712"
      ]
     },
     "metadata": {},
     "output_type": "display_data"
    },
    {
     "data": {
      "text/html": [
       "<pre>recommendations finished on 383000/700180 queries. users per second: 584.724</pre>"
      ],
      "text/plain": [
       "recommendations finished on 383000/700180 queries. users per second: 584.724"
      ]
     },
     "metadata": {},
     "output_type": "display_data"
    },
    {
     "data": {
      "text/html": [
       "<pre>recommendations finished on 384000/700180 queries. users per second: 584.735</pre>"
      ],
      "text/plain": [
       "recommendations finished on 384000/700180 queries. users per second: 584.735"
      ]
     },
     "metadata": {},
     "output_type": "display_data"
    },
    {
     "data": {
      "text/html": [
       "<pre>recommendations finished on 385000/700180 queries. users per second: 584.735</pre>"
      ],
      "text/plain": [
       "recommendations finished on 385000/700180 queries. users per second: 584.735"
      ]
     },
     "metadata": {},
     "output_type": "display_data"
    },
    {
     "data": {
      "text/html": [
       "<pre>recommendations finished on 386000/700180 queries. users per second: 584.723</pre>"
      ],
      "text/plain": [
       "recommendations finished on 386000/700180 queries. users per second: 584.723"
      ]
     },
     "metadata": {},
     "output_type": "display_data"
    },
    {
     "data": {
      "text/html": [
       "<pre>recommendations finished on 387000/700180 queries. users per second: 584.739</pre>"
      ],
      "text/plain": [
       "recommendations finished on 387000/700180 queries. users per second: 584.739"
      ]
     },
     "metadata": {},
     "output_type": "display_data"
    },
    {
     "data": {
      "text/html": [
       "<pre>recommendations finished on 388000/700180 queries. users per second: 584.722</pre>"
      ],
      "text/plain": [
       "recommendations finished on 388000/700180 queries. users per second: 584.722"
      ]
     },
     "metadata": {},
     "output_type": "display_data"
    },
    {
     "data": {
      "text/html": [
       "<pre>recommendations finished on 389000/700180 queries. users per second: 584.733</pre>"
      ],
      "text/plain": [
       "recommendations finished on 389000/700180 queries. users per second: 584.733"
      ]
     },
     "metadata": {},
     "output_type": "display_data"
    },
    {
     "data": {
      "text/html": [
       "<pre>recommendations finished on 390000/700180 queries. users per second: 584.726</pre>"
      ],
      "text/plain": [
       "recommendations finished on 390000/700180 queries. users per second: 584.726"
      ]
     },
     "metadata": {},
     "output_type": "display_data"
    },
    {
     "data": {
      "text/html": [
       "<pre>recommendations finished on 391000/700180 queries. users per second: 584.728</pre>"
      ],
      "text/plain": [
       "recommendations finished on 391000/700180 queries. users per second: 584.728"
      ]
     },
     "metadata": {},
     "output_type": "display_data"
    },
    {
     "data": {
      "text/html": [
       "<pre>recommendations finished on 392000/700180 queries. users per second: 584.728</pre>"
      ],
      "text/plain": [
       "recommendations finished on 392000/700180 queries. users per second: 584.728"
      ]
     },
     "metadata": {},
     "output_type": "display_data"
    },
    {
     "data": {
      "text/html": [
       "<pre>recommendations finished on 393000/700180 queries. users per second: 584.719</pre>"
      ],
      "text/plain": [
       "recommendations finished on 393000/700180 queries. users per second: 584.719"
      ]
     },
     "metadata": {},
     "output_type": "display_data"
    },
    {
     "data": {
      "text/html": [
       "<pre>recommendations finished on 394000/700180 queries. users per second: 584.719</pre>"
      ],
      "text/plain": [
       "recommendations finished on 394000/700180 queries. users per second: 584.719"
      ]
     },
     "metadata": {},
     "output_type": "display_data"
    },
    {
     "data": {
      "text/html": [
       "<pre>recommendations finished on 395000/700180 queries. users per second: 584.71</pre>"
      ],
      "text/plain": [
       "recommendations finished on 395000/700180 queries. users per second: 584.71"
      ]
     },
     "metadata": {},
     "output_type": "display_data"
    },
    {
     "data": {
      "text/html": [
       "<pre>recommendations finished on 396000/700180 queries. users per second: 584.712</pre>"
      ],
      "text/plain": [
       "recommendations finished on 396000/700180 queries. users per second: 584.712"
      ]
     },
     "metadata": {},
     "output_type": "display_data"
    },
    {
     "data": {
      "text/html": [
       "<pre>recommendations finished on 397000/700180 queries. users per second: 584.711</pre>"
      ],
      "text/plain": [
       "recommendations finished on 397000/700180 queries. users per second: 584.711"
      ]
     },
     "metadata": {},
     "output_type": "display_data"
    },
    {
     "data": {
      "text/html": [
       "<pre>recommendations finished on 398000/700180 queries. users per second: 584.708</pre>"
      ],
      "text/plain": [
       "recommendations finished on 398000/700180 queries. users per second: 584.708"
      ]
     },
     "metadata": {},
     "output_type": "display_data"
    },
    {
     "data": {
      "text/html": [
       "<pre>recommendations finished on 399000/700180 queries. users per second: 584.696</pre>"
      ],
      "text/plain": [
       "recommendations finished on 399000/700180 queries. users per second: 584.696"
      ]
     },
     "metadata": {},
     "output_type": "display_data"
    },
    {
     "data": {
      "text/html": [
       "<pre>recommendations finished on 400000/700180 queries. users per second: 584.706</pre>"
      ],
      "text/plain": [
       "recommendations finished on 400000/700180 queries. users per second: 584.706"
      ]
     },
     "metadata": {},
     "output_type": "display_data"
    },
    {
     "data": {
      "text/html": [
       "<pre>recommendations finished on 401000/700180 queries. users per second: 584.717</pre>"
      ],
      "text/plain": [
       "recommendations finished on 401000/700180 queries. users per second: 584.717"
      ]
     },
     "metadata": {},
     "output_type": "display_data"
    },
    {
     "data": {
      "text/html": [
       "<pre>recommendations finished on 402000/700180 queries. users per second: 584.714</pre>"
      ],
      "text/plain": [
       "recommendations finished on 402000/700180 queries. users per second: 584.714"
      ]
     },
     "metadata": {},
     "output_type": "display_data"
    },
    {
     "data": {
      "text/html": [
       "<pre>recommendations finished on 403000/700180 queries. users per second: 584.72</pre>"
      ],
      "text/plain": [
       "recommendations finished on 403000/700180 queries. users per second: 584.72"
      ]
     },
     "metadata": {},
     "output_type": "display_data"
    },
    {
     "data": {
      "text/html": [
       "<pre>recommendations finished on 404000/700180 queries. users per second: 584.711</pre>"
      ],
      "text/plain": [
       "recommendations finished on 404000/700180 queries. users per second: 584.711"
      ]
     },
     "metadata": {},
     "output_type": "display_data"
    },
    {
     "data": {
      "text/html": [
       "<pre>recommendations finished on 405000/700180 queries. users per second: 584.709</pre>"
      ],
      "text/plain": [
       "recommendations finished on 405000/700180 queries. users per second: 584.709"
      ]
     },
     "metadata": {},
     "output_type": "display_data"
    },
    {
     "data": {
      "text/html": [
       "<pre>recommendations finished on 406000/700180 queries. users per second: 584.713</pre>"
      ],
      "text/plain": [
       "recommendations finished on 406000/700180 queries. users per second: 584.713"
      ]
     },
     "metadata": {},
     "output_type": "display_data"
    },
    {
     "data": {
      "text/html": [
       "<pre>recommendations finished on 407000/700180 queries. users per second: 584.709</pre>"
      ],
      "text/plain": [
       "recommendations finished on 407000/700180 queries. users per second: 584.709"
      ]
     },
     "metadata": {},
     "output_type": "display_data"
    },
    {
     "data": {
      "text/html": [
       "<pre>recommendations finished on 408000/700180 queries. users per second: 584.704</pre>"
      ],
      "text/plain": [
       "recommendations finished on 408000/700180 queries. users per second: 584.704"
      ]
     },
     "metadata": {},
     "output_type": "display_data"
    },
    {
     "data": {
      "text/html": [
       "<pre>recommendations finished on 409000/700180 queries. users per second: 584.707</pre>"
      ],
      "text/plain": [
       "recommendations finished on 409000/700180 queries. users per second: 584.707"
      ]
     },
     "metadata": {},
     "output_type": "display_data"
    },
    {
     "data": {
      "text/html": [
       "<pre>recommendations finished on 410000/700180 queries. users per second: 584.699</pre>"
      ],
      "text/plain": [
       "recommendations finished on 410000/700180 queries. users per second: 584.699"
      ]
     },
     "metadata": {},
     "output_type": "display_data"
    },
    {
     "data": {
      "text/html": [
       "<pre>recommendations finished on 411000/700180 queries. users per second: 584.706</pre>"
      ],
      "text/plain": [
       "recommendations finished on 411000/700180 queries. users per second: 584.706"
      ]
     },
     "metadata": {},
     "output_type": "display_data"
    },
    {
     "data": {
      "text/html": [
       "<pre>recommendations finished on 412000/700180 queries. users per second: 584.703</pre>"
      ],
      "text/plain": [
       "recommendations finished on 412000/700180 queries. users per second: 584.703"
      ]
     },
     "metadata": {},
     "output_type": "display_data"
    },
    {
     "data": {
      "text/html": [
       "<pre>recommendations finished on 413000/700180 queries. users per second: 584.707</pre>"
      ],
      "text/plain": [
       "recommendations finished on 413000/700180 queries. users per second: 584.707"
      ]
     },
     "metadata": {},
     "output_type": "display_data"
    },
    {
     "data": {
      "text/html": [
       "<pre>recommendations finished on 414000/700180 queries. users per second: 584.706</pre>"
      ],
      "text/plain": [
       "recommendations finished on 414000/700180 queries. users per second: 584.706"
      ]
     },
     "metadata": {},
     "output_type": "display_data"
    },
    {
     "data": {
      "text/html": [
       "<pre>recommendations finished on 415000/700180 queries. users per second: 584.71</pre>"
      ],
      "text/plain": [
       "recommendations finished on 415000/700180 queries. users per second: 584.71"
      ]
     },
     "metadata": {},
     "output_type": "display_data"
    },
    {
     "data": {
      "text/html": [
       "<pre>recommendations finished on 416000/700180 queries. users per second: 584.717</pre>"
      ],
      "text/plain": [
       "recommendations finished on 416000/700180 queries. users per second: 584.717"
      ]
     },
     "metadata": {},
     "output_type": "display_data"
    },
    {
     "data": {
      "text/html": [
       "<pre>recommendations finished on 417000/700180 queries. users per second: 584.703</pre>"
      ],
      "text/plain": [
       "recommendations finished on 417000/700180 queries. users per second: 584.703"
      ]
     },
     "metadata": {},
     "output_type": "display_data"
    },
    {
     "data": {
      "text/html": [
       "<pre>recommendations finished on 418000/700180 queries. users per second: 584.718</pre>"
      ],
      "text/plain": [
       "recommendations finished on 418000/700180 queries. users per second: 584.718"
      ]
     },
     "metadata": {},
     "output_type": "display_data"
    },
    {
     "data": {
      "text/html": [
       "<pre>recommendations finished on 419000/700180 queries. users per second: 584.717</pre>"
      ],
      "text/plain": [
       "recommendations finished on 419000/700180 queries. users per second: 584.717"
      ]
     },
     "metadata": {},
     "output_type": "display_data"
    },
    {
     "data": {
      "text/html": [
       "<pre>recommendations finished on 420000/700180 queries. users per second: 584.713</pre>"
      ],
      "text/plain": [
       "recommendations finished on 420000/700180 queries. users per second: 584.713"
      ]
     },
     "metadata": {},
     "output_type": "display_data"
    },
    {
     "data": {
      "text/html": [
       "<pre>recommendations finished on 421000/700180 queries. users per second: 584.718</pre>"
      ],
      "text/plain": [
       "recommendations finished on 421000/700180 queries. users per second: 584.718"
      ]
     },
     "metadata": {},
     "output_type": "display_data"
    },
    {
     "data": {
      "text/html": [
       "<pre>recommendations finished on 422000/700180 queries. users per second: 584.711</pre>"
      ],
      "text/plain": [
       "recommendations finished on 422000/700180 queries. users per second: 584.711"
      ]
     },
     "metadata": {},
     "output_type": "display_data"
    },
    {
     "data": {
      "text/html": [
       "<pre>recommendations finished on 423000/700180 queries. users per second: 584.701</pre>"
      ],
      "text/plain": [
       "recommendations finished on 423000/700180 queries. users per second: 584.701"
      ]
     },
     "metadata": {},
     "output_type": "display_data"
    },
    {
     "data": {
      "text/html": [
       "<pre>recommendations finished on 424000/700180 queries. users per second: 584.706</pre>"
      ],
      "text/plain": [
       "recommendations finished on 424000/700180 queries. users per second: 584.706"
      ]
     },
     "metadata": {},
     "output_type": "display_data"
    },
    {
     "data": {
      "text/html": [
       "<pre>recommendations finished on 425000/700180 queries. users per second: 584.716</pre>"
      ],
      "text/plain": [
       "recommendations finished on 425000/700180 queries. users per second: 584.716"
      ]
     },
     "metadata": {},
     "output_type": "display_data"
    },
    {
     "data": {
      "text/html": [
       "<pre>recommendations finished on 426000/700180 queries. users per second: 584.709</pre>"
      ],
      "text/plain": [
       "recommendations finished on 426000/700180 queries. users per second: 584.709"
      ]
     },
     "metadata": {},
     "output_type": "display_data"
    },
    {
     "data": {
      "text/html": [
       "<pre>recommendations finished on 427000/700180 queries. users per second: 584.711</pre>"
      ],
      "text/plain": [
       "recommendations finished on 427000/700180 queries. users per second: 584.711"
      ]
     },
     "metadata": {},
     "output_type": "display_data"
    },
    {
     "data": {
      "text/html": [
       "<pre>recommendations finished on 428000/700180 queries. users per second: 584.704</pre>"
      ],
      "text/plain": [
       "recommendations finished on 428000/700180 queries. users per second: 584.704"
      ]
     },
     "metadata": {},
     "output_type": "display_data"
    },
    {
     "data": {
      "text/html": [
       "<pre>recommendations finished on 429000/700180 queries. users per second: 584.699</pre>"
      ],
      "text/plain": [
       "recommendations finished on 429000/700180 queries. users per second: 584.699"
      ]
     },
     "metadata": {},
     "output_type": "display_data"
    },
    {
     "data": {
      "text/html": [
       "<pre>recommendations finished on 430000/700180 queries. users per second: 584.703</pre>"
      ],
      "text/plain": [
       "recommendations finished on 430000/700180 queries. users per second: 584.703"
      ]
     },
     "metadata": {},
     "output_type": "display_data"
    },
    {
     "data": {
      "text/html": [
       "<pre>recommendations finished on 431000/700180 queries. users per second: 584.687</pre>"
      ],
      "text/plain": [
       "recommendations finished on 431000/700180 queries. users per second: 584.687"
      ]
     },
     "metadata": {},
     "output_type": "display_data"
    },
    {
     "data": {
      "text/html": [
       "<pre>recommendations finished on 432000/700180 queries. users per second: 584.689</pre>"
      ],
      "text/plain": [
       "recommendations finished on 432000/700180 queries. users per second: 584.689"
      ]
     },
     "metadata": {},
     "output_type": "display_data"
    },
    {
     "data": {
      "text/html": [
       "<pre>recommendations finished on 433000/700180 queries. users per second: 584.687</pre>"
      ],
      "text/plain": [
       "recommendations finished on 433000/700180 queries. users per second: 584.687"
      ]
     },
     "metadata": {},
     "output_type": "display_data"
    },
    {
     "data": {
      "text/html": [
       "<pre>recommendations finished on 434000/700180 queries. users per second: 584.683</pre>"
      ],
      "text/plain": [
       "recommendations finished on 434000/700180 queries. users per second: 584.683"
      ]
     },
     "metadata": {},
     "output_type": "display_data"
    },
    {
     "data": {
      "text/html": [
       "<pre>recommendations finished on 435000/700180 queries. users per second: 584.682</pre>"
      ],
      "text/plain": [
       "recommendations finished on 435000/700180 queries. users per second: 584.682"
      ]
     },
     "metadata": {},
     "output_type": "display_data"
    },
    {
     "data": {
      "text/html": [
       "<pre>recommendations finished on 436000/700180 queries. users per second: 584.69</pre>"
      ],
      "text/plain": [
       "recommendations finished on 436000/700180 queries. users per second: 584.69"
      ]
     },
     "metadata": {},
     "output_type": "display_data"
    },
    {
     "data": {
      "text/html": [
       "<pre>recommendations finished on 437000/700180 queries. users per second: 584.689</pre>"
      ],
      "text/plain": [
       "recommendations finished on 437000/700180 queries. users per second: 584.689"
      ]
     },
     "metadata": {},
     "output_type": "display_data"
    },
    {
     "data": {
      "text/html": [
       "<pre>recommendations finished on 438000/700180 queries. users per second: 584.688</pre>"
      ],
      "text/plain": [
       "recommendations finished on 438000/700180 queries. users per second: 584.688"
      ]
     },
     "metadata": {},
     "output_type": "display_data"
    },
    {
     "data": {
      "text/html": [
       "<pre>recommendations finished on 439000/700180 queries. users per second: 584.685</pre>"
      ],
      "text/plain": [
       "recommendations finished on 439000/700180 queries. users per second: 584.685"
      ]
     },
     "metadata": {},
     "output_type": "display_data"
    },
    {
     "data": {
      "text/html": [
       "<pre>recommendations finished on 440000/700180 queries. users per second: 584.686</pre>"
      ],
      "text/plain": [
       "recommendations finished on 440000/700180 queries. users per second: 584.686"
      ]
     },
     "metadata": {},
     "output_type": "display_data"
    },
    {
     "data": {
      "text/html": [
       "<pre>recommendations finished on 441000/700180 queries. users per second: 584.689</pre>"
      ],
      "text/plain": [
       "recommendations finished on 441000/700180 queries. users per second: 584.689"
      ]
     },
     "metadata": {},
     "output_type": "display_data"
    },
    {
     "data": {
      "text/html": [
       "<pre>recommendations finished on 442000/700180 queries. users per second: 584.685</pre>"
      ],
      "text/plain": [
       "recommendations finished on 442000/700180 queries. users per second: 584.685"
      ]
     },
     "metadata": {},
     "output_type": "display_data"
    },
    {
     "data": {
      "text/html": [
       "<pre>recommendations finished on 443000/700180 queries. users per second: 584.684</pre>"
      ],
      "text/plain": [
       "recommendations finished on 443000/700180 queries. users per second: 584.684"
      ]
     },
     "metadata": {},
     "output_type": "display_data"
    },
    {
     "data": {
      "text/html": [
       "<pre>recommendations finished on 444000/700180 queries. users per second: 584.674</pre>"
      ],
      "text/plain": [
       "recommendations finished on 444000/700180 queries. users per second: 584.674"
      ]
     },
     "metadata": {},
     "output_type": "display_data"
    },
    {
     "data": {
      "text/html": [
       "<pre>recommendations finished on 445000/700180 queries. users per second: 584.669</pre>"
      ],
      "text/plain": [
       "recommendations finished on 445000/700180 queries. users per second: 584.669"
      ]
     },
     "metadata": {},
     "output_type": "display_data"
    },
    {
     "data": {
      "text/html": [
       "<pre>recommendations finished on 446000/700180 queries. users per second: 584.671</pre>"
      ],
      "text/plain": [
       "recommendations finished on 446000/700180 queries. users per second: 584.671"
      ]
     },
     "metadata": {},
     "output_type": "display_data"
    },
    {
     "data": {
      "text/html": [
       "<pre>recommendations finished on 447000/700180 queries. users per second: 584.69</pre>"
      ],
      "text/plain": [
       "recommendations finished on 447000/700180 queries. users per second: 584.69"
      ]
     },
     "metadata": {},
     "output_type": "display_data"
    },
    {
     "data": {
      "text/html": [
       "<pre>recommendations finished on 448000/700180 queries. users per second: 584.678</pre>"
      ],
      "text/plain": [
       "recommendations finished on 448000/700180 queries. users per second: 584.678"
      ]
     },
     "metadata": {},
     "output_type": "display_data"
    },
    {
     "data": {
      "text/html": [
       "<pre>recommendations finished on 449000/700180 queries. users per second: 584.681</pre>"
      ],
      "text/plain": [
       "recommendations finished on 449000/700180 queries. users per second: 584.681"
      ]
     },
     "metadata": {},
     "output_type": "display_data"
    },
    {
     "data": {
      "text/html": [
       "<pre>recommendations finished on 450000/700180 queries. users per second: 584.68</pre>"
      ],
      "text/plain": [
       "recommendations finished on 450000/700180 queries. users per second: 584.68"
      ]
     },
     "metadata": {},
     "output_type": "display_data"
    },
    {
     "data": {
      "text/html": [
       "<pre>recommendations finished on 451000/700180 queries. users per second: 584.69</pre>"
      ],
      "text/plain": [
       "recommendations finished on 451000/700180 queries. users per second: 584.69"
      ]
     },
     "metadata": {},
     "output_type": "display_data"
    },
    {
     "data": {
      "text/html": [
       "<pre>recommendations finished on 452000/700180 queries. users per second: 584.688</pre>"
      ],
      "text/plain": [
       "recommendations finished on 452000/700180 queries. users per second: 584.688"
      ]
     },
     "metadata": {},
     "output_type": "display_data"
    },
    {
     "data": {
      "text/html": [
       "<pre>recommendations finished on 453000/700180 queries. users per second: 584.694</pre>"
      ],
      "text/plain": [
       "recommendations finished on 453000/700180 queries. users per second: 584.694"
      ]
     },
     "metadata": {},
     "output_type": "display_data"
    },
    {
     "data": {
      "text/html": [
       "<pre>recommendations finished on 454000/700180 queries. users per second: 584.687</pre>"
      ],
      "text/plain": [
       "recommendations finished on 454000/700180 queries. users per second: 584.687"
      ]
     },
     "metadata": {},
     "output_type": "display_data"
    },
    {
     "data": {
      "text/html": [
       "<pre>recommendations finished on 455000/700180 queries. users per second: 584.683</pre>"
      ],
      "text/plain": [
       "recommendations finished on 455000/700180 queries. users per second: 584.683"
      ]
     },
     "metadata": {},
     "output_type": "display_data"
    },
    {
     "data": {
      "text/html": [
       "<pre>recommendations finished on 456000/700180 queries. users per second: 584.674</pre>"
      ],
      "text/plain": [
       "recommendations finished on 456000/700180 queries. users per second: 584.674"
      ]
     },
     "metadata": {},
     "output_type": "display_data"
    },
    {
     "data": {
      "text/html": [
       "<pre>recommendations finished on 457000/700180 queries. users per second: 584.675</pre>"
      ],
      "text/plain": [
       "recommendations finished on 457000/700180 queries. users per second: 584.675"
      ]
     },
     "metadata": {},
     "output_type": "display_data"
    },
    {
     "data": {
      "text/html": [
       "<pre>recommendations finished on 458000/700180 queries. users per second: 584.668</pre>"
      ],
      "text/plain": [
       "recommendations finished on 458000/700180 queries. users per second: 584.668"
      ]
     },
     "metadata": {},
     "output_type": "display_data"
    },
    {
     "data": {
      "text/html": [
       "<pre>recommendations finished on 459000/700180 queries. users per second: 584.655</pre>"
      ],
      "text/plain": [
       "recommendations finished on 459000/700180 queries. users per second: 584.655"
      ]
     },
     "metadata": {},
     "output_type": "display_data"
    },
    {
     "data": {
      "text/html": [
       "<pre>recommendations finished on 460000/700180 queries. users per second: 584.653</pre>"
      ],
      "text/plain": [
       "recommendations finished on 460000/700180 queries. users per second: 584.653"
      ]
     },
     "metadata": {},
     "output_type": "display_data"
    },
    {
     "data": {
      "text/html": [
       "<pre>recommendations finished on 461000/700180 queries. users per second: 584.651</pre>"
      ],
      "text/plain": [
       "recommendations finished on 461000/700180 queries. users per second: 584.651"
      ]
     },
     "metadata": {},
     "output_type": "display_data"
    },
    {
     "data": {
      "text/html": [
       "<pre>recommendations finished on 462000/700180 queries. users per second: 584.655</pre>"
      ],
      "text/plain": [
       "recommendations finished on 462000/700180 queries. users per second: 584.655"
      ]
     },
     "metadata": {},
     "output_type": "display_data"
    },
    {
     "data": {
      "text/html": [
       "<pre>recommendations finished on 463000/700180 queries. users per second: 584.648</pre>"
      ],
      "text/plain": [
       "recommendations finished on 463000/700180 queries. users per second: 584.648"
      ]
     },
     "metadata": {},
     "output_type": "display_data"
    },
    {
     "data": {
      "text/html": [
       "<pre>recommendations finished on 464000/700180 queries. users per second: 584.663</pre>"
      ],
      "text/plain": [
       "recommendations finished on 464000/700180 queries. users per second: 584.663"
      ]
     },
     "metadata": {},
     "output_type": "display_data"
    },
    {
     "data": {
      "text/html": [
       "<pre>recommendations finished on 465000/700180 queries. users per second: 584.657</pre>"
      ],
      "text/plain": [
       "recommendations finished on 465000/700180 queries. users per second: 584.657"
      ]
     },
     "metadata": {},
     "output_type": "display_data"
    },
    {
     "data": {
      "text/html": [
       "<pre>recommendations finished on 466000/700180 queries. users per second: 584.659</pre>"
      ],
      "text/plain": [
       "recommendations finished on 466000/700180 queries. users per second: 584.659"
      ]
     },
     "metadata": {},
     "output_type": "display_data"
    },
    {
     "data": {
      "text/html": [
       "<pre>recommendations finished on 467000/700180 queries. users per second: 584.658</pre>"
      ],
      "text/plain": [
       "recommendations finished on 467000/700180 queries. users per second: 584.658"
      ]
     },
     "metadata": {},
     "output_type": "display_data"
    },
    {
     "data": {
      "text/html": [
       "<pre>recommendations finished on 468000/700180 queries. users per second: 584.665</pre>"
      ],
      "text/plain": [
       "recommendations finished on 468000/700180 queries. users per second: 584.665"
      ]
     },
     "metadata": {},
     "output_type": "display_data"
    },
    {
     "data": {
      "text/html": [
       "<pre>recommendations finished on 469000/700180 queries. users per second: 584.679</pre>"
      ],
      "text/plain": [
       "recommendations finished on 469000/700180 queries. users per second: 584.679"
      ]
     },
     "metadata": {},
     "output_type": "display_data"
    },
    {
     "data": {
      "text/html": [
       "<pre>recommendations finished on 470000/700180 queries. users per second: 584.672</pre>"
      ],
      "text/plain": [
       "recommendations finished on 470000/700180 queries. users per second: 584.672"
      ]
     },
     "metadata": {},
     "output_type": "display_data"
    },
    {
     "data": {
      "text/html": [
       "<pre>recommendations finished on 471000/700180 queries. users per second: 584.665</pre>"
      ],
      "text/plain": [
       "recommendations finished on 471000/700180 queries. users per second: 584.665"
      ]
     },
     "metadata": {},
     "output_type": "display_data"
    },
    {
     "data": {
      "text/html": [
       "<pre>recommendations finished on 472000/700180 queries. users per second: 584.664</pre>"
      ],
      "text/plain": [
       "recommendations finished on 472000/700180 queries. users per second: 584.664"
      ]
     },
     "metadata": {},
     "output_type": "display_data"
    },
    {
     "data": {
      "text/html": [
       "<pre>recommendations finished on 473000/700180 queries. users per second: 584.673</pre>"
      ],
      "text/plain": [
       "recommendations finished on 473000/700180 queries. users per second: 584.673"
      ]
     },
     "metadata": {},
     "output_type": "display_data"
    },
    {
     "data": {
      "text/html": [
       "<pre>recommendations finished on 474000/700180 queries. users per second: 584.67</pre>"
      ],
      "text/plain": [
       "recommendations finished on 474000/700180 queries. users per second: 584.67"
      ]
     },
     "metadata": {},
     "output_type": "display_data"
    },
    {
     "data": {
      "text/html": [
       "<pre>recommendations finished on 475000/700180 queries. users per second: 584.676</pre>"
      ],
      "text/plain": [
       "recommendations finished on 475000/700180 queries. users per second: 584.676"
      ]
     },
     "metadata": {},
     "output_type": "display_data"
    },
    {
     "data": {
      "text/html": [
       "<pre>recommendations finished on 476000/700180 queries. users per second: 584.663</pre>"
      ],
      "text/plain": [
       "recommendations finished on 476000/700180 queries. users per second: 584.663"
      ]
     },
     "metadata": {},
     "output_type": "display_data"
    },
    {
     "data": {
      "text/html": [
       "<pre>recommendations finished on 477000/700180 queries. users per second: 584.677</pre>"
      ],
      "text/plain": [
       "recommendations finished on 477000/700180 queries. users per second: 584.677"
      ]
     },
     "metadata": {},
     "output_type": "display_data"
    },
    {
     "data": {
      "text/html": [
       "<pre>recommendations finished on 478000/700180 queries. users per second: 584.674</pre>"
      ],
      "text/plain": [
       "recommendations finished on 478000/700180 queries. users per second: 584.674"
      ]
     },
     "metadata": {},
     "output_type": "display_data"
    },
    {
     "data": {
      "text/html": [
       "<pre>recommendations finished on 479000/700180 queries. users per second: 584.682</pre>"
      ],
      "text/plain": [
       "recommendations finished on 479000/700180 queries. users per second: 584.682"
      ]
     },
     "metadata": {},
     "output_type": "display_data"
    },
    {
     "data": {
      "text/html": [
       "<pre>recommendations finished on 480000/700180 queries. users per second: 584.683</pre>"
      ],
      "text/plain": [
       "recommendations finished on 480000/700180 queries. users per second: 584.683"
      ]
     },
     "metadata": {},
     "output_type": "display_data"
    },
    {
     "data": {
      "text/html": [
       "<pre>recommendations finished on 481000/700180 queries. users per second: 584.677</pre>"
      ],
      "text/plain": [
       "recommendations finished on 481000/700180 queries. users per second: 584.677"
      ]
     },
     "metadata": {},
     "output_type": "display_data"
    },
    {
     "data": {
      "text/html": [
       "<pre>recommendations finished on 482000/700180 queries. users per second: 584.673</pre>"
      ],
      "text/plain": [
       "recommendations finished on 482000/700180 queries. users per second: 584.673"
      ]
     },
     "metadata": {},
     "output_type": "display_data"
    },
    {
     "data": {
      "text/html": [
       "<pre>recommendations finished on 483000/700180 queries. users per second: 584.667</pre>"
      ],
      "text/plain": [
       "recommendations finished on 483000/700180 queries. users per second: 584.667"
      ]
     },
     "metadata": {},
     "output_type": "display_data"
    },
    {
     "data": {
      "text/html": [
       "<pre>recommendations finished on 484000/700180 queries. users per second: 584.67</pre>"
      ],
      "text/plain": [
       "recommendations finished on 484000/700180 queries. users per second: 584.67"
      ]
     },
     "metadata": {},
     "output_type": "display_data"
    },
    {
     "data": {
      "text/html": [
       "<pre>recommendations finished on 485000/700180 queries. users per second: 584.667</pre>"
      ],
      "text/plain": [
       "recommendations finished on 485000/700180 queries. users per second: 584.667"
      ]
     },
     "metadata": {},
     "output_type": "display_data"
    },
    {
     "data": {
      "text/html": [
       "<pre>recommendations finished on 486000/700180 queries. users per second: 584.669</pre>"
      ],
      "text/plain": [
       "recommendations finished on 486000/700180 queries. users per second: 584.669"
      ]
     },
     "metadata": {},
     "output_type": "display_data"
    },
    {
     "data": {
      "text/html": [
       "<pre>recommendations finished on 487000/700180 queries. users per second: 584.672</pre>"
      ],
      "text/plain": [
       "recommendations finished on 487000/700180 queries. users per second: 584.672"
      ]
     },
     "metadata": {},
     "output_type": "display_data"
    },
    {
     "data": {
      "text/html": [
       "<pre>recommendations finished on 488000/700180 queries. users per second: 584.664</pre>"
      ],
      "text/plain": [
       "recommendations finished on 488000/700180 queries. users per second: 584.664"
      ]
     },
     "metadata": {},
     "output_type": "display_data"
    },
    {
     "data": {
      "text/html": [
       "<pre>recommendations finished on 489000/700180 queries. users per second: 584.672</pre>"
      ],
      "text/plain": [
       "recommendations finished on 489000/700180 queries. users per second: 584.672"
      ]
     },
     "metadata": {},
     "output_type": "display_data"
    },
    {
     "data": {
      "text/html": [
       "<pre>recommendations finished on 490000/700180 queries. users per second: 584.675</pre>"
      ],
      "text/plain": [
       "recommendations finished on 490000/700180 queries. users per second: 584.675"
      ]
     },
     "metadata": {},
     "output_type": "display_data"
    },
    {
     "data": {
      "text/html": [
       "<pre>recommendations finished on 491000/700180 queries. users per second: 584.678</pre>"
      ],
      "text/plain": [
       "recommendations finished on 491000/700180 queries. users per second: 584.678"
      ]
     },
     "metadata": {},
     "output_type": "display_data"
    },
    {
     "data": {
      "text/html": [
       "<pre>recommendations finished on 492000/700180 queries. users per second: 584.674</pre>"
      ],
      "text/plain": [
       "recommendations finished on 492000/700180 queries. users per second: 584.674"
      ]
     },
     "metadata": {},
     "output_type": "display_data"
    },
    {
     "data": {
      "text/html": [
       "<pre>recommendations finished on 493000/700180 queries. users per second: 584.677</pre>"
      ],
      "text/plain": [
       "recommendations finished on 493000/700180 queries. users per second: 584.677"
      ]
     },
     "metadata": {},
     "output_type": "display_data"
    },
    {
     "data": {
      "text/html": [
       "<pre>recommendations finished on 494000/700180 queries. users per second: 584.671</pre>"
      ],
      "text/plain": [
       "recommendations finished on 494000/700180 queries. users per second: 584.671"
      ]
     },
     "metadata": {},
     "output_type": "display_data"
    },
    {
     "data": {
      "text/html": [
       "<pre>recommendations finished on 495000/700180 queries. users per second: 584.674</pre>"
      ],
      "text/plain": [
       "recommendations finished on 495000/700180 queries. users per second: 584.674"
      ]
     },
     "metadata": {},
     "output_type": "display_data"
    },
    {
     "data": {
      "text/html": [
       "<pre>recommendations finished on 496000/700180 queries. users per second: 584.673</pre>"
      ],
      "text/plain": [
       "recommendations finished on 496000/700180 queries. users per second: 584.673"
      ]
     },
     "metadata": {},
     "output_type": "display_data"
    },
    {
     "data": {
      "text/html": [
       "<pre>recommendations finished on 497000/700180 queries. users per second: 584.676</pre>"
      ],
      "text/plain": [
       "recommendations finished on 497000/700180 queries. users per second: 584.676"
      ]
     },
     "metadata": {},
     "output_type": "display_data"
    },
    {
     "data": {
      "text/html": [
       "<pre>recommendations finished on 498000/700180 queries. users per second: 584.678</pre>"
      ],
      "text/plain": [
       "recommendations finished on 498000/700180 queries. users per second: 584.678"
      ]
     },
     "metadata": {},
     "output_type": "display_data"
    },
    {
     "data": {
      "text/html": [
       "<pre>recommendations finished on 499000/700180 queries. users per second: 584.683</pre>"
      ],
      "text/plain": [
       "recommendations finished on 499000/700180 queries. users per second: 584.683"
      ]
     },
     "metadata": {},
     "output_type": "display_data"
    },
    {
     "data": {
      "text/html": [
       "<pre>recommendations finished on 500000/700180 queries. users per second: 584.678</pre>"
      ],
      "text/plain": [
       "recommendations finished on 500000/700180 queries. users per second: 584.678"
      ]
     },
     "metadata": {},
     "output_type": "display_data"
    },
    {
     "data": {
      "text/html": [
       "<pre>recommendations finished on 501000/700180 queries. users per second: 584.685</pre>"
      ],
      "text/plain": [
       "recommendations finished on 501000/700180 queries. users per second: 584.685"
      ]
     },
     "metadata": {},
     "output_type": "display_data"
    },
    {
     "data": {
      "text/html": [
       "<pre>recommendations finished on 502000/700180 queries. users per second: 584.68</pre>"
      ],
      "text/plain": [
       "recommendations finished on 502000/700180 queries. users per second: 584.68"
      ]
     },
     "metadata": {},
     "output_type": "display_data"
    },
    {
     "data": {
      "text/html": [
       "<pre>recommendations finished on 503000/700180 queries. users per second: 584.68</pre>"
      ],
      "text/plain": [
       "recommendations finished on 503000/700180 queries. users per second: 584.68"
      ]
     },
     "metadata": {},
     "output_type": "display_data"
    },
    {
     "data": {
      "text/html": [
       "<pre>recommendations finished on 504000/700180 queries. users per second: 584.687</pre>"
      ],
      "text/plain": [
       "recommendations finished on 504000/700180 queries. users per second: 584.687"
      ]
     },
     "metadata": {},
     "output_type": "display_data"
    },
    {
     "data": {
      "text/html": [
       "<pre>recommendations finished on 505000/700180 queries. users per second: 584.687</pre>"
      ],
      "text/plain": [
       "recommendations finished on 505000/700180 queries. users per second: 584.687"
      ]
     },
     "metadata": {},
     "output_type": "display_data"
    },
    {
     "data": {
      "text/html": [
       "<pre>recommendations finished on 506000/700180 queries. users per second: 584.681</pre>"
      ],
      "text/plain": [
       "recommendations finished on 506000/700180 queries. users per second: 584.681"
      ]
     },
     "metadata": {},
     "output_type": "display_data"
    },
    {
     "data": {
      "text/html": [
       "<pre>recommendations finished on 507000/700180 queries. users per second: 584.682</pre>"
      ],
      "text/plain": [
       "recommendations finished on 507000/700180 queries. users per second: 584.682"
      ]
     },
     "metadata": {},
     "output_type": "display_data"
    },
    {
     "data": {
      "text/html": [
       "<pre>recommendations finished on 508000/700180 queries. users per second: 584.677</pre>"
      ],
      "text/plain": [
       "recommendations finished on 508000/700180 queries. users per second: 584.677"
      ]
     },
     "metadata": {},
     "output_type": "display_data"
    },
    {
     "data": {
      "text/html": [
       "<pre>recommendations finished on 509000/700180 queries. users per second: 584.68</pre>"
      ],
      "text/plain": [
       "recommendations finished on 509000/700180 queries. users per second: 584.68"
      ]
     },
     "metadata": {},
     "output_type": "display_data"
    },
    {
     "data": {
      "text/html": [
       "<pre>recommendations finished on 510000/700180 queries. users per second: 584.673</pre>"
      ],
      "text/plain": [
       "recommendations finished on 510000/700180 queries. users per second: 584.673"
      ]
     },
     "metadata": {},
     "output_type": "display_data"
    },
    {
     "data": {
      "text/html": [
       "<pre>recommendations finished on 511000/700180 queries. users per second: 584.671</pre>"
      ],
      "text/plain": [
       "recommendations finished on 511000/700180 queries. users per second: 584.671"
      ]
     },
     "metadata": {},
     "output_type": "display_data"
    },
    {
     "data": {
      "text/html": [
       "<pre>recommendations finished on 512000/700180 queries. users per second: 584.673</pre>"
      ],
      "text/plain": [
       "recommendations finished on 512000/700180 queries. users per second: 584.673"
      ]
     },
     "metadata": {},
     "output_type": "display_data"
    },
    {
     "data": {
      "text/html": [
       "<pre>recommendations finished on 513000/700180 queries. users per second: 584.669</pre>"
      ],
      "text/plain": [
       "recommendations finished on 513000/700180 queries. users per second: 584.669"
      ]
     },
     "metadata": {},
     "output_type": "display_data"
    },
    {
     "data": {
      "text/html": [
       "<pre>recommendations finished on 514000/700180 queries. users per second: 584.663</pre>"
      ],
      "text/plain": [
       "recommendations finished on 514000/700180 queries. users per second: 584.663"
      ]
     },
     "metadata": {},
     "output_type": "display_data"
    },
    {
     "data": {
      "text/html": [
       "<pre>recommendations finished on 515000/700180 queries. users per second: 584.668</pre>"
      ],
      "text/plain": [
       "recommendations finished on 515000/700180 queries. users per second: 584.668"
      ]
     },
     "metadata": {},
     "output_type": "display_data"
    },
    {
     "data": {
      "text/html": [
       "<pre>recommendations finished on 516000/700180 queries. users per second: 584.656</pre>"
      ],
      "text/plain": [
       "recommendations finished on 516000/700180 queries. users per second: 584.656"
      ]
     },
     "metadata": {},
     "output_type": "display_data"
    },
    {
     "data": {
      "text/html": [
       "<pre>recommendations finished on 517000/700180 queries. users per second: 584.647</pre>"
      ],
      "text/plain": [
       "recommendations finished on 517000/700180 queries. users per second: 584.647"
      ]
     },
     "metadata": {},
     "output_type": "display_data"
    },
    {
     "data": {
      "text/html": [
       "<pre>recommendations finished on 518000/700180 queries. users per second: 584.652</pre>"
      ],
      "text/plain": [
       "recommendations finished on 518000/700180 queries. users per second: 584.652"
      ]
     },
     "metadata": {},
     "output_type": "display_data"
    },
    {
     "data": {
      "text/html": [
       "<pre>recommendations finished on 519000/700180 queries. users per second: 584.646</pre>"
      ],
      "text/plain": [
       "recommendations finished on 519000/700180 queries. users per second: 584.646"
      ]
     },
     "metadata": {},
     "output_type": "display_data"
    },
    {
     "data": {
      "text/html": [
       "<pre>recommendations finished on 520000/700180 queries. users per second: 584.645</pre>"
      ],
      "text/plain": [
       "recommendations finished on 520000/700180 queries. users per second: 584.645"
      ]
     },
     "metadata": {},
     "output_type": "display_data"
    },
    {
     "data": {
      "text/html": [
       "<pre>recommendations finished on 521000/700180 queries. users per second: 584.634</pre>"
      ],
      "text/plain": [
       "recommendations finished on 521000/700180 queries. users per second: 584.634"
      ]
     },
     "metadata": {},
     "output_type": "display_data"
    },
    {
     "data": {
      "text/html": [
       "<pre>recommendations finished on 522000/700180 queries. users per second: 584.635</pre>"
      ],
      "text/plain": [
       "recommendations finished on 522000/700180 queries. users per second: 584.635"
      ]
     },
     "metadata": {},
     "output_type": "display_data"
    },
    {
     "data": {
      "text/html": [
       "<pre>recommendations finished on 523000/700180 queries. users per second: 584.632</pre>"
      ],
      "text/plain": [
       "recommendations finished on 523000/700180 queries. users per second: 584.632"
      ]
     },
     "metadata": {},
     "output_type": "display_data"
    },
    {
     "data": {
      "text/html": [
       "<pre>recommendations finished on 524000/700180 queries. users per second: 584.629</pre>"
      ],
      "text/plain": [
       "recommendations finished on 524000/700180 queries. users per second: 584.629"
      ]
     },
     "metadata": {},
     "output_type": "display_data"
    },
    {
     "data": {
      "text/html": [
       "<pre>recommendations finished on 525000/700180 queries. users per second: 584.632</pre>"
      ],
      "text/plain": [
       "recommendations finished on 525000/700180 queries. users per second: 584.632"
      ]
     },
     "metadata": {},
     "output_type": "display_data"
    },
    {
     "data": {
      "text/html": [
       "<pre>recommendations finished on 526000/700180 queries. users per second: 584.634</pre>"
      ],
      "text/plain": [
       "recommendations finished on 526000/700180 queries. users per second: 584.634"
      ]
     },
     "metadata": {},
     "output_type": "display_data"
    },
    {
     "data": {
      "text/html": [
       "<pre>recommendations finished on 527000/700180 queries. users per second: 584.634</pre>"
      ],
      "text/plain": [
       "recommendations finished on 527000/700180 queries. users per second: 584.634"
      ]
     },
     "metadata": {},
     "output_type": "display_data"
    },
    {
     "data": {
      "text/html": [
       "<pre>recommendations finished on 528000/700180 queries. users per second: 584.63</pre>"
      ],
      "text/plain": [
       "recommendations finished on 528000/700180 queries. users per second: 584.63"
      ]
     },
     "metadata": {},
     "output_type": "display_data"
    },
    {
     "data": {
      "text/html": [
       "<pre>recommendations finished on 529000/700180 queries. users per second: 584.625</pre>"
      ],
      "text/plain": [
       "recommendations finished on 529000/700180 queries. users per second: 584.625"
      ]
     },
     "metadata": {},
     "output_type": "display_data"
    },
    {
     "data": {
      "text/html": [
       "<pre>recommendations finished on 530000/700180 queries. users per second: 584.628</pre>"
      ],
      "text/plain": [
       "recommendations finished on 530000/700180 queries. users per second: 584.628"
      ]
     },
     "metadata": {},
     "output_type": "display_data"
    },
    {
     "data": {
      "text/html": [
       "<pre>recommendations finished on 531000/700180 queries. users per second: 584.624</pre>"
      ],
      "text/plain": [
       "recommendations finished on 531000/700180 queries. users per second: 584.624"
      ]
     },
     "metadata": {},
     "output_type": "display_data"
    },
    {
     "data": {
      "text/html": [
       "<pre>recommendations finished on 532000/700180 queries. users per second: 584.62</pre>"
      ],
      "text/plain": [
       "recommendations finished on 532000/700180 queries. users per second: 584.62"
      ]
     },
     "metadata": {},
     "output_type": "display_data"
    },
    {
     "data": {
      "text/html": [
       "<pre>recommendations finished on 533000/700180 queries. users per second: 584.623</pre>"
      ],
      "text/plain": [
       "recommendations finished on 533000/700180 queries. users per second: 584.623"
      ]
     },
     "metadata": {},
     "output_type": "display_data"
    },
    {
     "data": {
      "text/html": [
       "<pre>recommendations finished on 534000/700180 queries. users per second: 584.628</pre>"
      ],
      "text/plain": [
       "recommendations finished on 534000/700180 queries. users per second: 584.628"
      ]
     },
     "metadata": {},
     "output_type": "display_data"
    },
    {
     "data": {
      "text/html": [
       "<pre>recommendations finished on 535000/700180 queries. users per second: 584.626</pre>"
      ],
      "text/plain": [
       "recommendations finished on 535000/700180 queries. users per second: 584.626"
      ]
     },
     "metadata": {},
     "output_type": "display_data"
    },
    {
     "data": {
      "text/html": [
       "<pre>recommendations finished on 536000/700180 queries. users per second: 584.623</pre>"
      ],
      "text/plain": [
       "recommendations finished on 536000/700180 queries. users per second: 584.623"
      ]
     },
     "metadata": {},
     "output_type": "display_data"
    },
    {
     "data": {
      "text/html": [
       "<pre>recommendations finished on 537000/700180 queries. users per second: 584.629</pre>"
      ],
      "text/plain": [
       "recommendations finished on 537000/700180 queries. users per second: 584.629"
      ]
     },
     "metadata": {},
     "output_type": "display_data"
    },
    {
     "data": {
      "text/html": [
       "<pre>recommendations finished on 538000/700180 queries. users per second: 584.627</pre>"
      ],
      "text/plain": [
       "recommendations finished on 538000/700180 queries. users per second: 584.627"
      ]
     },
     "metadata": {},
     "output_type": "display_data"
    },
    {
     "data": {
      "text/html": [
       "<pre>recommendations finished on 539000/700180 queries. users per second: 584.631</pre>"
      ],
      "text/plain": [
       "recommendations finished on 539000/700180 queries. users per second: 584.631"
      ]
     },
     "metadata": {},
     "output_type": "display_data"
    },
    {
     "data": {
      "text/html": [
       "<pre>recommendations finished on 540000/700180 queries. users per second: 584.625</pre>"
      ],
      "text/plain": [
       "recommendations finished on 540000/700180 queries. users per second: 584.625"
      ]
     },
     "metadata": {},
     "output_type": "display_data"
    },
    {
     "data": {
      "text/html": [
       "<pre>recommendations finished on 541000/700180 queries. users per second: 584.625</pre>"
      ],
      "text/plain": [
       "recommendations finished on 541000/700180 queries. users per second: 584.625"
      ]
     },
     "metadata": {},
     "output_type": "display_data"
    },
    {
     "data": {
      "text/html": [
       "<pre>recommendations finished on 542000/700180 queries. users per second: 584.623</pre>"
      ],
      "text/plain": [
       "recommendations finished on 542000/700180 queries. users per second: 584.623"
      ]
     },
     "metadata": {},
     "output_type": "display_data"
    },
    {
     "data": {
      "text/html": [
       "<pre>recommendations finished on 543000/700180 queries. users per second: 584.618</pre>"
      ],
      "text/plain": [
       "recommendations finished on 543000/700180 queries. users per second: 584.618"
      ]
     },
     "metadata": {},
     "output_type": "display_data"
    },
    {
     "data": {
      "text/html": [
       "<pre>recommendations finished on 544000/700180 queries. users per second: 584.622</pre>"
      ],
      "text/plain": [
       "recommendations finished on 544000/700180 queries. users per second: 584.622"
      ]
     },
     "metadata": {},
     "output_type": "display_data"
    },
    {
     "data": {
      "text/html": [
       "<pre>recommendations finished on 545000/700180 queries. users per second: 584.623</pre>"
      ],
      "text/plain": [
       "recommendations finished on 545000/700180 queries. users per second: 584.623"
      ]
     },
     "metadata": {},
     "output_type": "display_data"
    },
    {
     "data": {
      "text/html": [
       "<pre>recommendations finished on 546000/700180 queries. users per second: 584.615</pre>"
      ],
      "text/plain": [
       "recommendations finished on 546000/700180 queries. users per second: 584.615"
      ]
     },
     "metadata": {},
     "output_type": "display_data"
    },
    {
     "data": {
      "text/html": [
       "<pre>recommendations finished on 547000/700180 queries. users per second: 584.613</pre>"
      ],
      "text/plain": [
       "recommendations finished on 547000/700180 queries. users per second: 584.613"
      ]
     },
     "metadata": {},
     "output_type": "display_data"
    },
    {
     "data": {
      "text/html": [
       "<pre>recommendations finished on 548000/700180 queries. users per second: 584.611</pre>"
      ],
      "text/plain": [
       "recommendations finished on 548000/700180 queries. users per second: 584.611"
      ]
     },
     "metadata": {},
     "output_type": "display_data"
    },
    {
     "data": {
      "text/html": [
       "<pre>recommendations finished on 549000/700180 queries. users per second: 584.606</pre>"
      ],
      "text/plain": [
       "recommendations finished on 549000/700180 queries. users per second: 584.606"
      ]
     },
     "metadata": {},
     "output_type": "display_data"
    },
    {
     "data": {
      "text/html": [
       "<pre>recommendations finished on 550000/700180 queries. users per second: 584.6</pre>"
      ],
      "text/plain": [
       "recommendations finished on 550000/700180 queries. users per second: 584.6"
      ]
     },
     "metadata": {},
     "output_type": "display_data"
    },
    {
     "data": {
      "text/html": [
       "<pre>recommendations finished on 551000/700180 queries. users per second: 584.61</pre>"
      ],
      "text/plain": [
       "recommendations finished on 551000/700180 queries. users per second: 584.61"
      ]
     },
     "metadata": {},
     "output_type": "display_data"
    },
    {
     "data": {
      "text/html": [
       "<pre>recommendations finished on 552000/700180 queries. users per second: 584.613</pre>"
      ],
      "text/plain": [
       "recommendations finished on 552000/700180 queries. users per second: 584.613"
      ]
     },
     "metadata": {},
     "output_type": "display_data"
    },
    {
     "data": {
      "text/html": [
       "<pre>recommendations finished on 553000/700180 queries. users per second: 584.618</pre>"
      ],
      "text/plain": [
       "recommendations finished on 553000/700180 queries. users per second: 584.618"
      ]
     },
     "metadata": {},
     "output_type": "display_data"
    },
    {
     "data": {
      "text/html": [
       "<pre>recommendations finished on 554000/700180 queries. users per second: 584.617</pre>"
      ],
      "text/plain": [
       "recommendations finished on 554000/700180 queries. users per second: 584.617"
      ]
     },
     "metadata": {},
     "output_type": "display_data"
    },
    {
     "data": {
      "text/html": [
       "<pre>recommendations finished on 555000/700180 queries. users per second: 584.61</pre>"
      ],
      "text/plain": [
       "recommendations finished on 555000/700180 queries. users per second: 584.61"
      ]
     },
     "metadata": {},
     "output_type": "display_data"
    },
    {
     "data": {
      "text/html": [
       "<pre>recommendations finished on 556000/700180 queries. users per second: 584.621</pre>"
      ],
      "text/plain": [
       "recommendations finished on 556000/700180 queries. users per second: 584.621"
      ]
     },
     "metadata": {},
     "output_type": "display_data"
    },
    {
     "data": {
      "text/html": [
       "<pre>recommendations finished on 557000/700180 queries. users per second: 584.612</pre>"
      ],
      "text/plain": [
       "recommendations finished on 557000/700180 queries. users per second: 584.612"
      ]
     },
     "metadata": {},
     "output_type": "display_data"
    },
    {
     "data": {
      "text/html": [
       "<pre>recommendations finished on 558000/700180 queries. users per second: 584.611</pre>"
      ],
      "text/plain": [
       "recommendations finished on 558000/700180 queries. users per second: 584.611"
      ]
     },
     "metadata": {},
     "output_type": "display_data"
    },
    {
     "data": {
      "text/html": [
       "<pre>recommendations finished on 559000/700180 queries. users per second: 584.613</pre>"
      ],
      "text/plain": [
       "recommendations finished on 559000/700180 queries. users per second: 584.613"
      ]
     },
     "metadata": {},
     "output_type": "display_data"
    },
    {
     "data": {
      "text/html": [
       "<pre>recommendations finished on 560000/700180 queries. users per second: 584.611</pre>"
      ],
      "text/plain": [
       "recommendations finished on 560000/700180 queries. users per second: 584.611"
      ]
     },
     "metadata": {},
     "output_type": "display_data"
    },
    {
     "data": {
      "text/html": [
       "<pre>recommendations finished on 561000/700180 queries. users per second: 584.61</pre>"
      ],
      "text/plain": [
       "recommendations finished on 561000/700180 queries. users per second: 584.61"
      ]
     },
     "metadata": {},
     "output_type": "display_data"
    },
    {
     "data": {
      "text/html": [
       "<pre>recommendations finished on 562000/700180 queries. users per second: 584.608</pre>"
      ],
      "text/plain": [
       "recommendations finished on 562000/700180 queries. users per second: 584.608"
      ]
     },
     "metadata": {},
     "output_type": "display_data"
    },
    {
     "data": {
      "text/html": [
       "<pre>recommendations finished on 563000/700180 queries. users per second: 584.614</pre>"
      ],
      "text/plain": [
       "recommendations finished on 563000/700180 queries. users per second: 584.614"
      ]
     },
     "metadata": {},
     "output_type": "display_data"
    },
    {
     "data": {
      "text/html": [
       "<pre>recommendations finished on 564000/700180 queries. users per second: 584.618</pre>"
      ],
      "text/plain": [
       "recommendations finished on 564000/700180 queries. users per second: 584.618"
      ]
     },
     "metadata": {},
     "output_type": "display_data"
    },
    {
     "data": {
      "text/html": [
       "<pre>recommendations finished on 565000/700180 queries. users per second: 584.63</pre>"
      ],
      "text/plain": [
       "recommendations finished on 565000/700180 queries. users per second: 584.63"
      ]
     },
     "metadata": {},
     "output_type": "display_data"
    },
    {
     "data": {
      "text/html": [
       "<pre>recommendations finished on 566000/700180 queries. users per second: 584.618</pre>"
      ],
      "text/plain": [
       "recommendations finished on 566000/700180 queries. users per second: 584.618"
      ]
     },
     "metadata": {},
     "output_type": "display_data"
    },
    {
     "data": {
      "text/html": [
       "<pre>recommendations finished on 567000/700180 queries. users per second: 584.617</pre>"
      ],
      "text/plain": [
       "recommendations finished on 567000/700180 queries. users per second: 584.617"
      ]
     },
     "metadata": {},
     "output_type": "display_data"
    },
    {
     "data": {
      "text/html": [
       "<pre>recommendations finished on 568000/700180 queries. users per second: 584.619</pre>"
      ],
      "text/plain": [
       "recommendations finished on 568000/700180 queries. users per second: 584.619"
      ]
     },
     "metadata": {},
     "output_type": "display_data"
    },
    {
     "data": {
      "text/html": [
       "<pre>recommendations finished on 569000/700180 queries. users per second: 584.619</pre>"
      ],
      "text/plain": [
       "recommendations finished on 569000/700180 queries. users per second: 584.619"
      ]
     },
     "metadata": {},
     "output_type": "display_data"
    },
    {
     "data": {
      "text/html": [
       "<pre>recommendations finished on 570000/700180 queries. users per second: 584.62</pre>"
      ],
      "text/plain": [
       "recommendations finished on 570000/700180 queries. users per second: 584.62"
      ]
     },
     "metadata": {},
     "output_type": "display_data"
    },
    {
     "data": {
      "text/html": [
       "<pre>recommendations finished on 571000/700180 queries. users per second: 584.621</pre>"
      ],
      "text/plain": [
       "recommendations finished on 571000/700180 queries. users per second: 584.621"
      ]
     },
     "metadata": {},
     "output_type": "display_data"
    },
    {
     "data": {
      "text/html": [
       "<pre>recommendations finished on 572000/700180 queries. users per second: 584.62</pre>"
      ],
      "text/plain": [
       "recommendations finished on 572000/700180 queries. users per second: 584.62"
      ]
     },
     "metadata": {},
     "output_type": "display_data"
    },
    {
     "data": {
      "text/html": [
       "<pre>recommendations finished on 573000/700180 queries. users per second: 584.612</pre>"
      ],
      "text/plain": [
       "recommendations finished on 573000/700180 queries. users per second: 584.612"
      ]
     },
     "metadata": {},
     "output_type": "display_data"
    },
    {
     "data": {
      "text/html": [
       "<pre>recommendations finished on 574000/700180 queries. users per second: 584.619</pre>"
      ],
      "text/plain": [
       "recommendations finished on 574000/700180 queries. users per second: 584.619"
      ]
     },
     "metadata": {},
     "output_type": "display_data"
    },
    {
     "data": {
      "text/html": [
       "<pre>recommendations finished on 575000/700180 queries. users per second: 584.608</pre>"
      ],
      "text/plain": [
       "recommendations finished on 575000/700180 queries. users per second: 584.608"
      ]
     },
     "metadata": {},
     "output_type": "display_data"
    },
    {
     "data": {
      "text/html": [
       "<pre>recommendations finished on 576000/700180 queries. users per second: 584.606</pre>"
      ],
      "text/plain": [
       "recommendations finished on 576000/700180 queries. users per second: 584.606"
      ]
     },
     "metadata": {},
     "output_type": "display_data"
    },
    {
     "data": {
      "text/html": [
       "<pre>recommendations finished on 577000/700180 queries. users per second: 584.61</pre>"
      ],
      "text/plain": [
       "recommendations finished on 577000/700180 queries. users per second: 584.61"
      ]
     },
     "metadata": {},
     "output_type": "display_data"
    },
    {
     "data": {
      "text/html": [
       "<pre>recommendations finished on 578000/700180 queries. users per second: 584.608</pre>"
      ],
      "text/plain": [
       "recommendations finished on 578000/700180 queries. users per second: 584.608"
      ]
     },
     "metadata": {},
     "output_type": "display_data"
    },
    {
     "data": {
      "text/html": [
       "<pre>recommendations finished on 579000/700180 queries. users per second: 584.6</pre>"
      ],
      "text/plain": [
       "recommendations finished on 579000/700180 queries. users per second: 584.6"
      ]
     },
     "metadata": {},
     "output_type": "display_data"
    },
    {
     "data": {
      "text/html": [
       "<pre>recommendations finished on 580000/700180 queries. users per second: 584.598</pre>"
      ],
      "text/plain": [
       "recommendations finished on 580000/700180 queries. users per second: 584.598"
      ]
     },
     "metadata": {},
     "output_type": "display_data"
    },
    {
     "data": {
      "text/html": [
       "<pre>recommendations finished on 581000/700180 queries. users per second: 584.606</pre>"
      ],
      "text/plain": [
       "recommendations finished on 581000/700180 queries. users per second: 584.606"
      ]
     },
     "metadata": {},
     "output_type": "display_data"
    },
    {
     "data": {
      "text/html": [
       "<pre>recommendations finished on 582000/700180 queries. users per second: 584.606</pre>"
      ],
      "text/plain": [
       "recommendations finished on 582000/700180 queries. users per second: 584.606"
      ]
     },
     "metadata": {},
     "output_type": "display_data"
    },
    {
     "data": {
      "text/html": [
       "<pre>recommendations finished on 583000/700180 queries. users per second: 584.607</pre>"
      ],
      "text/plain": [
       "recommendations finished on 583000/700180 queries. users per second: 584.607"
      ]
     },
     "metadata": {},
     "output_type": "display_data"
    },
    {
     "data": {
      "text/html": [
       "<pre>recommendations finished on 584000/700180 queries. users per second: 584.606</pre>"
      ],
      "text/plain": [
       "recommendations finished on 584000/700180 queries. users per second: 584.606"
      ]
     },
     "metadata": {},
     "output_type": "display_data"
    },
    {
     "data": {
      "text/html": [
       "<pre>recommendations finished on 585000/700180 queries. users per second: 584.597</pre>"
      ],
      "text/plain": [
       "recommendations finished on 585000/700180 queries. users per second: 584.597"
      ]
     },
     "metadata": {},
     "output_type": "display_data"
    },
    {
     "data": {
      "text/html": [
       "<pre>recommendations finished on 586000/700180 queries. users per second: 584.595</pre>"
      ],
      "text/plain": [
       "recommendations finished on 586000/700180 queries. users per second: 584.595"
      ]
     },
     "metadata": {},
     "output_type": "display_data"
    },
    {
     "data": {
      "text/html": [
       "<pre>recommendations finished on 587000/700180 queries. users per second: 584.601</pre>"
      ],
      "text/plain": [
       "recommendations finished on 587000/700180 queries. users per second: 584.601"
      ]
     },
     "metadata": {},
     "output_type": "display_data"
    },
    {
     "data": {
      "text/html": [
       "<pre>recommendations finished on 588000/700180 queries. users per second: 584.601</pre>"
      ],
      "text/plain": [
       "recommendations finished on 588000/700180 queries. users per second: 584.601"
      ]
     },
     "metadata": {},
     "output_type": "display_data"
    },
    {
     "data": {
      "text/html": [
       "<pre>recommendations finished on 589000/700180 queries. users per second: 584.597</pre>"
      ],
      "text/plain": [
       "recommendations finished on 589000/700180 queries. users per second: 584.597"
      ]
     },
     "metadata": {},
     "output_type": "display_data"
    },
    {
     "data": {
      "text/html": [
       "<pre>recommendations finished on 590000/700180 queries. users per second: 584.599</pre>"
      ],
      "text/plain": [
       "recommendations finished on 590000/700180 queries. users per second: 584.599"
      ]
     },
     "metadata": {},
     "output_type": "display_data"
    },
    {
     "data": {
      "text/html": [
       "<pre>recommendations finished on 591000/700180 queries. users per second: 584.6</pre>"
      ],
      "text/plain": [
       "recommendations finished on 591000/700180 queries. users per second: 584.6"
      ]
     },
     "metadata": {},
     "output_type": "display_data"
    },
    {
     "data": {
      "text/html": [
       "<pre>recommendations finished on 592000/700180 queries. users per second: 584.602</pre>"
      ],
      "text/plain": [
       "recommendations finished on 592000/700180 queries. users per second: 584.602"
      ]
     },
     "metadata": {},
     "output_type": "display_data"
    },
    {
     "data": {
      "text/html": [
       "<pre>recommendations finished on 593000/700180 queries. users per second: 584.592</pre>"
      ],
      "text/plain": [
       "recommendations finished on 593000/700180 queries. users per second: 584.592"
      ]
     },
     "metadata": {},
     "output_type": "display_data"
    },
    {
     "data": {
      "text/html": [
       "<pre>recommendations finished on 594000/700180 queries. users per second: 584.597</pre>"
      ],
      "text/plain": [
       "recommendations finished on 594000/700180 queries. users per second: 584.597"
      ]
     },
     "metadata": {},
     "output_type": "display_data"
    },
    {
     "data": {
      "text/html": [
       "<pre>recommendations finished on 595000/700180 queries. users per second: 584.601</pre>"
      ],
      "text/plain": [
       "recommendations finished on 595000/700180 queries. users per second: 584.601"
      ]
     },
     "metadata": {},
     "output_type": "display_data"
    },
    {
     "data": {
      "text/html": [
       "<pre>recommendations finished on 596000/700180 queries. users per second: 584.596</pre>"
      ],
      "text/plain": [
       "recommendations finished on 596000/700180 queries. users per second: 584.596"
      ]
     },
     "metadata": {},
     "output_type": "display_data"
    },
    {
     "data": {
      "text/html": [
       "<pre>recommendations finished on 597000/700180 queries. users per second: 584.595</pre>"
      ],
      "text/plain": [
       "recommendations finished on 597000/700180 queries. users per second: 584.595"
      ]
     },
     "metadata": {},
     "output_type": "display_data"
    },
    {
     "data": {
      "text/html": [
       "<pre>recommendations finished on 598000/700180 queries. users per second: 584.593</pre>"
      ],
      "text/plain": [
       "recommendations finished on 598000/700180 queries. users per second: 584.593"
      ]
     },
     "metadata": {},
     "output_type": "display_data"
    },
    {
     "data": {
      "text/html": [
       "<pre>recommendations finished on 599000/700180 queries. users per second: 584.597</pre>"
      ],
      "text/plain": [
       "recommendations finished on 599000/700180 queries. users per second: 584.597"
      ]
     },
     "metadata": {},
     "output_type": "display_data"
    },
    {
     "data": {
      "text/html": [
       "<pre>recommendations finished on 600000/700180 queries. users per second: 584.6</pre>"
      ],
      "text/plain": [
       "recommendations finished on 600000/700180 queries. users per second: 584.6"
      ]
     },
     "metadata": {},
     "output_type": "display_data"
    },
    {
     "data": {
      "text/html": [
       "<pre>recommendations finished on 601000/700180 queries. users per second: 584.6</pre>"
      ],
      "text/plain": [
       "recommendations finished on 601000/700180 queries. users per second: 584.6"
      ]
     },
     "metadata": {},
     "output_type": "display_data"
    },
    {
     "data": {
      "text/html": [
       "<pre>recommendations finished on 602000/700180 queries. users per second: 584.592</pre>"
      ],
      "text/plain": [
       "recommendations finished on 602000/700180 queries. users per second: 584.592"
      ]
     },
     "metadata": {},
     "output_type": "display_data"
    },
    {
     "data": {
      "text/html": [
       "<pre>recommendations finished on 603000/700180 queries. users per second: 584.596</pre>"
      ],
      "text/plain": [
       "recommendations finished on 603000/700180 queries. users per second: 584.596"
      ]
     },
     "metadata": {},
     "output_type": "display_data"
    },
    {
     "data": {
      "text/html": [
       "<pre>recommendations finished on 604000/700180 queries. users per second: 584.589</pre>"
      ],
      "text/plain": [
       "recommendations finished on 604000/700180 queries. users per second: 584.589"
      ]
     },
     "metadata": {},
     "output_type": "display_data"
    },
    {
     "data": {
      "text/html": [
       "<pre>recommendations finished on 605000/700180 queries. users per second: 584.591</pre>"
      ],
      "text/plain": [
       "recommendations finished on 605000/700180 queries. users per second: 584.591"
      ]
     },
     "metadata": {},
     "output_type": "display_data"
    },
    {
     "data": {
      "text/html": [
       "<pre>recommendations finished on 606000/700180 queries. users per second: 584.593</pre>"
      ],
      "text/plain": [
       "recommendations finished on 606000/700180 queries. users per second: 584.593"
      ]
     },
     "metadata": {},
     "output_type": "display_data"
    },
    {
     "data": {
      "text/html": [
       "<pre>recommendations finished on 607000/700180 queries. users per second: 584.598</pre>"
      ],
      "text/plain": [
       "recommendations finished on 607000/700180 queries. users per second: 584.598"
      ]
     },
     "metadata": {},
     "output_type": "display_data"
    },
    {
     "data": {
      "text/html": [
       "<pre>recommendations finished on 608000/700180 queries. users per second: 584.594</pre>"
      ],
      "text/plain": [
       "recommendations finished on 608000/700180 queries. users per second: 584.594"
      ]
     },
     "metadata": {},
     "output_type": "display_data"
    },
    {
     "data": {
      "text/html": [
       "<pre>recommendations finished on 609000/700180 queries. users per second: 584.603</pre>"
      ],
      "text/plain": [
       "recommendations finished on 609000/700180 queries. users per second: 584.603"
      ]
     },
     "metadata": {},
     "output_type": "display_data"
    },
    {
     "data": {
      "text/html": [
       "<pre>recommendations finished on 610000/700180 queries. users per second: 584.599</pre>"
      ],
      "text/plain": [
       "recommendations finished on 610000/700180 queries. users per second: 584.599"
      ]
     },
     "metadata": {},
     "output_type": "display_data"
    },
    {
     "data": {
      "text/html": [
       "<pre>recommendations finished on 611000/700180 queries. users per second: 584.602</pre>"
      ],
      "text/plain": [
       "recommendations finished on 611000/700180 queries. users per second: 584.602"
      ]
     },
     "metadata": {},
     "output_type": "display_data"
    },
    {
     "data": {
      "text/html": [
       "<pre>recommendations finished on 612000/700180 queries. users per second: 584.593</pre>"
      ],
      "text/plain": [
       "recommendations finished on 612000/700180 queries. users per second: 584.593"
      ]
     },
     "metadata": {},
     "output_type": "display_data"
    },
    {
     "data": {
      "text/html": [
       "<pre>recommendations finished on 613000/700180 queries. users per second: 584.602</pre>"
      ],
      "text/plain": [
       "recommendations finished on 613000/700180 queries. users per second: 584.602"
      ]
     },
     "metadata": {},
     "output_type": "display_data"
    },
    {
     "data": {
      "text/html": [
       "<pre>recommendations finished on 614000/700180 queries. users per second: 584.601</pre>"
      ],
      "text/plain": [
       "recommendations finished on 614000/700180 queries. users per second: 584.601"
      ]
     },
     "metadata": {},
     "output_type": "display_data"
    },
    {
     "data": {
      "text/html": [
       "<pre>recommendations finished on 615000/700180 queries. users per second: 584.596</pre>"
      ],
      "text/plain": [
       "recommendations finished on 615000/700180 queries. users per second: 584.596"
      ]
     },
     "metadata": {},
     "output_type": "display_data"
    },
    {
     "data": {
      "text/html": [
       "<pre>recommendations finished on 616000/700180 queries. users per second: 584.599</pre>"
      ],
      "text/plain": [
       "recommendations finished on 616000/700180 queries. users per second: 584.599"
      ]
     },
     "metadata": {},
     "output_type": "display_data"
    },
    {
     "data": {
      "text/html": [
       "<pre>recommendations finished on 617000/700180 queries. users per second: 584.604</pre>"
      ],
      "text/plain": [
       "recommendations finished on 617000/700180 queries. users per second: 584.604"
      ]
     },
     "metadata": {},
     "output_type": "display_data"
    },
    {
     "data": {
      "text/html": [
       "<pre>recommendations finished on 618000/700180 queries. users per second: 584.606</pre>"
      ],
      "text/plain": [
       "recommendations finished on 618000/700180 queries. users per second: 584.606"
      ]
     },
     "metadata": {},
     "output_type": "display_data"
    },
    {
     "data": {
      "text/html": [
       "<pre>recommendations finished on 619000/700180 queries. users per second: 584.607</pre>"
      ],
      "text/plain": [
       "recommendations finished on 619000/700180 queries. users per second: 584.607"
      ]
     },
     "metadata": {},
     "output_type": "display_data"
    },
    {
     "data": {
      "text/html": [
       "<pre>recommendations finished on 620000/700180 queries. users per second: 584.601</pre>"
      ],
      "text/plain": [
       "recommendations finished on 620000/700180 queries. users per second: 584.601"
      ]
     },
     "metadata": {},
     "output_type": "display_data"
    },
    {
     "data": {
      "text/html": [
       "<pre>recommendations finished on 621000/700180 queries. users per second: 584.603</pre>"
      ],
      "text/plain": [
       "recommendations finished on 621000/700180 queries. users per second: 584.603"
      ]
     },
     "metadata": {},
     "output_type": "display_data"
    },
    {
     "data": {
      "text/html": [
       "<pre>recommendations finished on 622000/700180 queries. users per second: 584.599</pre>"
      ],
      "text/plain": [
       "recommendations finished on 622000/700180 queries. users per second: 584.599"
      ]
     },
     "metadata": {},
     "output_type": "display_data"
    },
    {
     "data": {
      "text/html": [
       "<pre>recommendations finished on 623000/700180 queries. users per second: 584.602</pre>"
      ],
      "text/plain": [
       "recommendations finished on 623000/700180 queries. users per second: 584.602"
      ]
     },
     "metadata": {},
     "output_type": "display_data"
    },
    {
     "data": {
      "text/html": [
       "<pre>recommendations finished on 624000/700180 queries. users per second: 584.594</pre>"
      ],
      "text/plain": [
       "recommendations finished on 624000/700180 queries. users per second: 584.594"
      ]
     },
     "metadata": {},
     "output_type": "display_data"
    },
    {
     "data": {
      "text/html": [
       "<pre>recommendations finished on 625000/700180 queries. users per second: 584.597</pre>"
      ],
      "text/plain": [
       "recommendations finished on 625000/700180 queries. users per second: 584.597"
      ]
     },
     "metadata": {},
     "output_type": "display_data"
    },
    {
     "data": {
      "text/html": [
       "<pre>recommendations finished on 626000/700180 queries. users per second: 584.59</pre>"
      ],
      "text/plain": [
       "recommendations finished on 626000/700180 queries. users per second: 584.59"
      ]
     },
     "metadata": {},
     "output_type": "display_data"
    },
    {
     "data": {
      "text/html": [
       "<pre>recommendations finished on 627000/700180 queries. users per second: 584.596</pre>"
      ],
      "text/plain": [
       "recommendations finished on 627000/700180 queries. users per second: 584.596"
      ]
     },
     "metadata": {},
     "output_type": "display_data"
    },
    {
     "data": {
      "text/html": [
       "<pre>recommendations finished on 628000/700180 queries. users per second: 584.595</pre>"
      ],
      "text/plain": [
       "recommendations finished on 628000/700180 queries. users per second: 584.595"
      ]
     },
     "metadata": {},
     "output_type": "display_data"
    },
    {
     "data": {
      "text/html": [
       "<pre>recommendations finished on 629000/700180 queries. users per second: 584.593</pre>"
      ],
      "text/plain": [
       "recommendations finished on 629000/700180 queries. users per second: 584.593"
      ]
     },
     "metadata": {},
     "output_type": "display_data"
    },
    {
     "data": {
      "text/html": [
       "<pre>recommendations finished on 630000/700180 queries. users per second: 584.584</pre>"
      ],
      "text/plain": [
       "recommendations finished on 630000/700180 queries. users per second: 584.584"
      ]
     },
     "metadata": {},
     "output_type": "display_data"
    },
    {
     "data": {
      "text/html": [
       "<pre>recommendations finished on 631000/700180 queries. users per second: 584.591</pre>"
      ],
      "text/plain": [
       "recommendations finished on 631000/700180 queries. users per second: 584.591"
      ]
     },
     "metadata": {},
     "output_type": "display_data"
    },
    {
     "data": {
      "text/html": [
       "<pre>recommendations finished on 632000/700180 queries. users per second: 584.592</pre>"
      ],
      "text/plain": [
       "recommendations finished on 632000/700180 queries. users per second: 584.592"
      ]
     },
     "metadata": {},
     "output_type": "display_data"
    },
    {
     "data": {
      "text/html": [
       "<pre>recommendations finished on 633000/700180 queries. users per second: 584.59</pre>"
      ],
      "text/plain": [
       "recommendations finished on 633000/700180 queries. users per second: 584.59"
      ]
     },
     "metadata": {},
     "output_type": "display_data"
    },
    {
     "data": {
      "text/html": [
       "<pre>recommendations finished on 634000/700180 queries. users per second: 584.59</pre>"
      ],
      "text/plain": [
       "recommendations finished on 634000/700180 queries. users per second: 584.59"
      ]
     },
     "metadata": {},
     "output_type": "display_data"
    },
    {
     "data": {
      "text/html": [
       "<pre>recommendations finished on 635000/700180 queries. users per second: 584.583</pre>"
      ],
      "text/plain": [
       "recommendations finished on 635000/700180 queries. users per second: 584.583"
      ]
     },
     "metadata": {},
     "output_type": "display_data"
    },
    {
     "data": {
      "text/html": [
       "<pre>recommendations finished on 636000/700180 queries. users per second: 584.587</pre>"
      ],
      "text/plain": [
       "recommendations finished on 636000/700180 queries. users per second: 584.587"
      ]
     },
     "metadata": {},
     "output_type": "display_data"
    },
    {
     "data": {
      "text/html": [
       "<pre>recommendations finished on 637000/700180 queries. users per second: 584.593</pre>"
      ],
      "text/plain": [
       "recommendations finished on 637000/700180 queries. users per second: 584.593"
      ]
     },
     "metadata": {},
     "output_type": "display_data"
    },
    {
     "data": {
      "text/html": [
       "<pre>recommendations finished on 638000/700180 queries. users per second: 584.586</pre>"
      ],
      "text/plain": [
       "recommendations finished on 638000/700180 queries. users per second: 584.586"
      ]
     },
     "metadata": {},
     "output_type": "display_data"
    },
    {
     "data": {
      "text/html": [
       "<pre>recommendations finished on 639000/700180 queries. users per second: 584.595</pre>"
      ],
      "text/plain": [
       "recommendations finished on 639000/700180 queries. users per second: 584.595"
      ]
     },
     "metadata": {},
     "output_type": "display_data"
    },
    {
     "data": {
      "text/html": [
       "<pre>recommendations finished on 640000/700180 queries. users per second: 584.59</pre>"
      ],
      "text/plain": [
       "recommendations finished on 640000/700180 queries. users per second: 584.59"
      ]
     },
     "metadata": {},
     "output_type": "display_data"
    },
    {
     "data": {
      "text/html": [
       "<pre>recommendations finished on 641000/700180 queries. users per second: 584.591</pre>"
      ],
      "text/plain": [
       "recommendations finished on 641000/700180 queries. users per second: 584.591"
      ]
     },
     "metadata": {},
     "output_type": "display_data"
    },
    {
     "data": {
      "text/html": [
       "<pre>recommendations finished on 642000/700180 queries. users per second: 584.586</pre>"
      ],
      "text/plain": [
       "recommendations finished on 642000/700180 queries. users per second: 584.586"
      ]
     },
     "metadata": {},
     "output_type": "display_data"
    },
    {
     "data": {
      "text/html": [
       "<pre>recommendations finished on 643000/700180 queries. users per second: 584.591</pre>"
      ],
      "text/plain": [
       "recommendations finished on 643000/700180 queries. users per second: 584.591"
      ]
     },
     "metadata": {},
     "output_type": "display_data"
    },
    {
     "data": {
      "text/html": [
       "<pre>recommendations finished on 644000/700180 queries. users per second: 584.592</pre>"
      ],
      "text/plain": [
       "recommendations finished on 644000/700180 queries. users per second: 584.592"
      ]
     },
     "metadata": {},
     "output_type": "display_data"
    },
    {
     "data": {
      "text/html": [
       "<pre>recommendations finished on 645000/700180 queries. users per second: 584.59</pre>"
      ],
      "text/plain": [
       "recommendations finished on 645000/700180 queries. users per second: 584.59"
      ]
     },
     "metadata": {},
     "output_type": "display_data"
    },
    {
     "data": {
      "text/html": [
       "<pre>recommendations finished on 646000/700180 queries. users per second: 584.593</pre>"
      ],
      "text/plain": [
       "recommendations finished on 646000/700180 queries. users per second: 584.593"
      ]
     },
     "metadata": {},
     "output_type": "display_data"
    },
    {
     "data": {
      "text/html": [
       "<pre>recommendations finished on 647000/700180 queries. users per second: 584.598</pre>"
      ],
      "text/plain": [
       "recommendations finished on 647000/700180 queries. users per second: 584.598"
      ]
     },
     "metadata": {},
     "output_type": "display_data"
    },
    {
     "data": {
      "text/html": [
       "<pre>recommendations finished on 648000/700180 queries. users per second: 584.598</pre>"
      ],
      "text/plain": [
       "recommendations finished on 648000/700180 queries. users per second: 584.598"
      ]
     },
     "metadata": {},
     "output_type": "display_data"
    },
    {
     "data": {
      "text/html": [
       "<pre>recommendations finished on 649000/700180 queries. users per second: 584.588</pre>"
      ],
      "text/plain": [
       "recommendations finished on 649000/700180 queries. users per second: 584.588"
      ]
     },
     "metadata": {},
     "output_type": "display_data"
    },
    {
     "data": {
      "text/html": [
       "<pre>recommendations finished on 650000/700180 queries. users per second: 584.584</pre>"
      ],
      "text/plain": [
       "recommendations finished on 650000/700180 queries. users per second: 584.584"
      ]
     },
     "metadata": {},
     "output_type": "display_data"
    },
    {
     "data": {
      "text/html": [
       "<pre>recommendations finished on 651000/700180 queries. users per second: 584.59</pre>"
      ],
      "text/plain": [
       "recommendations finished on 651000/700180 queries. users per second: 584.59"
      ]
     },
     "metadata": {},
     "output_type": "display_data"
    },
    {
     "data": {
      "text/html": [
       "<pre>recommendations finished on 652000/700180 queries. users per second: 584.593</pre>"
      ],
      "text/plain": [
       "recommendations finished on 652000/700180 queries. users per second: 584.593"
      ]
     },
     "metadata": {},
     "output_type": "display_data"
    },
    {
     "data": {
      "text/html": [
       "<pre>recommendations finished on 653000/700180 queries. users per second: 584.599</pre>"
      ],
      "text/plain": [
       "recommendations finished on 653000/700180 queries. users per second: 584.599"
      ]
     },
     "metadata": {},
     "output_type": "display_data"
    },
    {
     "data": {
      "text/html": [
       "<pre>recommendations finished on 654000/700180 queries. users per second: 584.605</pre>"
      ],
      "text/plain": [
       "recommendations finished on 654000/700180 queries. users per second: 584.605"
      ]
     },
     "metadata": {},
     "output_type": "display_data"
    },
    {
     "data": {
      "text/html": [
       "<pre>recommendations finished on 655000/700180 queries. users per second: 584.603</pre>"
      ],
      "text/plain": [
       "recommendations finished on 655000/700180 queries. users per second: 584.603"
      ]
     },
     "metadata": {},
     "output_type": "display_data"
    },
    {
     "data": {
      "text/html": [
       "<pre>recommendations finished on 656000/700180 queries. users per second: 584.6</pre>"
      ],
      "text/plain": [
       "recommendations finished on 656000/700180 queries. users per second: 584.6"
      ]
     },
     "metadata": {},
     "output_type": "display_data"
    },
    {
     "data": {
      "text/html": [
       "<pre>recommendations finished on 657000/700180 queries. users per second: 584.6</pre>"
      ],
      "text/plain": [
       "recommendations finished on 657000/700180 queries. users per second: 584.6"
      ]
     },
     "metadata": {},
     "output_type": "display_data"
    },
    {
     "data": {
      "text/html": [
       "<pre>recommendations finished on 658000/700180 queries. users per second: 584.599</pre>"
      ],
      "text/plain": [
       "recommendations finished on 658000/700180 queries. users per second: 584.599"
      ]
     },
     "metadata": {},
     "output_type": "display_data"
    },
    {
     "data": {
      "text/html": [
       "<pre>recommendations finished on 659000/700180 queries. users per second: 584.604</pre>"
      ],
      "text/plain": [
       "recommendations finished on 659000/700180 queries. users per second: 584.604"
      ]
     },
     "metadata": {},
     "output_type": "display_data"
    },
    {
     "data": {
      "text/html": [
       "<pre>recommendations finished on 660000/700180 queries. users per second: 584.603</pre>"
      ],
      "text/plain": [
       "recommendations finished on 660000/700180 queries. users per second: 584.603"
      ]
     },
     "metadata": {},
     "output_type": "display_data"
    },
    {
     "data": {
      "text/html": [
       "<pre>recommendations finished on 661000/700180 queries. users per second: 584.603</pre>"
      ],
      "text/plain": [
       "recommendations finished on 661000/700180 queries. users per second: 584.603"
      ]
     },
     "metadata": {},
     "output_type": "display_data"
    },
    {
     "data": {
      "text/html": [
       "<pre>recommendations finished on 662000/700180 queries. users per second: 584.607</pre>"
      ],
      "text/plain": [
       "recommendations finished on 662000/700180 queries. users per second: 584.607"
      ]
     },
     "metadata": {},
     "output_type": "display_data"
    },
    {
     "data": {
      "text/html": [
       "<pre>recommendations finished on 663000/700180 queries. users per second: 584.603</pre>"
      ],
      "text/plain": [
       "recommendations finished on 663000/700180 queries. users per second: 584.603"
      ]
     },
     "metadata": {},
     "output_type": "display_data"
    },
    {
     "data": {
      "text/html": [
       "<pre>recommendations finished on 664000/700180 queries. users per second: 584.605</pre>"
      ],
      "text/plain": [
       "recommendations finished on 664000/700180 queries. users per second: 584.605"
      ]
     },
     "metadata": {},
     "output_type": "display_data"
    },
    {
     "data": {
      "text/html": [
       "<pre>recommendations finished on 665000/700180 queries. users per second: 584.602</pre>"
      ],
      "text/plain": [
       "recommendations finished on 665000/700180 queries. users per second: 584.602"
      ]
     },
     "metadata": {},
     "output_type": "display_data"
    },
    {
     "data": {
      "text/html": [
       "<pre>recommendations finished on 666000/700180 queries. users per second: 584.6</pre>"
      ],
      "text/plain": [
       "recommendations finished on 666000/700180 queries. users per second: 584.6"
      ]
     },
     "metadata": {},
     "output_type": "display_data"
    },
    {
     "data": {
      "text/html": [
       "<pre>recommendations finished on 667000/700180 queries. users per second: 584.599</pre>"
      ],
      "text/plain": [
       "recommendations finished on 667000/700180 queries. users per second: 584.599"
      ]
     },
     "metadata": {},
     "output_type": "display_data"
    },
    {
     "data": {
      "text/html": [
       "<pre>recommendations finished on 668000/700180 queries. users per second: 584.599</pre>"
      ],
      "text/plain": [
       "recommendations finished on 668000/700180 queries. users per second: 584.599"
      ]
     },
     "metadata": {},
     "output_type": "display_data"
    },
    {
     "data": {
      "text/html": [
       "<pre>recommendations finished on 669000/700180 queries. users per second: 584.601</pre>"
      ],
      "text/plain": [
       "recommendations finished on 669000/700180 queries. users per second: 584.601"
      ]
     },
     "metadata": {},
     "output_type": "display_data"
    },
    {
     "data": {
      "text/html": [
       "<pre>recommendations finished on 670000/700180 queries. users per second: 584.594</pre>"
      ],
      "text/plain": [
       "recommendations finished on 670000/700180 queries. users per second: 584.594"
      ]
     },
     "metadata": {},
     "output_type": "display_data"
    },
    {
     "data": {
      "text/html": [
       "<pre>recommendations finished on 671000/700180 queries. users per second: 584.599</pre>"
      ],
      "text/plain": [
       "recommendations finished on 671000/700180 queries. users per second: 584.599"
      ]
     },
     "metadata": {},
     "output_type": "display_data"
    },
    {
     "data": {
      "text/html": [
       "<pre>recommendations finished on 672000/700180 queries. users per second: 584.6</pre>"
      ],
      "text/plain": [
       "recommendations finished on 672000/700180 queries. users per second: 584.6"
      ]
     },
     "metadata": {},
     "output_type": "display_data"
    },
    {
     "data": {
      "text/html": [
       "<pre>recommendations finished on 673000/700180 queries. users per second: 584.595</pre>"
      ],
      "text/plain": [
       "recommendations finished on 673000/700180 queries. users per second: 584.595"
      ]
     },
     "metadata": {},
     "output_type": "display_data"
    },
    {
     "data": {
      "text/html": [
       "<pre>recommendations finished on 674000/700180 queries. users per second: 584.599</pre>"
      ],
      "text/plain": [
       "recommendations finished on 674000/700180 queries. users per second: 584.599"
      ]
     },
     "metadata": {},
     "output_type": "display_data"
    },
    {
     "data": {
      "text/html": [
       "<pre>recommendations finished on 675000/700180 queries. users per second: 584.603</pre>"
      ],
      "text/plain": [
       "recommendations finished on 675000/700180 queries. users per second: 584.603"
      ]
     },
     "metadata": {},
     "output_type": "display_data"
    },
    {
     "data": {
      "text/html": [
       "<pre>recommendations finished on 676000/700180 queries. users per second: 584.602</pre>"
      ],
      "text/plain": [
       "recommendations finished on 676000/700180 queries. users per second: 584.602"
      ]
     },
     "metadata": {},
     "output_type": "display_data"
    },
    {
     "data": {
      "text/html": [
       "<pre>recommendations finished on 677000/700180 queries. users per second: 584.605</pre>"
      ],
      "text/plain": [
       "recommendations finished on 677000/700180 queries. users per second: 584.605"
      ]
     },
     "metadata": {},
     "output_type": "display_data"
    },
    {
     "data": {
      "text/html": [
       "<pre>recommendations finished on 678000/700180 queries. users per second: 584.598</pre>"
      ],
      "text/plain": [
       "recommendations finished on 678000/700180 queries. users per second: 584.598"
      ]
     },
     "metadata": {},
     "output_type": "display_data"
    },
    {
     "data": {
      "text/html": [
       "<pre>recommendations finished on 679000/700180 queries. users per second: 584.606</pre>"
      ],
      "text/plain": [
       "recommendations finished on 679000/700180 queries. users per second: 584.606"
      ]
     },
     "metadata": {},
     "output_type": "display_data"
    },
    {
     "data": {
      "text/html": [
       "<pre>recommendations finished on 680000/700180 queries. users per second: 584.601</pre>"
      ],
      "text/plain": [
       "recommendations finished on 680000/700180 queries. users per second: 584.601"
      ]
     },
     "metadata": {},
     "output_type": "display_data"
    },
    {
     "data": {
      "text/html": [
       "<pre>recommendations finished on 681000/700180 queries. users per second: 584.599</pre>"
      ],
      "text/plain": [
       "recommendations finished on 681000/700180 queries. users per second: 584.599"
      ]
     },
     "metadata": {},
     "output_type": "display_data"
    },
    {
     "data": {
      "text/html": [
       "<pre>recommendations finished on 682000/700180 queries. users per second: 584.595</pre>"
      ],
      "text/plain": [
       "recommendations finished on 682000/700180 queries. users per second: 584.595"
      ]
     },
     "metadata": {},
     "output_type": "display_data"
    },
    {
     "data": {
      "text/html": [
       "<pre>recommendations finished on 683000/700180 queries. users per second: 584.596</pre>"
      ],
      "text/plain": [
       "recommendations finished on 683000/700180 queries. users per second: 584.596"
      ]
     },
     "metadata": {},
     "output_type": "display_data"
    },
    {
     "data": {
      "text/html": [
       "<pre>recommendations finished on 684000/700180 queries. users per second: 584.597</pre>"
      ],
      "text/plain": [
       "recommendations finished on 684000/700180 queries. users per second: 584.597"
      ]
     },
     "metadata": {},
     "output_type": "display_data"
    },
    {
     "data": {
      "text/html": [
       "<pre>recommendations finished on 685000/700180 queries. users per second: 584.595</pre>"
      ],
      "text/plain": [
       "recommendations finished on 685000/700180 queries. users per second: 584.595"
      ]
     },
     "metadata": {},
     "output_type": "display_data"
    },
    {
     "data": {
      "text/html": [
       "<pre>recommendations finished on 686000/700180 queries. users per second: 584.591</pre>"
      ],
      "text/plain": [
       "recommendations finished on 686000/700180 queries. users per second: 584.591"
      ]
     },
     "metadata": {},
     "output_type": "display_data"
    },
    {
     "data": {
      "text/html": [
       "<pre>recommendations finished on 687000/700180 queries. users per second: 584.594</pre>"
      ],
      "text/plain": [
       "recommendations finished on 687000/700180 queries. users per second: 584.594"
      ]
     },
     "metadata": {},
     "output_type": "display_data"
    },
    {
     "data": {
      "text/html": [
       "<pre>recommendations finished on 688000/700180 queries. users per second: 584.599</pre>"
      ],
      "text/plain": [
       "recommendations finished on 688000/700180 queries. users per second: 584.599"
      ]
     },
     "metadata": {},
     "output_type": "display_data"
    },
    {
     "data": {
      "text/html": [
       "<pre>recommendations finished on 689000/700180 queries. users per second: 584.594</pre>"
      ],
      "text/plain": [
       "recommendations finished on 689000/700180 queries. users per second: 584.594"
      ]
     },
     "metadata": {},
     "output_type": "display_data"
    },
    {
     "data": {
      "text/html": [
       "<pre>recommendations finished on 690000/700180 queries. users per second: 584.589</pre>"
      ],
      "text/plain": [
       "recommendations finished on 690000/700180 queries. users per second: 584.589"
      ]
     },
     "metadata": {},
     "output_type": "display_data"
    },
    {
     "data": {
      "text/html": [
       "<pre>recommendations finished on 691000/700180 queries. users per second: 584.594</pre>"
      ],
      "text/plain": [
       "recommendations finished on 691000/700180 queries. users per second: 584.594"
      ]
     },
     "metadata": {},
     "output_type": "display_data"
    },
    {
     "data": {
      "text/html": [
       "<pre>recommendations finished on 692000/700180 queries. users per second: 584.589</pre>"
      ],
      "text/plain": [
       "recommendations finished on 692000/700180 queries. users per second: 584.589"
      ]
     },
     "metadata": {},
     "output_type": "display_data"
    },
    {
     "data": {
      "text/html": [
       "<pre>recommendations finished on 693000/700180 queries. users per second: 584.586</pre>"
      ],
      "text/plain": [
       "recommendations finished on 693000/700180 queries. users per second: 584.586"
      ]
     },
     "metadata": {},
     "output_type": "display_data"
    },
    {
     "data": {
      "text/html": [
       "<pre>recommendations finished on 694000/700180 queries. users per second: 584.589</pre>"
      ],
      "text/plain": [
       "recommendations finished on 694000/700180 queries. users per second: 584.589"
      ]
     },
     "metadata": {},
     "output_type": "display_data"
    },
    {
     "data": {
      "text/html": [
       "<pre>recommendations finished on 695000/700180 queries. users per second: 584.599</pre>"
      ],
      "text/plain": [
       "recommendations finished on 695000/700180 queries. users per second: 584.599"
      ]
     },
     "metadata": {},
     "output_type": "display_data"
    },
    {
     "data": {
      "text/html": [
       "<pre>recommendations finished on 696000/700180 queries. users per second: 584.605</pre>"
      ],
      "text/plain": [
       "recommendations finished on 696000/700180 queries. users per second: 584.605"
      ]
     },
     "metadata": {},
     "output_type": "display_data"
    },
    {
     "data": {
      "text/html": [
       "<pre>recommendations finished on 697000/700180 queries. users per second: 584.597</pre>"
      ],
      "text/plain": [
       "recommendations finished on 697000/700180 queries. users per second: 584.597"
      ]
     },
     "metadata": {},
     "output_type": "display_data"
    },
    {
     "data": {
      "text/html": [
       "<pre>recommendations finished on 698000/700180 queries. users per second: 584.395</pre>"
      ],
      "text/plain": [
       "recommendations finished on 698000/700180 queries. users per second: 584.395"
      ]
     },
     "metadata": {},
     "output_type": "display_data"
    },
    {
     "data": {
      "text/html": [
       "<pre>recommendations finished on 699000/700180 queries. users per second: 583.456</pre>"
      ],
      "text/plain": [
       "recommendations finished on 699000/700180 queries. users per second: 583.456"
      ]
     },
     "metadata": {},
     "output_type": "display_data"
    },
    {
     "data": {
      "text/html": [
       "<pre>recommendations finished on 700000/700180 queries. users per second: 581.626</pre>"
      ],
      "text/plain": [
       "recommendations finished on 700000/700180 queries. users per second: 581.626"
      ]
     },
     "metadata": {},
     "output_type": "display_data"
    },
    {
     "name": "stdout",
     "output_type": "stream",
     "text": [
      "\n",
      "Precision and recall summary statistics by cutoff\n",
      "+--------+-------------------+-------------------+\n",
      "| cutoff |   mean_precision  |    mean_recall    |\n",
      "+--------+-------------------+-------------------+\n",
      "|   1    | 9.71178839727e-05 | 1.24423364948e-05 |\n",
      "|   2    | 9.99742923248e-05 | 4.12946639805e-05 |\n",
      "|   3    | 0.000100450360384 | 5.97533651377e-05 |\n",
      "|   4    | 9.49755777086e-05 | 7.28070967445e-05 |\n",
      "|   5    | 9.54040389614e-05 | 9.36263915548e-05 |\n",
      "|   6    | 9.49755777086e-05 | 0.000113503319945 |\n",
      "|   7    | 9.26292422765e-05 | 0.000126485596392 |\n",
      "|   8    | 9.17621183124e-05 | 0.000138157724347 |\n",
      "|   9    | 9.33093395032e-05 | 0.000158517520599 |\n",
      "|   10   | 9.39758347853e-05 |  0.00017562861298 |\n",
      "+--------+-------------------+-------------------+\n",
      "[10 rows x 3 columns]\n",
      "\n"
     ]
    },
    {
     "data": {
      "text/html": [
       "<pre>Using default 16 lambda workers.</pre>"
      ],
      "text/plain": [
       "Using default 16 lambda workers."
      ]
     },
     "metadata": {},
     "output_type": "display_data"
    },
    {
     "data": {
      "text/html": [
       "<pre>To maximize the degree of parallelism, add the following code to the beginning of the program:</pre>"
      ],
      "text/plain": [
       "To maximize the degree of parallelism, add the following code to the beginning of the program:"
      ]
     },
     "metadata": {},
     "output_type": "display_data"
    },
    {
     "data": {
      "text/html": [
       "<pre>\"graphlab.set_runtime_config('GRAPHLAB_DEFAULT_NUM_PYLAMBDA_WORKERS', 48)\"</pre>"
      ],
      "text/plain": [
       "\"graphlab.set_runtime_config('GRAPHLAB_DEFAULT_NUM_PYLAMBDA_WORKERS', 48)\""
      ]
     },
     "metadata": {},
     "output_type": "display_data"
    },
    {
     "data": {
      "text/html": [
       "<pre>Note that increasing the degree of parallelism also increases the memory footprint.</pre>"
      ],
      "text/plain": [
       "Note that increasing the degree of parallelism also increases the memory footprint."
      ]
     },
     "metadata": {},
     "output_type": "display_data"
    },
    {
     "name": "stdout",
     "output_type": "stream",
     "text": [
      "('\\nOverall RMSE: ', 87.56388030132392)\n",
      "\n",
      "Per User RMSE (best)\n",
      "+-----------------------+-------+-------------------+\n",
      "| Initial Physician NPI | count |        rmse       |\n",
      "+-----------------------+-------+-------------------+\n",
      "|       1235204959      |   1   | 1.16958084675e-05 |\n",
      "+-----------------------+-------+-------------------+\n",
      "[1 rows x 3 columns]\n",
      "\n",
      "\n",
      "Per User RMSE (worst)\n",
      "+-----------------------+-------+---------------+\n",
      "| Initial Physician NPI | count |      rmse     |\n",
      "+-----------------------+-------+---------------+\n",
      "|       1073610754      |  973  | 1702.35499043 |\n",
      "+-----------------------+-------+---------------+\n",
      "[1 rows x 3 columns]\n",
      "\n",
      "\n",
      "Per Item RMSE (best)\n",
      "+-------------------------+-------+-------------------+\n",
      "| Secondary Physician NPI | count |        rmse       |\n",
      "+-------------------------+-------+-------------------+\n",
      "|        1174541114       |   1   | 0.000212417655895 |\n",
      "+-------------------------+-------+-------------------+\n",
      "[1 rows x 3 columns]\n",
      "\n",
      "\n",
      "Per Item RMSE (worst)\n",
      "+-------------------------+-------+---------------+\n",
      "| Secondary Physician NPI | count |      rmse     |\n",
      "+-------------------------+-------+---------------+\n",
      "|        1235186800       |  1613 | 1322.93486652 |\n",
      "+-------------------------+-------+---------------+\n",
      "[1 rows x 3 columns]\n",
      "\n"
     ]
    }
   ],
   "source": [
    "baseline_mf_eval = baseline_mf_model.evaluate(baseline_mf_sf_test)"
   ]
  },
  {
   "cell_type": "code",
   "execution_count": 58,
   "metadata": {},
   "outputs": [
    {
     "data": {
      "text/plain": [
       "37.58873342137935"
      ]
     },
     "execution_count": 58,
     "metadata": {},
     "output_type": "execute_result"
    }
   ],
   "source": [
    "baseline_mf_sf_train['Number Unique Beneficiaries'].mean()"
   ]
  },
  {
   "cell_type": "code",
   "execution_count": 66,
   "metadata": {},
   "outputs": [],
   "source": [
    "baseline_mf_sf_train['Number Unique Beneficiaries'].std()"
   ]
  },
  {
   "cell_type": "code",
   "execution_count": 74,
   "metadata": {},
   "outputs": [
    {
     "name": "stdout",
     "output_type": "stream",
     "text": [
      "Canvas is updated and available in a tab in the default browser.\n"
     ]
    }
   ],
   "source": [
    "baseline_mf_sf.show()"
   ]
  },
  {
   "cell_type": "code",
   "execution_count": 75,
   "metadata": {},
   "outputs": [
    {
     "data": {
      "text/plain": [
       "dtype: float\n",
       "Rows: 6577167\n",
       "[29.89374183278651, 6.769066558891247, 28.270759330802868, 31.22428153615565, 39.448966728263805, 29.883739219718883, 57.55620621305079, 37.61472819905848, 56.37817548375697, 33.46594892602534, 35.4931151733932, 33.92295645337672, 40.94651387792201, 29.3443616495666, 46.379675613456676, 42.820578323417614, 52.037629829460094, 45.45086072545619, 40.774424539619396, 49.46977256398768, 58.98856423955531, 21.995775924735973, 37.312797175460766, 15.488871322685192, 11.567042575889538, 28.614205585533092, 7.9660899506148795, 23.35399983983607, 24.0933987961349, 16.517703758293102, 25.212088810020397, 9.476412044578503, 13.562885509544323, 33.519629941993664, 38.11576865773768, 9.150790439659069, 36.156507717185924, 37.44723384242625, 13.963498102241466, 16.908394561820934, 42.616669879966686, 13.672273622566173, 33.983730541282604, 25.243554340415905, 99.47665427785486, 83.17562888722986, 16.740295635276745, 37.95246862035365, 13.278234706932018, 13.112536655479381, 3.6920235024032095, 5.268252597862194, 44.341439949089, 27.365097271018932, 13.581805931144665, 5.6636116371688345, 77.9736077652511, 21.41588996511073, 29.054005847984264, 11.318618999534557, 55.02355788808436, 103.15768455129236, 4.817525135093639, -2.034578098243763, 2.041951404624889, 8.073094593101452, 13.748405204826305, 49.12678741078944, -8.951500190681507, -4.983737124389698, 64.0568539963302, 17.359277473503063, 102.42118953328699, 0.692395435386608, 52.874044494443844, 10.377932296806286, -13.802295459693958, 12.932837234550426, 28.01830695729823, 24.193120704704235, 4.376055465751598, 38.30279098611445, 50.82376288037867, 128.50997232061, 11.99813841443629, 35.38222764592738, 23.735072837882946, 17.447195993476818, 39.448098884635876, 48.583257423454235, 8.907485948615978, 6.378032909446667, -19.236338867134144, 42.76864551168055, 12.315104232841442, 20.263080822044323, 6.217262016349743, 35.81578134160609, -5.980269326156666, 2.1029336319503287, ... ]"
      ]
     },
     "execution_count": 75,
     "metadata": {},
     "output_type": "execute_result"
    }
   ],
   "source": [
    "baseline_mf_model.predict(baseline_mf_sf_test)"
   ]
  },
  {
   "cell_type": "code",
   "execution_count": 3,
   "metadata": {},
   "outputs": [],
   "source": [
    "import numpy as np"
   ]
  },
  {
   "cell_type": "code",
   "execution_count": 4,
   "metadata": {},
   "outputs": [],
   "source": [
    "edges_test_sf = np.array([10, 7])\n",
    "mf2_predictions = np.array([12, 5])"
   ]
  },
  {
   "cell_type": "code",
   "execution_count": 7,
   "metadata": {},
   "outputs": [],
   "source": [
    "mf2_rmse = (sum(((edges_test_sf - mf2_predictions) ** 2)) / len(edges_test_sf)) ** (1/2)"
   ]
  },
  {
   "cell_type": "code",
   "execution_count": 8,
   "metadata": {},
   "outputs": [
    {
     "data": {
      "text/plain": [
       "1"
      ]
     },
     "execution_count": 8,
     "metadata": {},
     "output_type": "execute_result"
    }
   ],
   "source": [
    "mf2_rmse"
   ]
  },
  {
   "cell_type": "code",
   "execution_count": null,
   "metadata": {},
   "outputs": [],
   "source": []
  }
 ],
 "metadata": {
  "kernelspec": {
   "display_name": "Python 2",
   "language": "python",
   "name": "python2"
  },
  "language_info": {
   "codemirror_mode": {
    "name": "ipython",
    "version": 2
   },
   "file_extension": ".py",
   "mimetype": "text/x-python",
   "name": "python",
   "nbconvert_exporter": "python",
   "pygments_lexer": "ipython2",
   "version": "2.7.14"
  }
 },
 "nbformat": 4,
 "nbformat_minor": 2
}
