{
 "cells": [
  {
   "cell_type": "code",
   "execution_count": 1,
   "metadata": {},
   "outputs": [],
   "source": [
    "import graphlab as gl"
   ]
  },
  {
   "cell_type": "code",
   "execution_count": 2,
   "metadata": {},
   "outputs": [
    {
     "name": "stdout",
     "output_type": "stream",
     "text": [
      "This non-commercial license of GraphLab Create for academic use is assigned to gpinho@gmail.com and will expire on April 26, 2019.\n"
     ]
    },
    {
     "name": "stderr",
     "output_type": "stream",
     "text": [
      "[INFO] graphlab.cython.cy_server: GraphLab Create v2.1 started. Logging: /tmp/graphlab_server_1525983348.log\n"
     ]
    }
   ],
   "source": [
    "gl.set_runtime_config('GRAPHLAB_DEFAULT_NUM_PYLAMBDA_WORKERS', 48)"
   ]
  },
  {
   "cell_type": "markdown",
   "metadata": {},
   "source": [
    "# MF1: Matrix Factorization with Explicit Data 2009-2015Y"
   ]
  },
  {
   "cell_type": "code",
   "execution_count": 12,
   "metadata": {},
   "outputs": [],
   "source": [
    "url_2015 = 'https://s3-us-west-1.amazonaws.com/physician-referral-graph/physician-shared-patient-patterns-2015-days180_withHeader.csv'\n",
    "url_2014 = 'https://s3-us-west-1.amazonaws.com/physician-referral-graph/physician-shared-patient-patterns-2014-days180_withHeader.csv'\n",
    "url_2013 = 'https://s3-us-west-1.amazonaws.com/physician-referral-graph/physician-shared-patient-patterns-2013-days180_withHeader.csv'\n",
    "url_2012 = 'https://s3-us-west-1.amazonaws.com/physician-referral-graph/physician-shared-patient-patterns-2012-days180_withHeader.csv'\n",
    "url_2011 = 'https://s3-us-west-1.amazonaws.com/physician-referral-graph/physician-shared-patient-patterns-2011-days180_withHeader.csv'\n",
    "url_2010 = 'https://s3-us-west-1.amazonaws.com/physician-referral-graph/physician-shared-patient-patterns-2010-days180_withHeader.csv'\n",
    "url_2009 = 'https://s3-us-west-1.amazonaws.com/physician-referral-graph/physician-shared-patient-patterns-2009-days180_withHeader.csv'"
   ]
  },
  {
   "cell_type": "code",
   "execution_count": 13,
   "metadata": {},
   "outputs": [],
   "source": [
    "usecols = ['Initial Physician NPI', 'Secondary Physician NPI', 'Number Unique Beneficiaries']\n",
    "column_type_hints = [int, int, float]"
   ]
  },
  {
   "cell_type": "code",
   "execution_count": 14,
   "metadata": {},
   "outputs": [],
   "source": [
    "datasets = [('2009', url_2009), ('2010', url_2010), ('2011', url_2011), ('2012', url_2012), ('2013', url_2013), ('2014', url_2014), ('2015', url_2015)]"
   ]
  },
  {
   "cell_type": "code",
   "execution_count": 25,
   "metadata": {},
   "outputs": [],
   "source": [
    "def combine_datasets(datasets, usecols=usecols, column_type_hints=column_type_hints):\n",
    "    \n",
    "    left_year, left_file = datasets[0]\n",
    "    left_sf = gl.SFrame.read_csv(left_file, usecols=usecols, column_type_hints=column_type_hints)\n",
    "    left_sf.rename({'Number Unique Beneficiaries': left_year})\n",
    "    \n",
    "    for idx in range(1, len(datasets)):\n",
    "        right_year, right_file = datasets[idx]\n",
    "        right_sf = gl.SFrame.read_csv(right_file, usecols=usecols, column_type_hints=column_type_hints)\n",
    "        right_sf.rename({'Number Unique Beneficiaries': right_year})\n",
    "        left_sf = left_sf.join(right_sf, on=['Initial Physician NPI', 'Secondary Physician NPI'], how='outer')\n",
    "        \n",
    "    return left_sf"
   ]
  },
  {
   "cell_type": "code",
   "execution_count": 26,
   "metadata": {
    "collapsed": true
   },
   "outputs": [
    {
     "data": {
      "text/html": [
       "<pre>Read 1108531 lines. Lines per second: 1.31836e+06</pre>"
      ],
      "text/plain": [
       "Read 1108531 lines. Lines per second: 1.31836e+06"
      ]
     },
     "metadata": {},
     "output_type": "display_data"
    },
    {
     "data": {
      "text/html": [
       "<pre>Read 14414920 lines. Lines per second: 2.45778e+06</pre>"
      ],
      "text/plain": [
       "Read 14414920 lines. Lines per second: 2.45778e+06"
      ]
     },
     "metadata": {},
     "output_type": "display_data"
    },
    {
     "data": {
      "text/html": [
       "<pre>Read 27730334 lines. Lines per second: 2.5335e+06</pre>"
      ],
      "text/plain": [
       "Read 27730334 lines. Lines per second: 2.5335e+06"
      ]
     },
     "metadata": {},
     "output_type": "display_data"
    },
    {
     "data": {
      "text/html": [
       "<pre>Read 41055048 lines. Lines per second: 2.57282e+06</pre>"
      ],
      "text/plain": [
       "Read 41055048 lines. Lines per second: 2.57282e+06"
      ]
     },
     "metadata": {},
     "output_type": "display_data"
    },
    {
     "data": {
      "text/html": [
       "<pre>Read 54388927 lines. Lines per second: 2.57945e+06</pre>"
      ],
      "text/plain": [
       "Read 54388927 lines. Lines per second: 2.57945e+06"
      ]
     },
     "metadata": {},
     "output_type": "display_data"
    },
    {
     "data": {
      "text/html": [
       "<pre>Read 67732245 lines. Lines per second: 2.57166e+06</pre>"
      ],
      "text/plain": [
       "Read 67732245 lines. Lines per second: 2.57166e+06"
      ]
     },
     "metadata": {},
     "output_type": "display_data"
    },
    {
     "data": {
      "text/html": [
       "<pre>Read 81085115 lines. Lines per second: 2.56739e+06</pre>"
      ],
      "text/plain": [
       "Read 81085115 lines. Lines per second: 2.56739e+06"
      ]
     },
     "metadata": {},
     "output_type": "display_data"
    },
    {
     "data": {
      "text/html": [
       "<pre>Read 94447868 lines. Lines per second: 2.56839e+06</pre>"
      ],
      "text/plain": [
       "Read 94447868 lines. Lines per second: 2.56839e+06"
      ]
     },
     "metadata": {},
     "output_type": "display_data"
    },
    {
     "data": {
      "text/html": [
       "<pre>Read 107820461 lines. Lines per second: 2.57565e+06</pre>"
      ],
      "text/plain": [
       "Read 107820461 lines. Lines per second: 2.57565e+06"
      ]
     },
     "metadata": {},
     "output_type": "display_data"
    },
    {
     "data": {
      "text/html": [
       "<pre>Finished parsing file https://s3-us-west-1.amazonaws.com/physician-referral-graph/physician-shared-patient-patterns-2009-days180_withHeader.csv</pre>"
      ],
      "text/plain": [
       "Finished parsing file https://s3-us-west-1.amazonaws.com/physician-referral-graph/physician-shared-patient-patterns-2009-days180_withHeader.csv"
      ]
     },
     "metadata": {},
     "output_type": "display_data"
    },
    {
     "data": {
      "text/html": [
       "<pre>Parsing completed. Parsed 119270681 lines in 45.8278 secs.</pre>"
      ],
      "text/plain": [
       "Parsing completed. Parsed 119270681 lines in 45.8278 secs."
      ]
     },
     "metadata": {},
     "output_type": "display_data"
    },
    {
     "data": {
      "text/html": [
       "<pre>Read 2217224 lines. Lines per second: 1.76718e+06</pre>"
      ],
      "text/plain": [
       "Read 2217224 lines. Lines per second: 1.76718e+06"
      ]
     },
     "metadata": {},
     "output_type": "display_data"
    },
    {
     "data": {
      "text/html": [
       "<pre>Read 16634508 lines. Lines per second: 2.51257e+06</pre>"
      ],
      "text/plain": [
       "Read 16634508 lines. Lines per second: 2.51257e+06"
      ]
     },
     "metadata": {},
     "output_type": "display_data"
    },
    {
     "data": {
      "text/html": [
       "<pre>Read 29951445 lines. Lines per second: 2.59312e+06</pre>"
      ],
      "text/plain": [
       "Read 29951445 lines. Lines per second: 2.59312e+06"
      ]
     },
     "metadata": {},
     "output_type": "display_data"
    },
    {
     "data": {
      "text/html": [
       "<pre>Read 43277620 lines. Lines per second: 2.60735e+06</pre>"
      ],
      "text/plain": [
       "Read 43277620 lines. Lines per second: 2.60735e+06"
      ]
     },
     "metadata": {},
     "output_type": "display_data"
    },
    {
     "data": {
      "text/html": [
       "<pre>Read 56612009 lines. Lines per second: 2.61107e+06</pre>"
      ],
      "text/plain": [
       "Read 56612009 lines. Lines per second: 2.61107e+06"
      ]
     },
     "metadata": {},
     "output_type": "display_data"
    },
    {
     "data": {
      "text/html": [
       "<pre>Read 69955394 lines. Lines per second: 2.62201e+06</pre>"
      ],
      "text/plain": [
       "Read 69955394 lines. Lines per second: 2.62201e+06"
      ]
     },
     "metadata": {},
     "output_type": "display_data"
    },
    {
     "data": {
      "text/html": [
       "<pre>Read 84420841 lines. Lines per second: 2.63247e+06</pre>"
      ],
      "text/plain": [
       "Read 84420841 lines. Lines per second: 2.63247e+06"
      ]
     },
     "metadata": {},
     "output_type": "display_data"
    },
    {
     "data": {
      "text/html": [
       "<pre>Read 97783353 lines. Lines per second: 2.63424e+06</pre>"
      ],
      "text/plain": [
       "Read 97783353 lines. Lines per second: 2.63424e+06"
      ]
     },
     "metadata": {},
     "output_type": "display_data"
    },
    {
     "data": {
      "text/html": [
       "<pre>Read 111155072 lines. Lines per second: 2.63886e+06</pre>"
      ],
      "text/plain": [
       "Read 111155072 lines. Lines per second: 2.63886e+06"
      ]
     },
     "metadata": {},
     "output_type": "display_data"
    },
    {
     "data": {
      "text/html": [
       "<pre>Finished parsing file https://s3-us-west-1.amazonaws.com/physician-referral-graph/physician-shared-patient-patterns-2010-days180_withHeader.csv</pre>"
      ],
      "text/plain": [
       "Finished parsing file https://s3-us-west-1.amazonaws.com/physician-referral-graph/physician-shared-patient-patterns-2010-days180_withHeader.csv"
      ]
     },
     "metadata": {},
     "output_type": "display_data"
    },
    {
     "data": {
      "text/html": [
       "<pre>Parsing completed. Parsed 124844963 lines in 46.879 secs.</pre>"
      ],
      "text/plain": [
       "Parsing completed. Parsed 124844963 lines in 46.879 secs."
      ]
     },
     "metadata": {},
     "output_type": "display_data"
    },
    {
     "data": {
      "text/html": [
       "<pre>Unable to parse line \"D038101571,1124101571,733       ,12        ,21\"</pre>"
      ],
      "text/plain": [
       "Unable to parse line \"D038101571,1124101571,733       ,12        ,21\""
      ]
     },
     "metadata": {},
     "output_type": "display_data"
    },
    {
     "data": {
      "text/html": [
       "<pre>Unable to parse line \"D038114814,1053477075,45        ,17        ,18\"</pre>"
      ],
      "text/plain": [
       "Unable to parse line \"D038114814,1053477075,45        ,17        ,18\""
      ]
     },
     "metadata": {},
     "output_type": "display_data"
    },
    {
     "data": {
      "text/html": [
       "<pre>Unable to parse line \"D038114814,1538114814,30        ,17        ,28\"</pre>"
      ],
      "text/plain": [
       "Unable to parse line \"D038114814,1538114814,30        ,17        ,28\""
      ]
     },
     "metadata": {},
     "output_type": "display_data"
    },
    {
     "data": {
      "text/html": [
       "<pre>Unable to parse line \"D038471110,1053471110,31        ,24        ,30\"</pre>"
      ],
      "text/plain": [
       "Unable to parse line \"D038471110,1053471110,31        ,24        ,30\""
      ]
     },
     "metadata": {},
     "output_type": "display_data"
    },
    {
     "data": {
      "text/html": [
       "<pre>Read 1108807 lines. Lines per second: 1.363e+06</pre>"
      ],
      "text/plain": [
       "Read 1108807 lines. Lines per second: 1.363e+06"
      ]
     },
     "metadata": {},
     "output_type": "display_data"
    },
    {
     "data": {
      "text/html": [
       "<pre>Unable to parse line \"1053477075,D038114814,111       ,14        ,0\"</pre>"
      ],
      "text/plain": [
       "Unable to parse line \"1053477075,D038114814,111       ,14        ,0\""
      ]
     },
     "metadata": {},
     "output_type": "display_data"
    },
    {
     "data": {
      "text/html": [
       "<pre>Unable to parse line \"1053471110,D038471110,29        ,16        ,0\"</pre>"
      ],
      "text/plain": [
       "Unable to parse line \"1053471110,D038471110,29        ,16        ,0\""
      ]
     },
     "metadata": {},
     "output_type": "display_data"
    },
    {
     "data": {
      "text/html": [
       "<pre>Read 15526369 lines. Lines per second: 2.52328e+06</pre>"
      ],
      "text/plain": [
       "Read 15526369 lines. Lines per second: 2.52328e+06"
      ]
     },
     "metadata": {},
     "output_type": "display_data"
    },
    {
     "data": {
      "text/html": [
       "<pre>Unable to parse line \"1124101571,D038101571,361       ,11        ,0\"</pre>"
      ],
      "text/plain": [
       "Unable to parse line \"1124101571,D038101571,361       ,11        ,0\""
      ]
     },
     "metadata": {},
     "output_type": "display_data"
    },
    {
     "data": {
      "text/html": [
       "<pre>Read 29953507 lines. Lines per second: 2.60717e+06</pre>"
      ],
      "text/plain": [
       "Read 29953507 lines. Lines per second: 2.60717e+06"
      ]
     },
     "metadata": {},
     "output_type": "display_data"
    },
    {
     "data": {
      "text/html": [
       "<pre>Read 44390890 lines. Lines per second: 2.64374e+06</pre>"
      ],
      "text/plain": [
       "Read 44390890 lines. Lines per second: 2.64374e+06"
      ]
     },
     "metadata": {},
     "output_type": "display_data"
    },
    {
     "data": {
      "text/html": [
       "<pre>Unable to parse line \"1366543795,D038471110,35        ,15        ,0\"</pre>"
      ],
      "text/plain": [
       "Unable to parse line \"1366543795,D038471110,35        ,15        ,0\""
      ]
     },
     "metadata": {},
     "output_type": "display_data"
    },
    {
     "data": {
      "text/html": [
       "<pre>Unable to parse line \"1407079650,J12749    ,92        ,11        ,0\"</pre>"
      ],
      "text/plain": [
       "Unable to parse line \"1407079650,J12749    ,92        ,11        ,0\""
      ]
     },
     "metadata": {},
     "output_type": "display_data"
    },
    {
     "data": {
      "text/html": [
       "<pre>Read 58837181 lines. Lines per second: 2.66455e+06</pre>"
      ],
      "text/plain": [
       "Read 58837181 lines. Lines per second: 2.66455e+06"
      ]
     },
     "metadata": {},
     "output_type": "display_data"
    },
    {
     "data": {
      "text/html": [
       "<pre>Read 72181109 lines. Lines per second: 2.67673e+06</pre>"
      ],
      "text/plain": [
       "Read 72181109 lines. Lines per second: 2.67673e+06"
      ]
     },
     "metadata": {},
     "output_type": "display_data"
    },
    {
     "data": {
      "text/html": [
       "<pre>Read 86646595 lines. Lines per second: 2.69396e+06</pre>"
      ],
      "text/plain": [
       "Read 86646595 lines. Lines per second: 2.69396e+06"
      ]
     },
     "metadata": {},
     "output_type": "display_data"
    },
    {
     "data": {
      "text/html": [
       "<pre>Unable to parse line \"1730121633,J12749    ,94        ,11        ,0\"</pre>"
      ],
      "text/plain": [
       "Unable to parse line \"1730121633,J12749    ,94        ,11        ,0\""
      ]
     },
     "metadata": {},
     "output_type": "display_data"
    },
    {
     "data": {
      "text/html": [
       "<pre>Read 101122417 lines. Lines per second: 2.69675e+06</pre>"
      ],
      "text/plain": [
       "Read 101122417 lines. Lines per second: 2.69675e+06"
      ]
     },
     "metadata": {},
     "output_type": "display_data"
    },
    {
     "data": {
      "text/html": [
       "<pre>Read 115608458 lines. Lines per second: 2.70283e+06</pre>"
      ],
      "text/plain": [
       "Read 115608458 lines. Lines per second: 2.70283e+06"
      ]
     },
     "metadata": {},
     "output_type": "display_data"
    },
    {
     "data": {
      "text/html": [
       "<pre>10 lines failed to parse correctly</pre>"
      ],
      "text/plain": [
       "10 lines failed to parse correctly"
      ]
     },
     "metadata": {},
     "output_type": "display_data"
    },
    {
     "data": {
      "text/html": [
       "<pre>Finished parsing file https://s3-us-west-1.amazonaws.com/physician-referral-graph/physician-shared-patient-patterns-2011-days180_withHeader.csv</pre>"
      ],
      "text/plain": [
       "Finished parsing file https://s3-us-west-1.amazonaws.com/physician-referral-graph/physician-shared-patient-patterns-2011-days180_withHeader.csv"
      ]
     },
     "metadata": {},
     "output_type": "display_data"
    },
    {
     "data": {
      "text/html": [
       "<pre>Parsing completed. Parsed 129968435 lines in 47.7484 secs.</pre>"
      ],
      "text/plain": [
       "Parsing completed. Parsed 129968435 lines in 47.7484 secs."
      ]
     },
     "metadata": {},
     "output_type": "display_data"
    },
    {
     "data": {
      "text/html": [
       "<pre>Unable to parse line \"D038114814,1053477075,110       ,18        ,20\"</pre>"
      ],
      "text/plain": [
       "Unable to parse line \"D038114814,1053477075,110       ,18        ,20\""
      ]
     },
     "metadata": {},
     "output_type": "display_data"
    },
    {
     "data": {
      "text/html": [
       "<pre>Unable to parse line \"D038114814,1538114814,39        ,18        ,32\"</pre>"
      ],
      "text/plain": [
       "Unable to parse line \"D038114814,1538114814,39        ,18        ,32\""
      ]
     },
     "metadata": {},
     "output_type": "display_data"
    },
    {
     "data": {
      "text/html": [
       "<pre>Unable to parse line \"D038471110,1053471110,57        ,24        ,30\"</pre>"
      ],
      "text/plain": [
       "Unable to parse line \"D038471110,1053471110,57        ,24        ,30\""
      ]
     },
     "metadata": {},
     "output_type": "display_data"
    },
    {
     "data": {
      "text/html": [
       "<pre>Unable to parse line \"D038471110,1225074065,27        ,11        ,2\"</pre>"
      ],
      "text/plain": [
       "Unable to parse line \"D038471110,1225074065,27        ,11        ,2\""
      ]
     },
     "metadata": {},
     "output_type": "display_data"
    },
    {
     "data": {
      "text/html": [
       "<pre>Unable to parse line \"D038471110,1366459570,36        ,11        ,3\"</pre>"
      ],
      "text/plain": [
       "Unable to parse line \"D038471110,1366459570,36        ,11        ,3\""
      ]
     },
     "metadata": {},
     "output_type": "display_data"
    },
    {
     "data": {
      "text/html": [
       "<pre>Unable to parse line \"D038471110,1366543795,52        ,13        ,0\"</pre>"
      ],
      "text/plain": [
       "Unable to parse line \"D038471110,1366543795,52        ,13        ,0\""
      ]
     },
     "metadata": {},
     "output_type": "display_data"
    },
    {
     "data": {
      "text/html": [
       "<pre>Read 1108938 lines. Lines per second: 1.34826e+06</pre>"
      ],
      "text/plain": [
       "Read 1108938 lines. Lines per second: 1.34826e+06"
      ]
     },
     "metadata": {},
     "output_type": "display_data"
    },
    {
     "data": {
      "text/html": [
       "<pre>Unable to parse line \"1053477075,D038114814,98        ,12        ,0\"</pre>"
      ],
      "text/plain": [
       "Unable to parse line \"1053477075,D038114814,98        ,12        ,0\""
      ]
     },
     "metadata": {},
     "output_type": "display_data"
    },
    {
     "data": {
      "text/html": [
       "<pre>Unable to parse line \"1053471110,D038471110,26        ,14        ,0\"</pre>"
      ],
      "text/plain": [
       "Unable to parse line \"1053471110,D038471110,26        ,14        ,0\""
      ]
     },
     "metadata": {},
     "output_type": "display_data"
    },
    {
     "data": {
      "text/html": [
       "<pre>Read 15527961 lines. Lines per second: 2.55937e+06</pre>"
      ],
      "text/plain": [
       "Read 15527961 lines. Lines per second: 2.55937e+06"
      ]
     },
     "metadata": {},
     "output_type": "display_data"
    },
    {
     "data": {
      "text/html": [
       "<pre>Read 28846122 lines. Lines per second: 2.61326e+06</pre>"
      ],
      "text/plain": [
       "Read 28846122 lines. Lines per second: 2.61326e+06"
      ]
     },
     "metadata": {},
     "output_type": "display_data"
    },
    {
     "data": {
      "text/html": [
       "<pre>Read 43283376 lines. Lines per second: 2.66244e+06</pre>"
      ],
      "text/plain": [
       "Read 43283376 lines. Lines per second: 2.66244e+06"
      ]
     },
     "metadata": {},
     "output_type": "display_data"
    },
    {
     "data": {
      "text/html": [
       "<pre>Unable to parse line \"1366543795,D038471110,30        ,15        ,0\"</pre>"
      ],
      "text/plain": [
       "Unable to parse line \"1366543795,D038471110,30        ,15        ,0\""
      ]
     },
     "metadata": {},
     "output_type": "display_data"
    },
    {
     "data": {
      "text/html": [
       "<pre>Read 57729094 lines. Lines per second: 2.68377e+06</pre>"
      ],
      "text/plain": [
       "Read 57729094 lines. Lines per second: 2.68377e+06"
      ]
     },
     "metadata": {},
     "output_type": "display_data"
    },
    {
     "data": {
      "text/html": [
       "<pre>Read 72184471 lines. Lines per second: 2.69253e+06</pre>"
      ],
      "text/plain": [
       "Read 72184471 lines. Lines per second: 2.69253e+06"
      ]
     },
     "metadata": {},
     "output_type": "display_data"
    },
    {
     "data": {
      "text/html": [
       "<pre>Read 85536309 lines. Lines per second: 2.68583e+06</pre>"
      ],
      "text/plain": [
       "Read 85536309 lines. Lines per second: 2.68583e+06"
      ]
     },
     "metadata": {},
     "output_type": "display_data"
    },
    {
     "data": {
      "text/html": [
       "<pre>Read 98896592 lines. Lines per second: 2.68174e+06</pre>"
      ],
      "text/plain": [
       "Read 98896592 lines. Lines per second: 2.68174e+06"
      ]
     },
     "metadata": {},
     "output_type": "display_data"
    },
    {
     "data": {
      "text/html": [
       "<pre>Read 112265121 lines. Lines per second: 2.68068e+06</pre>"
      ],
      "text/plain": [
       "Read 112265121 lines. Lines per second: 2.68068e+06"
      ]
     },
     "metadata": {},
     "output_type": "display_data"
    },
    {
     "data": {
      "text/html": [
       "<pre>Read 126757372 lines. Lines per second: 2.69167e+06</pre>"
      ],
      "text/plain": [
       "Read 126757372 lines. Lines per second: 2.69167e+06"
      ]
     },
     "metadata": {},
     "output_type": "display_data"
    },
    {
     "data": {
      "text/html": [
       "<pre>9 lines failed to parse correctly</pre>"
      ],
      "text/plain": [
       "9 lines failed to parse correctly"
      ]
     },
     "metadata": {},
     "output_type": "display_data"
    },
    {
     "data": {
      "text/html": [
       "<pre>Finished parsing file https://s3-us-west-1.amazonaws.com/physician-referral-graph/physician-shared-patient-patterns-2012-days180_withHeader.csv</pre>"
      ],
      "text/plain": [
       "Finished parsing file https://s3-us-west-1.amazonaws.com/physician-referral-graph/physician-shared-patient-patterns-2012-days180_withHeader.csv"
      ]
     },
     "metadata": {},
     "output_type": "display_data"
    },
    {
     "data": {
      "text/html": [
       "<pre>Parsing completed. Parsed 133042636 lines in 49.0721 secs.</pre>"
      ],
      "text/plain": [
       "Parsing completed. Parsed 133042636 lines in 49.0721 secs."
      ]
     },
     "metadata": {},
     "output_type": "display_data"
    },
    {
     "data": {
      "text/html": [
       "<pre>Unable to parse line \"D338142047,1033142047,651       ,41        ,281\"</pre>"
      ],
      "text/plain": [
       "Unable to parse line \"D338142047,1033142047,651       ,41        ,281\""
      ]
     },
     "metadata": {},
     "output_type": "display_data"
    },
    {
     "data": {
      "text/html": [
       "<pre>Unable to parse line \"D338142047,1043243538,52        ,11        ,3\"</pre>"
      ],
      "text/plain": [
       "Unable to parse line \"D338142047,1043243538,52        ,11        ,3\""
      ]
     },
     "metadata": {},
     "output_type": "display_data"
    },
    {
     "data": {
      "text/html": [
       "<pre>Unable to parse line \"D338142047,1174569909,121       ,21        ,0\"</pre>"
      ],
      "text/plain": [
       "Unable to parse line \"D338142047,1174569909,121       ,21        ,0\""
      ]
     },
     "metadata": {},
     "output_type": "display_data"
    },
    {
     "data": {
      "text/html": [
       "<pre>Unable to parse line \"D338142047,1336139500,33        ,12        ,3\"</pre>"
      ],
      "text/plain": [
       "Unable to parse line \"D338142047,1336139500,33        ,12        ,3\""
      ]
     },
     "metadata": {},
     "output_type": "display_data"
    },
    {
     "data": {
      "text/html": [
       "<pre>Unable to parse line \"D338142047,1578778726,415       ,39        ,35\"</pre>"
      ],
      "text/plain": [
       "Unable to parse line \"D338142047,1578778726,415       ,39        ,35\""
      ]
     },
     "metadata": {},
     "output_type": "display_data"
    },
    {
     "data": {
      "text/html": [
       "<pre>Read 1108967 lines. Lines per second: 1.33863e+06</pre>"
      ],
      "text/plain": [
       "Read 1108967 lines. Lines per second: 1.33863e+06"
      ]
     },
     "metadata": {},
     "output_type": "display_data"
    },
    {
     "data": {
      "text/html": [
       "<pre>Unable to parse line \"1033142047,D338142047,218       ,18        ,0\"</pre>"
      ],
      "text/plain": [
       "Unable to parse line \"1033142047,D338142047,218       ,18        ,0\""
      ]
     },
     "metadata": {},
     "output_type": "display_data"
    },
    {
     "data": {
      "text/html": [
       "<pre>Unable to parse line \"1043243538,D338142047,64        ,12        ,0\"</pre>"
      ],
      "text/plain": [
       "Unable to parse line \"1043243538,D338142047,64        ,12        ,0\""
      ]
     },
     "metadata": {},
     "output_type": "display_data"
    },
    {
     "data": {
      "text/html": [
       "<pre>Read 14418914 lines. Lines per second: 2.50542e+06</pre>"
      ],
      "text/plain": [
       "Read 14418914 lines. Lines per second: 2.50542e+06"
      ]
     },
     "metadata": {},
     "output_type": "display_data"
    },
    {
     "data": {
      "text/html": [
       "<pre>Unable to parse line \"1174569909,D338142047,155       ,24        ,0\"</pre>"
      ],
      "text/plain": [
       "Unable to parse line \"1174569909,D338142047,155       ,24        ,0\""
      ]
     },
     "metadata": {},
     "output_type": "display_data"
    },
    {
     "data": {
      "text/html": [
       "<pre>Read 27736618 lines. Lines per second: 2.57951e+06</pre>"
      ],
      "text/plain": [
       "Read 27736618 lines. Lines per second: 2.57951e+06"
      ]
     },
     "metadata": {},
     "output_type": "display_data"
    },
    {
     "data": {
      "text/html": [
       "<pre>Read 42173015 lines. Lines per second: 2.62098e+06</pre>"
      ],
      "text/plain": [
       "Read 42173015 lines. Lines per second: 2.62098e+06"
      ]
     },
     "metadata": {},
     "output_type": "display_data"
    },
    {
     "data": {
      "text/html": [
       "<pre>Unable to parse line \"1336139500,D338142047,86        ,21        ,0\"</pre>"
      ],
      "text/plain": [
       "Unable to parse line \"1336139500,D338142047,86        ,21        ,0\""
      ]
     },
     "metadata": {},
     "output_type": "display_data"
    },
    {
     "data": {
      "text/html": [
       "<pre>Read 56617717 lines. Lines per second: 2.63895e+06</pre>"
      ],
      "text/plain": [
       "Read 56617717 lines. Lines per second: 2.63895e+06"
      ]
     },
     "metadata": {},
     "output_type": "display_data"
    },
    {
     "data": {
      "text/html": [
       "<pre>Read 69959917 lines. Lines per second: 2.65072e+06</pre>"
      ],
      "text/plain": [
       "Read 69959917 lines. Lines per second: 2.65072e+06"
      ]
     },
     "metadata": {},
     "output_type": "display_data"
    },
    {
     "data": {
      "text/html": [
       "<pre>Unable to parse line \"1578778726,D338142047,218       ,35        ,0\"</pre>"
      ],
      "text/plain": [
       "Unable to parse line \"1578778726,D338142047,218       ,35        ,0\""
      ]
     },
     "metadata": {},
     "output_type": "display_data"
    },
    {
     "data": {
      "text/html": [
       "<pre>Read 84422700 lines. Lines per second: 2.66295e+06</pre>"
      ],
      "text/plain": [
       "Read 84422700 lines. Lines per second: 2.66295e+06"
      ]
     },
     "metadata": {},
     "output_type": "display_data"
    },
    {
     "data": {
      "text/html": [
       "<pre>Read 98895126 lines. Lines per second: 2.66898e+06</pre>"
      ],
      "text/plain": [
       "Read 98895126 lines. Lines per second: 2.66898e+06"
      ]
     },
     "metadata": {},
     "output_type": "display_data"
    },
    {
     "data": {
      "text/html": [
       "<pre>Read 113377062 lines. Lines per second: 2.68149e+06</pre>"
      ],
      "text/plain": [
       "Read 113377062 lines. Lines per second: 2.68149e+06"
      ]
     },
     "metadata": {},
     "output_type": "display_data"
    },
    {
     "data": {
      "text/html": [
       "<pre>Read 126753738 lines. Lines per second: 2.68494e+06</pre>"
      ],
      "text/plain": [
       "Read 126753738 lines. Lines per second: 2.68494e+06"
      ]
     },
     "metadata": {},
     "output_type": "display_data"
    },
    {
     "data": {
      "text/html": [
       "<pre>11 lines failed to parse correctly</pre>"
      ],
      "text/plain": [
       "11 lines failed to parse correctly"
      ]
     },
     "metadata": {},
     "output_type": "display_data"
    },
    {
     "data": {
      "text/html": [
       "<pre>Finished parsing file https://s3-us-west-1.amazonaws.com/physician-referral-graph/physician-shared-patient-patterns-2013-days180_withHeader.csv</pre>"
      ],
      "text/plain": [
       "Finished parsing file https://s3-us-west-1.amazonaws.com/physician-referral-graph/physician-shared-patient-patterns-2013-days180_withHeader.csv"
      ]
     },
     "metadata": {},
     "output_type": "display_data"
    },
    {
     "data": {
      "text/html": [
       "<pre>Parsing completed. Parsed 135071985 lines in 49.9687 secs.</pre>"
      ],
      "text/plain": [
       "Parsing completed. Parsed 135071985 lines in 49.9687 secs."
      ]
     },
     "metadata": {},
     "output_type": "display_data"
    },
    {
     "data": {
      "text/html": [
       "<pre>Read 1109095 lines. Lines per second: 1.33482e+06</pre>"
      ],
      "text/plain": [
       "Read 1109095 lines. Lines per second: 1.33482e+06"
      ]
     },
     "metadata": {},
     "output_type": "display_data"
    },
    {
     "data": {
      "text/html": [
       "<pre>Read 14420424 lines. Lines per second: 2.44641e+06</pre>"
      ],
      "text/plain": [
       "Read 14420424 lines. Lines per second: 2.44641e+06"
      ]
     },
     "metadata": {},
     "output_type": "display_data"
    },
    {
     "data": {
      "text/html": [
       "<pre>Read 27739150 lines. Lines per second: 2.52009e+06</pre>"
      ],
      "text/plain": [
       "Read 27739150 lines. Lines per second: 2.52009e+06"
      ]
     },
     "metadata": {},
     "output_type": "display_data"
    },
    {
     "data": {
      "text/html": [
       "<pre>Read 41065529 lines. Lines per second: 2.53239e+06</pre>"
      ],
      "text/plain": [
       "Read 41065529 lines. Lines per second: 2.53239e+06"
      ]
     },
     "metadata": {},
     "output_type": "display_data"
    },
    {
     "data": {
      "text/html": [
       "<pre>Read 54398345 lines. Lines per second: 2.56164e+06</pre>"
      ],
      "text/plain": [
       "Read 54398345 lines. Lines per second: 2.56164e+06"
      ]
     },
     "metadata": {},
     "output_type": "display_data"
    },
    {
     "data": {
      "text/html": [
       "<pre>Read 67739006 lines. Lines per second: 2.58058e+06</pre>"
      ],
      "text/plain": [
       "Read 67739006 lines. Lines per second: 2.58058e+06"
      ]
     },
     "metadata": {},
     "output_type": "display_data"
    },
    {
     "data": {
      "text/html": [
       "<pre>Read 81087275 lines. Lines per second: 2.58678e+06</pre>"
      ],
      "text/plain": [
       "Read 81087275 lines. Lines per second: 2.58678e+06"
      ]
     },
     "metadata": {},
     "output_type": "display_data"
    },
    {
     "data": {
      "text/html": [
       "<pre>Read 94443294 lines. Lines per second: 2.59841e+06</pre>"
      ],
      "text/plain": [
       "Read 94443294 lines. Lines per second: 2.59841e+06"
      ]
     },
     "metadata": {},
     "output_type": "display_data"
    },
    {
     "data": {
      "text/html": [
       "<pre>Read 107807174 lines. Lines per second: 2.60826e+06</pre>"
      ],
      "text/plain": [
       "Read 107807174 lines. Lines per second: 2.60826e+06"
      ]
     },
     "metadata": {},
     "output_type": "display_data"
    },
    {
     "data": {
      "text/html": [
       "<pre>Read 122293389 lines. Lines per second: 2.61843e+06</pre>"
      ],
      "text/plain": [
       "Read 122293389 lines. Lines per second: 2.61843e+06"
      ]
     },
     "metadata": {},
     "output_type": "display_data"
    },
    {
     "data": {
      "text/html": [
       "<pre>Read 136789076 lines. Lines per second: 2.62989e+06</pre>"
      ],
      "text/plain": [
       "Read 136789076 lines. Lines per second: 2.62989e+06"
      ]
     },
     "metadata": {},
     "output_type": "display_data"
    },
    {
     "data": {
      "text/html": [
       "<pre>Finished parsing file https://s3-us-west-1.amazonaws.com/physician-referral-graph/physician-shared-patient-patterns-2014-days180_withHeader.csv</pre>"
      ],
      "text/plain": [
       "Finished parsing file https://s3-us-west-1.amazonaws.com/physician-referral-graph/physician-shared-patient-patterns-2014-days180_withHeader.csv"
      ]
     },
     "metadata": {},
     "output_type": "display_data"
    },
    {
     "data": {
      "text/html": [
       "<pre>Parsing completed. Parsed 138614191 lines in 52.357 secs.</pre>"
      ],
      "text/plain": [
       "Parsing completed. Parsed 138614191 lines in 52.357 secs."
      ]
     },
     "metadata": {},
     "output_type": "display_data"
    },
    {
     "data": {
      "text/html": [
       "<pre>Read 1108247 lines. Lines per second: 1.39732e+06</pre>"
      ],
      "text/plain": [
       "Read 1108247 lines. Lines per second: 1.39732e+06"
      ]
     },
     "metadata": {},
     "output_type": "display_data"
    },
    {
     "data": {
      "text/html": [
       "<pre>Read 14415737 lines. Lines per second: 2.49564e+06</pre>"
      ],
      "text/plain": [
       "Read 14415737 lines. Lines per second: 2.49564e+06"
      ]
     },
     "metadata": {},
     "output_type": "display_data"
    },
    {
     "data": {
      "text/html": [
       "<pre>Read 27740100 lines. Lines per second: 2.57665e+06</pre>"
      ],
      "text/plain": [
       "Read 27740100 lines. Lines per second: 2.57665e+06"
      ]
     },
     "metadata": {},
     "output_type": "display_data"
    },
    {
     "data": {
      "text/html": [
       "<pre>Read 42194315 lines. Lines per second: 2.64047e+06</pre>"
      ],
      "text/plain": [
       "Read 42194315 lines. Lines per second: 2.64047e+06"
      ]
     },
     "metadata": {},
     "output_type": "display_data"
    },
    {
     "data": {
      "text/html": [
       "<pre>Read 55556077 lines. Lines per second: 2.64631e+06</pre>"
      ],
      "text/plain": [
       "Read 55556077 lines. Lines per second: 2.64631e+06"
      ]
     },
     "metadata": {},
     "output_type": "display_data"
    },
    {
     "data": {
      "text/html": [
       "<pre>Finished parsing file https://s3-us-west-1.amazonaws.com/physician-referral-graph/physician-shared-patient-patterns-2015-days180_withHeader.csv</pre>"
      ],
      "text/plain": [
       "Finished parsing file https://s3-us-west-1.amazonaws.com/physician-referral-graph/physician-shared-patient-patterns-2015-days180_withHeader.csv"
      ]
     },
     "metadata": {},
     "output_type": "display_data"
    },
    {
     "data": {
      "text/html": [
       "<pre>Parsing completed. Parsed 65739582 lines in 24.5259 secs.</pre>"
      ],
      "text/plain": [
       "Parsing completed. Parsed 65739582 lines in 24.5259 secs."
      ]
     },
     "metadata": {},
     "output_type": "display_data"
    }
   ],
   "source": [
    "combined_sf = combine_datasets(datasets)"
   ]
  },
  {
   "cell_type": "code",
   "execution_count": 36,
   "metadata": {},
   "outputs": [],
   "source": [
    "cols = combined_sf.column_names()\n",
    "for idx in range(2, len(cols)):\n",
    "    combined_sf = combined_sf.fillna(cols[idx], 0.0)"
   ]
  },
  {
   "cell_type": "code",
   "execution_count": 41,
   "metadata": {},
   "outputs": [],
   "source": [
    "combined_sf.save('../data/physician-shared-patient-patterns-unique-beneficiaries-2009-2015')"
   ]
  },
  {
   "cell_type": "code",
   "execution_count": 44,
   "metadata": {
    "collapsed": true
   },
   "outputs": [
    {
     "data": {
      "text/html": [
       "<div style=\"max-height:1000px;max-width:1500px;overflow:auto;\"><table frame=\"box\" rules=\"cols\">\n",
       "    <tr>\n",
       "        <th style=\"padding-left: 1em; padding-right: 1em; text-align: center\">Initial Physician NPI</th>\n",
       "        <th style=\"padding-left: 1em; padding-right: 1em; text-align: center\">Secondary Physician NPI</th>\n",
       "        <th style=\"padding-left: 1em; padding-right: 1em; text-align: center\">2009</th>\n",
       "        <th style=\"padding-left: 1em; padding-right: 1em; text-align: center\">2010</th>\n",
       "        <th style=\"padding-left: 1em; padding-right: 1em; text-align: center\">2011</th>\n",
       "        <th style=\"padding-left: 1em; padding-right: 1em; text-align: center\">2012</th>\n",
       "        <th style=\"padding-left: 1em; padding-right: 1em; text-align: center\">2013</th>\n",
       "        <th style=\"padding-left: 1em; padding-right: 1em; text-align: center\">2014</th>\n",
       "        <th style=\"padding-left: 1em; padding-right: 1em; text-align: center\">2015</th>\n",
       "    </tr>\n",
       "    <tr>\n",
       "        <td style=\"padding-left: 1em; padding-right: 1em; text-align: center; vertical-align: top\">1841205325</td>\n",
       "        <td style=\"padding-left: 1em; padding-right: 1em; text-align: center; vertical-align: top\">1881656536</td>\n",
       "        <td style=\"padding-left: 1em; padding-right: 1em; text-align: center; vertical-align: top\">18.0</td>\n",
       "        <td style=\"padding-left: 1em; padding-right: 1em; text-align: center; vertical-align: top\">0.0</td>\n",
       "        <td style=\"padding-left: 1em; padding-right: 1em; text-align: center; vertical-align: top\">0.0</td>\n",
       "        <td style=\"padding-left: 1em; padding-right: 1em; text-align: center; vertical-align: top\">0.0</td>\n",
       "        <td style=\"padding-left: 1em; padding-right: 1em; text-align: center; vertical-align: top\">0.0</td>\n",
       "        <td style=\"padding-left: 1em; padding-right: 1em; text-align: center; vertical-align: top\">0.0</td>\n",
       "        <td style=\"padding-left: 1em; padding-right: 1em; text-align: center; vertical-align: top\">0.0</td>\n",
       "    </tr>\n",
       "    <tr>\n",
       "        <td style=\"padding-left: 1em; padding-right: 1em; text-align: center; vertical-align: top\">1982790325</td>\n",
       "        <td style=\"padding-left: 1em; padding-right: 1em; text-align: center; vertical-align: top\">1992703540</td>\n",
       "        <td style=\"padding-left: 1em; padding-right: 1em; text-align: center; vertical-align: top\">1152.0</td>\n",
       "        <td style=\"padding-left: 1em; padding-right: 1em; text-align: center; vertical-align: top\">0.0</td>\n",
       "        <td style=\"padding-left: 1em; padding-right: 1em; text-align: center; vertical-align: top\">0.0</td>\n",
       "        <td style=\"padding-left: 1em; padding-right: 1em; text-align: center; vertical-align: top\">0.0</td>\n",
       "        <td style=\"padding-left: 1em; padding-right: 1em; text-align: center; vertical-align: top\">0.0</td>\n",
       "        <td style=\"padding-left: 1em; padding-right: 1em; text-align: center; vertical-align: top\">0.0</td>\n",
       "        <td style=\"padding-left: 1em; padding-right: 1em; text-align: center; vertical-align: top\">0.0</td>\n",
       "    </tr>\n",
       "    <tr>\n",
       "        <td style=\"padding-left: 1em; padding-right: 1em; text-align: center; vertical-align: top\">1841205283</td>\n",
       "        <td style=\"padding-left: 1em; padding-right: 1em; text-align: center; vertical-align: top\">1518076280</td>\n",
       "        <td style=\"padding-left: 1em; padding-right: 1em; text-align: center; vertical-align: top\">12.0</td>\n",
       "        <td style=\"padding-left: 1em; padding-right: 1em; text-align: center; vertical-align: top\">0.0</td>\n",
       "        <td style=\"padding-left: 1em; padding-right: 1em; text-align: center; vertical-align: top\">0.0</td>\n",
       "        <td style=\"padding-left: 1em; padding-right: 1em; text-align: center; vertical-align: top\">0.0</td>\n",
       "        <td style=\"padding-left: 1em; padding-right: 1em; text-align: center; vertical-align: top\">0.0</td>\n",
       "        <td style=\"padding-left: 1em; padding-right: 1em; text-align: center; vertical-align: top\">0.0</td>\n",
       "        <td style=\"padding-left: 1em; padding-right: 1em; text-align: center; vertical-align: top\">0.0</td>\n",
       "    </tr>\n",
       "    <tr>\n",
       "        <td style=\"padding-left: 1em; padding-right: 1em; text-align: center; vertical-align: top\">1841205283</td>\n",
       "        <td style=\"padding-left: 1em; padding-right: 1em; text-align: center; vertical-align: top\">1225175714</td>\n",
       "        <td style=\"padding-left: 1em; padding-right: 1em; text-align: center; vertical-align: top\">11.0</td>\n",
       "        <td style=\"padding-left: 1em; padding-right: 1em; text-align: center; vertical-align: top\">0.0</td>\n",
       "        <td style=\"padding-left: 1em; padding-right: 1em; text-align: center; vertical-align: top\">0.0</td>\n",
       "        <td style=\"padding-left: 1em; padding-right: 1em; text-align: center; vertical-align: top\">12.0</td>\n",
       "        <td style=\"padding-left: 1em; padding-right: 1em; text-align: center; vertical-align: top\">13.0</td>\n",
       "        <td style=\"padding-left: 1em; padding-right: 1em; text-align: center; vertical-align: top\">0.0</td>\n",
       "        <td style=\"padding-left: 1em; padding-right: 1em; text-align: center; vertical-align: top\">0.0</td>\n",
       "    </tr>\n",
       "    <tr>\n",
       "        <td style=\"padding-left: 1em; padding-right: 1em; text-align: center; vertical-align: top\">1841205275</td>\n",
       "        <td style=\"padding-left: 1em; padding-right: 1em; text-align: center; vertical-align: top\">1699717124</td>\n",
       "        <td style=\"padding-left: 1em; padding-right: 1em; text-align: center; vertical-align: top\">17.0</td>\n",
       "        <td style=\"padding-left: 1em; padding-right: 1em; text-align: center; vertical-align: top\">0.0</td>\n",
       "        <td style=\"padding-left: 1em; padding-right: 1em; text-align: center; vertical-align: top\">26.0</td>\n",
       "        <td style=\"padding-left: 1em; padding-right: 1em; text-align: center; vertical-align: top\">23.0</td>\n",
       "        <td style=\"padding-left: 1em; padding-right: 1em; text-align: center; vertical-align: top\">76.0</td>\n",
       "        <td style=\"padding-left: 1em; padding-right: 1em; text-align: center; vertical-align: top\">36.0</td>\n",
       "        <td style=\"padding-left: 1em; padding-right: 1em; text-align: center; vertical-align: top\">0.0</td>\n",
       "    </tr>\n",
       "    <tr>\n",
       "        <td style=\"padding-left: 1em; padding-right: 1em; text-align: center; vertical-align: top\">1841205275</td>\n",
       "        <td style=\"padding-left: 1em; padding-right: 1em; text-align: center; vertical-align: top\">1689641433</td>\n",
       "        <td style=\"padding-left: 1em; padding-right: 1em; text-align: center; vertical-align: top\">13.0</td>\n",
       "        <td style=\"padding-left: 1em; padding-right: 1em; text-align: center; vertical-align: top\">0.0</td>\n",
       "        <td style=\"padding-left: 1em; padding-right: 1em; text-align: center; vertical-align: top\">0.0</td>\n",
       "        <td style=\"padding-left: 1em; padding-right: 1em; text-align: center; vertical-align: top\">0.0</td>\n",
       "        <td style=\"padding-left: 1em; padding-right: 1em; text-align: center; vertical-align: top\">0.0</td>\n",
       "        <td style=\"padding-left: 1em; padding-right: 1em; text-align: center; vertical-align: top\">0.0</td>\n",
       "        <td style=\"padding-left: 1em; padding-right: 1em; text-align: center; vertical-align: top\">0.0</td>\n",
       "    </tr>\n",
       "    <tr>\n",
       "        <td style=\"padding-left: 1em; padding-right: 1em; text-align: center; vertical-align: top\">1437187473</td>\n",
       "        <td style=\"padding-left: 1em; padding-right: 1em; text-align: center; vertical-align: top\">1588702872</td>\n",
       "        <td style=\"padding-left: 1em; padding-right: 1em; text-align: center; vertical-align: top\">52.0</td>\n",
       "        <td style=\"padding-left: 1em; padding-right: 1em; text-align: center; vertical-align: top\">0.0</td>\n",
       "        <td style=\"padding-left: 1em; padding-right: 1em; text-align: center; vertical-align: top\">0.0</td>\n",
       "        <td style=\"padding-left: 1em; padding-right: 1em; text-align: center; vertical-align: top\">0.0</td>\n",
       "        <td style=\"padding-left: 1em; padding-right: 1em; text-align: center; vertical-align: top\">0.0</td>\n",
       "        <td style=\"padding-left: 1em; padding-right: 1em; text-align: center; vertical-align: top\">0.0</td>\n",
       "        <td style=\"padding-left: 1em; padding-right: 1em; text-align: center; vertical-align: top\">0.0</td>\n",
       "    </tr>\n",
       "    <tr>\n",
       "        <td style=\"padding-left: 1em; padding-right: 1em; text-align: center; vertical-align: top\">1538184569</td>\n",
       "        <td style=\"padding-left: 1em; padding-right: 1em; text-align: center; vertical-align: top\">1669443495</td>\n",
       "        <td style=\"padding-left: 1em; padding-right: 1em; text-align: center; vertical-align: top\">50.0</td>\n",
       "        <td style=\"padding-left: 1em; padding-right: 1em; text-align: center; vertical-align: top\">0.0</td>\n",
       "        <td style=\"padding-left: 1em; padding-right: 1em; text-align: center; vertical-align: top\">0.0</td>\n",
       "        <td style=\"padding-left: 1em; padding-right: 1em; text-align: center; vertical-align: top\">0.0</td>\n",
       "        <td style=\"padding-left: 1em; padding-right: 1em; text-align: center; vertical-align: top\">0.0</td>\n",
       "        <td style=\"padding-left: 1em; padding-right: 1em; text-align: center; vertical-align: top\">0.0</td>\n",
       "        <td style=\"padding-left: 1em; padding-right: 1em; text-align: center; vertical-align: top\">0.0</td>\n",
       "    </tr>\n",
       "    <tr>\n",
       "        <td style=\"padding-left: 1em; padding-right: 1em; text-align: center; vertical-align: top\">1841205275</td>\n",
       "        <td style=\"padding-left: 1em; padding-right: 1em; text-align: center; vertical-align: top\">1336134360</td>\n",
       "        <td style=\"padding-left: 1em; padding-right: 1em; text-align: center; vertical-align: top\">14.0</td>\n",
       "        <td style=\"padding-left: 1em; padding-right: 1em; text-align: center; vertical-align: top\">0.0</td>\n",
       "        <td style=\"padding-left: 1em; padding-right: 1em; text-align: center; vertical-align: top\">0.0</td>\n",
       "        <td style=\"padding-left: 1em; padding-right: 1em; text-align: center; vertical-align: top\">0.0</td>\n",
       "        <td style=\"padding-left: 1em; padding-right: 1em; text-align: center; vertical-align: top\">0.0</td>\n",
       "        <td style=\"padding-left: 1em; padding-right: 1em; text-align: center; vertical-align: top\">0.0</td>\n",
       "        <td style=\"padding-left: 1em; padding-right: 1em; text-align: center; vertical-align: top\">0.0</td>\n",
       "    </tr>\n",
       "    <tr>\n",
       "        <td style=\"padding-left: 1em; padding-right: 1em; text-align: center; vertical-align: top\">1841205275</td>\n",
       "        <td style=\"padding-left: 1em; padding-right: 1em; text-align: center; vertical-align: top\">1225038441</td>\n",
       "        <td style=\"padding-left: 1em; padding-right: 1em; text-align: center; vertical-align: top\">15.0</td>\n",
       "        <td style=\"padding-left: 1em; padding-right: 1em; text-align: center; vertical-align: top\">0.0</td>\n",
       "        <td style=\"padding-left: 1em; padding-right: 1em; text-align: center; vertical-align: top\">0.0</td>\n",
       "        <td style=\"padding-left: 1em; padding-right: 1em; text-align: center; vertical-align: top\">0.0</td>\n",
       "        <td style=\"padding-left: 1em; padding-right: 1em; text-align: center; vertical-align: top\">12.0</td>\n",
       "        <td style=\"padding-left: 1em; padding-right: 1em; text-align: center; vertical-align: top\">18.0</td>\n",
       "        <td style=\"padding-left: 1em; padding-right: 1em; text-align: center; vertical-align: top\">0.0</td>\n",
       "    </tr>\n",
       "</table>\n",
       "[277806970 rows x 9 columns]<br/>Note: Only the head of the SFrame is printed.<br/>You can use print_rows(num_rows=m, num_columns=n) to print more rows and columns.\n",
       "</div>"
      ],
      "text/plain": [
       "Columns:\n",
       "\tInitial Physician NPI\tint\n",
       "\tSecondary Physician NPI\tint\n",
       "\t2009\tfloat\n",
       "\t2010\tfloat\n",
       "\t2011\tfloat\n",
       "\t2012\tfloat\n",
       "\t2013\tfloat\n",
       "\t2014\tfloat\n",
       "\t2015\tfloat\n",
       "\n",
       "Rows: 277806970\n",
       "\n",
       "Data:\n",
       "+-----------------------+-------------------------+--------+------+------+------+\n",
       "| Initial Physician NPI | Secondary Physician NPI |  2009  | 2010 | 2011 | 2012 |\n",
       "+-----------------------+-------------------------+--------+------+------+------+\n",
       "|       1841205325      |        1881656536       |  18.0  | 0.0  | 0.0  | 0.0  |\n",
       "|       1982790325      |        1992703540       | 1152.0 | 0.0  | 0.0  | 0.0  |\n",
       "|       1841205283      |        1518076280       |  12.0  | 0.0  | 0.0  | 0.0  |\n",
       "|       1841205283      |        1225175714       |  11.0  | 0.0  | 0.0  | 12.0 |\n",
       "|       1841205275      |        1699717124       |  17.0  | 0.0  | 26.0 | 23.0 |\n",
       "|       1841205275      |        1689641433       |  13.0  | 0.0  | 0.0  | 0.0  |\n",
       "|       1437187473      |        1588702872       |  52.0  | 0.0  | 0.0  | 0.0  |\n",
       "|       1538184569      |        1669443495       |  50.0  | 0.0  | 0.0  | 0.0  |\n",
       "|       1841205275      |        1336134360       |  14.0  | 0.0  | 0.0  | 0.0  |\n",
       "|       1841205275      |        1225038441       |  15.0  | 0.0  | 0.0  | 0.0  |\n",
       "+-----------------------+-------------------------+--------+------+------+------+\n",
       "+------+------+------+\n",
       "| 2013 | 2014 | 2015 |\n",
       "+------+------+------+\n",
       "| 0.0  | 0.0  | 0.0  |\n",
       "| 0.0  | 0.0  | 0.0  |\n",
       "| 0.0  | 0.0  | 0.0  |\n",
       "| 13.0 | 0.0  | 0.0  |\n",
       "| 76.0 | 36.0 | 0.0  |\n",
       "| 0.0  | 0.0  | 0.0  |\n",
       "| 0.0  | 0.0  | 0.0  |\n",
       "| 0.0  | 0.0  | 0.0  |\n",
       "| 0.0  | 0.0  | 0.0  |\n",
       "| 12.0 | 18.0 | 0.0  |\n",
       "+------+------+------+\n",
       "[277806970 rows x 9 columns]\n",
       "Note: Only the head of the SFrame is printed.\n",
       "You can use print_rows(num_rows=m, num_columns=n) to print more rows and columns."
      ]
     },
     "execution_count": 44,
     "metadata": {},
     "output_type": "execute_result"
    }
   ],
   "source": [
    "combined_sf"
   ]
  },
  {
   "cell_type": "code",
   "execution_count": 58,
   "metadata": {},
   "outputs": [],
   "source": [
    "sum_col = combined_sf['2009']\n",
    "for idx in range(3, len(cols)):\n",
    "    col = cols[idx]\n",
    "    sum_col += combined_sf[col]"
   ]
  },
  {
   "cell_type": "code",
   "execution_count": 60,
   "metadata": {},
   "outputs": [],
   "source": [
    "average_col = sum_col / (len(cols) - 2)"
   ]
  },
  {
   "cell_type": "code",
   "execution_count": 63,
   "metadata": {},
   "outputs": [],
   "source": [
    "edges_sf = gl.SFrame(combined_sf)"
   ]
  },
  {
   "cell_type": "code",
   "execution_count": 67,
   "metadata": {
    "collapsed": true
   },
   "outputs": [
    {
     "data": {
      "text/html": [
       "<div style=\"max-height:1000px;max-width:1500px;overflow:auto;\"><table frame=\"box\" rules=\"cols\">\n",
       "    <tr>\n",
       "        <th style=\"padding-left: 1em; padding-right: 1em; text-align: center\">Initial Physician NPI</th>\n",
       "        <th style=\"padding-left: 1em; padding-right: 1em; text-align: center\">Secondary Physician NPI</th>\n",
       "    </tr>\n",
       "    <tr>\n",
       "        <td style=\"padding-left: 1em; padding-right: 1em; text-align: center; vertical-align: top\">1841205325</td>\n",
       "        <td style=\"padding-left: 1em; padding-right: 1em; text-align: center; vertical-align: top\">1881656536</td>\n",
       "    </tr>\n",
       "    <tr>\n",
       "        <td style=\"padding-left: 1em; padding-right: 1em; text-align: center; vertical-align: top\">1982790325</td>\n",
       "        <td style=\"padding-left: 1em; padding-right: 1em; text-align: center; vertical-align: top\">1992703540</td>\n",
       "    </tr>\n",
       "    <tr>\n",
       "        <td style=\"padding-left: 1em; padding-right: 1em; text-align: center; vertical-align: top\">1841205283</td>\n",
       "        <td style=\"padding-left: 1em; padding-right: 1em; text-align: center; vertical-align: top\">1518076280</td>\n",
       "    </tr>\n",
       "    <tr>\n",
       "        <td style=\"padding-left: 1em; padding-right: 1em; text-align: center; vertical-align: top\">1841205283</td>\n",
       "        <td style=\"padding-left: 1em; padding-right: 1em; text-align: center; vertical-align: top\">1225175714</td>\n",
       "    </tr>\n",
       "    <tr>\n",
       "        <td style=\"padding-left: 1em; padding-right: 1em; text-align: center; vertical-align: top\">1841205275</td>\n",
       "        <td style=\"padding-left: 1em; padding-right: 1em; text-align: center; vertical-align: top\">1699717124</td>\n",
       "    </tr>\n",
       "    <tr>\n",
       "        <td style=\"padding-left: 1em; padding-right: 1em; text-align: center; vertical-align: top\">1841205275</td>\n",
       "        <td style=\"padding-left: 1em; padding-right: 1em; text-align: center; vertical-align: top\">1689641433</td>\n",
       "    </tr>\n",
       "    <tr>\n",
       "        <td style=\"padding-left: 1em; padding-right: 1em; text-align: center; vertical-align: top\">1437187473</td>\n",
       "        <td style=\"padding-left: 1em; padding-right: 1em; text-align: center; vertical-align: top\">1588702872</td>\n",
       "    </tr>\n",
       "    <tr>\n",
       "        <td style=\"padding-left: 1em; padding-right: 1em; text-align: center; vertical-align: top\">1538184569</td>\n",
       "        <td style=\"padding-left: 1em; padding-right: 1em; text-align: center; vertical-align: top\">1669443495</td>\n",
       "    </tr>\n",
       "    <tr>\n",
       "        <td style=\"padding-left: 1em; padding-right: 1em; text-align: center; vertical-align: top\">1841205275</td>\n",
       "        <td style=\"padding-left: 1em; padding-right: 1em; text-align: center; vertical-align: top\">1336134360</td>\n",
       "    </tr>\n",
       "    <tr>\n",
       "        <td style=\"padding-left: 1em; padding-right: 1em; text-align: center; vertical-align: top\">1841205275</td>\n",
       "        <td style=\"padding-left: 1em; padding-right: 1em; text-align: center; vertical-align: top\">1225038441</td>\n",
       "    </tr>\n",
       "</table>\n",
       "[277806970 rows x 2 columns]<br/>Note: Only the head of the SFrame is printed.<br/>You can use print_rows(num_rows=m, num_columns=n) to print more rows and columns.\n",
       "</div>"
      ],
      "text/plain": [
       "Columns:\n",
       "\tInitial Physician NPI\tint\n",
       "\tSecondary Physician NPI\tint\n",
       "\n",
       "Rows: 277806970\n",
       "\n",
       "Data:\n",
       "+-----------------------+-------------------------+\n",
       "| Initial Physician NPI | Secondary Physician NPI |\n",
       "+-----------------------+-------------------------+\n",
       "|       1841205325      |        1881656536       |\n",
       "|       1982790325      |        1992703540       |\n",
       "|       1841205283      |        1518076280       |\n",
       "|       1841205283      |        1225175714       |\n",
       "|       1841205275      |        1699717124       |\n",
       "|       1841205275      |        1689641433       |\n",
       "|       1437187473      |        1588702872       |\n",
       "|       1538184569      |        1669443495       |\n",
       "|       1841205275      |        1336134360       |\n",
       "|       1841205275      |        1225038441       |\n",
       "+-----------------------+-------------------------+\n",
       "[277806970 rows x 2 columns]\n",
       "Note: Only the head of the SFrame is printed.\n",
       "You can use print_rows(num_rows=m, num_columns=n) to print more rows and columns."
      ]
     },
     "execution_count": 67,
     "metadata": {},
     "output_type": "execute_result"
    }
   ],
   "source": [
    "edges_sf.remove_columns(cols[2:])"
   ]
  },
  {
   "cell_type": "code",
   "execution_count": 68,
   "metadata": {
    "collapsed": true
   },
   "outputs": [
    {
     "data": {
      "text/html": [
       "<div style=\"max-height:1000px;max-width:1500px;overflow:auto;\"><table frame=\"box\" rules=\"cols\">\n",
       "    <tr>\n",
       "        <th style=\"padding-left: 1em; padding-right: 1em; text-align: center\">Initial Physician NPI</th>\n",
       "        <th style=\"padding-left: 1em; padding-right: 1em; text-align: center\">Secondary Physician NPI</th>\n",
       "        <th style=\"padding-left: 1em; padding-right: 1em; text-align: center\">Referrals</th>\n",
       "    </tr>\n",
       "    <tr>\n",
       "        <td style=\"padding-left: 1em; padding-right: 1em; text-align: center; vertical-align: top\">1841205325</td>\n",
       "        <td style=\"padding-left: 1em; padding-right: 1em; text-align: center; vertical-align: top\">1881656536</td>\n",
       "        <td style=\"padding-left: 1em; padding-right: 1em; text-align: center; vertical-align: top\">2.57142857143</td>\n",
       "    </tr>\n",
       "    <tr>\n",
       "        <td style=\"padding-left: 1em; padding-right: 1em; text-align: center; vertical-align: top\">1982790325</td>\n",
       "        <td style=\"padding-left: 1em; padding-right: 1em; text-align: center; vertical-align: top\">1992703540</td>\n",
       "        <td style=\"padding-left: 1em; padding-right: 1em; text-align: center; vertical-align: top\">164.571428571</td>\n",
       "    </tr>\n",
       "    <tr>\n",
       "        <td style=\"padding-left: 1em; padding-right: 1em; text-align: center; vertical-align: top\">1841205283</td>\n",
       "        <td style=\"padding-left: 1em; padding-right: 1em; text-align: center; vertical-align: top\">1518076280</td>\n",
       "        <td style=\"padding-left: 1em; padding-right: 1em; text-align: center; vertical-align: top\">1.71428571429</td>\n",
       "    </tr>\n",
       "    <tr>\n",
       "        <td style=\"padding-left: 1em; padding-right: 1em; text-align: center; vertical-align: top\">1841205283</td>\n",
       "        <td style=\"padding-left: 1em; padding-right: 1em; text-align: center; vertical-align: top\">1225175714</td>\n",
       "        <td style=\"padding-left: 1em; padding-right: 1em; text-align: center; vertical-align: top\">5.14285714286</td>\n",
       "    </tr>\n",
       "    <tr>\n",
       "        <td style=\"padding-left: 1em; padding-right: 1em; text-align: center; vertical-align: top\">1841205275</td>\n",
       "        <td style=\"padding-left: 1em; padding-right: 1em; text-align: center; vertical-align: top\">1699717124</td>\n",
       "        <td style=\"padding-left: 1em; padding-right: 1em; text-align: center; vertical-align: top\">25.4285714286</td>\n",
       "    </tr>\n",
       "    <tr>\n",
       "        <td style=\"padding-left: 1em; padding-right: 1em; text-align: center; vertical-align: top\">1841205275</td>\n",
       "        <td style=\"padding-left: 1em; padding-right: 1em; text-align: center; vertical-align: top\">1689641433</td>\n",
       "        <td style=\"padding-left: 1em; padding-right: 1em; text-align: center; vertical-align: top\">1.85714285714</td>\n",
       "    </tr>\n",
       "    <tr>\n",
       "        <td style=\"padding-left: 1em; padding-right: 1em; text-align: center; vertical-align: top\">1437187473</td>\n",
       "        <td style=\"padding-left: 1em; padding-right: 1em; text-align: center; vertical-align: top\">1588702872</td>\n",
       "        <td style=\"padding-left: 1em; padding-right: 1em; text-align: center; vertical-align: top\">7.42857142857</td>\n",
       "    </tr>\n",
       "    <tr>\n",
       "        <td style=\"padding-left: 1em; padding-right: 1em; text-align: center; vertical-align: top\">1538184569</td>\n",
       "        <td style=\"padding-left: 1em; padding-right: 1em; text-align: center; vertical-align: top\">1669443495</td>\n",
       "        <td style=\"padding-left: 1em; padding-right: 1em; text-align: center; vertical-align: top\">7.14285714286</td>\n",
       "    </tr>\n",
       "    <tr>\n",
       "        <td style=\"padding-left: 1em; padding-right: 1em; text-align: center; vertical-align: top\">1841205275</td>\n",
       "        <td style=\"padding-left: 1em; padding-right: 1em; text-align: center; vertical-align: top\">1336134360</td>\n",
       "        <td style=\"padding-left: 1em; padding-right: 1em; text-align: center; vertical-align: top\">2.0</td>\n",
       "    </tr>\n",
       "    <tr>\n",
       "        <td style=\"padding-left: 1em; padding-right: 1em; text-align: center; vertical-align: top\">1841205275</td>\n",
       "        <td style=\"padding-left: 1em; padding-right: 1em; text-align: center; vertical-align: top\">1225038441</td>\n",
       "        <td style=\"padding-left: 1em; padding-right: 1em; text-align: center; vertical-align: top\">6.42857142857</td>\n",
       "    </tr>\n",
       "</table>\n",
       "[277806970 rows x 3 columns]<br/>Note: Only the head of the SFrame is printed.<br/>You can use print_rows(num_rows=m, num_columns=n) to print more rows and columns.\n",
       "</div>"
      ],
      "text/plain": [
       "Columns:\n",
       "\tInitial Physician NPI\tint\n",
       "\tSecondary Physician NPI\tint\n",
       "\tReferrals\tfloat\n",
       "\n",
       "Rows: 277806970\n",
       "\n",
       "Data:\n",
       "+-----------------------+-------------------------+---------------+\n",
       "| Initial Physician NPI | Secondary Physician NPI |   Referrals   |\n",
       "+-----------------------+-------------------------+---------------+\n",
       "|       1841205325      |        1881656536       | 2.57142857143 |\n",
       "|       1982790325      |        1992703540       | 164.571428571 |\n",
       "|       1841205283      |        1518076280       | 1.71428571429 |\n",
       "|       1841205283      |        1225175714       | 5.14285714286 |\n",
       "|       1841205275      |        1699717124       | 25.4285714286 |\n",
       "|       1841205275      |        1689641433       | 1.85714285714 |\n",
       "|       1437187473      |        1588702872       | 7.42857142857 |\n",
       "|       1538184569      |        1669443495       | 7.14285714286 |\n",
       "|       1841205275      |        1336134360       |      2.0      |\n",
       "|       1841205275      |        1225038441       | 6.42857142857 |\n",
       "+-----------------------+-------------------------+---------------+\n",
       "[277806970 rows x 3 columns]\n",
       "Note: Only the head of the SFrame is printed.\n",
       "You can use print_rows(num_rows=m, num_columns=n) to print more rows and columns."
      ]
     },
     "execution_count": 68,
     "metadata": {},
     "output_type": "execute_result"
    }
   ],
   "source": [
    "edges_sf.add_column(average_col, name='Referrals')"
   ]
  },
  {
   "cell_type": "code",
   "execution_count": 69,
   "metadata": {},
   "outputs": [],
   "source": [
    "edges_sf.save('../data/edges_full')"
   ]
  },
  {
   "cell_type": "code",
   "execution_count": 72,
   "metadata": {},
   "outputs": [],
   "source": [
    "edges_train_sf, edges_test_sf = edges_sf.random_split(0.9)"
   ]
  },
  {
   "cell_type": "code",
   "execution_count": 83,
   "metadata": {},
   "outputs": [],
   "source": [
    "edges_train_sf.save('../data/edges_train')\n",
    "edges_test_sf.save('../data/edges_test')"
   ]
  },
  {
   "cell_type": "code",
   "execution_count": 77,
   "metadata": {},
   "outputs": [
    {
     "data": {
      "text/html": [
       "<pre>Recsys training: model = factorization_recommender</pre>"
      ],
      "text/plain": [
       "Recsys training: model = factorization_recommender"
      ]
     },
     "metadata": {},
     "output_type": "display_data"
    },
    {
     "data": {
      "text/html": [
       "<pre>Preparing data set.</pre>"
      ],
      "text/plain": [
       "Preparing data set."
      ]
     },
     "metadata": {},
     "output_type": "display_data"
    },
    {
     "data": {
      "text/html": [
       "<pre>    Data has 250023652 observations with 1359555 users and 1369473 items.</pre>"
      ],
      "text/plain": [
       "    Data has 250023652 observations with 1359555 users and 1369473 items."
      ]
     },
     "metadata": {},
     "output_type": "display_data"
    },
    {
     "data": {
      "text/html": [
       "<pre>    Data prepared in: 110.045s</pre>"
      ],
      "text/plain": [
       "    Data prepared in: 110.045s"
      ]
     },
     "metadata": {},
     "output_type": "display_data"
    },
    {
     "data": {
      "text/html": [
       "<pre>Training factorization_recommender for recommendations.</pre>"
      ],
      "text/plain": [
       "Training factorization_recommender for recommendations."
      ]
     },
     "metadata": {},
     "output_type": "display_data"
    },
    {
     "data": {
      "text/html": [
       "<pre>+--------------------------------+--------------------------------------------------+----------+</pre>"
      ],
      "text/plain": [
       "+--------------------------------+--------------------------------------------------+----------+"
      ]
     },
     "metadata": {},
     "output_type": "display_data"
    },
    {
     "data": {
      "text/html": [
       "<pre>| Parameter                      | Description                                      | Value    |</pre>"
      ],
      "text/plain": [
       "| Parameter                      | Description                                      | Value    |"
      ]
     },
     "metadata": {},
     "output_type": "display_data"
    },
    {
     "data": {
      "text/html": [
       "<pre>+--------------------------------+--------------------------------------------------+----------+</pre>"
      ],
      "text/plain": [
       "+--------------------------------+--------------------------------------------------+----------+"
      ]
     },
     "metadata": {},
     "output_type": "display_data"
    },
    {
     "data": {
      "text/html": [
       "<pre>| num_factors                    | Factor Dimension                                 | 8        |</pre>"
      ],
      "text/plain": [
       "| num_factors                    | Factor Dimension                                 | 8        |"
      ]
     },
     "metadata": {},
     "output_type": "display_data"
    },
    {
     "data": {
      "text/html": [
       "<pre>| regularization                 | L2 Regularization on Factors                     | 1e-08    |</pre>"
      ],
      "text/plain": [
       "| regularization                 | L2 Regularization on Factors                     | 1e-08    |"
      ]
     },
     "metadata": {},
     "output_type": "display_data"
    },
    {
     "data": {
      "text/html": [
       "<pre>| solver                         | Solver used for training                         | sgd      |</pre>"
      ],
      "text/plain": [
       "| solver                         | Solver used for training                         | sgd      |"
      ]
     },
     "metadata": {},
     "output_type": "display_data"
    },
    {
     "data": {
      "text/html": [
       "<pre>| linear_regularization          | L2 Regularization on Linear Coefficients         | 1e-10    |</pre>"
      ],
      "text/plain": [
       "| linear_regularization          | L2 Regularization on Linear Coefficients         | 1e-10    |"
      ]
     },
     "metadata": {},
     "output_type": "display_data"
    },
    {
     "data": {
      "text/html": [
       "<pre>| max_iterations                 | Maximum Number of Iterations                     | 50       |</pre>"
      ],
      "text/plain": [
       "| max_iterations                 | Maximum Number of Iterations                     | 50       |"
      ]
     },
     "metadata": {},
     "output_type": "display_data"
    },
    {
     "data": {
      "text/html": [
       "<pre>+--------------------------------+--------------------------------------------------+----------+</pre>"
      ],
      "text/plain": [
       "+--------------------------------+--------------------------------------------------+----------+"
      ]
     },
     "metadata": {},
     "output_type": "display_data"
    },
    {
     "data": {
      "text/html": [
       "<pre>  Optimizing model using SGD; tuning step size.</pre>"
      ],
      "text/plain": [
       "  Optimizing model using SGD; tuning step size."
      ]
     },
     "metadata": {},
     "output_type": "display_data"
    },
    {
     "data": {
      "text/html": [
       "<pre>  Using 31252956 / 250023652 points for tuning the step size.</pre>"
      ],
      "text/plain": [
       "  Using 31252956 / 250023652 points for tuning the step size."
      ]
     },
     "metadata": {},
     "output_type": "display_data"
    },
    {
     "data": {
      "text/html": [
       "<pre>+---------+-------------------+------------------------------------------+</pre>"
      ],
      "text/plain": [
       "+---------+-------------------+------------------------------------------+"
      ]
     },
     "metadata": {},
     "output_type": "display_data"
    },
    {
     "data": {
      "text/html": [
       "<pre>| Attempt | Initial Step Size | Estimated Objective Value                |</pre>"
      ],
      "text/plain": [
       "| Attempt | Initial Step Size | Estimated Objective Value                |"
      ]
     },
     "metadata": {},
     "output_type": "display_data"
    },
    {
     "data": {
      "text/html": [
       "<pre>+---------+-------------------+------------------------------------------+</pre>"
      ],
      "text/plain": [
       "+---------+-------------------+------------------------------------------+"
      ]
     },
     "metadata": {},
     "output_type": "display_data"
    },
    {
     "data": {
      "text/html": [
       "<pre>| 0       | 25                | No Decrease (4766.01 >= 4732.83)         |</pre>"
      ],
      "text/plain": [
       "| 0       | 25                | No Decrease (4766.01 >= 4732.83)         |"
      ]
     },
     "metadata": {},
     "output_type": "display_data"
    },
    {
     "data": {
      "text/html": [
       "<pre>| 1       | 6.25              | No Decrease (4762.33 >= 4732.83)         |</pre>"
      ],
      "text/plain": [
       "| 1       | 6.25              | No Decrease (4762.33 >= 4732.83)         |"
      ]
     },
     "metadata": {},
     "output_type": "display_data"
    },
    {
     "data": {
      "text/html": [
       "<pre>| 2       | 1.5625            | No Decrease (4754.1 >= 4732.83)          |</pre>"
      ],
      "text/plain": [
       "| 2       | 1.5625            | No Decrease (4754.1 >= 4732.83)          |"
      ]
     },
     "metadata": {},
     "output_type": "display_data"
    },
    {
     "data": {
      "text/html": [
       "<pre>| 3       | 0.390625          | No Decrease (4751.8 >= 4732.83)          |</pre>"
      ],
      "text/plain": [
       "| 3       | 0.390625          | No Decrease (4751.8 >= 4732.83)          |"
      ]
     },
     "metadata": {},
     "output_type": "display_data"
    },
    {
     "data": {
      "text/html": [
       "<pre>| 4       | 0.0976562         | 4584.64                                  |</pre>"
      ],
      "text/plain": [
       "| 4       | 0.0976562         | 4584.64                                  |"
      ]
     },
     "metadata": {},
     "output_type": "display_data"
    },
    {
     "data": {
      "text/html": [
       "<pre>| 5       | 0.0488281         | 4336.52                                  |</pre>"
      ],
      "text/plain": [
       "| 5       | 0.0488281         | 4336.52                                  |"
      ]
     },
     "metadata": {},
     "output_type": "display_data"
    },
    {
     "data": {
      "text/html": [
       "<pre>| 6       | 0.0244141         | 3991.34                                  |</pre>"
      ],
      "text/plain": [
       "| 6       | 0.0244141         | 3991.34                                  |"
      ]
     },
     "metadata": {},
     "output_type": "display_data"
    },
    {
     "data": {
      "text/html": [
       "<pre>| 7       | 0.012207          | 3592.36                                  |</pre>"
      ],
      "text/plain": [
       "| 7       | 0.012207          | 3592.36                                  |"
      ]
     },
     "metadata": {},
     "output_type": "display_data"
    },
    {
     "data": {
      "text/html": [
       "<pre>| 8       | 0.00610352        | 3170.6                                   |</pre>"
      ],
      "text/plain": [
       "| 8       | 0.00610352        | 3170.6                                   |"
      ]
     },
     "metadata": {},
     "output_type": "display_data"
    },
    {
     "data": {
      "text/html": [
       "<pre>| 9       | 0.00305176        | 2731.74                                  |</pre>"
      ],
      "text/plain": [
       "| 9       | 0.00305176        | 2731.74                                  |"
      ]
     },
     "metadata": {},
     "output_type": "display_data"
    },
    {
     "data": {
      "text/html": [
       "<pre>| 10      | 0.00152588        | 2450.12                                  |</pre>"
      ],
      "text/plain": [
       "| 10      | 0.00152588        | 2450.12                                  |"
      ]
     },
     "metadata": {},
     "output_type": "display_data"
    },
    {
     "data": {
      "text/html": [
       "<pre>| 11      | 0.000762939       | 2469.32                                  |</pre>"
      ],
      "text/plain": [
       "| 11      | 0.000762939       | 2469.32                                  |"
      ]
     },
     "metadata": {},
     "output_type": "display_data"
    },
    {
     "data": {
      "text/html": [
       "<pre>| 12      | 0.00038147        | 3129.51                                  |</pre>"
      ],
      "text/plain": [
       "| 12      | 0.00038147        | 3129.51                                  |"
      ]
     },
     "metadata": {},
     "output_type": "display_data"
    },
    {
     "data": {
      "text/html": [
       "<pre>| 13      | 0.000190735       | 3918.58                                  |</pre>"
      ],
      "text/plain": [
       "| 13      | 0.000190735       | 3918.58                                  |"
      ]
     },
     "metadata": {},
     "output_type": "display_data"
    },
    {
     "data": {
      "text/html": [
       "<pre>+---------+-------------------+------------------------------------------+</pre>"
      ],
      "text/plain": [
       "+---------+-------------------+------------------------------------------+"
      ]
     },
     "metadata": {},
     "output_type": "display_data"
    },
    {
     "data": {
      "text/html": [
       "<pre>| Final   | 0.00152588        | 2450.12                                  |</pre>"
      ],
      "text/plain": [
       "| Final   | 0.00152588        | 2450.12                                  |"
      ]
     },
     "metadata": {},
     "output_type": "display_data"
    },
    {
     "data": {
      "text/html": [
       "<pre>+---------+-------------------+------------------------------------------+</pre>"
      ],
      "text/plain": [
       "+---------+-------------------+------------------------------------------+"
      ]
     },
     "metadata": {},
     "output_type": "display_data"
    },
    {
     "data": {
      "text/html": [
       "<pre>Starting Optimization.</pre>"
      ],
      "text/plain": [
       "Starting Optimization."
      ]
     },
     "metadata": {},
     "output_type": "display_data"
    },
    {
     "data": {
      "text/html": [
       "<pre>+---------+--------------+-------------------+-----------------------+-------------+</pre>"
      ],
      "text/plain": [
       "+---------+--------------+-------------------+-----------------------+-------------+"
      ]
     },
     "metadata": {},
     "output_type": "display_data"
    },
    {
     "data": {
      "text/html": [
       "<pre>| Iter.   | Elapsed Time | Approx. Objective | Approx. Training RMSE | Step Size   |</pre>"
      ],
      "text/plain": [
       "| Iter.   | Elapsed Time | Approx. Objective | Approx. Training RMSE | Step Size   |"
      ]
     },
     "metadata": {},
     "output_type": "display_data"
    },
    {
     "data": {
      "text/html": [
       "<pre>+---------+--------------+-------------------+-----------------------+-------------+</pre>"
      ],
      "text/plain": [
       "+---------+--------------+-------------------+-----------------------+-------------+"
      ]
     },
     "metadata": {},
     "output_type": "display_data"
    },
    {
     "data": {
      "text/html": [
       "<pre>| Initial | 99us         | 5131.58           | 71.6351               |             |</pre>"
      ],
      "text/plain": [
       "| Initial | 99us         | 5131.58           | 71.6351               |             |"
      ]
     },
     "metadata": {},
     "output_type": "display_data"
    },
    {
     "data": {
      "text/html": [
       "<pre>+---------+--------------+-------------------+-----------------------+-------------+</pre>"
      ],
      "text/plain": [
       "+---------+--------------+-------------------+-----------------------+-------------+"
      ]
     },
     "metadata": {},
     "output_type": "display_data"
    },
    {
     "data": {
      "text/html": [
       "<pre>| 1       | 19.05s       | 4054.39           | 63.6668               | 0.00152588  |</pre>"
      ],
      "text/plain": [
       "| 1       | 19.05s       | 4054.39           | 63.6668               | 0.00152588  |"
      ]
     },
     "metadata": {},
     "output_type": "display_data"
    },
    {
     "data": {
      "text/html": [
       "<pre>| 2       | 37.51s       | 3604.32           | 60.0286               | 0.000907293 |</pre>"
      ],
      "text/plain": [
       "| 2       | 37.51s       | 3604.32           | 60.0286               | 0.000907293 |"
      ]
     },
     "metadata": {},
     "output_type": "display_data"
    },
    {
     "data": {
      "text/html": [
       "<pre>| 3       | 55.98s       | 3456.02           | 58.7804               | 0.00066939  |</pre>"
      ],
      "text/plain": [
       "| 3       | 55.98s       | 3456.02           | 58.7804               | 0.00066939  |"
      ]
     },
     "metadata": {},
     "output_type": "display_data"
    },
    {
     "data": {
      "text/html": [
       "<pre>| 4       | 1m 14s       | 3376.72           | 58.1019               | 0.00053948  |</pre>"
      ],
      "text/plain": [
       "| 4       | 1m 14s       | 3376.72           | 58.1019               | 0.00053948  |"
      ]
     },
     "metadata": {},
     "output_type": "display_data"
    },
    {
     "data": {
      "text/html": [
       "<pre>| 5       | 1m 32s       | 3323.34           | 57.6404               | 0.000456344 |</pre>"
      ],
      "text/plain": [
       "| 5       | 1m 32s       | 3323.34           | 57.6404               | 0.000456344 |"
      ]
     },
     "metadata": {},
     "output_type": "display_data"
    },
    {
     "data": {
      "text/html": [
       "<pre>| 6       | 1m 50s       | 3281.38           | 57.275                | 0.000398022 |</pre>"
      ],
      "text/plain": [
       "| 6       | 1m 50s       | 3281.38           | 57.275                | 0.000398022 |"
      ]
     },
     "metadata": {},
     "output_type": "display_data"
    },
    {
     "data": {
      "text/html": [
       "<pre>| 7       | 2m 9s        | 3243.65           | 56.9444               | 0.000354566 |</pre>"
      ],
      "text/plain": [
       "| 7       | 2m 9s        | 3243.65           | 56.9444               | 0.000354566 |"
      ]
     },
     "metadata": {},
     "output_type": "display_data"
    },
    {
     "data": {
      "text/html": [
       "<pre>| 8       | 2m 27s       | 3217.41           | 56.7133               | 0.000320777 |</pre>"
      ],
      "text/plain": [
       "| 8       | 2m 27s       | 3217.41           | 56.7133               | 0.000320777 |"
      ]
     },
     "metadata": {},
     "output_type": "display_data"
    },
    {
     "data": {
      "text/html": [
       "<pre>| 9       | 2m 46s       | 3193.96           | 56.506                | 0.000293656 |</pre>"
      ],
      "text/plain": [
       "| 9       | 2m 46s       | 3193.96           | 56.506                | 0.000293656 |"
      ]
     },
     "metadata": {},
     "output_type": "display_data"
    },
    {
     "data": {
      "text/html": [
       "<pre>| 10      | 3m 4s        | 3170.79           | 56.3004               | 0.000271344 |</pre>"
      ],
      "text/plain": [
       "| 10      | 3m 4s        | 3170.79           | 56.3004               | 0.000271344 |"
      ]
     },
     "metadata": {},
     "output_type": "display_data"
    },
    {
     "data": {
      "text/html": [
       "<pre>| 11      | 3m 22s       | 3152.8            | 56.1403               | 0.000252625 |</pre>"
      ],
      "text/plain": [
       "| 11      | 3m 22s       | 3152.8            | 56.1403               | 0.000252625 |"
      ]
     },
     "metadata": {},
     "output_type": "display_data"
    },
    {
     "data": {
      "text/html": [
       "<pre>| 12      | 3m 41s       | 3135.48           | 55.9856               | 0.000236665 |</pre>"
      ],
      "text/plain": [
       "| 12      | 3m 41s       | 3135.48           | 55.9856               | 0.000236665 |"
      ]
     },
     "metadata": {},
     "output_type": "display_data"
    },
    {
     "data": {
      "text/html": [
       "<pre>| 13      | 3m 59s       | 3119.54           | 55.843                | 0.000222876 |</pre>"
      ],
      "text/plain": [
       "| 13      | 3m 59s       | 3119.54           | 55.843                | 0.000222876 |"
      ]
     },
     "metadata": {},
     "output_type": "display_data"
    },
    {
     "data": {
      "text/html": [
       "<pre>| 14      | 4m 18s       | 3100.6            | 55.673                | 0.000210826 |</pre>"
      ],
      "text/plain": [
       "| 14      | 4m 18s       | 3100.6            | 55.673                | 0.000210826 |"
      ]
     },
     "metadata": {},
     "output_type": "display_data"
    },
    {
     "data": {
      "text/html": [
       "<pre>| 15      | 4m 36s       | 3092.1            | 55.5964               | 0.000200194 |</pre>"
      ],
      "text/plain": [
       "| 15      | 4m 36s       | 3092.1            | 55.5964               | 0.000200194 |"
      ]
     },
     "metadata": {},
     "output_type": "display_data"
    },
    {
     "data": {
      "text/html": [
       "<pre>| 16      | 4m 55s       | 3079.13           | 55.4796               | 0.000190735 |</pre>"
      ],
      "text/plain": [
       "| 16      | 4m 55s       | 3079.13           | 55.4796               | 0.000190735 |"
      ]
     },
     "metadata": {},
     "output_type": "display_data"
    },
    {
     "data": {
      "text/html": [
       "<pre>| 17      | 5m 13s       | 3067.37           | 55.3733               | 0.000182257 |</pre>"
      ],
      "text/plain": [
       "| 17      | 5m 13s       | 3067.37           | 55.3733               | 0.000182257 |"
      ]
     },
     "metadata": {},
     "output_type": "display_data"
    },
    {
     "data": {
      "text/html": [
       "<pre>| 18      | 5m 31s       | 3055.59           | 55.2667               | 0.000174609 |</pre>"
      ],
      "text/plain": [
       "| 18      | 5m 31s       | 3055.59           | 55.2667               | 0.000174609 |"
      ]
     },
     "metadata": {},
     "output_type": "display_data"
    },
    {
     "data": {
      "text/html": [
       "<pre>| 19      | 5m 50s       | 3047.9            | 55.1971               | 0.00016767  |</pre>"
      ],
      "text/plain": [
       "| 19      | 5m 50s       | 3047.9            | 55.1971               | 0.00016767  |"
      ]
     },
     "metadata": {},
     "output_type": "display_data"
    },
    {
     "data": {
      "text/html": [
       "<pre>| 20      | 6m 8s        | 3033.92           | 55.0701               | 0.000161342 |</pre>"
      ],
      "text/plain": [
       "| 20      | 6m 8s        | 3033.92           | 55.0701               | 0.000161342 |"
      ]
     },
     "metadata": {},
     "output_type": "display_data"
    },
    {
     "data": {
      "text/html": [
       "<pre>| 21      | 6m 26s       | 3032.16           | 55.0541               | 0.000155545 |</pre>"
      ],
      "text/plain": [
       "| 21      | 6m 26s       | 3032.16           | 55.0541               | 0.000155545 |"
      ]
     },
     "metadata": {},
     "output_type": "display_data"
    },
    {
     "data": {
      "text/html": [
       "<pre>| 22      | 6m 45s       | 3025.42           | 54.9927               | 0.000150211 |</pre>"
      ],
      "text/plain": [
       "| 22      | 6m 45s       | 3025.42           | 54.9927               | 0.000150211 |"
      ]
     },
     "metadata": {},
     "output_type": "display_data"
    },
    {
     "data": {
      "text/html": [
       "<pre>| 23      | 7m 3s        | 3013.47           | 54.8838               | 0.000145286 |</pre>"
      ],
      "text/plain": [
       "| 23      | 7m 3s        | 3013.47           | 54.8838               | 0.000145286 |"
      ]
     },
     "metadata": {},
     "output_type": "display_data"
    },
    {
     "data": {
      "text/html": [
       "<pre>| 24      | 7m 22s       | 3005.49           | 54.811                | 0.000140722 |</pre>"
      ],
      "text/plain": [
       "| 24      | 7m 22s       | 3005.49           | 54.811                | 0.000140722 |"
      ]
     },
     "metadata": {},
     "output_type": "display_data"
    },
    {
     "data": {
      "text/html": [
       "<pre>| 25      | 7m 40s       | 2994.9            | 54.7142               | 0.000136479 |</pre>"
      ],
      "text/plain": [
       "| 25      | 7m 40s       | 2994.9            | 54.7142               | 0.000136479 |"
      ]
     },
     "metadata": {},
     "output_type": "display_data"
    },
    {
     "data": {
      "text/html": [
       "<pre>| 26      | 7m 59s       | 2989.8            | 54.6675               | 0.000132523 |</pre>"
      ],
      "text/plain": [
       "| 26      | 7m 59s       | 2989.8            | 54.6675               | 0.000132523 |"
      ]
     },
     "metadata": {},
     "output_type": "display_data"
    },
    {
     "data": {
      "text/html": [
       "<pre>| 27      | 8m 17s       | 2984.06           | 54.6149               | 0.000128824 |</pre>"
      ],
      "text/plain": [
       "| 27      | 8m 17s       | 2984.06           | 54.6149               | 0.000128824 |"
      ]
     },
     "metadata": {},
     "output_type": "display_data"
    },
    {
     "data": {
      "text/html": [
       "<pre>| 28      | 8m 36s       | 2975.38           | 54.5353               | 0.000125358 |</pre>"
      ],
      "text/plain": [
       "| 28      | 8m 36s       | 2975.38           | 54.5353               | 0.000125358 |"
      ]
     },
     "metadata": {},
     "output_type": "display_data"
    },
    {
     "data": {
      "text/html": [
       "<pre>| 29      | 8m 54s       | 2970.33           | 54.4888               | 0.000122102 |</pre>"
      ],
      "text/plain": [
       "| 29      | 8m 54s       | 2970.33           | 54.4888               | 0.000122102 |"
      ]
     },
     "metadata": {},
     "output_type": "display_data"
    },
    {
     "data": {
      "text/html": [
       "<pre>| 30      | 9m 12s       | 2965.29           | 54.4425               | 0.000119036 |</pre>"
      ],
      "text/plain": [
       "| 30      | 9m 12s       | 2965.29           | 54.4425               | 0.000119036 |"
      ]
     },
     "metadata": {},
     "output_type": "display_data"
    },
    {
     "data": {
      "text/html": [
       "<pre>| 31      | 9m 31s       | 2957.95           | 54.375                | 0.000116145 |</pre>"
      ],
      "text/plain": [
       "| 31      | 9m 31s       | 2957.95           | 54.375                | 0.000116145 |"
      ]
     },
     "metadata": {},
     "output_type": "display_data"
    },
    {
     "data": {
      "text/html": [
       "<pre>| 32      | 9m 49s       | 2952.46           | 54.3244               | 0.000113412 |</pre>"
      ],
      "text/plain": [
       "| 32      | 9m 49s       | 2952.46           | 54.3244               | 0.000113412 |"
      ]
     },
     "metadata": {},
     "output_type": "display_data"
    },
    {
     "data": {
      "text/html": [
       "<pre>| 33      | 10m 8s       | 2945.86           | 54.2635               | 0.000110824 |</pre>"
      ],
      "text/plain": [
       "| 33      | 10m 8s       | 2945.86           | 54.2635               | 0.000110824 |"
      ]
     },
     "metadata": {},
     "output_type": "display_data"
    },
    {
     "data": {
      "text/html": [
       "<pre>| 34      | 10m 26s      | 2940.53           | 54.2143               | 0.00010837  |</pre>"
      ],
      "text/plain": [
       "| 34      | 10m 26s      | 2940.53           | 54.2143               | 0.00010837  |"
      ]
     },
     "metadata": {},
     "output_type": "display_data"
    },
    {
     "data": {
      "text/html": [
       "<pre>| 35      | 10m 44s      | 2937.28           | 54.1843               | 0.00010604  |</pre>"
      ],
      "text/plain": [
       "| 35      | 10m 44s      | 2937.28           | 54.1843               | 0.00010604  |"
      ]
     },
     "metadata": {},
     "output_type": "display_data"
    },
    {
     "data": {
      "text/html": [
       "<pre>| 36      | 11m 3s       | 2931.42           | 54.1301               | 0.000103823 |</pre>"
      ],
      "text/plain": [
       "| 36      | 11m 3s       | 2931.42           | 54.1301               | 0.000103823 |"
      ]
     },
     "metadata": {},
     "output_type": "display_data"
    },
    {
     "data": {
      "text/html": [
       "<pre>| 37      | 11m 21s      | 2926.7            | 54.0864               | 0.000101711 |</pre>"
      ],
      "text/plain": [
       "| 37      | 11m 21s      | 2926.7            | 54.0864               | 0.000101711 |"
      ]
     },
     "metadata": {},
     "output_type": "display_data"
    },
    {
     "data": {
      "text/html": [
       "<pre>| 38      | 11m 39s      | 2920.78           | 54.0316               | 9.96971e-05 |</pre>"
      ],
      "text/plain": [
       "| 38      | 11m 39s      | 2920.78           | 54.0316               | 9.96971e-05 |"
      ]
     },
     "metadata": {},
     "output_type": "display_data"
    },
    {
     "data": {
      "text/html": [
       "<pre>| 39      | 11m 58s      | 2918.11           | 54.0067               | 9.77736e-05 |</pre>"
      ],
      "text/plain": [
       "| 39      | 11m 58s      | 2918.11           | 54.0067               | 9.77736e-05 |"
      ]
     },
     "metadata": {},
     "output_type": "display_data"
    },
    {
     "data": {
      "text/html": [
       "<pre>| 40      | 12m 16s      | 2910.67           | 53.9377               | 9.59346e-05 |</pre>"
      ],
      "text/plain": [
       "| 40      | 12m 16s      | 2910.67           | 53.9377               | 9.59346e-05 |"
      ]
     },
     "metadata": {},
     "output_type": "display_data"
    },
    {
     "data": {
      "text/html": [
       "<pre>| 41      | 12m 35s      | 2907.82           | 53.9112               | 9.41743e-05 |</pre>"
      ],
      "text/plain": [
       "| 41      | 12m 35s      | 2907.82           | 53.9112               | 9.41743e-05 |"
      ]
     },
     "metadata": {},
     "output_type": "display_data"
    },
    {
     "data": {
      "text/html": [
       "<pre>| 42      | 12m 53s      | 2902.51           | 53.8619               | 9.24875e-05 |</pre>"
      ],
      "text/plain": [
       "| 42      | 12m 53s      | 2902.51           | 53.8619               | 9.24875e-05 |"
      ]
     },
     "metadata": {},
     "output_type": "display_data"
    },
    {
     "data": {
      "text/html": [
       "<pre>| 43      | 13m 12s      | 2900.16           | 53.84                 | 9.08696e-05 |</pre>"
      ],
      "text/plain": [
       "| 43      | 13m 12s      | 2900.16           | 53.84                 | 9.08696e-05 |"
      ]
     },
     "metadata": {},
     "output_type": "display_data"
    },
    {
     "data": {
      "text/html": [
       "<pre>| 44      | 13m 30s      | 2893.13           | 53.7746               | 8.93163e-05 |</pre>"
      ],
      "text/plain": [
       "| 44      | 13m 30s      | 2893.13           | 53.7746               | 8.93163e-05 |"
      ]
     },
     "metadata": {},
     "output_type": "display_data"
    },
    {
     "data": {
      "text/html": [
       "<pre>| 45      | 13m 49s      | 2888.9            | 53.7352               | 8.78235e-05 |</pre>"
      ],
      "text/plain": [
       "| 45      | 13m 49s      | 2888.9            | 53.7352               | 8.78235e-05 |"
      ]
     },
     "metadata": {},
     "output_type": "display_data"
    },
    {
     "data": {
      "text/html": [
       "<pre>| 46      | 14m 7s       | 2887.51           | 53.7222               | 8.63877e-05 |</pre>"
      ],
      "text/plain": [
       "| 46      | 14m 7s       | 2887.51           | 53.7222               | 8.63877e-05 |"
      ]
     },
     "metadata": {},
     "output_type": "display_data"
    },
    {
     "data": {
      "text/html": [
       "<pre>| 47      | 14m 25s      | 2882.39           | 53.6744               | 8.50054e-05 |</pre>"
      ],
      "text/plain": [
       "| 47      | 14m 25s      | 2882.39           | 53.6744               | 8.50054e-05 |"
      ]
     },
     "metadata": {},
     "output_type": "display_data"
    },
    {
     "data": {
      "text/html": [
       "<pre>| 48      | 14m 44s      | 2878.6            | 53.6391               | 8.36737e-05 |</pre>"
      ],
      "text/plain": [
       "| 48      | 14m 44s      | 2878.6            | 53.6391               | 8.36737e-05 |"
      ]
     },
     "metadata": {},
     "output_type": "display_data"
    },
    {
     "data": {
      "text/html": [
       "<pre>| 49      | 15m 2s       | 2876.13           | 53.616                | 8.23897e-05 |</pre>"
      ],
      "text/plain": [
       "| 49      | 15m 2s       | 2876.13           | 53.616                | 8.23897e-05 |"
      ]
     },
     "metadata": {},
     "output_type": "display_data"
    },
    {
     "data": {
      "text/html": [
       "<pre>| 50      | 15m 20s      | 2871.2            | 53.5699               | 8.11508e-05 |</pre>"
      ],
      "text/plain": [
       "| 50      | 15m 20s      | 2871.2            | 53.5699               | 8.11508e-05 |"
      ]
     },
     "metadata": {},
     "output_type": "display_data"
    },
    {
     "data": {
      "text/html": [
       "<pre>+---------+--------------+-------------------+-----------------------+-------------+</pre>"
      ],
      "text/plain": [
       "+---------+--------------+-------------------+-----------------------+-------------+"
      ]
     },
     "metadata": {},
     "output_type": "display_data"
    },
    {
     "data": {
      "text/html": [
       "<pre>Optimization Complete: Maximum number of passes through the data reached.</pre>"
      ],
      "text/plain": [
       "Optimization Complete: Maximum number of passes through the data reached."
      ]
     },
     "metadata": {},
     "output_type": "display_data"
    },
    {
     "data": {
      "text/html": [
       "<pre>Computing final objective value and training RMSE.</pre>"
      ],
      "text/plain": [
       "Computing final objective value and training RMSE."
      ]
     },
     "metadata": {},
     "output_type": "display_data"
    },
    {
     "data": {
      "text/html": [
       "<pre>       Final objective value: 2780.05</pre>"
      ],
      "text/plain": [
       "       Final objective value: 2780.05"
      ]
     },
     "metadata": {},
     "output_type": "display_data"
    },
    {
     "data": {
      "text/html": [
       "<pre>       Final training RMSE: 52.7123</pre>"
      ],
      "text/plain": [
       "       Final training RMSE: 52.7123"
      ]
     },
     "metadata": {},
     "output_type": "display_data"
    }
   ],
   "source": [
    "mf1_model = gl.recommender.factorization_recommender.create(edges_train_sf, user_id='Initial Physician NPI', item_id='Secondary Physician NPI', target='Referrals')"
   ]
  },
  {
   "cell_type": "code",
   "execution_count": 78,
   "metadata": {},
   "outputs": [],
   "source": [
    "mf1_model.save('../model/mf1')"
   ]
  },
  {
   "cell_type": "markdown",
   "metadata": {},
   "source": [
    "# MF2: Non Negative Matrix Factorization (NMF) with Explicit Data 2009-2015Y"
   ]
  },
  {
   "cell_type": "code",
   "execution_count": 79,
   "metadata": {},
   "outputs": [
    {
     "data": {
      "text/html": [
       "<pre>Recsys training: model = factorization_recommender</pre>"
      ],
      "text/plain": [
       "Recsys training: model = factorization_recommender"
      ]
     },
     "metadata": {},
     "output_type": "display_data"
    },
    {
     "data": {
      "text/html": [
       "<pre>Preparing data set.</pre>"
      ],
      "text/plain": [
       "Preparing data set."
      ]
     },
     "metadata": {},
     "output_type": "display_data"
    },
    {
     "data": {
      "text/html": [
       "<pre>    Data has 250023652 observations with 1359555 users and 1369473 items.</pre>"
      ],
      "text/plain": [
       "    Data has 250023652 observations with 1359555 users and 1369473 items."
      ]
     },
     "metadata": {},
     "output_type": "display_data"
    },
    {
     "data": {
      "text/html": [
       "<pre>    Data prepared in: 109.602s</pre>"
      ],
      "text/plain": [
       "    Data prepared in: 109.602s"
      ]
     },
     "metadata": {},
     "output_type": "display_data"
    },
    {
     "data": {
      "text/html": [
       "<pre>Training factorization_recommender for recommendations.</pre>"
      ],
      "text/plain": [
       "Training factorization_recommender for recommendations."
      ]
     },
     "metadata": {},
     "output_type": "display_data"
    },
    {
     "data": {
      "text/html": [
       "<pre>+--------------------------------+--------------------------------------------------+----------+</pre>"
      ],
      "text/plain": [
       "+--------------------------------+--------------------------------------------------+----------+"
      ]
     },
     "metadata": {},
     "output_type": "display_data"
    },
    {
     "data": {
      "text/html": [
       "<pre>| Parameter                      | Description                                      | Value    |</pre>"
      ],
      "text/plain": [
       "| Parameter                      | Description                                      | Value    |"
      ]
     },
     "metadata": {},
     "output_type": "display_data"
    },
    {
     "data": {
      "text/html": [
       "<pre>+--------------------------------+--------------------------------------------------+----------+</pre>"
      ],
      "text/plain": [
       "+--------------------------------+--------------------------------------------------+----------+"
      ]
     },
     "metadata": {},
     "output_type": "display_data"
    },
    {
     "data": {
      "text/html": [
       "<pre>| num_factors                    | Factor Dimension                                 | 8        |</pre>"
      ],
      "text/plain": [
       "| num_factors                    | Factor Dimension                                 | 8        |"
      ]
     },
     "metadata": {},
     "output_type": "display_data"
    },
    {
     "data": {
      "text/html": [
       "<pre>| regularization                 | L2 Regularization on Factors                     | 1e-08    |</pre>"
      ],
      "text/plain": [
       "| regularization                 | L2 Regularization on Factors                     | 1e-08    |"
      ]
     },
     "metadata": {},
     "output_type": "display_data"
    },
    {
     "data": {
      "text/html": [
       "<pre>| solver                         | Solver used for training                         | sgd      |</pre>"
      ],
      "text/plain": [
       "| solver                         | Solver used for training                         | sgd      |"
      ]
     },
     "metadata": {},
     "output_type": "display_data"
    },
    {
     "data": {
      "text/html": [
       "<pre>| linear_regularization          | L2 Regularization on Linear Coefficients         | 1e-10    |</pre>"
      ],
      "text/plain": [
       "| linear_regularization          | L2 Regularization on Linear Coefficients         | 1e-10    |"
      ]
     },
     "metadata": {},
     "output_type": "display_data"
    },
    {
     "data": {
      "text/html": [
       "<pre>| nmf                            | Use Non-Negative Factors                         | True     |</pre>"
      ],
      "text/plain": [
       "| nmf                            | Use Non-Negative Factors                         | True     |"
      ]
     },
     "metadata": {},
     "output_type": "display_data"
    },
    {
     "data": {
      "text/html": [
       "<pre>| max_iterations                 | Maximum Number of Iterations                     | 50       |</pre>"
      ],
      "text/plain": [
       "| max_iterations                 | Maximum Number of Iterations                     | 50       |"
      ]
     },
     "metadata": {},
     "output_type": "display_data"
    },
    {
     "data": {
      "text/html": [
       "<pre>+--------------------------------+--------------------------------------------------+----------+</pre>"
      ],
      "text/plain": [
       "+--------------------------------+--------------------------------------------------+----------+"
      ]
     },
     "metadata": {},
     "output_type": "display_data"
    },
    {
     "data": {
      "text/html": [
       "<pre>  Optimizing model using SGD; tuning step size.</pre>"
      ],
      "text/plain": [
       "  Optimizing model using SGD; tuning step size."
      ]
     },
     "metadata": {},
     "output_type": "display_data"
    },
    {
     "data": {
      "text/html": [
       "<pre>  Using 31252956 / 250023652 points for tuning the step size.</pre>"
      ],
      "text/plain": [
       "  Using 31252956 / 250023652 points for tuning the step size."
      ]
     },
     "metadata": {},
     "output_type": "display_data"
    },
    {
     "data": {
      "text/html": [
       "<pre>+---------+-------------------+------------------------------------------+</pre>"
      ],
      "text/plain": [
       "+---------+-------------------+------------------------------------------+"
      ]
     },
     "metadata": {},
     "output_type": "display_data"
    },
    {
     "data": {
      "text/html": [
       "<pre>| Attempt | Initial Step Size | Estimated Objective Value                |</pre>"
      ],
      "text/plain": [
       "| Attempt | Initial Step Size | Estimated Objective Value                |"
      ]
     },
     "metadata": {},
     "output_type": "display_data"
    },
    {
     "data": {
      "text/html": [
       "<pre>+---------+-------------------+------------------------------------------+</pre>"
      ],
      "text/plain": [
       "+---------+-------------------+------------------------------------------+"
      ]
     },
     "metadata": {},
     "output_type": "display_data"
    },
    {
     "data": {
      "text/html": [
       "<pre>| 0       | 25                | 4934.51                                  |</pre>"
      ],
      "text/plain": [
       "| 0       | 25                | 4934.51                                  |"
      ]
     },
     "metadata": {},
     "output_type": "display_data"
    },
    {
     "data": {
      "text/html": [
       "<pre>| 1       | 12.5              | 4925.44                                  |</pre>"
      ],
      "text/plain": [
       "| 1       | 12.5              | 4925.44                                  |"
      ]
     },
     "metadata": {},
     "output_type": "display_data"
    },
    {
     "data": {
      "text/html": [
       "<pre>| 2       | 6.25              | 4913.9                                   |</pre>"
      ],
      "text/plain": [
       "| 2       | 6.25              | 4913.9                                   |"
      ]
     },
     "metadata": {},
     "output_type": "display_data"
    },
    {
     "data": {
      "text/html": [
       "<pre>| 3       | 3.125             | 4940.45                                  |</pre>"
      ],
      "text/plain": [
       "| 3       | 3.125             | 4940.45                                  |"
      ]
     },
     "metadata": {},
     "output_type": "display_data"
    },
    {
     "data": {
      "text/html": [
       "<pre>| 4       | 1.5625            | 4940.81                                  |</pre>"
      ],
      "text/plain": [
       "| 4       | 1.5625            | 4940.81                                  |"
      ]
     },
     "metadata": {},
     "output_type": "display_data"
    },
    {
     "data": {
      "text/html": [
       "<pre>| 5       | 0.78125           | 4918.65                                  |</pre>"
      ],
      "text/plain": [
       "| 5       | 0.78125           | 4918.65                                  |"
      ]
     },
     "metadata": {},
     "output_type": "display_data"
    },
    {
     "data": {
      "text/html": [
       "<pre>+---------+-------------------+------------------------------------------+</pre>"
      ],
      "text/plain": [
       "+---------+-------------------+------------------------------------------+"
      ]
     },
     "metadata": {},
     "output_type": "display_data"
    },
    {
     "data": {
      "text/html": [
       "<pre>| Final   | 6.25              | 4913.9                                   |</pre>"
      ],
      "text/plain": [
       "| Final   | 6.25              | 4913.9                                   |"
      ]
     },
     "metadata": {},
     "output_type": "display_data"
    },
    {
     "data": {
      "text/html": [
       "<pre>+---------+-------------------+------------------------------------------+</pre>"
      ],
      "text/plain": [
       "+---------+-------------------+------------------------------------------+"
      ]
     },
     "metadata": {},
     "output_type": "display_data"
    },
    {
     "data": {
      "text/html": [
       "<pre>Starting Optimization.</pre>"
      ],
      "text/plain": [
       "Starting Optimization."
      ]
     },
     "metadata": {},
     "output_type": "display_data"
    },
    {
     "data": {
      "text/html": [
       "<pre>+---------+--------------+-------------------+-----------------------+-------------+</pre>"
      ],
      "text/plain": [
       "+---------+--------------+-------------------+-----------------------+-------------+"
      ]
     },
     "metadata": {},
     "output_type": "display_data"
    },
    {
     "data": {
      "text/html": [
       "<pre>| Iter.   | Elapsed Time | Approx. Objective | Approx. Training RMSE | Step Size   |</pre>"
      ],
      "text/plain": [
       "| Iter.   | Elapsed Time | Approx. Objective | Approx. Training RMSE | Step Size   |"
      ]
     },
     "metadata": {},
     "output_type": "display_data"
    },
    {
     "data": {
      "text/html": [
       "<pre>+---------+--------------+-------------------+-----------------------+-------------+</pre>"
      ],
      "text/plain": [
       "+---------+--------------+-------------------+-----------------------+-------------+"
      ]
     },
     "metadata": {},
     "output_type": "display_data"
    },
    {
     "data": {
      "text/html": [
       "<pre>| Initial | 94us         | 5500.88           | 74.1679               |             |</pre>"
      ],
      "text/plain": [
       "| Initial | 94us         | 5500.88           | 74.1679               |             |"
      ]
     },
     "metadata": {},
     "output_type": "display_data"
    },
    {
     "data": {
      "text/html": [
       "<pre>+---------+--------------+-------------------+-----------------------+-------------+</pre>"
      ],
      "text/plain": [
       "+---------+--------------+-------------------+-----------------------+-------------+"
      ]
     },
     "metadata": {},
     "output_type": "display_data"
    },
    {
     "data": {
      "text/html": [
       "<pre>| 1       | 19.12s       | 5084.81           | 71.3072               | 6.25        |</pre>"
      ],
      "text/plain": [
       "| 1       | 19.12s       | 5084.81           | 71.3072               | 6.25        |"
      ]
     },
     "metadata": {},
     "output_type": "display_data"
    },
    {
     "data": {
      "text/html": [
       "<pre>| 2       | 37.49s       | 5096.34           | 71.387                | 0.375906    |</pre>"
      ],
      "text/plain": [
       "| 2       | 37.49s       | 5096.34           | 71.387                | 0.375906    |"
      ]
     },
     "metadata": {},
     "output_type": "display_data"
    },
    {
     "data": {
      "text/html": [
       "<pre>| 3       | 55.86s       | 5089.4            | 71.3381               | 0.193781    |</pre>"
      ],
      "text/plain": [
       "| 3       | 55.86s       | 5089.4            | 71.3381               | 0.193781    |"
      ]
     },
     "metadata": {},
     "output_type": "display_data"
    },
    {
     "data": {
      "text/html": [
       "<pre>| 4       | 1m 14s       | 5076.6            | 71.2484               | 0.130022    |</pre>"
      ],
      "text/plain": [
       "| 4       | 1m 14s       | 5076.6            | 71.2484               | 0.130022    |"
      ]
     },
     "metadata": {},
     "output_type": "display_data"
    },
    {
     "data": {
      "text/html": [
       "<pre>| 5       | 1m 32s       | 5064.22           | 71.1615               | 0.0977783   |</pre>"
      ],
      "text/plain": [
       "| 5       | 1m 32s       | 5064.22           | 71.1615               | 0.0977783   |"
      ]
     },
     "metadata": {},
     "output_type": "display_data"
    },
    {
     "data": {
      "text/html": [
       "<pre>| 6       | 1m 51s       | 5050.89           | 71.0677               | 0.0785703   |</pre>"
      ],
      "text/plain": [
       "| 6       | 1m 51s       | 5050.89           | 71.0677               | 0.0785703   |"
      ]
     },
     "metadata": {},
     "output_type": "display_data"
    },
    {
     "data": {
      "text/html": [
       "<pre>| 7       | 2m 9s        | 5040.09           | 70.9918               | 0.0656698   |</pre>"
      ],
      "text/plain": [
       "| 7       | 2m 9s        | 5040.09           | 70.9918               | 0.0656698   |"
      ]
     },
     "metadata": {},
     "output_type": "display_data"
    },
    {
     "data": {
      "text/html": [
       "<pre>| 8       | 2m 28s       | 5029.17           | 70.9148               | 0.0564082   |</pre>"
      ],
      "text/plain": [
       "| 8       | 2m 28s       | 5029.17           | 70.9148               | 0.0564082   |"
      ]
     },
     "metadata": {},
     "output_type": "display_data"
    },
    {
     "data": {
      "text/html": [
       "<pre>| 9       | 2m 46s       | 5017.69           | 70.8339               | 0.049436    |</pre>"
      ],
      "text/plain": [
       "| 9       | 2m 46s       | 5017.69           | 70.8339               | 0.049436    |"
      ]
     },
     "metadata": {},
     "output_type": "display_data"
    },
    {
     "data": {
      "text/html": [
       "<pre>| 10      | 3m 5s        | 5002.83           | 70.7289               | 0.0439978   |</pre>"
      ],
      "text/plain": [
       "| 10      | 3m 5s        | 5002.83           | 70.7289               | 0.0439978   |"
      ]
     },
     "metadata": {},
     "output_type": "display_data"
    },
    {
     "data": {
      "text/html": [
       "<pre>| 11      | 3m 23s       | 4987.69           | 70.6217               | 0.0396375   |</pre>"
      ],
      "text/plain": [
       "| 11      | 3m 23s       | 4987.69           | 70.6217               | 0.0396375   |"
      ]
     },
     "metadata": {},
     "output_type": "display_data"
    },
    {
     "data": {
      "text/html": [
       "<pre>| 12      | 3m 42s       | 4967.55           | 70.479                | 0.0360635   |</pre>"
      ],
      "text/plain": [
       "| 12      | 3m 42s       | 4967.55           | 70.479                | 0.0360635   |"
      ]
     },
     "metadata": {},
     "output_type": "display_data"
    },
    {
     "data": {
      "text/html": [
       "<pre>| 13      | 4m 0s        | 4948.06           | 70.3407               | 0.0330807   |</pre>"
      ],
      "text/plain": [
       "| 13      | 4m 0s        | 4948.06           | 70.3407               | 0.0330807   |"
      ]
     },
     "metadata": {},
     "output_type": "display_data"
    },
    {
     "data": {
      "text/html": [
       "<pre>| 14      | 4m 19s       | 4928.55           | 70.2018               | 0.0305536   |</pre>"
      ],
      "text/plain": [
       "| 14      | 4m 19s       | 4928.55           | 70.2018               | 0.0305536   |"
      ]
     },
     "metadata": {},
     "output_type": "display_data"
    },
    {
     "data": {
      "text/html": [
       "<pre>| 15      | 4m 37s       | 4908.53           | 70.059                | 0.0283852   |</pre>"
      ],
      "text/plain": [
       "| 15      | 4m 37s       | 4908.53           | 70.059                | 0.0283852   |"
      ]
     },
     "metadata": {},
     "output_type": "display_data"
    },
    {
     "data": {
      "text/html": [
       "<pre>| 16      | 4m 55s       | 4888.86           | 69.9185               | 0.0265042   |</pre>"
      ],
      "text/plain": [
       "| 16      | 4m 55s       | 4888.86           | 69.9185               | 0.0265042   |"
      ]
     },
     "metadata": {},
     "output_type": "display_data"
    },
    {
     "data": {
      "text/html": [
       "<pre>| 17      | 5m 14s       | 4873.57           | 69.8091               | 0.024857    |</pre>"
      ],
      "text/plain": [
       "| 17      | 5m 14s       | 4873.57           | 69.8091               | 0.024857    |"
      ]
     },
     "metadata": {},
     "output_type": "display_data"
    },
    {
     "data": {
      "text/html": [
       "<pre>| 18      | 5m 32s       | 4855.71           | 69.6811               | 0.0234026   |</pre>"
      ],
      "text/plain": [
       "| 18      | 5m 32s       | 4855.71           | 69.6811               | 0.0234026   |"
      ]
     },
     "metadata": {},
     "output_type": "display_data"
    },
    {
     "data": {
      "text/html": [
       "<pre>| 19      | 5m 51s       | 4841.51           | 69.5791               | 0.022109    |</pre>"
      ],
      "text/plain": [
       "| 19      | 5m 51s       | 4841.51           | 69.5791               | 0.022109    |"
      ]
     },
     "metadata": {},
     "output_type": "display_data"
    },
    {
     "data": {
      "text/html": [
       "<pre>| 20      | 6m 9s        | 4825.66           | 69.465                | 0.0209508   |</pre>"
      ],
      "text/plain": [
       "| 20      | 6m 9s        | 4825.66           | 69.465                | 0.0209508   |"
      ]
     },
     "metadata": {},
     "output_type": "display_data"
    },
    {
     "data": {
      "text/html": [
       "<pre>| 21      | 6m 28s       | 4808.07           | 69.3383               | 0.019908    |</pre>"
      ],
      "text/plain": [
       "| 21      | 6m 28s       | 4808.07           | 69.3383               | 0.019908    |"
      ]
     },
     "metadata": {},
     "output_type": "display_data"
    },
    {
     "data": {
      "text/html": [
       "<pre>| 22      | 6m 47s       | 4792.26           | 69.2242               | 0.0189641   |</pre>"
      ],
      "text/plain": [
       "| 22      | 6m 47s       | 4792.26           | 69.2242               | 0.0189641   |"
      ]
     },
     "metadata": {},
     "output_type": "display_data"
    },
    {
     "data": {
      "text/html": [
       "<pre>| 23      | 7m 5s        | 4781.98           | 69.1498               | 0.0181056   |</pre>"
      ],
      "text/plain": [
       "| 23      | 7m 5s        | 4781.98           | 69.1498               | 0.0181056   |"
      ]
     },
     "metadata": {},
     "output_type": "display_data"
    },
    {
     "data": {
      "text/html": [
       "<pre>| 24      | 7m 24s       | 4765.06           | 69.0275               | 0.0173215   |</pre>"
      ],
      "text/plain": [
       "| 24      | 7m 24s       | 4765.06           | 69.0275               | 0.0173215   |"
      ]
     },
     "metadata": {},
     "output_type": "display_data"
    },
    {
     "data": {
      "text/html": [
       "<pre>| 25      | 7m 42s       | 4750.11           | 68.919                | 0.0166025   |</pre>"
      ],
      "text/plain": [
       "| 25      | 7m 42s       | 4750.11           | 68.919                | 0.0166025   |"
      ]
     },
     "metadata": {},
     "output_type": "display_data"
    },
    {
     "data": {
      "text/html": [
       "<pre>| 26      | 8m 1s        | 4739.11           | 68.8391               | 0.0159408   |</pre>"
      ],
      "text/plain": [
       "| 26      | 8m 1s        | 4739.11           | 68.8391               | 0.0159408   |"
      ]
     },
     "metadata": {},
     "output_type": "display_data"
    },
    {
     "data": {
      "text/html": [
       "<pre>| 27      | 8m 20s       | 4725.4            | 68.7395               | 0.0153298   |</pre>"
      ],
      "text/plain": [
       "| 27      | 8m 20s       | 4725.4            | 68.7395               | 0.0153298   |"
      ]
     },
     "metadata": {},
     "output_type": "display_data"
    },
    {
     "data": {
      "text/html": [
       "<pre>| 28      | 8m 38s       | 4715.36           | 68.6663               | 0.0147639   |</pre>"
      ],
      "text/plain": [
       "| 28      | 8m 38s       | 4715.36           | 68.6663               | 0.0147639   |"
      ]
     },
     "metadata": {},
     "output_type": "display_data"
    },
    {
     "data": {
      "text/html": [
       "<pre>| 29      | 8m 57s       | 4699.51           | 68.5507               | 0.0142383   |</pre>"
      ],
      "text/plain": [
       "| 29      | 8m 57s       | 4699.51           | 68.5507               | 0.0142383   |"
      ]
     },
     "metadata": {},
     "output_type": "display_data"
    },
    {
     "data": {
      "text/html": [
       "<pre>| 30      | 9m 16s       | 4687.46           | 68.4628               | 0.0137489   |</pre>"
      ],
      "text/plain": [
       "| 30      | 9m 16s       | 4687.46           | 68.4628               | 0.0137489   |"
      ]
     },
     "metadata": {},
     "output_type": "display_data"
    },
    {
     "data": {
      "text/html": [
       "<pre>| 31      | 9m 34s       | 4672.79           | 68.3556               | 0.013292    |</pre>"
      ],
      "text/plain": [
       "| 31      | 9m 34s       | 4672.79           | 68.3556               | 0.013292    |"
      ]
     },
     "metadata": {},
     "output_type": "display_data"
    },
    {
     "data": {
      "text/html": [
       "<pre>| 32      | 9m 53s       | 4663.41           | 68.2869               | 0.0128644   |</pre>"
      ],
      "text/plain": [
       "| 32      | 9m 53s       | 4663.41           | 68.2869               | 0.0128644   |"
      ]
     },
     "metadata": {},
     "output_type": "display_data"
    },
    {
     "data": {
      "text/html": [
       "<pre>| 33      | 10m 11s      | 4651.92           | 68.2027               | 0.0124636   |</pre>"
      ],
      "text/plain": [
       "| 33      | 10m 11s      | 4651.92           | 68.2027               | 0.0124636   |"
      ]
     },
     "metadata": {},
     "output_type": "display_data"
    },
    {
     "data": {
      "text/html": [
       "<pre>| 34      | 10m 30s      | 4640.57           | 68.1194               | 0.0120869   |</pre>"
      ],
      "text/plain": [
       "| 34      | 10m 30s      | 4640.57           | 68.1194               | 0.0120869   |"
      ]
     },
     "metadata": {},
     "output_type": "display_data"
    },
    {
     "data": {
      "text/html": [
       "<pre>| 35      | 10m 48s      | 4628.47           | 68.0306               | 0.0117324   |</pre>"
      ],
      "text/plain": [
       "| 35      | 10m 48s      | 4628.47           | 68.0306               | 0.0117324   |"
      ]
     },
     "metadata": {},
     "output_type": "display_data"
    },
    {
     "data": {
      "text/html": [
       "<pre>| 36      | 11m 7s       | 4620.93           | 67.9751               | 0.011398    |</pre>"
      ],
      "text/plain": [
       "| 36      | 11m 7s       | 4620.93           | 67.9751               | 0.011398    |"
      ]
     },
     "metadata": {},
     "output_type": "display_data"
    },
    {
     "data": {
      "text/html": [
       "<pre>| 37      | 11m 25s      | 4607.12           | 67.8734               | 0.0110822   |</pre>"
      ],
      "text/plain": [
       "| 37      | 11m 25s      | 4607.12           | 67.8734               | 0.0110822   |"
      ]
     },
     "metadata": {},
     "output_type": "display_data"
    },
    {
     "data": {
      "text/html": [
       "<pre>| 38      | 11m 44s      | 4599.46           | 67.8169               | 0.0107834   |</pre>"
      ],
      "text/plain": [
       "| 38      | 11m 44s      | 4599.46           | 67.8169               | 0.0107834   |"
      ]
     },
     "metadata": {},
     "output_type": "display_data"
    },
    {
     "data": {
      "text/html": [
       "<pre>| 39      | 12m 2s       | 4585.45           | 67.7136               | 0.0105003   |</pre>"
      ],
      "text/plain": [
       "| 39      | 12m 2s       | 4585.45           | 67.7136               | 0.0105003   |"
      ]
     },
     "metadata": {},
     "output_type": "display_data"
    },
    {
     "data": {
      "text/html": [
       "<pre>| 40      | 12m 20s      | 4578.32           | 67.6609               | 0.0102317   |</pre>"
      ],
      "text/plain": [
       "| 40      | 12m 20s      | 4578.32           | 67.6609               | 0.0102317   |"
      ]
     },
     "metadata": {},
     "output_type": "display_data"
    },
    {
     "data": {
      "text/html": [
       "<pre>| 41      | 12m 39s      | 4568.78           | 67.5903               | 0.00997648  |</pre>"
      ],
      "text/plain": [
       "| 41      | 12m 39s      | 4568.78           | 67.5903               | 0.00997648  |"
      ]
     },
     "metadata": {},
     "output_type": "display_data"
    },
    {
     "data": {
      "text/html": [
       "<pre>| 42      | 12m 57s      | 4560.05           | 67.5257               | 0.00973369  |</pre>"
      ],
      "text/plain": [
       "| 42      | 12m 57s      | 4560.05           | 67.5257               | 0.00973369  |"
      ]
     },
     "metadata": {},
     "output_type": "display_data"
    },
    {
     "data": {
      "text/html": [
       "<pre>| 43      | 13m 16s      | 4545.08           | 67.4146               | 0.00950243  |</pre>"
      ],
      "text/plain": [
       "| 43      | 13m 16s      | 4545.08           | 67.4146               | 0.00950243  |"
      ]
     },
     "metadata": {},
     "output_type": "display_data"
    },
    {
     "data": {
      "text/html": [
       "<pre>| 44      | 13m 34s      | 4538.86           | 67.3685               | 0.00928191  |</pre>"
      ],
      "text/plain": [
       "| 44      | 13m 34s      | 4538.86           | 67.3685               | 0.00928191  |"
      ]
     },
     "metadata": {},
     "output_type": "display_data"
    },
    {
     "data": {
      "text/html": [
       "<pre>| 45      | 13m 53s      | 4527.52           | 67.2842               | 0.00907139  |</pre>"
      ],
      "text/plain": [
       "| 45      | 13m 53s      | 4527.52           | 67.2842               | 0.00907139  |"
      ]
     },
     "metadata": {},
     "output_type": "display_data"
    },
    {
     "data": {
      "text/html": [
       "<pre>| 46      | 14m 11s      | 4518.51           | 67.2172               | 0.00887021  |</pre>"
      ],
      "text/plain": [
       "| 46      | 14m 11s      | 4518.51           | 67.2172               | 0.00887021  |"
      ]
     },
     "metadata": {},
     "output_type": "display_data"
    },
    {
     "data": {
      "text/html": [
       "<pre>| 47      | 14m 29s      | 4508.73           | 67.1445               | 0.00867776  |</pre>"
      ],
      "text/plain": [
       "| 47      | 14m 29s      | 4508.73           | 67.1445               | 0.00867776  |"
      ]
     },
     "metadata": {},
     "output_type": "display_data"
    },
    {
     "data": {
      "text/html": [
       "<pre>| 48      | 14m 48s      | 4497.31           | 67.0594               | 0.00849348  |</pre>"
      ],
      "text/plain": [
       "| 48      | 14m 48s      | 4497.31           | 67.0594               | 0.00849348  |"
      ]
     },
     "metadata": {},
     "output_type": "display_data"
    },
    {
     "data": {
      "text/html": [
       "<pre>| 49      | 15m 6s       | 4489.62           | 67.0019               | 0.00831686  |</pre>"
      ],
      "text/plain": [
       "| 49      | 15m 6s       | 4489.62           | 67.0019               | 0.00831686  |"
      ]
     },
     "metadata": {},
     "output_type": "display_data"
    },
    {
     "data": {
      "text/html": [
       "<pre>| 50      | 15m 25s      | 4480.51           | 66.9339               | 0.00814745  |</pre>"
      ],
      "text/plain": [
       "| 50      | 15m 25s      | 4480.51           | 66.9339               | 0.00814745  |"
      ]
     },
     "metadata": {},
     "output_type": "display_data"
    },
    {
     "data": {
      "text/html": [
       "<pre>+---------+--------------+-------------------+-----------------------+-------------+</pre>"
      ],
      "text/plain": [
       "+---------+--------------+-------------------+-----------------------+-------------+"
      ]
     },
     "metadata": {},
     "output_type": "display_data"
    },
    {
     "data": {
      "text/html": [
       "<pre>Optimization Complete: Maximum number of passes through the data reached.</pre>"
      ],
      "text/plain": [
       "Optimization Complete: Maximum number of passes through the data reached."
      ]
     },
     "metadata": {},
     "output_type": "display_data"
    },
    {
     "data": {
      "text/html": [
       "<pre>Computing final objective value and training RMSE.</pre>"
      ],
      "text/plain": [
       "Computing final objective value and training RMSE."
      ]
     },
     "metadata": {},
     "output_type": "display_data"
    },
    {
     "data": {
      "text/html": [
       "<pre>       Final objective value: 4504.17</pre>"
      ],
      "text/plain": [
       "       Final objective value: 4504.17"
      ]
     },
     "metadata": {},
     "output_type": "display_data"
    },
    {
     "data": {
      "text/html": [
       "<pre>       Final training RMSE: 67.1105</pre>"
      ],
      "text/plain": [
       "       Final training RMSE: 67.1105"
      ]
     },
     "metadata": {},
     "output_type": "display_data"
    }
   ],
   "source": [
    "mf2_model = gl.recommender.factorization_recommender.create(edges_train_sf, user_id='Initial Physician NPI', item_id='Secondary Physician NPI', target='Referrals', nmf=True)"
   ]
  },
  {
   "cell_type": "code",
   "execution_count": 82,
   "metadata": {},
   "outputs": [],
   "source": [
    "mf2_model.save('../model/mf2')"
   ]
  },
  {
   "cell_type": "code",
   "execution_count": 84,
   "metadata": {},
   "outputs": [
    {
     "name": "stdout",
     "output_type": "stream",
     "text": [
      "Canvas is accessible via web browser at the URL: http://localhost:46676/index.html\n",
      "Opening Canvas in default web browser.\n"
     ]
    }
   ],
   "source": [
    "edges_sf.show()"
   ]
  },
  {
   "cell_type": "markdown",
   "metadata": {},
   "source": [
    "# MF3: Matrix Factorization with Explicit Data [Referrals 2009-2015Y] and with Side Data [Location]"
   ]
  },
  {
   "cell_type": "code",
   "execution_count": 86,
   "metadata": {},
   "outputs": [],
   "source": [
    "physician_url = 'https://s3-us-west-1.amazonaws.com/physician-referral-graph/npidata_pfile_20050523-20180408_withHeader.csv'"
   ]
  },
  {
   "cell_type": "code",
   "execution_count": 87,
   "metadata": {},
   "outputs": [],
   "source": [
    "mf3_physician_cols = ['NPI', 'Provider Business Practice Location Address City Name', 'Provider Business Practice Location Address State Name', 'Provider Business Practice Location Address Country Code (If outside US)']"
   ]
  },
  {
   "cell_type": "code",
   "execution_count": 88,
   "metadata": {},
   "outputs": [],
   "source": [
    "mf3_physician_cols_types = [int, str, str, str]"
   ]
  },
  {
   "cell_type": "code",
   "execution_count": 102,
   "metadata": {
    "collapsed": true
   },
   "outputs": [
    {
     "data": {
      "text/html": [
       "<pre>Read 42797 lines. Lines per second: 54588.7</pre>"
      ],
      "text/plain": [
       "Read 42797 lines. Lines per second: 54588.7"
      ]
     },
     "metadata": {},
     "output_type": "display_data"
    },
    {
     "data": {
      "text/html": [
       "<pre>Unable to parse line \"\"1790778355\",\"2\",\"\",\"<UNAVAIL>\",\"BERNARD J DENNISON JR DDS PA\",\"\",\"\",\"\",\"\",\"\",\"\",\"\",\"\",\"\",\"\",\"\",\"\",\"\",\"\",\"\",\"908 N SANDHILLS BLVD\",\"\",\"ABERDEEN\",\"NC\",\"283152547\",\"US\",\"9109442383\",\"9109449334\",\"908 N SANDHILLS BLVD\",\"\",\"ABERDEEN\",\"NC\",\"283152547\",\"US\",\"910...\"</pre>"
      ],
      "text/plain": [
       "Unable to parse line \"\"1790778355\",\"2\",\"\",\"<UNAVAIL>\",\"BERNARD J DENNISON JR DDS PA\",\"\",\"\",\"\",\"\",\"\",\"\",\"\",\"\",\"\",\"\",\"\",\"\",\"\",\"\",\"\",\"908 N SANDHILLS BLVD\",\"\",\"ABERDEEN\",\"NC\",\"283152547\",\"US\",\"9109442383\",\"9109449334\",\"908 N SANDHILLS BLVD\",\"\",\"ABERDEEN\",\"NC\",\"283152547\",\"US\",\"910...\""
      ]
     },
     "metadata": {},
     "output_type": "display_data"
    },
    {
     "data": {
      "text/html": [
       "<pre>Unable to parse line \"\"1518937598\",\"2\",\"\",\"<UNAVAIL>\",\"ORANGE CITY MUNICIPAL HOSPITAL\",\"\",\"\",\"\",\"\",\"\",\"\",\"ORANGE CITY HOME HEALTH\",\"3\",\"\",\"\",\"\",\"\",\"\",\"\",\"\",\"1000 LINCOLN CIR SE\",\"\",\"ORANGE CITY\",\"IA\",\"510411862\",\"US\",\"7127375279\",\"\",\"400 CENTRAL AVE NW\",\"\\\",\"ORANGE CITY\",\"IA\",\"...\"</pre>"
      ],
      "text/plain": [
       "Unable to parse line \"\"1518937598\",\"2\",\"\",\"<UNAVAIL>\",\"ORANGE CITY MUNICIPAL HOSPITAL\",\"\",\"\",\"\",\"\",\"\",\"\",\"ORANGE CITY HOME HEALTH\",\"3\",\"\",\"\",\"\",\"\",\"\",\"\",\"\",\"1000 LINCOLN CIR SE\",\"\",\"ORANGE CITY\",\"IA\",\"510411862\",\"US\",\"7127375279\",\"\",\"400 CENTRAL AVE NW\",\"\\\",\"ORANGE CITY\",\"IA\",\"...\""
      ]
     },
     "metadata": {},
     "output_type": "display_data"
    },
    {
     "data": {
      "text/html": [
       "<pre>Read 601695 lines. Lines per second: 100137</pre>"
      ],
      "text/plain": [
       "Read 601695 lines. Lines per second: 100137"
      ]
     },
     "metadata": {},
     "output_type": "display_data"
    },
    {
     "data": {
      "text/html": [
       "<pre>Read 1160687 lines. Lines per second: 102653</pre>"
      ],
      "text/plain": [
       "Read 1160687 lines. Lines per second: 102653"
      ]
     },
     "metadata": {},
     "output_type": "display_data"
    },
    {
     "data": {
      "text/html": [
       "<pre>Read 1724137 lines. Lines per second: 104447</pre>"
      ],
      "text/plain": [
       "Read 1724137 lines. Lines per second: 104447"
      ]
     },
     "metadata": {},
     "output_type": "display_data"
    },
    {
     "data": {
      "text/html": [
       "<pre>Read 2290424 lines. Lines per second: 105246</pre>"
      ],
      "text/plain": [
       "Read 2290424 lines. Lines per second: 105246"
      ]
     },
     "metadata": {},
     "output_type": "display_data"
    },
    {
     "data": {
      "text/html": [
       "<pre>Read 2855439 lines. Lines per second: 106386</pre>"
      ],
      "text/plain": [
       "Read 2855439 lines. Lines per second: 106386"
      ]
     },
     "metadata": {},
     "output_type": "display_data"
    },
    {
     "data": {
      "text/html": [
       "<pre>Read 3423584 lines. Lines per second: 107225</pre>"
      ],
      "text/plain": [
       "Read 3423584 lines. Lines per second: 107225"
      ]
     },
     "metadata": {},
     "output_type": "display_data"
    },
    {
     "data": {
      "text/html": [
       "<pre>Read 4038694 lines. Lines per second: 108501</pre>"
      ],
      "text/plain": [
       "Read 4038694 lines. Lines per second: 108501"
      ]
     },
     "metadata": {},
     "output_type": "display_data"
    },
    {
     "data": {
      "text/html": [
       "<pre>Read 4611516 lines. Lines per second: 109242</pre>"
      ],
      "text/plain": [
       "Read 4611516 lines. Lines per second: 109242"
      ]
     },
     "metadata": {},
     "output_type": "display_data"
    },
    {
     "data": {
      "text/html": [
       "<pre>Read 5230447 lines. Lines per second: 110060</pre>"
      ],
      "text/plain": [
       "Read 5230447 lines. Lines per second: 110060"
      ]
     },
     "metadata": {},
     "output_type": "display_data"
    },
    {
     "data": {
      "text/html": [
       "<pre>2 lines failed to parse correctly</pre>"
      ],
      "text/plain": [
       "2 lines failed to parse correctly"
      ]
     },
     "metadata": {},
     "output_type": "display_data"
    },
    {
     "data": {
      "text/html": [
       "<pre>Finished parsing file https://s3-us-west-1.amazonaws.com/physician-referral-graph/npidata_pfile_20050523-20180408_withHeader.csv</pre>"
      ],
      "text/plain": [
       "Finished parsing file https://s3-us-west-1.amazonaws.com/physician-referral-graph/npidata_pfile_20050523-20180408_withHeader.csv"
      ]
     },
     "metadata": {},
     "output_type": "display_data"
    },
    {
     "data": {
      "text/html": [
       "<pre>Parsing completed. Parsed 5546683 lines in 49.8309 secs.</pre>"
      ],
      "text/plain": [
       "Parsing completed. Parsed 5546683 lines in 49.8309 secs."
      ]
     },
     "metadata": {},
     "output_type": "display_data"
    }
   ],
   "source": [
    "physician_mf3_sf = gl.SFrame.read_csv(physician_url, usecols=mf3_physician_cols, column_type_hints=mf3_physician_cols_types)"
   ]
  },
  {
   "cell_type": "code",
   "execution_count": 103,
   "metadata": {
    "collapsed": true
   },
   "outputs": [
    {
     "data": {
      "text/html": [
       "<div style=\"max-height:1000px;max-width:1500px;overflow:auto;\"><table frame=\"box\" rules=\"cols\">\n",
       "    <tr>\n",
       "        <th style=\"padding-left: 1em; padding-right: 1em; text-align: center\">NPI</th>\n",
       "        <th style=\"padding-left: 1em; padding-right: 1em; text-align: center\">Provider Business<br>Practice Location Add ...</th>\n",
       "        <th style=\"padding-left: 1em; padding-right: 1em; text-align: center\">Provider Business<br>Practice Location Add ...</th>\n",
       "        <th style=\"padding-left: 1em; padding-right: 1em; text-align: center\">Provider Business<br>Practice Location Add ...</th>\n",
       "    </tr>\n",
       "    <tr>\n",
       "        <td style=\"padding-left: 1em; padding-right: 1em; text-align: center; vertical-align: top\">1679576722</td>\n",
       "        <td style=\"padding-left: 1em; padding-right: 1em; text-align: center; vertical-align: top\">KEARNEY</td>\n",
       "        <td style=\"padding-left: 1em; padding-right: 1em; text-align: center; vertical-align: top\">NE</td>\n",
       "        <td style=\"padding-left: 1em; padding-right: 1em; text-align: center; vertical-align: top\">US</td>\n",
       "    </tr>\n",
       "    <tr>\n",
       "        <td style=\"padding-left: 1em; padding-right: 1em; text-align: center; vertical-align: top\">1588667638</td>\n",
       "        <td style=\"padding-left: 1em; padding-right: 1em; text-align: center; vertical-align: top\">JACKSONVILLE</td>\n",
       "        <td style=\"padding-left: 1em; padding-right: 1em; text-align: center; vertical-align: top\">FL</td>\n",
       "        <td style=\"padding-left: 1em; padding-right: 1em; text-align: center; vertical-align: top\">US</td>\n",
       "    </tr>\n",
       "    <tr>\n",
       "        <td style=\"padding-left: 1em; padding-right: 1em; text-align: center; vertical-align: top\">1497758544</td>\n",
       "        <td style=\"padding-left: 1em; padding-right: 1em; text-align: center; vertical-align: top\">FAYETTEVILLE</td>\n",
       "        <td style=\"padding-left: 1em; padding-right: 1em; text-align: center; vertical-align: top\">NC</td>\n",
       "        <td style=\"padding-left: 1em; padding-right: 1em; text-align: center; vertical-align: top\">US</td>\n",
       "    </tr>\n",
       "    <tr>\n",
       "        <td style=\"padding-left: 1em; padding-right: 1em; text-align: center; vertical-align: top\">1306849450</td>\n",
       "        <td style=\"padding-left: 1em; padding-right: 1em; text-align: center; vertical-align: top\">ATHENS</td>\n",
       "        <td style=\"padding-left: 1em; padding-right: 1em; text-align: center; vertical-align: top\">TX</td>\n",
       "        <td style=\"padding-left: 1em; padding-right: 1em; text-align: center; vertical-align: top\">US</td>\n",
       "    </tr>\n",
       "    <tr>\n",
       "        <td style=\"padding-left: 1em; padding-right: 1em; text-align: center; vertical-align: top\">1215930367</td>\n",
       "        <td style=\"padding-left: 1em; padding-right: 1em; text-align: center; vertical-align: top\">HOUSTON</td>\n",
       "        <td style=\"padding-left: 1em; padding-right: 1em; text-align: center; vertical-align: top\">TX</td>\n",
       "        <td style=\"padding-left: 1em; padding-right: 1em; text-align: center; vertical-align: top\">US</td>\n",
       "    </tr>\n",
       "    <tr>\n",
       "        <td style=\"padding-left: 1em; padding-right: 1em; text-align: center; vertical-align: top\">1023011178</td>\n",
       "        <td style=\"padding-left: 1em; padding-right: 1em; text-align: center; vertical-align: top\">NAPA</td>\n",
       "        <td style=\"padding-left: 1em; padding-right: 1em; text-align: center; vertical-align: top\">CA</td>\n",
       "        <td style=\"padding-left: 1em; padding-right: 1em; text-align: center; vertical-align: top\">US</td>\n",
       "    </tr>\n",
       "    <tr>\n",
       "        <td style=\"padding-left: 1em; padding-right: 1em; text-align: center; vertical-align: top\">1932102084</td>\n",
       "        <td style=\"padding-left: 1em; padding-right: 1em; text-align: center; vertical-align: top\">TOLEDO</td>\n",
       "        <td style=\"padding-left: 1em; padding-right: 1em; text-align: center; vertical-align: top\">OH</td>\n",
       "        <td style=\"padding-left: 1em; padding-right: 1em; text-align: center; vertical-align: top\">US</td>\n",
       "    </tr>\n",
       "    <tr>\n",
       "        <td style=\"padding-left: 1em; padding-right: 1em; text-align: center; vertical-align: top\">1841293990</td>\n",
       "        <td style=\"padding-left: 1em; padding-right: 1em; text-align: center; vertical-align: top\">NEW YORK</td>\n",
       "        <td style=\"padding-left: 1em; padding-right: 1em; text-align: center; vertical-align: top\">NY</td>\n",
       "        <td style=\"padding-left: 1em; padding-right: 1em; text-align: center; vertical-align: top\">US</td>\n",
       "    </tr>\n",
       "    <tr>\n",
       "        <td style=\"padding-left: 1em; padding-right: 1em; text-align: center; vertical-align: top\">1750384806</td>\n",
       "        <td style=\"padding-left: 1em; padding-right: 1em; text-align: center; vertical-align: top\">LUBBOCK</td>\n",
       "        <td style=\"padding-left: 1em; padding-right: 1em; text-align: center; vertical-align: top\">TX</td>\n",
       "        <td style=\"padding-left: 1em; padding-right: 1em; text-align: center; vertical-align: top\">US</td>\n",
       "    </tr>\n",
       "    <tr>\n",
       "        <td style=\"padding-left: 1em; padding-right: 1em; text-align: center; vertical-align: top\">1669475711</td>\n",
       "        <td style=\"padding-left: 1em; padding-right: 1em; text-align: center; vertical-align: top\">SUGAR LAND</td>\n",
       "        <td style=\"padding-left: 1em; padding-right: 1em; text-align: center; vertical-align: top\">TX</td>\n",
       "        <td style=\"padding-left: 1em; padding-right: 1em; text-align: center; vertical-align: top\">US</td>\n",
       "    </tr>\n",
       "</table>\n",
       "[5546683 rows x 4 columns]<br/>Note: Only the head of the SFrame is printed.<br/>You can use print_rows(num_rows=m, num_columns=n) to print more rows and columns.\n",
       "</div>"
      ],
      "text/plain": [
       "Columns:\n",
       "\tNPI\tint\n",
       "\tProvider Business Practice Location Address City Name\tstr\n",
       "\tProvider Business Practice Location Address State Name\tstr\n",
       "\tProvider Business Practice Location Address Country Code (If outside US)\tstr\n",
       "\n",
       "Rows: 5546683\n",
       "\n",
       "Data:\n",
       "+------------+-------------------------------+-------------------------------+\n",
       "|    NPI     | Provider Business Practice... | Provider Business Practice... |\n",
       "+------------+-------------------------------+-------------------------------+\n",
       "| 1679576722 |            KEARNEY            |               NE              |\n",
       "| 1588667638 |          JACKSONVILLE         |               FL              |\n",
       "| 1497758544 |          FAYETTEVILLE         |               NC              |\n",
       "| 1306849450 |             ATHENS            |               TX              |\n",
       "| 1215930367 |            HOUSTON            |               TX              |\n",
       "| 1023011178 |              NAPA             |               CA              |\n",
       "| 1932102084 |             TOLEDO            |               OH              |\n",
       "| 1841293990 |            NEW YORK           |               NY              |\n",
       "| 1750384806 |            LUBBOCK            |               TX              |\n",
       "| 1669475711 |           SUGAR LAND          |               TX              |\n",
       "+------------+-------------------------------+-------------------------------+\n",
       "+-------------------------------+\n",
       "| Provider Business Practice... |\n",
       "+-------------------------------+\n",
       "|               US              |\n",
       "|               US              |\n",
       "|               US              |\n",
       "|               US              |\n",
       "|               US              |\n",
       "|               US              |\n",
       "|               US              |\n",
       "|               US              |\n",
       "|               US              |\n",
       "|               US              |\n",
       "+-------------------------------+\n",
       "[5546683 rows x 4 columns]\n",
       "Note: Only the head of the SFrame is printed.\n",
       "You can use print_rows(num_rows=m, num_columns=n) to print more rows and columns."
      ]
     },
     "execution_count": 103,
     "metadata": {},
     "output_type": "execute_result"
    }
   ],
   "source": [
    "physician_mf3_sf"
   ]
  },
  {
   "cell_type": "code",
   "execution_count": 104,
   "metadata": {
    "collapsed": true
   },
   "outputs": [
    {
     "data": {
      "text/html": [
       "<div style=\"max-height:1000px;max-width:1500px;overflow:auto;\"><table frame=\"box\" rules=\"cols\">\n",
       "    <tr>\n",
       "        <th style=\"padding-left: 1em; padding-right: 1em; text-align: center\">Initial Physician NPI</th>\n",
       "        <th style=\"padding-left: 1em; padding-right: 1em; text-align: center\">Provider Business<br>Practice Location Add ...</th>\n",
       "        <th style=\"padding-left: 1em; padding-right: 1em; text-align: center\">Provider Business<br>Practice Location Add ...</th>\n",
       "        <th style=\"padding-left: 1em; padding-right: 1em; text-align: center\">Provider Business<br>Practice Location Add ...</th>\n",
       "    </tr>\n",
       "    <tr>\n",
       "        <td style=\"padding-left: 1em; padding-right: 1em; text-align: center; vertical-align: top\">1679576722</td>\n",
       "        <td style=\"padding-left: 1em; padding-right: 1em; text-align: center; vertical-align: top\">KEARNEY</td>\n",
       "        <td style=\"padding-left: 1em; padding-right: 1em; text-align: center; vertical-align: top\">NE</td>\n",
       "        <td style=\"padding-left: 1em; padding-right: 1em; text-align: center; vertical-align: top\">US</td>\n",
       "    </tr>\n",
       "    <tr>\n",
       "        <td style=\"padding-left: 1em; padding-right: 1em; text-align: center; vertical-align: top\">1588667638</td>\n",
       "        <td style=\"padding-left: 1em; padding-right: 1em; text-align: center; vertical-align: top\">JACKSONVILLE</td>\n",
       "        <td style=\"padding-left: 1em; padding-right: 1em; text-align: center; vertical-align: top\">FL</td>\n",
       "        <td style=\"padding-left: 1em; padding-right: 1em; text-align: center; vertical-align: top\">US</td>\n",
       "    </tr>\n",
       "    <tr>\n",
       "        <td style=\"padding-left: 1em; padding-right: 1em; text-align: center; vertical-align: top\">1497758544</td>\n",
       "        <td style=\"padding-left: 1em; padding-right: 1em; text-align: center; vertical-align: top\">FAYETTEVILLE</td>\n",
       "        <td style=\"padding-left: 1em; padding-right: 1em; text-align: center; vertical-align: top\">NC</td>\n",
       "        <td style=\"padding-left: 1em; padding-right: 1em; text-align: center; vertical-align: top\">US</td>\n",
       "    </tr>\n",
       "    <tr>\n",
       "        <td style=\"padding-left: 1em; padding-right: 1em; text-align: center; vertical-align: top\">1306849450</td>\n",
       "        <td style=\"padding-left: 1em; padding-right: 1em; text-align: center; vertical-align: top\">ATHENS</td>\n",
       "        <td style=\"padding-left: 1em; padding-right: 1em; text-align: center; vertical-align: top\">TX</td>\n",
       "        <td style=\"padding-left: 1em; padding-right: 1em; text-align: center; vertical-align: top\">US</td>\n",
       "    </tr>\n",
       "    <tr>\n",
       "        <td style=\"padding-left: 1em; padding-right: 1em; text-align: center; vertical-align: top\">1215930367</td>\n",
       "        <td style=\"padding-left: 1em; padding-right: 1em; text-align: center; vertical-align: top\">HOUSTON</td>\n",
       "        <td style=\"padding-left: 1em; padding-right: 1em; text-align: center; vertical-align: top\">TX</td>\n",
       "        <td style=\"padding-left: 1em; padding-right: 1em; text-align: center; vertical-align: top\">US</td>\n",
       "    </tr>\n",
       "    <tr>\n",
       "        <td style=\"padding-left: 1em; padding-right: 1em; text-align: center; vertical-align: top\">1023011178</td>\n",
       "        <td style=\"padding-left: 1em; padding-right: 1em; text-align: center; vertical-align: top\">NAPA</td>\n",
       "        <td style=\"padding-left: 1em; padding-right: 1em; text-align: center; vertical-align: top\">CA</td>\n",
       "        <td style=\"padding-left: 1em; padding-right: 1em; text-align: center; vertical-align: top\">US</td>\n",
       "    </tr>\n",
       "    <tr>\n",
       "        <td style=\"padding-left: 1em; padding-right: 1em; text-align: center; vertical-align: top\">1932102084</td>\n",
       "        <td style=\"padding-left: 1em; padding-right: 1em; text-align: center; vertical-align: top\">TOLEDO</td>\n",
       "        <td style=\"padding-left: 1em; padding-right: 1em; text-align: center; vertical-align: top\">OH</td>\n",
       "        <td style=\"padding-left: 1em; padding-right: 1em; text-align: center; vertical-align: top\">US</td>\n",
       "    </tr>\n",
       "    <tr>\n",
       "        <td style=\"padding-left: 1em; padding-right: 1em; text-align: center; vertical-align: top\">1841293990</td>\n",
       "        <td style=\"padding-left: 1em; padding-right: 1em; text-align: center; vertical-align: top\">NEW YORK</td>\n",
       "        <td style=\"padding-left: 1em; padding-right: 1em; text-align: center; vertical-align: top\">NY</td>\n",
       "        <td style=\"padding-left: 1em; padding-right: 1em; text-align: center; vertical-align: top\">US</td>\n",
       "    </tr>\n",
       "    <tr>\n",
       "        <td style=\"padding-left: 1em; padding-right: 1em; text-align: center; vertical-align: top\">1750384806</td>\n",
       "        <td style=\"padding-left: 1em; padding-right: 1em; text-align: center; vertical-align: top\">LUBBOCK</td>\n",
       "        <td style=\"padding-left: 1em; padding-right: 1em; text-align: center; vertical-align: top\">TX</td>\n",
       "        <td style=\"padding-left: 1em; padding-right: 1em; text-align: center; vertical-align: top\">US</td>\n",
       "    </tr>\n",
       "    <tr>\n",
       "        <td style=\"padding-left: 1em; padding-right: 1em; text-align: center; vertical-align: top\">1669475711</td>\n",
       "        <td style=\"padding-left: 1em; padding-right: 1em; text-align: center; vertical-align: top\">SUGAR LAND</td>\n",
       "        <td style=\"padding-left: 1em; padding-right: 1em; text-align: center; vertical-align: top\">TX</td>\n",
       "        <td style=\"padding-left: 1em; padding-right: 1em; text-align: center; vertical-align: top\">US</td>\n",
       "    </tr>\n",
       "</table>\n",
       "[5546683 rows x 4 columns]<br/>Note: Only the head of the SFrame is printed.<br/>You can use print_rows(num_rows=m, num_columns=n) to print more rows and columns.\n",
       "</div>"
      ],
      "text/plain": [
       "Columns:\n",
       "\tInitial Physician NPI\tint\n",
       "\tProvider Business Practice Location Address City Name\tstr\n",
       "\tProvider Business Practice Location Address State Name\tstr\n",
       "\tProvider Business Practice Location Address Country Code (If outside US)\tstr\n",
       "\n",
       "Rows: 5546683\n",
       "\n",
       "Data:\n",
       "+-----------------------+-------------------------------+-------------------------------+\n",
       "| Initial Physician NPI | Provider Business Practice... | Provider Business Practice... |\n",
       "+-----------------------+-------------------------------+-------------------------------+\n",
       "|       1679576722      |            KEARNEY            |               NE              |\n",
       "|       1588667638      |          JACKSONVILLE         |               FL              |\n",
       "|       1497758544      |          FAYETTEVILLE         |               NC              |\n",
       "|       1306849450      |             ATHENS            |               TX              |\n",
       "|       1215930367      |            HOUSTON            |               TX              |\n",
       "|       1023011178      |              NAPA             |               CA              |\n",
       "|       1932102084      |             TOLEDO            |               OH              |\n",
       "|       1841293990      |            NEW YORK           |               NY              |\n",
       "|       1750384806      |            LUBBOCK            |               TX              |\n",
       "|       1669475711      |           SUGAR LAND          |               TX              |\n",
       "+-----------------------+-------------------------------+-------------------------------+\n",
       "+-------------------------------+\n",
       "| Provider Business Practice... |\n",
       "+-------------------------------+\n",
       "|               US              |\n",
       "|               US              |\n",
       "|               US              |\n",
       "|               US              |\n",
       "|               US              |\n",
       "|               US              |\n",
       "|               US              |\n",
       "|               US              |\n",
       "|               US              |\n",
       "|               US              |\n",
       "+-------------------------------+\n",
       "[5546683 rows x 4 columns]\n",
       "Note: Only the head of the SFrame is printed.\n",
       "You can use print_rows(num_rows=m, num_columns=n) to print more rows and columns."
      ]
     },
     "execution_count": 104,
     "metadata": {},
     "output_type": "execute_result"
    }
   ],
   "source": [
    "initial_physician_mf3_sf = gl.SFrame(physician_mf3_sf)\n",
    "initial_physician_mf3_sf.rename({'NPI': 'Initial Physician NPI'})"
   ]
  },
  {
   "cell_type": "code",
   "execution_count": 107,
   "metadata": {
    "collapsed": true
   },
   "outputs": [
    {
     "data": {
      "text/html": [
       "<div style=\"max-height:1000px;max-width:1500px;overflow:auto;\"><table frame=\"box\" rules=\"cols\">\n",
       "    <tr>\n",
       "        <th style=\"padding-left: 1em; padding-right: 1em; text-align: center\">Secondary Physician NPI</th>\n",
       "        <th style=\"padding-left: 1em; padding-right: 1em; text-align: center\">Provider Business<br>Practice Location Add ...</th>\n",
       "        <th style=\"padding-left: 1em; padding-right: 1em; text-align: center\">Provider Business<br>Practice Location Add ...</th>\n",
       "        <th style=\"padding-left: 1em; padding-right: 1em; text-align: center\">Provider Business<br>Practice Location Add ...</th>\n",
       "    </tr>\n",
       "    <tr>\n",
       "        <td style=\"padding-left: 1em; padding-right: 1em; text-align: center; vertical-align: top\">1679576722</td>\n",
       "        <td style=\"padding-left: 1em; padding-right: 1em; text-align: center; vertical-align: top\">KEARNEY</td>\n",
       "        <td style=\"padding-left: 1em; padding-right: 1em; text-align: center; vertical-align: top\">NE</td>\n",
       "        <td style=\"padding-left: 1em; padding-right: 1em; text-align: center; vertical-align: top\">US</td>\n",
       "    </tr>\n",
       "    <tr>\n",
       "        <td style=\"padding-left: 1em; padding-right: 1em; text-align: center; vertical-align: top\">1588667638</td>\n",
       "        <td style=\"padding-left: 1em; padding-right: 1em; text-align: center; vertical-align: top\">JACKSONVILLE</td>\n",
       "        <td style=\"padding-left: 1em; padding-right: 1em; text-align: center; vertical-align: top\">FL</td>\n",
       "        <td style=\"padding-left: 1em; padding-right: 1em; text-align: center; vertical-align: top\">US</td>\n",
       "    </tr>\n",
       "    <tr>\n",
       "        <td style=\"padding-left: 1em; padding-right: 1em; text-align: center; vertical-align: top\">1497758544</td>\n",
       "        <td style=\"padding-left: 1em; padding-right: 1em; text-align: center; vertical-align: top\">FAYETTEVILLE</td>\n",
       "        <td style=\"padding-left: 1em; padding-right: 1em; text-align: center; vertical-align: top\">NC</td>\n",
       "        <td style=\"padding-left: 1em; padding-right: 1em; text-align: center; vertical-align: top\">US</td>\n",
       "    </tr>\n",
       "    <tr>\n",
       "        <td style=\"padding-left: 1em; padding-right: 1em; text-align: center; vertical-align: top\">1306849450</td>\n",
       "        <td style=\"padding-left: 1em; padding-right: 1em; text-align: center; vertical-align: top\">ATHENS</td>\n",
       "        <td style=\"padding-left: 1em; padding-right: 1em; text-align: center; vertical-align: top\">TX</td>\n",
       "        <td style=\"padding-left: 1em; padding-right: 1em; text-align: center; vertical-align: top\">US</td>\n",
       "    </tr>\n",
       "    <tr>\n",
       "        <td style=\"padding-left: 1em; padding-right: 1em; text-align: center; vertical-align: top\">1215930367</td>\n",
       "        <td style=\"padding-left: 1em; padding-right: 1em; text-align: center; vertical-align: top\">HOUSTON</td>\n",
       "        <td style=\"padding-left: 1em; padding-right: 1em; text-align: center; vertical-align: top\">TX</td>\n",
       "        <td style=\"padding-left: 1em; padding-right: 1em; text-align: center; vertical-align: top\">US</td>\n",
       "    </tr>\n",
       "    <tr>\n",
       "        <td style=\"padding-left: 1em; padding-right: 1em; text-align: center; vertical-align: top\">1023011178</td>\n",
       "        <td style=\"padding-left: 1em; padding-right: 1em; text-align: center; vertical-align: top\">NAPA</td>\n",
       "        <td style=\"padding-left: 1em; padding-right: 1em; text-align: center; vertical-align: top\">CA</td>\n",
       "        <td style=\"padding-left: 1em; padding-right: 1em; text-align: center; vertical-align: top\">US</td>\n",
       "    </tr>\n",
       "    <tr>\n",
       "        <td style=\"padding-left: 1em; padding-right: 1em; text-align: center; vertical-align: top\">1932102084</td>\n",
       "        <td style=\"padding-left: 1em; padding-right: 1em; text-align: center; vertical-align: top\">TOLEDO</td>\n",
       "        <td style=\"padding-left: 1em; padding-right: 1em; text-align: center; vertical-align: top\">OH</td>\n",
       "        <td style=\"padding-left: 1em; padding-right: 1em; text-align: center; vertical-align: top\">US</td>\n",
       "    </tr>\n",
       "    <tr>\n",
       "        <td style=\"padding-left: 1em; padding-right: 1em; text-align: center; vertical-align: top\">1841293990</td>\n",
       "        <td style=\"padding-left: 1em; padding-right: 1em; text-align: center; vertical-align: top\">NEW YORK</td>\n",
       "        <td style=\"padding-left: 1em; padding-right: 1em; text-align: center; vertical-align: top\">NY</td>\n",
       "        <td style=\"padding-left: 1em; padding-right: 1em; text-align: center; vertical-align: top\">US</td>\n",
       "    </tr>\n",
       "    <tr>\n",
       "        <td style=\"padding-left: 1em; padding-right: 1em; text-align: center; vertical-align: top\">1750384806</td>\n",
       "        <td style=\"padding-left: 1em; padding-right: 1em; text-align: center; vertical-align: top\">LUBBOCK</td>\n",
       "        <td style=\"padding-left: 1em; padding-right: 1em; text-align: center; vertical-align: top\">TX</td>\n",
       "        <td style=\"padding-left: 1em; padding-right: 1em; text-align: center; vertical-align: top\">US</td>\n",
       "    </tr>\n",
       "    <tr>\n",
       "        <td style=\"padding-left: 1em; padding-right: 1em; text-align: center; vertical-align: top\">1669475711</td>\n",
       "        <td style=\"padding-left: 1em; padding-right: 1em; text-align: center; vertical-align: top\">SUGAR LAND</td>\n",
       "        <td style=\"padding-left: 1em; padding-right: 1em; text-align: center; vertical-align: top\">TX</td>\n",
       "        <td style=\"padding-left: 1em; padding-right: 1em; text-align: center; vertical-align: top\">US</td>\n",
       "    </tr>\n",
       "</table>\n",
       "[5546683 rows x 4 columns]<br/>Note: Only the head of the SFrame is printed.<br/>You can use print_rows(num_rows=m, num_columns=n) to print more rows and columns.\n",
       "</div>"
      ],
      "text/plain": [
       "Columns:\n",
       "\tSecondary Physician NPI\tint\n",
       "\tProvider Business Practice Location Address City Name\tstr\n",
       "\tProvider Business Practice Location Address State Name\tstr\n",
       "\tProvider Business Practice Location Address Country Code (If outside US)\tstr\n",
       "\n",
       "Rows: 5546683\n",
       "\n",
       "Data:\n",
       "+-------------------------+-------------------------------+-------------------------------+\n",
       "| Secondary Physician NPI | Provider Business Practice... | Provider Business Practice... |\n",
       "+-------------------------+-------------------------------+-------------------------------+\n",
       "|        1679576722       |            KEARNEY            |               NE              |\n",
       "|        1588667638       |          JACKSONVILLE         |               FL              |\n",
       "|        1497758544       |          FAYETTEVILLE         |               NC              |\n",
       "|        1306849450       |             ATHENS            |               TX              |\n",
       "|        1215930367       |            HOUSTON            |               TX              |\n",
       "|        1023011178       |              NAPA             |               CA              |\n",
       "|        1932102084       |             TOLEDO            |               OH              |\n",
       "|        1841293990       |            NEW YORK           |               NY              |\n",
       "|        1750384806       |            LUBBOCK            |               TX              |\n",
       "|        1669475711       |           SUGAR LAND          |               TX              |\n",
       "+-------------------------+-------------------------------+-------------------------------+\n",
       "+-------------------------------+\n",
       "| Provider Business Practice... |\n",
       "+-------------------------------+\n",
       "|               US              |\n",
       "|               US              |\n",
       "|               US              |\n",
       "|               US              |\n",
       "|               US              |\n",
       "|               US              |\n",
       "|               US              |\n",
       "|               US              |\n",
       "|               US              |\n",
       "|               US              |\n",
       "+-------------------------------+\n",
       "[5546683 rows x 4 columns]\n",
       "Note: Only the head of the SFrame is printed.\n",
       "You can use print_rows(num_rows=m, num_columns=n) to print more rows and columns."
      ]
     },
     "execution_count": 107,
     "metadata": {},
     "output_type": "execute_result"
    }
   ],
   "source": [
    "secondary_physician_mf3_sf = gl.SFrame(physician_mf3_sf)\n",
    "secondary_physician_mf3_sf.rename({'NPI': 'Secondary Physician NPI'})"
   ]
  },
  {
   "cell_type": "code",
   "execution_count": 109,
   "metadata": {},
   "outputs": [
    {
     "data": {
      "text/html": [
       "<pre>Recsys training: model = factorization_recommender</pre>"
      ],
      "text/plain": [
       "Recsys training: model = factorization_recommender"
      ]
     },
     "metadata": {},
     "output_type": "display_data"
    },
    {
     "data": {
      "text/html": [
       "<pre>Preparing data set.</pre>"
      ],
      "text/plain": [
       "Preparing data set."
      ]
     },
     "metadata": {},
     "output_type": "display_data"
    },
    {
     "data": {
      "text/html": [
       "<pre>    Data has 250023652 observations with 5547086 users and 5547081 items.</pre>"
      ],
      "text/plain": [
       "    Data has 250023652 observations with 5547086 users and 5547081 items."
      ]
     },
     "metadata": {},
     "output_type": "display_data"
    },
    {
     "data": {
      "text/html": [
       "<pre>    Data prepared in: 131.908s</pre>"
      ],
      "text/plain": [
       "    Data prepared in: 131.908s"
      ]
     },
     "metadata": {},
     "output_type": "display_data"
    },
    {
     "data": {
      "text/html": [
       "<pre>Training factorization_recommender for recommendations.</pre>"
      ],
      "text/plain": [
       "Training factorization_recommender for recommendations."
      ]
     },
     "metadata": {},
     "output_type": "display_data"
    },
    {
     "data": {
      "text/html": [
       "<pre>+--------------------------------+--------------------------------------------------+----------+</pre>"
      ],
      "text/plain": [
       "+--------------------------------+--------------------------------------------------+----------+"
      ]
     },
     "metadata": {},
     "output_type": "display_data"
    },
    {
     "data": {
      "text/html": [
       "<pre>| Parameter                      | Description                                      | Value    |</pre>"
      ],
      "text/plain": [
       "| Parameter                      | Description                                      | Value    |"
      ]
     },
     "metadata": {},
     "output_type": "display_data"
    },
    {
     "data": {
      "text/html": [
       "<pre>+--------------------------------+--------------------------------------------------+----------+</pre>"
      ],
      "text/plain": [
       "+--------------------------------+--------------------------------------------------+----------+"
      ]
     },
     "metadata": {},
     "output_type": "display_data"
    },
    {
     "data": {
      "text/html": [
       "<pre>| num_factors                    | Factor Dimension                                 | 8        |</pre>"
      ],
      "text/plain": [
       "| num_factors                    | Factor Dimension                                 | 8        |"
      ]
     },
     "metadata": {},
     "output_type": "display_data"
    },
    {
     "data": {
      "text/html": [
       "<pre>| regularization                 | L2 Regularization on Factors                     | 1e-08    |</pre>"
      ],
      "text/plain": [
       "| regularization                 | L2 Regularization on Factors                     | 1e-08    |"
      ]
     },
     "metadata": {},
     "output_type": "display_data"
    },
    {
     "data": {
      "text/html": [
       "<pre>| solver                         | Solver used for training                         | adagrad  |</pre>"
      ],
      "text/plain": [
       "| solver                         | Solver used for training                         | adagrad  |"
      ]
     },
     "metadata": {},
     "output_type": "display_data"
    },
    {
     "data": {
      "text/html": [
       "<pre>| linear_regularization          | L2 Regularization on Linear Coefficients         | 1e-10    |</pre>"
      ],
      "text/plain": [
       "| linear_regularization          | L2 Regularization on Linear Coefficients         | 1e-10    |"
      ]
     },
     "metadata": {},
     "output_type": "display_data"
    },
    {
     "data": {
      "text/html": [
       "<pre>| side_data_factorization        | Assign Factors for Side Data                     | True     |</pre>"
      ],
      "text/plain": [
       "| side_data_factorization        | Assign Factors for Side Data                     | True     |"
      ]
     },
     "metadata": {},
     "output_type": "display_data"
    },
    {
     "data": {
      "text/html": [
       "<pre>| max_iterations                 | Maximum Number of Iterations                     | 50       |</pre>"
      ],
      "text/plain": [
       "| max_iterations                 | Maximum Number of Iterations                     | 50       |"
      ]
     },
     "metadata": {},
     "output_type": "display_data"
    },
    {
     "data": {
      "text/html": [
       "<pre>+--------------------------------+--------------------------------------------------+----------+</pre>"
      ],
      "text/plain": [
       "+--------------------------------+--------------------------------------------------+----------+"
      ]
     },
     "metadata": {},
     "output_type": "display_data"
    },
    {
     "data": {
      "text/html": [
       "<pre>  Optimizing model using SGD; tuning step size.</pre>"
      ],
      "text/plain": [
       "  Optimizing model using SGD; tuning step size."
      ]
     },
     "metadata": {},
     "output_type": "display_data"
    },
    {
     "data": {
      "text/html": [
       "<pre>  Using 31252956 / 250023652 points for tuning the step size.</pre>"
      ],
      "text/plain": [
       "  Using 31252956 / 250023652 points for tuning the step size."
      ]
     },
     "metadata": {},
     "output_type": "display_data"
    },
    {
     "data": {
      "text/html": [
       "<pre>+---------+-------------------+------------------------------------------+</pre>"
      ],
      "text/plain": [
       "+---------+-------------------+------------------------------------------+"
      ]
     },
     "metadata": {},
     "output_type": "display_data"
    },
    {
     "data": {
      "text/html": [
       "<pre>| Attempt | Initial Step Size | Estimated Objective Value                |</pre>"
      ],
      "text/plain": [
       "| Attempt | Initial Step Size | Estimated Objective Value                |"
      ]
     },
     "metadata": {},
     "output_type": "display_data"
    },
    {
     "data": {
      "text/html": [
       "<pre>+---------+-------------------+------------------------------------------+</pre>"
      ],
      "text/plain": [
       "+---------+-------------------+------------------------------------------+"
      ]
     },
     "metadata": {},
     "output_type": "display_data"
    },
    {
     "data": {
      "text/html": [
       "<pre>| 0       | 6.25              | 3741.22                                  |</pre>"
      ],
      "text/plain": [
       "| 0       | 6.25              | 3741.22                                  |"
      ]
     },
     "metadata": {},
     "output_type": "display_data"
    },
    {
     "data": {
      "text/html": [
       "<pre>| 1       | 3.125             | 3245.33                                  |</pre>"
      ],
      "text/plain": [
       "| 1       | 3.125             | 3245.33                                  |"
      ]
     },
     "metadata": {},
     "output_type": "display_data"
    },
    {
     "data": {
      "text/html": [
       "<pre>| 2       | 1.5625            | 3146.87                                  |</pre>"
      ],
      "text/plain": [
       "| 2       | 1.5625            | 3146.87                                  |"
      ]
     },
     "metadata": {},
     "output_type": "display_data"
    },
    {
     "data": {
      "text/html": [
       "<pre>| 3       | 0.78125           | 3588.02                                  |</pre>"
      ],
      "text/plain": [
       "| 3       | 0.78125           | 3588.02                                  |"
      ]
     },
     "metadata": {},
     "output_type": "display_data"
    },
    {
     "data": {
      "text/html": [
       "<pre>| 4       | 0.390625          | 4070.47                                  |</pre>"
      ],
      "text/plain": [
       "| 4       | 0.390625          | 4070.47                                  |"
      ]
     },
     "metadata": {},
     "output_type": "display_data"
    },
    {
     "data": {
      "text/html": [
       "<pre>| 5       | 0.195312          | 4428.62                                  |</pre>"
      ],
      "text/plain": [
       "| 5       | 0.195312          | 4428.62                                  |"
      ]
     },
     "metadata": {},
     "output_type": "display_data"
    },
    {
     "data": {
      "text/html": [
       "<pre>+---------+-------------------+------------------------------------------+</pre>"
      ],
      "text/plain": [
       "+---------+-------------------+------------------------------------------+"
      ]
     },
     "metadata": {},
     "output_type": "display_data"
    },
    {
     "data": {
      "text/html": [
       "<pre>| Final   | 1.5625            | 3146.87                                  |</pre>"
      ],
      "text/plain": [
       "| Final   | 1.5625            | 3146.87                                  |"
      ]
     },
     "metadata": {},
     "output_type": "display_data"
    },
    {
     "data": {
      "text/html": [
       "<pre>+---------+-------------------+------------------------------------------+</pre>"
      ],
      "text/plain": [
       "+---------+-------------------+------------------------------------------+"
      ]
     },
     "metadata": {},
     "output_type": "display_data"
    },
    {
     "data": {
      "text/html": [
       "<pre>Starting Optimization.</pre>"
      ],
      "text/plain": [
       "Starting Optimization."
      ]
     },
     "metadata": {},
     "output_type": "display_data"
    },
    {
     "data": {
      "text/html": [
       "<pre>+---------+--------------+-------------------+-----------------------+-------------+</pre>"
      ],
      "text/plain": [
       "+---------+--------------+-------------------+-----------------------+-------------+"
      ]
     },
     "metadata": {},
     "output_type": "display_data"
    },
    {
     "data": {
      "text/html": [
       "<pre>| Iter.   | Elapsed Time | Approx. Objective | Approx. Training RMSE | Step Size   |</pre>"
      ],
      "text/plain": [
       "| Iter.   | Elapsed Time | Approx. Objective | Approx. Training RMSE | Step Size   |"
      ]
     },
     "metadata": {},
     "output_type": "display_data"
    },
    {
     "data": {
      "text/html": [
       "<pre>+---------+--------------+-------------------+-----------------------+-------------+</pre>"
      ],
      "text/plain": [
       "+---------+--------------+-------------------+-----------------------+-------------+"
      ]
     },
     "metadata": {},
     "output_type": "display_data"
    },
    {
     "data": {
      "text/html": [
       "<pre>| Initial | 103us        | 5131.58           | 71.6351               |             |</pre>"
      ],
      "text/plain": [
       "| Initial | 103us        | 5131.58           | 71.6351               |             |"
      ]
     },
     "metadata": {},
     "output_type": "display_data"
    },
    {
     "data": {
      "text/html": [
       "<pre>+---------+--------------+-------------------+-----------------------+-------------+</pre>"
      ],
      "text/plain": [
       "+---------+--------------+-------------------+-----------------------+-------------+"
      ]
     },
     "metadata": {},
     "output_type": "display_data"
    },
    {
     "data": {
      "text/html": [
       "<pre>| 1       | 35.24s       | 4165.84           | 64.5422               | 1.5625      |</pre>"
      ],
      "text/plain": [
       "| 1       | 35.24s       | 4165.84           | 64.5422               | 1.5625      |"
      ]
     },
     "metadata": {},
     "output_type": "display_data"
    },
    {
     "data": {
      "text/html": [
       "<pre>| 2       | 1m 10s       | 4036.76           | 63.5322               | 1.5625      |</pre>"
      ],
      "text/plain": [
       "| 2       | 1m 10s       | 4036.76           | 63.5322               | 1.5625      |"
      ]
     },
     "metadata": {},
     "output_type": "display_data"
    },
    {
     "data": {
      "text/html": [
       "<pre>| 3       | 1m 45s       | 3560.26           | 59.6633               | 1.5625      |</pre>"
      ],
      "text/plain": [
       "| 3       | 1m 45s       | 3560.26           | 59.6633               | 1.5625      |"
      ]
     },
     "metadata": {},
     "output_type": "display_data"
    },
    {
     "data": {
      "text/html": [
       "<pre>| 4       | 2m 20s       | 3309.84           | 57.5258               | 1.5625      |</pre>"
      ],
      "text/plain": [
       "| 4       | 2m 20s       | 3309.84           | 57.5258               | 1.5625      |"
      ]
     },
     "metadata": {},
     "output_type": "display_data"
    },
    {
     "data": {
      "text/html": [
       "<pre>| 5       | 2m 55s       | 3161.22           | 56.2189               | 1.5625      |</pre>"
      ],
      "text/plain": [
       "| 5       | 2m 55s       | 3161.22           | 56.2189               | 1.5625      |"
      ]
     },
     "metadata": {},
     "output_type": "display_data"
    },
    {
     "data": {
      "text/html": [
       "<pre>| 6       | 3m 31s       | 3061.49           | 55.3246               | 1.5625      |</pre>"
      ],
      "text/plain": [
       "| 6       | 3m 31s       | 3061.49           | 55.3246               | 1.5625      |"
      ]
     },
     "metadata": {},
     "output_type": "display_data"
    },
    {
     "data": {
      "text/html": [
       "<pre>| 7       | 4m 6s        | 2992.33           | 54.6958               | 1.5625      |</pre>"
      ],
      "text/plain": [
       "| 7       | 4m 6s        | 2992.33           | 54.6958               | 1.5625      |"
      ]
     },
     "metadata": {},
     "output_type": "display_data"
    },
    {
     "data": {
      "text/html": [
       "<pre>| 8       | 4m 41s       | 2939.03           | 54.2062               | 1.5625      |</pre>"
      ],
      "text/plain": [
       "| 8       | 4m 41s       | 2939.03           | 54.2062               | 1.5625      |"
      ]
     },
     "metadata": {},
     "output_type": "display_data"
    },
    {
     "data": {
      "text/html": [
       "<pre>| 9       | 5m 16s       | 2897.25           | 53.8194               | 1.5625      |</pre>"
      ],
      "text/plain": [
       "| 9       | 5m 16s       | 2897.25           | 53.8194               | 1.5625      |"
      ]
     },
     "metadata": {},
     "output_type": "display_data"
    },
    {
     "data": {
      "text/html": [
       "<pre>| 10      | 5m 51s       | 2862.9            | 53.4993               | 1.5625      |</pre>"
      ],
      "text/plain": [
       "| 10      | 5m 51s       | 2862.9            | 53.4993               | 1.5625      |"
      ]
     },
     "metadata": {},
     "output_type": "display_data"
    },
    {
     "data": {
      "text/html": [
       "<pre>| 11      | 6m 26s       | 2834.33           | 53.2316               | 1.5625      |</pre>"
      ],
      "text/plain": [
       "| 11      | 6m 26s       | 2834.33           | 53.2316               | 1.5625      |"
      ]
     },
     "metadata": {},
     "output_type": "display_data"
    },
    {
     "data": {
      "text/html": [
       "<pre>| 12      | 7m 1s        | 2811.7            | 53.0185               | 1.5625      |</pre>"
      ],
      "text/plain": [
       "| 12      | 7m 1s        | 2811.7            | 53.0185               | 1.5625      |"
      ]
     },
     "metadata": {},
     "output_type": "display_data"
    },
    {
     "data": {
      "text/html": [
       "<pre>| 13      | 7m 37s       | 2790.44           | 52.8176               | 1.5625      |</pre>"
      ],
      "text/plain": [
       "| 13      | 7m 37s       | 2790.44           | 52.8176               | 1.5625      |"
      ]
     },
     "metadata": {},
     "output_type": "display_data"
    },
    {
     "data": {
      "text/html": [
       "<pre>| 14      | 8m 12s       | 2771.81           | 52.6409               | 1.5625      |</pre>"
      ],
      "text/plain": [
       "| 14      | 8m 12s       | 2771.81           | 52.6409               | 1.5625      |"
      ]
     },
     "metadata": {},
     "output_type": "display_data"
    },
    {
     "data": {
      "text/html": [
       "<pre>| 15      | 8m 47s       | 2754.36           | 52.4748               | 1.5625      |</pre>"
      ],
      "text/plain": [
       "| 15      | 8m 47s       | 2754.36           | 52.4748               | 1.5625      |"
      ]
     },
     "metadata": {},
     "output_type": "display_data"
    },
    {
     "data": {
      "text/html": [
       "<pre>| 16      | 9m 22s       | 2741.54           | 52.3525               | 1.5625      |</pre>"
      ],
      "text/plain": [
       "| 16      | 9m 22s       | 2741.54           | 52.3525               | 1.5625      |"
      ]
     },
     "metadata": {},
     "output_type": "display_data"
    },
    {
     "data": {
      "text/html": [
       "<pre>| 17      | 9m 57s       | 2727.83           | 52.2214               | 1.5625      |</pre>"
      ],
      "text/plain": [
       "| 17      | 9m 57s       | 2727.83           | 52.2214               | 1.5625      |"
      ]
     },
     "metadata": {},
     "output_type": "display_data"
    },
    {
     "data": {
      "text/html": [
       "<pre>| 18      | 10m 32s      | 2715.73           | 52.1054               | 1.5625      |</pre>"
      ],
      "text/plain": [
       "| 18      | 10m 32s      | 2715.73           | 52.1054               | 1.5625      |"
      ]
     },
     "metadata": {},
     "output_type": "display_data"
    },
    {
     "data": {
      "text/html": [
       "<pre>| 19      | 11m 7s       | 2705.94           | 52.0113               | 1.5625      |</pre>"
      ],
      "text/plain": [
       "| 19      | 11m 7s       | 2705.94           | 52.0113               | 1.5625      |"
      ]
     },
     "metadata": {},
     "output_type": "display_data"
    },
    {
     "data": {
      "text/html": [
       "<pre>| 20      | 11m 43s      | 2695.19           | 51.9079               | 1.5625      |</pre>"
      ],
      "text/plain": [
       "| 20      | 11m 43s      | 2695.19           | 51.9079               | 1.5625      |"
      ]
     },
     "metadata": {},
     "output_type": "display_data"
    },
    {
     "data": {
      "text/html": [
       "<pre>| 21      | 12m 18s      | 2684.72           | 51.8069               | 1.5625      |</pre>"
      ],
      "text/plain": [
       "| 21      | 12m 18s      | 2684.72           | 51.8069               | 1.5625      |"
      ]
     },
     "metadata": {},
     "output_type": "display_data"
    },
    {
     "data": {
      "text/html": [
       "<pre>| 22      | 12m 53s      | 2676.81           | 51.7305               | 1.5625      |</pre>"
      ],
      "text/plain": [
       "| 22      | 12m 53s      | 2676.81           | 51.7305               | 1.5625      |"
      ]
     },
     "metadata": {},
     "output_type": "display_data"
    },
    {
     "data": {
      "text/html": [
       "<pre>| 23      | 13m 28s      | 2667.73           | 51.6427               | 1.5625      |</pre>"
      ],
      "text/plain": [
       "| 23      | 13m 28s      | 2667.73           | 51.6427               | 1.5625      |"
      ]
     },
     "metadata": {},
     "output_type": "display_data"
    },
    {
     "data": {
      "text/html": [
       "<pre>| 24      | 14m 3s       | 2660.67           | 51.5742               | 1.5625      |</pre>"
      ],
      "text/plain": [
       "| 24      | 14m 3s       | 2660.67           | 51.5742               | 1.5625      |"
      ]
     },
     "metadata": {},
     "output_type": "display_data"
    },
    {
     "data": {
      "text/html": [
       "<pre>| 25      | 14m 39s      | 2653.11           | 51.5009               | 1.5625      |</pre>"
      ],
      "text/plain": [
       "| 25      | 14m 39s      | 2653.11           | 51.5009               | 1.5625      |"
      ]
     },
     "metadata": {},
     "output_type": "display_data"
    },
    {
     "data": {
      "text/html": [
       "<pre>| 26      | 15m 14s      | 2646.19           | 51.4336               | 1.5625      |</pre>"
      ],
      "text/plain": [
       "| 26      | 15m 14s      | 2646.19           | 51.4336               | 1.5625      |"
      ]
     },
     "metadata": {},
     "output_type": "display_data"
    },
    {
     "data": {
      "text/html": [
       "<pre>| 27      | 15m 49s      | 2639.51           | 51.3686               | 1.5625      |</pre>"
      ],
      "text/plain": [
       "| 27      | 15m 49s      | 2639.51           | 51.3686               | 1.5625      |"
      ]
     },
     "metadata": {},
     "output_type": "display_data"
    },
    {
     "data": {
      "text/html": [
       "<pre>| 28      | 16m 24s      | 2633.8            | 51.313                | 1.5625      |</pre>"
      ],
      "text/plain": [
       "| 28      | 16m 24s      | 2633.8            | 51.313                | 1.5625      |"
      ]
     },
     "metadata": {},
     "output_type": "display_data"
    },
    {
     "data": {
      "text/html": [
       "<pre>| 29      | 16m 59s      | 2627.62           | 51.2527               | 1.5625      |</pre>"
      ],
      "text/plain": [
       "| 29      | 16m 59s      | 2627.62           | 51.2527               | 1.5625      |"
      ]
     },
     "metadata": {},
     "output_type": "display_data"
    },
    {
     "data": {
      "text/html": [
       "<pre>| 30      | 17m 34s      | 2621.68           | 51.1947               | 1.5625      |</pre>"
      ],
      "text/plain": [
       "| 30      | 17m 34s      | 2621.68           | 51.1947               | 1.5625      |"
      ]
     },
     "metadata": {},
     "output_type": "display_data"
    },
    {
     "data": {
      "text/html": [
       "<pre>| 31      | 18m 10s      | 2615.27           | 51.132                | 1.5625      |</pre>"
      ],
      "text/plain": [
       "| 31      | 18m 10s      | 2615.27           | 51.132                | 1.5625      |"
      ]
     },
     "metadata": {},
     "output_type": "display_data"
    },
    {
     "data": {
      "text/html": [
       "<pre>| 32      | 18m 45s      | 2611.46           | 51.0948               | 1.5625      |</pre>"
      ],
      "text/plain": [
       "| 32      | 18m 45s      | 2611.46           | 51.0948               | 1.5625      |"
      ]
     },
     "metadata": {},
     "output_type": "display_data"
    },
    {
     "data": {
      "text/html": [
       "<pre>| 33      | 19m 20s      | 2605.87           | 51.04                 | 1.5625      |</pre>"
      ],
      "text/plain": [
       "| 33      | 19m 20s      | 2605.87           | 51.04                 | 1.5625      |"
      ]
     },
     "metadata": {},
     "output_type": "display_data"
    },
    {
     "data": {
      "text/html": [
       "<pre>| 34      | 19m 55s      | 2600.52           | 50.9876               | 1.5625      |</pre>"
      ],
      "text/plain": [
       "| 34      | 19m 55s      | 2600.52           | 50.9876               | 1.5625      |"
      ]
     },
     "metadata": {},
     "output_type": "display_data"
    },
    {
     "data": {
      "text/html": [
       "<pre>| 35      | 20m 30s      | 2596.26           | 50.9458               | 1.5625      |</pre>"
      ],
      "text/plain": [
       "| 35      | 20m 30s      | 2596.26           | 50.9458               | 1.5625      |"
      ]
     },
     "metadata": {},
     "output_type": "display_data"
    },
    {
     "data": {
      "text/html": [
       "<pre>| 36      | 21m 5s       | 2591.85           | 50.9024               | 1.5625      |</pre>"
      ],
      "text/plain": [
       "| 36      | 21m 5s       | 2591.85           | 50.9024               | 1.5625      |"
      ]
     },
     "metadata": {},
     "output_type": "display_data"
    },
    {
     "data": {
      "text/html": [
       "<pre>| 37      | 21m 41s      | 2587.27           | 50.8575               | 1.5625      |</pre>"
      ],
      "text/plain": [
       "| 37      | 21m 41s      | 2587.27           | 50.8575               | 1.5625      |"
      ]
     },
     "metadata": {},
     "output_type": "display_data"
    },
    {
     "data": {
      "text/html": [
       "<pre>| 38      | 22m 16s      | 2582.92           | 50.8146               | 1.5625      |</pre>"
      ],
      "text/plain": [
       "| 38      | 22m 16s      | 2582.92           | 50.8146               | 1.5625      |"
      ]
     },
     "metadata": {},
     "output_type": "display_data"
    },
    {
     "data": {
      "text/html": [
       "<pre>| 39      | 22m 51s      | 2578.63           | 50.7724               | 1.5625      |</pre>"
      ],
      "text/plain": [
       "| 39      | 22m 51s      | 2578.63           | 50.7724               | 1.5625      |"
      ]
     },
     "metadata": {},
     "output_type": "display_data"
    },
    {
     "data": {
      "text/html": [
       "<pre>| 40      | 23m 26s      | 2574.7            | 50.7336               | 1.5625      |</pre>"
      ],
      "text/plain": [
       "| 40      | 23m 26s      | 2574.7            | 50.7336               | 1.5625      |"
      ]
     },
     "metadata": {},
     "output_type": "display_data"
    },
    {
     "data": {
      "text/html": [
       "<pre>| 41      | 24m 1s       | 2571.31           | 50.7003               | 1.5625      |</pre>"
      ],
      "text/plain": [
       "| 41      | 24m 1s       | 2571.31           | 50.7003               | 1.5625      |"
      ]
     },
     "metadata": {},
     "output_type": "display_data"
    },
    {
     "data": {
      "text/html": [
       "<pre>| 42      | 24m 36s      | 2567.1            | 50.6586               | 1.5625      |</pre>"
      ],
      "text/plain": [
       "| 42      | 24m 36s      | 2567.1            | 50.6586               | 1.5625      |"
      ]
     },
     "metadata": {},
     "output_type": "display_data"
    },
    {
     "data": {
      "text/html": [
       "<pre>| 43      | 25m 12s      | 2563.33           | 50.6215               | 1.5625      |</pre>"
      ],
      "text/plain": [
       "| 43      | 25m 12s      | 2563.33           | 50.6215               | 1.5625      |"
      ]
     },
     "metadata": {},
     "output_type": "display_data"
    },
    {
     "data": {
      "text/html": [
       "<pre>| 44      | 25m 47s      | 2559.87           | 50.5872               | 1.5625      |</pre>"
      ],
      "text/plain": [
       "| 44      | 25m 47s      | 2559.87           | 50.5872               | 1.5625      |"
      ]
     },
     "metadata": {},
     "output_type": "display_data"
    },
    {
     "data": {
      "text/html": [
       "<pre>| 45      | 26m 22s      | 2556.56           | 50.5545               | 1.5625      |</pre>"
      ],
      "text/plain": [
       "| 45      | 26m 22s      | 2556.56           | 50.5545               | 1.5625      |"
      ]
     },
     "metadata": {},
     "output_type": "display_data"
    },
    {
     "data": {
      "text/html": [
       "<pre>| 46      | 26m 57s      | 2554.53           | 50.5344               | 1.5625      |</pre>"
      ],
      "text/plain": [
       "| 46      | 26m 57s      | 2554.53           | 50.5344               | 1.5625      |"
      ]
     },
     "metadata": {},
     "output_type": "display_data"
    },
    {
     "data": {
      "text/html": [
       "<pre>| 47      | 27m 32s      | 2550.19           | 50.4914               | 1.5625      |</pre>"
      ],
      "text/plain": [
       "| 47      | 27m 32s      | 2550.19           | 50.4914               | 1.5625      |"
      ]
     },
     "metadata": {},
     "output_type": "display_data"
    },
    {
     "data": {
      "text/html": [
       "<pre>| 48      | 28m 8s       | 2546.02           | 50.4502               | 1.5625      |</pre>"
      ],
      "text/plain": [
       "| 48      | 28m 8s       | 2546.02           | 50.4502               | 1.5625      |"
      ]
     },
     "metadata": {},
     "output_type": "display_data"
    },
    {
     "data": {
      "text/html": [
       "<pre>| 49      | 28m 43s      | 2543.68           | 50.4269               | 1.5625      |</pre>"
      ],
      "text/plain": [
       "| 49      | 28m 43s      | 2543.68           | 50.4269               | 1.5625      |"
      ]
     },
     "metadata": {},
     "output_type": "display_data"
    },
    {
     "data": {
      "text/html": [
       "<pre>| 50      | 29m 18s      | 2540.57           | 50.3961               | 1.5625      |</pre>"
      ],
      "text/plain": [
       "| 50      | 29m 18s      | 2540.57           | 50.3961               | 1.5625      |"
      ]
     },
     "metadata": {},
     "output_type": "display_data"
    },
    {
     "data": {
      "text/html": [
       "<pre>+---------+--------------+-------------------+-----------------------+-------------+</pre>"
      ],
      "text/plain": [
       "+---------+--------------+-------------------+-----------------------+-------------+"
      ]
     },
     "metadata": {},
     "output_type": "display_data"
    },
    {
     "data": {
      "text/html": [
       "<pre>Optimization Complete: Maximum number of passes through the data reached.</pre>"
      ],
      "text/plain": [
       "Optimization Complete: Maximum number of passes through the data reached."
      ]
     },
     "metadata": {},
     "output_type": "display_data"
    },
    {
     "data": {
      "text/html": [
       "<pre>Computing final objective value and training RMSE.</pre>"
      ],
      "text/plain": [
       "Computing final objective value and training RMSE."
      ]
     },
     "metadata": {},
     "output_type": "display_data"
    },
    {
     "data": {
      "text/html": [
       "<pre>       Final objective value: 2586.52</pre>"
      ],
      "text/plain": [
       "       Final objective value: 2586.52"
      ]
     },
     "metadata": {},
     "output_type": "display_data"
    },
    {
     "data": {
      "text/html": [
       "<pre>       Final training RMSE: 50.8499</pre>"
      ],
      "text/plain": [
       "       Final training RMSE: 50.8499"
      ]
     },
     "metadata": {},
     "output_type": "display_data"
    }
   ],
   "source": [
    "mf3_model = gl.recommender.factorization_recommender.create(edges_train_sf, user_id='Initial Physician NPI', item_id='Secondary Physician NPI', target='Referrals', user_data=initial_physician_mf3_sf, item_data=secondary_physician_mf3_sf)"
   ]
  },
  {
   "cell_type": "code",
   "execution_count": 110,
   "metadata": {},
   "outputs": [],
   "source": [
    "mf3_model.save('../model/mf3')"
   ]
  },
  {
   "cell_type": "markdown",
   "metadata": {},
   "source": [
    "# MF4: Matrix Factorization with Explicit Data [Referrals 2009-2015Y] and with Side Data [Location, Organization]"
   ]
  },
  {
   "cell_type": "code",
   "execution_count": 124,
   "metadata": {},
   "outputs": [],
   "source": [
    "physician_url = 'https://s3-us-west-1.amazonaws.com/physician-referral-graph/npidata_pfile_20050523-20180408_withHeader.csv'"
   ]
  },
  {
   "cell_type": "code",
   "execution_count": 125,
   "metadata": {},
   "outputs": [],
   "source": [
    "mf4_physician_cols = mf3_physician_cols + ['Entity Type Code', 'Provider Gender Code', 'Is Sole Proprietor', 'Is Organization Subpart', 'Healthcare Provider Taxonomy Group_1']"
   ]
  },
  {
   "cell_type": "code",
   "execution_count": 126,
   "metadata": {},
   "outputs": [],
   "source": [
    "mf4_physician_cols_types = mf3_physician_cols_types + [int, str, str, str, str]"
   ]
  },
  {
   "cell_type": "code",
   "execution_count": 127,
   "metadata": {
    "collapsed": true
   },
   "outputs": [
    {
     "data": {
      "text/html": [
       "<pre>Unable to parse line \"\"1578566378\",\"\",\"\",\"\",\"\",\"\",\"\",\"\",\"\",\"\",\"\",\"\",\"\",\"\",\"\",\"\",\"\",\"\",\"\",\"\",\"\",\"\",\"\",\"\",\"\",\"\",\"\",\"\",\"\",\"\",\"\",\"\",\"\",\"\",\"\",\"\",\"\",\"\",\"\",\"07/06/2012\",\"\",\"\",\"\",\"\",\"\",\"\",\"\",\"\",\"\",\"\",\"\",\"\",\"\",\"\",\"\",\"\",\"\",\"\",\"\",\"\",\"\",\"\",\"\",\"\",\"\",\"\",\"\",\"\",\"\",\"\",\"\",\"\",\"\",\"\",\"\",\"\",\"\",\"\",\"\"...\"</pre>"
      ],
      "text/plain": [
       "Unable to parse line \"\"1578566378\",\"\",\"\",\"\",\"\",\"\",\"\",\"\",\"\",\"\",\"\",\"\",\"\",\"\",\"\",\"\",\"\",\"\",\"\",\"\",\"\",\"\",\"\",\"\",\"\",\"\",\"\",\"\",\"\",\"\",\"\",\"\",\"\",\"\",\"\",\"\",\"\",\"\",\"\",\"07/06/2012\",\"\",\"\",\"\",\"\",\"\",\"\",\"\",\"\",\"\",\"\",\"\",\"\",\"\",\"\",\"\",\"\",\"\",\"\",\"\",\"\",\"\",\"\",\"\",\"\",\"\",\"\",\"\",\"\",\"\",\"\",\"\",\"\",\"\",\"\",\"\",\"\",\"\",\"\",\"\"...\""
      ]
     },
     "metadata": {},
     "output_type": "display_data"
    },
    {
     "data": {
      "text/html": [
       "<pre>Unable to parse line \"\"1174526412\",\"\",\"\",\"\",\"\",\"\",\"\",\"\",\"\",\"\",\"\",\"\",\"\",\"\",\"\",\"\",\"\",\"\",\"\",\"\",\"\",\"\",\"\",\"\",\"\",\"\",\"\",\"\",\"\",\"\",\"\",\"\",\"\",\"\",\"\",\"\",\"\",\"\",\"\",\"01/30/2009\",\"\",\"\",\"\",\"\",\"\",\"\",\"\",\"\",\"\",\"\",\"\",\"\",\"\",\"\",\"\",\"\",\"\",\"\",\"\",\"\",\"\",\"\",\"\",\"\",\"\",\"\",\"\",\"\",\"\",\"\",\"\",\"\",\"\",\"\",\"\",\"\",\"\",\"\",\"\"...\"</pre>"
      ],
      "text/plain": [
       "Unable to parse line \"\"1174526412\",\"\",\"\",\"\",\"\",\"\",\"\",\"\",\"\",\"\",\"\",\"\",\"\",\"\",\"\",\"\",\"\",\"\",\"\",\"\",\"\",\"\",\"\",\"\",\"\",\"\",\"\",\"\",\"\",\"\",\"\",\"\",\"\",\"\",\"\",\"\",\"\",\"\",\"\",\"01/30/2009\",\"\",\"\",\"\",\"\",\"\",\"\",\"\",\"\",\"\",\"\",\"\",\"\",\"\",\"\",\"\",\"\",\"\",\"\",\"\",\"\",\"\",\"\",\"\",\"\",\"\",\"\",\"\",\"\",\"\",\"\",\"\",\"\",\"\",\"\",\"\",\"\",\"\",\"\",\"\"...\""
      ]
     },
     "metadata": {},
     "output_type": "display_data"
    },
    {
     "data": {
      "text/html": [
       "<pre>Unable to parse line \"\"1497759484\",\"\",\"\",\"\",\"\",\"\",\"\",\"\",\"\",\"\",\"\",\"\",\"\",\"\",\"\",\"\",\"\",\"\",\"\",\"\",\"\",\"\",\"\",\"\",\"\",\"\",\"\",\"\",\"\",\"\",\"\",\"\",\"\",\"\",\"\",\"\",\"\",\"\",\"\",\"08/11/2011\",\"\",\"\",\"\",\"\",\"\",\"\",\"\",\"\",\"\",\"\",\"\",\"\",\"\",\"\",\"\",\"\",\"\",\"\",\"\",\"\",\"\",\"\",\"\",\"\",\"\",\"\",\"\",\"\",\"\",\"\",\"\",\"\",\"\",\"\",\"\",\"\",\"\",\"\",\"\"...\"</pre>"
      ],
      "text/plain": [
       "Unable to parse line \"\"1497759484\",\"\",\"\",\"\",\"\",\"\",\"\",\"\",\"\",\"\",\"\",\"\",\"\",\"\",\"\",\"\",\"\",\"\",\"\",\"\",\"\",\"\",\"\",\"\",\"\",\"\",\"\",\"\",\"\",\"\",\"\",\"\",\"\",\"\",\"\",\"\",\"\",\"\",\"\",\"08/11/2011\",\"\",\"\",\"\",\"\",\"\",\"\",\"\",\"\",\"\",\"\",\"\",\"\",\"\",\"\",\"\",\"\",\"\",\"\",\"\",\"\",\"\",\"\",\"\",\"\",\"\",\"\",\"\",\"\",\"\",\"\",\"\",\"\",\"\",\"\",\"\",\"\",\"\",\"\",\"\"...\""
      ]
     },
     "metadata": {},
     "output_type": "display_data"
    },
    {
     "data": {
      "text/html": [
       "<pre>Unable to parse line \"\"1033113022\",\"\",\"\",\"\",\"\",\"\",\"\",\"\",\"\",\"\",\"\",\"\",\"\",\"\",\"\",\"\",\"\",\"\",\"\",\"\",\"\",\"\",\"\",\"\",\"\",\"\",\"\",\"\",\"\",\"\",\"\",\"\",\"\",\"\",\"\",\"\",\"\",\"\",\"\",\"07/14/2005\",\"\",\"\",\"\",\"\",\"\",\"\",\"\",\"\",\"\",\"\",\"\",\"\",\"\",\"\",\"\",\"\",\"\",\"\",\"\",\"\",\"\",\"\",\"\",\"\",\"\",\"\",\"\",\"\",\"\",\"\",\"\",\"\",\"\",\"\",\"\",\"\",\"\",\"\",\"\"...\"</pre>"
      ],
      "text/plain": [
       "Unable to parse line \"\"1033113022\",\"\",\"\",\"\",\"\",\"\",\"\",\"\",\"\",\"\",\"\",\"\",\"\",\"\",\"\",\"\",\"\",\"\",\"\",\"\",\"\",\"\",\"\",\"\",\"\",\"\",\"\",\"\",\"\",\"\",\"\",\"\",\"\",\"\",\"\",\"\",\"\",\"\",\"\",\"07/14/2005\",\"\",\"\",\"\",\"\",\"\",\"\",\"\",\"\",\"\",\"\",\"\",\"\",\"\",\"\",\"\",\"\",\"\",\"\",\"\",\"\",\"\",\"\",\"\",\"\",\"\",\"\",\"\",\"\",\"\",\"\",\"\",\"\",\"\",\"\",\"\",\"\",\"\",\"\",\"\"...\""
      ]
     },
     "metadata": {},
     "output_type": "display_data"
    },
    {
     "data": {
      "text/html": [
       "<pre>Unable to parse line \"\"1447256268\",\"\",\"\",\"\",\"\",\"\",\"\",\"\",\"\",\"\",\"\",\"\",\"\",\"\",\"\",\"\",\"\",\"\",\"\",\"\",\"\",\"\",\"\",\"\",\"\",\"\",\"\",\"\",\"\",\"\",\"\",\"\",\"\",\"\",\"\",\"\",\"\",\"\",\"\",\"08/21/2014\",\"\",\"\",\"\",\"\",\"\",\"\",\"\",\"\",\"\",\"\",\"\",\"\",\"\",\"\",\"\",\"\",\"\",\"\",\"\",\"\",\"\",\"\",\"\",\"\",\"\",\"\",\"\",\"\",\"\",\"\",\"\",\"\",\"\",\"\",\"\",\"\",\"\",\"\",\"\"...\"</pre>"
      ],
      "text/plain": [
       "Unable to parse line \"\"1447256268\",\"\",\"\",\"\",\"\",\"\",\"\",\"\",\"\",\"\",\"\",\"\",\"\",\"\",\"\",\"\",\"\",\"\",\"\",\"\",\"\",\"\",\"\",\"\",\"\",\"\",\"\",\"\",\"\",\"\",\"\",\"\",\"\",\"\",\"\",\"\",\"\",\"\",\"\",\"08/21/2014\",\"\",\"\",\"\",\"\",\"\",\"\",\"\",\"\",\"\",\"\",\"\",\"\",\"\",\"\",\"\",\"\",\"\",\"\",\"\",\"\",\"\",\"\",\"\",\"\",\"\",\"\",\"\",\"\",\"\",\"\",\"\",\"\",\"\",\"\",\"\",\"\",\"\",\"\",\"\"...\""
      ]
     },
     "metadata": {},
     "output_type": "display_data"
    },
    {
     "data": {
      "text/html": [
       "<pre>Unable to parse line \"\"1740284215\",\"\",\"\",\"\",\"\",\"\",\"\",\"\",\"\",\"\",\"\",\"\",\"\",\"\",\"\",\"\",\"\",\"\",\"\",\"\",\"\",\"\",\"\",\"\",\"\",\"\",\"\",\"\",\"\",\"\",\"\",\"\",\"\",\"\",\"\",\"\",\"\",\"\",\"\",\"09/07/2011\",\"\",\"\",\"\",\"\",\"\",\"\",\"\",\"\",\"\",\"\",\"\",\"\",\"\",\"\",\"\",\"\",\"\",\"\",\"\",\"\",\"\",\"\",\"\",\"\",\"\",\"\",\"\",\"\",\"\",\"\",\"\",\"\",\"\",\"\",\"\",\"\",\"\",\"\",\"\"...\"</pre>"
      ],
      "text/plain": [
       "Unable to parse line \"\"1740284215\",\"\",\"\",\"\",\"\",\"\",\"\",\"\",\"\",\"\",\"\",\"\",\"\",\"\",\"\",\"\",\"\",\"\",\"\",\"\",\"\",\"\",\"\",\"\",\"\",\"\",\"\",\"\",\"\",\"\",\"\",\"\",\"\",\"\",\"\",\"\",\"\",\"\",\"\",\"09/07/2011\",\"\",\"\",\"\",\"\",\"\",\"\",\"\",\"\",\"\",\"\",\"\",\"\",\"\",\"\",\"\",\"\",\"\",\"\",\"\",\"\",\"\",\"\",\"\",\"\",\"\",\"\",\"\",\"\",\"\",\"\",\"\",\"\",\"\",\"\",\"\",\"\",\"\",\"\",\"\"...\""
      ]
     },
     "metadata": {},
     "output_type": "display_data"
    },
    {
     "data": {
      "text/html": [
       "<pre>Unable to parse line \"\"1891798849\",\"\",\"\",\"\",\"\",\"\",\"\",\"\",\"\",\"\",\"\",\"\",\"\",\"\",\"\",\"\",\"\",\"\",\"\",\"\",\"\",\"\",\"\",\"\",\"\",\"\",\"\",\"\",\"\",\"\",\"\",\"\",\"\",\"\",\"\",\"\",\"\",\"\",\"\",\"11/13/2017\",\"\",\"\",\"\",\"\",\"\",\"\",\"\",\"\",\"\",\"\",\"\",\"\",\"\",\"\",\"\",\"\",\"\",\"\",\"\",\"\",\"\",\"\",\"\",\"\",\"\",\"\",\"\",\"\",\"\",\"\",\"\",\"\",\"\",\"\",\"\",\"\",\"\",\"\",\"\"...\"</pre>"
      ],
      "text/plain": [
       "Unable to parse line \"\"1891798849\",\"\",\"\",\"\",\"\",\"\",\"\",\"\",\"\",\"\",\"\",\"\",\"\",\"\",\"\",\"\",\"\",\"\",\"\",\"\",\"\",\"\",\"\",\"\",\"\",\"\",\"\",\"\",\"\",\"\",\"\",\"\",\"\",\"\",\"\",\"\",\"\",\"\",\"\",\"11/13/2017\",\"\",\"\",\"\",\"\",\"\",\"\",\"\",\"\",\"\",\"\",\"\",\"\",\"\",\"\",\"\",\"\",\"\",\"\",\"\",\"\",\"\",\"\",\"\",\"\",\"\",\"\",\"\",\"\",\"\",\"\",\"\",\"\",\"\",\"\",\"\",\"\",\"\",\"\",\"\"...\""
      ]
     },
     "metadata": {},
     "output_type": "display_data"
    },
    {
     "data": {
      "text/html": [
       "<pre>Unable to parse line \"\"1851397673\",\"\",\"\",\"\",\"\",\"\",\"\",\"\",\"\",\"\",\"\",\"\",\"\",\"\",\"\",\"\",\"\",\"\",\"\",\"\",\"\",\"\",\"\",\"\",\"\",\"\",\"\",\"\",\"\",\"\",\"\",\"\",\"\",\"\",\"\",\"\",\"\",\"\",\"\",\"06/25/2015\",\"\",\"\",\"\",\"\",\"\",\"\",\"\",\"\",\"\",\"\",\"\",\"\",\"\",\"\",\"\",\"\",\"\",\"\",\"\",\"\",\"\",\"\",\"\",\"\",\"\",\"\",\"\",\"\",\"\",\"\",\"\",\"\",\"\",\"\",\"\",\"\",\"\",\"\",\"\"...\"</pre>"
      ],
      "text/plain": [
       "Unable to parse line \"\"1851397673\",\"\",\"\",\"\",\"\",\"\",\"\",\"\",\"\",\"\",\"\",\"\",\"\",\"\",\"\",\"\",\"\",\"\",\"\",\"\",\"\",\"\",\"\",\"\",\"\",\"\",\"\",\"\",\"\",\"\",\"\",\"\",\"\",\"\",\"\",\"\",\"\",\"\",\"\",\"06/25/2015\",\"\",\"\",\"\",\"\",\"\",\"\",\"\",\"\",\"\",\"\",\"\",\"\",\"\",\"\",\"\",\"\",\"\",\"\",\"\",\"\",\"\",\"\",\"\",\"\",\"\",\"\",\"\",\"\",\"\",\"\",\"\",\"\",\"\",\"\",\"\",\"\",\"\",\"\",\"\"...\""
      ]
     },
     "metadata": {},
     "output_type": "display_data"
    },
    {
     "data": {
      "text/html": [
       "<pre>Unable to parse line \"\"1215934815\",\"\",\"\",\"\",\"\",\"\",\"\",\"\",\"\",\"\",\"\",\"\",\"\",\"\",\"\",\"\",\"\",\"\",\"\",\"\",\"\",\"\",\"\",\"\",\"\",\"\",\"\",\"\",\"\",\"\",\"\",\"\",\"\",\"\",\"\",\"\",\"\",\"\",\"\",\"07/11/2016\",\"\",\"\",\"\",\"\",\"\",\"\",\"\",\"\",\"\",\"\",\"\",\"\",\"\",\"\",\"\",\"\",\"\",\"\",\"\",\"\",\"\",\"\",\"\",\"\",\"\",\"\",\"\",\"\",\"\",\"\",\"\",\"\",\"\",\"\",\"\",\"\",\"\",\"\",\"\"...\"</pre>"
      ],
      "text/plain": [
       "Unable to parse line \"\"1215934815\",\"\",\"\",\"\",\"\",\"\",\"\",\"\",\"\",\"\",\"\",\"\",\"\",\"\",\"\",\"\",\"\",\"\",\"\",\"\",\"\",\"\",\"\",\"\",\"\",\"\",\"\",\"\",\"\",\"\",\"\",\"\",\"\",\"\",\"\",\"\",\"\",\"\",\"\",\"07/11/2016\",\"\",\"\",\"\",\"\",\"\",\"\",\"\",\"\",\"\",\"\",\"\",\"\",\"\",\"\",\"\",\"\",\"\",\"\",\"\",\"\",\"\",\"\",\"\",\"\",\"\",\"\",\"\",\"\",\"\",\"\",\"\",\"\",\"\",\"\",\"\",\"\",\"\",\"\",\"\"...\""
      ]
     },
     "metadata": {},
     "output_type": "display_data"
    },
    {
     "data": {
      "text/html": [
       "<pre>Unable to parse line \"\"1477557940\",\"\",\"\",\"\",\"\",\"\",\"\",\"\",\"\",\"\",\"\",\"\",\"\",\"\",\"\",\"\",\"\",\"\",\"\",\"\",\"\",\"\",\"\",\"\",\"\",\"\",\"\",\"\",\"\",\"\",\"\",\"\",\"\",\"\",\"\",\"\",\"\",\"\",\"\",\"03/16/2006\",\"\",\"\",\"\",\"\",\"\",\"\",\"\",\"\",\"\",\"\",\"\",\"\",\"\",\"\",\"\",\"\",\"\",\"\",\"\",\"\",\"\",\"\",\"\",\"\",\"\",\"\",\"\",\"\",\"\",\"\",\"\",\"\",\"\",\"\",\"\",\"\",\"\",\"\",\"\"...\"</pre>"
      ],
      "text/plain": [
       "Unable to parse line \"\"1477557940\",\"\",\"\",\"\",\"\",\"\",\"\",\"\",\"\",\"\",\"\",\"\",\"\",\"\",\"\",\"\",\"\",\"\",\"\",\"\",\"\",\"\",\"\",\"\",\"\",\"\",\"\",\"\",\"\",\"\",\"\",\"\",\"\",\"\",\"\",\"\",\"\",\"\",\"\",\"03/16/2006\",\"\",\"\",\"\",\"\",\"\",\"\",\"\",\"\",\"\",\"\",\"\",\"\",\"\",\"\",\"\",\"\",\"\",\"\",\"\",\"\",\"\",\"\",\"\",\"\",\"\",\"\",\"\",\"\",\"\",\"\",\"\",\"\",\"\",\"\",\"\",\"\",\"\",\"\",\"\"...\""
      ]
     },
     "metadata": {},
     "output_type": "display_data"
    },
    {
     "data": {
      "text/html": [
       "<pre>Unable to parse line \"\"1659374395\",\"\",\"\",\"\",\"\",\"\",\"\",\"\",\"\",\"\",\"\",\"\",\"\",\"\",\"\",\"\",\"\",\"\",\"\",\"\",\"\",\"\",\"\",\"\",\"\",\"\",\"\",\"\",\"\",\"\",\"\",\"\",\"\",\"\",\"\",\"\",\"\",\"\",\"\",\"08/20/2012\",\"\",\"\",\"\",\"\",\"\",\"\",\"\",\"\",\"\",\"\",\"\",\"\",\"\",\"\",\"\",\"\",\"\",\"\",\"\",\"\",\"\",\"\",\"\",\"\",\"\",\"\",\"\",\"\",\"\",\"\",\"\",\"\",\"\",\"\",\"\",\"\",\"\",\"\",\"\"...\"</pre>"
      ],
      "text/plain": [
       "Unable to parse line \"\"1659374395\",\"\",\"\",\"\",\"\",\"\",\"\",\"\",\"\",\"\",\"\",\"\",\"\",\"\",\"\",\"\",\"\",\"\",\"\",\"\",\"\",\"\",\"\",\"\",\"\",\"\",\"\",\"\",\"\",\"\",\"\",\"\",\"\",\"\",\"\",\"\",\"\",\"\",\"\",\"08/20/2012\",\"\",\"\",\"\",\"\",\"\",\"\",\"\",\"\",\"\",\"\",\"\",\"\",\"\",\"\",\"\",\"\",\"\",\"\",\"\",\"\",\"\",\"\",\"\",\"\",\"\",\"\",\"\",\"\",\"\",\"\",\"\",\"\",\"\",\"\",\"\",\"\",\"\",\"\",\"\"...\""
      ]
     },
     "metadata": {},
     "output_type": "display_data"
    },
    {
     "data": {
      "text/html": [
       "<pre>Unable to parse line \"\"1154324499\",\"\",\"\",\"\",\"\",\"\",\"\",\"\",\"\",\"\",\"\",\"\",\"\",\"\",\"\",\"\",\"\",\"\",\"\",\"\",\"\",\"\",\"\",\"\",\"\",\"\",\"\",\"\",\"\",\"\",\"\",\"\",\"\",\"\",\"\",\"\",\"\",\"\",\"\",\"03/20/2006\",\"\",\"\",\"\",\"\",\"\",\"\",\"\",\"\",\"\",\"\",\"\",\"\",\"\",\"\",\"\",\"\",\"\",\"\",\"\",\"\",\"\",\"\",\"\",\"\",\"\",\"\",\"\",\"\",\"\",\"\",\"\",\"\",\"\",\"\",\"\",\"\",\"\",\"\",\"\"...\"</pre>"
      ],
      "text/plain": [
       "Unable to parse line \"\"1154324499\",\"\",\"\",\"\",\"\",\"\",\"\",\"\",\"\",\"\",\"\",\"\",\"\",\"\",\"\",\"\",\"\",\"\",\"\",\"\",\"\",\"\",\"\",\"\",\"\",\"\",\"\",\"\",\"\",\"\",\"\",\"\",\"\",\"\",\"\",\"\",\"\",\"\",\"\",\"03/20/2006\",\"\",\"\",\"\",\"\",\"\",\"\",\"\",\"\",\"\",\"\",\"\",\"\",\"\",\"\",\"\",\"\",\"\",\"\",\"\",\"\",\"\",\"\",\"\",\"\",\"\",\"\",\"\",\"\",\"\",\"\",\"\",\"\",\"\",\"\",\"\",\"\",\"\",\"\",\"\"...\""
      ]
     },
     "metadata": {},
     "output_type": "display_data"
    },
    {
     "data": {
      "text/html": [
       "<pre>Unable to parse line \"\"1467456095\",\"\",\"\",\"\",\"\",\"\",\"\",\"\",\"\",\"\",\"\",\"\",\"\",\"\",\"\",\"\",\"\",\"\",\"\",\"\",\"\",\"\",\"\",\"\",\"\",\"\",\"\",\"\",\"\",\"\",\"\",\"\",\"\",\"\",\"\",\"\",\"\",\"\",\"\",\"07/07/2017\",\"\",\"\",\"\",\"\",\"\",\"\",\"\",\"\",\"\",\"\",\"\",\"\",\"\",\"\",\"\",\"\",\"\",\"\",\"\",\"\",\"\",\"\",\"\",\"\",\"\",\"\",\"\",\"\",\"\",\"\",\"\",\"\",\"\",\"\",\"\",\"\",\"\",\"\",\"\"...\"</pre>"
      ],
      "text/plain": [
       "Unable to parse line \"\"1467456095\",\"\",\"\",\"\",\"\",\"\",\"\",\"\",\"\",\"\",\"\",\"\",\"\",\"\",\"\",\"\",\"\",\"\",\"\",\"\",\"\",\"\",\"\",\"\",\"\",\"\",\"\",\"\",\"\",\"\",\"\",\"\",\"\",\"\",\"\",\"\",\"\",\"\",\"\",\"07/07/2017\",\"\",\"\",\"\",\"\",\"\",\"\",\"\",\"\",\"\",\"\",\"\",\"\",\"\",\"\",\"\",\"\",\"\",\"\",\"\",\"\",\"\",\"\",\"\",\"\",\"\",\"\",\"\",\"\",\"\",\"\",\"\",\"\",\"\",\"\",\"\",\"\",\"\",\"\",\"\"...\""
      ]
     },
     "metadata": {},
     "output_type": "display_data"
    },
    {
     "data": {
      "text/html": [
       "<pre>Read 41150 lines. Lines per second: 54208.3</pre>"
      ],
      "text/plain": [
       "Read 41150 lines. Lines per second: 54208.3"
      ]
     },
     "metadata": {},
     "output_type": "display_data"
    },
    {
     "data": {
      "text/html": [
       "<pre>Read 580563 lines. Lines per second: 101020</pre>"
      ],
      "text/plain": [
       "Read 580563 lines. Lines per second: 101020"
      ]
     },
     "metadata": {},
     "output_type": "display_data"
    },
    {
     "data": {
      "text/html": [
       "<pre>Read 1118062 lines. Lines per second: 103903</pre>"
      ],
      "text/plain": [
       "Read 1118062 lines. Lines per second: 103903"
      ]
     },
     "metadata": {},
     "output_type": "display_data"
    },
    {
     "data": {
      "text/html": [
       "<pre>Read 1660700 lines. Lines per second: 105293</pre>"
      ],
      "text/plain": [
       "Read 1660700 lines. Lines per second: 105293"
      ]
     },
     "metadata": {},
     "output_type": "display_data"
    },
    {
     "data": {
      "text/html": [
       "<pre>Read 2208109 lines. Lines per second: 106246</pre>"
      ],
      "text/plain": [
       "Read 2208109 lines. Lines per second: 106246"
      ]
     },
     "metadata": {},
     "output_type": "display_data"
    },
    {
     "data": {
      "text/html": [
       "<pre>Read 2759057 lines. Lines per second: 106632</pre>"
      ],
      "text/plain": [
       "Read 2759057 lines. Lines per second: 106632"
      ]
     },
     "metadata": {},
     "output_type": "display_data"
    },
    {
     "data": {
      "text/html": [
       "<pre>Read 3317965 lines. Lines per second: 107164</pre>"
      ],
      "text/plain": [
       "Read 3317965 lines. Lines per second: 107164"
      ]
     },
     "metadata": {},
     "output_type": "display_data"
    },
    {
     "data": {
      "text/html": [
       "<pre>Read 3882327 lines. Lines per second: 107324</pre>"
      ],
      "text/plain": [
       "Read 3882327 lines. Lines per second: 107324"
      ]
     },
     "metadata": {},
     "output_type": "display_data"
    },
    {
     "data": {
      "text/html": [
       "<pre>Read 4449778 lines. Lines per second: 107775</pre>"
      ],
      "text/plain": [
       "Read 4449778 lines. Lines per second: 107775"
      ]
     },
     "metadata": {},
     "output_type": "display_data"
    },
    {
     "data": {
      "text/html": [
       "<pre>Read 5020480 lines. Lines per second: 108031</pre>"
      ],
      "text/plain": [
       "Read 5020480 lines. Lines per second: 108031"
      ]
     },
     "metadata": {},
     "output_type": "display_data"
    },
    {
     "data": {
      "text/html": [
       "<pre>121966 lines failed to parse correctly</pre>"
      ],
      "text/plain": [
       "121966 lines failed to parse correctly"
      ]
     },
     "metadata": {},
     "output_type": "display_data"
    },
    {
     "data": {
      "text/html": [
       "<pre>Finished parsing file https://s3-us-west-1.amazonaws.com/physician-referral-graph/npidata_pfile_20050523-20180408_withHeader.csv</pre>"
      ],
      "text/plain": [
       "Finished parsing file https://s3-us-west-1.amazonaws.com/physician-referral-graph/npidata_pfile_20050523-20180408_withHeader.csv"
      ]
     },
     "metadata": {},
     "output_type": "display_data"
    },
    {
     "data": {
      "text/html": [
       "<pre>Parsing completed. Parsed 5424719 lines in 49.7753 secs.</pre>"
      ],
      "text/plain": [
       "Parsing completed. Parsed 5424719 lines in 49.7753 secs."
      ]
     },
     "metadata": {},
     "output_type": "display_data"
    }
   ],
   "source": [
    "physician_mf4_sf = gl.SFrame.read_csv(physician_url, usecols=mf4_physician_cols, column_type_hints=mf4_physician_cols_types)"
   ]
  },
  {
   "cell_type": "code",
   "execution_count": 123,
   "metadata": {
    "collapsed": true
   },
   "outputs": [
    {
     "data": {
      "text/html": [
       "<div style=\"max-height:1000px;max-width:1500px;overflow:auto;\"><table frame=\"box\" rules=\"cols\">\n",
       "    <tr>\n",
       "        <th style=\"padding-left: 1em; padding-right: 1em; text-align: center\">NPI</th>\n",
       "        <th style=\"padding-left: 1em; padding-right: 1em; text-align: center\">Provider Business<br>Practice Location Add ...</th>\n",
       "        <th style=\"padding-left: 1em; padding-right: 1em; text-align: center\">Provider Business<br>Practice Location Add ...</th>\n",
       "        <th style=\"padding-left: 1em; padding-right: 1em; text-align: center\">Provider Business<br>Practice Location Add ...</th>\n",
       "        <th style=\"padding-left: 1em; padding-right: 1em; text-align: center\">Entity Type Code</th>\n",
       "        <th style=\"padding-left: 1em; padding-right: 1em; text-align: center\">Provider Gender Code</th>\n",
       "    </tr>\n",
       "    <tr>\n",
       "        <td style=\"padding-left: 1em; padding-right: 1em; text-align: center; vertical-align: top\">1679576722</td>\n",
       "        <td style=\"padding-left: 1em; padding-right: 1em; text-align: center; vertical-align: top\">KEARNEY</td>\n",
       "        <td style=\"padding-left: 1em; padding-right: 1em; text-align: center; vertical-align: top\">NE</td>\n",
       "        <td style=\"padding-left: 1em; padding-right: 1em; text-align: center; vertical-align: top\">US</td>\n",
       "        <td style=\"padding-left: 1em; padding-right: 1em; text-align: center; vertical-align: top\">1</td>\n",
       "        <td style=\"padding-left: 1em; padding-right: 1em; text-align: center; vertical-align: top\">M</td>\n",
       "    </tr>\n",
       "    <tr>\n",
       "        <td style=\"padding-left: 1em; padding-right: 1em; text-align: center; vertical-align: top\">1588667638</td>\n",
       "        <td style=\"padding-left: 1em; padding-right: 1em; text-align: center; vertical-align: top\">JACKSONVILLE</td>\n",
       "        <td style=\"padding-left: 1em; padding-right: 1em; text-align: center; vertical-align: top\">FL</td>\n",
       "        <td style=\"padding-left: 1em; padding-right: 1em; text-align: center; vertical-align: top\">US</td>\n",
       "        <td style=\"padding-left: 1em; padding-right: 1em; text-align: center; vertical-align: top\">1</td>\n",
       "        <td style=\"padding-left: 1em; padding-right: 1em; text-align: center; vertical-align: top\">M</td>\n",
       "    </tr>\n",
       "    <tr>\n",
       "        <td style=\"padding-left: 1em; padding-right: 1em; text-align: center; vertical-align: top\">1497758544</td>\n",
       "        <td style=\"padding-left: 1em; padding-right: 1em; text-align: center; vertical-align: top\">FAYETTEVILLE</td>\n",
       "        <td style=\"padding-left: 1em; padding-right: 1em; text-align: center; vertical-align: top\">NC</td>\n",
       "        <td style=\"padding-left: 1em; padding-right: 1em; text-align: center; vertical-align: top\">US</td>\n",
       "        <td style=\"padding-left: 1em; padding-right: 1em; text-align: center; vertical-align: top\">2</td>\n",
       "        <td style=\"padding-left: 1em; padding-right: 1em; text-align: center; vertical-align: top\"></td>\n",
       "    </tr>\n",
       "    <tr>\n",
       "        <td style=\"padding-left: 1em; padding-right: 1em; text-align: center; vertical-align: top\">1306849450</td>\n",
       "        <td style=\"padding-left: 1em; padding-right: 1em; text-align: center; vertical-align: top\">ATHENS</td>\n",
       "        <td style=\"padding-left: 1em; padding-right: 1em; text-align: center; vertical-align: top\">TX</td>\n",
       "        <td style=\"padding-left: 1em; padding-right: 1em; text-align: center; vertical-align: top\">US</td>\n",
       "        <td style=\"padding-left: 1em; padding-right: 1em; text-align: center; vertical-align: top\">1</td>\n",
       "        <td style=\"padding-left: 1em; padding-right: 1em; text-align: center; vertical-align: top\">M</td>\n",
       "    </tr>\n",
       "    <tr>\n",
       "        <td style=\"padding-left: 1em; padding-right: 1em; text-align: center; vertical-align: top\">1215930367</td>\n",
       "        <td style=\"padding-left: 1em; padding-right: 1em; text-align: center; vertical-align: top\">HOUSTON</td>\n",
       "        <td style=\"padding-left: 1em; padding-right: 1em; text-align: center; vertical-align: top\">TX</td>\n",
       "        <td style=\"padding-left: 1em; padding-right: 1em; text-align: center; vertical-align: top\">US</td>\n",
       "        <td style=\"padding-left: 1em; padding-right: 1em; text-align: center; vertical-align: top\">1</td>\n",
       "        <td style=\"padding-left: 1em; padding-right: 1em; text-align: center; vertical-align: top\">M</td>\n",
       "    </tr>\n",
       "    <tr>\n",
       "        <td style=\"padding-left: 1em; padding-right: 1em; text-align: center; vertical-align: top\">1023011178</td>\n",
       "        <td style=\"padding-left: 1em; padding-right: 1em; text-align: center; vertical-align: top\">NAPA</td>\n",
       "        <td style=\"padding-left: 1em; padding-right: 1em; text-align: center; vertical-align: top\">CA</td>\n",
       "        <td style=\"padding-left: 1em; padding-right: 1em; text-align: center; vertical-align: top\">US</td>\n",
       "        <td style=\"padding-left: 1em; padding-right: 1em; text-align: center; vertical-align: top\">2</td>\n",
       "        <td style=\"padding-left: 1em; padding-right: 1em; text-align: center; vertical-align: top\"></td>\n",
       "    </tr>\n",
       "    <tr>\n",
       "        <td style=\"padding-left: 1em; padding-right: 1em; text-align: center; vertical-align: top\">1932102084</td>\n",
       "        <td style=\"padding-left: 1em; padding-right: 1em; text-align: center; vertical-align: top\">TOLEDO</td>\n",
       "        <td style=\"padding-left: 1em; padding-right: 1em; text-align: center; vertical-align: top\">OH</td>\n",
       "        <td style=\"padding-left: 1em; padding-right: 1em; text-align: center; vertical-align: top\">US</td>\n",
       "        <td style=\"padding-left: 1em; padding-right: 1em; text-align: center; vertical-align: top\">1</td>\n",
       "        <td style=\"padding-left: 1em; padding-right: 1em; text-align: center; vertical-align: top\">M</td>\n",
       "    </tr>\n",
       "    <tr>\n",
       "        <td style=\"padding-left: 1em; padding-right: 1em; text-align: center; vertical-align: top\">1841293990</td>\n",
       "        <td style=\"padding-left: 1em; padding-right: 1em; text-align: center; vertical-align: top\">NEW YORK</td>\n",
       "        <td style=\"padding-left: 1em; padding-right: 1em; text-align: center; vertical-align: top\">NY</td>\n",
       "        <td style=\"padding-left: 1em; padding-right: 1em; text-align: center; vertical-align: top\">US</td>\n",
       "        <td style=\"padding-left: 1em; padding-right: 1em; text-align: center; vertical-align: top\">1</td>\n",
       "        <td style=\"padding-left: 1em; padding-right: 1em; text-align: center; vertical-align: top\">F</td>\n",
       "    </tr>\n",
       "    <tr>\n",
       "        <td style=\"padding-left: 1em; padding-right: 1em; text-align: center; vertical-align: top\">1750384806</td>\n",
       "        <td style=\"padding-left: 1em; padding-right: 1em; text-align: center; vertical-align: top\">LUBBOCK</td>\n",
       "        <td style=\"padding-left: 1em; padding-right: 1em; text-align: center; vertical-align: top\">TX</td>\n",
       "        <td style=\"padding-left: 1em; padding-right: 1em; text-align: center; vertical-align: top\">US</td>\n",
       "        <td style=\"padding-left: 1em; padding-right: 1em; text-align: center; vertical-align: top\">1</td>\n",
       "        <td style=\"padding-left: 1em; padding-right: 1em; text-align: center; vertical-align: top\">M</td>\n",
       "    </tr>\n",
       "    <tr>\n",
       "        <td style=\"padding-left: 1em; padding-right: 1em; text-align: center; vertical-align: top\">1669475711</td>\n",
       "        <td style=\"padding-left: 1em; padding-right: 1em; text-align: center; vertical-align: top\">SUGAR LAND</td>\n",
       "        <td style=\"padding-left: 1em; padding-right: 1em; text-align: center; vertical-align: top\">TX</td>\n",
       "        <td style=\"padding-left: 1em; padding-right: 1em; text-align: center; vertical-align: top\">US</td>\n",
       "        <td style=\"padding-left: 1em; padding-right: 1em; text-align: center; vertical-align: top\">1</td>\n",
       "        <td style=\"padding-left: 1em; padding-right: 1em; text-align: center; vertical-align: top\">F</td>\n",
       "    </tr>\n",
       "</table>\n",
       "<table frame=\"box\" rules=\"cols\">\n",
       "    <tr>\n",
       "        <th style=\"padding-left: 1em; padding-right: 1em; text-align: center\">Is Sole Proprietor</th>\n",
       "        <th style=\"padding-left: 1em; padding-right: 1em; text-align: center\">Is Organization Subpart</th>\n",
       "        <th style=\"padding-left: 1em; padding-right: 1em; text-align: center\">Healthcare Provider<br>Taxonomy Group_1 ...</th>\n",
       "    </tr>\n",
       "    <tr>\n",
       "        <td style=\"padding-left: 1em; padding-right: 1em; text-align: center; vertical-align: top\">X</td>\n",
       "        <td style=\"padding-left: 1em; padding-right: 1em; text-align: center; vertical-align: top\"></td>\n",
       "        <td style=\"padding-left: 1em; padding-right: 1em; text-align: center; vertical-align: top\"></td>\n",
       "    </tr>\n",
       "    <tr>\n",
       "        <td style=\"padding-left: 1em; padding-right: 1em; text-align: center; vertical-align: top\">N</td>\n",
       "        <td style=\"padding-left: 1em; padding-right: 1em; text-align: center; vertical-align: top\"></td>\n",
       "        <td style=\"padding-left: 1em; padding-right: 1em; text-align: center; vertical-align: top\"></td>\n",
       "    </tr>\n",
       "    <tr>\n",
       "        <td style=\"padding-left: 1em; padding-right: 1em; text-align: center; vertical-align: top\"></td>\n",
       "        <td style=\"padding-left: 1em; padding-right: 1em; text-align: center; vertical-align: top\">N</td>\n",
       "        <td style=\"padding-left: 1em; padding-right: 1em; text-align: center; vertical-align: top\"></td>\n",
       "    </tr>\n",
       "    <tr>\n",
       "        <td style=\"padding-left: 1em; padding-right: 1em; text-align: center; vertical-align: top\">N</td>\n",
       "        <td style=\"padding-left: 1em; padding-right: 1em; text-align: center; vertical-align: top\"></td>\n",
       "        <td style=\"padding-left: 1em; padding-right: 1em; text-align: center; vertical-align: top\"></td>\n",
       "    </tr>\n",
       "    <tr>\n",
       "        <td style=\"padding-left: 1em; padding-right: 1em; text-align: center; vertical-align: top\">N</td>\n",
       "        <td style=\"padding-left: 1em; padding-right: 1em; text-align: center; vertical-align: top\"></td>\n",
       "        <td style=\"padding-left: 1em; padding-right: 1em; text-align: center; vertical-align: top\"></td>\n",
       "    </tr>\n",
       "    <tr>\n",
       "        <td style=\"padding-left: 1em; padding-right: 1em; text-align: center; vertical-align: top\"></td>\n",
       "        <td style=\"padding-left: 1em; padding-right: 1em; text-align: center; vertical-align: top\">N</td>\n",
       "        <td style=\"padding-left: 1em; padding-right: 1em; text-align: center; vertical-align: top\"></td>\n",
       "    </tr>\n",
       "    <tr>\n",
       "        <td style=\"padding-left: 1em; padding-right: 1em; text-align: center; vertical-align: top\">N</td>\n",
       "        <td style=\"padding-left: 1em; padding-right: 1em; text-align: center; vertical-align: top\"></td>\n",
       "        <td style=\"padding-left: 1em; padding-right: 1em; text-align: center; vertical-align: top\"></td>\n",
       "    </tr>\n",
       "    <tr>\n",
       "        <td style=\"padding-left: 1em; padding-right: 1em; text-align: center; vertical-align: top\">N</td>\n",
       "        <td style=\"padding-left: 1em; padding-right: 1em; text-align: center; vertical-align: top\"></td>\n",
       "        <td style=\"padding-left: 1em; padding-right: 1em; text-align: center; vertical-align: top\"></td>\n",
       "    </tr>\n",
       "    <tr>\n",
       "        <td style=\"padding-left: 1em; padding-right: 1em; text-align: center; vertical-align: top\">N</td>\n",
       "        <td style=\"padding-left: 1em; padding-right: 1em; text-align: center; vertical-align: top\"></td>\n",
       "        <td style=\"padding-left: 1em; padding-right: 1em; text-align: center; vertical-align: top\"></td>\n",
       "    </tr>\n",
       "    <tr>\n",
       "        <td style=\"padding-left: 1em; padding-right: 1em; text-align: center; vertical-align: top\">Y</td>\n",
       "        <td style=\"padding-left: 1em; padding-right: 1em; text-align: center; vertical-align: top\"></td>\n",
       "        <td style=\"padding-left: 1em; padding-right: 1em; text-align: center; vertical-align: top\"></td>\n",
       "    </tr>\n",
       "</table>\n",
       "[5424719 rows x 9 columns]<br/>Note: Only the head of the SFrame is printed.<br/>You can use print_rows(num_rows=m, num_columns=n) to print more rows and columns.\n",
       "</div>"
      ],
      "text/plain": [
       "Columns:\n",
       "\tNPI\tint\n",
       "\tProvider Business Practice Location Address City Name\tstr\n",
       "\tProvider Business Practice Location Address State Name\tstr\n",
       "\tProvider Business Practice Location Address Country Code (If outside US)\tstr\n",
       "\tEntity Type Code\tint\n",
       "\tProvider Gender Code\tstr\n",
       "\tIs Sole Proprietor\tstr\n",
       "\tIs Organization Subpart\tstr\n",
       "\tHealthcare Provider Taxonomy Group_1\tstr\n",
       "\n",
       "Rows: 5424719\n",
       "\n",
       "Data:\n",
       "+------------+-------------------------------+-------------------------------+\n",
       "|    NPI     | Provider Business Practice... | Provider Business Practice... |\n",
       "+------------+-------------------------------+-------------------------------+\n",
       "| 1679576722 |            KEARNEY            |               NE              |\n",
       "| 1588667638 |          JACKSONVILLE         |               FL              |\n",
       "| 1497758544 |          FAYETTEVILLE         |               NC              |\n",
       "| 1306849450 |             ATHENS            |               TX              |\n",
       "| 1215930367 |            HOUSTON            |               TX              |\n",
       "| 1023011178 |              NAPA             |               CA              |\n",
       "| 1932102084 |             TOLEDO            |               OH              |\n",
       "| 1841293990 |            NEW YORK           |               NY              |\n",
       "| 1750384806 |            LUBBOCK            |               TX              |\n",
       "| 1669475711 |           SUGAR LAND          |               TX              |\n",
       "+------------+-------------------------------+-------------------------------+\n",
       "+-------------------------------+------------------+----------------------+--------------------+\n",
       "| Provider Business Practice... | Entity Type Code | Provider Gender Code | Is Sole Proprietor |\n",
       "+-------------------------------+------------------+----------------------+--------------------+\n",
       "|               US              |        1         |          M           |         X          |\n",
       "|               US              |        1         |          M           |         N          |\n",
       "|               US              |        2         |                      |                    |\n",
       "|               US              |        1         |          M           |         N          |\n",
       "|               US              |        1         |          M           |         N          |\n",
       "|               US              |        2         |                      |                    |\n",
       "|               US              |        1         |          M           |         N          |\n",
       "|               US              |        1         |          F           |         N          |\n",
       "|               US              |        1         |          M           |         N          |\n",
       "|               US              |        1         |          F           |         Y          |\n",
       "+-------------------------------+------------------+----------------------+--------------------+\n",
       "+-------------------------+-------------------------------+\n",
       "| Is Organization Subpart | Healthcare Provider Taxono... |\n",
       "+-------------------------+-------------------------------+\n",
       "|                         |                               |\n",
       "|                         |                               |\n",
       "|            N            |                               |\n",
       "|                         |                               |\n",
       "|                         |                               |\n",
       "|            N            |                               |\n",
       "|                         |                               |\n",
       "|                         |                               |\n",
       "|                         |                               |\n",
       "|                         |                               |\n",
       "+-------------------------+-------------------------------+\n",
       "[5424719 rows x 9 columns]\n",
       "Note: Only the head of the SFrame is printed.\n",
       "You can use print_rows(num_rows=m, num_columns=n) to print more rows and columns."
      ]
     },
     "execution_count": 123,
     "metadata": {},
     "output_type": "execute_result"
    }
   ],
   "source": [
    "physician_mf4_sf"
   ]
  },
  {
   "cell_type": "code",
   "execution_count": 137,
   "metadata": {
    "collapsed": true
   },
   "outputs": [
    {
     "ename": "KeyError",
     "evalue": "'Entity Type Code'",
     "output_type": "error",
     "traceback": [
      "\u001b[0;31m---------------------------------------------------------------------------\u001b[0m",
      "\u001b[0;31mKeyError\u001b[0m                                  Traceback (most recent call last)",
      "\u001b[0;32m<ipython-input-137-b157047347ed>\u001b[0m in \u001b[0;36m<module>\u001b[0;34m()\u001b[0m\n\u001b[0;32m----> 1\u001b[0;31m \u001b[0mentity_col\u001b[0m \u001b[0;34m=\u001b[0m \u001b[0mphysician_mf4_sf\u001b[0m\u001b[0;34m.\u001b[0m\u001b[0mapply\u001b[0m\u001b[0;34m(\u001b[0m\u001b[0;32mlambda\u001b[0m \u001b[0mx\u001b[0m\u001b[0;34m:\u001b[0m \u001b[0;34m'Individual'\u001b[0m \u001b[0;32mif\u001b[0m \u001b[0mx\u001b[0m\u001b[0;34m[\u001b[0m\u001b[0;34m'Entity Type Code'\u001b[0m\u001b[0;34m]\u001b[0m \u001b[0;34m==\u001b[0m \u001b[0;36m1\u001b[0m \u001b[0;32melse\u001b[0m \u001b[0;34m(\u001b[0m\u001b[0;34m'Organization'\u001b[0m \u001b[0;32mif\u001b[0m \u001b[0mx\u001b[0m\u001b[0;34m[\u001b[0m\u001b[0;34m'Entity Type Code'\u001b[0m\u001b[0;34m]\u001b[0m \u001b[0;34m==\u001b[0m \u001b[0;36m2\u001b[0m \u001b[0;32melse\u001b[0m \u001b[0;34m''\u001b[0m\u001b[0;34m)\u001b[0m\u001b[0;34m,\u001b[0m \u001b[0mdtype\u001b[0m\u001b[0;34m=\u001b[0m\u001b[0mstr\u001b[0m\u001b[0;34m)\u001b[0m\u001b[0;34m\u001b[0m\u001b[0m\n\u001b[0m",
      "\u001b[0;32m/home/ubuntu/anaconda3/envs/py2/lib/python2.7/site-packages/graphlab/data_structures/sframe.pyc\u001b[0m in \u001b[0;36mapply\u001b[0;34m(self, fn, dtype, seed)\u001b[0m\n\u001b[1;32m   3032\u001b[0m         \u001b[0;32massert\u001b[0m \u001b[0mcallable\u001b[0m\u001b[0;34m(\u001b[0m\u001b[0mfn\u001b[0m\u001b[0;34m)\u001b[0m\u001b[0;34m,\u001b[0m \u001b[0;34m\"Input must be callable\"\u001b[0m\u001b[0;34m\u001b[0m\u001b[0m\n\u001b[1;32m   3033\u001b[0m         \u001b[0mtest_sf\u001b[0m \u001b[0;34m=\u001b[0m \u001b[0mself\u001b[0m\u001b[0;34m[\u001b[0m\u001b[0;34m:\u001b[0m\u001b[0;36m10\u001b[0m\u001b[0;34m]\u001b[0m\u001b[0;34m\u001b[0m\u001b[0m\n\u001b[0;32m-> 3034\u001b[0;31m         \u001b[0mdryrun\u001b[0m \u001b[0;34m=\u001b[0m \u001b[0;34m[\u001b[0m\u001b[0mfn\u001b[0m\u001b[0;34m(\u001b[0m\u001b[0mrow\u001b[0m\u001b[0;34m)\u001b[0m \u001b[0;32mfor\u001b[0m \u001b[0mrow\u001b[0m \u001b[0;32min\u001b[0m \u001b[0mtest_sf\u001b[0m\u001b[0;34m]\u001b[0m\u001b[0;34m\u001b[0m\u001b[0m\n\u001b[0m\u001b[1;32m   3035\u001b[0m         \u001b[0;32mif\u001b[0m \u001b[0mdtype\u001b[0m \u001b[0;32mis\u001b[0m \u001b[0mNone\u001b[0m\u001b[0;34m:\u001b[0m\u001b[0;34m\u001b[0m\u001b[0m\n\u001b[1;32m   3036\u001b[0m             \u001b[0mdtype\u001b[0m \u001b[0;34m=\u001b[0m \u001b[0mSArray\u001b[0m\u001b[0;34m(\u001b[0m\u001b[0mdryrun\u001b[0m\u001b[0;34m)\u001b[0m\u001b[0;34m.\u001b[0m\u001b[0mdtype\u001b[0m\u001b[0;34m(\u001b[0m\u001b[0;34m)\u001b[0m\u001b[0;34m\u001b[0m\u001b[0m\n",
      "\u001b[0;32m<ipython-input-137-b157047347ed>\u001b[0m in \u001b[0;36m<lambda>\u001b[0;34m(x)\u001b[0m\n\u001b[0;32m----> 1\u001b[0;31m \u001b[0mentity_col\u001b[0m \u001b[0;34m=\u001b[0m \u001b[0mphysician_mf4_sf\u001b[0m\u001b[0;34m.\u001b[0m\u001b[0mapply\u001b[0m\u001b[0;34m(\u001b[0m\u001b[0;32mlambda\u001b[0m \u001b[0mx\u001b[0m\u001b[0;34m:\u001b[0m \u001b[0;34m'Individual'\u001b[0m \u001b[0;32mif\u001b[0m \u001b[0mx\u001b[0m\u001b[0;34m[\u001b[0m\u001b[0;34m'Entity Type Code'\u001b[0m\u001b[0;34m]\u001b[0m \u001b[0;34m==\u001b[0m \u001b[0;36m1\u001b[0m \u001b[0;32melse\u001b[0m \u001b[0;34m(\u001b[0m\u001b[0;34m'Organization'\u001b[0m \u001b[0;32mif\u001b[0m \u001b[0mx\u001b[0m\u001b[0;34m[\u001b[0m\u001b[0;34m'Entity Type Code'\u001b[0m\u001b[0;34m]\u001b[0m \u001b[0;34m==\u001b[0m \u001b[0;36m2\u001b[0m \u001b[0;32melse\u001b[0m \u001b[0;34m''\u001b[0m\u001b[0;34m)\u001b[0m\u001b[0;34m,\u001b[0m \u001b[0mdtype\u001b[0m\u001b[0;34m=\u001b[0m\u001b[0mstr\u001b[0m\u001b[0;34m)\u001b[0m\u001b[0;34m\u001b[0m\u001b[0m\n\u001b[0m",
      "\u001b[0;31mKeyError\u001b[0m: 'Entity Type Code'"
     ]
    }
   ],
   "source": [
    "entity_col = physician_mf4_sf.apply(lambda x: 'Individual' if x['Entity Type Code'] == 1 else ('Organization' if x['Entity Type Code'] == 2 else ''), dtype=str)"
   ]
  },
  {
   "cell_type": "code",
   "execution_count": 134,
   "metadata": {
    "collapsed": true
   },
   "outputs": [
    {
     "ename": "RuntimeError",
     "evalue": "Runtime Exception. Column Entity already exists.",
     "output_type": "error",
     "traceback": [
      "\u001b[0;31m---------------------------------------------------------------------------\u001b[0m",
      "\u001b[0;31mRuntimeError\u001b[0m                              Traceback (most recent call last)",
      "\u001b[0;32m<ipython-input-134-d4eda972a92b>\u001b[0m in \u001b[0;36m<module>\u001b[0;34m()\u001b[0m\n\u001b[0;32m----> 1\u001b[0;31m \u001b[0mphysician_mf4_sf\u001b[0m\u001b[0;34m.\u001b[0m\u001b[0madd_column\u001b[0m\u001b[0;34m(\u001b[0m\u001b[0mentity_col\u001b[0m\u001b[0;34m,\u001b[0m \u001b[0;34m'Entity'\u001b[0m\u001b[0;34m)\u001b[0m\u001b[0;34m\u001b[0m\u001b[0m\n\u001b[0m",
      "\u001b[0;32m/home/ubuntu/anaconda3/envs/py2/lib/python2.7/site-packages/graphlab/data_structures/sframe.pyc\u001b[0m in \u001b[0;36madd_column\u001b[0;34m(self, data, name)\u001b[0m\n\u001b[1;32m   3730\u001b[0m             \u001b[0;32mraise\u001b[0m \u001b[0mTypeError\u001b[0m\u001b[0;34m(\u001b[0m\u001b[0;34m\"Invalid column name: must be str\"\u001b[0m\u001b[0;34m)\u001b[0m\u001b[0;34m\u001b[0m\u001b[0m\n\u001b[1;32m   3731\u001b[0m         \u001b[0;32mwith\u001b[0m \u001b[0mcython_context\u001b[0m\u001b[0;34m(\u001b[0m\u001b[0;34m)\u001b[0m\u001b[0;34m:\u001b[0m\u001b[0;34m\u001b[0m\u001b[0m\n\u001b[0;32m-> 3732\u001b[0;31m             \u001b[0mself\u001b[0m\u001b[0;34m.\u001b[0m\u001b[0m__proxy__\u001b[0m\u001b[0;34m.\u001b[0m\u001b[0madd_column\u001b[0m\u001b[0;34m(\u001b[0m\u001b[0mdata\u001b[0m\u001b[0;34m.\u001b[0m\u001b[0m__proxy__\u001b[0m\u001b[0;34m,\u001b[0m \u001b[0mname\u001b[0m\u001b[0;34m)\u001b[0m\u001b[0;34m\u001b[0m\u001b[0m\n\u001b[0m\u001b[1;32m   3733\u001b[0m         \u001b[0mself\u001b[0m\u001b[0;34m.\u001b[0m\u001b[0m_cache\u001b[0m \u001b[0;34m=\u001b[0m \u001b[0mNone\u001b[0m\u001b[0;34m\u001b[0m\u001b[0m\n\u001b[1;32m   3734\u001b[0m         \u001b[0;32mreturn\u001b[0m \u001b[0mself\u001b[0m\u001b[0;34m\u001b[0m\u001b[0m\n",
      "\u001b[0;32m/home/ubuntu/anaconda3/envs/py2/lib/python2.7/site-packages/graphlab/cython/context.pyc\u001b[0m in \u001b[0;36m__exit__\u001b[0;34m(self, exc_type, exc_value, traceback)\u001b[0m\n\u001b[1;32m     47\u001b[0m             \u001b[0;32mif\u001b[0m \u001b[0;32mnot\u001b[0m \u001b[0mself\u001b[0m\u001b[0;34m.\u001b[0m\u001b[0mshow_cython_trace\u001b[0m\u001b[0;34m:\u001b[0m\u001b[0;34m\u001b[0m\u001b[0m\n\u001b[1;32m     48\u001b[0m                 \u001b[0;31m# To hide cython trace, we re-raise from here\u001b[0m\u001b[0;34m\u001b[0m\u001b[0;34m\u001b[0m\u001b[0m\n\u001b[0;32m---> 49\u001b[0;31m                 \u001b[0;32mraise\u001b[0m \u001b[0mexc_type\u001b[0m\u001b[0;34m(\u001b[0m\u001b[0mexc_value\u001b[0m\u001b[0;34m)\u001b[0m\u001b[0;34m\u001b[0m\u001b[0m\n\u001b[0m\u001b[1;32m     50\u001b[0m             \u001b[0;32melse\u001b[0m\u001b[0;34m:\u001b[0m\u001b[0;34m\u001b[0m\u001b[0m\n\u001b[1;32m     51\u001b[0m                 \u001b[0;31m# To show the full trace, we do nothing and let exception propagate\u001b[0m\u001b[0;34m\u001b[0m\u001b[0;34m\u001b[0m\u001b[0m\n",
      "\u001b[0;31mRuntimeError\u001b[0m: Runtime Exception. Column Entity already exists."
     ]
    }
   ],
   "source": [
    "physician_mf4_sf.add_column(entity_col, 'Entity')"
   ]
  },
  {
   "cell_type": "code",
   "execution_count": 135,
   "metadata": {
    "collapsed": true
   },
   "outputs": [
    {
     "data": {
      "text/html": [
       "<div style=\"max-height:1000px;max-width:1500px;overflow:auto;\"><table frame=\"box\" rules=\"cols\">\n",
       "    <tr>\n",
       "        <th style=\"padding-left: 1em; padding-right: 1em; text-align: center\">NPI</th>\n",
       "        <th style=\"padding-left: 1em; padding-right: 1em; text-align: center\">Provider Business<br>Practice Location Add ...</th>\n",
       "        <th style=\"padding-left: 1em; padding-right: 1em; text-align: center\">Provider Business<br>Practice Location Add ...</th>\n",
       "        <th style=\"padding-left: 1em; padding-right: 1em; text-align: center\">Provider Business<br>Practice Location Add ...</th>\n",
       "        <th style=\"padding-left: 1em; padding-right: 1em; text-align: center\">Provider Gender Code</th>\n",
       "    </tr>\n",
       "    <tr>\n",
       "        <td style=\"padding-left: 1em; padding-right: 1em; text-align: center; vertical-align: top\">1679576722</td>\n",
       "        <td style=\"padding-left: 1em; padding-right: 1em; text-align: center; vertical-align: top\">KEARNEY</td>\n",
       "        <td style=\"padding-left: 1em; padding-right: 1em; text-align: center; vertical-align: top\">NE</td>\n",
       "        <td style=\"padding-left: 1em; padding-right: 1em; text-align: center; vertical-align: top\">US</td>\n",
       "        <td style=\"padding-left: 1em; padding-right: 1em; text-align: center; vertical-align: top\">M</td>\n",
       "    </tr>\n",
       "    <tr>\n",
       "        <td style=\"padding-left: 1em; padding-right: 1em; text-align: center; vertical-align: top\">1588667638</td>\n",
       "        <td style=\"padding-left: 1em; padding-right: 1em; text-align: center; vertical-align: top\">JACKSONVILLE</td>\n",
       "        <td style=\"padding-left: 1em; padding-right: 1em; text-align: center; vertical-align: top\">FL</td>\n",
       "        <td style=\"padding-left: 1em; padding-right: 1em; text-align: center; vertical-align: top\">US</td>\n",
       "        <td style=\"padding-left: 1em; padding-right: 1em; text-align: center; vertical-align: top\">M</td>\n",
       "    </tr>\n",
       "    <tr>\n",
       "        <td style=\"padding-left: 1em; padding-right: 1em; text-align: center; vertical-align: top\">1497758544</td>\n",
       "        <td style=\"padding-left: 1em; padding-right: 1em; text-align: center; vertical-align: top\">FAYETTEVILLE</td>\n",
       "        <td style=\"padding-left: 1em; padding-right: 1em; text-align: center; vertical-align: top\">NC</td>\n",
       "        <td style=\"padding-left: 1em; padding-right: 1em; text-align: center; vertical-align: top\">US</td>\n",
       "        <td style=\"padding-left: 1em; padding-right: 1em; text-align: center; vertical-align: top\"></td>\n",
       "    </tr>\n",
       "    <tr>\n",
       "        <td style=\"padding-left: 1em; padding-right: 1em; text-align: center; vertical-align: top\">1306849450</td>\n",
       "        <td style=\"padding-left: 1em; padding-right: 1em; text-align: center; vertical-align: top\">ATHENS</td>\n",
       "        <td style=\"padding-left: 1em; padding-right: 1em; text-align: center; vertical-align: top\">TX</td>\n",
       "        <td style=\"padding-left: 1em; padding-right: 1em; text-align: center; vertical-align: top\">US</td>\n",
       "        <td style=\"padding-left: 1em; padding-right: 1em; text-align: center; vertical-align: top\">M</td>\n",
       "    </tr>\n",
       "    <tr>\n",
       "        <td style=\"padding-left: 1em; padding-right: 1em; text-align: center; vertical-align: top\">1215930367</td>\n",
       "        <td style=\"padding-left: 1em; padding-right: 1em; text-align: center; vertical-align: top\">HOUSTON</td>\n",
       "        <td style=\"padding-left: 1em; padding-right: 1em; text-align: center; vertical-align: top\">TX</td>\n",
       "        <td style=\"padding-left: 1em; padding-right: 1em; text-align: center; vertical-align: top\">US</td>\n",
       "        <td style=\"padding-left: 1em; padding-right: 1em; text-align: center; vertical-align: top\">M</td>\n",
       "    </tr>\n",
       "    <tr>\n",
       "        <td style=\"padding-left: 1em; padding-right: 1em; text-align: center; vertical-align: top\">1023011178</td>\n",
       "        <td style=\"padding-left: 1em; padding-right: 1em; text-align: center; vertical-align: top\">NAPA</td>\n",
       "        <td style=\"padding-left: 1em; padding-right: 1em; text-align: center; vertical-align: top\">CA</td>\n",
       "        <td style=\"padding-left: 1em; padding-right: 1em; text-align: center; vertical-align: top\">US</td>\n",
       "        <td style=\"padding-left: 1em; padding-right: 1em; text-align: center; vertical-align: top\"></td>\n",
       "    </tr>\n",
       "    <tr>\n",
       "        <td style=\"padding-left: 1em; padding-right: 1em; text-align: center; vertical-align: top\">1932102084</td>\n",
       "        <td style=\"padding-left: 1em; padding-right: 1em; text-align: center; vertical-align: top\">TOLEDO</td>\n",
       "        <td style=\"padding-left: 1em; padding-right: 1em; text-align: center; vertical-align: top\">OH</td>\n",
       "        <td style=\"padding-left: 1em; padding-right: 1em; text-align: center; vertical-align: top\">US</td>\n",
       "        <td style=\"padding-left: 1em; padding-right: 1em; text-align: center; vertical-align: top\">M</td>\n",
       "    </tr>\n",
       "    <tr>\n",
       "        <td style=\"padding-left: 1em; padding-right: 1em; text-align: center; vertical-align: top\">1841293990</td>\n",
       "        <td style=\"padding-left: 1em; padding-right: 1em; text-align: center; vertical-align: top\">NEW YORK</td>\n",
       "        <td style=\"padding-left: 1em; padding-right: 1em; text-align: center; vertical-align: top\">NY</td>\n",
       "        <td style=\"padding-left: 1em; padding-right: 1em; text-align: center; vertical-align: top\">US</td>\n",
       "        <td style=\"padding-left: 1em; padding-right: 1em; text-align: center; vertical-align: top\">F</td>\n",
       "    </tr>\n",
       "    <tr>\n",
       "        <td style=\"padding-left: 1em; padding-right: 1em; text-align: center; vertical-align: top\">1750384806</td>\n",
       "        <td style=\"padding-left: 1em; padding-right: 1em; text-align: center; vertical-align: top\">LUBBOCK</td>\n",
       "        <td style=\"padding-left: 1em; padding-right: 1em; text-align: center; vertical-align: top\">TX</td>\n",
       "        <td style=\"padding-left: 1em; padding-right: 1em; text-align: center; vertical-align: top\">US</td>\n",
       "        <td style=\"padding-left: 1em; padding-right: 1em; text-align: center; vertical-align: top\">M</td>\n",
       "    </tr>\n",
       "    <tr>\n",
       "        <td style=\"padding-left: 1em; padding-right: 1em; text-align: center; vertical-align: top\">1669475711</td>\n",
       "        <td style=\"padding-left: 1em; padding-right: 1em; text-align: center; vertical-align: top\">SUGAR LAND</td>\n",
       "        <td style=\"padding-left: 1em; padding-right: 1em; text-align: center; vertical-align: top\">TX</td>\n",
       "        <td style=\"padding-left: 1em; padding-right: 1em; text-align: center; vertical-align: top\">US</td>\n",
       "        <td style=\"padding-left: 1em; padding-right: 1em; text-align: center; vertical-align: top\">F</td>\n",
       "    </tr>\n",
       "</table>\n",
       "<table frame=\"box\" rules=\"cols\">\n",
       "    <tr>\n",
       "        <th style=\"padding-left: 1em; padding-right: 1em; text-align: center\">Is Sole Proprietor</th>\n",
       "        <th style=\"padding-left: 1em; padding-right: 1em; text-align: center\">Is Organization Subpart</th>\n",
       "        <th style=\"padding-left: 1em; padding-right: 1em; text-align: center\">Healthcare Provider<br>Taxonomy Group_1 ...</th>\n",
       "        <th style=\"padding-left: 1em; padding-right: 1em; text-align: center\">Entity</th>\n",
       "    </tr>\n",
       "    <tr>\n",
       "        <td style=\"padding-left: 1em; padding-right: 1em; text-align: center; vertical-align: top\">X</td>\n",
       "        <td style=\"padding-left: 1em; padding-right: 1em; text-align: center; vertical-align: top\"></td>\n",
       "        <td style=\"padding-left: 1em; padding-right: 1em; text-align: center; vertical-align: top\"></td>\n",
       "        <td style=\"padding-left: 1em; padding-right: 1em; text-align: center; vertical-align: top\">Individual</td>\n",
       "    </tr>\n",
       "    <tr>\n",
       "        <td style=\"padding-left: 1em; padding-right: 1em; text-align: center; vertical-align: top\">N</td>\n",
       "        <td style=\"padding-left: 1em; padding-right: 1em; text-align: center; vertical-align: top\"></td>\n",
       "        <td style=\"padding-left: 1em; padding-right: 1em; text-align: center; vertical-align: top\"></td>\n",
       "        <td style=\"padding-left: 1em; padding-right: 1em; text-align: center; vertical-align: top\">Individual</td>\n",
       "    </tr>\n",
       "    <tr>\n",
       "        <td style=\"padding-left: 1em; padding-right: 1em; text-align: center; vertical-align: top\"></td>\n",
       "        <td style=\"padding-left: 1em; padding-right: 1em; text-align: center; vertical-align: top\">N</td>\n",
       "        <td style=\"padding-left: 1em; padding-right: 1em; text-align: center; vertical-align: top\"></td>\n",
       "        <td style=\"padding-left: 1em; padding-right: 1em; text-align: center; vertical-align: top\">Organization</td>\n",
       "    </tr>\n",
       "    <tr>\n",
       "        <td style=\"padding-left: 1em; padding-right: 1em; text-align: center; vertical-align: top\">N</td>\n",
       "        <td style=\"padding-left: 1em; padding-right: 1em; text-align: center; vertical-align: top\"></td>\n",
       "        <td style=\"padding-left: 1em; padding-right: 1em; text-align: center; vertical-align: top\"></td>\n",
       "        <td style=\"padding-left: 1em; padding-right: 1em; text-align: center; vertical-align: top\">Individual</td>\n",
       "    </tr>\n",
       "    <tr>\n",
       "        <td style=\"padding-left: 1em; padding-right: 1em; text-align: center; vertical-align: top\">N</td>\n",
       "        <td style=\"padding-left: 1em; padding-right: 1em; text-align: center; vertical-align: top\"></td>\n",
       "        <td style=\"padding-left: 1em; padding-right: 1em; text-align: center; vertical-align: top\"></td>\n",
       "        <td style=\"padding-left: 1em; padding-right: 1em; text-align: center; vertical-align: top\">Individual</td>\n",
       "    </tr>\n",
       "    <tr>\n",
       "        <td style=\"padding-left: 1em; padding-right: 1em; text-align: center; vertical-align: top\"></td>\n",
       "        <td style=\"padding-left: 1em; padding-right: 1em; text-align: center; vertical-align: top\">N</td>\n",
       "        <td style=\"padding-left: 1em; padding-right: 1em; text-align: center; vertical-align: top\"></td>\n",
       "        <td style=\"padding-left: 1em; padding-right: 1em; text-align: center; vertical-align: top\">Organization</td>\n",
       "    </tr>\n",
       "    <tr>\n",
       "        <td style=\"padding-left: 1em; padding-right: 1em; text-align: center; vertical-align: top\">N</td>\n",
       "        <td style=\"padding-left: 1em; padding-right: 1em; text-align: center; vertical-align: top\"></td>\n",
       "        <td style=\"padding-left: 1em; padding-right: 1em; text-align: center; vertical-align: top\"></td>\n",
       "        <td style=\"padding-left: 1em; padding-right: 1em; text-align: center; vertical-align: top\">Individual</td>\n",
       "    </tr>\n",
       "    <tr>\n",
       "        <td style=\"padding-left: 1em; padding-right: 1em; text-align: center; vertical-align: top\">N</td>\n",
       "        <td style=\"padding-left: 1em; padding-right: 1em; text-align: center; vertical-align: top\"></td>\n",
       "        <td style=\"padding-left: 1em; padding-right: 1em; text-align: center; vertical-align: top\"></td>\n",
       "        <td style=\"padding-left: 1em; padding-right: 1em; text-align: center; vertical-align: top\">Individual</td>\n",
       "    </tr>\n",
       "    <tr>\n",
       "        <td style=\"padding-left: 1em; padding-right: 1em; text-align: center; vertical-align: top\">N</td>\n",
       "        <td style=\"padding-left: 1em; padding-right: 1em; text-align: center; vertical-align: top\"></td>\n",
       "        <td style=\"padding-left: 1em; padding-right: 1em; text-align: center; vertical-align: top\"></td>\n",
       "        <td style=\"padding-left: 1em; padding-right: 1em; text-align: center; vertical-align: top\">Individual</td>\n",
       "    </tr>\n",
       "    <tr>\n",
       "        <td style=\"padding-left: 1em; padding-right: 1em; text-align: center; vertical-align: top\">Y</td>\n",
       "        <td style=\"padding-left: 1em; padding-right: 1em; text-align: center; vertical-align: top\"></td>\n",
       "        <td style=\"padding-left: 1em; padding-right: 1em; text-align: center; vertical-align: top\"></td>\n",
       "        <td style=\"padding-left: 1em; padding-right: 1em; text-align: center; vertical-align: top\">Individual</td>\n",
       "    </tr>\n",
       "</table>\n",
       "[5424719 rows x 9 columns]<br/>Note: Only the head of the SFrame is printed.<br/>You can use print_rows(num_rows=m, num_columns=n) to print more rows and columns.\n",
       "</div>"
      ],
      "text/plain": [
       "Columns:\n",
       "\tNPI\tint\n",
       "\tProvider Business Practice Location Address City Name\tstr\n",
       "\tProvider Business Practice Location Address State Name\tstr\n",
       "\tProvider Business Practice Location Address Country Code (If outside US)\tstr\n",
       "\tProvider Gender Code\tstr\n",
       "\tIs Sole Proprietor\tstr\n",
       "\tIs Organization Subpart\tstr\n",
       "\tHealthcare Provider Taxonomy Group_1\tstr\n",
       "\tEntity\tstr\n",
       "\n",
       "Rows: 5424719\n",
       "\n",
       "Data:\n",
       "+------------+-------------------------------+-------------------------------+\n",
       "|    NPI     | Provider Business Practice... | Provider Business Practice... |\n",
       "+------------+-------------------------------+-------------------------------+\n",
       "| 1679576722 |            KEARNEY            |               NE              |\n",
       "| 1588667638 |          JACKSONVILLE         |               FL              |\n",
       "| 1497758544 |          FAYETTEVILLE         |               NC              |\n",
       "| 1306849450 |             ATHENS            |               TX              |\n",
       "| 1215930367 |            HOUSTON            |               TX              |\n",
       "| 1023011178 |              NAPA             |               CA              |\n",
       "| 1932102084 |             TOLEDO            |               OH              |\n",
       "| 1841293990 |            NEW YORK           |               NY              |\n",
       "| 1750384806 |            LUBBOCK            |               TX              |\n",
       "| 1669475711 |           SUGAR LAND          |               TX              |\n",
       "+------------+-------------------------------+-------------------------------+\n",
       "+-------------------------------+----------------------+--------------------+-------------------------+\n",
       "| Provider Business Practice... | Provider Gender Code | Is Sole Proprietor | Is Organization Subpart |\n",
       "+-------------------------------+----------------------+--------------------+-------------------------+\n",
       "|               US              |          M           |         X          |                         |\n",
       "|               US              |          M           |         N          |                         |\n",
       "|               US              |                      |                    |            N            |\n",
       "|               US              |          M           |         N          |                         |\n",
       "|               US              |          M           |         N          |                         |\n",
       "|               US              |                      |                    |            N            |\n",
       "|               US              |          M           |         N          |                         |\n",
       "|               US              |          F           |         N          |                         |\n",
       "|               US              |          M           |         N          |                         |\n",
       "|               US              |          F           |         Y          |                         |\n",
       "+-------------------------------+----------------------+--------------------+-------------------------+\n",
       "+-------------------------------+--------------+\n",
       "| Healthcare Provider Taxono... |    Entity    |\n",
       "+-------------------------------+--------------+\n",
       "|                               |  Individual  |\n",
       "|                               |  Individual  |\n",
       "|                               | Organization |\n",
       "|                               |  Individual  |\n",
       "|                               |  Individual  |\n",
       "|                               | Organization |\n",
       "|                               |  Individual  |\n",
       "|                               |  Individual  |\n",
       "|                               |  Individual  |\n",
       "|                               |  Individual  |\n",
       "+-------------------------------+--------------+\n",
       "[5424719 rows x 9 columns]\n",
       "Note: Only the head of the SFrame is printed.\n",
       "You can use print_rows(num_rows=m, num_columns=n) to print more rows and columns."
      ]
     },
     "execution_count": 135,
     "metadata": {},
     "output_type": "execute_result"
    }
   ],
   "source": [
    "physician_mf4_sf.remove_column('Entity Type Code')"
   ]
  },
  {
   "cell_type": "code",
   "execution_count": 152,
   "metadata": {},
   "outputs": [],
   "source": [
    "ownership_col = physician_mf4_sf.apply(lambda x: 'Yes' if x['Is Sole Proprietor'] == 'X' else ('Yes' if x['Is Sole Proprietor'] == 'Y' else 'No'), dtype=str)"
   ]
  },
  {
   "cell_type": "code",
   "execution_count": 154,
   "metadata": {
    "collapsed": true
   },
   "outputs": [
    {
     "data": {
      "text/html": [
       "<div style=\"max-height:1000px;max-width:1500px;overflow:auto;\"><table frame=\"box\" rules=\"cols\">\n",
       "    <tr>\n",
       "        <th style=\"padding-left: 1em; padding-right: 1em; text-align: center\">NPI</th>\n",
       "        <th style=\"padding-left: 1em; padding-right: 1em; text-align: center\">Provider Business<br>Practice Location Add ...</th>\n",
       "        <th style=\"padding-left: 1em; padding-right: 1em; text-align: center\">Provider Business<br>Practice Location Add ...</th>\n",
       "        <th style=\"padding-left: 1em; padding-right: 1em; text-align: center\">Provider Business<br>Practice Location Add ...</th>\n",
       "        <th style=\"padding-left: 1em; padding-right: 1em; text-align: center\">Provider Gender Code</th>\n",
       "    </tr>\n",
       "    <tr>\n",
       "        <td style=\"padding-left: 1em; padding-right: 1em; text-align: center; vertical-align: top\">1679576722</td>\n",
       "        <td style=\"padding-left: 1em; padding-right: 1em; text-align: center; vertical-align: top\">KEARNEY</td>\n",
       "        <td style=\"padding-left: 1em; padding-right: 1em; text-align: center; vertical-align: top\">NE</td>\n",
       "        <td style=\"padding-left: 1em; padding-right: 1em; text-align: center; vertical-align: top\">US</td>\n",
       "        <td style=\"padding-left: 1em; padding-right: 1em; text-align: center; vertical-align: top\">M</td>\n",
       "    </tr>\n",
       "    <tr>\n",
       "        <td style=\"padding-left: 1em; padding-right: 1em; text-align: center; vertical-align: top\">1588667638</td>\n",
       "        <td style=\"padding-left: 1em; padding-right: 1em; text-align: center; vertical-align: top\">JACKSONVILLE</td>\n",
       "        <td style=\"padding-left: 1em; padding-right: 1em; text-align: center; vertical-align: top\">FL</td>\n",
       "        <td style=\"padding-left: 1em; padding-right: 1em; text-align: center; vertical-align: top\">US</td>\n",
       "        <td style=\"padding-left: 1em; padding-right: 1em; text-align: center; vertical-align: top\">M</td>\n",
       "    </tr>\n",
       "    <tr>\n",
       "        <td style=\"padding-left: 1em; padding-right: 1em; text-align: center; vertical-align: top\">1497758544</td>\n",
       "        <td style=\"padding-left: 1em; padding-right: 1em; text-align: center; vertical-align: top\">FAYETTEVILLE</td>\n",
       "        <td style=\"padding-left: 1em; padding-right: 1em; text-align: center; vertical-align: top\">NC</td>\n",
       "        <td style=\"padding-left: 1em; padding-right: 1em; text-align: center; vertical-align: top\">US</td>\n",
       "        <td style=\"padding-left: 1em; padding-right: 1em; text-align: center; vertical-align: top\"></td>\n",
       "    </tr>\n",
       "    <tr>\n",
       "        <td style=\"padding-left: 1em; padding-right: 1em; text-align: center; vertical-align: top\">1306849450</td>\n",
       "        <td style=\"padding-left: 1em; padding-right: 1em; text-align: center; vertical-align: top\">ATHENS</td>\n",
       "        <td style=\"padding-left: 1em; padding-right: 1em; text-align: center; vertical-align: top\">TX</td>\n",
       "        <td style=\"padding-left: 1em; padding-right: 1em; text-align: center; vertical-align: top\">US</td>\n",
       "        <td style=\"padding-left: 1em; padding-right: 1em; text-align: center; vertical-align: top\">M</td>\n",
       "    </tr>\n",
       "    <tr>\n",
       "        <td style=\"padding-left: 1em; padding-right: 1em; text-align: center; vertical-align: top\">1215930367</td>\n",
       "        <td style=\"padding-left: 1em; padding-right: 1em; text-align: center; vertical-align: top\">HOUSTON</td>\n",
       "        <td style=\"padding-left: 1em; padding-right: 1em; text-align: center; vertical-align: top\">TX</td>\n",
       "        <td style=\"padding-left: 1em; padding-right: 1em; text-align: center; vertical-align: top\">US</td>\n",
       "        <td style=\"padding-left: 1em; padding-right: 1em; text-align: center; vertical-align: top\">M</td>\n",
       "    </tr>\n",
       "    <tr>\n",
       "        <td style=\"padding-left: 1em; padding-right: 1em; text-align: center; vertical-align: top\">1023011178</td>\n",
       "        <td style=\"padding-left: 1em; padding-right: 1em; text-align: center; vertical-align: top\">NAPA</td>\n",
       "        <td style=\"padding-left: 1em; padding-right: 1em; text-align: center; vertical-align: top\">CA</td>\n",
       "        <td style=\"padding-left: 1em; padding-right: 1em; text-align: center; vertical-align: top\">US</td>\n",
       "        <td style=\"padding-left: 1em; padding-right: 1em; text-align: center; vertical-align: top\"></td>\n",
       "    </tr>\n",
       "    <tr>\n",
       "        <td style=\"padding-left: 1em; padding-right: 1em; text-align: center; vertical-align: top\">1932102084</td>\n",
       "        <td style=\"padding-left: 1em; padding-right: 1em; text-align: center; vertical-align: top\">TOLEDO</td>\n",
       "        <td style=\"padding-left: 1em; padding-right: 1em; text-align: center; vertical-align: top\">OH</td>\n",
       "        <td style=\"padding-left: 1em; padding-right: 1em; text-align: center; vertical-align: top\">US</td>\n",
       "        <td style=\"padding-left: 1em; padding-right: 1em; text-align: center; vertical-align: top\">M</td>\n",
       "    </tr>\n",
       "    <tr>\n",
       "        <td style=\"padding-left: 1em; padding-right: 1em; text-align: center; vertical-align: top\">1841293990</td>\n",
       "        <td style=\"padding-left: 1em; padding-right: 1em; text-align: center; vertical-align: top\">NEW YORK</td>\n",
       "        <td style=\"padding-left: 1em; padding-right: 1em; text-align: center; vertical-align: top\">NY</td>\n",
       "        <td style=\"padding-left: 1em; padding-right: 1em; text-align: center; vertical-align: top\">US</td>\n",
       "        <td style=\"padding-left: 1em; padding-right: 1em; text-align: center; vertical-align: top\">F</td>\n",
       "    </tr>\n",
       "    <tr>\n",
       "        <td style=\"padding-left: 1em; padding-right: 1em; text-align: center; vertical-align: top\">1750384806</td>\n",
       "        <td style=\"padding-left: 1em; padding-right: 1em; text-align: center; vertical-align: top\">LUBBOCK</td>\n",
       "        <td style=\"padding-left: 1em; padding-right: 1em; text-align: center; vertical-align: top\">TX</td>\n",
       "        <td style=\"padding-left: 1em; padding-right: 1em; text-align: center; vertical-align: top\">US</td>\n",
       "        <td style=\"padding-left: 1em; padding-right: 1em; text-align: center; vertical-align: top\">M</td>\n",
       "    </tr>\n",
       "    <tr>\n",
       "        <td style=\"padding-left: 1em; padding-right: 1em; text-align: center; vertical-align: top\">1669475711</td>\n",
       "        <td style=\"padding-left: 1em; padding-right: 1em; text-align: center; vertical-align: top\">SUGAR LAND</td>\n",
       "        <td style=\"padding-left: 1em; padding-right: 1em; text-align: center; vertical-align: top\">TX</td>\n",
       "        <td style=\"padding-left: 1em; padding-right: 1em; text-align: center; vertical-align: top\">US</td>\n",
       "        <td style=\"padding-left: 1em; padding-right: 1em; text-align: center; vertical-align: top\">F</td>\n",
       "    </tr>\n",
       "</table>\n",
       "<table frame=\"box\" rules=\"cols\">\n",
       "    <tr>\n",
       "        <th style=\"padding-left: 1em; padding-right: 1em; text-align: center\">Is Sole Proprietor</th>\n",
       "        <th style=\"padding-left: 1em; padding-right: 1em; text-align: center\">Is Organization Subpart</th>\n",
       "        <th style=\"padding-left: 1em; padding-right: 1em; text-align: center\">Healthcare Provider<br>Taxonomy Group_1 ...</th>\n",
       "        <th style=\"padding-left: 1em; padding-right: 1em; text-align: center\">Entity</th>\n",
       "        <th style=\"padding-left: 1em; padding-right: 1em; text-align: center\">Sole Proprietor</th>\n",
       "    </tr>\n",
       "    <tr>\n",
       "        <td style=\"padding-left: 1em; padding-right: 1em; text-align: center; vertical-align: top\">X</td>\n",
       "        <td style=\"padding-left: 1em; padding-right: 1em; text-align: center; vertical-align: top\"></td>\n",
       "        <td style=\"padding-left: 1em; padding-right: 1em; text-align: center; vertical-align: top\"></td>\n",
       "        <td style=\"padding-left: 1em; padding-right: 1em; text-align: center; vertical-align: top\">Individual</td>\n",
       "        <td style=\"padding-left: 1em; padding-right: 1em; text-align: center; vertical-align: top\">Yes</td>\n",
       "    </tr>\n",
       "    <tr>\n",
       "        <td style=\"padding-left: 1em; padding-right: 1em; text-align: center; vertical-align: top\">N</td>\n",
       "        <td style=\"padding-left: 1em; padding-right: 1em; text-align: center; vertical-align: top\"></td>\n",
       "        <td style=\"padding-left: 1em; padding-right: 1em; text-align: center; vertical-align: top\"></td>\n",
       "        <td style=\"padding-left: 1em; padding-right: 1em; text-align: center; vertical-align: top\">Individual</td>\n",
       "        <td style=\"padding-left: 1em; padding-right: 1em; text-align: center; vertical-align: top\">No</td>\n",
       "    </tr>\n",
       "    <tr>\n",
       "        <td style=\"padding-left: 1em; padding-right: 1em; text-align: center; vertical-align: top\"></td>\n",
       "        <td style=\"padding-left: 1em; padding-right: 1em; text-align: center; vertical-align: top\">N</td>\n",
       "        <td style=\"padding-left: 1em; padding-right: 1em; text-align: center; vertical-align: top\"></td>\n",
       "        <td style=\"padding-left: 1em; padding-right: 1em; text-align: center; vertical-align: top\">Organization</td>\n",
       "        <td style=\"padding-left: 1em; padding-right: 1em; text-align: center; vertical-align: top\">No</td>\n",
       "    </tr>\n",
       "    <tr>\n",
       "        <td style=\"padding-left: 1em; padding-right: 1em; text-align: center; vertical-align: top\">N</td>\n",
       "        <td style=\"padding-left: 1em; padding-right: 1em; text-align: center; vertical-align: top\"></td>\n",
       "        <td style=\"padding-left: 1em; padding-right: 1em; text-align: center; vertical-align: top\"></td>\n",
       "        <td style=\"padding-left: 1em; padding-right: 1em; text-align: center; vertical-align: top\">Individual</td>\n",
       "        <td style=\"padding-left: 1em; padding-right: 1em; text-align: center; vertical-align: top\">No</td>\n",
       "    </tr>\n",
       "    <tr>\n",
       "        <td style=\"padding-left: 1em; padding-right: 1em; text-align: center; vertical-align: top\">N</td>\n",
       "        <td style=\"padding-left: 1em; padding-right: 1em; text-align: center; vertical-align: top\"></td>\n",
       "        <td style=\"padding-left: 1em; padding-right: 1em; text-align: center; vertical-align: top\"></td>\n",
       "        <td style=\"padding-left: 1em; padding-right: 1em; text-align: center; vertical-align: top\">Individual</td>\n",
       "        <td style=\"padding-left: 1em; padding-right: 1em; text-align: center; vertical-align: top\">No</td>\n",
       "    </tr>\n",
       "    <tr>\n",
       "        <td style=\"padding-left: 1em; padding-right: 1em; text-align: center; vertical-align: top\"></td>\n",
       "        <td style=\"padding-left: 1em; padding-right: 1em; text-align: center; vertical-align: top\">N</td>\n",
       "        <td style=\"padding-left: 1em; padding-right: 1em; text-align: center; vertical-align: top\"></td>\n",
       "        <td style=\"padding-left: 1em; padding-right: 1em; text-align: center; vertical-align: top\">Organization</td>\n",
       "        <td style=\"padding-left: 1em; padding-right: 1em; text-align: center; vertical-align: top\">No</td>\n",
       "    </tr>\n",
       "    <tr>\n",
       "        <td style=\"padding-left: 1em; padding-right: 1em; text-align: center; vertical-align: top\">N</td>\n",
       "        <td style=\"padding-left: 1em; padding-right: 1em; text-align: center; vertical-align: top\"></td>\n",
       "        <td style=\"padding-left: 1em; padding-right: 1em; text-align: center; vertical-align: top\"></td>\n",
       "        <td style=\"padding-left: 1em; padding-right: 1em; text-align: center; vertical-align: top\">Individual</td>\n",
       "        <td style=\"padding-left: 1em; padding-right: 1em; text-align: center; vertical-align: top\">No</td>\n",
       "    </tr>\n",
       "    <tr>\n",
       "        <td style=\"padding-left: 1em; padding-right: 1em; text-align: center; vertical-align: top\">N</td>\n",
       "        <td style=\"padding-left: 1em; padding-right: 1em; text-align: center; vertical-align: top\"></td>\n",
       "        <td style=\"padding-left: 1em; padding-right: 1em; text-align: center; vertical-align: top\"></td>\n",
       "        <td style=\"padding-left: 1em; padding-right: 1em; text-align: center; vertical-align: top\">Individual</td>\n",
       "        <td style=\"padding-left: 1em; padding-right: 1em; text-align: center; vertical-align: top\">No</td>\n",
       "    </tr>\n",
       "    <tr>\n",
       "        <td style=\"padding-left: 1em; padding-right: 1em; text-align: center; vertical-align: top\">N</td>\n",
       "        <td style=\"padding-left: 1em; padding-right: 1em; text-align: center; vertical-align: top\"></td>\n",
       "        <td style=\"padding-left: 1em; padding-right: 1em; text-align: center; vertical-align: top\"></td>\n",
       "        <td style=\"padding-left: 1em; padding-right: 1em; text-align: center; vertical-align: top\">Individual</td>\n",
       "        <td style=\"padding-left: 1em; padding-right: 1em; text-align: center; vertical-align: top\">No</td>\n",
       "    </tr>\n",
       "    <tr>\n",
       "        <td style=\"padding-left: 1em; padding-right: 1em; text-align: center; vertical-align: top\">Y</td>\n",
       "        <td style=\"padding-left: 1em; padding-right: 1em; text-align: center; vertical-align: top\"></td>\n",
       "        <td style=\"padding-left: 1em; padding-right: 1em; text-align: center; vertical-align: top\"></td>\n",
       "        <td style=\"padding-left: 1em; padding-right: 1em; text-align: center; vertical-align: top\">Individual</td>\n",
       "        <td style=\"padding-left: 1em; padding-right: 1em; text-align: center; vertical-align: top\">Yes</td>\n",
       "    </tr>\n",
       "</table>\n",
       "[5424719 rows x 10 columns]<br/>Note: Only the head of the SFrame is printed.<br/>You can use print_rows(num_rows=m, num_columns=n) to print more rows and columns.\n",
       "</div>"
      ],
      "text/plain": [
       "Columns:\n",
       "\tNPI\tint\n",
       "\tProvider Business Practice Location Address City Name\tstr\n",
       "\tProvider Business Practice Location Address State Name\tstr\n",
       "\tProvider Business Practice Location Address Country Code (If outside US)\tstr\n",
       "\tProvider Gender Code\tstr\n",
       "\tIs Sole Proprietor\tstr\n",
       "\tIs Organization Subpart\tstr\n",
       "\tHealthcare Provider Taxonomy Group_1\tstr\n",
       "\tEntity\tstr\n",
       "\tSole Proprietor\tstr\n",
       "\n",
       "Rows: 5424719\n",
       "\n",
       "Data:\n",
       "+------------+-------------------------------+-------------------------------+\n",
       "|    NPI     | Provider Business Practice... | Provider Business Practice... |\n",
       "+------------+-------------------------------+-------------------------------+\n",
       "| 1679576722 |            KEARNEY            |               NE              |\n",
       "| 1588667638 |          JACKSONVILLE         |               FL              |\n",
       "| 1497758544 |          FAYETTEVILLE         |               NC              |\n",
       "| 1306849450 |             ATHENS            |               TX              |\n",
       "| 1215930367 |            HOUSTON            |               TX              |\n",
       "| 1023011178 |              NAPA             |               CA              |\n",
       "| 1932102084 |             TOLEDO            |               OH              |\n",
       "| 1841293990 |            NEW YORK           |               NY              |\n",
       "| 1750384806 |            LUBBOCK            |               TX              |\n",
       "| 1669475711 |           SUGAR LAND          |               TX              |\n",
       "+------------+-------------------------------+-------------------------------+\n",
       "+-------------------------------+----------------------+--------------------+-------------------------+\n",
       "| Provider Business Practice... | Provider Gender Code | Is Sole Proprietor | Is Organization Subpart |\n",
       "+-------------------------------+----------------------+--------------------+-------------------------+\n",
       "|               US              |          M           |         X          |                         |\n",
       "|               US              |          M           |         N          |                         |\n",
       "|               US              |                      |                    |            N            |\n",
       "|               US              |          M           |         N          |                         |\n",
       "|               US              |          M           |         N          |                         |\n",
       "|               US              |                      |                    |            N            |\n",
       "|               US              |          M           |         N          |                         |\n",
       "|               US              |          F           |         N          |                         |\n",
       "|               US              |          M           |         N          |                         |\n",
       "|               US              |          F           |         Y          |                         |\n",
       "+-------------------------------+----------------------+--------------------+-------------------------+\n",
       "+-------------------------------+--------------+-----------------+\n",
       "| Healthcare Provider Taxono... |    Entity    | Sole Proprietor |\n",
       "+-------------------------------+--------------+-----------------+\n",
       "|                               |  Individual  |       Yes       |\n",
       "|                               |  Individual  |        No       |\n",
       "|                               | Organization |        No       |\n",
       "|                               |  Individual  |        No       |\n",
       "|                               |  Individual  |        No       |\n",
       "|                               | Organization |        No       |\n",
       "|                               |  Individual  |        No       |\n",
       "|                               |  Individual  |        No       |\n",
       "|                               |  Individual  |        No       |\n",
       "|                               |  Individual  |       Yes       |\n",
       "+-------------------------------+--------------+-----------------+\n",
       "[5424719 rows x 10 columns]\n",
       "Note: Only the head of the SFrame is printed.\n",
       "You can use print_rows(num_rows=m, num_columns=n) to print more rows and columns."
      ]
     },
     "execution_count": 154,
     "metadata": {},
     "output_type": "execute_result"
    }
   ],
   "source": [
    "physician_mf4_sf.add_column(ownership_col, 'Sole Proprietor')"
   ]
  },
  {
   "cell_type": "code",
   "execution_count": 155,
   "metadata": {
    "collapsed": true
   },
   "outputs": [
    {
     "data": {
      "text/html": [
       "<div style=\"max-height:1000px;max-width:1500px;overflow:auto;\"><table frame=\"box\" rules=\"cols\">\n",
       "    <tr>\n",
       "        <th style=\"padding-left: 1em; padding-right: 1em; text-align: center\">NPI</th>\n",
       "        <th style=\"padding-left: 1em; padding-right: 1em; text-align: center\">Provider Business<br>Practice Location Add ...</th>\n",
       "        <th style=\"padding-left: 1em; padding-right: 1em; text-align: center\">Provider Business<br>Practice Location Add ...</th>\n",
       "        <th style=\"padding-left: 1em; padding-right: 1em; text-align: center\">Provider Business<br>Practice Location Add ...</th>\n",
       "        <th style=\"padding-left: 1em; padding-right: 1em; text-align: center\">Provider Gender Code</th>\n",
       "    </tr>\n",
       "    <tr>\n",
       "        <td style=\"padding-left: 1em; padding-right: 1em; text-align: center; vertical-align: top\">1679576722</td>\n",
       "        <td style=\"padding-left: 1em; padding-right: 1em; text-align: center; vertical-align: top\">KEARNEY</td>\n",
       "        <td style=\"padding-left: 1em; padding-right: 1em; text-align: center; vertical-align: top\">NE</td>\n",
       "        <td style=\"padding-left: 1em; padding-right: 1em; text-align: center; vertical-align: top\">US</td>\n",
       "        <td style=\"padding-left: 1em; padding-right: 1em; text-align: center; vertical-align: top\">M</td>\n",
       "    </tr>\n",
       "    <tr>\n",
       "        <td style=\"padding-left: 1em; padding-right: 1em; text-align: center; vertical-align: top\">1588667638</td>\n",
       "        <td style=\"padding-left: 1em; padding-right: 1em; text-align: center; vertical-align: top\">JACKSONVILLE</td>\n",
       "        <td style=\"padding-left: 1em; padding-right: 1em; text-align: center; vertical-align: top\">FL</td>\n",
       "        <td style=\"padding-left: 1em; padding-right: 1em; text-align: center; vertical-align: top\">US</td>\n",
       "        <td style=\"padding-left: 1em; padding-right: 1em; text-align: center; vertical-align: top\">M</td>\n",
       "    </tr>\n",
       "    <tr>\n",
       "        <td style=\"padding-left: 1em; padding-right: 1em; text-align: center; vertical-align: top\">1497758544</td>\n",
       "        <td style=\"padding-left: 1em; padding-right: 1em; text-align: center; vertical-align: top\">FAYETTEVILLE</td>\n",
       "        <td style=\"padding-left: 1em; padding-right: 1em; text-align: center; vertical-align: top\">NC</td>\n",
       "        <td style=\"padding-left: 1em; padding-right: 1em; text-align: center; vertical-align: top\">US</td>\n",
       "        <td style=\"padding-left: 1em; padding-right: 1em; text-align: center; vertical-align: top\"></td>\n",
       "    </tr>\n",
       "    <tr>\n",
       "        <td style=\"padding-left: 1em; padding-right: 1em; text-align: center; vertical-align: top\">1306849450</td>\n",
       "        <td style=\"padding-left: 1em; padding-right: 1em; text-align: center; vertical-align: top\">ATHENS</td>\n",
       "        <td style=\"padding-left: 1em; padding-right: 1em; text-align: center; vertical-align: top\">TX</td>\n",
       "        <td style=\"padding-left: 1em; padding-right: 1em; text-align: center; vertical-align: top\">US</td>\n",
       "        <td style=\"padding-left: 1em; padding-right: 1em; text-align: center; vertical-align: top\">M</td>\n",
       "    </tr>\n",
       "    <tr>\n",
       "        <td style=\"padding-left: 1em; padding-right: 1em; text-align: center; vertical-align: top\">1215930367</td>\n",
       "        <td style=\"padding-left: 1em; padding-right: 1em; text-align: center; vertical-align: top\">HOUSTON</td>\n",
       "        <td style=\"padding-left: 1em; padding-right: 1em; text-align: center; vertical-align: top\">TX</td>\n",
       "        <td style=\"padding-left: 1em; padding-right: 1em; text-align: center; vertical-align: top\">US</td>\n",
       "        <td style=\"padding-left: 1em; padding-right: 1em; text-align: center; vertical-align: top\">M</td>\n",
       "    </tr>\n",
       "    <tr>\n",
       "        <td style=\"padding-left: 1em; padding-right: 1em; text-align: center; vertical-align: top\">1023011178</td>\n",
       "        <td style=\"padding-left: 1em; padding-right: 1em; text-align: center; vertical-align: top\">NAPA</td>\n",
       "        <td style=\"padding-left: 1em; padding-right: 1em; text-align: center; vertical-align: top\">CA</td>\n",
       "        <td style=\"padding-left: 1em; padding-right: 1em; text-align: center; vertical-align: top\">US</td>\n",
       "        <td style=\"padding-left: 1em; padding-right: 1em; text-align: center; vertical-align: top\"></td>\n",
       "    </tr>\n",
       "    <tr>\n",
       "        <td style=\"padding-left: 1em; padding-right: 1em; text-align: center; vertical-align: top\">1932102084</td>\n",
       "        <td style=\"padding-left: 1em; padding-right: 1em; text-align: center; vertical-align: top\">TOLEDO</td>\n",
       "        <td style=\"padding-left: 1em; padding-right: 1em; text-align: center; vertical-align: top\">OH</td>\n",
       "        <td style=\"padding-left: 1em; padding-right: 1em; text-align: center; vertical-align: top\">US</td>\n",
       "        <td style=\"padding-left: 1em; padding-right: 1em; text-align: center; vertical-align: top\">M</td>\n",
       "    </tr>\n",
       "    <tr>\n",
       "        <td style=\"padding-left: 1em; padding-right: 1em; text-align: center; vertical-align: top\">1841293990</td>\n",
       "        <td style=\"padding-left: 1em; padding-right: 1em; text-align: center; vertical-align: top\">NEW YORK</td>\n",
       "        <td style=\"padding-left: 1em; padding-right: 1em; text-align: center; vertical-align: top\">NY</td>\n",
       "        <td style=\"padding-left: 1em; padding-right: 1em; text-align: center; vertical-align: top\">US</td>\n",
       "        <td style=\"padding-left: 1em; padding-right: 1em; text-align: center; vertical-align: top\">F</td>\n",
       "    </tr>\n",
       "    <tr>\n",
       "        <td style=\"padding-left: 1em; padding-right: 1em; text-align: center; vertical-align: top\">1750384806</td>\n",
       "        <td style=\"padding-left: 1em; padding-right: 1em; text-align: center; vertical-align: top\">LUBBOCK</td>\n",
       "        <td style=\"padding-left: 1em; padding-right: 1em; text-align: center; vertical-align: top\">TX</td>\n",
       "        <td style=\"padding-left: 1em; padding-right: 1em; text-align: center; vertical-align: top\">US</td>\n",
       "        <td style=\"padding-left: 1em; padding-right: 1em; text-align: center; vertical-align: top\">M</td>\n",
       "    </tr>\n",
       "    <tr>\n",
       "        <td style=\"padding-left: 1em; padding-right: 1em; text-align: center; vertical-align: top\">1669475711</td>\n",
       "        <td style=\"padding-left: 1em; padding-right: 1em; text-align: center; vertical-align: top\">SUGAR LAND</td>\n",
       "        <td style=\"padding-left: 1em; padding-right: 1em; text-align: center; vertical-align: top\">TX</td>\n",
       "        <td style=\"padding-left: 1em; padding-right: 1em; text-align: center; vertical-align: top\">US</td>\n",
       "        <td style=\"padding-left: 1em; padding-right: 1em; text-align: center; vertical-align: top\">F</td>\n",
       "    </tr>\n",
       "</table>\n",
       "<table frame=\"box\" rules=\"cols\">\n",
       "    <tr>\n",
       "        <th style=\"padding-left: 1em; padding-right: 1em; text-align: center\">Healthcare Provider<br>Taxonomy Group_1 ...</th>\n",
       "        <th style=\"padding-left: 1em; padding-right: 1em; text-align: center\">Entity</th>\n",
       "        <th style=\"padding-left: 1em; padding-right: 1em; text-align: center\">Sole Proprietor</th>\n",
       "    </tr>\n",
       "    <tr>\n",
       "        <td style=\"padding-left: 1em; padding-right: 1em; text-align: center; vertical-align: top\"></td>\n",
       "        <td style=\"padding-left: 1em; padding-right: 1em; text-align: center; vertical-align: top\">Individual</td>\n",
       "        <td style=\"padding-left: 1em; padding-right: 1em; text-align: center; vertical-align: top\">Yes</td>\n",
       "    </tr>\n",
       "    <tr>\n",
       "        <td style=\"padding-left: 1em; padding-right: 1em; text-align: center; vertical-align: top\"></td>\n",
       "        <td style=\"padding-left: 1em; padding-right: 1em; text-align: center; vertical-align: top\">Individual</td>\n",
       "        <td style=\"padding-left: 1em; padding-right: 1em; text-align: center; vertical-align: top\">No</td>\n",
       "    </tr>\n",
       "    <tr>\n",
       "        <td style=\"padding-left: 1em; padding-right: 1em; text-align: center; vertical-align: top\"></td>\n",
       "        <td style=\"padding-left: 1em; padding-right: 1em; text-align: center; vertical-align: top\">Organization</td>\n",
       "        <td style=\"padding-left: 1em; padding-right: 1em; text-align: center; vertical-align: top\">No</td>\n",
       "    </tr>\n",
       "    <tr>\n",
       "        <td style=\"padding-left: 1em; padding-right: 1em; text-align: center; vertical-align: top\"></td>\n",
       "        <td style=\"padding-left: 1em; padding-right: 1em; text-align: center; vertical-align: top\">Individual</td>\n",
       "        <td style=\"padding-left: 1em; padding-right: 1em; text-align: center; vertical-align: top\">No</td>\n",
       "    </tr>\n",
       "    <tr>\n",
       "        <td style=\"padding-left: 1em; padding-right: 1em; text-align: center; vertical-align: top\"></td>\n",
       "        <td style=\"padding-left: 1em; padding-right: 1em; text-align: center; vertical-align: top\">Individual</td>\n",
       "        <td style=\"padding-left: 1em; padding-right: 1em; text-align: center; vertical-align: top\">No</td>\n",
       "    </tr>\n",
       "    <tr>\n",
       "        <td style=\"padding-left: 1em; padding-right: 1em; text-align: center; vertical-align: top\"></td>\n",
       "        <td style=\"padding-left: 1em; padding-right: 1em; text-align: center; vertical-align: top\">Organization</td>\n",
       "        <td style=\"padding-left: 1em; padding-right: 1em; text-align: center; vertical-align: top\">No</td>\n",
       "    </tr>\n",
       "    <tr>\n",
       "        <td style=\"padding-left: 1em; padding-right: 1em; text-align: center; vertical-align: top\"></td>\n",
       "        <td style=\"padding-left: 1em; padding-right: 1em; text-align: center; vertical-align: top\">Individual</td>\n",
       "        <td style=\"padding-left: 1em; padding-right: 1em; text-align: center; vertical-align: top\">No</td>\n",
       "    </tr>\n",
       "    <tr>\n",
       "        <td style=\"padding-left: 1em; padding-right: 1em; text-align: center; vertical-align: top\"></td>\n",
       "        <td style=\"padding-left: 1em; padding-right: 1em; text-align: center; vertical-align: top\">Individual</td>\n",
       "        <td style=\"padding-left: 1em; padding-right: 1em; text-align: center; vertical-align: top\">No</td>\n",
       "    </tr>\n",
       "    <tr>\n",
       "        <td style=\"padding-left: 1em; padding-right: 1em; text-align: center; vertical-align: top\"></td>\n",
       "        <td style=\"padding-left: 1em; padding-right: 1em; text-align: center; vertical-align: top\">Individual</td>\n",
       "        <td style=\"padding-left: 1em; padding-right: 1em; text-align: center; vertical-align: top\">No</td>\n",
       "    </tr>\n",
       "    <tr>\n",
       "        <td style=\"padding-left: 1em; padding-right: 1em; text-align: center; vertical-align: top\"></td>\n",
       "        <td style=\"padding-left: 1em; padding-right: 1em; text-align: center; vertical-align: top\">Individual</td>\n",
       "        <td style=\"padding-left: 1em; padding-right: 1em; text-align: center; vertical-align: top\">Yes</td>\n",
       "    </tr>\n",
       "</table>\n",
       "[5424719 rows x 8 columns]<br/>Note: Only the head of the SFrame is printed.<br/>You can use print_rows(num_rows=m, num_columns=n) to print more rows and columns.\n",
       "</div>"
      ],
      "text/plain": [
       "Columns:\n",
       "\tNPI\tint\n",
       "\tProvider Business Practice Location Address City Name\tstr\n",
       "\tProvider Business Practice Location Address State Name\tstr\n",
       "\tProvider Business Practice Location Address Country Code (If outside US)\tstr\n",
       "\tProvider Gender Code\tstr\n",
       "\tHealthcare Provider Taxonomy Group_1\tstr\n",
       "\tEntity\tstr\n",
       "\tSole Proprietor\tstr\n",
       "\n",
       "Rows: 5424719\n",
       "\n",
       "Data:\n",
       "+------------+-------------------------------+-------------------------------+\n",
       "|    NPI     | Provider Business Practice... | Provider Business Practice... |\n",
       "+------------+-------------------------------+-------------------------------+\n",
       "| 1679576722 |            KEARNEY            |               NE              |\n",
       "| 1588667638 |          JACKSONVILLE         |               FL              |\n",
       "| 1497758544 |          FAYETTEVILLE         |               NC              |\n",
       "| 1306849450 |             ATHENS            |               TX              |\n",
       "| 1215930367 |            HOUSTON            |               TX              |\n",
       "| 1023011178 |              NAPA             |               CA              |\n",
       "| 1932102084 |             TOLEDO            |               OH              |\n",
       "| 1841293990 |            NEW YORK           |               NY              |\n",
       "| 1750384806 |            LUBBOCK            |               TX              |\n",
       "| 1669475711 |           SUGAR LAND          |               TX              |\n",
       "+------------+-------------------------------+-------------------------------+\n",
       "+-------------------------------+----------------------+-------------------------------+\n",
       "| Provider Business Practice... | Provider Gender Code | Healthcare Provider Taxono... |\n",
       "+-------------------------------+----------------------+-------------------------------+\n",
       "|               US              |          M           |                               |\n",
       "|               US              |          M           |                               |\n",
       "|               US              |                      |                               |\n",
       "|               US              |          M           |                               |\n",
       "|               US              |          M           |                               |\n",
       "|               US              |                      |                               |\n",
       "|               US              |          M           |                               |\n",
       "|               US              |          F           |                               |\n",
       "|               US              |          M           |                               |\n",
       "|               US              |          F           |                               |\n",
       "+-------------------------------+----------------------+-------------------------------+\n",
       "+--------------+-----------------+\n",
       "|    Entity    | Sole Proprietor |\n",
       "+--------------+-----------------+\n",
       "|  Individual  |       Yes       |\n",
       "|  Individual  |        No       |\n",
       "| Organization |        No       |\n",
       "|  Individual  |        No       |\n",
       "|  Individual  |        No       |\n",
       "| Organization |        No       |\n",
       "|  Individual  |        No       |\n",
       "|  Individual  |        No       |\n",
       "|  Individual  |        No       |\n",
       "|  Individual  |       Yes       |\n",
       "+--------------+-----------------+\n",
       "[5424719 rows x 8 columns]\n",
       "Note: Only the head of the SFrame is printed.\n",
       "You can use print_rows(num_rows=m, num_columns=n) to print more rows and columns."
      ]
     },
     "execution_count": 155,
     "metadata": {},
     "output_type": "execute_result"
    }
   ],
   "source": [
    "physician_mf4_sf.remove_columns(['Is Sole Proprietor','Is Organization Subpart'])"
   ]
  },
  {
   "cell_type": "code",
   "execution_count": 169,
   "metadata": {},
   "outputs": [],
   "source": [
    "group_col = physician_mf4_sf.apply(lambda x: '' if x['Healthcare Provider Taxonomy Group_1'] == '' else ('Multi Specialty' if x['Healthcare Provider Taxonomy Group_1'][3] ==  '2' else ('Single Specialty' if x['Healthcare Provider Taxonomy Group_1'][3] == '4' else '')), dtype=str)                                   "
   ]
  },
  {
   "cell_type": "code",
   "execution_count": 170,
   "metadata": {
    "collapsed": true
   },
   "outputs": [
    {
     "data": {
      "text/html": [
       "<div style=\"max-height:1000px;max-width:1500px;overflow:auto;\"><table frame=\"box\" rules=\"cols\">\n",
       "    <tr>\n",
       "        <th style=\"padding-left: 1em; padding-right: 1em; text-align: center\">NPI</th>\n",
       "        <th style=\"padding-left: 1em; padding-right: 1em; text-align: center\">Provider Business<br>Practice Location Add ...</th>\n",
       "        <th style=\"padding-left: 1em; padding-right: 1em; text-align: center\">Provider Business<br>Practice Location Add ...</th>\n",
       "        <th style=\"padding-left: 1em; padding-right: 1em; text-align: center\">Provider Business<br>Practice Location Add ...</th>\n",
       "        <th style=\"padding-left: 1em; padding-right: 1em; text-align: center\">Provider Gender Code</th>\n",
       "    </tr>\n",
       "    <tr>\n",
       "        <td style=\"padding-left: 1em; padding-right: 1em; text-align: center; vertical-align: top\">1679576722</td>\n",
       "        <td style=\"padding-left: 1em; padding-right: 1em; text-align: center; vertical-align: top\">KEARNEY</td>\n",
       "        <td style=\"padding-left: 1em; padding-right: 1em; text-align: center; vertical-align: top\">NE</td>\n",
       "        <td style=\"padding-left: 1em; padding-right: 1em; text-align: center; vertical-align: top\">US</td>\n",
       "        <td style=\"padding-left: 1em; padding-right: 1em; text-align: center; vertical-align: top\">M</td>\n",
       "    </tr>\n",
       "    <tr>\n",
       "        <td style=\"padding-left: 1em; padding-right: 1em; text-align: center; vertical-align: top\">1588667638</td>\n",
       "        <td style=\"padding-left: 1em; padding-right: 1em; text-align: center; vertical-align: top\">JACKSONVILLE</td>\n",
       "        <td style=\"padding-left: 1em; padding-right: 1em; text-align: center; vertical-align: top\">FL</td>\n",
       "        <td style=\"padding-left: 1em; padding-right: 1em; text-align: center; vertical-align: top\">US</td>\n",
       "        <td style=\"padding-left: 1em; padding-right: 1em; text-align: center; vertical-align: top\">M</td>\n",
       "    </tr>\n",
       "    <tr>\n",
       "        <td style=\"padding-left: 1em; padding-right: 1em; text-align: center; vertical-align: top\">1497758544</td>\n",
       "        <td style=\"padding-left: 1em; padding-right: 1em; text-align: center; vertical-align: top\">FAYETTEVILLE</td>\n",
       "        <td style=\"padding-left: 1em; padding-right: 1em; text-align: center; vertical-align: top\">NC</td>\n",
       "        <td style=\"padding-left: 1em; padding-right: 1em; text-align: center; vertical-align: top\">US</td>\n",
       "        <td style=\"padding-left: 1em; padding-right: 1em; text-align: center; vertical-align: top\"></td>\n",
       "    </tr>\n",
       "    <tr>\n",
       "        <td style=\"padding-left: 1em; padding-right: 1em; text-align: center; vertical-align: top\">1306849450</td>\n",
       "        <td style=\"padding-left: 1em; padding-right: 1em; text-align: center; vertical-align: top\">ATHENS</td>\n",
       "        <td style=\"padding-left: 1em; padding-right: 1em; text-align: center; vertical-align: top\">TX</td>\n",
       "        <td style=\"padding-left: 1em; padding-right: 1em; text-align: center; vertical-align: top\">US</td>\n",
       "        <td style=\"padding-left: 1em; padding-right: 1em; text-align: center; vertical-align: top\">M</td>\n",
       "    </tr>\n",
       "    <tr>\n",
       "        <td style=\"padding-left: 1em; padding-right: 1em; text-align: center; vertical-align: top\">1215930367</td>\n",
       "        <td style=\"padding-left: 1em; padding-right: 1em; text-align: center; vertical-align: top\">HOUSTON</td>\n",
       "        <td style=\"padding-left: 1em; padding-right: 1em; text-align: center; vertical-align: top\">TX</td>\n",
       "        <td style=\"padding-left: 1em; padding-right: 1em; text-align: center; vertical-align: top\">US</td>\n",
       "        <td style=\"padding-left: 1em; padding-right: 1em; text-align: center; vertical-align: top\">M</td>\n",
       "    </tr>\n",
       "    <tr>\n",
       "        <td style=\"padding-left: 1em; padding-right: 1em; text-align: center; vertical-align: top\">1023011178</td>\n",
       "        <td style=\"padding-left: 1em; padding-right: 1em; text-align: center; vertical-align: top\">NAPA</td>\n",
       "        <td style=\"padding-left: 1em; padding-right: 1em; text-align: center; vertical-align: top\">CA</td>\n",
       "        <td style=\"padding-left: 1em; padding-right: 1em; text-align: center; vertical-align: top\">US</td>\n",
       "        <td style=\"padding-left: 1em; padding-right: 1em; text-align: center; vertical-align: top\"></td>\n",
       "    </tr>\n",
       "    <tr>\n",
       "        <td style=\"padding-left: 1em; padding-right: 1em; text-align: center; vertical-align: top\">1932102084</td>\n",
       "        <td style=\"padding-left: 1em; padding-right: 1em; text-align: center; vertical-align: top\">TOLEDO</td>\n",
       "        <td style=\"padding-left: 1em; padding-right: 1em; text-align: center; vertical-align: top\">OH</td>\n",
       "        <td style=\"padding-left: 1em; padding-right: 1em; text-align: center; vertical-align: top\">US</td>\n",
       "        <td style=\"padding-left: 1em; padding-right: 1em; text-align: center; vertical-align: top\">M</td>\n",
       "    </tr>\n",
       "    <tr>\n",
       "        <td style=\"padding-left: 1em; padding-right: 1em; text-align: center; vertical-align: top\">1841293990</td>\n",
       "        <td style=\"padding-left: 1em; padding-right: 1em; text-align: center; vertical-align: top\">NEW YORK</td>\n",
       "        <td style=\"padding-left: 1em; padding-right: 1em; text-align: center; vertical-align: top\">NY</td>\n",
       "        <td style=\"padding-left: 1em; padding-right: 1em; text-align: center; vertical-align: top\">US</td>\n",
       "        <td style=\"padding-left: 1em; padding-right: 1em; text-align: center; vertical-align: top\">F</td>\n",
       "    </tr>\n",
       "    <tr>\n",
       "        <td style=\"padding-left: 1em; padding-right: 1em; text-align: center; vertical-align: top\">1750384806</td>\n",
       "        <td style=\"padding-left: 1em; padding-right: 1em; text-align: center; vertical-align: top\">LUBBOCK</td>\n",
       "        <td style=\"padding-left: 1em; padding-right: 1em; text-align: center; vertical-align: top\">TX</td>\n",
       "        <td style=\"padding-left: 1em; padding-right: 1em; text-align: center; vertical-align: top\">US</td>\n",
       "        <td style=\"padding-left: 1em; padding-right: 1em; text-align: center; vertical-align: top\">M</td>\n",
       "    </tr>\n",
       "    <tr>\n",
       "        <td style=\"padding-left: 1em; padding-right: 1em; text-align: center; vertical-align: top\">1669475711</td>\n",
       "        <td style=\"padding-left: 1em; padding-right: 1em; text-align: center; vertical-align: top\">SUGAR LAND</td>\n",
       "        <td style=\"padding-left: 1em; padding-right: 1em; text-align: center; vertical-align: top\">TX</td>\n",
       "        <td style=\"padding-left: 1em; padding-right: 1em; text-align: center; vertical-align: top\">US</td>\n",
       "        <td style=\"padding-left: 1em; padding-right: 1em; text-align: center; vertical-align: top\">F</td>\n",
       "    </tr>\n",
       "</table>\n",
       "<table frame=\"box\" rules=\"cols\">\n",
       "    <tr>\n",
       "        <th style=\"padding-left: 1em; padding-right: 1em; text-align: center\">Healthcare Provider<br>Taxonomy Group_1 ...</th>\n",
       "        <th style=\"padding-left: 1em; padding-right: 1em; text-align: center\">Entity</th>\n",
       "        <th style=\"padding-left: 1em; padding-right: 1em; text-align: center\">Sole Proprietor</th>\n",
       "        <th style=\"padding-left: 1em; padding-right: 1em; text-align: center\">Group Specialty</th>\n",
       "    </tr>\n",
       "    <tr>\n",
       "        <td style=\"padding-left: 1em; padding-right: 1em; text-align: center; vertical-align: top\"></td>\n",
       "        <td style=\"padding-left: 1em; padding-right: 1em; text-align: center; vertical-align: top\">Individual</td>\n",
       "        <td style=\"padding-left: 1em; padding-right: 1em; text-align: center; vertical-align: top\">Yes</td>\n",
       "        <td style=\"padding-left: 1em; padding-right: 1em; text-align: center; vertical-align: top\"></td>\n",
       "    </tr>\n",
       "    <tr>\n",
       "        <td style=\"padding-left: 1em; padding-right: 1em; text-align: center; vertical-align: top\"></td>\n",
       "        <td style=\"padding-left: 1em; padding-right: 1em; text-align: center; vertical-align: top\">Individual</td>\n",
       "        <td style=\"padding-left: 1em; padding-right: 1em; text-align: center; vertical-align: top\">No</td>\n",
       "        <td style=\"padding-left: 1em; padding-right: 1em; text-align: center; vertical-align: top\"></td>\n",
       "    </tr>\n",
       "    <tr>\n",
       "        <td style=\"padding-left: 1em; padding-right: 1em; text-align: center; vertical-align: top\"></td>\n",
       "        <td style=\"padding-left: 1em; padding-right: 1em; text-align: center; vertical-align: top\">Organization</td>\n",
       "        <td style=\"padding-left: 1em; padding-right: 1em; text-align: center; vertical-align: top\">No</td>\n",
       "        <td style=\"padding-left: 1em; padding-right: 1em; text-align: center; vertical-align: top\"></td>\n",
       "    </tr>\n",
       "    <tr>\n",
       "        <td style=\"padding-left: 1em; padding-right: 1em; text-align: center; vertical-align: top\"></td>\n",
       "        <td style=\"padding-left: 1em; padding-right: 1em; text-align: center; vertical-align: top\">Individual</td>\n",
       "        <td style=\"padding-left: 1em; padding-right: 1em; text-align: center; vertical-align: top\">No</td>\n",
       "        <td style=\"padding-left: 1em; padding-right: 1em; text-align: center; vertical-align: top\"></td>\n",
       "    </tr>\n",
       "    <tr>\n",
       "        <td style=\"padding-left: 1em; padding-right: 1em; text-align: center; vertical-align: top\"></td>\n",
       "        <td style=\"padding-left: 1em; padding-right: 1em; text-align: center; vertical-align: top\">Individual</td>\n",
       "        <td style=\"padding-left: 1em; padding-right: 1em; text-align: center; vertical-align: top\">No</td>\n",
       "        <td style=\"padding-left: 1em; padding-right: 1em; text-align: center; vertical-align: top\"></td>\n",
       "    </tr>\n",
       "    <tr>\n",
       "        <td style=\"padding-left: 1em; padding-right: 1em; text-align: center; vertical-align: top\"></td>\n",
       "        <td style=\"padding-left: 1em; padding-right: 1em; text-align: center; vertical-align: top\">Organization</td>\n",
       "        <td style=\"padding-left: 1em; padding-right: 1em; text-align: center; vertical-align: top\">No</td>\n",
       "        <td style=\"padding-left: 1em; padding-right: 1em; text-align: center; vertical-align: top\"></td>\n",
       "    </tr>\n",
       "    <tr>\n",
       "        <td style=\"padding-left: 1em; padding-right: 1em; text-align: center; vertical-align: top\"></td>\n",
       "        <td style=\"padding-left: 1em; padding-right: 1em; text-align: center; vertical-align: top\">Individual</td>\n",
       "        <td style=\"padding-left: 1em; padding-right: 1em; text-align: center; vertical-align: top\">No</td>\n",
       "        <td style=\"padding-left: 1em; padding-right: 1em; text-align: center; vertical-align: top\"></td>\n",
       "    </tr>\n",
       "    <tr>\n",
       "        <td style=\"padding-left: 1em; padding-right: 1em; text-align: center; vertical-align: top\"></td>\n",
       "        <td style=\"padding-left: 1em; padding-right: 1em; text-align: center; vertical-align: top\">Individual</td>\n",
       "        <td style=\"padding-left: 1em; padding-right: 1em; text-align: center; vertical-align: top\">No</td>\n",
       "        <td style=\"padding-left: 1em; padding-right: 1em; text-align: center; vertical-align: top\"></td>\n",
       "    </tr>\n",
       "    <tr>\n",
       "        <td style=\"padding-left: 1em; padding-right: 1em; text-align: center; vertical-align: top\"></td>\n",
       "        <td style=\"padding-left: 1em; padding-right: 1em; text-align: center; vertical-align: top\">Individual</td>\n",
       "        <td style=\"padding-left: 1em; padding-right: 1em; text-align: center; vertical-align: top\">No</td>\n",
       "        <td style=\"padding-left: 1em; padding-right: 1em; text-align: center; vertical-align: top\"></td>\n",
       "    </tr>\n",
       "    <tr>\n",
       "        <td style=\"padding-left: 1em; padding-right: 1em; text-align: center; vertical-align: top\"></td>\n",
       "        <td style=\"padding-left: 1em; padding-right: 1em; text-align: center; vertical-align: top\">Individual</td>\n",
       "        <td style=\"padding-left: 1em; padding-right: 1em; text-align: center; vertical-align: top\">Yes</td>\n",
       "        <td style=\"padding-left: 1em; padding-right: 1em; text-align: center; vertical-align: top\"></td>\n",
       "    </tr>\n",
       "</table>\n",
       "[5424719 rows x 9 columns]<br/>Note: Only the head of the SFrame is printed.<br/>You can use print_rows(num_rows=m, num_columns=n) to print more rows and columns.\n",
       "</div>"
      ],
      "text/plain": [
       "Columns:\n",
       "\tNPI\tint\n",
       "\tProvider Business Practice Location Address City Name\tstr\n",
       "\tProvider Business Practice Location Address State Name\tstr\n",
       "\tProvider Business Practice Location Address Country Code (If outside US)\tstr\n",
       "\tProvider Gender Code\tstr\n",
       "\tHealthcare Provider Taxonomy Group_1\tstr\n",
       "\tEntity\tstr\n",
       "\tSole Proprietor\tstr\n",
       "\tGroup Specialty\tstr\n",
       "\n",
       "Rows: 5424719\n",
       "\n",
       "Data:\n",
       "+------------+-------------------------------+-------------------------------+\n",
       "|    NPI     | Provider Business Practice... | Provider Business Practice... |\n",
       "+------------+-------------------------------+-------------------------------+\n",
       "| 1679576722 |            KEARNEY            |               NE              |\n",
       "| 1588667638 |          JACKSONVILLE         |               FL              |\n",
       "| 1497758544 |          FAYETTEVILLE         |               NC              |\n",
       "| 1306849450 |             ATHENS            |               TX              |\n",
       "| 1215930367 |            HOUSTON            |               TX              |\n",
       "| 1023011178 |              NAPA             |               CA              |\n",
       "| 1932102084 |             TOLEDO            |               OH              |\n",
       "| 1841293990 |            NEW YORK           |               NY              |\n",
       "| 1750384806 |            LUBBOCK            |               TX              |\n",
       "| 1669475711 |           SUGAR LAND          |               TX              |\n",
       "+------------+-------------------------------+-------------------------------+\n",
       "+-------------------------------+----------------------+-------------------------------+\n",
       "| Provider Business Practice... | Provider Gender Code | Healthcare Provider Taxono... |\n",
       "+-------------------------------+----------------------+-------------------------------+\n",
       "|               US              |          M           |                               |\n",
       "|               US              |          M           |                               |\n",
       "|               US              |                      |                               |\n",
       "|               US              |          M           |                               |\n",
       "|               US              |          M           |                               |\n",
       "|               US              |                      |                               |\n",
       "|               US              |          M           |                               |\n",
       "|               US              |          F           |                               |\n",
       "|               US              |          M           |                               |\n",
       "|               US              |          F           |                               |\n",
       "+-------------------------------+----------------------+-------------------------------+\n",
       "+--------------+-----------------+-----------------+\n",
       "|    Entity    | Sole Proprietor | Group Specialty |\n",
       "+--------------+-----------------+-----------------+\n",
       "|  Individual  |       Yes       |                 |\n",
       "|  Individual  |        No       |                 |\n",
       "| Organization |        No       |                 |\n",
       "|  Individual  |        No       |                 |\n",
       "|  Individual  |        No       |                 |\n",
       "| Organization |        No       |                 |\n",
       "|  Individual  |        No       |                 |\n",
       "|  Individual  |        No       |                 |\n",
       "|  Individual  |        No       |                 |\n",
       "|  Individual  |       Yes       |                 |\n",
       "+--------------+-----------------+-----------------+\n",
       "[5424719 rows x 9 columns]\n",
       "Note: Only the head of the SFrame is printed.\n",
       "You can use print_rows(num_rows=m, num_columns=n) to print more rows and columns."
      ]
     },
     "execution_count": 170,
     "metadata": {},
     "output_type": "execute_result"
    }
   ],
   "source": [
    "physician_mf4_sf.add_column(group_col, 'Group Specialty')"
   ]
  },
  {
   "cell_type": "code",
   "execution_count": 172,
   "metadata": {
    "collapsed": true
   },
   "outputs": [
    {
     "data": {
      "text/html": [
       "<div style=\"max-height:1000px;max-width:1500px;overflow:auto;\"><table frame=\"box\" rules=\"cols\">\n",
       "    <tr>\n",
       "        <th style=\"padding-left: 1em; padding-right: 1em; text-align: center\">NPI</th>\n",
       "        <th style=\"padding-left: 1em; padding-right: 1em; text-align: center\">Provider Business<br>Practice Location Add ...</th>\n",
       "        <th style=\"padding-left: 1em; padding-right: 1em; text-align: center\">Provider Business<br>Practice Location Add ...</th>\n",
       "        <th style=\"padding-left: 1em; padding-right: 1em; text-align: center\">Provider Business<br>Practice Location Add ...</th>\n",
       "        <th style=\"padding-left: 1em; padding-right: 1em; text-align: center\">Provider Gender Code</th>\n",
       "    </tr>\n",
       "    <tr>\n",
       "        <td style=\"padding-left: 1em; padding-right: 1em; text-align: center; vertical-align: top\">1679576722</td>\n",
       "        <td style=\"padding-left: 1em; padding-right: 1em; text-align: center; vertical-align: top\">KEARNEY</td>\n",
       "        <td style=\"padding-left: 1em; padding-right: 1em; text-align: center; vertical-align: top\">NE</td>\n",
       "        <td style=\"padding-left: 1em; padding-right: 1em; text-align: center; vertical-align: top\">US</td>\n",
       "        <td style=\"padding-left: 1em; padding-right: 1em; text-align: center; vertical-align: top\">M</td>\n",
       "    </tr>\n",
       "    <tr>\n",
       "        <td style=\"padding-left: 1em; padding-right: 1em; text-align: center; vertical-align: top\">1588667638</td>\n",
       "        <td style=\"padding-left: 1em; padding-right: 1em; text-align: center; vertical-align: top\">JACKSONVILLE</td>\n",
       "        <td style=\"padding-left: 1em; padding-right: 1em; text-align: center; vertical-align: top\">FL</td>\n",
       "        <td style=\"padding-left: 1em; padding-right: 1em; text-align: center; vertical-align: top\">US</td>\n",
       "        <td style=\"padding-left: 1em; padding-right: 1em; text-align: center; vertical-align: top\">M</td>\n",
       "    </tr>\n",
       "    <tr>\n",
       "        <td style=\"padding-left: 1em; padding-right: 1em; text-align: center; vertical-align: top\">1497758544</td>\n",
       "        <td style=\"padding-left: 1em; padding-right: 1em; text-align: center; vertical-align: top\">FAYETTEVILLE</td>\n",
       "        <td style=\"padding-left: 1em; padding-right: 1em; text-align: center; vertical-align: top\">NC</td>\n",
       "        <td style=\"padding-left: 1em; padding-right: 1em; text-align: center; vertical-align: top\">US</td>\n",
       "        <td style=\"padding-left: 1em; padding-right: 1em; text-align: center; vertical-align: top\"></td>\n",
       "    </tr>\n",
       "    <tr>\n",
       "        <td style=\"padding-left: 1em; padding-right: 1em; text-align: center; vertical-align: top\">1306849450</td>\n",
       "        <td style=\"padding-left: 1em; padding-right: 1em; text-align: center; vertical-align: top\">ATHENS</td>\n",
       "        <td style=\"padding-left: 1em; padding-right: 1em; text-align: center; vertical-align: top\">TX</td>\n",
       "        <td style=\"padding-left: 1em; padding-right: 1em; text-align: center; vertical-align: top\">US</td>\n",
       "        <td style=\"padding-left: 1em; padding-right: 1em; text-align: center; vertical-align: top\">M</td>\n",
       "    </tr>\n",
       "    <tr>\n",
       "        <td style=\"padding-left: 1em; padding-right: 1em; text-align: center; vertical-align: top\">1215930367</td>\n",
       "        <td style=\"padding-left: 1em; padding-right: 1em; text-align: center; vertical-align: top\">HOUSTON</td>\n",
       "        <td style=\"padding-left: 1em; padding-right: 1em; text-align: center; vertical-align: top\">TX</td>\n",
       "        <td style=\"padding-left: 1em; padding-right: 1em; text-align: center; vertical-align: top\">US</td>\n",
       "        <td style=\"padding-left: 1em; padding-right: 1em; text-align: center; vertical-align: top\">M</td>\n",
       "    </tr>\n",
       "    <tr>\n",
       "        <td style=\"padding-left: 1em; padding-right: 1em; text-align: center; vertical-align: top\">1023011178</td>\n",
       "        <td style=\"padding-left: 1em; padding-right: 1em; text-align: center; vertical-align: top\">NAPA</td>\n",
       "        <td style=\"padding-left: 1em; padding-right: 1em; text-align: center; vertical-align: top\">CA</td>\n",
       "        <td style=\"padding-left: 1em; padding-right: 1em; text-align: center; vertical-align: top\">US</td>\n",
       "        <td style=\"padding-left: 1em; padding-right: 1em; text-align: center; vertical-align: top\"></td>\n",
       "    </tr>\n",
       "    <tr>\n",
       "        <td style=\"padding-left: 1em; padding-right: 1em; text-align: center; vertical-align: top\">1932102084</td>\n",
       "        <td style=\"padding-left: 1em; padding-right: 1em; text-align: center; vertical-align: top\">TOLEDO</td>\n",
       "        <td style=\"padding-left: 1em; padding-right: 1em; text-align: center; vertical-align: top\">OH</td>\n",
       "        <td style=\"padding-left: 1em; padding-right: 1em; text-align: center; vertical-align: top\">US</td>\n",
       "        <td style=\"padding-left: 1em; padding-right: 1em; text-align: center; vertical-align: top\">M</td>\n",
       "    </tr>\n",
       "    <tr>\n",
       "        <td style=\"padding-left: 1em; padding-right: 1em; text-align: center; vertical-align: top\">1841293990</td>\n",
       "        <td style=\"padding-left: 1em; padding-right: 1em; text-align: center; vertical-align: top\">NEW YORK</td>\n",
       "        <td style=\"padding-left: 1em; padding-right: 1em; text-align: center; vertical-align: top\">NY</td>\n",
       "        <td style=\"padding-left: 1em; padding-right: 1em; text-align: center; vertical-align: top\">US</td>\n",
       "        <td style=\"padding-left: 1em; padding-right: 1em; text-align: center; vertical-align: top\">F</td>\n",
       "    </tr>\n",
       "    <tr>\n",
       "        <td style=\"padding-left: 1em; padding-right: 1em; text-align: center; vertical-align: top\">1750384806</td>\n",
       "        <td style=\"padding-left: 1em; padding-right: 1em; text-align: center; vertical-align: top\">LUBBOCK</td>\n",
       "        <td style=\"padding-left: 1em; padding-right: 1em; text-align: center; vertical-align: top\">TX</td>\n",
       "        <td style=\"padding-left: 1em; padding-right: 1em; text-align: center; vertical-align: top\">US</td>\n",
       "        <td style=\"padding-left: 1em; padding-right: 1em; text-align: center; vertical-align: top\">M</td>\n",
       "    </tr>\n",
       "    <tr>\n",
       "        <td style=\"padding-left: 1em; padding-right: 1em; text-align: center; vertical-align: top\">1669475711</td>\n",
       "        <td style=\"padding-left: 1em; padding-right: 1em; text-align: center; vertical-align: top\">SUGAR LAND</td>\n",
       "        <td style=\"padding-left: 1em; padding-right: 1em; text-align: center; vertical-align: top\">TX</td>\n",
       "        <td style=\"padding-left: 1em; padding-right: 1em; text-align: center; vertical-align: top\">US</td>\n",
       "        <td style=\"padding-left: 1em; padding-right: 1em; text-align: center; vertical-align: top\">F</td>\n",
       "    </tr>\n",
       "</table>\n",
       "<table frame=\"box\" rules=\"cols\">\n",
       "    <tr>\n",
       "        <th style=\"padding-left: 1em; padding-right: 1em; text-align: center\">Entity</th>\n",
       "        <th style=\"padding-left: 1em; padding-right: 1em; text-align: center\">Sole Proprietor</th>\n",
       "        <th style=\"padding-left: 1em; padding-right: 1em; text-align: center\">Group Specialty</th>\n",
       "    </tr>\n",
       "    <tr>\n",
       "        <td style=\"padding-left: 1em; padding-right: 1em; text-align: center; vertical-align: top\">Individual</td>\n",
       "        <td style=\"padding-left: 1em; padding-right: 1em; text-align: center; vertical-align: top\">Yes</td>\n",
       "        <td style=\"padding-left: 1em; padding-right: 1em; text-align: center; vertical-align: top\"></td>\n",
       "    </tr>\n",
       "    <tr>\n",
       "        <td style=\"padding-left: 1em; padding-right: 1em; text-align: center; vertical-align: top\">Individual</td>\n",
       "        <td style=\"padding-left: 1em; padding-right: 1em; text-align: center; vertical-align: top\">No</td>\n",
       "        <td style=\"padding-left: 1em; padding-right: 1em; text-align: center; vertical-align: top\"></td>\n",
       "    </tr>\n",
       "    <tr>\n",
       "        <td style=\"padding-left: 1em; padding-right: 1em; text-align: center; vertical-align: top\">Organization</td>\n",
       "        <td style=\"padding-left: 1em; padding-right: 1em; text-align: center; vertical-align: top\">No</td>\n",
       "        <td style=\"padding-left: 1em; padding-right: 1em; text-align: center; vertical-align: top\"></td>\n",
       "    </tr>\n",
       "    <tr>\n",
       "        <td style=\"padding-left: 1em; padding-right: 1em; text-align: center; vertical-align: top\">Individual</td>\n",
       "        <td style=\"padding-left: 1em; padding-right: 1em; text-align: center; vertical-align: top\">No</td>\n",
       "        <td style=\"padding-left: 1em; padding-right: 1em; text-align: center; vertical-align: top\"></td>\n",
       "    </tr>\n",
       "    <tr>\n",
       "        <td style=\"padding-left: 1em; padding-right: 1em; text-align: center; vertical-align: top\">Individual</td>\n",
       "        <td style=\"padding-left: 1em; padding-right: 1em; text-align: center; vertical-align: top\">No</td>\n",
       "        <td style=\"padding-left: 1em; padding-right: 1em; text-align: center; vertical-align: top\"></td>\n",
       "    </tr>\n",
       "    <tr>\n",
       "        <td style=\"padding-left: 1em; padding-right: 1em; text-align: center; vertical-align: top\">Organization</td>\n",
       "        <td style=\"padding-left: 1em; padding-right: 1em; text-align: center; vertical-align: top\">No</td>\n",
       "        <td style=\"padding-left: 1em; padding-right: 1em; text-align: center; vertical-align: top\"></td>\n",
       "    </tr>\n",
       "    <tr>\n",
       "        <td style=\"padding-left: 1em; padding-right: 1em; text-align: center; vertical-align: top\">Individual</td>\n",
       "        <td style=\"padding-left: 1em; padding-right: 1em; text-align: center; vertical-align: top\">No</td>\n",
       "        <td style=\"padding-left: 1em; padding-right: 1em; text-align: center; vertical-align: top\"></td>\n",
       "    </tr>\n",
       "    <tr>\n",
       "        <td style=\"padding-left: 1em; padding-right: 1em; text-align: center; vertical-align: top\">Individual</td>\n",
       "        <td style=\"padding-left: 1em; padding-right: 1em; text-align: center; vertical-align: top\">No</td>\n",
       "        <td style=\"padding-left: 1em; padding-right: 1em; text-align: center; vertical-align: top\"></td>\n",
       "    </tr>\n",
       "    <tr>\n",
       "        <td style=\"padding-left: 1em; padding-right: 1em; text-align: center; vertical-align: top\">Individual</td>\n",
       "        <td style=\"padding-left: 1em; padding-right: 1em; text-align: center; vertical-align: top\">No</td>\n",
       "        <td style=\"padding-left: 1em; padding-right: 1em; text-align: center; vertical-align: top\"></td>\n",
       "    </tr>\n",
       "    <tr>\n",
       "        <td style=\"padding-left: 1em; padding-right: 1em; text-align: center; vertical-align: top\">Individual</td>\n",
       "        <td style=\"padding-left: 1em; padding-right: 1em; text-align: center; vertical-align: top\">Yes</td>\n",
       "        <td style=\"padding-left: 1em; padding-right: 1em; text-align: center; vertical-align: top\"></td>\n",
       "    </tr>\n",
       "</table>\n",
       "[5424719 rows x 8 columns]<br/>Note: Only the head of the SFrame is printed.<br/>You can use print_rows(num_rows=m, num_columns=n) to print more rows and columns.\n",
       "</div>"
      ],
      "text/plain": [
       "Columns:\n",
       "\tNPI\tint\n",
       "\tProvider Business Practice Location Address City Name\tstr\n",
       "\tProvider Business Practice Location Address State Name\tstr\n",
       "\tProvider Business Practice Location Address Country Code (If outside US)\tstr\n",
       "\tProvider Gender Code\tstr\n",
       "\tEntity\tstr\n",
       "\tSole Proprietor\tstr\n",
       "\tGroup Specialty\tstr\n",
       "\n",
       "Rows: 5424719\n",
       "\n",
       "Data:\n",
       "+------------+-------------------------------+-------------------------------+\n",
       "|    NPI     | Provider Business Practice... | Provider Business Practice... |\n",
       "+------------+-------------------------------+-------------------------------+\n",
       "| 1679576722 |            KEARNEY            |               NE              |\n",
       "| 1588667638 |          JACKSONVILLE         |               FL              |\n",
       "| 1497758544 |          FAYETTEVILLE         |               NC              |\n",
       "| 1306849450 |             ATHENS            |               TX              |\n",
       "| 1215930367 |            HOUSTON            |               TX              |\n",
       "| 1023011178 |              NAPA             |               CA              |\n",
       "| 1932102084 |             TOLEDO            |               OH              |\n",
       "| 1841293990 |            NEW YORK           |               NY              |\n",
       "| 1750384806 |            LUBBOCK            |               TX              |\n",
       "| 1669475711 |           SUGAR LAND          |               TX              |\n",
       "+------------+-------------------------------+-------------------------------+\n",
       "+-------------------------------+----------------------+--------------+-----------------+\n",
       "| Provider Business Practice... | Provider Gender Code |    Entity    | Sole Proprietor |\n",
       "+-------------------------------+----------------------+--------------+-----------------+\n",
       "|               US              |          M           |  Individual  |       Yes       |\n",
       "|               US              |          M           |  Individual  |        No       |\n",
       "|               US              |                      | Organization |        No       |\n",
       "|               US              |          M           |  Individual  |        No       |\n",
       "|               US              |          M           |  Individual  |        No       |\n",
       "|               US              |                      | Organization |        No       |\n",
       "|               US              |          M           |  Individual  |        No       |\n",
       "|               US              |          F           |  Individual  |        No       |\n",
       "|               US              |          M           |  Individual  |        No       |\n",
       "|               US              |          F           |  Individual  |       Yes       |\n",
       "+-------------------------------+----------------------+--------------+-----------------+\n",
       "+-----------------+\n",
       "| Group Specialty |\n",
       "+-----------------+\n",
       "|                 |\n",
       "|                 |\n",
       "|                 |\n",
       "|                 |\n",
       "|                 |\n",
       "|                 |\n",
       "|                 |\n",
       "|                 |\n",
       "|                 |\n",
       "|                 |\n",
       "+-----------------+\n",
       "[5424719 rows x 8 columns]\n",
       "Note: Only the head of the SFrame is printed.\n",
       "You can use print_rows(num_rows=m, num_columns=n) to print more rows and columns."
      ]
     },
     "execution_count": 172,
     "metadata": {},
     "output_type": "execute_result"
    }
   ],
   "source": [
    "physician_mf4_sf.remove_column('Healthcare Provider Taxonomy Group_1')"
   ]
  },
  {
   "cell_type": "code",
   "execution_count": 173,
   "metadata": {
    "collapsed": true
   },
   "outputs": [
    {
     "data": {
      "text/html": [
       "<div style=\"max-height:1000px;max-width:1500px;overflow:auto;\"><table frame=\"box\" rules=\"cols\">\n",
       "    <tr>\n",
       "        <th style=\"padding-left: 1em; padding-right: 1em; text-align: center\">Initial Physician NPI</th>\n",
       "        <th style=\"padding-left: 1em; padding-right: 1em; text-align: center\">Provider Business<br>Practice Location Add ...</th>\n",
       "        <th style=\"padding-left: 1em; padding-right: 1em; text-align: center\">Provider Business<br>Practice Location Add ...</th>\n",
       "        <th style=\"padding-left: 1em; padding-right: 1em; text-align: center\">Provider Business<br>Practice Location Add ...</th>\n",
       "        <th style=\"padding-left: 1em; padding-right: 1em; text-align: center\">Provider Gender Code</th>\n",
       "    </tr>\n",
       "    <tr>\n",
       "        <td style=\"padding-left: 1em; padding-right: 1em; text-align: center; vertical-align: top\">1679576722</td>\n",
       "        <td style=\"padding-left: 1em; padding-right: 1em; text-align: center; vertical-align: top\">KEARNEY</td>\n",
       "        <td style=\"padding-left: 1em; padding-right: 1em; text-align: center; vertical-align: top\">NE</td>\n",
       "        <td style=\"padding-left: 1em; padding-right: 1em; text-align: center; vertical-align: top\">US</td>\n",
       "        <td style=\"padding-left: 1em; padding-right: 1em; text-align: center; vertical-align: top\">M</td>\n",
       "    </tr>\n",
       "    <tr>\n",
       "        <td style=\"padding-left: 1em; padding-right: 1em; text-align: center; vertical-align: top\">1588667638</td>\n",
       "        <td style=\"padding-left: 1em; padding-right: 1em; text-align: center; vertical-align: top\">JACKSONVILLE</td>\n",
       "        <td style=\"padding-left: 1em; padding-right: 1em; text-align: center; vertical-align: top\">FL</td>\n",
       "        <td style=\"padding-left: 1em; padding-right: 1em; text-align: center; vertical-align: top\">US</td>\n",
       "        <td style=\"padding-left: 1em; padding-right: 1em; text-align: center; vertical-align: top\">M</td>\n",
       "    </tr>\n",
       "    <tr>\n",
       "        <td style=\"padding-left: 1em; padding-right: 1em; text-align: center; vertical-align: top\">1497758544</td>\n",
       "        <td style=\"padding-left: 1em; padding-right: 1em; text-align: center; vertical-align: top\">FAYETTEVILLE</td>\n",
       "        <td style=\"padding-left: 1em; padding-right: 1em; text-align: center; vertical-align: top\">NC</td>\n",
       "        <td style=\"padding-left: 1em; padding-right: 1em; text-align: center; vertical-align: top\">US</td>\n",
       "        <td style=\"padding-left: 1em; padding-right: 1em; text-align: center; vertical-align: top\"></td>\n",
       "    </tr>\n",
       "    <tr>\n",
       "        <td style=\"padding-left: 1em; padding-right: 1em; text-align: center; vertical-align: top\">1306849450</td>\n",
       "        <td style=\"padding-left: 1em; padding-right: 1em; text-align: center; vertical-align: top\">ATHENS</td>\n",
       "        <td style=\"padding-left: 1em; padding-right: 1em; text-align: center; vertical-align: top\">TX</td>\n",
       "        <td style=\"padding-left: 1em; padding-right: 1em; text-align: center; vertical-align: top\">US</td>\n",
       "        <td style=\"padding-left: 1em; padding-right: 1em; text-align: center; vertical-align: top\">M</td>\n",
       "    </tr>\n",
       "    <tr>\n",
       "        <td style=\"padding-left: 1em; padding-right: 1em; text-align: center; vertical-align: top\">1215930367</td>\n",
       "        <td style=\"padding-left: 1em; padding-right: 1em; text-align: center; vertical-align: top\">HOUSTON</td>\n",
       "        <td style=\"padding-left: 1em; padding-right: 1em; text-align: center; vertical-align: top\">TX</td>\n",
       "        <td style=\"padding-left: 1em; padding-right: 1em; text-align: center; vertical-align: top\">US</td>\n",
       "        <td style=\"padding-left: 1em; padding-right: 1em; text-align: center; vertical-align: top\">M</td>\n",
       "    </tr>\n",
       "    <tr>\n",
       "        <td style=\"padding-left: 1em; padding-right: 1em; text-align: center; vertical-align: top\">1023011178</td>\n",
       "        <td style=\"padding-left: 1em; padding-right: 1em; text-align: center; vertical-align: top\">NAPA</td>\n",
       "        <td style=\"padding-left: 1em; padding-right: 1em; text-align: center; vertical-align: top\">CA</td>\n",
       "        <td style=\"padding-left: 1em; padding-right: 1em; text-align: center; vertical-align: top\">US</td>\n",
       "        <td style=\"padding-left: 1em; padding-right: 1em; text-align: center; vertical-align: top\"></td>\n",
       "    </tr>\n",
       "    <tr>\n",
       "        <td style=\"padding-left: 1em; padding-right: 1em; text-align: center; vertical-align: top\">1932102084</td>\n",
       "        <td style=\"padding-left: 1em; padding-right: 1em; text-align: center; vertical-align: top\">TOLEDO</td>\n",
       "        <td style=\"padding-left: 1em; padding-right: 1em; text-align: center; vertical-align: top\">OH</td>\n",
       "        <td style=\"padding-left: 1em; padding-right: 1em; text-align: center; vertical-align: top\">US</td>\n",
       "        <td style=\"padding-left: 1em; padding-right: 1em; text-align: center; vertical-align: top\">M</td>\n",
       "    </tr>\n",
       "    <tr>\n",
       "        <td style=\"padding-left: 1em; padding-right: 1em; text-align: center; vertical-align: top\">1841293990</td>\n",
       "        <td style=\"padding-left: 1em; padding-right: 1em; text-align: center; vertical-align: top\">NEW YORK</td>\n",
       "        <td style=\"padding-left: 1em; padding-right: 1em; text-align: center; vertical-align: top\">NY</td>\n",
       "        <td style=\"padding-left: 1em; padding-right: 1em; text-align: center; vertical-align: top\">US</td>\n",
       "        <td style=\"padding-left: 1em; padding-right: 1em; text-align: center; vertical-align: top\">F</td>\n",
       "    </tr>\n",
       "    <tr>\n",
       "        <td style=\"padding-left: 1em; padding-right: 1em; text-align: center; vertical-align: top\">1750384806</td>\n",
       "        <td style=\"padding-left: 1em; padding-right: 1em; text-align: center; vertical-align: top\">LUBBOCK</td>\n",
       "        <td style=\"padding-left: 1em; padding-right: 1em; text-align: center; vertical-align: top\">TX</td>\n",
       "        <td style=\"padding-left: 1em; padding-right: 1em; text-align: center; vertical-align: top\">US</td>\n",
       "        <td style=\"padding-left: 1em; padding-right: 1em; text-align: center; vertical-align: top\">M</td>\n",
       "    </tr>\n",
       "    <tr>\n",
       "        <td style=\"padding-left: 1em; padding-right: 1em; text-align: center; vertical-align: top\">1669475711</td>\n",
       "        <td style=\"padding-left: 1em; padding-right: 1em; text-align: center; vertical-align: top\">SUGAR LAND</td>\n",
       "        <td style=\"padding-left: 1em; padding-right: 1em; text-align: center; vertical-align: top\">TX</td>\n",
       "        <td style=\"padding-left: 1em; padding-right: 1em; text-align: center; vertical-align: top\">US</td>\n",
       "        <td style=\"padding-left: 1em; padding-right: 1em; text-align: center; vertical-align: top\">F</td>\n",
       "    </tr>\n",
       "</table>\n",
       "<table frame=\"box\" rules=\"cols\">\n",
       "    <tr>\n",
       "        <th style=\"padding-left: 1em; padding-right: 1em; text-align: center\">Entity</th>\n",
       "        <th style=\"padding-left: 1em; padding-right: 1em; text-align: center\">Sole Proprietor</th>\n",
       "        <th style=\"padding-left: 1em; padding-right: 1em; text-align: center\">Group Specialty</th>\n",
       "    </tr>\n",
       "    <tr>\n",
       "        <td style=\"padding-left: 1em; padding-right: 1em; text-align: center; vertical-align: top\">Individual</td>\n",
       "        <td style=\"padding-left: 1em; padding-right: 1em; text-align: center; vertical-align: top\">Yes</td>\n",
       "        <td style=\"padding-left: 1em; padding-right: 1em; text-align: center; vertical-align: top\"></td>\n",
       "    </tr>\n",
       "    <tr>\n",
       "        <td style=\"padding-left: 1em; padding-right: 1em; text-align: center; vertical-align: top\">Individual</td>\n",
       "        <td style=\"padding-left: 1em; padding-right: 1em; text-align: center; vertical-align: top\">No</td>\n",
       "        <td style=\"padding-left: 1em; padding-right: 1em; text-align: center; vertical-align: top\"></td>\n",
       "    </tr>\n",
       "    <tr>\n",
       "        <td style=\"padding-left: 1em; padding-right: 1em; text-align: center; vertical-align: top\">Organization</td>\n",
       "        <td style=\"padding-left: 1em; padding-right: 1em; text-align: center; vertical-align: top\">No</td>\n",
       "        <td style=\"padding-left: 1em; padding-right: 1em; text-align: center; vertical-align: top\"></td>\n",
       "    </tr>\n",
       "    <tr>\n",
       "        <td style=\"padding-left: 1em; padding-right: 1em; text-align: center; vertical-align: top\">Individual</td>\n",
       "        <td style=\"padding-left: 1em; padding-right: 1em; text-align: center; vertical-align: top\">No</td>\n",
       "        <td style=\"padding-left: 1em; padding-right: 1em; text-align: center; vertical-align: top\"></td>\n",
       "    </tr>\n",
       "    <tr>\n",
       "        <td style=\"padding-left: 1em; padding-right: 1em; text-align: center; vertical-align: top\">Individual</td>\n",
       "        <td style=\"padding-left: 1em; padding-right: 1em; text-align: center; vertical-align: top\">No</td>\n",
       "        <td style=\"padding-left: 1em; padding-right: 1em; text-align: center; vertical-align: top\"></td>\n",
       "    </tr>\n",
       "    <tr>\n",
       "        <td style=\"padding-left: 1em; padding-right: 1em; text-align: center; vertical-align: top\">Organization</td>\n",
       "        <td style=\"padding-left: 1em; padding-right: 1em; text-align: center; vertical-align: top\">No</td>\n",
       "        <td style=\"padding-left: 1em; padding-right: 1em; text-align: center; vertical-align: top\"></td>\n",
       "    </tr>\n",
       "    <tr>\n",
       "        <td style=\"padding-left: 1em; padding-right: 1em; text-align: center; vertical-align: top\">Individual</td>\n",
       "        <td style=\"padding-left: 1em; padding-right: 1em; text-align: center; vertical-align: top\">No</td>\n",
       "        <td style=\"padding-left: 1em; padding-right: 1em; text-align: center; vertical-align: top\"></td>\n",
       "    </tr>\n",
       "    <tr>\n",
       "        <td style=\"padding-left: 1em; padding-right: 1em; text-align: center; vertical-align: top\">Individual</td>\n",
       "        <td style=\"padding-left: 1em; padding-right: 1em; text-align: center; vertical-align: top\">No</td>\n",
       "        <td style=\"padding-left: 1em; padding-right: 1em; text-align: center; vertical-align: top\"></td>\n",
       "    </tr>\n",
       "    <tr>\n",
       "        <td style=\"padding-left: 1em; padding-right: 1em; text-align: center; vertical-align: top\">Individual</td>\n",
       "        <td style=\"padding-left: 1em; padding-right: 1em; text-align: center; vertical-align: top\">No</td>\n",
       "        <td style=\"padding-left: 1em; padding-right: 1em; text-align: center; vertical-align: top\"></td>\n",
       "    </tr>\n",
       "    <tr>\n",
       "        <td style=\"padding-left: 1em; padding-right: 1em; text-align: center; vertical-align: top\">Individual</td>\n",
       "        <td style=\"padding-left: 1em; padding-right: 1em; text-align: center; vertical-align: top\">Yes</td>\n",
       "        <td style=\"padding-left: 1em; padding-right: 1em; text-align: center; vertical-align: top\"></td>\n",
       "    </tr>\n",
       "</table>\n",
       "[5424719 rows x 8 columns]<br/>Note: Only the head of the SFrame is printed.<br/>You can use print_rows(num_rows=m, num_columns=n) to print more rows and columns.\n",
       "</div>"
      ],
      "text/plain": [
       "Columns:\n",
       "\tInitial Physician NPI\tint\n",
       "\tProvider Business Practice Location Address City Name\tstr\n",
       "\tProvider Business Practice Location Address State Name\tstr\n",
       "\tProvider Business Practice Location Address Country Code (If outside US)\tstr\n",
       "\tProvider Gender Code\tstr\n",
       "\tEntity\tstr\n",
       "\tSole Proprietor\tstr\n",
       "\tGroup Specialty\tstr\n",
       "\n",
       "Rows: 5424719\n",
       "\n",
       "Data:\n",
       "+-----------------------+-------------------------------+-------------------------------+\n",
       "| Initial Physician NPI | Provider Business Practice... | Provider Business Practice... |\n",
       "+-----------------------+-------------------------------+-------------------------------+\n",
       "|       1679576722      |            KEARNEY            |               NE              |\n",
       "|       1588667638      |          JACKSONVILLE         |               FL              |\n",
       "|       1497758544      |          FAYETTEVILLE         |               NC              |\n",
       "|       1306849450      |             ATHENS            |               TX              |\n",
       "|       1215930367      |            HOUSTON            |               TX              |\n",
       "|       1023011178      |              NAPA             |               CA              |\n",
       "|       1932102084      |             TOLEDO            |               OH              |\n",
       "|       1841293990      |            NEW YORK           |               NY              |\n",
       "|       1750384806      |            LUBBOCK            |               TX              |\n",
       "|       1669475711      |           SUGAR LAND          |               TX              |\n",
       "+-----------------------+-------------------------------+-------------------------------+\n",
       "+-------------------------------+----------------------+--------------+-----------------+\n",
       "| Provider Business Practice... | Provider Gender Code |    Entity    | Sole Proprietor |\n",
       "+-------------------------------+----------------------+--------------+-----------------+\n",
       "|               US              |          M           |  Individual  |       Yes       |\n",
       "|               US              |          M           |  Individual  |        No       |\n",
       "|               US              |                      | Organization |        No       |\n",
       "|               US              |          M           |  Individual  |        No       |\n",
       "|               US              |          M           |  Individual  |        No       |\n",
       "|               US              |                      | Organization |        No       |\n",
       "|               US              |          M           |  Individual  |        No       |\n",
       "|               US              |          F           |  Individual  |        No       |\n",
       "|               US              |          M           |  Individual  |        No       |\n",
       "|               US              |          F           |  Individual  |       Yes       |\n",
       "+-------------------------------+----------------------+--------------+-----------------+\n",
       "+-----------------+\n",
       "| Group Specialty |\n",
       "+-----------------+\n",
       "|                 |\n",
       "|                 |\n",
       "|                 |\n",
       "|                 |\n",
       "|                 |\n",
       "|                 |\n",
       "|                 |\n",
       "|                 |\n",
       "|                 |\n",
       "|                 |\n",
       "+-----------------+\n",
       "[5424719 rows x 8 columns]\n",
       "Note: Only the head of the SFrame is printed.\n",
       "You can use print_rows(num_rows=m, num_columns=n) to print more rows and columns."
      ]
     },
     "execution_count": 173,
     "metadata": {},
     "output_type": "execute_result"
    }
   ],
   "source": [
    "initial_physician_mf4_sf = gl.SFrame(physician_mf4_sf)\n",
    "initial_physician_mf4_sf.rename({'NPI': 'Initial Physician NPI'})"
   ]
  },
  {
   "cell_type": "code",
   "execution_count": 174,
   "metadata": {
    "collapsed": true
   },
   "outputs": [
    {
     "data": {
      "text/html": [
       "<div style=\"max-height:1000px;max-width:1500px;overflow:auto;\"><table frame=\"box\" rules=\"cols\">\n",
       "    <tr>\n",
       "        <th style=\"padding-left: 1em; padding-right: 1em; text-align: center\">Secondary Physician NPI</th>\n",
       "        <th style=\"padding-left: 1em; padding-right: 1em; text-align: center\">Provider Business<br>Practice Location Add ...</th>\n",
       "        <th style=\"padding-left: 1em; padding-right: 1em; text-align: center\">Provider Business<br>Practice Location Add ...</th>\n",
       "        <th style=\"padding-left: 1em; padding-right: 1em; text-align: center\">Provider Business<br>Practice Location Add ...</th>\n",
       "        <th style=\"padding-left: 1em; padding-right: 1em; text-align: center\">Provider Gender Code</th>\n",
       "    </tr>\n",
       "    <tr>\n",
       "        <td style=\"padding-left: 1em; padding-right: 1em; text-align: center; vertical-align: top\">1679576722</td>\n",
       "        <td style=\"padding-left: 1em; padding-right: 1em; text-align: center; vertical-align: top\">KEARNEY</td>\n",
       "        <td style=\"padding-left: 1em; padding-right: 1em; text-align: center; vertical-align: top\">NE</td>\n",
       "        <td style=\"padding-left: 1em; padding-right: 1em; text-align: center; vertical-align: top\">US</td>\n",
       "        <td style=\"padding-left: 1em; padding-right: 1em; text-align: center; vertical-align: top\">M</td>\n",
       "    </tr>\n",
       "    <tr>\n",
       "        <td style=\"padding-left: 1em; padding-right: 1em; text-align: center; vertical-align: top\">1588667638</td>\n",
       "        <td style=\"padding-left: 1em; padding-right: 1em; text-align: center; vertical-align: top\">JACKSONVILLE</td>\n",
       "        <td style=\"padding-left: 1em; padding-right: 1em; text-align: center; vertical-align: top\">FL</td>\n",
       "        <td style=\"padding-left: 1em; padding-right: 1em; text-align: center; vertical-align: top\">US</td>\n",
       "        <td style=\"padding-left: 1em; padding-right: 1em; text-align: center; vertical-align: top\">M</td>\n",
       "    </tr>\n",
       "    <tr>\n",
       "        <td style=\"padding-left: 1em; padding-right: 1em; text-align: center; vertical-align: top\">1497758544</td>\n",
       "        <td style=\"padding-left: 1em; padding-right: 1em; text-align: center; vertical-align: top\">FAYETTEVILLE</td>\n",
       "        <td style=\"padding-left: 1em; padding-right: 1em; text-align: center; vertical-align: top\">NC</td>\n",
       "        <td style=\"padding-left: 1em; padding-right: 1em; text-align: center; vertical-align: top\">US</td>\n",
       "        <td style=\"padding-left: 1em; padding-right: 1em; text-align: center; vertical-align: top\"></td>\n",
       "    </tr>\n",
       "    <tr>\n",
       "        <td style=\"padding-left: 1em; padding-right: 1em; text-align: center; vertical-align: top\">1306849450</td>\n",
       "        <td style=\"padding-left: 1em; padding-right: 1em; text-align: center; vertical-align: top\">ATHENS</td>\n",
       "        <td style=\"padding-left: 1em; padding-right: 1em; text-align: center; vertical-align: top\">TX</td>\n",
       "        <td style=\"padding-left: 1em; padding-right: 1em; text-align: center; vertical-align: top\">US</td>\n",
       "        <td style=\"padding-left: 1em; padding-right: 1em; text-align: center; vertical-align: top\">M</td>\n",
       "    </tr>\n",
       "    <tr>\n",
       "        <td style=\"padding-left: 1em; padding-right: 1em; text-align: center; vertical-align: top\">1215930367</td>\n",
       "        <td style=\"padding-left: 1em; padding-right: 1em; text-align: center; vertical-align: top\">HOUSTON</td>\n",
       "        <td style=\"padding-left: 1em; padding-right: 1em; text-align: center; vertical-align: top\">TX</td>\n",
       "        <td style=\"padding-left: 1em; padding-right: 1em; text-align: center; vertical-align: top\">US</td>\n",
       "        <td style=\"padding-left: 1em; padding-right: 1em; text-align: center; vertical-align: top\">M</td>\n",
       "    </tr>\n",
       "    <tr>\n",
       "        <td style=\"padding-left: 1em; padding-right: 1em; text-align: center; vertical-align: top\">1023011178</td>\n",
       "        <td style=\"padding-left: 1em; padding-right: 1em; text-align: center; vertical-align: top\">NAPA</td>\n",
       "        <td style=\"padding-left: 1em; padding-right: 1em; text-align: center; vertical-align: top\">CA</td>\n",
       "        <td style=\"padding-left: 1em; padding-right: 1em; text-align: center; vertical-align: top\">US</td>\n",
       "        <td style=\"padding-left: 1em; padding-right: 1em; text-align: center; vertical-align: top\"></td>\n",
       "    </tr>\n",
       "    <tr>\n",
       "        <td style=\"padding-left: 1em; padding-right: 1em; text-align: center; vertical-align: top\">1932102084</td>\n",
       "        <td style=\"padding-left: 1em; padding-right: 1em; text-align: center; vertical-align: top\">TOLEDO</td>\n",
       "        <td style=\"padding-left: 1em; padding-right: 1em; text-align: center; vertical-align: top\">OH</td>\n",
       "        <td style=\"padding-left: 1em; padding-right: 1em; text-align: center; vertical-align: top\">US</td>\n",
       "        <td style=\"padding-left: 1em; padding-right: 1em; text-align: center; vertical-align: top\">M</td>\n",
       "    </tr>\n",
       "    <tr>\n",
       "        <td style=\"padding-left: 1em; padding-right: 1em; text-align: center; vertical-align: top\">1841293990</td>\n",
       "        <td style=\"padding-left: 1em; padding-right: 1em; text-align: center; vertical-align: top\">NEW YORK</td>\n",
       "        <td style=\"padding-left: 1em; padding-right: 1em; text-align: center; vertical-align: top\">NY</td>\n",
       "        <td style=\"padding-left: 1em; padding-right: 1em; text-align: center; vertical-align: top\">US</td>\n",
       "        <td style=\"padding-left: 1em; padding-right: 1em; text-align: center; vertical-align: top\">F</td>\n",
       "    </tr>\n",
       "    <tr>\n",
       "        <td style=\"padding-left: 1em; padding-right: 1em; text-align: center; vertical-align: top\">1750384806</td>\n",
       "        <td style=\"padding-left: 1em; padding-right: 1em; text-align: center; vertical-align: top\">LUBBOCK</td>\n",
       "        <td style=\"padding-left: 1em; padding-right: 1em; text-align: center; vertical-align: top\">TX</td>\n",
       "        <td style=\"padding-left: 1em; padding-right: 1em; text-align: center; vertical-align: top\">US</td>\n",
       "        <td style=\"padding-left: 1em; padding-right: 1em; text-align: center; vertical-align: top\">M</td>\n",
       "    </tr>\n",
       "    <tr>\n",
       "        <td style=\"padding-left: 1em; padding-right: 1em; text-align: center; vertical-align: top\">1669475711</td>\n",
       "        <td style=\"padding-left: 1em; padding-right: 1em; text-align: center; vertical-align: top\">SUGAR LAND</td>\n",
       "        <td style=\"padding-left: 1em; padding-right: 1em; text-align: center; vertical-align: top\">TX</td>\n",
       "        <td style=\"padding-left: 1em; padding-right: 1em; text-align: center; vertical-align: top\">US</td>\n",
       "        <td style=\"padding-left: 1em; padding-right: 1em; text-align: center; vertical-align: top\">F</td>\n",
       "    </tr>\n",
       "</table>\n",
       "<table frame=\"box\" rules=\"cols\">\n",
       "    <tr>\n",
       "        <th style=\"padding-left: 1em; padding-right: 1em; text-align: center\">Entity</th>\n",
       "        <th style=\"padding-left: 1em; padding-right: 1em; text-align: center\">Sole Proprietor</th>\n",
       "        <th style=\"padding-left: 1em; padding-right: 1em; text-align: center\">Group Specialty</th>\n",
       "    </tr>\n",
       "    <tr>\n",
       "        <td style=\"padding-left: 1em; padding-right: 1em; text-align: center; vertical-align: top\">Individual</td>\n",
       "        <td style=\"padding-left: 1em; padding-right: 1em; text-align: center; vertical-align: top\">Yes</td>\n",
       "        <td style=\"padding-left: 1em; padding-right: 1em; text-align: center; vertical-align: top\"></td>\n",
       "    </tr>\n",
       "    <tr>\n",
       "        <td style=\"padding-left: 1em; padding-right: 1em; text-align: center; vertical-align: top\">Individual</td>\n",
       "        <td style=\"padding-left: 1em; padding-right: 1em; text-align: center; vertical-align: top\">No</td>\n",
       "        <td style=\"padding-left: 1em; padding-right: 1em; text-align: center; vertical-align: top\"></td>\n",
       "    </tr>\n",
       "    <tr>\n",
       "        <td style=\"padding-left: 1em; padding-right: 1em; text-align: center; vertical-align: top\">Organization</td>\n",
       "        <td style=\"padding-left: 1em; padding-right: 1em; text-align: center; vertical-align: top\">No</td>\n",
       "        <td style=\"padding-left: 1em; padding-right: 1em; text-align: center; vertical-align: top\"></td>\n",
       "    </tr>\n",
       "    <tr>\n",
       "        <td style=\"padding-left: 1em; padding-right: 1em; text-align: center; vertical-align: top\">Individual</td>\n",
       "        <td style=\"padding-left: 1em; padding-right: 1em; text-align: center; vertical-align: top\">No</td>\n",
       "        <td style=\"padding-left: 1em; padding-right: 1em; text-align: center; vertical-align: top\"></td>\n",
       "    </tr>\n",
       "    <tr>\n",
       "        <td style=\"padding-left: 1em; padding-right: 1em; text-align: center; vertical-align: top\">Individual</td>\n",
       "        <td style=\"padding-left: 1em; padding-right: 1em; text-align: center; vertical-align: top\">No</td>\n",
       "        <td style=\"padding-left: 1em; padding-right: 1em; text-align: center; vertical-align: top\"></td>\n",
       "    </tr>\n",
       "    <tr>\n",
       "        <td style=\"padding-left: 1em; padding-right: 1em; text-align: center; vertical-align: top\">Organization</td>\n",
       "        <td style=\"padding-left: 1em; padding-right: 1em; text-align: center; vertical-align: top\">No</td>\n",
       "        <td style=\"padding-left: 1em; padding-right: 1em; text-align: center; vertical-align: top\"></td>\n",
       "    </tr>\n",
       "    <tr>\n",
       "        <td style=\"padding-left: 1em; padding-right: 1em; text-align: center; vertical-align: top\">Individual</td>\n",
       "        <td style=\"padding-left: 1em; padding-right: 1em; text-align: center; vertical-align: top\">No</td>\n",
       "        <td style=\"padding-left: 1em; padding-right: 1em; text-align: center; vertical-align: top\"></td>\n",
       "    </tr>\n",
       "    <tr>\n",
       "        <td style=\"padding-left: 1em; padding-right: 1em; text-align: center; vertical-align: top\">Individual</td>\n",
       "        <td style=\"padding-left: 1em; padding-right: 1em; text-align: center; vertical-align: top\">No</td>\n",
       "        <td style=\"padding-left: 1em; padding-right: 1em; text-align: center; vertical-align: top\"></td>\n",
       "    </tr>\n",
       "    <tr>\n",
       "        <td style=\"padding-left: 1em; padding-right: 1em; text-align: center; vertical-align: top\">Individual</td>\n",
       "        <td style=\"padding-left: 1em; padding-right: 1em; text-align: center; vertical-align: top\">No</td>\n",
       "        <td style=\"padding-left: 1em; padding-right: 1em; text-align: center; vertical-align: top\"></td>\n",
       "    </tr>\n",
       "    <tr>\n",
       "        <td style=\"padding-left: 1em; padding-right: 1em; text-align: center; vertical-align: top\">Individual</td>\n",
       "        <td style=\"padding-left: 1em; padding-right: 1em; text-align: center; vertical-align: top\">Yes</td>\n",
       "        <td style=\"padding-left: 1em; padding-right: 1em; text-align: center; vertical-align: top\"></td>\n",
       "    </tr>\n",
       "</table>\n",
       "[5424719 rows x 8 columns]<br/>Note: Only the head of the SFrame is printed.<br/>You can use print_rows(num_rows=m, num_columns=n) to print more rows and columns.\n",
       "</div>"
      ],
      "text/plain": [
       "Columns:\n",
       "\tSecondary Physician NPI\tint\n",
       "\tProvider Business Practice Location Address City Name\tstr\n",
       "\tProvider Business Practice Location Address State Name\tstr\n",
       "\tProvider Business Practice Location Address Country Code (If outside US)\tstr\n",
       "\tProvider Gender Code\tstr\n",
       "\tEntity\tstr\n",
       "\tSole Proprietor\tstr\n",
       "\tGroup Specialty\tstr\n",
       "\n",
       "Rows: 5424719\n",
       "\n",
       "Data:\n",
       "+-------------------------+-------------------------------+-------------------------------+\n",
       "| Secondary Physician NPI | Provider Business Practice... | Provider Business Practice... |\n",
       "+-------------------------+-------------------------------+-------------------------------+\n",
       "|        1679576722       |            KEARNEY            |               NE              |\n",
       "|        1588667638       |          JACKSONVILLE         |               FL              |\n",
       "|        1497758544       |          FAYETTEVILLE         |               NC              |\n",
       "|        1306849450       |             ATHENS            |               TX              |\n",
       "|        1215930367       |            HOUSTON            |               TX              |\n",
       "|        1023011178       |              NAPA             |               CA              |\n",
       "|        1932102084       |             TOLEDO            |               OH              |\n",
       "|        1841293990       |            NEW YORK           |               NY              |\n",
       "|        1750384806       |            LUBBOCK            |               TX              |\n",
       "|        1669475711       |           SUGAR LAND          |               TX              |\n",
       "+-------------------------+-------------------------------+-------------------------------+\n",
       "+-------------------------------+----------------------+--------------+-----------------+\n",
       "| Provider Business Practice... | Provider Gender Code |    Entity    | Sole Proprietor |\n",
       "+-------------------------------+----------------------+--------------+-----------------+\n",
       "|               US              |          M           |  Individual  |       Yes       |\n",
       "|               US              |          M           |  Individual  |        No       |\n",
       "|               US              |                      | Organization |        No       |\n",
       "|               US              |          M           |  Individual  |        No       |\n",
       "|               US              |          M           |  Individual  |        No       |\n",
       "|               US              |                      | Organization |        No       |\n",
       "|               US              |          M           |  Individual  |        No       |\n",
       "|               US              |          F           |  Individual  |        No       |\n",
       "|               US              |          M           |  Individual  |        No       |\n",
       "|               US              |          F           |  Individual  |       Yes       |\n",
       "+-------------------------------+----------------------+--------------+-----------------+\n",
       "+-----------------+\n",
       "| Group Specialty |\n",
       "+-----------------+\n",
       "|                 |\n",
       "|                 |\n",
       "|                 |\n",
       "|                 |\n",
       "|                 |\n",
       "|                 |\n",
       "|                 |\n",
       "|                 |\n",
       "|                 |\n",
       "|                 |\n",
       "+-----------------+\n",
       "[5424719 rows x 8 columns]\n",
       "Note: Only the head of the SFrame is printed.\n",
       "You can use print_rows(num_rows=m, num_columns=n) to print more rows and columns."
      ]
     },
     "execution_count": 174,
     "metadata": {},
     "output_type": "execute_result"
    }
   ],
   "source": [
    "secondary_physician_mf4_sf = gl.SFrame(physician_mf4_sf)\n",
    "secondary_physician_mf4_sf.rename({'NPI': 'Secondary Physician NPI'})"
   ]
  },
  {
   "cell_type": "code",
   "execution_count": 175,
   "metadata": {},
   "outputs": [
    {
     "data": {
      "text/html": [
       "<pre>Recsys training: model = factorization_recommender</pre>"
      ],
      "text/plain": [
       "Recsys training: model = factorization_recommender"
      ]
     },
     "metadata": {},
     "output_type": "display_data"
    },
    {
     "data": {
      "text/html": [
       "<pre>Preparing data set.</pre>"
      ],
      "text/plain": [
       "Preparing data set."
      ]
     },
     "metadata": {},
     "output_type": "display_data"
    },
    {
     "data": {
      "text/html": [
       "<pre>    Data has 250023652 observations with 5449059 users and 5448844 items.</pre>"
      ],
      "text/plain": [
       "    Data has 250023652 observations with 5449059 users and 5448844 items."
      ]
     },
     "metadata": {},
     "output_type": "display_data"
    },
    {
     "data": {
      "text/html": [
       "<pre>    Data prepared in: 133.018s</pre>"
      ],
      "text/plain": [
       "    Data prepared in: 133.018s"
      ]
     },
     "metadata": {},
     "output_type": "display_data"
    },
    {
     "data": {
      "text/html": [
       "<pre>Training factorization_recommender for recommendations.</pre>"
      ],
      "text/plain": [
       "Training factorization_recommender for recommendations."
      ]
     },
     "metadata": {},
     "output_type": "display_data"
    },
    {
     "data": {
      "text/html": [
       "<pre>+--------------------------------+--------------------------------------------------+----------+</pre>"
      ],
      "text/plain": [
       "+--------------------------------+--------------------------------------------------+----------+"
      ]
     },
     "metadata": {},
     "output_type": "display_data"
    },
    {
     "data": {
      "text/html": [
       "<pre>| Parameter                      | Description                                      | Value    |</pre>"
      ],
      "text/plain": [
       "| Parameter                      | Description                                      | Value    |"
      ]
     },
     "metadata": {},
     "output_type": "display_data"
    },
    {
     "data": {
      "text/html": [
       "<pre>+--------------------------------+--------------------------------------------------+----------+</pre>"
      ],
      "text/plain": [
       "+--------------------------------+--------------------------------------------------+----------+"
      ]
     },
     "metadata": {},
     "output_type": "display_data"
    },
    {
     "data": {
      "text/html": [
       "<pre>| num_factors                    | Factor Dimension                                 | 8        |</pre>"
      ],
      "text/plain": [
       "| num_factors                    | Factor Dimension                                 | 8        |"
      ]
     },
     "metadata": {},
     "output_type": "display_data"
    },
    {
     "data": {
      "text/html": [
       "<pre>| regularization                 | L2 Regularization on Factors                     | 1e-08    |</pre>"
      ],
      "text/plain": [
       "| regularization                 | L2 Regularization on Factors                     | 1e-08    |"
      ]
     },
     "metadata": {},
     "output_type": "display_data"
    },
    {
     "data": {
      "text/html": [
       "<pre>| solver                         | Solver used for training                         | adagrad  |</pre>"
      ],
      "text/plain": [
       "| solver                         | Solver used for training                         | adagrad  |"
      ]
     },
     "metadata": {},
     "output_type": "display_data"
    },
    {
     "data": {
      "text/html": [
       "<pre>| linear_regularization          | L2 Regularization on Linear Coefficients         | 1e-10    |</pre>"
      ],
      "text/plain": [
       "| linear_regularization          | L2 Regularization on Linear Coefficients         | 1e-10    |"
      ]
     },
     "metadata": {},
     "output_type": "display_data"
    },
    {
     "data": {
      "text/html": [
       "<pre>| side_data_factorization        | Assign Factors for Side Data                     | True     |</pre>"
      ],
      "text/plain": [
       "| side_data_factorization        | Assign Factors for Side Data                     | True     |"
      ]
     },
     "metadata": {},
     "output_type": "display_data"
    },
    {
     "data": {
      "text/html": [
       "<pre>| max_iterations                 | Maximum Number of Iterations                     | 50       |</pre>"
      ],
      "text/plain": [
       "| max_iterations                 | Maximum Number of Iterations                     | 50       |"
      ]
     },
     "metadata": {},
     "output_type": "display_data"
    },
    {
     "data": {
      "text/html": [
       "<pre>+--------------------------------+--------------------------------------------------+----------+</pre>"
      ],
      "text/plain": [
       "+--------------------------------+--------------------------------------------------+----------+"
      ]
     },
     "metadata": {},
     "output_type": "display_data"
    },
    {
     "data": {
      "text/html": [
       "<pre>  Optimizing model using SGD; tuning step size.</pre>"
      ],
      "text/plain": [
       "  Optimizing model using SGD; tuning step size."
      ]
     },
     "metadata": {},
     "output_type": "display_data"
    },
    {
     "data": {
      "text/html": [
       "<pre>  Using 31252956 / 250023652 points for tuning the step size.</pre>"
      ],
      "text/plain": [
       "  Using 31252956 / 250023652 points for tuning the step size."
      ]
     },
     "metadata": {},
     "output_type": "display_data"
    },
    {
     "data": {
      "text/html": [
       "<pre>+---------+-------------------+------------------------------------------+</pre>"
      ],
      "text/plain": [
       "+---------+-------------------+------------------------------------------+"
      ]
     },
     "metadata": {},
     "output_type": "display_data"
    },
    {
     "data": {
      "text/html": [
       "<pre>| Attempt | Initial Step Size | Estimated Objective Value                |</pre>"
      ],
      "text/plain": [
       "| Attempt | Initial Step Size | Estimated Objective Value                |"
      ]
     },
     "metadata": {},
     "output_type": "display_data"
    },
    {
     "data": {
      "text/html": [
       "<pre>+---------+-------------------+------------------------------------------+</pre>"
      ],
      "text/plain": [
       "+---------+-------------------+------------------------------------------+"
      ]
     },
     "metadata": {},
     "output_type": "display_data"
    },
    {
     "data": {
      "text/html": [
       "<pre>| 0       | 3.125             | 3173.49                                  |</pre>"
      ],
      "text/plain": [
       "| 0       | 3.125             | 3173.49                                  |"
      ]
     },
     "metadata": {},
     "output_type": "display_data"
    },
    {
     "data": {
      "text/html": [
       "<pre>| 1       | 1.5625            | 3119.04                                  |</pre>"
      ],
      "text/plain": [
       "| 1       | 1.5625            | 3119.04                                  |"
      ]
     },
     "metadata": {},
     "output_type": "display_data"
    },
    {
     "data": {
      "text/html": [
       "<pre>| 2       | 0.78125           | 3589.94                                  |</pre>"
      ],
      "text/plain": [
       "| 2       | 0.78125           | 3589.94                                  |"
      ]
     },
     "metadata": {},
     "output_type": "display_data"
    },
    {
     "data": {
      "text/html": [
       "<pre>| 3       | 0.390625          | 4087.88                                  |</pre>"
      ],
      "text/plain": [
       "| 3       | 0.390625          | 4087.88                                  |"
      ]
     },
     "metadata": {},
     "output_type": "display_data"
    },
    {
     "data": {
      "text/html": [
       "<pre>| 4       | 0.195312          | 4415.81                                  |</pre>"
      ],
      "text/plain": [
       "| 4       | 0.195312          | 4415.81                                  |"
      ]
     },
     "metadata": {},
     "output_type": "display_data"
    },
    {
     "data": {
      "text/html": [
       "<pre>+---------+-------------------+------------------------------------------+</pre>"
      ],
      "text/plain": [
       "+---------+-------------------+------------------------------------------+"
      ]
     },
     "metadata": {},
     "output_type": "display_data"
    },
    {
     "data": {
      "text/html": [
       "<pre>| Final   | 1.5625            | 3119.04                                  |</pre>"
      ],
      "text/plain": [
       "| Final   | 1.5625            | 3119.04                                  |"
      ]
     },
     "metadata": {},
     "output_type": "display_data"
    },
    {
     "data": {
      "text/html": [
       "<pre>+---------+-------------------+------------------------------------------+</pre>"
      ],
      "text/plain": [
       "+---------+-------------------+------------------------------------------+"
      ]
     },
     "metadata": {},
     "output_type": "display_data"
    },
    {
     "data": {
      "text/html": [
       "<pre>Starting Optimization.</pre>"
      ],
      "text/plain": [
       "Starting Optimization."
      ]
     },
     "metadata": {},
     "output_type": "display_data"
    },
    {
     "data": {
      "text/html": [
       "<pre>+---------+--------------+-------------------+-----------------------+-------------+</pre>"
      ],
      "text/plain": [
       "+---------+--------------+-------------------+-----------------------+-------------+"
      ]
     },
     "metadata": {},
     "output_type": "display_data"
    },
    {
     "data": {
      "text/html": [
       "<pre>| Iter.   | Elapsed Time | Approx. Objective | Approx. Training RMSE | Step Size   |</pre>"
      ],
      "text/plain": [
       "| Iter.   | Elapsed Time | Approx. Objective | Approx. Training RMSE | Step Size   |"
      ]
     },
     "metadata": {},
     "output_type": "display_data"
    },
    {
     "data": {
      "text/html": [
       "<pre>+---------+--------------+-------------------+-----------------------+-------------+</pre>"
      ],
      "text/plain": [
       "+---------+--------------+-------------------+-----------------------+-------------+"
      ]
     },
     "metadata": {},
     "output_type": "display_data"
    },
    {
     "data": {
      "text/html": [
       "<pre>| Initial | 93us         | 5131.58           | 71.635                |             |</pre>"
      ],
      "text/plain": [
       "| Initial | 93us         | 5131.58           | 71.635                |             |"
      ]
     },
     "metadata": {},
     "output_type": "display_data"
    },
    {
     "data": {
      "text/html": [
       "<pre>+---------+--------------+-------------------+-----------------------+-------------+</pre>"
      ],
      "text/plain": [
       "+---------+--------------+-------------------+-----------------------+-------------+"
      ]
     },
     "metadata": {},
     "output_type": "display_data"
    },
    {
     "data": {
      "text/html": [
       "<pre>| 1       | 1m 43s       | 4147.95           | 64.4034               | 1.5625      |</pre>"
      ],
      "text/plain": [
       "| 1       | 1m 43s       | 4147.95           | 64.4034               | 1.5625      |"
      ]
     },
     "metadata": {},
     "output_type": "display_data"
    },
    {
     "data": {
      "text/html": [
       "<pre>| 2       | 3m 28s       | 4034.76           | 63.5168               | 1.5625      |</pre>"
      ],
      "text/plain": [
       "| 2       | 3m 28s       | 4034.76           | 63.5168               | 1.5625      |"
      ]
     },
     "metadata": {},
     "output_type": "display_data"
    },
    {
     "data": {
      "text/html": [
       "<pre>| 3       | 5m 12s       | 3540.04           | 59.4941               | 1.5625      |</pre>"
      ],
      "text/plain": [
       "| 3       | 5m 12s       | 3540.04           | 59.4941               | 1.5625      |"
      ]
     },
     "metadata": {},
     "output_type": "display_data"
    },
    {
     "data": {
      "text/html": [
       "<pre>| 4       | 6m 55s       | 3285.49           | 57.3142               | 1.5625      |</pre>"
      ],
      "text/plain": [
       "| 4       | 6m 55s       | 3285.49           | 57.3142               | 1.5625      |"
      ]
     },
     "metadata": {},
     "output_type": "display_data"
    },
    {
     "data": {
      "text/html": [
       "<pre>| 5       | 8m 38s       | 3135.39           | 55.989                | 1.5625      |</pre>"
      ],
      "text/plain": [
       "| 5       | 8m 38s       | 3135.39           | 55.989                | 1.5625      |"
      ]
     },
     "metadata": {},
     "output_type": "display_data"
    },
    {
     "data": {
      "text/html": [
       "<pre>| 6       | 10m 23s      | 3041.56           | 55.1445               | 1.5625      |</pre>"
      ],
      "text/plain": [
       "| 6       | 10m 23s      | 3041.56           | 55.1445               | 1.5625      |"
      ]
     },
     "metadata": {},
     "output_type": "display_data"
    },
    {
     "data": {
      "text/html": [
       "<pre>| 7       | 12m 6s       | 2973.73           | 54.5257               | 1.5625      |</pre>"
      ],
      "text/plain": [
       "| 7       | 12m 6s       | 2973.73           | 54.5257               | 1.5625      |"
      ]
     },
     "metadata": {},
     "output_type": "display_data"
    },
    {
     "data": {
      "text/html": [
       "<pre>| 8       | 13m 49s      | 2925.09           | 54.0778               | 1.5625      |</pre>"
      ],
      "text/plain": [
       "| 8       | 13m 49s      | 2925.09           | 54.0778               | 1.5625      |"
      ]
     },
     "metadata": {},
     "output_type": "display_data"
    },
    {
     "data": {
      "text/html": [
       "<pre>| 9       | 15m 34s      | 2885.8            | 53.7131               | 1.5625      |</pre>"
      ],
      "text/plain": [
       "| 9       | 15m 34s      | 2885.8            | 53.7131               | 1.5625      |"
      ]
     },
     "metadata": {},
     "output_type": "display_data"
    },
    {
     "data": {
      "text/html": [
       "<pre>| 10      | 17m 18s      | 2855.27           | 53.4281               | 1.5625      |</pre>"
      ],
      "text/plain": [
       "| 10      | 17m 18s      | 2855.27           | 53.4281               | 1.5625      |"
      ]
     },
     "metadata": {},
     "output_type": "display_data"
    },
    {
     "data": {
      "text/html": [
       "<pre>| 11      | 19m 2s       | 2829.79           | 53.189                | 1.5625      |</pre>"
      ],
      "text/plain": [
       "| 11      | 19m 2s       | 2829.79           | 53.189                | 1.5625      |"
      ]
     },
     "metadata": {},
     "output_type": "display_data"
    },
    {
     "data": {
      "text/html": [
       "<pre>| 12      | 20m 45s      | 2808.62           | 52.9895               | 1.5625      |</pre>"
      ],
      "text/plain": [
       "| 12      | 20m 45s      | 2808.62           | 52.9895               | 1.5625      |"
      ]
     },
     "metadata": {},
     "output_type": "display_data"
    },
    {
     "data": {
      "text/html": [
       "<pre>| 13      | 22m 27s      | 2790.69           | 52.8201               | 1.5625      |</pre>"
      ],
      "text/plain": [
       "| 13      | 22m 27s      | 2790.69           | 52.8201               | 1.5625      |"
      ]
     },
     "metadata": {},
     "output_type": "display_data"
    },
    {
     "data": {
      "text/html": [
       "<pre>| 14      | 24m 11s      | 2773.48           | 52.6568               | 1.5625      |</pre>"
      ],
      "text/plain": [
       "| 14      | 24m 11s      | 2773.48           | 52.6568               | 1.5625      |"
      ]
     },
     "metadata": {},
     "output_type": "display_data"
    },
    {
     "data": {
      "text/html": [
       "<pre>| 15      | 25m 54s      | 2759.55           | 52.5244               | 1.5625      |</pre>"
      ],
      "text/plain": [
       "| 15      | 25m 54s      | 2759.55           | 52.5244               | 1.5625      |"
      ]
     },
     "metadata": {},
     "output_type": "display_data"
    },
    {
     "data": {
      "text/html": [
       "<pre>| 16      | 27m 37s      | 2746.08           | 52.3959               | 1.5625      |</pre>"
      ],
      "text/plain": [
       "| 16      | 27m 37s      | 2746.08           | 52.3959               | 1.5625      |"
      ]
     },
     "metadata": {},
     "output_type": "display_data"
    },
    {
     "data": {
      "text/html": [
       "<pre>| 17      | 29m 21s      | 2735.06           | 52.2906               | 1.5625      |</pre>"
      ],
      "text/plain": [
       "| 17      | 29m 21s      | 2735.06           | 52.2906               | 1.5625      |"
      ]
     },
     "metadata": {},
     "output_type": "display_data"
    },
    {
     "data": {
      "text/html": [
       "<pre>| 18      | 31m 4s       | 2724.68           | 52.1912               | 1.5625      |</pre>"
      ],
      "text/plain": [
       "| 18      | 31m 4s       | 2724.68           | 52.1912               | 1.5625      |"
      ]
     },
     "metadata": {},
     "output_type": "display_data"
    },
    {
     "data": {
      "text/html": [
       "<pre>| 19      | 32m 48s      | 2714.86           | 52.097                | 1.5625      |</pre>"
      ],
      "text/plain": [
       "| 19      | 32m 48s      | 2714.86           | 52.097                | 1.5625      |"
      ]
     },
     "metadata": {},
     "output_type": "display_data"
    },
    {
     "data": {
      "text/html": [
       "<pre>| 20      | 34m 32s      | 2705.32           | 52.0054               | 1.5625      |</pre>"
      ],
      "text/plain": [
       "| 20      | 34m 32s      | 2705.32           | 52.0054               | 1.5625      |"
      ]
     },
     "metadata": {},
     "output_type": "display_data"
    },
    {
     "data": {
      "text/html": [
       "<pre>| 21      | 36m 16s      | 2697.65           | 51.9315               | 1.5625      |</pre>"
      ],
      "text/plain": [
       "| 21      | 36m 16s      | 2697.65           | 51.9315               | 1.5625      |"
      ]
     },
     "metadata": {},
     "output_type": "display_data"
    },
    {
     "data": {
      "text/html": [
       "<pre>| 22      | 38m 0s       | 2690.06           | 51.8584               | 1.5625      |</pre>"
      ],
      "text/plain": [
       "| 22      | 38m 0s       | 2690.06           | 51.8584               | 1.5625      |"
      ]
     },
     "metadata": {},
     "output_type": "display_data"
    },
    {
     "data": {
      "text/html": [
       "<pre>| 23      | 39m 43s      | 2683.23           | 51.7925               | 1.5625      |</pre>"
      ],
      "text/plain": [
       "| 23      | 39m 43s      | 2683.23           | 51.7925               | 1.5625      |"
      ]
     },
     "metadata": {},
     "output_type": "display_data"
    },
    {
     "data": {
      "text/html": [
       "<pre>| 24      | 41m 27s      | 2675.95           | 51.7221               | 1.5625      |</pre>"
      ],
      "text/plain": [
       "| 24      | 41m 27s      | 2675.95           | 51.7221               | 1.5625      |"
      ]
     },
     "metadata": {},
     "output_type": "display_data"
    },
    {
     "data": {
      "text/html": [
       "<pre>| 25      | 43m 10s      | 2668.73           | 51.6523               | 1.5625      |</pre>"
      ],
      "text/plain": [
       "| 25      | 43m 10s      | 2668.73           | 51.6523               | 1.5625      |"
      ]
     },
     "metadata": {},
     "output_type": "display_data"
    },
    {
     "data": {
      "text/html": [
       "<pre>| 26      | 44m 54s      | 2662.54           | 51.5924               | 1.5625      |</pre>"
      ],
      "text/plain": [
       "| 26      | 44m 54s      | 2662.54           | 51.5924               | 1.5625      |"
      ]
     },
     "metadata": {},
     "output_type": "display_data"
    },
    {
     "data": {
      "text/html": [
       "<pre>| 27      | 46m 38s      | 2657.21           | 51.5407               | 1.5625      |</pre>"
      ],
      "text/plain": [
       "| 27      | 46m 38s      | 2657.21           | 51.5407               | 1.5625      |"
      ]
     },
     "metadata": {},
     "output_type": "display_data"
    },
    {
     "data": {
      "text/html": [
       "<pre>| 28      | 48m 22s      | 2651.67           | 51.4868               | 1.5625      |</pre>"
      ],
      "text/plain": [
       "| 28      | 48m 22s      | 2651.67           | 51.4868               | 1.5625      |"
      ]
     },
     "metadata": {},
     "output_type": "display_data"
    },
    {
     "data": {
      "text/html": [
       "<pre>| 29      | 50m 5s       | 2646.49           | 51.4365               | 1.5625      |</pre>"
      ],
      "text/plain": [
       "| 29      | 50m 5s       | 2646.49           | 51.4365               | 1.5625      |"
      ]
     },
     "metadata": {},
     "output_type": "display_data"
    },
    {
     "data": {
      "text/html": [
       "<pre>| 30      | 51m 49s      | 2642.4            | 51.3967               | 1.5625      |</pre>"
      ],
      "text/plain": [
       "| 30      | 51m 49s      | 2642.4            | 51.3967               | 1.5625      |"
      ]
     },
     "metadata": {},
     "output_type": "display_data"
    },
    {
     "data": {
      "text/html": [
       "<pre>| 31      | 53m 33s      | 2637.48           | 51.3488               | 1.5625      |</pre>"
      ],
      "text/plain": [
       "| 31      | 53m 33s      | 2637.48           | 51.3488               | 1.5625      |"
      ]
     },
     "metadata": {},
     "output_type": "display_data"
    },
    {
     "data": {
      "text/html": [
       "<pre>| 32      | 55m 16s      | 2632.57           | 51.3009               | 1.5625      |</pre>"
      ],
      "text/plain": [
       "| 32      | 55m 16s      | 2632.57           | 51.3009               | 1.5625      |"
      ]
     },
     "metadata": {},
     "output_type": "display_data"
    },
    {
     "data": {
      "text/html": [
       "<pre>| 33      | 57m 0s       | 2628.5            | 51.2613               | 1.5625      |</pre>"
      ],
      "text/plain": [
       "| 33      | 57m 0s       | 2628.5            | 51.2613               | 1.5625      |"
      ]
     },
     "metadata": {},
     "output_type": "display_data"
    },
    {
     "data": {
      "text/html": [
       "<pre>| 34      | 58m 44s      | 2623.18           | 51.2093               | 1.5625      |</pre>"
      ],
      "text/plain": [
       "| 34      | 58m 44s      | 2623.18           | 51.2093               | 1.5625      |"
      ]
     },
     "metadata": {},
     "output_type": "display_data"
    },
    {
     "data": {
      "text/html": [
       "<pre>| 35      | 1h 0m        | 2618.94           | 51.168                | 1.5625      |</pre>"
      ],
      "text/plain": [
       "| 35      | 1h 0m        | 2618.94           | 51.168                | 1.5625      |"
      ]
     },
     "metadata": {},
     "output_type": "display_data"
    },
    {
     "data": {
      "text/html": [
       "<pre>| 36      | 1h 2m        | 2615.41           | 51.1334               | 1.5625      |</pre>"
      ],
      "text/plain": [
       "| 36      | 1h 2m        | 2615.41           | 51.1334               | 1.5625      |"
      ]
     },
     "metadata": {},
     "output_type": "display_data"
    },
    {
     "data": {
      "text/html": [
       "<pre>| 37      | 1h 3m        | 2611.11           | 51.0913               | 1.5625      |</pre>"
      ],
      "text/plain": [
       "| 37      | 1h 3m        | 2611.11           | 51.0913               | 1.5625      |"
      ]
     },
     "metadata": {},
     "output_type": "display_data"
    },
    {
     "data": {
      "text/html": [
       "<pre>| 38      | 1h 5m        | 2607.7            | 51.0579               | 1.5625      |</pre>"
      ],
      "text/plain": [
       "| 38      | 1h 5m        | 2607.7            | 51.0579               | 1.5625      |"
      ]
     },
     "metadata": {},
     "output_type": "display_data"
    },
    {
     "data": {
      "text/html": [
       "<pre>| 39      | 1h 7m        | 2604.81           | 51.0296               | 1.5625      |</pre>"
      ],
      "text/plain": [
       "| 39      | 1h 7m        | 2604.81           | 51.0296               | 1.5625      |"
      ]
     },
     "metadata": {},
     "output_type": "display_data"
    },
    {
     "data": {
      "text/html": [
       "<pre>| 40      | 1h 9m        | 2601.2            | 50.9942               | 1.5625      |</pre>"
      ],
      "text/plain": [
       "| 40      | 1h 9m        | 2601.2            | 50.9942               | 1.5625      |"
      ]
     },
     "metadata": {},
     "output_type": "display_data"
    },
    {
     "data": {
      "text/html": [
       "<pre>| 41      | 1h 10m       | 2597.03           | 50.9533               | 1.5625      |</pre>"
      ],
      "text/plain": [
       "| 41      | 1h 10m       | 2597.03           | 50.9533               | 1.5625      |"
      ]
     },
     "metadata": {},
     "output_type": "display_data"
    },
    {
     "data": {
      "text/html": [
       "<pre>| 42      | 1h 12m       | 2595.02           | 50.9335               | 1.5625      |</pre>"
      ],
      "text/plain": [
       "| 42      | 1h 12m       | 2595.02           | 50.9335               | 1.5625      |"
      ]
     },
     "metadata": {},
     "output_type": "display_data"
    },
    {
     "data": {
      "text/html": [
       "<pre>| 43      | 1h 14m       | 2591.51           | 50.8991               | 1.5625      |</pre>"
      ],
      "text/plain": [
       "| 43      | 1h 14m       | 2591.51           | 50.8991               | 1.5625      |"
      ]
     },
     "metadata": {},
     "output_type": "display_data"
    },
    {
     "data": {
      "text/html": [
       "<pre>| 44      | 1h 15m       | 2587.96           | 50.8642               | 1.5625      |</pre>"
      ],
      "text/plain": [
       "| 44      | 1h 15m       | 2587.96           | 50.8642               | 1.5625      |"
      ]
     },
     "metadata": {},
     "output_type": "display_data"
    },
    {
     "data": {
      "text/html": [
       "<pre>| 45      | 1h 17m       | 2586.11           | 50.846                | 1.5625      |</pre>"
      ],
      "text/plain": [
       "| 45      | 1h 17m       | 2586.11           | 50.846                | 1.5625      |"
      ]
     },
     "metadata": {},
     "output_type": "display_data"
    },
    {
     "data": {
      "text/html": [
       "<pre>| 46      | 1h 19m       | 2582.63           | 50.8117               | 1.5625      |</pre>"
      ],
      "text/plain": [
       "| 46      | 1h 19m       | 2582.63           | 50.8117               | 1.5625      |"
      ]
     },
     "metadata": {},
     "output_type": "display_data"
    },
    {
     "data": {
      "text/html": [
       "<pre>| 47      | 1h 21m       | 2578.83           | 50.7744               | 1.5625      |</pre>"
      ],
      "text/plain": [
       "| 47      | 1h 21m       | 2578.83           | 50.7744               | 1.5625      |"
      ]
     },
     "metadata": {},
     "output_type": "display_data"
    },
    {
     "data": {
      "text/html": [
       "<pre>| 48      | 1h 22m       | 2576.69           | 50.7533               | 1.5625      |</pre>"
      ],
      "text/plain": [
       "| 48      | 1h 22m       | 2576.69           | 50.7533               | 1.5625      |"
      ]
     },
     "metadata": {},
     "output_type": "display_data"
    },
    {
     "data": {
      "text/html": [
       "<pre>| 49      | 1h 24m       | 2573.53           | 50.7221               | 1.5625      |</pre>"
      ],
      "text/plain": [
       "| 49      | 1h 24m       | 2573.53           | 50.7221               | 1.5625      |"
      ]
     },
     "metadata": {},
     "output_type": "display_data"
    },
    {
     "data": {
      "text/html": [
       "<pre>| 50      | 1h 26m       | 2570.23           | 50.6895               | 1.5625      |</pre>"
      ],
      "text/plain": [
       "| 50      | 1h 26m       | 2570.23           | 50.6895               | 1.5625      |"
      ]
     },
     "metadata": {},
     "output_type": "display_data"
    },
    {
     "data": {
      "text/html": [
       "<pre>+---------+--------------+-------------------+-----------------------+-------------+</pre>"
      ],
      "text/plain": [
       "+---------+--------------+-------------------+-----------------------+-------------+"
      ]
     },
     "metadata": {},
     "output_type": "display_data"
    },
    {
     "data": {
      "text/html": [
       "<pre>Optimization Complete: Maximum number of passes through the data reached.</pre>"
      ],
      "text/plain": [
       "Optimization Complete: Maximum number of passes through the data reached."
      ]
     },
     "metadata": {},
     "output_type": "display_data"
    },
    {
     "data": {
      "text/html": [
       "<pre>Computing final objective value and training RMSE.</pre>"
      ],
      "text/plain": [
       "Computing final objective value and training RMSE."
      ]
     },
     "metadata": {},
     "output_type": "display_data"
    },
    {
     "data": {
      "text/html": [
       "<pre>       Final objective value: 2614.6</pre>"
      ],
      "text/plain": [
       "       Final objective value: 2614.6"
      ]
     },
     "metadata": {},
     "output_type": "display_data"
    },
    {
     "data": {
      "text/html": [
       "<pre>       Final training RMSE: 51.1253</pre>"
      ],
      "text/plain": [
       "       Final training RMSE: 51.1253"
      ]
     },
     "metadata": {},
     "output_type": "display_data"
    }
   ],
   "source": [
    "mf4_model = gl.recommender.factorization_recommender.create(edges_train_sf, user_id='Initial Physician NPI', item_id='Secondary Physician NPI', target='Referrals', user_data=initial_physician_mf4_sf, item_data=secondary_physician_mf4_sf)"
   ]
  },
  {
   "cell_type": "code",
   "execution_count": 176,
   "metadata": {},
   "outputs": [],
   "source": [
    "mf4_model.save('../model/mf4')"
   ]
  },
  {
   "cell_type": "markdown",
   "metadata": {},
   "source": [
    "# MF5: Matrix Factorization with Explicit Data [Referrals 2009-2015Y] and with Side Data [Gender, City, State ]"
   ]
  },
  {
   "cell_type": "code",
   "execution_count": 178,
   "metadata": {},
   "outputs": [],
   "source": [
    "physician_url = 'https://s3-us-west-1.amazonaws.com/physician-referral-graph/npidata_pfile_20050523-20180408_withHeader.csv'"
   ]
  },
  {
   "cell_type": "code",
   "execution_count": 179,
   "metadata": {},
   "outputs": [],
   "source": [
    "mf5_physician_cols = ['NPI', 'Provider Business Practice Location Address City Name', 'Provider Business Practice Location Address State Name', 'Provider Gender Code']"
   ]
  },
  {
   "cell_type": "code",
   "execution_count": 182,
   "metadata": {},
   "outputs": [],
   "source": [
    "mf5_physician_cols_types = [int, str, str, str]"
   ]
  },
  {
   "cell_type": "code",
   "execution_count": 183,
   "metadata": {
    "collapsed": true
   },
   "outputs": [
    {
     "data": {
      "text/html": [
       "<pre>Read 42797 lines. Lines per second: 55476</pre>"
      ],
      "text/plain": [
       "Read 42797 lines. Lines per second: 55476"
      ]
     },
     "metadata": {},
     "output_type": "display_data"
    },
    {
     "data": {
      "text/html": [
       "<pre>Unable to parse line \"\"1790778355\",\"2\",\"\",\"<UNAVAIL>\",\"BERNARD J DENNISON JR DDS PA\",\"\",\"\",\"\",\"\",\"\",\"\",\"\",\"\",\"\",\"\",\"\",\"\",\"\",\"\",\"\",\"908 N SANDHILLS BLVD\",\"\",\"ABERDEEN\",\"NC\",\"283152547\",\"US\",\"9109442383\",\"9109449334\",\"908 N SANDHILLS BLVD\",\"\",\"ABERDEEN\",\"NC\",\"283152547\",\"US\",\"910...\"</pre>"
      ],
      "text/plain": [
       "Unable to parse line \"\"1790778355\",\"2\",\"\",\"<UNAVAIL>\",\"BERNARD J DENNISON JR DDS PA\",\"\",\"\",\"\",\"\",\"\",\"\",\"\",\"\",\"\",\"\",\"\",\"\",\"\",\"\",\"\",\"908 N SANDHILLS BLVD\",\"\",\"ABERDEEN\",\"NC\",\"283152547\",\"US\",\"9109442383\",\"9109449334\",\"908 N SANDHILLS BLVD\",\"\",\"ABERDEEN\",\"NC\",\"283152547\",\"US\",\"910...\""
      ]
     },
     "metadata": {},
     "output_type": "display_data"
    },
    {
     "data": {
      "text/html": [
       "<pre>Unable to parse line \"\"1518937598\",\"2\",\"\",\"<UNAVAIL>\",\"ORANGE CITY MUNICIPAL HOSPITAL\",\"\",\"\",\"\",\"\",\"\",\"\",\"ORANGE CITY HOME HEALTH\",\"3\",\"\",\"\",\"\",\"\",\"\",\"\",\"\",\"1000 LINCOLN CIR SE\",\"\",\"ORANGE CITY\",\"IA\",\"510411862\",\"US\",\"7127375279\",\"\",\"400 CENTRAL AVE NW\",\"\\\",\"ORANGE CITY\",\"IA\",\"...\"</pre>"
      ],
      "text/plain": [
       "Unable to parse line \"\"1518937598\",\"2\",\"\",\"<UNAVAIL>\",\"ORANGE CITY MUNICIPAL HOSPITAL\",\"\",\"\",\"\",\"\",\"\",\"\",\"ORANGE CITY HOME HEALTH\",\"3\",\"\",\"\",\"\",\"\",\"\",\"\",\"\",\"1000 LINCOLN CIR SE\",\"\",\"ORANGE CITY\",\"IA\",\"510411862\",\"US\",\"7127375279\",\"\",\"400 CENTRAL AVE NW\",\"\\\",\"ORANGE CITY\",\"IA\",\"...\""
      ]
     },
     "metadata": {},
     "output_type": "display_data"
    },
    {
     "data": {
      "text/html": [
       "<pre>Read 644576 lines. Lines per second: 105012</pre>"
      ],
      "text/plain": [
       "Read 644576 lines. Lines per second: 105012"
      ]
     },
     "metadata": {},
     "output_type": "display_data"
    },
    {
     "data": {
      "text/html": [
       "<pre>Read 1203849 lines. Lines per second: 106880</pre>"
      ],
      "text/plain": [
       "Read 1203849 lines. Lines per second: 106880"
      ]
     },
     "metadata": {},
     "output_type": "display_data"
    },
    {
     "data": {
      "text/html": [
       "<pre>Read 1767586 lines. Lines per second: 107910</pre>"
      ],
      "text/plain": [
       "Read 1767586 lines. Lines per second: 107910"
      ]
     },
     "metadata": {},
     "output_type": "display_data"
    },
    {
     "data": {
      "text/html": [
       "<pre>Read 2333863 lines. Lines per second: 108657</pre>"
      ],
      "text/plain": [
       "Read 2333863 lines. Lines per second: 108657"
      ]
     },
     "metadata": {},
     "output_type": "display_data"
    },
    {
     "data": {
      "text/html": [
       "<pre>Read 2899026 lines. Lines per second: 108517</pre>"
      ],
      "text/plain": [
       "Read 2899026 lines. Lines per second: 108517"
      ]
     },
     "metadata": {},
     "output_type": "display_data"
    },
    {
     "data": {
      "text/html": [
       "<pre>Read 3467484 lines. Lines per second: 108942</pre>"
      ],
      "text/plain": [
       "Read 3467484 lines. Lines per second: 108942"
      ]
     },
     "metadata": {},
     "output_type": "display_data"
    },
    {
     "data": {
      "text/html": [
       "<pre>Read 4038694 lines. Lines per second: 109028</pre>"
      ],
      "text/plain": [
       "Read 4038694 lines. Lines per second: 109028"
      ]
     },
     "metadata": {},
     "output_type": "display_data"
    },
    {
     "data": {
      "text/html": [
       "<pre>Read 4611516 lines. Lines per second: 109266</pre>"
      ],
      "text/plain": [
       "Read 4611516 lines. Lines per second: 109266"
      ]
     },
     "metadata": {},
     "output_type": "display_data"
    },
    {
     "data": {
      "text/html": [
       "<pre>Read 5186041 lines. Lines per second: 109185</pre>"
      ],
      "text/plain": [
       "Read 5186041 lines. Lines per second: 109185"
      ]
     },
     "metadata": {},
     "output_type": "display_data"
    },
    {
     "data": {
      "text/html": [
       "<pre>2 lines failed to parse correctly</pre>"
      ],
      "text/plain": [
       "2 lines failed to parse correctly"
      ]
     },
     "metadata": {},
     "output_type": "display_data"
    },
    {
     "data": {
      "text/html": [
       "<pre>Finished parsing file https://s3-us-west-1.amazonaws.com/physician-referral-graph/npidata_pfile_20050523-20180408_withHeader.csv</pre>"
      ],
      "text/plain": [
       "Finished parsing file https://s3-us-west-1.amazonaws.com/physician-referral-graph/npidata_pfile_20050523-20180408_withHeader.csv"
      ]
     },
     "metadata": {},
     "output_type": "display_data"
    },
    {
     "data": {
      "text/html": [
       "<pre>Parsing completed. Parsed 5546683 lines in 50.3631 secs.</pre>"
      ],
      "text/plain": [
       "Parsing completed. Parsed 5546683 lines in 50.3631 secs."
      ]
     },
     "metadata": {},
     "output_type": "display_data"
    }
   ],
   "source": [
    "physician_mf5_sf = gl.SFrame.read_csv(physician_url, usecols=mf5_physician_cols, column_type_hints=mf5_physician_cols_types)"
   ]
  },
  {
   "cell_type": "code",
   "execution_count": 184,
   "metadata": {
    "collapsed": true
   },
   "outputs": [
    {
     "data": {
      "text/html": [
       "<div style=\"max-height:1000px;max-width:1500px;overflow:auto;\"><table frame=\"box\" rules=\"cols\">\n",
       "    <tr>\n",
       "        <th style=\"padding-left: 1em; padding-right: 1em; text-align: center\">Initial Physician NPI</th>\n",
       "        <th style=\"padding-left: 1em; padding-right: 1em; text-align: center\">Provider Business<br>Practice Location Add ...</th>\n",
       "        <th style=\"padding-left: 1em; padding-right: 1em; text-align: center\">Provider Business<br>Practice Location Add ...</th>\n",
       "        <th style=\"padding-left: 1em; padding-right: 1em; text-align: center\">Provider Gender Code</th>\n",
       "    </tr>\n",
       "    <tr>\n",
       "        <td style=\"padding-left: 1em; padding-right: 1em; text-align: center; vertical-align: top\">1679576722</td>\n",
       "        <td style=\"padding-left: 1em; padding-right: 1em; text-align: center; vertical-align: top\">KEARNEY</td>\n",
       "        <td style=\"padding-left: 1em; padding-right: 1em; text-align: center; vertical-align: top\">NE</td>\n",
       "        <td style=\"padding-left: 1em; padding-right: 1em; text-align: center; vertical-align: top\">M</td>\n",
       "    </tr>\n",
       "    <tr>\n",
       "        <td style=\"padding-left: 1em; padding-right: 1em; text-align: center; vertical-align: top\">1588667638</td>\n",
       "        <td style=\"padding-left: 1em; padding-right: 1em; text-align: center; vertical-align: top\">JACKSONVILLE</td>\n",
       "        <td style=\"padding-left: 1em; padding-right: 1em; text-align: center; vertical-align: top\">FL</td>\n",
       "        <td style=\"padding-left: 1em; padding-right: 1em; text-align: center; vertical-align: top\">M</td>\n",
       "    </tr>\n",
       "    <tr>\n",
       "        <td style=\"padding-left: 1em; padding-right: 1em; text-align: center; vertical-align: top\">1497758544</td>\n",
       "        <td style=\"padding-left: 1em; padding-right: 1em; text-align: center; vertical-align: top\">FAYETTEVILLE</td>\n",
       "        <td style=\"padding-left: 1em; padding-right: 1em; text-align: center; vertical-align: top\">NC</td>\n",
       "        <td style=\"padding-left: 1em; padding-right: 1em; text-align: center; vertical-align: top\"></td>\n",
       "    </tr>\n",
       "    <tr>\n",
       "        <td style=\"padding-left: 1em; padding-right: 1em; text-align: center; vertical-align: top\">1306849450</td>\n",
       "        <td style=\"padding-left: 1em; padding-right: 1em; text-align: center; vertical-align: top\">ATHENS</td>\n",
       "        <td style=\"padding-left: 1em; padding-right: 1em; text-align: center; vertical-align: top\">TX</td>\n",
       "        <td style=\"padding-left: 1em; padding-right: 1em; text-align: center; vertical-align: top\">M</td>\n",
       "    </tr>\n",
       "    <tr>\n",
       "        <td style=\"padding-left: 1em; padding-right: 1em; text-align: center; vertical-align: top\">1215930367</td>\n",
       "        <td style=\"padding-left: 1em; padding-right: 1em; text-align: center; vertical-align: top\">HOUSTON</td>\n",
       "        <td style=\"padding-left: 1em; padding-right: 1em; text-align: center; vertical-align: top\">TX</td>\n",
       "        <td style=\"padding-left: 1em; padding-right: 1em; text-align: center; vertical-align: top\">M</td>\n",
       "    </tr>\n",
       "    <tr>\n",
       "        <td style=\"padding-left: 1em; padding-right: 1em; text-align: center; vertical-align: top\">1023011178</td>\n",
       "        <td style=\"padding-left: 1em; padding-right: 1em; text-align: center; vertical-align: top\">NAPA</td>\n",
       "        <td style=\"padding-left: 1em; padding-right: 1em; text-align: center; vertical-align: top\">CA</td>\n",
       "        <td style=\"padding-left: 1em; padding-right: 1em; text-align: center; vertical-align: top\"></td>\n",
       "    </tr>\n",
       "    <tr>\n",
       "        <td style=\"padding-left: 1em; padding-right: 1em; text-align: center; vertical-align: top\">1932102084</td>\n",
       "        <td style=\"padding-left: 1em; padding-right: 1em; text-align: center; vertical-align: top\">TOLEDO</td>\n",
       "        <td style=\"padding-left: 1em; padding-right: 1em; text-align: center; vertical-align: top\">OH</td>\n",
       "        <td style=\"padding-left: 1em; padding-right: 1em; text-align: center; vertical-align: top\">M</td>\n",
       "    </tr>\n",
       "    <tr>\n",
       "        <td style=\"padding-left: 1em; padding-right: 1em; text-align: center; vertical-align: top\">1841293990</td>\n",
       "        <td style=\"padding-left: 1em; padding-right: 1em; text-align: center; vertical-align: top\">NEW YORK</td>\n",
       "        <td style=\"padding-left: 1em; padding-right: 1em; text-align: center; vertical-align: top\">NY</td>\n",
       "        <td style=\"padding-left: 1em; padding-right: 1em; text-align: center; vertical-align: top\">F</td>\n",
       "    </tr>\n",
       "    <tr>\n",
       "        <td style=\"padding-left: 1em; padding-right: 1em; text-align: center; vertical-align: top\">1750384806</td>\n",
       "        <td style=\"padding-left: 1em; padding-right: 1em; text-align: center; vertical-align: top\">LUBBOCK</td>\n",
       "        <td style=\"padding-left: 1em; padding-right: 1em; text-align: center; vertical-align: top\">TX</td>\n",
       "        <td style=\"padding-left: 1em; padding-right: 1em; text-align: center; vertical-align: top\">M</td>\n",
       "    </tr>\n",
       "    <tr>\n",
       "        <td style=\"padding-left: 1em; padding-right: 1em; text-align: center; vertical-align: top\">1669475711</td>\n",
       "        <td style=\"padding-left: 1em; padding-right: 1em; text-align: center; vertical-align: top\">SUGAR LAND</td>\n",
       "        <td style=\"padding-left: 1em; padding-right: 1em; text-align: center; vertical-align: top\">TX</td>\n",
       "        <td style=\"padding-left: 1em; padding-right: 1em; text-align: center; vertical-align: top\">F</td>\n",
       "    </tr>\n",
       "</table>\n",
       "[5546683 rows x 4 columns]<br/>Note: Only the head of the SFrame is printed.<br/>You can use print_rows(num_rows=m, num_columns=n) to print more rows and columns.\n",
       "</div>"
      ],
      "text/plain": [
       "Columns:\n",
       "\tInitial Physician NPI\tint\n",
       "\tProvider Business Practice Location Address City Name\tstr\n",
       "\tProvider Business Practice Location Address State Name\tstr\n",
       "\tProvider Gender Code\tstr\n",
       "\n",
       "Rows: 5546683\n",
       "\n",
       "Data:\n",
       "+-----------------------+-------------------------------+-------------------------------+\n",
       "| Initial Physician NPI | Provider Business Practice... | Provider Business Practice... |\n",
       "+-----------------------+-------------------------------+-------------------------------+\n",
       "|       1679576722      |            KEARNEY            |               NE              |\n",
       "|       1588667638      |          JACKSONVILLE         |               FL              |\n",
       "|       1497758544      |          FAYETTEVILLE         |               NC              |\n",
       "|       1306849450      |             ATHENS            |               TX              |\n",
       "|       1215930367      |            HOUSTON            |               TX              |\n",
       "|       1023011178      |              NAPA             |               CA              |\n",
       "|       1932102084      |             TOLEDO            |               OH              |\n",
       "|       1841293990      |            NEW YORK           |               NY              |\n",
       "|       1750384806      |            LUBBOCK            |               TX              |\n",
       "|       1669475711      |           SUGAR LAND          |               TX              |\n",
       "+-----------------------+-------------------------------+-------------------------------+\n",
       "+----------------------+\n",
       "| Provider Gender Code |\n",
       "+----------------------+\n",
       "|          M           |\n",
       "|          M           |\n",
       "|                      |\n",
       "|          M           |\n",
       "|          M           |\n",
       "|                      |\n",
       "|          M           |\n",
       "|          F           |\n",
       "|          M           |\n",
       "|          F           |\n",
       "+----------------------+\n",
       "[5546683 rows x 4 columns]\n",
       "Note: Only the head of the SFrame is printed.\n",
       "You can use print_rows(num_rows=m, num_columns=n) to print more rows and columns."
      ]
     },
     "execution_count": 184,
     "metadata": {},
     "output_type": "execute_result"
    }
   ],
   "source": [
    "initial_physician_mf5_sf = gl.SFrame(physician_mf5_sf)\n",
    "initial_physician_mf5_sf.rename({'NPI': 'Initial Physician NPI'})"
   ]
  },
  {
   "cell_type": "code",
   "execution_count": 185,
   "metadata": {
    "collapsed": true
   },
   "outputs": [
    {
     "data": {
      "text/html": [
       "<div style=\"max-height:1000px;max-width:1500px;overflow:auto;\"><table frame=\"box\" rules=\"cols\">\n",
       "    <tr>\n",
       "        <th style=\"padding-left: 1em; padding-right: 1em; text-align: center\">Secondary Physician NPI</th>\n",
       "        <th style=\"padding-left: 1em; padding-right: 1em; text-align: center\">Provider Business<br>Practice Location Add ...</th>\n",
       "        <th style=\"padding-left: 1em; padding-right: 1em; text-align: center\">Provider Business<br>Practice Location Add ...</th>\n",
       "        <th style=\"padding-left: 1em; padding-right: 1em; text-align: center\">Provider Gender Code</th>\n",
       "    </tr>\n",
       "    <tr>\n",
       "        <td style=\"padding-left: 1em; padding-right: 1em; text-align: center; vertical-align: top\">1679576722</td>\n",
       "        <td style=\"padding-left: 1em; padding-right: 1em; text-align: center; vertical-align: top\">KEARNEY</td>\n",
       "        <td style=\"padding-left: 1em; padding-right: 1em; text-align: center; vertical-align: top\">NE</td>\n",
       "        <td style=\"padding-left: 1em; padding-right: 1em; text-align: center; vertical-align: top\">M</td>\n",
       "    </tr>\n",
       "    <tr>\n",
       "        <td style=\"padding-left: 1em; padding-right: 1em; text-align: center; vertical-align: top\">1588667638</td>\n",
       "        <td style=\"padding-left: 1em; padding-right: 1em; text-align: center; vertical-align: top\">JACKSONVILLE</td>\n",
       "        <td style=\"padding-left: 1em; padding-right: 1em; text-align: center; vertical-align: top\">FL</td>\n",
       "        <td style=\"padding-left: 1em; padding-right: 1em; text-align: center; vertical-align: top\">M</td>\n",
       "    </tr>\n",
       "    <tr>\n",
       "        <td style=\"padding-left: 1em; padding-right: 1em; text-align: center; vertical-align: top\">1497758544</td>\n",
       "        <td style=\"padding-left: 1em; padding-right: 1em; text-align: center; vertical-align: top\">FAYETTEVILLE</td>\n",
       "        <td style=\"padding-left: 1em; padding-right: 1em; text-align: center; vertical-align: top\">NC</td>\n",
       "        <td style=\"padding-left: 1em; padding-right: 1em; text-align: center; vertical-align: top\"></td>\n",
       "    </tr>\n",
       "    <tr>\n",
       "        <td style=\"padding-left: 1em; padding-right: 1em; text-align: center; vertical-align: top\">1306849450</td>\n",
       "        <td style=\"padding-left: 1em; padding-right: 1em; text-align: center; vertical-align: top\">ATHENS</td>\n",
       "        <td style=\"padding-left: 1em; padding-right: 1em; text-align: center; vertical-align: top\">TX</td>\n",
       "        <td style=\"padding-left: 1em; padding-right: 1em; text-align: center; vertical-align: top\">M</td>\n",
       "    </tr>\n",
       "    <tr>\n",
       "        <td style=\"padding-left: 1em; padding-right: 1em; text-align: center; vertical-align: top\">1215930367</td>\n",
       "        <td style=\"padding-left: 1em; padding-right: 1em; text-align: center; vertical-align: top\">HOUSTON</td>\n",
       "        <td style=\"padding-left: 1em; padding-right: 1em; text-align: center; vertical-align: top\">TX</td>\n",
       "        <td style=\"padding-left: 1em; padding-right: 1em; text-align: center; vertical-align: top\">M</td>\n",
       "    </tr>\n",
       "    <tr>\n",
       "        <td style=\"padding-left: 1em; padding-right: 1em; text-align: center; vertical-align: top\">1023011178</td>\n",
       "        <td style=\"padding-left: 1em; padding-right: 1em; text-align: center; vertical-align: top\">NAPA</td>\n",
       "        <td style=\"padding-left: 1em; padding-right: 1em; text-align: center; vertical-align: top\">CA</td>\n",
       "        <td style=\"padding-left: 1em; padding-right: 1em; text-align: center; vertical-align: top\"></td>\n",
       "    </tr>\n",
       "    <tr>\n",
       "        <td style=\"padding-left: 1em; padding-right: 1em; text-align: center; vertical-align: top\">1932102084</td>\n",
       "        <td style=\"padding-left: 1em; padding-right: 1em; text-align: center; vertical-align: top\">TOLEDO</td>\n",
       "        <td style=\"padding-left: 1em; padding-right: 1em; text-align: center; vertical-align: top\">OH</td>\n",
       "        <td style=\"padding-left: 1em; padding-right: 1em; text-align: center; vertical-align: top\">M</td>\n",
       "    </tr>\n",
       "    <tr>\n",
       "        <td style=\"padding-left: 1em; padding-right: 1em; text-align: center; vertical-align: top\">1841293990</td>\n",
       "        <td style=\"padding-left: 1em; padding-right: 1em; text-align: center; vertical-align: top\">NEW YORK</td>\n",
       "        <td style=\"padding-left: 1em; padding-right: 1em; text-align: center; vertical-align: top\">NY</td>\n",
       "        <td style=\"padding-left: 1em; padding-right: 1em; text-align: center; vertical-align: top\">F</td>\n",
       "    </tr>\n",
       "    <tr>\n",
       "        <td style=\"padding-left: 1em; padding-right: 1em; text-align: center; vertical-align: top\">1750384806</td>\n",
       "        <td style=\"padding-left: 1em; padding-right: 1em; text-align: center; vertical-align: top\">LUBBOCK</td>\n",
       "        <td style=\"padding-left: 1em; padding-right: 1em; text-align: center; vertical-align: top\">TX</td>\n",
       "        <td style=\"padding-left: 1em; padding-right: 1em; text-align: center; vertical-align: top\">M</td>\n",
       "    </tr>\n",
       "    <tr>\n",
       "        <td style=\"padding-left: 1em; padding-right: 1em; text-align: center; vertical-align: top\">1669475711</td>\n",
       "        <td style=\"padding-left: 1em; padding-right: 1em; text-align: center; vertical-align: top\">SUGAR LAND</td>\n",
       "        <td style=\"padding-left: 1em; padding-right: 1em; text-align: center; vertical-align: top\">TX</td>\n",
       "        <td style=\"padding-left: 1em; padding-right: 1em; text-align: center; vertical-align: top\">F</td>\n",
       "    </tr>\n",
       "</table>\n",
       "[5546683 rows x 4 columns]<br/>Note: Only the head of the SFrame is printed.<br/>You can use print_rows(num_rows=m, num_columns=n) to print more rows and columns.\n",
       "</div>"
      ],
      "text/plain": [
       "Columns:\n",
       "\tSecondary Physician NPI\tint\n",
       "\tProvider Business Practice Location Address City Name\tstr\n",
       "\tProvider Business Practice Location Address State Name\tstr\n",
       "\tProvider Gender Code\tstr\n",
       "\n",
       "Rows: 5546683\n",
       "\n",
       "Data:\n",
       "+-------------------------+-------------------------------+-------------------------------+\n",
       "| Secondary Physician NPI | Provider Business Practice... | Provider Business Practice... |\n",
       "+-------------------------+-------------------------------+-------------------------------+\n",
       "|        1679576722       |            KEARNEY            |               NE              |\n",
       "|        1588667638       |          JACKSONVILLE         |               FL              |\n",
       "|        1497758544       |          FAYETTEVILLE         |               NC              |\n",
       "|        1306849450       |             ATHENS            |               TX              |\n",
       "|        1215930367       |            HOUSTON            |               TX              |\n",
       "|        1023011178       |              NAPA             |               CA              |\n",
       "|        1932102084       |             TOLEDO            |               OH              |\n",
       "|        1841293990       |            NEW YORK           |               NY              |\n",
       "|        1750384806       |            LUBBOCK            |               TX              |\n",
       "|        1669475711       |           SUGAR LAND          |               TX              |\n",
       "+-------------------------+-------------------------------+-------------------------------+\n",
       "+----------------------+\n",
       "| Provider Gender Code |\n",
       "+----------------------+\n",
       "|          M           |\n",
       "|          M           |\n",
       "|                      |\n",
       "|          M           |\n",
       "|          M           |\n",
       "|                      |\n",
       "|          M           |\n",
       "|          F           |\n",
       "|          M           |\n",
       "|          F           |\n",
       "+----------------------+\n",
       "[5546683 rows x 4 columns]\n",
       "Note: Only the head of the SFrame is printed.\n",
       "You can use print_rows(num_rows=m, num_columns=n) to print more rows and columns."
      ]
     },
     "execution_count": 185,
     "metadata": {},
     "output_type": "execute_result"
    }
   ],
   "source": [
    "secondary_physician_mf5_sf = gl.SFrame(physician_mf5_sf)\n",
    "secondary_physician_mf5_sf.rename({'NPI': 'Secondary Physician NPI'})"
   ]
  },
  {
   "cell_type": "code",
   "execution_count": 187,
   "metadata": {
    "scrolled": true
   },
   "outputs": [
    {
     "data": {
      "text/html": [
       "<pre>Recsys training: model = factorization_recommender</pre>"
      ],
      "text/plain": [
       "Recsys training: model = factorization_recommender"
      ]
     },
     "metadata": {},
     "output_type": "display_data"
    },
    {
     "data": {
      "text/html": [
       "<pre>Preparing data set.</pre>"
      ],
      "text/plain": [
       "Preparing data set."
      ]
     },
     "metadata": {},
     "output_type": "display_data"
    },
    {
     "data": {
      "text/html": [
       "<pre>    Data has 250023652 observations with 5547086 users and 5547081 items.</pre>"
      ],
      "text/plain": [
       "    Data has 250023652 observations with 5547086 users and 5547081 items."
      ]
     },
     "metadata": {},
     "output_type": "display_data"
    },
    {
     "data": {
      "text/html": [
       "<pre>    Data prepared in: 127.902s</pre>"
      ],
      "text/plain": [
       "    Data prepared in: 127.902s"
      ]
     },
     "metadata": {},
     "output_type": "display_data"
    },
    {
     "data": {
      "text/html": [
       "<pre>Training factorization_recommender for recommendations.</pre>"
      ],
      "text/plain": [
       "Training factorization_recommender for recommendations."
      ]
     },
     "metadata": {},
     "output_type": "display_data"
    },
    {
     "data": {
      "text/html": [
       "<pre>+--------------------------------+--------------------------------------------------+----------+</pre>"
      ],
      "text/plain": [
       "+--------------------------------+--------------------------------------------------+----------+"
      ]
     },
     "metadata": {},
     "output_type": "display_data"
    },
    {
     "data": {
      "text/html": [
       "<pre>| Parameter                      | Description                                      | Value    |</pre>"
      ],
      "text/plain": [
       "| Parameter                      | Description                                      | Value    |"
      ]
     },
     "metadata": {},
     "output_type": "display_data"
    },
    {
     "data": {
      "text/html": [
       "<pre>+--------------------------------+--------------------------------------------------+----------+</pre>"
      ],
      "text/plain": [
       "+--------------------------------+--------------------------------------------------+----------+"
      ]
     },
     "metadata": {},
     "output_type": "display_data"
    },
    {
     "data": {
      "text/html": [
       "<pre>| num_factors                    | Factor Dimension                                 | 8        |</pre>"
      ],
      "text/plain": [
       "| num_factors                    | Factor Dimension                                 | 8        |"
      ]
     },
     "metadata": {},
     "output_type": "display_data"
    },
    {
     "data": {
      "text/html": [
       "<pre>| regularization                 | L2 Regularization on Factors                     | 1e-08    |</pre>"
      ],
      "text/plain": [
       "| regularization                 | L2 Regularization on Factors                     | 1e-08    |"
      ]
     },
     "metadata": {},
     "output_type": "display_data"
    },
    {
     "data": {
      "text/html": [
       "<pre>| solver                         | Solver used for training                         | adagrad  |</pre>"
      ],
      "text/plain": [
       "| solver                         | Solver used for training                         | adagrad  |"
      ]
     },
     "metadata": {},
     "output_type": "display_data"
    },
    {
     "data": {
      "text/html": [
       "<pre>| linear_regularization          | L2 Regularization on Linear Coefficients         | 1e-10    |</pre>"
      ],
      "text/plain": [
       "| linear_regularization          | L2 Regularization on Linear Coefficients         | 1e-10    |"
      ]
     },
     "metadata": {},
     "output_type": "display_data"
    },
    {
     "data": {
      "text/html": [
       "<pre>| side_data_factorization        | Assign Factors for Side Data                     | True     |</pre>"
      ],
      "text/plain": [
       "| side_data_factorization        | Assign Factors for Side Data                     | True     |"
      ]
     },
     "metadata": {},
     "output_type": "display_data"
    },
    {
     "data": {
      "text/html": [
       "<pre>| max_iterations                 | Maximum Number of Iterations                     | 50       |</pre>"
      ],
      "text/plain": [
       "| max_iterations                 | Maximum Number of Iterations                     | 50       |"
      ]
     },
     "metadata": {},
     "output_type": "display_data"
    },
    {
     "data": {
      "text/html": [
       "<pre>+--------------------------------+--------------------------------------------------+----------+</pre>"
      ],
      "text/plain": [
       "+--------------------------------+--------------------------------------------------+----------+"
      ]
     },
     "metadata": {},
     "output_type": "display_data"
    },
    {
     "data": {
      "text/html": [
       "<pre>  Optimizing model using SGD; tuning step size.</pre>"
      ],
      "text/plain": [
       "  Optimizing model using SGD; tuning step size."
      ]
     },
     "metadata": {},
     "output_type": "display_data"
    },
    {
     "data": {
      "text/html": [
       "<pre>  Using 31252956 / 250023652 points for tuning the step size.</pre>"
      ],
      "text/plain": [
       "  Using 31252956 / 250023652 points for tuning the step size."
      ]
     },
     "metadata": {},
     "output_type": "display_data"
    },
    {
     "data": {
      "text/html": [
       "<pre>+---------+-------------------+------------------------------------------+</pre>"
      ],
      "text/plain": [
       "+---------+-------------------+------------------------------------------+"
      ]
     },
     "metadata": {},
     "output_type": "display_data"
    },
    {
     "data": {
      "text/html": [
       "<pre>| Attempt | Initial Step Size | Estimated Objective Value                |</pre>"
      ],
      "text/plain": [
       "| Attempt | Initial Step Size | Estimated Objective Value                |"
      ]
     },
     "metadata": {},
     "output_type": "display_data"
    },
    {
     "data": {
      "text/html": [
       "<pre>+---------+-------------------+------------------------------------------+</pre>"
      ],
      "text/plain": [
       "+---------+-------------------+------------------------------------------+"
      ]
     },
     "metadata": {},
     "output_type": "display_data"
    },
    {
     "data": {
      "text/html": [
       "<pre>| 0       | 6.25              | 3408.25                                  |</pre>"
      ],
      "text/plain": [
       "| 0       | 6.25              | 3408.25                                  |"
      ]
     },
     "metadata": {},
     "output_type": "display_data"
    },
    {
     "data": {
      "text/html": [
       "<pre>| 1       | 3.125             | 2896.53                                  |</pre>"
      ],
      "text/plain": [
       "| 1       | 3.125             | 2896.53                                  |"
      ]
     },
     "metadata": {},
     "output_type": "display_data"
    },
    {
     "data": {
      "text/html": [
       "<pre>| 2       | 1.5625            | 2827.68                                  |</pre>"
      ],
      "text/plain": [
       "| 2       | 1.5625            | 2827.68                                  |"
      ]
     },
     "metadata": {},
     "output_type": "display_data"
    },
    {
     "data": {
      "text/html": [
       "<pre>| 3       | 0.78125           | 3275.45                                  |</pre>"
      ],
      "text/plain": [
       "| 3       | 0.78125           | 3275.45                                  |"
      ]
     },
     "metadata": {},
     "output_type": "display_data"
    },
    {
     "data": {
      "text/html": [
       "<pre>| 4       | 0.390625          | 3766.18                                  |</pre>"
      ],
      "text/plain": [
       "| 4       | 0.390625          | 3766.18                                  |"
      ]
     },
     "metadata": {},
     "output_type": "display_data"
    },
    {
     "data": {
      "text/html": [
       "<pre>| 5       | 0.195312          | 4118.31                                  |</pre>"
      ],
      "text/plain": [
       "| 5       | 0.195312          | 4118.31                                  |"
      ]
     },
     "metadata": {},
     "output_type": "display_data"
    },
    {
     "data": {
      "text/html": [
       "<pre>+---------+-------------------+------------------------------------------+</pre>"
      ],
      "text/plain": [
       "+---------+-------------------+------------------------------------------+"
      ]
     },
     "metadata": {},
     "output_type": "display_data"
    },
    {
     "data": {
      "text/html": [
       "<pre>| Final   | 1.5625            | 2827.68                                  |</pre>"
      ],
      "text/plain": [
       "| Final   | 1.5625            | 2827.68                                  |"
      ]
     },
     "metadata": {},
     "output_type": "display_data"
    },
    {
     "data": {
      "text/html": [
       "<pre>+---------+-------------------+------------------------------------------+</pre>"
      ],
      "text/plain": [
       "+---------+-------------------+------------------------------------------+"
      ]
     },
     "metadata": {},
     "output_type": "display_data"
    },
    {
     "data": {
      "text/html": [
       "<pre>Starting Optimization.</pre>"
      ],
      "text/plain": [
       "Starting Optimization."
      ]
     },
     "metadata": {},
     "output_type": "display_data"
    },
    {
     "data": {
      "text/html": [
       "<pre>+---------+--------------+-------------------+-----------------------+-------------+</pre>"
      ],
      "text/plain": [
       "+---------+--------------+-------------------+-----------------------+-------------+"
      ]
     },
     "metadata": {},
     "output_type": "display_data"
    },
    {
     "data": {
      "text/html": [
       "<pre>| Iter.   | Elapsed Time | Approx. Objective | Approx. Training RMSE | Step Size   |</pre>"
      ],
      "text/plain": [
       "| Iter.   | Elapsed Time | Approx. Objective | Approx. Training RMSE | Step Size   |"
      ]
     },
     "metadata": {},
     "output_type": "display_data"
    },
    {
     "data": {
      "text/html": [
       "<pre>+---------+--------------+-------------------+-----------------------+-------------+</pre>"
      ],
      "text/plain": [
       "+---------+--------------+-------------------+-----------------------+-------------+"
      ]
     },
     "metadata": {},
     "output_type": "display_data"
    },
    {
     "data": {
      "text/html": [
       "<pre>| Initial | 93us         | 5131.58           | 71.635                |             |</pre>"
      ],
      "text/plain": [
       "| Initial | 93us         | 5131.58           | 71.635                |             |"
      ]
     },
     "metadata": {},
     "output_type": "display_data"
    },
    {
     "data": {
      "text/html": [
       "<pre>+---------+--------------+-------------------+-----------------------+-------------+</pre>"
      ],
      "text/plain": [
       "+---------+--------------+-------------------+-----------------------+-------------+"
      ]
     },
     "metadata": {},
     "output_type": "display_data"
    },
    {
     "data": {
      "text/html": [
       "<pre>| 1       | 35.73s       | 4141.87           | 64.3561               | 1.5625      |</pre>"
      ],
      "text/plain": [
       "| 1       | 35.73s       | 4141.87           | 64.3561               | 1.5625      |"
      ]
     },
     "metadata": {},
     "output_type": "display_data"
    },
    {
     "data": {
      "text/html": [
       "<pre>| 2       | 1m 9s        | 4016.22           | 63.3703               | 1.5625      |</pre>"
      ],
      "text/plain": [
       "| 2       | 1m 9s        | 4016.22           | 63.3703               | 1.5625      |"
      ]
     },
     "metadata": {},
     "output_type": "display_data"
    },
    {
     "data": {
      "text/html": [
       "<pre>| 3       | 1m 44s       | 3521.51           | 59.3375               | 1.5625      |</pre>"
      ],
      "text/plain": [
       "| 3       | 1m 44s       | 3521.51           | 59.3375               | 1.5625      |"
      ]
     },
     "metadata": {},
     "output_type": "display_data"
    },
    {
     "data": {
      "text/html": [
       "<pre>| 4       | 2m 19s       | 3270              | 57.1782               | 1.5625      |</pre>"
      ],
      "text/plain": [
       "| 4       | 2m 19s       | 3270              | 57.1782               | 1.5625      |"
      ]
     },
     "metadata": {},
     "output_type": "display_data"
    },
    {
     "data": {
      "text/html": [
       "<pre>| 5       | 2m 53s       | 3126.32           | 55.9072               | 1.5625      |</pre>"
      ],
      "text/plain": [
       "| 5       | 2m 53s       | 3126.32           | 55.9072               | 1.5625      |"
      ]
     },
     "metadata": {},
     "output_type": "display_data"
    },
    {
     "data": {
      "text/html": [
       "<pre>| 6       | 3m 26s       | 3033.43           | 55.0699               | 1.5625      |</pre>"
      ],
      "text/plain": [
       "| 6       | 3m 26s       | 3033.43           | 55.0699               | 1.5625      |"
      ]
     },
     "metadata": {},
     "output_type": "display_data"
    },
    {
     "data": {
      "text/html": [
       "<pre>| 7       | 4m 0s        | 2968.8            | 54.4797               | 1.5625      |</pre>"
      ],
      "text/plain": [
       "| 7       | 4m 0s        | 2968.8            | 54.4797               | 1.5625      |"
      ]
     },
     "metadata": {},
     "output_type": "display_data"
    },
    {
     "data": {
      "text/html": [
       "<pre>| 8       | 4m 35s       | 2920.76           | 54.0368               | 1.5625      |</pre>"
      ],
      "text/plain": [
       "| 8       | 4m 35s       | 2920.76           | 54.0368               | 1.5625      |"
      ]
     },
     "metadata": {},
     "output_type": "display_data"
    },
    {
     "data": {
      "text/html": [
       "<pre>| 9       | 5m 9s        | 2882.86           | 53.6849               | 1.5625      |</pre>"
      ],
      "text/plain": [
       "| 9       | 5m 9s        | 2882.86           | 53.6849               | 1.5625      |"
      ]
     },
     "metadata": {},
     "output_type": "display_data"
    },
    {
     "data": {
      "text/html": [
       "<pre>| 10      | 5m 43s       | 2853.35           | 53.4093               | 1.5625      |</pre>"
      ],
      "text/plain": [
       "| 10      | 5m 43s       | 2853.35           | 53.4093               | 1.5625      |"
      ]
     },
     "metadata": {},
     "output_type": "display_data"
    },
    {
     "data": {
      "text/html": [
       "<pre>| 11      | 6m 18s       | 2826.21           | 53.1544               | 1.5625      |</pre>"
      ],
      "text/plain": [
       "| 11      | 6m 18s       | 2826.21           | 53.1544               | 1.5625      |"
      ]
     },
     "metadata": {},
     "output_type": "display_data"
    },
    {
     "data": {
      "text/html": [
       "<pre>| 12      | 6m 53s       | 2805.47           | 52.9589               | 1.5625      |</pre>"
      ],
      "text/plain": [
       "| 12      | 6m 53s       | 2805.47           | 52.9589               | 1.5625      |"
      ]
     },
     "metadata": {},
     "output_type": "display_data"
    },
    {
     "data": {
      "text/html": [
       "<pre>| 13      | 7m 27s       | 2787.45           | 52.7884               | 1.5625      |</pre>"
      ],
      "text/plain": [
       "| 13      | 7m 27s       | 2787.45           | 52.7884               | 1.5625      |"
      ]
     },
     "metadata": {},
     "output_type": "display_data"
    },
    {
     "data": {
      "text/html": [
       "<pre>| 14      | 8m 2s        | 2769.79           | 52.6209               | 1.5625      |</pre>"
      ],
      "text/plain": [
       "| 14      | 8m 2s        | 2769.79           | 52.6209               | 1.5625      |"
      ]
     },
     "metadata": {},
     "output_type": "display_data"
    },
    {
     "data": {
      "text/html": [
       "<pre>| 15      | 8m 37s       | 2756.35           | 52.493                | 1.5625      |</pre>"
      ],
      "text/plain": [
       "| 15      | 8m 37s       | 2756.35           | 52.493                | 1.5625      |"
      ]
     },
     "metadata": {},
     "output_type": "display_data"
    },
    {
     "data": {
      "text/html": [
       "<pre>| 16      | 9m 11s       | 2743.38           | 52.3693               | 1.5625      |</pre>"
      ],
      "text/plain": [
       "| 16      | 9m 11s       | 2743.38           | 52.3693               | 1.5625      |"
      ]
     },
     "metadata": {},
     "output_type": "display_data"
    },
    {
     "data": {
      "text/html": [
       "<pre>| 17      | 9m 44s       | 2730.72           | 52.2482               | 1.5625      |</pre>"
      ],
      "text/plain": [
       "| 17      | 9m 44s       | 2730.72           | 52.2482               | 1.5625      |"
      ]
     },
     "metadata": {},
     "output_type": "display_data"
    },
    {
     "data": {
      "text/html": [
       "<pre>| 18      | 10m 20s      | 2721.38           | 52.1587               | 1.5625      |</pre>"
      ],
      "text/plain": [
       "| 18      | 10m 20s      | 2721.38           | 52.1587               | 1.5625      |"
      ]
     },
     "metadata": {},
     "output_type": "display_data"
    },
    {
     "data": {
      "text/html": [
       "<pre>| 19      | 10m 54s      | 2710.17           | 52.0511               | 1.5625      |</pre>"
      ],
      "text/plain": [
       "| 19      | 10m 54s      | 2710.17           | 52.0511               | 1.5625      |"
      ]
     },
     "metadata": {},
     "output_type": "display_data"
    },
    {
     "data": {
      "text/html": [
       "<pre>| 20      | 11m 29s      | 2700.76           | 51.9606               | 1.5625      |</pre>"
      ],
      "text/plain": [
       "| 20      | 11m 29s      | 2700.76           | 51.9606               | 1.5625      |"
      ]
     },
     "metadata": {},
     "output_type": "display_data"
    },
    {
     "data": {
      "text/html": [
       "<pre>| 21      | 12m 4s       | 2692.57           | 51.8818               | 1.5625      |</pre>"
      ],
      "text/plain": [
       "| 21      | 12m 4s       | 2692.57           | 51.8818               | 1.5625      |"
      ]
     },
     "metadata": {},
     "output_type": "display_data"
    },
    {
     "data": {
      "text/html": [
       "<pre>| 22      | 12m 37s      | 2685.11           | 51.8098               | 1.5625      |</pre>"
      ],
      "text/plain": [
       "| 22      | 12m 37s      | 2685.11           | 51.8098               | 1.5625      |"
      ]
     },
     "metadata": {},
     "output_type": "display_data"
    },
    {
     "data": {
      "text/html": [
       "<pre>| 23      | 13m 11s      | 2676.75           | 51.729                | 1.5625      |</pre>"
      ],
      "text/plain": [
       "| 23      | 13m 11s      | 2676.75           | 51.729                | 1.5625      |"
      ]
     },
     "metadata": {},
     "output_type": "display_data"
    },
    {
     "data": {
      "text/html": [
       "<pre>| 24      | 13m 46s      | 2670.57           | 51.6692               | 1.5625      |</pre>"
      ],
      "text/plain": [
       "| 24      | 13m 46s      | 2670.57           | 51.6692               | 1.5625      |"
      ]
     },
     "metadata": {},
     "output_type": "display_data"
    },
    {
     "data": {
      "text/html": [
       "<pre>| 25      | 14m 20s      | 2663.34           | 51.5991               | 1.5625      |</pre>"
      ],
      "text/plain": [
       "| 25      | 14m 20s      | 2663.34           | 51.5991               | 1.5625      |"
      ]
     },
     "metadata": {},
     "output_type": "display_data"
    },
    {
     "data": {
      "text/html": [
       "<pre>| 26      | 14m 54s      | 2656.99           | 51.5376               | 1.5625      |</pre>"
      ],
      "text/plain": [
       "| 26      | 14m 54s      | 2656.99           | 51.5376               | 1.5625      |"
      ]
     },
     "metadata": {},
     "output_type": "display_data"
    },
    {
     "data": {
      "text/html": [
       "<pre>| 27      | 15m 29s      | 2651.04           | 51.4798               | 1.5625      |</pre>"
      ],
      "text/plain": [
       "| 27      | 15m 29s      | 2651.04           | 51.4798               | 1.5625      |"
      ]
     },
     "metadata": {},
     "output_type": "display_data"
    },
    {
     "data": {
      "text/html": [
       "<pre>| 28      | 16m 4s       | 2645.45           | 51.4255               | 1.5625      |</pre>"
      ],
      "text/plain": [
       "| 28      | 16m 4s       | 2645.45           | 51.4255               | 1.5625      |"
      ]
     },
     "metadata": {},
     "output_type": "display_data"
    },
    {
     "data": {
      "text/html": [
       "<pre>| 29      | 16m 37s      | 2639.51           | 51.3677               | 1.5625      |</pre>"
      ],
      "text/plain": [
       "| 29      | 16m 37s      | 2639.51           | 51.3677               | 1.5625      |"
      ]
     },
     "metadata": {},
     "output_type": "display_data"
    },
    {
     "data": {
      "text/html": [
       "<pre>| 30      | 17m 11s      | 2633.45           | 51.3086               | 1.5625      |</pre>"
      ],
      "text/plain": [
       "| 30      | 17m 11s      | 2633.45           | 51.3086               | 1.5625      |"
      ]
     },
     "metadata": {},
     "output_type": "display_data"
    },
    {
     "data": {
      "text/html": [
       "<pre>| 31      | 17m 46s      | 2630              | 51.275                | 1.5625      |</pre>"
      ],
      "text/plain": [
       "| 31      | 17m 46s      | 2630              | 51.275                | 1.5625      |"
      ]
     },
     "metadata": {},
     "output_type": "display_data"
    },
    {
     "data": {
      "text/html": [
       "<pre>| 32      | 18m 21s      | 2624.47           | 51.221                | 1.5625      |</pre>"
      ],
      "text/plain": [
       "| 32      | 18m 21s      | 2624.47           | 51.221                | 1.5625      |"
      ]
     },
     "metadata": {},
     "output_type": "display_data"
    },
    {
     "data": {
      "text/html": [
       "<pre>| 33      | 18m 55s      | 2619.29           | 51.1704               | 1.5625      |</pre>"
      ],
      "text/plain": [
       "| 33      | 18m 55s      | 2619.29           | 51.1704               | 1.5625      |"
      ]
     },
     "metadata": {},
     "output_type": "display_data"
    },
    {
     "data": {
      "text/html": [
       "<pre>| 34      | 19m 29s      | 2615.26           | 51.131                | 1.5625      |</pre>"
      ],
      "text/plain": [
       "| 34      | 19m 29s      | 2615.26           | 51.131                | 1.5625      |"
      ]
     },
     "metadata": {},
     "output_type": "display_data"
    },
    {
     "data": {
      "text/html": [
       "<pre>| 35      | 20m 2s       | 2610.98           | 51.0891               | 1.5625      |</pre>"
      ],
      "text/plain": [
       "| 35      | 20m 2s       | 2610.98           | 51.0891               | 1.5625      |"
      ]
     },
     "metadata": {},
     "output_type": "display_data"
    },
    {
     "data": {
      "text/html": [
       "<pre>| 36      | 20m 37s      | 2607.13           | 51.0514               | 1.5625      |</pre>"
      ],
      "text/plain": [
       "| 36      | 20m 37s      | 2607.13           | 51.0514               | 1.5625      |"
      ]
     },
     "metadata": {},
     "output_type": "display_data"
    },
    {
     "data": {
      "text/html": [
       "<pre>| 37      | 21m 12s      | 2603.08           | 51.0117               | 1.5625      |</pre>"
      ],
      "text/plain": [
       "| 37      | 21m 12s      | 2603.08           | 51.0117               | 1.5625      |"
      ]
     },
     "metadata": {},
     "output_type": "display_data"
    },
    {
     "data": {
      "text/html": [
       "<pre>| 38      | 21m 46s      | 2598.78           | 50.9695               | 1.5625      |</pre>"
      ],
      "text/plain": [
       "| 38      | 21m 46s      | 2598.78           | 50.9695               | 1.5625      |"
      ]
     },
     "metadata": {},
     "output_type": "display_data"
    },
    {
     "data": {
      "text/html": [
       "<pre>| 39      | 22m 21s      | 2594.39           | 50.9264               | 1.5625      |</pre>"
      ],
      "text/plain": [
       "| 39      | 22m 21s      | 2594.39           | 50.9264               | 1.5625      |"
      ]
     },
     "metadata": {},
     "output_type": "display_data"
    },
    {
     "data": {
      "text/html": [
       "<pre>| 40      | 22m 55s      | 2591.93           | 50.9023               | 1.5625      |</pre>"
      ],
      "text/plain": [
       "| 40      | 22m 55s      | 2591.93           | 50.9023               | 1.5625      |"
      ]
     },
     "metadata": {},
     "output_type": "display_data"
    },
    {
     "data": {
      "text/html": [
       "<pre>| 41      | 23m 30s      | 2588              | 50.8637               | 1.5625      |</pre>"
      ],
      "text/plain": [
       "| 41      | 23m 30s      | 2588              | 50.8637               | 1.5625      |"
      ]
     },
     "metadata": {},
     "output_type": "display_data"
    },
    {
     "data": {
      "text/html": [
       "<pre>| 42      | 24m 4s       | 2583.67           | 50.821                | 1.5625      |</pre>"
      ],
      "text/plain": [
       "| 42      | 24m 4s       | 2583.67           | 50.821                | 1.5625      |"
      ]
     },
     "metadata": {},
     "output_type": "display_data"
    },
    {
     "data": {
      "text/html": [
       "<pre>| 43      | 24m 38s      | 2580.88           | 50.7936               | 1.5625      |</pre>"
      ],
      "text/plain": [
       "| 43      | 24m 38s      | 2580.88           | 50.7936               | 1.5625      |"
      ]
     },
     "metadata": {},
     "output_type": "display_data"
    },
    {
     "data": {
      "text/html": [
       "<pre>| 44      | 25m 12s      | 2577.23           | 50.7576               | 1.5625      |</pre>"
      ],
      "text/plain": [
       "| 44      | 25m 12s      | 2577.23           | 50.7576               | 1.5625      |"
      ]
     },
     "metadata": {},
     "output_type": "display_data"
    },
    {
     "data": {
      "text/html": [
       "<pre>| 45      | 25m 46s      | 2574.4            | 50.7298               | 1.5625      |</pre>"
      ],
      "text/plain": [
       "| 45      | 25m 46s      | 2574.4            | 50.7298               | 1.5625      |"
      ]
     },
     "metadata": {},
     "output_type": "display_data"
    },
    {
     "data": {
      "text/html": [
       "<pre>| 46      | 26m 22s      | 2571.07           | 50.6969               | 1.5625      |</pre>"
      ],
      "text/plain": [
       "| 46      | 26m 22s      | 2571.07           | 50.6969               | 1.5625      |"
      ]
     },
     "metadata": {},
     "output_type": "display_data"
    },
    {
     "data": {
      "text/html": [
       "<pre>| 47      | 26m 56s      | 2567.67           | 50.6633               | 1.5625      |</pre>"
      ],
      "text/plain": [
       "| 47      | 26m 56s      | 2567.67           | 50.6633               | 1.5625      |"
      ]
     },
     "metadata": {},
     "output_type": "display_data"
    },
    {
     "data": {
      "text/html": [
       "<pre>| 48      | 27m 32s      | 2564.53           | 50.6323               | 1.5625      |</pre>"
      ],
      "text/plain": [
       "| 48      | 27m 32s      | 2564.53           | 50.6323               | 1.5625      |"
      ]
     },
     "metadata": {},
     "output_type": "display_data"
    },
    {
     "data": {
      "text/html": [
       "<pre>| 49      | 28m 6s       | 2561.34           | 50.6009               | 1.5625      |</pre>"
      ],
      "text/plain": [
       "| 49      | 28m 6s       | 2561.34           | 50.6009               | 1.5625      |"
      ]
     },
     "metadata": {},
     "output_type": "display_data"
    },
    {
     "data": {
      "text/html": [
       "<pre>| 50      | 28m 41s      | 2558.32           | 50.5709               | 1.5625      |</pre>"
      ],
      "text/plain": [
       "| 50      | 28m 41s      | 2558.32           | 50.5709               | 1.5625      |"
      ]
     },
     "metadata": {},
     "output_type": "display_data"
    },
    {
     "data": {
      "text/html": [
       "<pre>+---------+--------------+-------------------+-----------------------+-------------+</pre>"
      ],
      "text/plain": [
       "+---------+--------------+-------------------+-----------------------+-------------+"
      ]
     },
     "metadata": {},
     "output_type": "display_data"
    },
    {
     "data": {
      "text/html": [
       "<pre>Optimization Complete: Maximum number of passes through the data reached.</pre>"
      ],
      "text/plain": [
       "Optimization Complete: Maximum number of passes through the data reached."
      ]
     },
     "metadata": {},
     "output_type": "display_data"
    },
    {
     "data": {
      "text/html": [
       "<pre>Computing final objective value and training RMSE.</pre>"
      ],
      "text/plain": [
       "Computing final objective value and training RMSE."
      ]
     },
     "metadata": {},
     "output_type": "display_data"
    },
    {
     "data": {
      "text/html": [
       "<pre>       Final objective value: 2608.23</pre>"
      ],
      "text/plain": [
       "       Final objective value: 2608.23"
      ]
     },
     "metadata": {},
     "output_type": "display_data"
    },
    {
     "data": {
      "text/html": [
       "<pre>       Final training RMSE: 51.062</pre>"
      ],
      "text/plain": [
       "       Final training RMSE: 51.062"
      ]
     },
     "metadata": {},
     "output_type": "display_data"
    }
   ],
   "source": [
    "mf5_model = gl.recommender.factorization_recommender.create(edges_train_sf, user_id='Initial Physician NPI', item_id='Secondary Physician NPI', target='Referrals', user_data=initial_physician_mf5_sf, item_data=secondary_physician_mf5_sf)"
   ]
  },
  {
   "cell_type": "code",
   "execution_count": 188,
   "metadata": {},
   "outputs": [],
   "source": [
    "mf5_model.save('../model/mf5')"
   ]
  },
  {
   "cell_type": "markdown",
   "metadata": {},
   "source": [
    "# MF6: Matrix Factorization with Explicit Data [Referrals 2009-2015Y] and with Side Data [Specialties, Gender, City, State]"
   ]
  },
  {
   "cell_type": "code",
   "execution_count": 216,
   "metadata": {},
   "outputs": [],
   "source": [
    "specialty_url = 'https://s3-us-west-1.amazonaws.com/physician-referral-graph/nucc_taxonomy_180.csv'"
   ]
  },
  {
   "cell_type": "code",
   "execution_count": 217,
   "metadata": {},
   "outputs": [],
   "source": [
    "specialty_cols = ['Code', 'Grouping', 'Classification', 'Specialization']"
   ]
  },
  {
   "cell_type": "code",
   "execution_count": 218,
   "metadata": {},
   "outputs": [],
   "source": [
    "specialty_cols_types = [str, str, str, str]"
   ]
  },
  {
   "cell_type": "code",
   "execution_count": 219,
   "metadata": {},
   "outputs": [
    {
     "data": {
      "text/html": [
       "<pre>Finished parsing file https://s3-us-west-1.amazonaws.com/physician-referral-graph/nucc_taxonomy_180.csv</pre>"
      ],
      "text/plain": [
       "Finished parsing file https://s3-us-west-1.amazonaws.com/physician-referral-graph/nucc_taxonomy_180.csv"
      ]
     },
     "metadata": {},
     "output_type": "display_data"
    },
    {
     "data": {
      "text/html": [
       "<pre>Parsing completed. Parsed 854 lines in 0.012226 secs.</pre>"
      ],
      "text/plain": [
       "Parsing completed. Parsed 854 lines in 0.012226 secs."
      ]
     },
     "metadata": {},
     "output_type": "display_data"
    }
   ],
   "source": [
    "specialty_mf6_sf = gl.SFrame.read_csv(specialty_url, usecols=specialty_cols, column_type_hints=specialty_cols_types)"
   ]
  },
  {
   "cell_type": "code",
   "execution_count": 220,
   "metadata": {
    "collapsed": true
   },
   "outputs": [
    {
     "data": {
      "text/html": [
       "<div style=\"max-height:1000px;max-width:1500px;overflow:auto;\"><table frame=\"box\" rules=\"cols\">\n",
       "    <tr>\n",
       "        <th style=\"padding-left: 1em; padding-right: 1em; text-align: center\">Healthcare Provider<br>Taxonomy Code_1 ...</th>\n",
       "        <th style=\"padding-left: 1em; padding-right: 1em; text-align: center\">Grouping</th>\n",
       "        <th style=\"padding-left: 1em; padding-right: 1em; text-align: center\">Classification</th>\n",
       "        <th style=\"padding-left: 1em; padding-right: 1em; text-align: center\">Specialization</th>\n",
       "    </tr>\n",
       "    <tr>\n",
       "        <td style=\"padding-left: 1em; padding-right: 1em; text-align: center; vertical-align: top\">101Y00000X</td>\n",
       "        <td style=\"padding-left: 1em; padding-right: 1em; text-align: center; vertical-align: top\">Behavioral Health &amp;<br>Social Service Providers ...</td>\n",
       "        <td style=\"padding-left: 1em; padding-right: 1em; text-align: center; vertical-align: top\">Counselor</td>\n",
       "        <td style=\"padding-left: 1em; padding-right: 1em; text-align: center; vertical-align: top\"></td>\n",
       "    </tr>\n",
       "    <tr>\n",
       "        <td style=\"padding-left: 1em; padding-right: 1em; text-align: center; vertical-align: top\">101YA0400X</td>\n",
       "        <td style=\"padding-left: 1em; padding-right: 1em; text-align: center; vertical-align: top\">Behavioral Health &amp;<br>Social Service Providers ...</td>\n",
       "        <td style=\"padding-left: 1em; padding-right: 1em; text-align: center; vertical-align: top\">Counselor</td>\n",
       "        <td style=\"padding-left: 1em; padding-right: 1em; text-align: center; vertical-align: top\">Addiction (Substance Use<br>Disorder) ...</td>\n",
       "    </tr>\n",
       "    <tr>\n",
       "        <td style=\"padding-left: 1em; padding-right: 1em; text-align: center; vertical-align: top\">101YM0800X</td>\n",
       "        <td style=\"padding-left: 1em; padding-right: 1em; text-align: center; vertical-align: top\">Behavioral Health &amp;<br>Social Service Providers ...</td>\n",
       "        <td style=\"padding-left: 1em; padding-right: 1em; text-align: center; vertical-align: top\">Counselor</td>\n",
       "        <td style=\"padding-left: 1em; padding-right: 1em; text-align: center; vertical-align: top\">Mental Health</td>\n",
       "    </tr>\n",
       "    <tr>\n",
       "        <td style=\"padding-left: 1em; padding-right: 1em; text-align: center; vertical-align: top\">101YP1600X</td>\n",
       "        <td style=\"padding-left: 1em; padding-right: 1em; text-align: center; vertical-align: top\">Behavioral Health &amp;<br>Social Service Providers ...</td>\n",
       "        <td style=\"padding-left: 1em; padding-right: 1em; text-align: center; vertical-align: top\">Counselor</td>\n",
       "        <td style=\"padding-left: 1em; padding-right: 1em; text-align: center; vertical-align: top\">Pastoral</td>\n",
       "    </tr>\n",
       "    <tr>\n",
       "        <td style=\"padding-left: 1em; padding-right: 1em; text-align: center; vertical-align: top\">101YP2500X</td>\n",
       "        <td style=\"padding-left: 1em; padding-right: 1em; text-align: center; vertical-align: top\">Behavioral Health &amp;<br>Social Service Providers ...</td>\n",
       "        <td style=\"padding-left: 1em; padding-right: 1em; text-align: center; vertical-align: top\">Counselor</td>\n",
       "        <td style=\"padding-left: 1em; padding-right: 1em; text-align: center; vertical-align: top\">Professional</td>\n",
       "    </tr>\n",
       "    <tr>\n",
       "        <td style=\"padding-left: 1em; padding-right: 1em; text-align: center; vertical-align: top\">101YS0200X</td>\n",
       "        <td style=\"padding-left: 1em; padding-right: 1em; text-align: center; vertical-align: top\">Behavioral Health &amp;<br>Social Service Providers ...</td>\n",
       "        <td style=\"padding-left: 1em; padding-right: 1em; text-align: center; vertical-align: top\">Counselor</td>\n",
       "        <td style=\"padding-left: 1em; padding-right: 1em; text-align: center; vertical-align: top\">School</td>\n",
       "    </tr>\n",
       "    <tr>\n",
       "        <td style=\"padding-left: 1em; padding-right: 1em; text-align: center; vertical-align: top\">102L00000X</td>\n",
       "        <td style=\"padding-left: 1em; padding-right: 1em; text-align: center; vertical-align: top\">Behavioral Health &amp;<br>Social Service Providers ...</td>\n",
       "        <td style=\"padding-left: 1em; padding-right: 1em; text-align: center; vertical-align: top\">Psychoanalyst</td>\n",
       "        <td style=\"padding-left: 1em; padding-right: 1em; text-align: center; vertical-align: top\"></td>\n",
       "    </tr>\n",
       "    <tr>\n",
       "        <td style=\"padding-left: 1em; padding-right: 1em; text-align: center; vertical-align: top\">102X00000X</td>\n",
       "        <td style=\"padding-left: 1em; padding-right: 1em; text-align: center; vertical-align: top\">Behavioral Health &amp;<br>Social Service Providers ...</td>\n",
       "        <td style=\"padding-left: 1em; padding-right: 1em; text-align: center; vertical-align: top\">Poetry Therapist</td>\n",
       "        <td style=\"padding-left: 1em; padding-right: 1em; text-align: center; vertical-align: top\"></td>\n",
       "    </tr>\n",
       "    <tr>\n",
       "        <td style=\"padding-left: 1em; padding-right: 1em; text-align: center; vertical-align: top\">103G00000X</td>\n",
       "        <td style=\"padding-left: 1em; padding-right: 1em; text-align: center; vertical-align: top\">Behavioral Health &amp;<br>Social Service Providers ...</td>\n",
       "        <td style=\"padding-left: 1em; padding-right: 1em; text-align: center; vertical-align: top\">Clinical<br>Neuropsychologist ...</td>\n",
       "        <td style=\"padding-left: 1em; padding-right: 1em; text-align: center; vertical-align: top\"></td>\n",
       "    </tr>\n",
       "    <tr>\n",
       "        <td style=\"padding-left: 1em; padding-right: 1em; text-align: center; vertical-align: top\">103GC0700X</td>\n",
       "        <td style=\"padding-left: 1em; padding-right: 1em; text-align: center; vertical-align: top\">Behavioral Health &amp;<br>Social Service Providers ...</td>\n",
       "        <td style=\"padding-left: 1em; padding-right: 1em; text-align: center; vertical-align: top\">Clinical<br>Neuropsychologist ...</td>\n",
       "        <td style=\"padding-left: 1em; padding-right: 1em; text-align: center; vertical-align: top\">Clinical</td>\n",
       "    </tr>\n",
       "</table>\n",
       "[854 rows x 4 columns]<br/>Note: Only the head of the SFrame is printed.<br/>You can use print_rows(num_rows=m, num_columns=n) to print more rows and columns.\n",
       "</div>"
      ],
      "text/plain": [
       "Columns:\n",
       "\tHealthcare Provider Taxonomy Code_1\tstr\n",
       "\tGrouping\tstr\n",
       "\tClassification\tstr\n",
       "\tSpecialization\tstr\n",
       "\n",
       "Rows: 854\n",
       "\n",
       "Data:\n",
       "+-------------------------------+-------------------------------+\n",
       "| Healthcare Provider Taxono... |            Grouping           |\n",
       "+-------------------------------+-------------------------------+\n",
       "|           101Y00000X          | Behavioral Health & Social... |\n",
       "|           101YA0400X          | Behavioral Health & Social... |\n",
       "|           101YM0800X          | Behavioral Health & Social... |\n",
       "|           101YP1600X          | Behavioral Health & Social... |\n",
       "|           101YP2500X          | Behavioral Health & Social... |\n",
       "|           101YS0200X          | Behavioral Health & Social... |\n",
       "|           102L00000X          | Behavioral Health & Social... |\n",
       "|           102X00000X          | Behavioral Health & Social... |\n",
       "|           103G00000X          | Behavioral Health & Social... |\n",
       "|           103GC0700X          | Behavioral Health & Social... |\n",
       "+-------------------------------+-------------------------------+\n",
       "+----------------------------+-------------------------------+\n",
       "|       Classification       |         Specialization        |\n",
       "+----------------------------+-------------------------------+\n",
       "|         Counselor          |                               |\n",
       "|         Counselor          | Addiction (Substance Use D... |\n",
       "|         Counselor          |         Mental Health         |\n",
       "|         Counselor          |            Pastoral           |\n",
       "|         Counselor          |          Professional         |\n",
       "|         Counselor          |             School            |\n",
       "|       Psychoanalyst        |                               |\n",
       "|      Poetry Therapist      |                               |\n",
       "| Clinical Neuropsychologist |                               |\n",
       "| Clinical Neuropsychologist |            Clinical           |\n",
       "+----------------------------+-------------------------------+\n",
       "[854 rows x 4 columns]\n",
       "Note: Only the head of the SFrame is printed.\n",
       "You can use print_rows(num_rows=m, num_columns=n) to print more rows and columns."
      ]
     },
     "execution_count": 220,
     "metadata": {},
     "output_type": "execute_result"
    }
   ],
   "source": [
    "specialty_mf6_sf.rename({'Code': 'Healthcare Provider Taxonomy Code_1'})"
   ]
  },
  {
   "cell_type": "code",
   "execution_count": 221,
   "metadata": {},
   "outputs": [],
   "source": [
    "physician_url = 'https://s3-us-west-1.amazonaws.com/physician-referral-graph/npidata_pfile_20050523-20180408_withHeader.csv'"
   ]
  },
  {
   "cell_type": "code",
   "execution_count": 222,
   "metadata": {},
   "outputs": [],
   "source": [
    "mf6_physician_cols = ['NPI', 'Provider Business Practice Location Address City Name', 'Provider Business Practice Location Address State Name', 'Provider Gender Code', 'Healthcare Provider Taxonomy Code_1']"
   ]
  },
  {
   "cell_type": "code",
   "execution_count": 223,
   "metadata": {},
   "outputs": [],
   "source": [
    "mf6_physician_cols_types = [int, str, str, str, str]"
   ]
  },
  {
   "cell_type": "code",
   "execution_count": 224,
   "metadata": {
    "collapsed": true
   },
   "outputs": [
    {
     "data": {
      "text/html": [
       "<pre>Read 42797 lines. Lines per second: 55784.3</pre>"
      ],
      "text/plain": [
       "Read 42797 lines. Lines per second: 55784.3"
      ]
     },
     "metadata": {},
     "output_type": "display_data"
    },
    {
     "data": {
      "text/html": [
       "<pre>Unable to parse line \"\"1790778355\",\"2\",\"\",\"<UNAVAIL>\",\"BERNARD J DENNISON JR DDS PA\",\"\",\"\",\"\",\"\",\"\",\"\",\"\",\"\",\"\",\"\",\"\",\"\",\"\",\"\",\"\",\"908 N SANDHILLS BLVD\",\"\",\"ABERDEEN\",\"NC\",\"283152547\",\"US\",\"9109442383\",\"9109449334\",\"908 N SANDHILLS BLVD\",\"\",\"ABERDEEN\",\"NC\",\"283152547\",\"US\",\"910...\"</pre>"
      ],
      "text/plain": [
       "Unable to parse line \"\"1790778355\",\"2\",\"\",\"<UNAVAIL>\",\"BERNARD J DENNISON JR DDS PA\",\"\",\"\",\"\",\"\",\"\",\"\",\"\",\"\",\"\",\"\",\"\",\"\",\"\",\"\",\"\",\"908 N SANDHILLS BLVD\",\"\",\"ABERDEEN\",\"NC\",\"283152547\",\"US\",\"9109442383\",\"9109449334\",\"908 N SANDHILLS BLVD\",\"\",\"ABERDEEN\",\"NC\",\"283152547\",\"US\",\"910...\""
      ]
     },
     "metadata": {},
     "output_type": "display_data"
    },
    {
     "data": {
      "text/html": [
       "<pre>Unable to parse line \"\"1518937598\",\"2\",\"\",\"<UNAVAIL>\",\"ORANGE CITY MUNICIPAL HOSPITAL\",\"\",\"\",\"\",\"\",\"\",\"\",\"ORANGE CITY HOME HEALTH\",\"3\",\"\",\"\",\"\",\"\",\"\",\"\",\"\",\"1000 LINCOLN CIR SE\",\"\",\"ORANGE CITY\",\"IA\",\"510411862\",\"US\",\"7127375279\",\"\",\"400 CENTRAL AVE NW\",\"\\\",\"ORANGE CITY\",\"IA\",\"...\"</pre>"
      ],
      "text/plain": [
       "Unable to parse line \"\"1518937598\",\"2\",\"\",\"<UNAVAIL>\",\"ORANGE CITY MUNICIPAL HOSPITAL\",\"\",\"\",\"\",\"\",\"\",\"\",\"ORANGE CITY HOME HEALTH\",\"3\",\"\",\"\",\"\",\"\",\"\",\"\",\"\",\"1000 LINCOLN CIR SE\",\"\",\"ORANGE CITY\",\"IA\",\"510411862\",\"US\",\"7127375279\",\"\",\"400 CENTRAL AVE NW\",\"\\\",\"ORANGE CITY\",\"IA\",\"...\""
      ]
     },
     "metadata": {},
     "output_type": "display_data"
    },
    {
     "data": {
      "text/html": [
       "<pre>Read 601695 lines. Lines per second: 103391</pre>"
      ],
      "text/plain": [
       "Read 601695 lines. Lines per second: 103391"
      ]
     },
     "metadata": {},
     "output_type": "display_data"
    },
    {
     "data": {
      "text/html": [
       "<pre>Read 1203849 lines. Lines per second: 107646</pre>"
      ],
      "text/plain": [
       "Read 1203849 lines. Lines per second: 107646"
      ]
     },
     "metadata": {},
     "output_type": "display_data"
    },
    {
     "data": {
      "text/html": [
       "<pre>Read 1767586 lines. Lines per second: 109665</pre>"
      ],
      "text/plain": [
       "Read 1767586 lines. Lines per second: 109665"
      ]
     },
     "metadata": {},
     "output_type": "display_data"
    },
    {
     "data": {
      "text/html": [
       "<pre>Read 2333863 lines. Lines per second: 109955</pre>"
      ],
      "text/plain": [
       "Read 2333863 lines. Lines per second: 109955"
      ]
     },
     "metadata": {},
     "output_type": "display_data"
    },
    {
     "data": {
      "text/html": [
       "<pre>Read 2942688 lines. Lines per second: 110647</pre>"
      ],
      "text/plain": [
       "Read 2942688 lines. Lines per second: 110647"
      ]
     },
     "metadata": {},
     "output_type": "display_data"
    },
    {
     "data": {
      "text/html": [
       "<pre>Read 3511438 lines. Lines per second: 110319</pre>"
      ],
      "text/plain": [
       "Read 3511438 lines. Lines per second: 110319"
      ]
     },
     "metadata": {},
     "output_type": "display_data"
    },
    {
     "data": {
      "text/html": [
       "<pre>Read 4082728 lines. Lines per second: 110495</pre>"
      ],
      "text/plain": [
       "Read 4082728 lines. Lines per second: 110495"
      ]
     },
     "metadata": {},
     "output_type": "display_data"
    },
    {
     "data": {
      "text/html": [
       "<pre>Read 4655646 lines. Lines per second: 110640</pre>"
      ],
      "text/plain": [
       "Read 4655646 lines. Lines per second: 110640"
      ]
     },
     "metadata": {},
     "output_type": "display_data"
    },
    {
     "data": {
      "text/html": [
       "<pre>Read 5230447 lines. Lines per second: 111177</pre>"
      ],
      "text/plain": [
       "Read 5230447 lines. Lines per second: 111177"
      ]
     },
     "metadata": {},
     "output_type": "display_data"
    },
    {
     "data": {
      "text/html": [
       "<pre>2 lines failed to parse correctly</pre>"
      ],
      "text/plain": [
       "2 lines failed to parse correctly"
      ]
     },
     "metadata": {},
     "output_type": "display_data"
    },
    {
     "data": {
      "text/html": [
       "<pre>Finished parsing file https://s3-us-west-1.amazonaws.com/physician-referral-graph/npidata_pfile_20050523-20180408_withHeader.csv</pre>"
      ],
      "text/plain": [
       "Finished parsing file https://s3-us-west-1.amazonaws.com/physician-referral-graph/npidata_pfile_20050523-20180408_withHeader.csv"
      ]
     },
     "metadata": {},
     "output_type": "display_data"
    },
    {
     "data": {
      "text/html": [
       "<pre>Parsing completed. Parsed 5546683 lines in 49.4207 secs.</pre>"
      ],
      "text/plain": [
       "Parsing completed. Parsed 5546683 lines in 49.4207 secs."
      ]
     },
     "metadata": {},
     "output_type": "display_data"
    }
   ],
   "source": [
    "physician_mf6_sf = gl.SFrame.read_csv(physician_url, usecols=mf6_physician_cols, column_type_hints=mf6_physician_cols_types)"
   ]
  },
  {
   "cell_type": "code",
   "execution_count": 226,
   "metadata": {},
   "outputs": [],
   "source": [
    "physician_mf6_sf = physician_mf6_sf.join(specialty_mf6_sf, on='Healthcare Provider Taxonomy Code_1', how='left')"
   ]
  },
  {
   "cell_type": "code",
   "execution_count": 227,
   "metadata": {
    "collapsed": true
   },
   "outputs": [
    {
     "data": {
      "text/html": [
       "<div style=\"max-height:1000px;max-width:1500px;overflow:auto;\"><table frame=\"box\" rules=\"cols\">\n",
       "    <tr>\n",
       "        <th style=\"padding-left: 1em; padding-right: 1em; text-align: center\">NPI</th>\n",
       "        <th style=\"padding-left: 1em; padding-right: 1em; text-align: center\">Provider Business<br>Practice Location Add ...</th>\n",
       "        <th style=\"padding-left: 1em; padding-right: 1em; text-align: center\">Provider Business<br>Practice Location Add ...</th>\n",
       "        <th style=\"padding-left: 1em; padding-right: 1em; text-align: center\">Provider Gender Code</th>\n",
       "        <th style=\"padding-left: 1em; padding-right: 1em; text-align: center\">Grouping</th>\n",
       "    </tr>\n",
       "    <tr>\n",
       "        <td style=\"padding-left: 1em; padding-right: 1em; text-align: center; vertical-align: top\">1679576722</td>\n",
       "        <td style=\"padding-left: 1em; padding-right: 1em; text-align: center; vertical-align: top\">KEARNEY</td>\n",
       "        <td style=\"padding-left: 1em; padding-right: 1em; text-align: center; vertical-align: top\">NE</td>\n",
       "        <td style=\"padding-left: 1em; padding-right: 1em; text-align: center; vertical-align: top\">M</td>\n",
       "        <td style=\"padding-left: 1em; padding-right: 1em; text-align: center; vertical-align: top\">Allopathic &amp; Osteopathic<br>Physicians ...</td>\n",
       "    </tr>\n",
       "    <tr>\n",
       "        <td style=\"padding-left: 1em; padding-right: 1em; text-align: center; vertical-align: top\">1588667638</td>\n",
       "        <td style=\"padding-left: 1em; padding-right: 1em; text-align: center; vertical-align: top\">JACKSONVILLE</td>\n",
       "        <td style=\"padding-left: 1em; padding-right: 1em; text-align: center; vertical-align: top\">FL</td>\n",
       "        <td style=\"padding-left: 1em; padding-right: 1em; text-align: center; vertical-align: top\">M</td>\n",
       "        <td style=\"padding-left: 1em; padding-right: 1em; text-align: center; vertical-align: top\">Allopathic &amp; Osteopathic<br>Physicians ...</td>\n",
       "    </tr>\n",
       "    <tr>\n",
       "        <td style=\"padding-left: 1em; padding-right: 1em; text-align: center; vertical-align: top\">1497758544</td>\n",
       "        <td style=\"padding-left: 1em; padding-right: 1em; text-align: center; vertical-align: top\">FAYETTEVILLE</td>\n",
       "        <td style=\"padding-left: 1em; padding-right: 1em; text-align: center; vertical-align: top\">NC</td>\n",
       "        <td style=\"padding-left: 1em; padding-right: 1em; text-align: center; vertical-align: top\"></td>\n",
       "        <td style=\"padding-left: 1em; padding-right: 1em; text-align: center; vertical-align: top\">Agencies</td>\n",
       "    </tr>\n",
       "    <tr>\n",
       "        <td style=\"padding-left: 1em; padding-right: 1em; text-align: center; vertical-align: top\">1306849450</td>\n",
       "        <td style=\"padding-left: 1em; padding-right: 1em; text-align: center; vertical-align: top\">ATHENS</td>\n",
       "        <td style=\"padding-left: 1em; padding-right: 1em; text-align: center; vertical-align: top\">TX</td>\n",
       "        <td style=\"padding-left: 1em; padding-right: 1em; text-align: center; vertical-align: top\">M</td>\n",
       "        <td style=\"padding-left: 1em; padding-right: 1em; text-align: center; vertical-align: top\">Allopathic &amp; Osteopathic<br>Physicians ...</td>\n",
       "    </tr>\n",
       "    <tr>\n",
       "        <td style=\"padding-left: 1em; padding-right: 1em; text-align: center; vertical-align: top\">1215930367</td>\n",
       "        <td style=\"padding-left: 1em; padding-right: 1em; text-align: center; vertical-align: top\">HOUSTON</td>\n",
       "        <td style=\"padding-left: 1em; padding-right: 1em; text-align: center; vertical-align: top\">TX</td>\n",
       "        <td style=\"padding-left: 1em; padding-right: 1em; text-align: center; vertical-align: top\">M</td>\n",
       "        <td style=\"padding-left: 1em; padding-right: 1em; text-align: center; vertical-align: top\">Other Service Providers</td>\n",
       "    </tr>\n",
       "    <tr>\n",
       "        <td style=\"padding-left: 1em; padding-right: 1em; text-align: center; vertical-align: top\">1023011178</td>\n",
       "        <td style=\"padding-left: 1em; padding-right: 1em; text-align: center; vertical-align: top\">NAPA</td>\n",
       "        <td style=\"padding-left: 1em; padding-right: 1em; text-align: center; vertical-align: top\">CA</td>\n",
       "        <td style=\"padding-left: 1em; padding-right: 1em; text-align: center; vertical-align: top\"></td>\n",
       "        <td style=\"padding-left: 1em; padding-right: 1em; text-align: center; vertical-align: top\">Agencies</td>\n",
       "    </tr>\n",
       "    <tr>\n",
       "        <td style=\"padding-left: 1em; padding-right: 1em; text-align: center; vertical-align: top\">1932102084</td>\n",
       "        <td style=\"padding-left: 1em; padding-right: 1em; text-align: center; vertical-align: top\">TOLEDO</td>\n",
       "        <td style=\"padding-left: 1em; padding-right: 1em; text-align: center; vertical-align: top\">OH</td>\n",
       "        <td style=\"padding-left: 1em; padding-right: 1em; text-align: center; vertical-align: top\">M</td>\n",
       "        <td style=\"padding-left: 1em; padding-right: 1em; text-align: center; vertical-align: top\">Allopathic &amp; Osteopathic<br>Physicians ...</td>\n",
       "    </tr>\n",
       "    <tr>\n",
       "        <td style=\"padding-left: 1em; padding-right: 1em; text-align: center; vertical-align: top\">1841293990</td>\n",
       "        <td style=\"padding-left: 1em; padding-right: 1em; text-align: center; vertical-align: top\">NEW YORK</td>\n",
       "        <td style=\"padding-left: 1em; padding-right: 1em; text-align: center; vertical-align: top\">NY</td>\n",
       "        <td style=\"padding-left: 1em; padding-right: 1em; text-align: center; vertical-align: top\">F</td>\n",
       "        <td style=\"padding-left: 1em; padding-right: 1em; text-align: center; vertical-align: top\">Speech, Language and<br>Hearing Service Provi ...</td>\n",
       "    </tr>\n",
       "    <tr>\n",
       "        <td style=\"padding-left: 1em; padding-right: 1em; text-align: center; vertical-align: top\">1750384806</td>\n",
       "        <td style=\"padding-left: 1em; padding-right: 1em; text-align: center; vertical-align: top\">LUBBOCK</td>\n",
       "        <td style=\"padding-left: 1em; padding-right: 1em; text-align: center; vertical-align: top\">TX</td>\n",
       "        <td style=\"padding-left: 1em; padding-right: 1em; text-align: center; vertical-align: top\">M</td>\n",
       "        <td style=\"padding-left: 1em; padding-right: 1em; text-align: center; vertical-align: top\">Allopathic &amp; Osteopathic<br>Physicians ...</td>\n",
       "    </tr>\n",
       "    <tr>\n",
       "        <td style=\"padding-left: 1em; padding-right: 1em; text-align: center; vertical-align: top\">1669475711</td>\n",
       "        <td style=\"padding-left: 1em; padding-right: 1em; text-align: center; vertical-align: top\">SUGAR LAND</td>\n",
       "        <td style=\"padding-left: 1em; padding-right: 1em; text-align: center; vertical-align: top\">TX</td>\n",
       "        <td style=\"padding-left: 1em; padding-right: 1em; text-align: center; vertical-align: top\">F</td>\n",
       "        <td style=\"padding-left: 1em; padding-right: 1em; text-align: center; vertical-align: top\">Allopathic &amp; Osteopathic<br>Physicians ...</td>\n",
       "    </tr>\n",
       "</table>\n",
       "<table frame=\"box\" rules=\"cols\">\n",
       "    <tr>\n",
       "        <th style=\"padding-left: 1em; padding-right: 1em; text-align: center\">Classification</th>\n",
       "        <th style=\"padding-left: 1em; padding-right: 1em; text-align: center\">Specialization</th>\n",
       "    </tr>\n",
       "    <tr>\n",
       "        <td style=\"padding-left: 1em; padding-right: 1em; text-align: center; vertical-align: top\">Orthopaedic Surgery</td>\n",
       "        <td style=\"padding-left: 1em; padding-right: 1em; text-align: center; vertical-align: top\"></td>\n",
       "    </tr>\n",
       "    <tr>\n",
       "        <td style=\"padding-left: 1em; padding-right: 1em; text-align: center; vertical-align: top\">Internal Medicine</td>\n",
       "        <td style=\"padding-left: 1em; padding-right: 1em; text-align: center; vertical-align: top\">Cardiovascular Disease</td>\n",
       "    </tr>\n",
       "    <tr>\n",
       "        <td style=\"padding-left: 1em; padding-right: 1em; text-align: center; vertical-align: top\">Hospice Care, Community<br>Based ...</td>\n",
       "        <td style=\"padding-left: 1em; padding-right: 1em; text-align: center; vertical-align: top\"></td>\n",
       "    </tr>\n",
       "    <tr>\n",
       "        <td style=\"padding-left: 1em; padding-right: 1em; text-align: center; vertical-align: top\">Radiology</td>\n",
       "        <td style=\"padding-left: 1em; padding-right: 1em; text-align: center; vertical-align: top\">Diagnostic Radiology</td>\n",
       "    </tr>\n",
       "    <tr>\n",
       "        <td style=\"padding-left: 1em; padding-right: 1em; text-align: center; vertical-align: top\">Specialist</td>\n",
       "        <td style=\"padding-left: 1em; padding-right: 1em; text-align: center; vertical-align: top\"></td>\n",
       "    </tr>\n",
       "    <tr>\n",
       "        <td style=\"padding-left: 1em; padding-right: 1em; text-align: center; vertical-align: top\">Hospice Care, Community<br>Based ...</td>\n",
       "        <td style=\"padding-left: 1em; padding-right: 1em; text-align: center; vertical-align: top\"></td>\n",
       "    </tr>\n",
       "    <tr>\n",
       "        <td style=\"padding-left: 1em; padding-right: 1em; text-align: center; vertical-align: top\">Internal Medicine</td>\n",
       "        <td style=\"padding-left: 1em; padding-right: 1em; text-align: center; vertical-align: top\">Cardiovascular Disease</td>\n",
       "    </tr>\n",
       "    <tr>\n",
       "        <td style=\"padding-left: 1em; padding-right: 1em; text-align: center; vertical-align: top\">Audiologist</td>\n",
       "        <td style=\"padding-left: 1em; padding-right: 1em; text-align: center; vertical-align: top\"></td>\n",
       "    </tr>\n",
       "    <tr>\n",
       "        <td style=\"padding-left: 1em; padding-right: 1em; text-align: center; vertical-align: top\">Internal Medicine</td>\n",
       "        <td style=\"padding-left: 1em; padding-right: 1em; text-align: center; vertical-align: top\"></td>\n",
       "    </tr>\n",
       "    <tr>\n",
       "        <td style=\"padding-left: 1em; padding-right: 1em; text-align: center; vertical-align: top\">Pediatrics</td>\n",
       "        <td style=\"padding-left: 1em; padding-right: 1em; text-align: center; vertical-align: top\"></td>\n",
       "    </tr>\n",
       "</table>\n",
       "[5546683 rows x 7 columns]<br/>Note: Only the head of the SFrame is printed.<br/>You can use print_rows(num_rows=m, num_columns=n) to print more rows and columns.\n",
       "</div>"
      ],
      "text/plain": [
       "Columns:\n",
       "\tNPI\tint\n",
       "\tProvider Business Practice Location Address City Name\tstr\n",
       "\tProvider Business Practice Location Address State Name\tstr\n",
       "\tProvider Gender Code\tstr\n",
       "\tGrouping\tstr\n",
       "\tClassification\tstr\n",
       "\tSpecialization\tstr\n",
       "\n",
       "Rows: 5546683\n",
       "\n",
       "Data:\n",
       "+------------+-------------------------------+-------------------------------+----------------------+\n",
       "|    NPI     | Provider Business Practice... | Provider Business Practice... | Provider Gender Code |\n",
       "+------------+-------------------------------+-------------------------------+----------------------+\n",
       "| 1679576722 |            KEARNEY            |               NE              |          M           |\n",
       "| 1588667638 |          JACKSONVILLE         |               FL              |          M           |\n",
       "| 1497758544 |          FAYETTEVILLE         |               NC              |                      |\n",
       "| 1306849450 |             ATHENS            |               TX              |          M           |\n",
       "| 1215930367 |            HOUSTON            |               TX              |          M           |\n",
       "| 1023011178 |              NAPA             |               CA              |                      |\n",
       "| 1932102084 |             TOLEDO            |               OH              |          M           |\n",
       "| 1841293990 |            NEW YORK           |               NY              |          F           |\n",
       "| 1750384806 |            LUBBOCK            |               TX              |          M           |\n",
       "| 1669475711 |           SUGAR LAND          |               TX              |          F           |\n",
       "+------------+-------------------------------+-------------------------------+----------------------+\n",
       "+-------------------------------+-------------------------------+\n",
       "|            Grouping           |         Classification        |\n",
       "+-------------------------------+-------------------------------+\n",
       "| Allopathic & Osteopathic P... |      Orthopaedic Surgery      |\n",
       "| Allopathic & Osteopathic P... |       Internal Medicine       |\n",
       "|            Agencies           | Hospice Care, Community Based |\n",
       "| Allopathic & Osteopathic P... |           Radiology           |\n",
       "|    Other Service Providers    |           Specialist          |\n",
       "|            Agencies           | Hospice Care, Community Based |\n",
       "| Allopathic & Osteopathic P... |       Internal Medicine       |\n",
       "| Speech, Language and Heari... |          Audiologist          |\n",
       "| Allopathic & Osteopathic P... |       Internal Medicine       |\n",
       "| Allopathic & Osteopathic P... |           Pediatrics          |\n",
       "+-------------------------------+-------------------------------+\n",
       "+------------------------+\n",
       "|     Specialization     |\n",
       "+------------------------+\n",
       "|                        |\n",
       "| Cardiovascular Disease |\n",
       "|                        |\n",
       "|  Diagnostic Radiology  |\n",
       "|                        |\n",
       "|                        |\n",
       "| Cardiovascular Disease |\n",
       "|                        |\n",
       "|                        |\n",
       "|                        |\n",
       "+------------------------+\n",
       "[5546683 rows x 7 columns]\n",
       "Note: Only the head of the SFrame is printed.\n",
       "You can use print_rows(num_rows=m, num_columns=n) to print more rows and columns."
      ]
     },
     "execution_count": 227,
     "metadata": {},
     "output_type": "execute_result"
    }
   ],
   "source": [
    "physician_mf6_sf.remove_column('Healthcare Provider Taxonomy Code_1')"
   ]
  },
  {
   "cell_type": "code",
   "execution_count": 228,
   "metadata": {
    "collapsed": true
   },
   "outputs": [
    {
     "data": {
      "text/html": [
       "<div style=\"max-height:1000px;max-width:1500px;overflow:auto;\"><table frame=\"box\" rules=\"cols\">\n",
       "    <tr>\n",
       "        <th style=\"padding-left: 1em; padding-right: 1em; text-align: center\">Initial Physician NPI</th>\n",
       "        <th style=\"padding-left: 1em; padding-right: 1em; text-align: center\">Provider Business<br>Practice Location Add ...</th>\n",
       "        <th style=\"padding-left: 1em; padding-right: 1em; text-align: center\">Provider Business<br>Practice Location Add ...</th>\n",
       "        <th style=\"padding-left: 1em; padding-right: 1em; text-align: center\">Provider Gender Code</th>\n",
       "    </tr>\n",
       "    <tr>\n",
       "        <td style=\"padding-left: 1em; padding-right: 1em; text-align: center; vertical-align: top\">1679576722</td>\n",
       "        <td style=\"padding-left: 1em; padding-right: 1em; text-align: center; vertical-align: top\">KEARNEY</td>\n",
       "        <td style=\"padding-left: 1em; padding-right: 1em; text-align: center; vertical-align: top\">NE</td>\n",
       "        <td style=\"padding-left: 1em; padding-right: 1em; text-align: center; vertical-align: top\">M</td>\n",
       "    </tr>\n",
       "    <tr>\n",
       "        <td style=\"padding-left: 1em; padding-right: 1em; text-align: center; vertical-align: top\">1588667638</td>\n",
       "        <td style=\"padding-left: 1em; padding-right: 1em; text-align: center; vertical-align: top\">JACKSONVILLE</td>\n",
       "        <td style=\"padding-left: 1em; padding-right: 1em; text-align: center; vertical-align: top\">FL</td>\n",
       "        <td style=\"padding-left: 1em; padding-right: 1em; text-align: center; vertical-align: top\">M</td>\n",
       "    </tr>\n",
       "    <tr>\n",
       "        <td style=\"padding-left: 1em; padding-right: 1em; text-align: center; vertical-align: top\">1497758544</td>\n",
       "        <td style=\"padding-left: 1em; padding-right: 1em; text-align: center; vertical-align: top\">FAYETTEVILLE</td>\n",
       "        <td style=\"padding-left: 1em; padding-right: 1em; text-align: center; vertical-align: top\">NC</td>\n",
       "        <td style=\"padding-left: 1em; padding-right: 1em; text-align: center; vertical-align: top\"></td>\n",
       "    </tr>\n",
       "    <tr>\n",
       "        <td style=\"padding-left: 1em; padding-right: 1em; text-align: center; vertical-align: top\">1306849450</td>\n",
       "        <td style=\"padding-left: 1em; padding-right: 1em; text-align: center; vertical-align: top\">ATHENS</td>\n",
       "        <td style=\"padding-left: 1em; padding-right: 1em; text-align: center; vertical-align: top\">TX</td>\n",
       "        <td style=\"padding-left: 1em; padding-right: 1em; text-align: center; vertical-align: top\">M</td>\n",
       "    </tr>\n",
       "    <tr>\n",
       "        <td style=\"padding-left: 1em; padding-right: 1em; text-align: center; vertical-align: top\">1215930367</td>\n",
       "        <td style=\"padding-left: 1em; padding-right: 1em; text-align: center; vertical-align: top\">HOUSTON</td>\n",
       "        <td style=\"padding-left: 1em; padding-right: 1em; text-align: center; vertical-align: top\">TX</td>\n",
       "        <td style=\"padding-left: 1em; padding-right: 1em; text-align: center; vertical-align: top\">M</td>\n",
       "    </tr>\n",
       "    <tr>\n",
       "        <td style=\"padding-left: 1em; padding-right: 1em; text-align: center; vertical-align: top\">1023011178</td>\n",
       "        <td style=\"padding-left: 1em; padding-right: 1em; text-align: center; vertical-align: top\">NAPA</td>\n",
       "        <td style=\"padding-left: 1em; padding-right: 1em; text-align: center; vertical-align: top\">CA</td>\n",
       "        <td style=\"padding-left: 1em; padding-right: 1em; text-align: center; vertical-align: top\"></td>\n",
       "    </tr>\n",
       "    <tr>\n",
       "        <td style=\"padding-left: 1em; padding-right: 1em; text-align: center; vertical-align: top\">1932102084</td>\n",
       "        <td style=\"padding-left: 1em; padding-right: 1em; text-align: center; vertical-align: top\">TOLEDO</td>\n",
       "        <td style=\"padding-left: 1em; padding-right: 1em; text-align: center; vertical-align: top\">OH</td>\n",
       "        <td style=\"padding-left: 1em; padding-right: 1em; text-align: center; vertical-align: top\">M</td>\n",
       "    </tr>\n",
       "    <tr>\n",
       "        <td style=\"padding-left: 1em; padding-right: 1em; text-align: center; vertical-align: top\">1841293990</td>\n",
       "        <td style=\"padding-left: 1em; padding-right: 1em; text-align: center; vertical-align: top\">NEW YORK</td>\n",
       "        <td style=\"padding-left: 1em; padding-right: 1em; text-align: center; vertical-align: top\">NY</td>\n",
       "        <td style=\"padding-left: 1em; padding-right: 1em; text-align: center; vertical-align: top\">F</td>\n",
       "    </tr>\n",
       "    <tr>\n",
       "        <td style=\"padding-left: 1em; padding-right: 1em; text-align: center; vertical-align: top\">1750384806</td>\n",
       "        <td style=\"padding-left: 1em; padding-right: 1em; text-align: center; vertical-align: top\">LUBBOCK</td>\n",
       "        <td style=\"padding-left: 1em; padding-right: 1em; text-align: center; vertical-align: top\">TX</td>\n",
       "        <td style=\"padding-left: 1em; padding-right: 1em; text-align: center; vertical-align: top\">M</td>\n",
       "    </tr>\n",
       "    <tr>\n",
       "        <td style=\"padding-left: 1em; padding-right: 1em; text-align: center; vertical-align: top\">1669475711</td>\n",
       "        <td style=\"padding-left: 1em; padding-right: 1em; text-align: center; vertical-align: top\">SUGAR LAND</td>\n",
       "        <td style=\"padding-left: 1em; padding-right: 1em; text-align: center; vertical-align: top\">TX</td>\n",
       "        <td style=\"padding-left: 1em; padding-right: 1em; text-align: center; vertical-align: top\">F</td>\n",
       "    </tr>\n",
       "</table>\n",
       "<table frame=\"box\" rules=\"cols\">\n",
       "    <tr>\n",
       "        <th style=\"padding-left: 1em; padding-right: 1em; text-align: center\">Grouping</th>\n",
       "        <th style=\"padding-left: 1em; padding-right: 1em; text-align: center\">Classification</th>\n",
       "        <th style=\"padding-left: 1em; padding-right: 1em; text-align: center\">Specialization</th>\n",
       "    </tr>\n",
       "    <tr>\n",
       "        <td style=\"padding-left: 1em; padding-right: 1em; text-align: center; vertical-align: top\">Allopathic &amp; Osteopathic<br>Physicians ...</td>\n",
       "        <td style=\"padding-left: 1em; padding-right: 1em; text-align: center; vertical-align: top\">Orthopaedic Surgery</td>\n",
       "        <td style=\"padding-left: 1em; padding-right: 1em; text-align: center; vertical-align: top\"></td>\n",
       "    </tr>\n",
       "    <tr>\n",
       "        <td style=\"padding-left: 1em; padding-right: 1em; text-align: center; vertical-align: top\">Allopathic &amp; Osteopathic<br>Physicians ...</td>\n",
       "        <td style=\"padding-left: 1em; padding-right: 1em; text-align: center; vertical-align: top\">Internal Medicine</td>\n",
       "        <td style=\"padding-left: 1em; padding-right: 1em; text-align: center; vertical-align: top\">Cardiovascular Disease</td>\n",
       "    </tr>\n",
       "    <tr>\n",
       "        <td style=\"padding-left: 1em; padding-right: 1em; text-align: center; vertical-align: top\">Agencies</td>\n",
       "        <td style=\"padding-left: 1em; padding-right: 1em; text-align: center; vertical-align: top\">Hospice Care, Community<br>Based ...</td>\n",
       "        <td style=\"padding-left: 1em; padding-right: 1em; text-align: center; vertical-align: top\"></td>\n",
       "    </tr>\n",
       "    <tr>\n",
       "        <td style=\"padding-left: 1em; padding-right: 1em; text-align: center; vertical-align: top\">Allopathic &amp; Osteopathic<br>Physicians ...</td>\n",
       "        <td style=\"padding-left: 1em; padding-right: 1em; text-align: center; vertical-align: top\">Radiology</td>\n",
       "        <td style=\"padding-left: 1em; padding-right: 1em; text-align: center; vertical-align: top\">Diagnostic Radiology</td>\n",
       "    </tr>\n",
       "    <tr>\n",
       "        <td style=\"padding-left: 1em; padding-right: 1em; text-align: center; vertical-align: top\">Other Service Providers</td>\n",
       "        <td style=\"padding-left: 1em; padding-right: 1em; text-align: center; vertical-align: top\">Specialist</td>\n",
       "        <td style=\"padding-left: 1em; padding-right: 1em; text-align: center; vertical-align: top\"></td>\n",
       "    </tr>\n",
       "    <tr>\n",
       "        <td style=\"padding-left: 1em; padding-right: 1em; text-align: center; vertical-align: top\">Agencies</td>\n",
       "        <td style=\"padding-left: 1em; padding-right: 1em; text-align: center; vertical-align: top\">Hospice Care, Community<br>Based ...</td>\n",
       "        <td style=\"padding-left: 1em; padding-right: 1em; text-align: center; vertical-align: top\"></td>\n",
       "    </tr>\n",
       "    <tr>\n",
       "        <td style=\"padding-left: 1em; padding-right: 1em; text-align: center; vertical-align: top\">Allopathic &amp; Osteopathic<br>Physicians ...</td>\n",
       "        <td style=\"padding-left: 1em; padding-right: 1em; text-align: center; vertical-align: top\">Internal Medicine</td>\n",
       "        <td style=\"padding-left: 1em; padding-right: 1em; text-align: center; vertical-align: top\">Cardiovascular Disease</td>\n",
       "    </tr>\n",
       "    <tr>\n",
       "        <td style=\"padding-left: 1em; padding-right: 1em; text-align: center; vertical-align: top\">Speech, Language and<br>Hearing Service Provi ...</td>\n",
       "        <td style=\"padding-left: 1em; padding-right: 1em; text-align: center; vertical-align: top\">Audiologist</td>\n",
       "        <td style=\"padding-left: 1em; padding-right: 1em; text-align: center; vertical-align: top\"></td>\n",
       "    </tr>\n",
       "    <tr>\n",
       "        <td style=\"padding-left: 1em; padding-right: 1em; text-align: center; vertical-align: top\">Allopathic &amp; Osteopathic<br>Physicians ...</td>\n",
       "        <td style=\"padding-left: 1em; padding-right: 1em; text-align: center; vertical-align: top\">Internal Medicine</td>\n",
       "        <td style=\"padding-left: 1em; padding-right: 1em; text-align: center; vertical-align: top\"></td>\n",
       "    </tr>\n",
       "    <tr>\n",
       "        <td style=\"padding-left: 1em; padding-right: 1em; text-align: center; vertical-align: top\">Allopathic &amp; Osteopathic<br>Physicians ...</td>\n",
       "        <td style=\"padding-left: 1em; padding-right: 1em; text-align: center; vertical-align: top\">Pediatrics</td>\n",
       "        <td style=\"padding-left: 1em; padding-right: 1em; text-align: center; vertical-align: top\"></td>\n",
       "    </tr>\n",
       "</table>\n",
       "[5546683 rows x 7 columns]<br/>Note: Only the head of the SFrame is printed.<br/>You can use print_rows(num_rows=m, num_columns=n) to print more rows and columns.\n",
       "</div>"
      ],
      "text/plain": [
       "Columns:\n",
       "\tInitial Physician NPI\tint\n",
       "\tProvider Business Practice Location Address City Name\tstr\n",
       "\tProvider Business Practice Location Address State Name\tstr\n",
       "\tProvider Gender Code\tstr\n",
       "\tGrouping\tstr\n",
       "\tClassification\tstr\n",
       "\tSpecialization\tstr\n",
       "\n",
       "Rows: 5546683\n",
       "\n",
       "Data:\n",
       "+-----------------------+-------------------------------+-------------------------------+\n",
       "| Initial Physician NPI | Provider Business Practice... | Provider Business Practice... |\n",
       "+-----------------------+-------------------------------+-------------------------------+\n",
       "|       1679576722      |            KEARNEY            |               NE              |\n",
       "|       1588667638      |          JACKSONVILLE         |               FL              |\n",
       "|       1497758544      |          FAYETTEVILLE         |               NC              |\n",
       "|       1306849450      |             ATHENS            |               TX              |\n",
       "|       1215930367      |            HOUSTON            |               TX              |\n",
       "|       1023011178      |              NAPA             |               CA              |\n",
       "|       1932102084      |             TOLEDO            |               OH              |\n",
       "|       1841293990      |            NEW YORK           |               NY              |\n",
       "|       1750384806      |            LUBBOCK            |               TX              |\n",
       "|       1669475711      |           SUGAR LAND          |               TX              |\n",
       "+-----------------------+-------------------------------+-------------------------------+\n",
       "+----------------------+-------------------------------+\n",
       "| Provider Gender Code |            Grouping           |\n",
       "+----------------------+-------------------------------+\n",
       "|          M           | Allopathic & Osteopathic P... |\n",
       "|          M           | Allopathic & Osteopathic P... |\n",
       "|                      |            Agencies           |\n",
       "|          M           | Allopathic & Osteopathic P... |\n",
       "|          M           |    Other Service Providers    |\n",
       "|                      |            Agencies           |\n",
       "|          M           | Allopathic & Osteopathic P... |\n",
       "|          F           | Speech, Language and Heari... |\n",
       "|          M           | Allopathic & Osteopathic P... |\n",
       "|          F           | Allopathic & Osteopathic P... |\n",
       "+----------------------+-------------------------------+\n",
       "+-------------------------------+------------------------+\n",
       "|         Classification        |     Specialization     |\n",
       "+-------------------------------+------------------------+\n",
       "|      Orthopaedic Surgery      |                        |\n",
       "|       Internal Medicine       | Cardiovascular Disease |\n",
       "| Hospice Care, Community Based |                        |\n",
       "|           Radiology           |  Diagnostic Radiology  |\n",
       "|           Specialist          |                        |\n",
       "| Hospice Care, Community Based |                        |\n",
       "|       Internal Medicine       | Cardiovascular Disease |\n",
       "|          Audiologist          |                        |\n",
       "|       Internal Medicine       |                        |\n",
       "|           Pediatrics          |                        |\n",
       "+-------------------------------+------------------------+\n",
       "[5546683 rows x 7 columns]\n",
       "Note: Only the head of the SFrame is printed.\n",
       "You can use print_rows(num_rows=m, num_columns=n) to print more rows and columns."
      ]
     },
     "execution_count": 228,
     "metadata": {},
     "output_type": "execute_result"
    }
   ],
   "source": [
    "initial_physician_mf6_sf = gl.SFrame(physician_mf6_sf)\n",
    "initial_physician_mf6_sf.rename({'NPI': 'Initial Physician NPI'})"
   ]
  },
  {
   "cell_type": "code",
   "execution_count": 229,
   "metadata": {
    "collapsed": true
   },
   "outputs": [
    {
     "data": {
      "text/html": [
       "<div style=\"max-height:1000px;max-width:1500px;overflow:auto;\"><table frame=\"box\" rules=\"cols\">\n",
       "    <tr>\n",
       "        <th style=\"padding-left: 1em; padding-right: 1em; text-align: center\">Secondary Physician NPI</th>\n",
       "        <th style=\"padding-left: 1em; padding-right: 1em; text-align: center\">Provider Business<br>Practice Location Add ...</th>\n",
       "        <th style=\"padding-left: 1em; padding-right: 1em; text-align: center\">Provider Business<br>Practice Location Add ...</th>\n",
       "        <th style=\"padding-left: 1em; padding-right: 1em; text-align: center\">Provider Gender Code</th>\n",
       "    </tr>\n",
       "    <tr>\n",
       "        <td style=\"padding-left: 1em; padding-right: 1em; text-align: center; vertical-align: top\">1679576722</td>\n",
       "        <td style=\"padding-left: 1em; padding-right: 1em; text-align: center; vertical-align: top\">KEARNEY</td>\n",
       "        <td style=\"padding-left: 1em; padding-right: 1em; text-align: center; vertical-align: top\">NE</td>\n",
       "        <td style=\"padding-left: 1em; padding-right: 1em; text-align: center; vertical-align: top\">M</td>\n",
       "    </tr>\n",
       "    <tr>\n",
       "        <td style=\"padding-left: 1em; padding-right: 1em; text-align: center; vertical-align: top\">1588667638</td>\n",
       "        <td style=\"padding-left: 1em; padding-right: 1em; text-align: center; vertical-align: top\">JACKSONVILLE</td>\n",
       "        <td style=\"padding-left: 1em; padding-right: 1em; text-align: center; vertical-align: top\">FL</td>\n",
       "        <td style=\"padding-left: 1em; padding-right: 1em; text-align: center; vertical-align: top\">M</td>\n",
       "    </tr>\n",
       "    <tr>\n",
       "        <td style=\"padding-left: 1em; padding-right: 1em; text-align: center; vertical-align: top\">1497758544</td>\n",
       "        <td style=\"padding-left: 1em; padding-right: 1em; text-align: center; vertical-align: top\">FAYETTEVILLE</td>\n",
       "        <td style=\"padding-left: 1em; padding-right: 1em; text-align: center; vertical-align: top\">NC</td>\n",
       "        <td style=\"padding-left: 1em; padding-right: 1em; text-align: center; vertical-align: top\"></td>\n",
       "    </tr>\n",
       "    <tr>\n",
       "        <td style=\"padding-left: 1em; padding-right: 1em; text-align: center; vertical-align: top\">1306849450</td>\n",
       "        <td style=\"padding-left: 1em; padding-right: 1em; text-align: center; vertical-align: top\">ATHENS</td>\n",
       "        <td style=\"padding-left: 1em; padding-right: 1em; text-align: center; vertical-align: top\">TX</td>\n",
       "        <td style=\"padding-left: 1em; padding-right: 1em; text-align: center; vertical-align: top\">M</td>\n",
       "    </tr>\n",
       "    <tr>\n",
       "        <td style=\"padding-left: 1em; padding-right: 1em; text-align: center; vertical-align: top\">1215930367</td>\n",
       "        <td style=\"padding-left: 1em; padding-right: 1em; text-align: center; vertical-align: top\">HOUSTON</td>\n",
       "        <td style=\"padding-left: 1em; padding-right: 1em; text-align: center; vertical-align: top\">TX</td>\n",
       "        <td style=\"padding-left: 1em; padding-right: 1em; text-align: center; vertical-align: top\">M</td>\n",
       "    </tr>\n",
       "    <tr>\n",
       "        <td style=\"padding-left: 1em; padding-right: 1em; text-align: center; vertical-align: top\">1023011178</td>\n",
       "        <td style=\"padding-left: 1em; padding-right: 1em; text-align: center; vertical-align: top\">NAPA</td>\n",
       "        <td style=\"padding-left: 1em; padding-right: 1em; text-align: center; vertical-align: top\">CA</td>\n",
       "        <td style=\"padding-left: 1em; padding-right: 1em; text-align: center; vertical-align: top\"></td>\n",
       "    </tr>\n",
       "    <tr>\n",
       "        <td style=\"padding-left: 1em; padding-right: 1em; text-align: center; vertical-align: top\">1932102084</td>\n",
       "        <td style=\"padding-left: 1em; padding-right: 1em; text-align: center; vertical-align: top\">TOLEDO</td>\n",
       "        <td style=\"padding-left: 1em; padding-right: 1em; text-align: center; vertical-align: top\">OH</td>\n",
       "        <td style=\"padding-left: 1em; padding-right: 1em; text-align: center; vertical-align: top\">M</td>\n",
       "    </tr>\n",
       "    <tr>\n",
       "        <td style=\"padding-left: 1em; padding-right: 1em; text-align: center; vertical-align: top\">1841293990</td>\n",
       "        <td style=\"padding-left: 1em; padding-right: 1em; text-align: center; vertical-align: top\">NEW YORK</td>\n",
       "        <td style=\"padding-left: 1em; padding-right: 1em; text-align: center; vertical-align: top\">NY</td>\n",
       "        <td style=\"padding-left: 1em; padding-right: 1em; text-align: center; vertical-align: top\">F</td>\n",
       "    </tr>\n",
       "    <tr>\n",
       "        <td style=\"padding-left: 1em; padding-right: 1em; text-align: center; vertical-align: top\">1750384806</td>\n",
       "        <td style=\"padding-left: 1em; padding-right: 1em; text-align: center; vertical-align: top\">LUBBOCK</td>\n",
       "        <td style=\"padding-left: 1em; padding-right: 1em; text-align: center; vertical-align: top\">TX</td>\n",
       "        <td style=\"padding-left: 1em; padding-right: 1em; text-align: center; vertical-align: top\">M</td>\n",
       "    </tr>\n",
       "    <tr>\n",
       "        <td style=\"padding-left: 1em; padding-right: 1em; text-align: center; vertical-align: top\">1669475711</td>\n",
       "        <td style=\"padding-left: 1em; padding-right: 1em; text-align: center; vertical-align: top\">SUGAR LAND</td>\n",
       "        <td style=\"padding-left: 1em; padding-right: 1em; text-align: center; vertical-align: top\">TX</td>\n",
       "        <td style=\"padding-left: 1em; padding-right: 1em; text-align: center; vertical-align: top\">F</td>\n",
       "    </tr>\n",
       "</table>\n",
       "<table frame=\"box\" rules=\"cols\">\n",
       "    <tr>\n",
       "        <th style=\"padding-left: 1em; padding-right: 1em; text-align: center\">Grouping</th>\n",
       "        <th style=\"padding-left: 1em; padding-right: 1em; text-align: center\">Classification</th>\n",
       "        <th style=\"padding-left: 1em; padding-right: 1em; text-align: center\">Specialization</th>\n",
       "    </tr>\n",
       "    <tr>\n",
       "        <td style=\"padding-left: 1em; padding-right: 1em; text-align: center; vertical-align: top\">Allopathic &amp; Osteopathic<br>Physicians ...</td>\n",
       "        <td style=\"padding-left: 1em; padding-right: 1em; text-align: center; vertical-align: top\">Orthopaedic Surgery</td>\n",
       "        <td style=\"padding-left: 1em; padding-right: 1em; text-align: center; vertical-align: top\"></td>\n",
       "    </tr>\n",
       "    <tr>\n",
       "        <td style=\"padding-left: 1em; padding-right: 1em; text-align: center; vertical-align: top\">Allopathic &amp; Osteopathic<br>Physicians ...</td>\n",
       "        <td style=\"padding-left: 1em; padding-right: 1em; text-align: center; vertical-align: top\">Internal Medicine</td>\n",
       "        <td style=\"padding-left: 1em; padding-right: 1em; text-align: center; vertical-align: top\">Cardiovascular Disease</td>\n",
       "    </tr>\n",
       "    <tr>\n",
       "        <td style=\"padding-left: 1em; padding-right: 1em; text-align: center; vertical-align: top\">Agencies</td>\n",
       "        <td style=\"padding-left: 1em; padding-right: 1em; text-align: center; vertical-align: top\">Hospice Care, Community<br>Based ...</td>\n",
       "        <td style=\"padding-left: 1em; padding-right: 1em; text-align: center; vertical-align: top\"></td>\n",
       "    </tr>\n",
       "    <tr>\n",
       "        <td style=\"padding-left: 1em; padding-right: 1em; text-align: center; vertical-align: top\">Allopathic &amp; Osteopathic<br>Physicians ...</td>\n",
       "        <td style=\"padding-left: 1em; padding-right: 1em; text-align: center; vertical-align: top\">Radiology</td>\n",
       "        <td style=\"padding-left: 1em; padding-right: 1em; text-align: center; vertical-align: top\">Diagnostic Radiology</td>\n",
       "    </tr>\n",
       "    <tr>\n",
       "        <td style=\"padding-left: 1em; padding-right: 1em; text-align: center; vertical-align: top\">Other Service Providers</td>\n",
       "        <td style=\"padding-left: 1em; padding-right: 1em; text-align: center; vertical-align: top\">Specialist</td>\n",
       "        <td style=\"padding-left: 1em; padding-right: 1em; text-align: center; vertical-align: top\"></td>\n",
       "    </tr>\n",
       "    <tr>\n",
       "        <td style=\"padding-left: 1em; padding-right: 1em; text-align: center; vertical-align: top\">Agencies</td>\n",
       "        <td style=\"padding-left: 1em; padding-right: 1em; text-align: center; vertical-align: top\">Hospice Care, Community<br>Based ...</td>\n",
       "        <td style=\"padding-left: 1em; padding-right: 1em; text-align: center; vertical-align: top\"></td>\n",
       "    </tr>\n",
       "    <tr>\n",
       "        <td style=\"padding-left: 1em; padding-right: 1em; text-align: center; vertical-align: top\">Allopathic &amp; Osteopathic<br>Physicians ...</td>\n",
       "        <td style=\"padding-left: 1em; padding-right: 1em; text-align: center; vertical-align: top\">Internal Medicine</td>\n",
       "        <td style=\"padding-left: 1em; padding-right: 1em; text-align: center; vertical-align: top\">Cardiovascular Disease</td>\n",
       "    </tr>\n",
       "    <tr>\n",
       "        <td style=\"padding-left: 1em; padding-right: 1em; text-align: center; vertical-align: top\">Speech, Language and<br>Hearing Service Provi ...</td>\n",
       "        <td style=\"padding-left: 1em; padding-right: 1em; text-align: center; vertical-align: top\">Audiologist</td>\n",
       "        <td style=\"padding-left: 1em; padding-right: 1em; text-align: center; vertical-align: top\"></td>\n",
       "    </tr>\n",
       "    <tr>\n",
       "        <td style=\"padding-left: 1em; padding-right: 1em; text-align: center; vertical-align: top\">Allopathic &amp; Osteopathic<br>Physicians ...</td>\n",
       "        <td style=\"padding-left: 1em; padding-right: 1em; text-align: center; vertical-align: top\">Internal Medicine</td>\n",
       "        <td style=\"padding-left: 1em; padding-right: 1em; text-align: center; vertical-align: top\"></td>\n",
       "    </tr>\n",
       "    <tr>\n",
       "        <td style=\"padding-left: 1em; padding-right: 1em; text-align: center; vertical-align: top\">Allopathic &amp; Osteopathic<br>Physicians ...</td>\n",
       "        <td style=\"padding-left: 1em; padding-right: 1em; text-align: center; vertical-align: top\">Pediatrics</td>\n",
       "        <td style=\"padding-left: 1em; padding-right: 1em; text-align: center; vertical-align: top\"></td>\n",
       "    </tr>\n",
       "</table>\n",
       "[5546683 rows x 7 columns]<br/>Note: Only the head of the SFrame is printed.<br/>You can use print_rows(num_rows=m, num_columns=n) to print more rows and columns.\n",
       "</div>"
      ],
      "text/plain": [
       "Columns:\n",
       "\tSecondary Physician NPI\tint\n",
       "\tProvider Business Practice Location Address City Name\tstr\n",
       "\tProvider Business Practice Location Address State Name\tstr\n",
       "\tProvider Gender Code\tstr\n",
       "\tGrouping\tstr\n",
       "\tClassification\tstr\n",
       "\tSpecialization\tstr\n",
       "\n",
       "Rows: 5546683\n",
       "\n",
       "Data:\n",
       "+-------------------------+-------------------------------+-------------------------------+\n",
       "| Secondary Physician NPI | Provider Business Practice... | Provider Business Practice... |\n",
       "+-------------------------+-------------------------------+-------------------------------+\n",
       "|        1679576722       |            KEARNEY            |               NE              |\n",
       "|        1588667638       |          JACKSONVILLE         |               FL              |\n",
       "|        1497758544       |          FAYETTEVILLE         |               NC              |\n",
       "|        1306849450       |             ATHENS            |               TX              |\n",
       "|        1215930367       |            HOUSTON            |               TX              |\n",
       "|        1023011178       |              NAPA             |               CA              |\n",
       "|        1932102084       |             TOLEDO            |               OH              |\n",
       "|        1841293990       |            NEW YORK           |               NY              |\n",
       "|        1750384806       |            LUBBOCK            |               TX              |\n",
       "|        1669475711       |           SUGAR LAND          |               TX              |\n",
       "+-------------------------+-------------------------------+-------------------------------+\n",
       "+----------------------+-------------------------------+\n",
       "| Provider Gender Code |            Grouping           |\n",
       "+----------------------+-------------------------------+\n",
       "|          M           | Allopathic & Osteopathic P... |\n",
       "|          M           | Allopathic & Osteopathic P... |\n",
       "|                      |            Agencies           |\n",
       "|          M           | Allopathic & Osteopathic P... |\n",
       "|          M           |    Other Service Providers    |\n",
       "|                      |            Agencies           |\n",
       "|          M           | Allopathic & Osteopathic P... |\n",
       "|          F           | Speech, Language and Heari... |\n",
       "|          M           | Allopathic & Osteopathic P... |\n",
       "|          F           | Allopathic & Osteopathic P... |\n",
       "+----------------------+-------------------------------+\n",
       "+-------------------------------+------------------------+\n",
       "|         Classification        |     Specialization     |\n",
       "+-------------------------------+------------------------+\n",
       "|      Orthopaedic Surgery      |                        |\n",
       "|       Internal Medicine       | Cardiovascular Disease |\n",
       "| Hospice Care, Community Based |                        |\n",
       "|           Radiology           |  Diagnostic Radiology  |\n",
       "|           Specialist          |                        |\n",
       "| Hospice Care, Community Based |                        |\n",
       "|       Internal Medicine       | Cardiovascular Disease |\n",
       "|          Audiologist          |                        |\n",
       "|       Internal Medicine       |                        |\n",
       "|           Pediatrics          |                        |\n",
       "+-------------------------------+------------------------+\n",
       "[5546683 rows x 7 columns]\n",
       "Note: Only the head of the SFrame is printed.\n",
       "You can use print_rows(num_rows=m, num_columns=n) to print more rows and columns."
      ]
     },
     "execution_count": 229,
     "metadata": {},
     "output_type": "execute_result"
    }
   ],
   "source": [
    "secondary_physician_mf6_sf = gl.SFrame(physician_mf6_sf)\n",
    "secondary_physician_mf6_sf.rename({'NPI': 'Secondary Physician NPI'})"
   ]
  },
  {
   "cell_type": "code",
   "execution_count": 230,
   "metadata": {},
   "outputs": [
    {
     "data": {
      "text/html": [
       "<pre>Recsys training: model = factorization_recommender</pre>"
      ],
      "text/plain": [
       "Recsys training: model = factorization_recommender"
      ]
     },
     "metadata": {},
     "output_type": "display_data"
    },
    {
     "data": {
      "text/html": [
       "<pre>Preparing data set.</pre>"
      ],
      "text/plain": [
       "Preparing data set."
      ]
     },
     "metadata": {},
     "output_type": "display_data"
    },
    {
     "data": {
      "text/html": [
       "<pre>    Data has 250023652 observations with 5547086 users and 5547081 items.</pre>"
      ],
      "text/plain": [
       "    Data has 250023652 observations with 5547086 users and 5547081 items."
      ]
     },
     "metadata": {},
     "output_type": "display_data"
    },
    {
     "data": {
      "text/html": [
       "<pre>    Data prepared in: 134.11s</pre>"
      ],
      "text/plain": [
       "    Data prepared in: 134.11s"
      ]
     },
     "metadata": {},
     "output_type": "display_data"
    },
    {
     "data": {
      "text/html": [
       "<pre>Training factorization_recommender for recommendations.</pre>"
      ],
      "text/plain": [
       "Training factorization_recommender for recommendations."
      ]
     },
     "metadata": {},
     "output_type": "display_data"
    },
    {
     "data": {
      "text/html": [
       "<pre>+--------------------------------+--------------------------------------------------+----------+</pre>"
      ],
      "text/plain": [
       "+--------------------------------+--------------------------------------------------+----------+"
      ]
     },
     "metadata": {},
     "output_type": "display_data"
    },
    {
     "data": {
      "text/html": [
       "<pre>| Parameter                      | Description                                      | Value    |</pre>"
      ],
      "text/plain": [
       "| Parameter                      | Description                                      | Value    |"
      ]
     },
     "metadata": {},
     "output_type": "display_data"
    },
    {
     "data": {
      "text/html": [
       "<pre>+--------------------------------+--------------------------------------------------+----------+</pre>"
      ],
      "text/plain": [
       "+--------------------------------+--------------------------------------------------+----------+"
      ]
     },
     "metadata": {},
     "output_type": "display_data"
    },
    {
     "data": {
      "text/html": [
       "<pre>| num_factors                    | Factor Dimension                                 | 8        |</pre>"
      ],
      "text/plain": [
       "| num_factors                    | Factor Dimension                                 | 8        |"
      ]
     },
     "metadata": {},
     "output_type": "display_data"
    },
    {
     "data": {
      "text/html": [
       "<pre>| regularization                 | L2 Regularization on Factors                     | 1e-08    |</pre>"
      ],
      "text/plain": [
       "| regularization                 | L2 Regularization on Factors                     | 1e-08    |"
      ]
     },
     "metadata": {},
     "output_type": "display_data"
    },
    {
     "data": {
      "text/html": [
       "<pre>| solver                         | Solver used for training                         | adagrad  |</pre>"
      ],
      "text/plain": [
       "| solver                         | Solver used for training                         | adagrad  |"
      ]
     },
     "metadata": {},
     "output_type": "display_data"
    },
    {
     "data": {
      "text/html": [
       "<pre>| linear_regularization          | L2 Regularization on Linear Coefficients         | 1e-10    |</pre>"
      ],
      "text/plain": [
       "| linear_regularization          | L2 Regularization on Linear Coefficients         | 1e-10    |"
      ]
     },
     "metadata": {},
     "output_type": "display_data"
    },
    {
     "data": {
      "text/html": [
       "<pre>| side_data_factorization        | Assign Factors for Side Data                     | True     |</pre>"
      ],
      "text/plain": [
       "| side_data_factorization        | Assign Factors for Side Data                     | True     |"
      ]
     },
     "metadata": {},
     "output_type": "display_data"
    },
    {
     "data": {
      "text/html": [
       "<pre>| max_iterations                 | Maximum Number of Iterations                     | 50       |</pre>"
      ],
      "text/plain": [
       "| max_iterations                 | Maximum Number of Iterations                     | 50       |"
      ]
     },
     "metadata": {},
     "output_type": "display_data"
    },
    {
     "data": {
      "text/html": [
       "<pre>+--------------------------------+--------------------------------------------------+----------+</pre>"
      ],
      "text/plain": [
       "+--------------------------------+--------------------------------------------------+----------+"
      ]
     },
     "metadata": {},
     "output_type": "display_data"
    },
    {
     "data": {
      "text/html": [
       "<pre>  Optimizing model using SGD; tuning step size.</pre>"
      ],
      "text/plain": [
       "  Optimizing model using SGD; tuning step size."
      ]
     },
     "metadata": {},
     "output_type": "display_data"
    },
    {
     "data": {
      "text/html": [
       "<pre>  Using 31252956 / 250023652 points for tuning the step size.</pre>"
      ],
      "text/plain": [
       "  Using 31252956 / 250023652 points for tuning the step size."
      ]
     },
     "metadata": {},
     "output_type": "display_data"
    },
    {
     "data": {
      "text/html": [
       "<pre>+---------+-------------------+------------------------------------------+</pre>"
      ],
      "text/plain": [
       "+---------+-------------------+------------------------------------------+"
      ]
     },
     "metadata": {},
     "output_type": "display_data"
    },
    {
     "data": {
      "text/html": [
       "<pre>| Attempt | Initial Step Size | Estimated Objective Value                |</pre>"
      ],
      "text/plain": [
       "| Attempt | Initial Step Size | Estimated Objective Value                |"
      ]
     },
     "metadata": {},
     "output_type": "display_data"
    },
    {
     "data": {
      "text/html": [
       "<pre>+---------+-------------------+------------------------------------------+</pre>"
      ],
      "text/plain": [
       "+---------+-------------------+------------------------------------------+"
      ]
     },
     "metadata": {},
     "output_type": "display_data"
    },
    {
     "data": {
      "text/html": [
       "<pre>| 0       | 3.57143           | 3168.09                                  |</pre>"
      ],
      "text/plain": [
       "| 0       | 3.57143           | 3168.09                                  |"
      ]
     },
     "metadata": {},
     "output_type": "display_data"
    },
    {
     "data": {
      "text/html": [
       "<pre>| 1       | 1.78571           | 3004.67                                  |</pre>"
      ],
      "text/plain": [
       "| 1       | 1.78571           | 3004.67                                  |"
      ]
     },
     "metadata": {},
     "output_type": "display_data"
    },
    {
     "data": {
      "text/html": [
       "<pre>| 2       | 0.892857          | 3290.45                                  |</pre>"
      ],
      "text/plain": [
       "| 2       | 0.892857          | 3290.45                                  |"
      ]
     },
     "metadata": {},
     "output_type": "display_data"
    },
    {
     "data": {
      "text/html": [
       "<pre>| 3       | 0.446429          | 3746.08                                  |</pre>"
      ],
      "text/plain": [
       "| 3       | 0.446429          | 3746.08                                  |"
      ]
     },
     "metadata": {},
     "output_type": "display_data"
    },
    {
     "data": {
      "text/html": [
       "<pre>| 4       | 0.223214          | 4118.16                                  |</pre>"
      ],
      "text/plain": [
       "| 4       | 0.223214          | 4118.16                                  |"
      ]
     },
     "metadata": {},
     "output_type": "display_data"
    },
    {
     "data": {
      "text/html": [
       "<pre>+---------+-------------------+------------------------------------------+</pre>"
      ],
      "text/plain": [
       "+---------+-------------------+------------------------------------------+"
      ]
     },
     "metadata": {},
     "output_type": "display_data"
    },
    {
     "data": {
      "text/html": [
       "<pre>| Final   | 1.78571           | 3004.67                                  |</pre>"
      ],
      "text/plain": [
       "| Final   | 1.78571           | 3004.67                                  |"
      ]
     },
     "metadata": {},
     "output_type": "display_data"
    },
    {
     "data": {
      "text/html": [
       "<pre>+---------+-------------------+------------------------------------------+</pre>"
      ],
      "text/plain": [
       "+---------+-------------------+------------------------------------------+"
      ]
     },
     "metadata": {},
     "output_type": "display_data"
    },
    {
     "data": {
      "text/html": [
       "<pre>Starting Optimization.</pre>"
      ],
      "text/plain": [
       "Starting Optimization."
      ]
     },
     "metadata": {},
     "output_type": "display_data"
    },
    {
     "data": {
      "text/html": [
       "<pre>+---------+--------------+-------------------+-----------------------+-------------+</pre>"
      ],
      "text/plain": [
       "+---------+--------------+-------------------+-----------------------+-------------+"
      ]
     },
     "metadata": {},
     "output_type": "display_data"
    },
    {
     "data": {
      "text/html": [
       "<pre>| Iter.   | Elapsed Time | Approx. Objective | Approx. Training RMSE | Step Size   |</pre>"
      ],
      "text/plain": [
       "| Iter.   | Elapsed Time | Approx. Objective | Approx. Training RMSE | Step Size   |"
      ]
     },
     "metadata": {},
     "output_type": "display_data"
    },
    {
     "data": {
      "text/html": [
       "<pre>+---------+--------------+-------------------+-----------------------+-------------+</pre>"
      ],
      "text/plain": [
       "+---------+--------------+-------------------+-----------------------+-------------+"
      ]
     },
     "metadata": {},
     "output_type": "display_data"
    },
    {
     "data": {
      "text/html": [
       "<pre>| Initial | 115us        | 5131.58           | 71.635                |             |</pre>"
      ],
      "text/plain": [
       "| Initial | 115us        | 5131.58           | 71.635                |             |"
      ]
     },
     "metadata": {},
     "output_type": "display_data"
    },
    {
     "data": {
      "text/html": [
       "<pre>+---------+--------------+-------------------+-----------------------+-------------+</pre>"
      ],
      "text/plain": [
       "+---------+--------------+-------------------+-----------------------+-------------+"
      ]
     },
     "metadata": {},
     "output_type": "display_data"
    },
    {
     "data": {
      "text/html": [
       "<pre>| 1       | 51.34s       | 4060.48           | 63.7209               | 1.78571     |</pre>"
      ],
      "text/plain": [
       "| 1       | 51.34s       | 4060.48           | 63.7209               | 1.78571     |"
      ]
     },
     "metadata": {},
     "output_type": "display_data"
    },
    {
     "data": {
      "text/html": [
       "<pre>| 2       | 1m 42s       | 3926.8            | 62.6614               | 1.78571     |</pre>"
      ],
      "text/plain": [
       "| 2       | 1m 42s       | 3926.8            | 62.6614               | 1.78571     |"
      ]
     },
     "metadata": {},
     "output_type": "display_data"
    },
    {
     "data": {
      "text/html": [
       "<pre>| 3       | 2m 33s       | 3467.06           | 58.8778               | 1.78571     |</pre>"
      ],
      "text/plain": [
       "| 3       | 2m 33s       | 3467.06           | 58.8778               | 1.78571     |"
      ]
     },
     "metadata": {},
     "output_type": "display_data"
    },
    {
     "data": {
      "text/html": [
       "<pre>| 4       | 3m 24s       | 3250.35           | 57.0072               | 1.78571     |</pre>"
      ],
      "text/plain": [
       "| 4       | 3m 24s       | 3250.35           | 57.0072               | 1.78571     |"
      ]
     },
     "metadata": {},
     "output_type": "display_data"
    },
    {
     "data": {
      "text/html": [
       "<pre>| 5       | 4m 15s       | 3119.83           | 55.8504               | 1.78571     |</pre>"
      ],
      "text/plain": [
       "| 5       | 4m 15s       | 3119.83           | 55.8504               | 1.78571     |"
      ]
     },
     "metadata": {},
     "output_type": "display_data"
    },
    {
     "data": {
      "text/html": [
       "<pre>| 6       | 5m 6s        | 3033.32           | 55.0702               | 1.78571     |</pre>"
      ],
      "text/plain": [
       "| 6       | 5m 6s        | 3033.32           | 55.0702               | 1.78571     |"
      ]
     },
     "metadata": {},
     "output_type": "display_data"
    },
    {
     "data": {
      "text/html": [
       "<pre>| 7       | 5m 58s       | 2970.55           | 54.4971               | 1.78571     |</pre>"
      ],
      "text/plain": [
       "| 7       | 5m 58s       | 2970.55           | 54.4971               | 1.78571     |"
      ]
     },
     "metadata": {},
     "output_type": "display_data"
    },
    {
     "data": {
      "text/html": [
       "<pre>| 8       | 6m 49s       | 2924.86           | 54.0761               | 1.78571     |</pre>"
      ],
      "text/plain": [
       "| 8       | 6m 49s       | 2924.86           | 54.0761               | 1.78571     |"
      ]
     },
     "metadata": {},
     "output_type": "display_data"
    },
    {
     "data": {
      "text/html": [
       "<pre>| 9       | 7m 40s       | 2887.87           | 53.7328               | 1.78571     |</pre>"
      ],
      "text/plain": [
       "| 9       | 7m 40s       | 2887.87           | 53.7328               | 1.78571     |"
      ]
     },
     "metadata": {},
     "output_type": "display_data"
    },
    {
     "data": {
      "text/html": [
       "<pre>| 10      | 8m 31s       | 2856.64           | 53.4414               | 1.78571     |</pre>"
      ],
      "text/plain": [
       "| 10      | 8m 31s       | 2856.64           | 53.4414               | 1.78571     |"
      ]
     },
     "metadata": {},
     "output_type": "display_data"
    },
    {
     "data": {
      "text/html": [
       "<pre>| 11      | 9m 22s       | 2831.41           | 53.2047               | 1.78571     |</pre>"
      ],
      "text/plain": [
       "| 11      | 9m 22s       | 2831.41           | 53.2047               | 1.78571     |"
      ]
     },
     "metadata": {},
     "output_type": "display_data"
    },
    {
     "data": {
      "text/html": [
       "<pre>| 12      | 10m 13s      | 2809.3            | 52.9964               | 1.78571     |</pre>"
      ],
      "text/plain": [
       "| 12      | 10m 13s      | 2809.3            | 52.9964               | 1.78571     |"
      ]
     },
     "metadata": {},
     "output_type": "display_data"
    },
    {
     "data": {
      "text/html": [
       "<pre>| 13      | 11m 4s       | 2789.94           | 52.8133               | 1.78571     |</pre>"
      ],
      "text/plain": [
       "| 13      | 11m 4s       | 2789.94           | 52.8133               | 1.78571     |"
      ]
     },
     "metadata": {},
     "output_type": "display_data"
    },
    {
     "data": {
      "text/html": [
       "<pre>| 14      | 11m 55s      | 2774.26           | 52.6646               | 1.78571     |</pre>"
      ],
      "text/plain": [
       "| 14      | 11m 55s      | 2774.26           | 52.6646               | 1.78571     |"
      ]
     },
     "metadata": {},
     "output_type": "display_data"
    },
    {
     "data": {
      "text/html": [
       "<pre>| 15      | 12m 46s      | 2758.93           | 52.5189               | 1.78571     |</pre>"
      ],
      "text/plain": [
       "| 15      | 12m 46s      | 2758.93           | 52.5189               | 1.78571     |"
      ]
     },
     "metadata": {},
     "output_type": "display_data"
    },
    {
     "data": {
      "text/html": [
       "<pre>| 16      | 13m 37s      | 2745.12           | 52.3872               | 1.78571     |</pre>"
      ],
      "text/plain": [
       "| 16      | 13m 37s      | 2745.12           | 52.3872               | 1.78571     |"
      ]
     },
     "metadata": {},
     "output_type": "display_data"
    },
    {
     "data": {
      "text/html": [
       "<pre>| 17      | 14m 28s      | 2733.92           | 52.2801               | 1.78571     |</pre>"
      ],
      "text/plain": [
       "| 17      | 14m 28s      | 2733.92           | 52.2801               | 1.78571     |"
      ]
     },
     "metadata": {},
     "output_type": "display_data"
    },
    {
     "data": {
      "text/html": [
       "<pre>| 18      | 15m 19s      | 2722.81           | 52.1737               | 1.78571     |</pre>"
      ],
      "text/plain": [
       "| 18      | 15m 19s      | 2722.81           | 52.1737               | 1.78571     |"
      ]
     },
     "metadata": {},
     "output_type": "display_data"
    },
    {
     "data": {
      "text/html": [
       "<pre>| 19      | 16m 10s      | 2712.19           | 52.0718               | 1.78571     |</pre>"
      ],
      "text/plain": [
       "| 19      | 16m 10s      | 2712.19           | 52.0718               | 1.78571     |"
      ]
     },
     "metadata": {},
     "output_type": "display_data"
    },
    {
     "data": {
      "text/html": [
       "<pre>| 20      | 17m 1s       | 2704.49           | 51.9978               | 1.78571     |</pre>"
      ],
      "text/plain": [
       "| 20      | 17m 1s       | 2704.49           | 51.9978               | 1.78571     |"
      ]
     },
     "metadata": {},
     "output_type": "display_data"
    },
    {
     "data": {
      "text/html": [
       "<pre>| 21      | 17m 52s      | 2694.86           | 51.905                | 1.78571     |</pre>"
      ],
      "text/plain": [
       "| 21      | 17m 52s      | 2694.86           | 51.905                | 1.78571     |"
      ]
     },
     "metadata": {},
     "output_type": "display_data"
    },
    {
     "data": {
      "text/html": [
       "<pre>| 22      | 18m 43s      | 2685.45           | 51.8143               | 1.78571     |</pre>"
      ],
      "text/plain": [
       "| 22      | 18m 43s      | 2685.45           | 51.8143               | 1.78571     |"
      ]
     },
     "metadata": {},
     "output_type": "display_data"
    },
    {
     "data": {
      "text/html": [
       "<pre>| 23      | 19m 35s      | 2679.13           | 51.7532               | 1.78571     |</pre>"
      ],
      "text/plain": [
       "| 23      | 19m 35s      | 2679.13           | 51.7532               | 1.78571     |"
      ]
     },
     "metadata": {},
     "output_type": "display_data"
    },
    {
     "data": {
      "text/html": [
       "<pre>| 24      | 20m 26s      | 2671.73           | 51.6817               | 1.78571     |</pre>"
      ],
      "text/plain": [
       "| 24      | 20m 26s      | 2671.73           | 51.6817               | 1.78571     |"
      ]
     },
     "metadata": {},
     "output_type": "display_data"
    },
    {
     "data": {
      "text/html": [
       "<pre>| 25      | 21m 17s      | 2665.17           | 51.6181               | 1.78571     |</pre>"
      ],
      "text/plain": [
       "| 25      | 21m 17s      | 2665.17           | 51.6181               | 1.78571     |"
      ]
     },
     "metadata": {},
     "output_type": "display_data"
    },
    {
     "data": {
      "text/html": [
       "<pre>| 26      | 22m 8s       | 2657.8            | 51.5466               | 1.78571     |</pre>"
      ],
      "text/plain": [
       "| 26      | 22m 8s       | 2657.8            | 51.5466               | 1.78571     |"
      ]
     },
     "metadata": {},
     "output_type": "display_data"
    },
    {
     "data": {
      "text/html": [
       "<pre>| 27      | 22m 59s      | 2652.4            | 51.4943               | 1.78571     |</pre>"
      ],
      "text/plain": [
       "| 27      | 22m 59s      | 2652.4            | 51.4943               | 1.78571     |"
      ]
     },
     "metadata": {},
     "output_type": "display_data"
    },
    {
     "data": {
      "text/html": [
       "<pre>| 28      | 23m 50s      | 2647.26           | 51.4443               | 1.78571     |</pre>"
      ],
      "text/plain": [
       "| 28      | 23m 50s      | 2647.26           | 51.4443               | 1.78571     |"
      ]
     },
     "metadata": {},
     "output_type": "display_data"
    },
    {
     "data": {
      "text/html": [
       "<pre>| 29      | 24m 41s      | 2641.39           | 51.3871               | 1.78571     |</pre>"
      ],
      "text/plain": [
       "| 29      | 24m 41s      | 2641.39           | 51.3871               | 1.78571     |"
      ]
     },
     "metadata": {},
     "output_type": "display_data"
    },
    {
     "data": {
      "text/html": [
       "<pre>| 30      | 25m 32s      | 2636.17           | 51.3364               | 1.78571     |</pre>"
      ],
      "text/plain": [
       "| 30      | 25m 32s      | 2636.17           | 51.3364               | 1.78571     |"
      ]
     },
     "metadata": {},
     "output_type": "display_data"
    },
    {
     "data": {
      "text/html": [
       "<pre>| 31      | 26m 23s      | 2631.43           | 51.2901               | 1.78571     |</pre>"
      ],
      "text/plain": [
       "| 31      | 26m 23s      | 2631.43           | 51.2901               | 1.78571     |"
      ]
     },
     "metadata": {},
     "output_type": "display_data"
    },
    {
     "data": {
      "text/html": [
       "<pre>| 32      | 27m 14s      | 2626.07           | 51.2379               | 1.78571     |</pre>"
      ],
      "text/plain": [
       "| 32      | 27m 14s      | 2626.07           | 51.2379               | 1.78571     |"
      ]
     },
     "metadata": {},
     "output_type": "display_data"
    },
    {
     "data": {
      "text/html": [
       "<pre>| 33      | 28m 5s       | 2621.31           | 51.1913               | 1.78571     |</pre>"
      ],
      "text/plain": [
       "| 33      | 28m 5s       | 2621.31           | 51.1913               | 1.78571     |"
      ]
     },
     "metadata": {},
     "output_type": "display_data"
    },
    {
     "data": {
      "text/html": [
       "<pre>| 34      | 28m 56s      | 2616.49           | 51.1442               | 1.78571     |</pre>"
      ],
      "text/plain": [
       "| 34      | 28m 56s      | 2616.49           | 51.1442               | 1.78571     |"
      ]
     },
     "metadata": {},
     "output_type": "display_data"
    },
    {
     "data": {
      "text/html": [
       "<pre>| 35      | 29m 47s      | 2612.36           | 51.1038               | 1.78571     |</pre>"
      ],
      "text/plain": [
       "| 35      | 29m 47s      | 2612.36           | 51.1038               | 1.78571     |"
      ]
     },
     "metadata": {},
     "output_type": "display_data"
    },
    {
     "data": {
      "text/html": [
       "<pre>| 36      | 30m 38s      | 2607.76           | 51.0588               | 1.78571     |</pre>"
      ],
      "text/plain": [
       "| 36      | 30m 38s      | 2607.76           | 51.0588               | 1.78571     |"
      ]
     },
     "metadata": {},
     "output_type": "display_data"
    },
    {
     "data": {
      "text/html": [
       "<pre>| 37      | 31m 29s      | 2604.64           | 51.0282               | 1.78571     |</pre>"
      ],
      "text/plain": [
       "| 37      | 31m 29s      | 2604.64           | 51.0282               | 1.78571     |"
      ]
     },
     "metadata": {},
     "output_type": "display_data"
    },
    {
     "data": {
      "text/html": [
       "<pre>| 38      | 32m 20s      | 2599.13           | 50.9741               | 1.78571     |</pre>"
      ],
      "text/plain": [
       "| 38      | 32m 20s      | 2599.13           | 50.9741               | 1.78571     |"
      ]
     },
     "metadata": {},
     "output_type": "display_data"
    },
    {
     "data": {
      "text/html": [
       "<pre>| 39      | 33m 11s      | 2596.13           | 50.9446               | 1.78571     |</pre>"
      ],
      "text/plain": [
       "| 39      | 33m 11s      | 2596.13           | 50.9446               | 1.78571     |"
      ]
     },
     "metadata": {},
     "output_type": "display_data"
    },
    {
     "data": {
      "text/html": [
       "<pre>| 40      | 34m 2s       | 2592.62           | 50.9102               | 1.78571     |</pre>"
      ],
      "text/plain": [
       "| 40      | 34m 2s       | 2592.62           | 50.9102               | 1.78571     |"
      ]
     },
     "metadata": {},
     "output_type": "display_data"
    },
    {
     "data": {
      "text/html": [
       "<pre>| 41      | 34m 53s      | 2589.22           | 50.8768               | 1.78571     |</pre>"
      ],
      "text/plain": [
       "| 41      | 34m 53s      | 2589.22           | 50.8768               | 1.78571     |"
      ]
     },
     "metadata": {},
     "output_type": "display_data"
    },
    {
     "data": {
      "text/html": [
       "<pre>| 42      | 35m 44s      | 2584.1            | 50.8264               | 1.78571     |</pre>"
      ],
      "text/plain": [
       "| 42      | 35m 44s      | 2584.1            | 50.8264               | 1.78571     |"
      ]
     },
     "metadata": {},
     "output_type": "display_data"
    },
    {
     "data": {
      "text/html": [
       "<pre>| 43      | 36m 36s      | 2582.58           | 50.8115               | 1.78571     |</pre>"
      ],
      "text/plain": [
       "| 43      | 36m 36s      | 2582.58           | 50.8115               | 1.78571     |"
      ]
     },
     "metadata": {},
     "output_type": "display_data"
    },
    {
     "data": {
      "text/html": [
       "<pre>| 44      | 37m 27s      | 2578.11           | 50.7674               | 1.78571     |</pre>"
      ],
      "text/plain": [
       "| 44      | 37m 27s      | 2578.11           | 50.7674               | 1.78571     |"
      ]
     },
     "metadata": {},
     "output_type": "display_data"
    },
    {
     "data": {
      "text/html": [
       "<pre>| 45      | 38m 18s      | 2576.18           | 50.7484               | 1.78571     |</pre>"
      ],
      "text/plain": [
       "| 45      | 38m 18s      | 2576.18           | 50.7484               | 1.78571     |"
      ]
     },
     "metadata": {},
     "output_type": "display_data"
    },
    {
     "data": {
      "text/html": [
       "<pre>| 46      | 39m 9s       | 2572.4            | 50.7111               | 1.78571     |</pre>"
      ],
      "text/plain": [
       "| 46      | 39m 9s       | 2572.4            | 50.7111               | 1.78571     |"
      ]
     },
     "metadata": {},
     "output_type": "display_data"
    },
    {
     "data": {
      "text/html": [
       "<pre>| 47      | 40m 0s       | 2569.3            | 50.6805               | 1.78571     |</pre>"
      ],
      "text/plain": [
       "| 47      | 40m 0s       | 2569.3            | 50.6805               | 1.78571     |"
      ]
     },
     "metadata": {},
     "output_type": "display_data"
    },
    {
     "data": {
      "text/html": [
       "<pre>| 48      | 40m 51s      | 2566.59           | 50.6538               | 1.78571     |</pre>"
      ],
      "text/plain": [
       "| 48      | 40m 51s      | 2566.59           | 50.6538               | 1.78571     |"
      ]
     },
     "metadata": {},
     "output_type": "display_data"
    },
    {
     "data": {
      "text/html": [
       "<pre>| 49      | 41m 42s      | 2563.26           | 50.6209               | 1.78571     |</pre>"
      ],
      "text/plain": [
       "| 49      | 41m 42s      | 2563.26           | 50.6209               | 1.78571     |"
      ]
     },
     "metadata": {},
     "output_type": "display_data"
    },
    {
     "data": {
      "text/html": [
       "<pre>| 50      | 42m 33s      | 2559.8            | 50.5867               | 1.78571     |</pre>"
      ],
      "text/plain": [
       "| 50      | 42m 33s      | 2559.8            | 50.5867               | 1.78571     |"
      ]
     },
     "metadata": {},
     "output_type": "display_data"
    },
    {
     "data": {
      "text/html": [
       "<pre>+---------+--------------+-------------------+-----------------------+-------------+</pre>"
      ],
      "text/plain": [
       "+---------+--------------+-------------------+-----------------------+-------------+"
      ]
     },
     "metadata": {},
     "output_type": "display_data"
    },
    {
     "data": {
      "text/html": [
       "<pre>Optimization Complete: Maximum number of passes through the data reached.</pre>"
      ],
      "text/plain": [
       "Optimization Complete: Maximum number of passes through the data reached."
      ]
     },
     "metadata": {},
     "output_type": "display_data"
    },
    {
     "data": {
      "text/html": [
       "<pre>Computing final objective value and training RMSE.</pre>"
      ],
      "text/plain": [
       "Computing final objective value and training RMSE."
      ]
     },
     "metadata": {},
     "output_type": "display_data"
    },
    {
     "data": {
      "text/html": [
       "<pre>       Final objective value: 2644.13</pre>"
      ],
      "text/plain": [
       "       Final objective value: 2644.13"
      ]
     },
     "metadata": {},
     "output_type": "display_data"
    },
    {
     "data": {
      "text/html": [
       "<pre>       Final training RMSE: 51.4135</pre>"
      ],
      "text/plain": [
       "       Final training RMSE: 51.4135"
      ]
     },
     "metadata": {},
     "output_type": "display_data"
    }
   ],
   "source": [
    "mf6_model = gl.recommender.factorization_recommender.create(edges_train_sf, user_id='Initial Physician NPI', item_id='Secondary Physician NPI', target='Referrals', user_data=initial_physician_mf6_sf, item_data=secondary_physician_mf6_sf)"
   ]
  },
  {
   "cell_type": "code",
   "execution_count": null,
   "metadata": {},
   "outputs": [],
   "source": [
    "mf6_model.save('../model/mf6')"
   ]
  },
  {
   "cell_type": "markdown",
   "metadata": {},
   "source": [
    "# Final Test on MF2"
   ]
  },
  {
   "cell_type": "code",
   "execution_count": 3,
   "metadata": {},
   "outputs": [],
   "source": [
    "mf2_model = gl.load_model('../model/mf2')"
   ]
  },
  {
   "cell_type": "code",
   "execution_count": 4,
   "metadata": {},
   "outputs": [],
   "source": [
    "edges_test_sf = gl.SFrame('../data/edges_test')"
   ]
  },
  {
   "cell_type": "code",
   "execution_count": 6,
   "metadata": {},
   "outputs": [],
   "source": [
    "mf2_predictions = mf2_model.predict(edges_test_sf)"
   ]
  },
  {
   "cell_type": "code",
   "execution_count": 9,
   "metadata": {},
   "outputs": [],
   "source": [
    "from sklearn import metrics"
   ]
  },
  {
   "cell_type": "code",
   "execution_count": 16,
   "metadata": {},
   "outputs": [],
   "source": [
    "y_true = edges_test_sf['Referrals'].to_numpy()"
   ]
  },
  {
   "cell_type": "code",
   "execution_count": 14,
   "metadata": {},
   "outputs": [],
   "source": [
    "y_pred = mf2_predictions.to_numpy()"
   ]
  },
  {
   "cell_type": "code",
   "execution_count": 17,
   "metadata": {},
   "outputs": [],
   "source": [
    "mf2_rmse = metrics.mean_squared_error(y_true, y_pred)"
   ]
  },
  {
   "cell_type": "code",
   "execution_count": 18,
   "metadata": {},
   "outputs": [],
   "source": [
    "mf2_r2 = metrics.r2_score(y_true, y_pred)"
   ]
  },
  {
   "cell_type": "code",
   "execution_count": 19,
   "metadata": {},
   "outputs": [
    {
     "data": {
      "text/plain": [
       "4252.012493466882"
      ]
     },
     "execution_count": 19,
     "metadata": {},
     "output_type": "execute_result"
    }
   ],
   "source": [
    "mf2_rmse"
   ]
  },
  {
   "cell_type": "code",
   "execution_count": 20,
   "metadata": {},
   "outputs": [
    {
     "data": {
      "text/plain": [
       "0.12916815831150474"
      ]
     },
     "execution_count": 20,
     "metadata": {},
     "output_type": "execute_result"
    }
   ],
   "source": [
    "mf2_r2"
   ]
  },
  {
   "cell_type": "markdown",
   "metadata": {},
   "source": [
    "# Final Test on MF6"
   ]
  },
  {
   "cell_type": "code",
   "execution_count": 22,
   "metadata": {},
   "outputs": [],
   "source": [
    "mf6_model = gl.load_model('../model/mf6')"
   ]
  },
  {
   "cell_type": "code",
   "execution_count": 23,
   "metadata": {},
   "outputs": [],
   "source": [
    "mf6_predictions = mf6_model.predict(edges_test_sf)"
   ]
  },
  {
   "cell_type": "code",
   "execution_count": 24,
   "metadata": {},
   "outputs": [],
   "source": [
    "y_true = edges_test_sf['Referrals'].to_numpy()"
   ]
  },
  {
   "cell_type": "code",
   "execution_count": 25,
   "metadata": {},
   "outputs": [],
   "source": [
    "y_m6_pred = mf6_predictions.to_numpy()"
   ]
  },
  {
   "cell_type": "code",
   "execution_count": 53,
   "metadata": {},
   "outputs": [],
   "source": [
    "mf6_rmse = np.sqrt(metrics.mean_squared_error(y_true, y_m6_pred))"
   ]
  },
  {
   "cell_type": "code",
   "execution_count": 54,
   "metadata": {},
   "outputs": [
    {
     "data": {
      "text/plain": [
       "55.71300671087123"
      ]
     },
     "execution_count": 54,
     "metadata": {},
     "output_type": "execute_result"
    }
   ],
   "source": [
    "mf6_rmse"
   ]
  },
  {
   "cell_type": "code",
   "execution_count": 29,
   "metadata": {},
   "outputs": [],
   "source": [
    "mf2_r6 = metrics.r2_score(y_true, y_m6_pred)"
   ]
  },
  {
   "cell_type": "code",
   "execution_count": 30,
   "metadata": {},
   "outputs": [
    {
     "data": {
      "text/plain": [
       "0.36429890041596924"
      ]
     },
     "execution_count": 30,
     "metadata": {},
     "output_type": "execute_result"
    }
   ],
   "source": [
    "mf2_r6"
   ]
  },
  {
   "cell_type": "markdown",
   "metadata": {},
   "source": [
    "# Don't forget to compare these metrics to the baseline, mean model"
   ]
  },
  {
   "cell_type": "code",
   "execution_count": 33,
   "metadata": {},
   "outputs": [],
   "source": [
    "edges_train_sf = gl.SFrame('../data/edges_train')"
   ]
  },
  {
   "cell_type": "code",
   "execution_count": 36,
   "metadata": {},
   "outputs": [],
   "source": [
    "import numpy as np"
   ]
  },
  {
   "cell_type": "code",
   "execution_count": 40,
   "metadata": {},
   "outputs": [],
   "source": [
    "y_pred_average = np.full(len(edges_test_sf), edges_train_sf['Referrals'].mean())"
   ]
  },
  {
   "cell_type": "code",
   "execution_count": 51,
   "metadata": {},
   "outputs": [],
   "source": [
    "average_rmse = np.sqrt(metrics.mean_squared_error(y_true, y_pred_average))"
   ]
  },
  {
   "cell_type": "code",
   "execution_count": 44,
   "metadata": {},
   "outputs": [],
   "source": [
    "average_r2 = metrics.r2_score(y_true, y_pred_average)"
   ]
  },
  {
   "cell_type": "code",
   "execution_count": 48,
   "metadata": {},
   "outputs": [
    {
     "data": {
      "text/plain": [
       "0"
      ]
     },
     "execution_count": 48,
     "metadata": {},
     "output_type": "execute_result"
    }
   ],
   "source": [
    "int(average_r2)"
   ]
  },
  {
   "cell_type": "code",
   "execution_count": 47,
   "metadata": {},
   "outputs": [
    {
     "data": {
      "text/plain": [
       "19.22259303226491"
      ]
     },
     "execution_count": 47,
     "metadata": {},
     "output_type": "execute_result"
    }
   ],
   "source": [
    "y_true.mean()"
   ]
  },
  {
   "cell_type": "code",
   "execution_count": 52,
   "metadata": {},
   "outputs": [
    {
     "data": {
      "text/plain": [
       "69.87633480013113"
      ]
     },
     "execution_count": 52,
     "metadata": {},
     "output_type": "execute_result"
    }
   ],
   "source": [
    "average_rmse"
   ]
  },
  {
   "cell_type": "code",
   "execution_count": 50,
   "metadata": {},
   "outputs": [
    {
     "data": {
      "text/plain": [
       "array([19.21719408, 19.21719408, 19.21719408, ..., 19.21719408,\n",
       "       19.21719408, 19.21719408])"
      ]
     },
     "execution_count": 50,
     "metadata": {},
     "output_type": "execute_result"
    }
   ],
   "source": [
    "y_pred_average"
   ]
  },
  {
   "cell_type": "code",
   "execution_count": null,
   "metadata": {},
   "outputs": [],
   "source": []
  }
 ],
 "metadata": {
  "kernelspec": {
   "display_name": "Python 2",
   "language": "python",
   "name": "python2"
  },
  "language_info": {
   "codemirror_mode": {
    "name": "ipython",
    "version": 2
   },
   "file_extension": ".py",
   "mimetype": "text/x-python",
   "name": "python",
   "nbconvert_exporter": "python",
   "pygments_lexer": "ipython2",
   "version": "2.7.14"
  }
 },
 "nbformat": 4,
 "nbformat_minor": 2
}
