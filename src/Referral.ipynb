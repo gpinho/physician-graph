{
 "cells": [
  {
   "cell_type": "code",
   "execution_count": 1,
   "metadata": {},
   "outputs": [],
   "source": [
    "import pandas as pd\n",
    "import numpy as np"
   ]
  },
  {
   "cell_type": "code",
   "execution_count": 2,
   "metadata": {},
   "outputs": [],
   "source": [
    "def combine_referral_datasets(left_filepath, initial_year, left_dtype, list_right_filepath, index_col=['Initial Physician NPI', 'Secondary Physician NPI']):\n",
    "    print('function starting')\n",
    "    left_df = pd.read_csv(left_filepath, index_col=index_col, dtype=left_dtype)\n",
    "    print(f'file {left_filepath} loaded')\n",
    "    for right_filepath, last_year, right_dtype in list_right_filepath:\n",
    "        right_df = pd.read_csv(right_filepath, index_col=index_col, dtype=right_dtype)\n",
    "        print(f'file {right_filepath} loaded')\n",
    "        left_df = left_df.merge(right_df, how='outer', left_index= True, right_index=True, copy=False)\n",
    "        print(f'file {right_filepath} merged')\n",
    "        left_df.to_csv(f'physician-shared-patient-patterns-unique-beneficiaries-{initial_year}-{last_year}.csv')\n",
    "        print('dataframe saved to csv')\n",
    "    return left_df"
   ]
  },
  {
   "cell_type": "code",
   "execution_count": 3,
   "metadata": {},
   "outputs": [],
   "source": [
    "initial_referral_dataset = 'physician-shared-patient-patterns-2009-2010.csv'\n",
    "initial_referral_year = '2009'\n",
    "initial_dtype = {'Initial Physician NPI':str, 'Secondary Physician NPI':str, 'Number Unique Beneficiaries_2009':float, 'Number Unique Beneficiaries_2010':float}"
   ]
  },
  {
   "cell_type": "code",
   "execution_count": 4,
   "metadata": {},
   "outputs": [],
   "source": [
    "mid_dtype = {'Initial Physician NPI':str, 'Secondary Physician NPI':str, 'Number Unique Beneficiaries_2011':float, 'Number Unique Beneficiaries_2012':float, 'Number Unique Beneficiaries_2013':float}"
   ]
  },
  {
   "cell_type": "code",
   "execution_count": 5,
   "metadata": {},
   "outputs": [],
   "source": [
    "final_dtype = {'Initial Physician NPI':str, 'Secondary Physician NPI':str, 'Number Unique Beneficiaries_2014':float, 'Number Unique Beneficiaries_2015':float}"
   ]
  },
  {
   "cell_type": "code",
   "execution_count": 6,
   "metadata": {},
   "outputs": [],
   "source": [
    "other_referral_datasets_years = [ ('physician-shared-patient-patterns-2011-2013.csv', '2013', mid_dtype), ('physician-shared-patient-patterns-2014-2015.csv', '2015', final_dtype)]"
   ]
  },
  {
   "cell_type": "code",
   "execution_count": null,
   "metadata": {},
   "outputs": [
    {
     "name": "stdout",
     "output_type": "stream",
     "text": [
      "function starting\n",
      "file physician-shared-patient-patterns-2009-2010.csv loaded\n",
      "file physician-shared-patient-patterns-2011-2013.csv loaded\n"
     ]
    }
   ],
   "source": [
    "referral_df = combine_referral_datasets(initial_referral_dataset, initial_referral_year, initial_dtype, other_referral_datasets_years)"
   ]
  },
  {
   "cell_type": "code",
   "execution_count": null,
   "metadata": {},
   "outputs": [],
   "source": []
  },
  {
   "cell_type": "code",
   "execution_count": null,
   "metadata": {},
   "outputs": [],
   "source": [
    "!head -1 physician-shared-patient-patterns-2011-2013.csv"
   ]
  },
  {
   "cell_type": "code",
   "execution_count": null,
   "metadata": {},
   "outputs": [],
   "source": [
    "ls"
   ]
  },
  {
   "cell_type": "code",
   "execution_count": null,
   "metadata": {},
   "outputs": [],
   "source": [
    "def average_referral(combined_referral_dataset):\n",
    "    combined_df = read_csv(combined_referral_dataset)\n",
    "    combined_df['Average: Shared Count'] = \n",
    "    combined_df['Average: Shared Count'] = \n",
    "    combined_df['Average: Shared Count'] = "
   ]
  }
 ],
 "metadata": {
  "kernelspec": {
   "display_name": "Python 3",
   "language": "python",
   "name": "python3"
  },
  "language_info": {
   "codemirror_mode": {
    "name": "ipython",
    "version": 3
   },
   "file_extension": ".py",
   "mimetype": "text/x-python",
   "name": "python",
   "nbconvert_exporter": "python",
   "pygments_lexer": "ipython3",
   "version": "3.6.4"
  }
 },
 "nbformat": 4,
 "nbformat_minor": 2
}
