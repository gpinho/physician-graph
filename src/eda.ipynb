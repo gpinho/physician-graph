{
 "cells": [
  {
   "cell_type": "code",
   "execution_count": 84,
   "metadata": {},
   "outputs": [],
   "source": [
    "import pandas as pd\n",
    "import numpy as np\n",
    "import networkx as nx\n",
    "import nxpd\n",
    "\n",
    "%matplotlib inline\n",
    "import matplotlib.pyplot as plt\n",
    "plt.style.use('ggplot')\n",
    "\n",
    "from import_dataset import get_header\n",
    "from communities import find_communities_modularities"
   ]
  },
  {
   "cell_type": "markdown",
   "metadata": {},
   "source": [
    "# Sample EDA"
   ]
  },
  {
   "cell_type": "markdown",
   "metadata": {},
   "source": [
    "## Dataset: Physician Shared Patients Shared Patterns"
   ]
  },
  {
   "cell_type": "code",
   "execution_count": 2,
   "metadata": {},
   "outputs": [],
   "source": [
    "header = get_header('../data/referral/physician-shared-patient-patterns-2014-days180_FileHeader.csv')\n",
    "sample_graph_df = pd.read_csv('../data/referral/physician-shared-patient-patterns-2014-days180-sample.txt', names=header)"
   ]
  },
  {
   "cell_type": "code",
   "execution_count": 3,
   "metadata": {},
   "outputs": [
    {
     "data": {
      "text/html": [
       "<div>\n",
       "<style scoped>\n",
       "    .dataframe tbody tr th:only-of-type {\n",
       "        vertical-align: middle;\n",
       "    }\n",
       "\n",
       "    .dataframe tbody tr th {\n",
       "        vertical-align: top;\n",
       "    }\n",
       "\n",
       "    .dataframe thead th {\n",
       "        text-align: right;\n",
       "    }\n",
       "</style>\n",
       "<table border=\"1\" class=\"dataframe\">\n",
       "  <thead>\n",
       "    <tr style=\"text-align: right;\">\n",
       "      <th></th>\n",
       "      <th>Initial Physician NPI</th>\n",
       "      <th>Secondary Physician NPI</th>\n",
       "      <th>Shared Count</th>\n",
       "      <th>Number Unique Beneficiaries</th>\n",
       "      <th>Number Same Day Visits</th>\n",
       "    </tr>\n",
       "  </thead>\n",
       "  <tbody>\n",
       "    <tr>\n",
       "      <th>0</th>\n",
       "      <td>1063590222</td>\n",
       "      <td>1760575641</td>\n",
       "      <td>96</td>\n",
       "      <td>27</td>\n",
       "      <td>3</td>\n",
       "    </tr>\n",
       "    <tr>\n",
       "      <th>1</th>\n",
       "      <td>1790184497</td>\n",
       "      <td>1427005735</td>\n",
       "      <td>68</td>\n",
       "      <td>13</td>\n",
       "      <td>0</td>\n",
       "    </tr>\n",
       "    <tr>\n",
       "      <th>2</th>\n",
       "      <td>1154381309</td>\n",
       "      <td>1861495335</td>\n",
       "      <td>253</td>\n",
       "      <td>20</td>\n",
       "      <td>15</td>\n",
       "    </tr>\n",
       "    <tr>\n",
       "      <th>3</th>\n",
       "      <td>1538144910</td>\n",
       "      <td>1801826219</td>\n",
       "      <td>40</td>\n",
       "      <td>22</td>\n",
       "      <td>4</td>\n",
       "    </tr>\n",
       "    <tr>\n",
       "      <th>4</th>\n",
       "      <td>1134293798</td>\n",
       "      <td>1346341948</td>\n",
       "      <td>68</td>\n",
       "      <td>24</td>\n",
       "      <td>6</td>\n",
       "    </tr>\n",
       "  </tbody>\n",
       "</table>\n",
       "</div>"
      ],
      "text/plain": [
       "   Initial Physician NPI  Secondary Physician NPI  Shared Count  \\\n",
       "0             1063590222               1760575641            96   \n",
       "1             1790184497               1427005735            68   \n",
       "2             1154381309               1861495335           253   \n",
       "3             1538144910               1801826219            40   \n",
       "4             1134293798               1346341948            68   \n",
       "\n",
       "   Number Unique Beneficiaries  Number Same Day Visits  \n",
       "0                           27                       3  \n",
       "1                           13                       0  \n",
       "2                           20                      15  \n",
       "3                           22                       4  \n",
       "4                           24                       6  "
      ]
     },
     "execution_count": 3,
     "metadata": {},
     "output_type": "execute_result"
    }
   ],
   "source": [
    "sample_graph_df.head()"
   ]
  },
  {
   "cell_type": "code",
   "execution_count": 4,
   "metadata": {},
   "outputs": [
    {
     "data": {
      "text/plain": [
       "(100000, 5)"
      ]
     },
     "execution_count": 4,
     "metadata": {},
     "output_type": "execute_result"
    }
   ],
   "source": [
    "sample_graph_df.shape"
   ]
  },
  {
   "cell_type": "code",
   "execution_count": 5,
   "metadata": {},
   "outputs": [
    {
     "data": {
      "text/html": [
       "<div>\n",
       "<style scoped>\n",
       "    .dataframe tbody tr th:only-of-type {\n",
       "        vertical-align: middle;\n",
       "    }\n",
       "\n",
       "    .dataframe tbody tr th {\n",
       "        vertical-align: top;\n",
       "    }\n",
       "\n",
       "    .dataframe thead th {\n",
       "        text-align: right;\n",
       "    }\n",
       "</style>\n",
       "<table border=\"1\" class=\"dataframe\">\n",
       "  <thead>\n",
       "    <tr style=\"text-align: right;\">\n",
       "      <th></th>\n",
       "      <th>Initial Physician NPI</th>\n",
       "      <th>Secondary Physician NPI</th>\n",
       "      <th>Shared Count</th>\n",
       "      <th>Number Unique Beneficiaries</th>\n",
       "      <th>Number Same Day Visits</th>\n",
       "    </tr>\n",
       "  </thead>\n",
       "  <tbody>\n",
       "    <tr>\n",
       "      <th>count</th>\n",
       "      <td>1.000000e+05</td>\n",
       "      <td>1.000000e+05</td>\n",
       "      <td>100000.000000</td>\n",
       "      <td>100000.00000</td>\n",
       "      <td>100000.00000</td>\n",
       "    </tr>\n",
       "    <tr>\n",
       "      <th>mean</th>\n",
       "      <td>1.497631e+09</td>\n",
       "      <td>1.503760e+09</td>\n",
       "      <td>305.986650</td>\n",
       "      <td>43.66123</td>\n",
       "      <td>10.52255</td>\n",
       "    </tr>\n",
       "    <tr>\n",
       "      <th>std</th>\n",
       "      <td>2.948775e+08</td>\n",
       "      <td>2.903537e+08</td>\n",
       "      <td>1328.118843</td>\n",
       "      <td>114.59024</td>\n",
       "      <td>103.82255</td>\n",
       "    </tr>\n",
       "    <tr>\n",
       "      <th>min</th>\n",
       "      <td>1.003000e+09</td>\n",
       "      <td>1.003001e+09</td>\n",
       "      <td>11.000000</td>\n",
       "      <td>11.00000</td>\n",
       "      <td>0.00000</td>\n",
       "    </tr>\n",
       "    <tr>\n",
       "      <th>25%</th>\n",
       "      <td>1.245402e+09</td>\n",
       "      <td>1.255363e+09</td>\n",
       "      <td>49.000000</td>\n",
       "      <td>14.00000</td>\n",
       "      <td>0.00000</td>\n",
       "    </tr>\n",
       "    <tr>\n",
       "      <th>50%</th>\n",
       "      <td>1.497831e+09</td>\n",
       "      <td>1.508870e+09</td>\n",
       "      <td>98.000000</td>\n",
       "      <td>21.00000</td>\n",
       "      <td>0.00000</td>\n",
       "    </tr>\n",
       "    <tr>\n",
       "      <th>75%</th>\n",
       "      <td>1.740270e+09</td>\n",
       "      <td>1.750364e+09</td>\n",
       "      <td>225.000000</td>\n",
       "      <td>38.00000</td>\n",
       "      <td>2.00000</td>\n",
       "    </tr>\n",
       "    <tr>\n",
       "      <th>max</th>\n",
       "      <td>1.000000e+10</td>\n",
       "      <td>1.000000e+10</td>\n",
       "      <td>121156.000000</td>\n",
       "      <td>8715.00000</td>\n",
       "      <td>8361.00000</td>\n",
       "    </tr>\n",
       "  </tbody>\n",
       "</table>\n",
       "</div>"
      ],
      "text/plain": [
       "       Initial Physician NPI  Secondary Physician NPI   Shared Count  \\\n",
       "count           1.000000e+05             1.000000e+05  100000.000000   \n",
       "mean            1.497631e+09             1.503760e+09     305.986650   \n",
       "std             2.948775e+08             2.903537e+08    1328.118843   \n",
       "min             1.003000e+09             1.003001e+09      11.000000   \n",
       "25%             1.245402e+09             1.255363e+09      49.000000   \n",
       "50%             1.497831e+09             1.508870e+09      98.000000   \n",
       "75%             1.740270e+09             1.750364e+09     225.000000   \n",
       "max             1.000000e+10             1.000000e+10  121156.000000   \n",
       "\n",
       "       Number Unique Beneficiaries  Number Same Day Visits  \n",
       "count                 100000.00000            100000.00000  \n",
       "mean                      43.66123                10.52255  \n",
       "std                      114.59024               103.82255  \n",
       "min                       11.00000                 0.00000  \n",
       "25%                       14.00000                 0.00000  \n",
       "50%                       21.00000                 0.00000  \n",
       "75%                       38.00000                 2.00000  \n",
       "max                     8715.00000              8361.00000  "
      ]
     },
     "execution_count": 5,
     "metadata": {},
     "output_type": "execute_result"
    }
   ],
   "source": [
    "sample_graph_df.describe()"
   ]
  },
  {
   "cell_type": "code",
   "execution_count": 6,
   "metadata": {},
   "outputs": [
    {
     "name": "stdout",
     "output_type": "stream",
     "text": [
      "<class 'pandas.core.frame.DataFrame'>\n",
      "RangeIndex: 100000 entries, 0 to 99999\n",
      "Data columns (total 5 columns):\n",
      "Initial Physician NPI          100000 non-null int64\n",
      "Secondary Physician NPI        100000 non-null int64\n",
      "Shared Count                   100000 non-null int64\n",
      "Number Unique Beneficiaries    100000 non-null int64\n",
      "Number Same Day Visits         100000 non-null int64\n",
      "dtypes: int64(5)\n",
      "memory usage: 3.8 MB\n"
     ]
    }
   ],
   "source": [
    "sample_graph_df.info()"
   ]
  },
  {
   "cell_type": "code",
   "execution_count": 39,
   "metadata": {},
   "outputs": [],
   "source": [
    "relationship_vars = ['Initial Physician NPI', 'Secondary Physician NPI']\n",
    "num_vars = ['Shared Count', 'Number Unique Beneficiaries', 'Number Same Day Visits']"
   ]
  },
  {
   "cell_type": "code",
   "execution_count": 72,
   "metadata": {},
   "outputs": [],
   "source": [
    "# Converting ids to category dtype\n",
    "for var in relationship_vars:\n",
    "    sample_graph_df[var] = sample_graph_df[var].astype('category')"
   ]
  },
  {
   "cell_type": "code",
   "execution_count": 73,
   "metadata": {},
   "outputs": [
    {
     "data": {
      "text/html": [
       "<div>\n",
       "<style scoped>\n",
       "    .dataframe tbody tr th:only-of-type {\n",
       "        vertical-align: middle;\n",
       "    }\n",
       "\n",
       "    .dataframe tbody tr th {\n",
       "        vertical-align: top;\n",
       "    }\n",
       "\n",
       "    .dataframe thead th {\n",
       "        text-align: right;\n",
       "    }\n",
       "</style>\n",
       "<table border=\"1\" class=\"dataframe\">\n",
       "  <thead>\n",
       "    <tr style=\"text-align: right;\">\n",
       "      <th></th>\n",
       "      <th>Shared Count</th>\n",
       "      <th>Number Unique Beneficiaries</th>\n",
       "      <th>Number Same Day Visits</th>\n",
       "    </tr>\n",
       "  </thead>\n",
       "  <tbody>\n",
       "    <tr>\n",
       "      <th>count</th>\n",
       "      <td>100000.000000</td>\n",
       "      <td>100000.00000</td>\n",
       "      <td>100000.00000</td>\n",
       "    </tr>\n",
       "    <tr>\n",
       "      <th>mean</th>\n",
       "      <td>305.986650</td>\n",
       "      <td>43.66123</td>\n",
       "      <td>10.52255</td>\n",
       "    </tr>\n",
       "    <tr>\n",
       "      <th>std</th>\n",
       "      <td>1328.118843</td>\n",
       "      <td>114.59024</td>\n",
       "      <td>103.82255</td>\n",
       "    </tr>\n",
       "    <tr>\n",
       "      <th>min</th>\n",
       "      <td>11.000000</td>\n",
       "      <td>11.00000</td>\n",
       "      <td>0.00000</td>\n",
       "    </tr>\n",
       "    <tr>\n",
       "      <th>25%</th>\n",
       "      <td>49.000000</td>\n",
       "      <td>14.00000</td>\n",
       "      <td>0.00000</td>\n",
       "    </tr>\n",
       "    <tr>\n",
       "      <th>50%</th>\n",
       "      <td>98.000000</td>\n",
       "      <td>21.00000</td>\n",
       "      <td>0.00000</td>\n",
       "    </tr>\n",
       "    <tr>\n",
       "      <th>75%</th>\n",
       "      <td>225.000000</td>\n",
       "      <td>38.00000</td>\n",
       "      <td>2.00000</td>\n",
       "    </tr>\n",
       "    <tr>\n",
       "      <th>max</th>\n",
       "      <td>121156.000000</td>\n",
       "      <td>8715.00000</td>\n",
       "      <td>8361.00000</td>\n",
       "    </tr>\n",
       "  </tbody>\n",
       "</table>\n",
       "</div>"
      ],
      "text/plain": [
       "        Shared Count  Number Unique Beneficiaries  Number Same Day Visits\n",
       "count  100000.000000                 100000.00000            100000.00000\n",
       "mean      305.986650                     43.66123                10.52255\n",
       "std      1328.118843                    114.59024               103.82255\n",
       "min        11.000000                     11.00000                 0.00000\n",
       "25%        49.000000                     14.00000                 0.00000\n",
       "50%        98.000000                     21.00000                 0.00000\n",
       "75%       225.000000                     38.00000                 2.00000\n",
       "max    121156.000000                   8715.00000              8361.00000"
      ]
     },
     "execution_count": 73,
     "metadata": {},
     "output_type": "execute_result"
    }
   ],
   "source": [
    "sample_graph_df.describe()"
   ]
  },
  {
   "cell_type": "code",
   "execution_count": 74,
   "metadata": {},
   "outputs": [
    {
     "name": "stdout",
     "output_type": "stream",
     "text": [
      "<class 'pandas.core.frame.DataFrame'>\n",
      "RangeIndex: 100000 entries, 0 to 99999\n",
      "Data columns (total 5 columns):\n",
      "Initial Physician NPI          100000 non-null category\n",
      "Secondary Physician NPI        100000 non-null category\n",
      "Shared Count                   100000 non-null int64\n",
      "Number Unique Beneficiaries    100000 non-null int64\n",
      "Number Same Day Visits         100000 non-null int64\n",
      "dtypes: category(2), int64(3)\n",
      "memory usage: 9.3 MB\n"
     ]
    }
   ],
   "source": [
    "sample_graph_df.info()"
   ]
  },
  {
   "cell_type": "code",
   "execution_count": 8,
   "metadata": {},
   "outputs": [
    {
     "data": {
      "image/png": "[encoded data removed]",
      "text/plain": [
       "<matplotlib.figure.Figure at 0x150cf2fa20>"
      ]
     },
     "metadata": {},
     "output_type": "display_data"
    }
   ],
   "source": [
    "# Histograms\n",
    "fig, axes = plt.subplots(1, 3, sharey=False, figsize=(15, 5))\n",
    "for ax, var in zip(axes.ravel(), num_vars):\n",
    "    low_q = sample_graph_df[var].quantile(0.05)\n",
    "    high_q = sample_graph_df[var].quantile(1-0.05)\n",
    "    ax.hist(sample_graph_df[var], bins=100, range=(low_q, high_q))\n",
    "    ax.set_title(var)\n",
    "plt.tight_layout()"
   ]
  },
  {
   "cell_type": "code",
   "execution_count": 9,
   "metadata": {},
   "outputs": [
    {
     "data": {
      "image/png": "[encoded data removed]",
      "text/plain": [
       "<matplotlib.figure.Figure at 0x103e86128>"
      ]
     },
     "metadata": {},
     "output_type": "display_data"
    }
   ],
   "source": [
    "# Boxplots\n",
    "fig, axes = plt.subplots(1, 3, sharey=False, figsize=(15, 5))\n",
    "for ax, var in zip(axes.ravel(), num_vars):\n",
    "    ax.boxplot(sample_graph_df[var])\n",
    "    ax.set_title(var)\n",
    "plt.tight_layout()"
   ]
  },
  {
   "cell_type": "code",
   "execution_count": 75,
   "metadata": {},
   "outputs": [
    {
     "data": {
      "image/png": "[encoded data removed]",
      "text/plain": [
       "<matplotlib.figure.Figure at 0x152de37358>"
      ]
     },
     "metadata": {},
     "output_type": "display_data"
    }
   ],
   "source": [
    "# Relationships\n",
    "fig, axes = plt.subplots(1, 2, sharey=False, figsize=(15, 5))\n",
    "for ax, var in zip(axes.ravel(), relationship_vars):\n",
    "    var_count = sample_graph_df.groupby(var).apply(len)\n",
    "    ax.hist(var_count, bins=150)\n",
    "    ax.set_title(var)\n",
    "plt.tight_layout()"
   ]
  },
  {
   "cell_type": "code",
   "execution_count": null,
   "metadata": {},
   "outputs": [],
   "source": [
    "# Graph unpacked attributes\n",
    "# G = nx.DiGraph()\n",
    "# counter = 0\n",
    "# for idx in range(sample_graph_df.shape[0]):\n",
    "#     if counter == 10:\n",
    "#         break\n",
    "#     u, v, total_shared, unique_shared, same_day_share = sample_graph_df.loc[idx]\n",
    "#     G.add_edge(u, v, total_shared=total_shared, unique_shared=unique_shared, same_day_share=same_day_share)\n",
    "#     counter += 1"
   ]
  },
  {
   "cell_type": "code",
   "execution_count": null,
   "metadata": {},
   "outputs": [],
   "source": [
    "# Graph dict attributes\n",
    "# G = nx.DiGraph()\n",
    "# counter = 0\n",
    "# for idx in range(sample_graph_df.shape[0]):\n",
    "#     if counter == 10:\n",
    "#         break\n",
    "#     u, v  = sample_graph_df.loc[idx, relationship_vars]\n",
    "#     d = sample_graph_df.loc[idx, num_vars].to_dict()\n",
    "#     G.add_edge(u, v, attr_dict=d)\n",
    "#     counter += 1"
   ]
  },
  {
   "cell_type": "code",
   "execution_count": 76,
   "metadata": {},
   "outputs": [],
   "source": [
    "# Graph without attributes\n",
    "G = nx.DiGraph()\n",
    "# counter = 0\n",
    "for idx in range(sample_graph_df.shape[0]):\n",
    "#     if counter == 100:\n",
    "#         break\n",
    "    u, v  = sample_graph_df.loc[idx, relationship_vars]\n",
    "    G.add_edge(u, v)\n",
    "#     counter += 1"
   ]
  },
  {
   "cell_type": "code",
   "execution_count": 58,
   "metadata": {},
   "outputs": [],
   "source": [
    "# Write grapth to a format in order to visualize on Gephi\n",
    "nx.write_gml(G, '../data/graph/sample_graph.gml')\n",
    "# https://gephi.org/users/quick-start/"
   ]
  },
  {
   "cell_type": "code",
   "execution_count": 22,
   "metadata": {},
   "outputs": [
    {
     "data": {
      "image/png": "[encoded data removed]",
      "text/plain": [
       "<IPython.core.display.Image object>"
      ]
     },
     "execution_count": 22,
     "metadata": {},
     "output_type": "execute_result"
    }
   ],
   "source": [
    "# nxpd.draw(G, show='ipynb')"
   ]
  },
  {
   "cell_type": "code",
   "execution_count": 25,
   "metadata": {},
   "outputs": [],
   "source": [
    "# Centralities\n",
    "# degree_centralities = nx.degree_centrality(G)\n",
    "# betweenness_centralities = nx.betweenness_centrality(G)\n",
    "# eigen_centralities = nx.eigenvector_centrality_numpy(G)"
   ]
  },
  {
   "cell_type": "code",
   "execution_count": 86,
   "metadata": {},
   "outputs": [
    {
     "ename": "NetworkXNotImplemented",
     "evalue": "not implemented for directed type",
     "output_type": "error",
     "traceback": [
      "\u001b[0;31m---------------------------------------------------------------------------\u001b[0m",
      "\u001b[0;31mNetworkXNotImplemented\u001b[0m                    Traceback (most recent call last)",
      "\u001b[0;32m<ipython-input-86-6692f66b3c35>\u001b[0m in \u001b[0;36m<module>\u001b[0;34m()\u001b[0m\n\u001b[1;32m      1\u001b[0m \u001b[0;31m# Finding communities and modularities\u001b[0m\u001b[0;34m\u001b[0m\u001b[0;34m\u001b[0m\u001b[0m\n\u001b[0;32m----> 2\u001b[0;31m \u001b[0mcomms\u001b[0m\u001b[0;34m,\u001b[0m \u001b[0mmods\u001b[0m \u001b[0;34m=\u001b[0m \u001b[0mfind_communities_modularities\u001b[0m\u001b[0;34m(\u001b[0m\u001b[0mG\u001b[0m\u001b[0;34m)\u001b[0m\u001b[0;34m\u001b[0m\u001b[0m\n\u001b[0m",
      "\u001b[0;32m~/CS/Projects/physician-graph/src/communities.py\u001b[0m in \u001b[0;36mfind_communities_modularities\u001b[0;34m(G, max_iter)\u001b[0m\n\u001b[1;32m    116\u001b[0m     \u001b[0mi\u001b[0m \u001b[0;34m=\u001b[0m \u001b[0;36m0\u001b[0m\u001b[0;34m\u001b[0m\u001b[0m\n\u001b[1;32m    117\u001b[0m     \u001b[0;32mwhile\u001b[0m \u001b[0mG1\u001b[0m\u001b[0;34m.\u001b[0m\u001b[0mnumber_of_edges\u001b[0m\u001b[0;34m(\u001b[0m\u001b[0;34m)\u001b[0m \u001b[0;34m>\u001b[0m \u001b[0;36m0\u001b[0m\u001b[0;34m:\u001b[0m\u001b[0;34m\u001b[0m\u001b[0m\n\u001b[0;32m--> 118\u001b[0;31m         \u001b[0msubgraphs\u001b[0m \u001b[0;34m=\u001b[0m \u001b[0mnx\u001b[0m\u001b[0;34m.\u001b[0m\u001b[0mconnected_component_subgraphs\u001b[0m\u001b[0;34m(\u001b[0m\u001b[0mG1\u001b[0m\u001b[0;34m)\u001b[0m\u001b[0;34m\u001b[0m\u001b[0m\n\u001b[0m\u001b[1;32m    119\u001b[0m         \u001b[0mmodularity\u001b[0m \u001b[0;34m=\u001b[0m \u001b[0mget_modularity\u001b[0m\u001b[0;34m(\u001b[0m\u001b[0msubgraphs\u001b[0m\u001b[0;34m,\u001b[0m \u001b[0mdegrees\u001b[0m\u001b[0;34m,\u001b[0m \u001b[0mnum_edges\u001b[0m\u001b[0;34m)\u001b[0m\u001b[0;34m\u001b[0m\u001b[0m\n\u001b[1;32m    120\u001b[0m         \u001b[0mmodularities\u001b[0m\u001b[0;34m.\u001b[0m\u001b[0mappend\u001b[0m\u001b[0;34m(\u001b[0m\u001b[0mmodularity\u001b[0m\u001b[0;34m)\u001b[0m\u001b[0;34m\u001b[0m\u001b[0m\n",
      "\u001b[0;32m<decorator-gen-230>\u001b[0m in \u001b[0;36mconnected_component_subgraphs\u001b[0;34m(G, copy)\u001b[0m\n",
      "\u001b[0;32m/anaconda3/lib/python3.6/site-packages/networkx/utils/decorators.py\u001b[0m in \u001b[0;36m_not_implemented_for\u001b[0;34m(not_implement_for_func, *args, **kwargs)\u001b[0m\n\u001b[1;32m     69\u001b[0m         \u001b[0;32mif\u001b[0m \u001b[0mmatch\u001b[0m\u001b[0;34m:\u001b[0m\u001b[0;34m\u001b[0m\u001b[0m\n\u001b[1;32m     70\u001b[0m             \u001b[0mmsg\u001b[0m \u001b[0;34m=\u001b[0m \u001b[0;34m'not implemented for %s type'\u001b[0m \u001b[0;34m%\u001b[0m \u001b[0;34m' '\u001b[0m\u001b[0;34m.\u001b[0m\u001b[0mjoin\u001b[0m\u001b[0;34m(\u001b[0m\u001b[0mgraph_types\u001b[0m\u001b[0;34m)\u001b[0m\u001b[0;34m\u001b[0m\u001b[0m\n\u001b[0;32m---> 71\u001b[0;31m             \u001b[0;32mraise\u001b[0m \u001b[0mnx\u001b[0m\u001b[0;34m.\u001b[0m\u001b[0mNetworkXNotImplemented\u001b[0m\u001b[0;34m(\u001b[0m\u001b[0mmsg\u001b[0m\u001b[0;34m)\u001b[0m\u001b[0;34m\u001b[0m\u001b[0m\n\u001b[0m\u001b[1;32m     72\u001b[0m         \u001b[0;32melse\u001b[0m\u001b[0;34m:\u001b[0m\u001b[0;34m\u001b[0m\u001b[0m\n\u001b[1;32m     73\u001b[0m             \u001b[0;32mreturn\u001b[0m \u001b[0mnot_implement_for_func\u001b[0m\u001b[0;34m(\u001b[0m\u001b[0;34m*\u001b[0m\u001b[0margs\u001b[0m\u001b[0;34m,\u001b[0m \u001b[0;34m**\u001b[0m\u001b[0mkwargs\u001b[0m\u001b[0;34m)\u001b[0m\u001b[0;34m\u001b[0m\u001b[0m\n",
      "\u001b[0;31mNetworkXNotImplemented\u001b[0m: not implemented for directed type"
     ]
    }
   ],
   "source": [
    "# Finding communities and modularities\n",
    "# comms, mods = find_communities_modularities(G)"
   ]
  },
  {
   "cell_type": "markdown",
   "metadata": {},
   "source": [
    "## Dataset2: Physician Shared Patients Shared Patterns"
   ]
  },
  {
   "cell_type": "markdown",
   "metadata": {},
   "source": [
    "## Dataset3: Physician Shared Patients Shared Patterns"
   ]
  },
  {
   "cell_type": "markdown",
   "metadata": {},
   "source": [
    "## Combine Dataset: Physician Shared Patients Shared Patterns"
   ]
  }
 ],
 "metadata": {
  "kernelspec": {
   "display_name": "Python 2",
   "language": "python",
   "name": "python2"
  },
  "language_info": {
   "codemirror_mode": {
    "name": "ipython",
    "version": 2
   },
   "file_extension": ".py",
   "mimetype": "text/x-python",
   "name": "python",
   "nbconvert_exporter": "python",
   "pygments_lexer": "ipython2",
   "version": "2.7.14"
  }
 },
 "nbformat": 4,
 "nbformat_minor": 2
}
