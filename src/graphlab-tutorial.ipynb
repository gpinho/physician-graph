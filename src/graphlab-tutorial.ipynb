{
 "cells": [
  {
   "cell_type": "code",
   "execution_count": 1,
   "metadata": {},
   "outputs": [],
   "source": [
    "import graphlab as gl\n",
    "import pandas as pd"
   ]
  },
  {
   "cell_type": "code",
   "execution_count": 2,
   "metadata": {},
   "outputs": [],
   "source": [
    "gl.canvas.set_target('ipynb')"
   ]
  },
  {
   "cell_type": "code",
   "execution_count": 3,
   "metadata": {},
   "outputs": [
    {
     "data": {
      "text/html": [
       "<div>\n",
       "<style scoped>\n",
       "    .dataframe tbody tr th:only-of-type {\n",
       "        vertical-align: middle;\n",
       "    }\n",
       "\n",
       "    .dataframe tbody tr th {\n",
       "        vertical-align: top;\n",
       "    }\n",
       "\n",
       "    .dataframe thead th {\n",
       "        text-align: right;\n",
       "    }\n",
       "</style>\n",
       "<table border=\"1\" class=\"dataframe\">\n",
       "  <thead>\n",
       "    <tr style=\"text-align: right;\">\n",
       "      <th></th>\n",
       "      <th>name</th>\n",
       "      <th>gender</th>\n",
       "      <th>license_to_kill</th>\n",
       "      <th>villian</th>\n",
       "    </tr>\n",
       "  </thead>\n",
       "  <tbody>\n",
       "    <tr>\n",
       "      <th>0</th>\n",
       "      <td>James Bond</td>\n",
       "      <td>M</td>\n",
       "      <td>1</td>\n",
       "      <td>0</td>\n",
       "    </tr>\n",
       "    <tr>\n",
       "      <th>1</th>\n",
       "      <td>M</td>\n",
       "      <td>M</td>\n",
       "      <td>1</td>\n",
       "      <td>0</td>\n",
       "    </tr>\n",
       "    <tr>\n",
       "      <th>2</th>\n",
       "      <td>Moneypenny</td>\n",
       "      <td>F</td>\n",
       "      <td>1</td>\n",
       "      <td>0</td>\n",
       "    </tr>\n",
       "    <tr>\n",
       "      <th>3</th>\n",
       "      <td>Q</td>\n",
       "      <td>M</td>\n",
       "      <td>1</td>\n",
       "      <td>0</td>\n",
       "    </tr>\n",
       "    <tr>\n",
       "      <th>4</th>\n",
       "      <td>Wai Lin</td>\n",
       "      <td>F</td>\n",
       "      <td>1</td>\n",
       "      <td>0</td>\n",
       "    </tr>\n",
       "  </tbody>\n",
       "</table>\n",
       "</div>"
      ],
      "text/plain": [
       "         name gender  license_to_kill  villian\n",
       "0  James Bond      M                1        0\n",
       "1           M      M                1        0\n",
       "2  Moneypenny      F                1        0\n",
       "3           Q      M                1        0\n",
       "4     Wai Lin      F                1        0"
      ]
     },
     "execution_count": 3,
     "metadata": {},
     "output_type": "execute_result"
    }
   ],
   "source": [
    "test1 = pd.read_csv('https://static.turi.com/datasets/bond/bond_vertices.csv')\n",
    "test1.head()"
   ]
  },
  {
   "cell_type": "code",
   "execution_count": 4,
   "metadata": {},
   "outputs": [
    {
     "data": {
      "text/html": [
       "<div>\n",
       "<style scoped>\n",
       "    .dataframe tbody tr th:only-of-type {\n",
       "        vertical-align: middle;\n",
       "    }\n",
       "\n",
       "    .dataframe tbody tr th {\n",
       "        vertical-align: top;\n",
       "    }\n",
       "\n",
       "    .dataframe thead th {\n",
       "        text-align: right;\n",
       "    }\n",
       "</style>\n",
       "<table border=\"1\" class=\"dataframe\">\n",
       "  <thead>\n",
       "    <tr style=\"text-align: right;\">\n",
       "      <th></th>\n",
       "      <th>src</th>\n",
       "      <th>dst</th>\n",
       "      <th>relation</th>\n",
       "    </tr>\n",
       "  </thead>\n",
       "  <tbody>\n",
       "    <tr>\n",
       "      <th>0</th>\n",
       "      <td>Wai Lin</td>\n",
       "      <td>James Bond</td>\n",
       "      <td>friend</td>\n",
       "    </tr>\n",
       "    <tr>\n",
       "      <th>1</th>\n",
       "      <td>M</td>\n",
       "      <td>James Bond</td>\n",
       "      <td>worksfor</td>\n",
       "    </tr>\n",
       "    <tr>\n",
       "      <th>2</th>\n",
       "      <td>Inga Bergstorm</td>\n",
       "      <td>James Bond</td>\n",
       "      <td>friend</td>\n",
       "    </tr>\n",
       "    <tr>\n",
       "      <th>3</th>\n",
       "      <td>Elliot Carver</td>\n",
       "      <td>James Bond</td>\n",
       "      <td>killed_by</td>\n",
       "    </tr>\n",
       "    <tr>\n",
       "      <th>4</th>\n",
       "      <td>Gotz Otto</td>\n",
       "      <td>James Bond</td>\n",
       "      <td>killed_by</td>\n",
       "    </tr>\n",
       "  </tbody>\n",
       "</table>\n",
       "</div>"
      ],
      "text/plain": [
       "              src         dst   relation\n",
       "0         Wai Lin  James Bond     friend\n",
       "1               M  James Bond   worksfor\n",
       "2  Inga Bergstorm  James Bond     friend\n",
       "3   Elliot Carver  James Bond  killed_by\n",
       "4       Gotz Otto  James Bond  killed_by"
      ]
     },
     "execution_count": 4,
     "metadata": {},
     "output_type": "execute_result"
    }
   ],
   "source": [
    "test2 = pd.read_csv('https://static.turi.com/datasets/bond/bond_edges.csv')\n",
    "test2.head()"
   ]
  },
  {
   "cell_type": "code",
   "execution_count": 5,
   "metadata": {},
   "outputs": [
    {
     "name": "stderr",
     "output_type": "stream",
     "text": [
      "[INFO] graphlab.cython.cy_server: GraphLab Create v2.1 started. Logging: /tmp/graphlab_server_1524787845.log\n"
     ]
    },
    {
     "name": "stdout",
     "output_type": "stream",
     "text": [
      "This non-commercial license of GraphLab Create for academic use is assigned to gpinho@gmail.com and will expire on April 26, 2019.\n"
     ]
    },
    {
     "data": {
      "text/html": [
       "<pre>Downloading https://static.turi.com/datasets/bond/bond_vertices.csv to /var/tmp/graphlab-gpinho/10067/44be7b32-737f-457b-a282-418a653e2e9e.csv</pre>"
      ],
      "text/plain": [
       "Downloading https://static.turi.com/datasets/bond/bond_vertices.csv to /var/tmp/graphlab-gpinho/10067/44be7b32-737f-457b-a282-418a653e2e9e.csv"
      ]
     },
     "metadata": {},
     "output_type": "display_data"
    },
    {
     "data": {
      "text/html": [
       "<pre>Finished parsing file https://static.turi.com/datasets/bond/bond_vertices.csv</pre>"
      ],
      "text/plain": [
       "Finished parsing file https://static.turi.com/datasets/bond/bond_vertices.csv"
      ]
     },
     "metadata": {},
     "output_type": "display_data"
    },
    {
     "data": {
      "text/html": [
       "<pre>Parsing completed. Parsed 10 lines in 0.041104 secs.</pre>"
      ],
      "text/plain": [
       "Parsing completed. Parsed 10 lines in 0.041104 secs."
      ]
     },
     "metadata": {},
     "output_type": "display_data"
    },
    {
     "name": "stdout",
     "output_type": "stream",
     "text": [
      "------------------------------------------------------\n",
      "Inferred types from first 100 line(s) of file as \n",
      "column_type_hints=[str,str,int,int]\n",
      "If parsing fails due to incorrect types, you can correct\n",
      "the inferred type list above and pass it to read_csv in\n",
      "the column_type_hints argument\n",
      "------------------------------------------------------\n"
     ]
    },
    {
     "data": {
      "text/html": [
       "<pre>Finished parsing file https://static.turi.com/datasets/bond/bond_vertices.csv</pre>"
      ],
      "text/plain": [
       "Finished parsing file https://static.turi.com/datasets/bond/bond_vertices.csv"
      ]
     },
     "metadata": {},
     "output_type": "display_data"
    },
    {
     "data": {
      "text/html": [
       "<pre>Parsing completed. Parsed 10 lines in 0.007734 secs.</pre>"
      ],
      "text/plain": [
       "Parsing completed. Parsed 10 lines in 0.007734 secs."
      ]
     },
     "metadata": {},
     "output_type": "display_data"
    },
    {
     "data": {
      "text/html": [
       "<pre>Downloading https://static.turi.com/datasets/bond/bond_edges.csv to /var/tmp/graphlab-gpinho/10067/4d06e6ff-3f2b-4fcd-828a-74971d5c9117.csv</pre>"
      ],
      "text/plain": [
       "Downloading https://static.turi.com/datasets/bond/bond_edges.csv to /var/tmp/graphlab-gpinho/10067/4d06e6ff-3f2b-4fcd-828a-74971d5c9117.csv"
      ]
     },
     "metadata": {},
     "output_type": "display_data"
    },
    {
     "data": {
      "text/html": [
       "<pre>Finished parsing file https://static.turi.com/datasets/bond/bond_edges.csv</pre>"
      ],
      "text/plain": [
       "Finished parsing file https://static.turi.com/datasets/bond/bond_edges.csv"
      ]
     },
     "metadata": {},
     "output_type": "display_data"
    },
    {
     "data": {
      "text/html": [
       "<pre>Parsing completed. Parsed 20 lines in 0.013723 secs.</pre>"
      ],
      "text/plain": [
       "Parsing completed. Parsed 20 lines in 0.013723 secs."
      ]
     },
     "metadata": {},
     "output_type": "display_data"
    },
    {
     "name": "stdout",
     "output_type": "stream",
     "text": [
      "------------------------------------------------------\n",
      "Inferred types from first 100 line(s) of file as \n",
      "column_type_hints=[str,str,str]\n",
      "If parsing fails due to incorrect types, you can correct\n",
      "the inferred type list above and pass it to read_csv in\n",
      "the column_type_hints argument\n",
      "------------------------------------------------------\n"
     ]
    },
    {
     "data": {
      "text/html": [
       "<pre>Finished parsing file https://static.turi.com/datasets/bond/bond_edges.csv</pre>"
      ],
      "text/plain": [
       "Finished parsing file https://static.turi.com/datasets/bond/bond_edges.csv"
      ]
     },
     "metadata": {},
     "output_type": "display_data"
    },
    {
     "data": {
      "text/html": [
       "<pre>Parsing completed. Parsed 20 lines in 0.007947 secs.</pre>"
      ],
      "text/plain": [
       "Parsing completed. Parsed 20 lines in 0.007947 secs."
      ]
     },
     "metadata": {},
     "output_type": "display_data"
    }
   ],
   "source": [
    "vertices = gl.SFrame.read_csv('https://static.turi.com/datasets/bond/bond_vertices.csv')\n",
    "edges = gl.SFrame.read_csv('https://static.turi.com/datasets/bond/bond_edges.csv')"
   ]
  },
  {
   "cell_type": "code",
   "execution_count": 6,
   "metadata": {},
   "outputs": [
    {
     "data": {
      "application/javascript": [
       "$(\"head\").append($(\"<link/>\").attr({\n",
       "  rel:  \"stylesheet\",\n",
       "  type: \"text/css\",\n",
       "  href: \"//cdnjs.cloudflare.com/ajax/libs/font-awesome/4.1.0/css/font-awesome.min.css\"\n",
       "}));\n",
       "$(\"head\").append($(\"<link/>\").attr({\n",
       "  rel:  \"stylesheet\",\n",
       "  type: \"text/css\",\n",
       "  href: \"https://static.turi.com/products/graphlab-create/2.1/canvas/css/canvas.css\"\n",
       "}));\n",
       "\n",
       "            (function(){\n",
       "\n",
       "                var e = null;\n",
       "                if (typeof element == 'undefined') {\n",
       "                    var scripts = document.getElementsByTagName('script');\n",
       "                    var thisScriptTag = scripts[scripts.length-1];\n",
       "                    var parentDiv = thisScriptTag.parentNode;\n",
       "                    e = document.createElement('div');\n",
       "                    parentDiv.appendChild(e);\n",
       "                } else {\n",
       "                    e = element[0];\n",
       "                }\n",
       "\n",
       "                if (typeof requirejs !== 'undefined') {\n",
       "                    // disable load timeout; ipython_app.js is large and can take a while to load.\n",
       "                    requirejs.config({waitSeconds: 0});\n",
       "                }\n",
       "\n",
       "                require(['https://static.turi.com/products/graphlab-create/2.1/canvas/js/ipython_app.js'], function(IPythonApp){\n",
       "                    var app = new IPythonApp();\n",
       "                    app.attachView('sframe','Summary', {\"ipython\": true, \"sketch\": {\"gender\": {\"complete\": true, \"numeric\": false, \"num_unique\": 2, \"num_undefined\": 0, \"progress\": 1.0, \"frequent_items\": {\"M\": {\"frequency\": 6, \"value\": \"M\"}, \"F\": {\"frequency\": 4, \"value\": \"F\"}}, \"size\": 10}, \"villian\": {\"std\": 0.48989794855663565, \"complete\": true, \"min\": 0.0, \"max\": 1.0, \"quantile\": [0.0, 0.0, 0.0, 0.0, 0.0, 0.0, 0.0, 0.0, 0.0, 0.0, 0.0, 0.0, 0.0, 0.0, 0.0, 0.0, 0.0, 0.0, 0.0, 0.0, 0.0, 0.0, 0.0, 0.0, 0.0, 0.0, 0.0, 0.0, 0.0, 0.0, 0.0, 0.0, 0.0, 0.0, 0.0, 0.0, 0.0, 0.0, 0.0, 0.0, 0.0, 0.0, 0.0, 0.0, 0.0, 0.0, 0.0, 0.0, 0.0, 0.0, 0.0, 0.0, 0.0, 0.0, 0.0, 0.0, 0.0, 0.0, 0.0, 0.0, 1.0, 1.0, 1.0, 1.0, 1.0, 1.0, 1.0, 1.0, 1.0, 1.0, 1.0, 1.0, 1.0, 1.0, 1.0, 1.0, 1.0, 1.0, 1.0, 1.0, 1.0, 1.0, 1.0, 1.0, 1.0, 1.0, 1.0, 1.0, 1.0, 1.0, 1.0, 1.0, 1.0, 1.0, 1.0, 1.0, 1.0, 1.0, 1.0, 1.0, 1.0], \"median\": 0.0, \"numeric\": true, \"num_unique\": 2, \"num_undefined\": 0, \"var\": 0.24000000000000005, \"progress\": 1.0, \"size\": 10, \"frequent_items\": {\"0\": {\"frequency\": 6, \"value\": 0}, \"1\": {\"frequency\": 4, \"value\": 1}}, \"mean\": 0.39999999999999997}, \"name\": {\"complete\": true, \"numeric\": false, \"num_unique\": 10, \"num_undefined\": 0, \"progress\": 1.0, \"frequent_items\": {\"Henry Gupta\": {\"frequency\": 1, \"value\": \"Henry Gupta\"}, \"Q\": {\"frequency\": 1, \"value\": \"Q\"}, \"Gotz Otto\": {\"frequency\": 1, \"value\": \"Gotz Otto\"}, \"M\": {\"frequency\": 1, \"value\": \"M\"}, \"James Bond\": {\"frequency\": 1, \"value\": \"James Bond\"}, \"Inga Bergstorm\": {\"frequency\": 1, \"value\": \"Inga Bergstorm\"}, \"Moneypenny\": {\"frequency\": 1, \"value\": \"Moneypenny\"}, \"Paris Carver\": {\"frequency\": 1, \"value\": \"Paris Carver\"}, \"Wai Lin\": {\"frequency\": 1, \"value\": \"Wai Lin\"}, \"Elliot Carver\": {\"frequency\": 1, \"value\": \"Elliot Carver\"}}, \"size\": 10}, \"license_to_kill\": {\"std\": 0.5, \"complete\": true, \"min\": 0.0, \"max\": 1.0, \"quantile\": [0.0, 0.0, 0.0, 0.0, 0.0, 0.0, 0.0, 0.0, 0.0, 0.0, 0.0, 0.0, 0.0, 0.0, 0.0, 0.0, 0.0, 0.0, 0.0, 0.0, 0.0, 0.0, 0.0, 0.0, 0.0, 0.0, 0.0, 0.0, 0.0, 0.0, 0.0, 0.0, 0.0, 0.0, 0.0, 0.0, 0.0, 0.0, 0.0, 0.0, 0.0, 0.0, 0.0, 0.0, 0.0, 0.0, 0.0, 0.0, 0.0, 0.0, 1.0, 1.0, 1.0, 1.0, 1.0, 1.0, 1.0, 1.0, 1.0, 1.0, 1.0, 1.0, 1.0, 1.0, 1.0, 1.0, 1.0, 1.0, 1.0, 1.0, 1.0, 1.0, 1.0, 1.0, 1.0, 1.0, 1.0, 1.0, 1.0, 1.0, 1.0, 1.0, 1.0, 1.0, 1.0, 1.0, 1.0, 1.0, 1.0, 1.0, 1.0, 1.0, 1.0, 1.0, 1.0, 1.0, 1.0, 1.0, 1.0, 1.0, 1.0], \"median\": 1.0, \"numeric\": true, \"num_unique\": 2, \"num_undefined\": 0, \"var\": 0.25, \"progress\": 1.0, \"size\": 10, \"frequent_items\": {\"0\": {\"frequency\": 5, \"value\": 0}, \"1\": {\"frequency\": 5, \"value\": 1}}, \"mean\": 0.5}}, \"selected_variable\": {\"name\": [\"vertices\"], \"descriptives\": {\"rows\": 10, \"columns\": 4}, \"view_component\": \"Summary\", \"view_file\": \"sframe\", \"view_params\": {\"y\": null, \"x\": null, \"columns\": [\"name\", \"gender\", \"license_to_kill\", \"villian\"], \"view\": null}, \"view_components\": [\"Summary\", \"Table\", \"Bar Chart\", \"BoxWhisker Plot\", \"Line Chart\", \"Scatter Plot\", \"Heat Map\", \"Plots\"], \"type\": \"SFrame\", \"columns\": [{\"dtype\": \"str\", \"name\": \"name\"}, {\"dtype\": \"str\", \"name\": \"gender\"}, {\"dtype\": \"int\", \"name\": \"license_to_kill\"}, {\"dtype\": \"int\", \"name\": \"villian\"}], \"column_identifiers\": [\"gender\", \"villian\", \"name\", \"license_to_kill\"]}, \"columns\": [{\"dtype\": \"str\", \"name\": \"name\"}, {\"dtype\": \"str\", \"name\": \"gender\"}, {\"dtype\": \"int\", \"name\": \"license_to_kill\"}, {\"dtype\": \"int\", \"name\": \"villian\"}]}, e);\n",
       "                });\n",
       "            })();\n",
       "        "
      ]
     },
     "metadata": {},
     "output_type": "display_data"
    }
   ],
   "source": [
    "vertices.show()"
   ]
  },
  {
   "cell_type": "code",
   "execution_count": 7,
   "metadata": {},
   "outputs": [
    {
     "data": {
      "application/javascript": [
       "$(\"head\").append($(\"<link/>\").attr({\n",
       "  rel:  \"stylesheet\",\n",
       "  type: \"text/css\",\n",
       "  href: \"//cdnjs.cloudflare.com/ajax/libs/font-awesome/4.1.0/css/font-awesome.min.css\"\n",
       "}));\n",
       "$(\"head\").append($(\"<link/>\").attr({\n",
       "  rel:  \"stylesheet\",\n",
       "  type: \"text/css\",\n",
       "  href: \"https://static.turi.com/products/graphlab-create/2.1/canvas/css/canvas.css\"\n",
       "}));\n",
       "\n",
       "            (function(){\n",
       "\n",
       "                var e = null;\n",
       "                if (typeof element == 'undefined') {\n",
       "                    var scripts = document.getElementsByTagName('script');\n",
       "                    var thisScriptTag = scripts[scripts.length-1];\n",
       "                    var parentDiv = thisScriptTag.parentNode;\n",
       "                    e = document.createElement('div');\n",
       "                    parentDiv.appendChild(e);\n",
       "                } else {\n",
       "                    e = element[0];\n",
       "                }\n",
       "\n",
       "                if (typeof requirejs !== 'undefined') {\n",
       "                    // disable load timeout; ipython_app.js is large and can take a while to load.\n",
       "                    requirejs.config({waitSeconds: 0});\n",
       "                }\n",
       "\n",
       "                require(['https://static.turi.com/products/graphlab-create/2.1/canvas/js/ipython_app.js'], function(IPythonApp){\n",
       "                    var app = new IPythonApp();\n",
       "                    app.attachView('sframe','Summary', {\"ipython\": true, \"sketch\": {\"src\": {\"complete\": true, \"numeric\": false, \"num_unique\": 10, \"num_undefined\": 0, \"progress\": 1.0, \"frequent_items\": {\"Henry Gupta\": {\"frequency\": 1, \"value\": \"Henry Gupta\"}, \"Moneypenny\": {\"frequency\": 2, \"value\": \"Moneypenny\"}, \"Wai Lin\": {\"frequency\": 1, \"value\": \"Wai Lin\"}, \"M\": {\"frequency\": 3, \"value\": \"M\"}, \"James Bond\": {\"frequency\": 3, \"value\": \"James Bond\"}, \"Inga Bergstorm\": {\"frequency\": 1, \"value\": \"Inga Bergstorm\"}, \"Q\": {\"frequency\": 2, \"value\": \"Q\"}, \"Paris Carver\": {\"frequency\": 2, \"value\": \"Paris Carver\"}, \"Gotz Otto\": {\"frequency\": 1, \"value\": \"Gotz Otto\"}, \"Elliot Carver\": {\"frequency\": 4, \"value\": \"Elliot Carver\"}}, \"size\": 20}, \"dst\": {\"complete\": true, \"numeric\": false, \"num_unique\": 10, \"num_undefined\": 0, \"progress\": 1.0, \"frequent_items\": {\"Henry Gupta\": {\"frequency\": 1, \"value\": \"Henry Gupta\"}, \"Q\": {\"frequency\": 2, \"value\": \"Q\"}, \"Gotz Otto\": {\"frequency\": 1, \"value\": \"Gotz Otto\"}, \"M\": {\"frequency\": 3, \"value\": \"M\"}, \"James Bond\": {\"frequency\": 5, \"value\": \"James Bond\"}, \"Inga Bergstorm\": {\"frequency\": 1, \"value\": \"Inga Bergstorm\"}, \"Moneypenny\": {\"frequency\": 2, \"value\": \"Moneypenny\"}, \"Paris Carver\": {\"frequency\": 1, \"value\": \"Paris Carver\"}, \"Wai Lin\": {\"frequency\": 1, \"value\": \"Wai Lin\"}, \"Elliot Carver\": {\"frequency\": 3, \"value\": \"Elliot Carver\"}}, \"size\": 20}, \"relation\": {\"complete\": true, \"numeric\": false, \"num_unique\": 6, \"num_undefined\": 0, \"progress\": 1.0, \"frequent_items\": {\"colleague\": {\"frequency\": 2, \"value\": \"colleague\"}, \"killed_by\": {\"frequency\": 4, \"value\": \"killed_by\"}, \"worksfor\": {\"frequency\": 5, \"value\": \"worksfor\"}, \"managed_by\": {\"frequency\": 3, \"value\": \"managed_by\"}, \"engagedto\": {\"frequency\": 2, \"value\": \"engagedto\"}, \"friend\": {\"frequency\": 4, \"value\": \"friend\"}}, \"size\": 20}}, \"selected_variable\": {\"name\": [\"edges\"], \"descriptives\": {\"rows\": 20, \"columns\": 3}, \"view_component\": \"Summary\", \"view_file\": \"sframe\", \"view_params\": {\"y\": null, \"x\": null, \"columns\": [\"src\", \"dst\", \"relation\"], \"view\": null}, \"view_components\": [\"Summary\", \"Table\", \"Bar Chart\", \"BoxWhisker Plot\", \"Line Chart\", \"Scatter Plot\", \"Heat Map\", \"Plots\"], \"type\": \"SFrame\", \"columns\": [{\"dtype\": \"str\", \"name\": \"src\"}, {\"dtype\": \"str\", \"name\": \"dst\"}, {\"dtype\": \"str\", \"name\": \"relation\"}], \"column_identifiers\": [\"src\", \"dst\", \"relation\"]}, \"columns\": [{\"dtype\": \"str\", \"name\": \"src\"}, {\"dtype\": \"str\", \"name\": \"dst\"}, {\"dtype\": \"str\", \"name\": \"relation\"}]}, e);\n",
       "                });\n",
       "            })();\n",
       "        "
      ]
     },
     "metadata": {},
     "output_type": "display_data"
    }
   ],
   "source": [
    "edges.show()"
   ]
  },
  {
   "cell_type": "code",
   "execution_count": 8,
   "metadata": {},
   "outputs": [],
   "source": [
    "g = gl.SGraph()"
   ]
  },
  {
   "cell_type": "code",
   "execution_count": 9,
   "metadata": {},
   "outputs": [],
   "source": [
    "g = g.add_vertices(vertices=vertices, vid_field='name')"
   ]
  },
  {
   "cell_type": "code",
   "execution_count": 10,
   "metadata": {},
   "outputs": [],
   "source": [
    "g = g.add_edges(edges=edges, src_field='src', dst_field='dst')"
   ]
  },
  {
   "cell_type": "code",
   "execution_count": null,
   "metadata": {},
   "outputs": [],
   "source": [
    "g.get_vertices()"
   ]
  },
  {
   "cell_type": "code",
   "execution_count": null,
   "metadata": {},
   "outputs": [],
   "source": [
    "g.get_edges()"
   ]
  },
  {
   "cell_type": "code",
   "execution_count": null,
   "metadata": {},
   "outputs": [],
   "source": [
    "g.get_edges(fields={'relation': 'friend'})"
   ]
  },
  {
   "cell_type": "code",
   "execution_count": null,
   "metadata": {},
   "outputs": [],
   "source": [
    "pr = gl.pagerank.create(g)"
   ]
  },
  {
   "cell_type": "code",
   "execution_count": null,
   "metadata": {},
   "outputs": [],
   "source": [
    "pr.get('pagerank').topk(column_name='pagerank')"
   ]
  },
  {
   "cell_type": "code",
   "execution_count": null,
   "metadata": {},
   "outputs": [],
   "source": [
    "data = gl.SFrame.read_csv(\"https://static.turi.com/datasets/movie_ratings/training_data.csv\", column_type_hints={\"rating\":int})\n",
    "data.head()"
   ]
  },
  {
   "cell_type": "code",
   "execution_count": null,
   "metadata": {},
   "outputs": [],
   "source": [
    "model = gl.recommender.create(data, user_id='user', item_id='movie', target='rating')"
   ]
  },
  {
   "cell_type": "code",
   "execution_count": null,
   "metadata": {},
   "outputs": [],
   "source": [
    "results = model.recommend(users=['Jacob Smith'], k=100)\n",
    "results.head(100)"
   ]
  },
  {
   "cell_type": "code",
   "execution_count": null,
   "metadata": {},
   "outputs": [],
   "source": [
    "model.save('graphlab-tutorial')"
   ]
  },
  {
   "cell_type": "code",
   "execution_count": null,
   "metadata": {},
   "outputs": [],
   "source": [
    "loaded_model = gl.load_model('graphlab-tutorial')"
   ]
  },
  {
   "cell_type": "code",
   "execution_count": null,
   "metadata": {},
   "outputs": [],
   "source": [
    "type(loaded_model)"
   ]
  }
 ],
 "metadata": {
  "kernelspec": {
   "display_name": "Python 2",
   "language": "python",
   "name": "python2"
  },
  "language_info": {
   "codemirror_mode": {
    "name": "ipython",
    "version": 2
   },
   "file_extension": ".py",
   "mimetype": "text/x-python",
   "name": "python",
   "nbconvert_exporter": "python",
   "pygments_lexer": "ipython2",
   "version": "2.7.14"
  }
 },
 "nbformat": 4,
 "nbformat_minor": 2
}
