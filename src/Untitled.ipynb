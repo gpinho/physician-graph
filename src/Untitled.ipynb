{
 "cells": [
  {
   "cell_type": "code",
   "execution_count": 1,
   "metadata": {},
   "outputs": [
    {
     "name": "stdout",
     "output_type": "stream",
     "text": [
      "eda.ipynb                                        pipeline_store_datasets.py\r\n",
      "NPI.ipynb                                        \u001b[0m\u001b[01;34m__pycache__\u001b[0m/\r\n",
      "physician-shared-patient-patterns-2009-2010.csv  Referral.ipynb\r\n",
      "pipeline_physician_npi.py                        Taxonomy.ipynb\r\n",
      "pipeline_physician_referral.py                   testing-combine-referral.csv\r\n",
      "pipeline.py                                      Untitled.ipynb\r\n",
      "pipeline_specialty_taxonomy.py\r\n"
     ]
    }
   ],
   "source": [
    "ls"
   ]
  },
  {
   "cell_type": "code",
   "execution_count": 4,
   "metadata": {},
   "outputs": [
    {
     "name": "stdout",
     "output_type": "stream",
     "text": [
      "Initial Physician NPI,Secondary Physician NPI,Number Unique Beneficiaries_2009,Number Unique Beneficiaries_2010\r\n",
      "6073299,1104875103,11.0,\r\n"
     ]
    }
   ],
   "source": [
    "dtype={'Initial Physician NPI':str, 'Secondary Physician NPI':str, 'Number Unique Beneficiaries':np.int32}"
   ]
  },
  {
   "cell_type": "code",
   "execution_count": 5,
   "metadata": {},
   "outputs": [
    {
     "name": "stdout",
     "output_type": "stream",
     "text": [
      "4662871566"
     ]
    }
   ],
   "source": [
    "!stat --printf=\"%s\" physician-shared-patient-patterns-2009-2010.csv"
   ]
  },
  {
   "cell_type": "code",
   "execution_count": 6,
   "metadata": {},
   "outputs": [],
   "source": [
    "import pandas as pd"
   ]
  },
  {
   "cell_type": "code",
   "execution_count": null,
   "metadata": {},
   "outputs": [],
   "source": [
    "pd.read_csv()"
   ]
  }
 ],
 "metadata": {
  "kernelspec": {
   "display_name": "Python 3",
   "language": "python",
   "name": "python3"
  },
  "language_info": {
   "codemirror_mode": {
    "name": "ipython",
    "version": 3
   },
   "file_extension": ".py",
   "mimetype": "text/x-python",
   "name": "python",
   "nbconvert_exporter": "python",
   "pygments_lexer": "ipython3",
   "version": "3.6.4"
  }
 },
 "nbformat": 4,
 "nbformat_minor": 2
}
